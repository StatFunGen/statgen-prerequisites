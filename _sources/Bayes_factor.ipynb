{
 "cells": [
  {
   "cell_type": "markdown",
   "id": "1f8e41cf",
   "metadata": {},
   "source": [
    "# Bayes Factor\n",
    "\n",
    "The Bayes factor is the ratio of two marginal likelihoods; that is, the likelihoods of two statistical models integrated over the prior probabilities of their parameters."
   ]
  },
  {
   "cell_type": "markdown",
   "id": "a99dda04",
   "metadata": {},
   "source": [
    "# Graphical Summary"
   ]
  },
  {
   "cell_type": "markdown",
   "id": "8953dfda",
   "metadata": {},
   "source": [
    "![Fig](./graphical_summary/slides/Slide23.png)"
   ]
  },
  {
   "cell_type": "markdown",
   "id": "0389d462",
   "metadata": {},
   "source": [
    "# Key Formula\n",
    "\n",
    "Given a model selection problem in which one wishes to choose between two models on the basis of observed data $\\text{D}$, the plausibility of the two different models $\\text{M}_1$ and $\\text{M}_2$, parametrised by model parameter vectors $\\theta_1$ and $\\theta_2$, is assessed by the Bayes factor $\\text{BF}$ given by:\n",
    "$$\n",
    "\\text{BF}_{21} = \\frac{L(\\text{M}_2|\\text{D})}{L(\\text{M}_1|\\text{D})} ={\\frac {\\int \\Pr(\\theta_{2}|M_{2})\\Pr(D|\\theta_{2},M_{2})\\,d\\theta _{2}}{\\int \\Pr(\\theta_{1}|M_{1})\\Pr(D|\\theta_{1},M_{1})\\,d\\theta _{1}}}\n",
    "$$"
   ]
  },
  {
   "cell_type": "markdown",
   "id": "12ec5448",
   "metadata": {},
   "source": [
    "# Technical Details\n",
    "\n",
    "- If instead of the Bayes factor integral, the likelihood corresponding to the maximum likelihood estimate (MLE) of the parameter for each statistical model is used, then the test becomes a classical likelihood-ratio test. The likelihood at the MLE is just a point estimate of the Bayes factor numerator and denominator, respectively. \n",
    "- Unlike a likelihood-ratio test (LRT), this Bayesian model comparison **does not depend on any single set of parameters, as it integrates over all parameters in each model (with respect to the respective priors)**. \n",
    "- Therefore, **likelihood ratio** can be considered as a **special case of Bayesian analysis** with a contrived prior that's hard to get at. \n",
    "- An advantage of the use of Bayes factors is that it automatically, and quite naturally, includes a penalty for including too much model structure. It thus guards against overfitting. For models where an explicit version of the likelihood is not available or too costly to evaluate numerically, approximate Bayesian computation can be used for model selection in a Bayesian framework, with the caveat that approximate-Bayesian estimates of Bayes factors are often biased."
   ]
  },
  {
   "cell_type": "markdown",
   "id": "2bc3b035",
   "metadata": {},
   "source": [
    "# Related Topics\n",
    "\n",
    "- [OLS](https://gaow.github.io/statgen-prerequisites/ordinary_least_squares.html)\n",
    "- [summary statistics](https://gaow.github.io/statgen-prerequisites/summary_statistics.html)\n",
    "- [likelihood](https://gaow.github.io/statgen-prerequisites/likelihood.html)\n",
    "- [likelihood ratio](https://gaow.github.io/statgen-prerequisites/likelihood_ratio.html)\n",
    "- [maximum likelihood estimation](https://gaow.github.io/statgen-prerequisites/maximum_likelihood_estimation.html)"
   ]
  },
  {
   "cell_type": "markdown",
   "id": "0ed385ec",
   "metadata": {},
   "source": [
    "# Example"
   ]
  },
  {
   "cell_type": "markdown",
   "id": "77089b56",
   "metadata": {},
   "source": [
    "We will use the same genetic example from the [likelihood](https://gaow.github.io/statgen-prerequisites/likelihood.html), and recall the concepts of MLE as we did in Example 2 in [maximum likelihood estimation](https://gaow.github.io/statgen-prerequisites/maximum_likelihood_estimation.html). The new thing in this notebook is that we will use Bayes factors to compare composite models:\n",
    "- Model 2 or 3: either a moderate or strong effect\n",
    "- Model 4: the best-fitting effect from MLE that we derived in [maximum likelihood estimation](https://gaow.github.io/statgen-prerequisites/maximum_likelihood_estimation.html)\n",
    "\n",
    "This shows how Bayes factors extend likelihood analysis from comparing separate models (i.e., likelihood ratio) to weighing evidence for complex scientific theories."
   ]
  },
  {
   "cell_type": "markdown",
   "id": "21140cd6",
   "metadata": {},
   "source": [
    "## Model Setup"
   ]
  },
  {
   "cell_type": "code",
   "execution_count": 89,
   "id": "2c4eea80",
   "metadata": {
    "vscode": {
     "languageId": "r"
    }
   },
   "outputs": [],
   "source": [
    "# Clear the environment\n",
    "rm(list = ls())\n",
    "set.seed(19)  # For reproducibility\n",
    "\n",
    "# Generate genotype data for 5 individuals at 1 variant\n",
    "N <- 5\n",
    "genotypes <- c(\"CC\", \"CT\", \"TT\", \"CT\", \"CC\")  # Individual genotypes\n",
    "names(genotypes) <- paste(\"Individual\", 1:N)\n",
    "\n",
    "# Define alternative allele\n",
    "alt_allele <- \"T\"\n",
    "\n",
    "# Convert to additive genotype coding (count of alternative alleles)\n",
    "Xraw_additive <- numeric(N)\n",
    "for (i in 1:N) {\n",
    "  alleles <- strsplit(genotypes[i], \"\")[[1]]\n",
    "  Xraw_additive[i] <- sum(alleles == alt_allele)\n",
    "}\n",
    "names(Xraw_additive) <- names(genotypes)\n",
    "\n",
    "# Standardize genotypes\n",
    "X <- scale(Xraw_additive, center = TRUE, scale = TRUE)[,1]\n",
    "\n",
    "# Set true beta and generate phenotype data\n",
    "true_beta <- 0.4\n",
    "true_sd <- 1.0\n",
    "\n",
    "# Generate phenotype with true effect\n",
    "Y <- X * true_beta + rnorm(N, 0, true_sd)"
   ]
  },
  {
   "cell_type": "markdown",
   "id": "1759a7d4",
   "metadata": {},
   "source": [
    "## Compute Likelihood and Log-likelihood"
   ]
  },
  {
   "cell_type": "markdown",
   "id": "3d622377",
   "metadata": {},
   "source": [
    "Now, let's create two functions to compute the likelihood and log-likelihood under different models (in this case, different βs) for the effect of a genetic variant on the phenotype:\n"
   ]
  },
  {
   "cell_type": "code",
   "execution_count": 90,
   "id": "67357e98",
   "metadata": {
    "vscode": {
     "languageId": "r"
    }
   },
   "outputs": [],
   "source": [
    "# Likelihood function for normal distribution\n",
    "likelihood <- function(beta, sd, X, Y) {\n",
    "  # Calculate expected values under the model\n",
    "  mu <- X * beta\n",
    "  \n",
    "  # Calculate likelihood (product of normal densities)\n",
    "  prod(dnorm(Y, mean = mu, sd = sd, log = FALSE))\n",
    "}\n",
    "\n",
    "# Log-likelihood function (more numerically stable)\n",
    "log_likelihood <- function(beta, sd, X, Y) {\n",
    "  # Calculate expected values under the model\n",
    "  mu <- X * beta\n",
    "  \n",
    "  # Calculate log-likelihood (sum of log normal densities)\n",
    "  sum(dnorm(Y, mean = mu, sd = sd, log = TRUE))\n",
    "}"
   ]
  },
  {
   "cell_type": "code",
   "execution_count": 91,
   "id": "aedc4cf5",
   "metadata": {
    "vscode": {
     "languageId": "r"
    }
   },
   "outputs": [
    {
     "name": "stdout",
     "output_type": "stream",
     "text": [
      "[1] \"Likelihood and Log-Likelihood Results:\"\n"
     ]
    },
    {
     "data": {
      "text/html": [
       "<table class=\"dataframe\">\n",
       "<caption>A data.frame: 3 x 4</caption>\n",
       "<thead>\n",
       "\t<tr><th scope=col>Model</th><th scope=col>Beta</th><th scope=col>Likelihood</th><th scope=col>Log_Likelihood</th></tr>\n",
       "\t<tr><th scope=col>&lt;chr&gt;</th><th scope=col>&lt;dbl&gt;</th><th scope=col>&lt;dbl&gt;</th><th scope=col>&lt;dbl&gt;</th></tr>\n",
       "</thead>\n",
       "<tbody>\n",
       "\t<tr><td>Model 1 (beta = 0)  </td><td>0.0</td><td>0.0019210299</td><td>-6.254894</td></tr>\n",
       "\t<tr><td>Model 2 (beta = 0.5)</td><td>0.5</td><td>0.0021961524</td><td>-6.121048</td></tr>\n",
       "\t<tr><td>Model 3 (beta = 1)  </td><td>1.0</td><td>0.0009236263</td><td>-6.987203</td></tr>\n",
       "</tbody>\n",
       "</table>\n"
      ],
      "text/latex": [
       "A data.frame: 3 x 4\n",
       "\\begin{tabular}{llll}\n",
       " Model & Beta & Likelihood & Log\\_Likelihood\\\\\n",
       " <chr> & <dbl> & <dbl> & <dbl>\\\\\n",
       "\\hline\n",
       "\t Model 1 (beta = 0)   & 0.0 & 0.0019210299 & -6.254894\\\\\n",
       "\t Model 2 (beta = 0.5) & 0.5 & 0.0021961524 & -6.121048\\\\\n",
       "\t Model 3 (beta = 1)   & 1.0 & 0.0009236263 & -6.987203\\\\\n",
       "\\end{tabular}\n"
      ],
      "text/markdown": [
       "\n",
       "A data.frame: 3 x 4\n",
       "\n",
       "| Model &lt;chr&gt; | Beta &lt;dbl&gt; | Likelihood &lt;dbl&gt; | Log_Likelihood &lt;dbl&gt; |\n",
       "|---|---|---|---|\n",
       "| Model 1 (beta = 0)   | 0.0 | 0.0019210299 | -6.254894 |\n",
       "| Model 2 (beta = 0.5) | 0.5 | 0.0021961524 | -6.121048 |\n",
       "| Model 3 (beta = 1)   | 1.0 | 0.0009236263 | -6.987203 |\n",
       "\n"
      ],
      "text/plain": [
       "  Model                Beta Likelihood   Log_Likelihood\n",
       "1 Model 1 (beta = 0)   0.0  0.0019210299 -6.254894     \n",
       "2 Model 2 (beta = 0.5) 0.5  0.0021961524 -6.121048     \n",
       "3 Model 3 (beta = 1)   1.0  0.0009236263 -6.987203     "
      ]
     },
     "metadata": {},
     "output_type": "display_data"
    }
   ],
   "source": [
    "# Test three different models with different beta values\n",
    "beta_values <- c(0, 0.5, 1.0)  # Three different effect sizes to test\n",
    "model_names <- paste0(\"Model \", 1:3, \" (beta = \", beta_values, \")\")\n",
    "\n",
    "# Calculate likelihoods and log-likelihoods\n",
    "results <- data.frame(\n",
    "  Model = model_names,\n",
    "  Beta = beta_values,\n",
    "  Likelihood = numeric(3),\n",
    "  Log_Likelihood = numeric(3)\n",
    ")\n",
    "\n",
    "for (i in 1:3) {\n",
    "  results$Likelihood[i] <- likelihood(beta = beta_values[i], sd = true_sd, X = X, Y = Y)\n",
    "  results$Log_Likelihood[i] <- log_likelihood(beta = beta_values[i], sd = true_sd, X = X, Y = Y)\n",
    "}\n",
    "\n",
    "print(\"Likelihood and Log-Likelihood Results:\")\n",
    "results"
   ]
  },
  {
   "cell_type": "markdown",
   "id": "a029a481",
   "metadata": {},
   "source": [
    "## Maximum Likelihood Estimation"
   ]
  },
  {
   "cell_type": "code",
   "execution_count": 92,
   "id": "ae04ac8f",
   "metadata": {
    "vscode": {
     "languageId": "r"
    }
   },
   "outputs": [
    {
     "name": "stdout",
     "output_type": "stream",
     "text": [
      "Maximum Likelihood Estimate (MLE):\n",
      "Beta_MLE = 0.3169 \n",
      "Log-likelihood at MLE = -6.054 "
     ]
    }
   ],
   "source": [
    "# Find the MLE by optimizing the log-likelihood function\n",
    "mle_result <- optimize(log_likelihood, \n",
    "                       interval = c(-2, 2),  # Search range for beta\n",
    "                       maximum = TRUE,       # We want to maximize\n",
    "                       sd = true_sd, \n",
    "                       X = X, \n",
    "                       Y = Y)\n",
    "\n",
    "beta_mle <- mle_result$maximum\n",
    "log_lik_mle <- mle_result$objective\n",
    "\n",
    "cat(\"Maximum Likelihood Estimate (MLE):\\n\")\n",
    "cat(\"Beta_MLE =\", round(beta_mle, 4), \"\\n\")\n",
    "cat(\"Log-likelihood at MLE =\", round(log_lik_mle, 4), \"\")\n",
    "\n",
    "# Compare MLE to Model 1 (beta = 0)\n",
    "beta_null <- 0\n",
    "log_lik_null <- log_likelihood(beta = beta_null, sd = true_sd, X = X, Y = Y)\n",
    "lik_null <- likelihood(beta = beta_null, sd = true_sd, X = X, Y = Y)\n",
    "lik_mle <- likelihood(beta = beta_mle, sd = true_sd, X = X, Y = Y)\n",
    "\n",
    "# Calculate likelihood ratio: MLE vs Null model\n",
    "lr_mle_vs_null <- lik_mle / lik_null\n",
    "log_lr_mle_vs_null <- log_lik_mle - log_lik_null"
   ]
  },
  {
   "cell_type": "markdown",
   "id": "66dc04f4",
   "metadata": {},
   "source": [
    "MLE gives a point estimate and we append it to the results table:"
   ]
  },
  {
   "cell_type": "code",
   "execution_count": 93,
   "id": "9778da74",
   "metadata": {
    "vscode": {
     "languageId": "r"
    }
   },
   "outputs": [
    {
     "data": {
      "text/html": [
       "<table class=\"dataframe\">\n",
       "<caption>A data.frame: 4 x 4</caption>\n",
       "<thead>\n",
       "\t<tr><th></th><th scope=col>Model</th><th scope=col>Beta</th><th scope=col>Likelihood</th><th scope=col>Log_Likelihood</th></tr>\n",
       "\t<tr><th></th><th scope=col>&lt;chr&gt;</th><th scope=col>&lt;dbl&gt;</th><th scope=col>&lt;dbl&gt;</th><th scope=col>&lt;dbl&gt;</th></tr>\n",
       "</thead>\n",
       "<tbody>\n",
       "\t<tr><th scope=row>1</th><td>Model 1 (beta = 0)   </td><td>0.0000000</td><td>0.0019210299</td><td>-6.254894</td></tr>\n",
       "\t<tr><th scope=row>2</th><td>Model 2 (beta = 0.5) </td><td>0.5000000</td><td>0.0021961524</td><td>-6.121048</td></tr>\n",
       "\t<tr><th scope=row>3</th><td>Model 3 (beta = 1)   </td><td>1.0000000</td><td>0.0009236263</td><td>-6.987203</td></tr>\n",
       "\t<tr><th scope=row>4</th><td>Model 4(beta = 0.317)</td><td>0.3169227</td><td>0.0023484170</td><td>-6.054014</td></tr>\n",
       "</tbody>\n",
       "</table>\n"
      ],
      "text/latex": [
       "A data.frame: 4 x 4\n",
       "\\begin{tabular}{r|llll}\n",
       "  & Model & Beta & Likelihood & Log\\_Likelihood\\\\\n",
       "  & <chr> & <dbl> & <dbl> & <dbl>\\\\\n",
       "\\hline\n",
       "\t1 & Model 1 (beta = 0)    & 0.0000000 & 0.0019210299 & -6.254894\\\\\n",
       "\t2 & Model 2 (beta = 0.5)  & 0.5000000 & 0.0021961524 & -6.121048\\\\\n",
       "\t3 & Model 3 (beta = 1)    & 1.0000000 & 0.0009236263 & -6.987203\\\\\n",
       "\t4 & Model 4(beta = 0.317) & 0.3169227 & 0.0023484170 & -6.054014\\\\\n",
       "\\end{tabular}\n"
      ],
      "text/markdown": [
       "\n",
       "A data.frame: 4 x 4\n",
       "\n",
       "| <!--/--> | Model &lt;chr&gt; | Beta &lt;dbl&gt; | Likelihood &lt;dbl&gt; | Log_Likelihood &lt;dbl&gt; |\n",
       "|---|---|---|---|---|\n",
       "| 1 | Model 1 (beta = 0)    | 0.0000000 | 0.0019210299 | -6.254894 |\n",
       "| 2 | Model 2 (beta = 0.5)  | 0.5000000 | 0.0021961524 | -6.121048 |\n",
       "| 3 | Model 3 (beta = 1)    | 1.0000000 | 0.0009236263 | -6.987203 |\n",
       "| 4 | Model 4(beta = 0.317) | 0.3169227 | 0.0023484170 | -6.054014 |\n",
       "\n"
      ],
      "text/plain": [
       "  Model                 Beta      Likelihood   Log_Likelihood\n",
       "1 Model 1 (beta = 0)    0.0000000 0.0019210299 -6.254894     \n",
       "2 Model 2 (beta = 0.5)  0.5000000 0.0021961524 -6.121048     \n",
       "3 Model 3 (beta = 1)    1.0000000 0.0009236263 -6.987203     \n",
       "4 Model 4(beta = 0.317) 0.3169227 0.0023484170 -6.054014     "
      ]
     },
     "metadata": {},
     "output_type": "display_data"
    }
   ],
   "source": [
    "new_row = nrow(results)+1\n",
    "results[new_row, ] <- NA\n",
    "\n",
    "results$Model[new_row] <- paste0(\"Model \", new_row, \"(beta = \", round(beta_mle, 3), \")\")\n",
    "results$Beta[new_row] <- beta_mle\n",
    "results$Likelihood[new_row] <- lik_mle\n",
    "results$Log_Likelihood[new_row] <- log_lik_mle\n",
    "\n",
    "results"
   ]
  },
  {
   "cell_type": "markdown",
   "id": "b1824530",
   "metadata": {},
   "source": [
    "## Bayes Factor\n",
    "\n",
    "Now let's calculate Bayes factors by assigning prior probabilities to our models. Let's try to answer the question, is the plausibility of Model 2 and 3 together more than MLE?"
   ]
  },
  {
   "cell_type": "code",
   "execution_count": 95,
   "id": "a5e09102",
   "metadata": {
    "vscode": {
     "languageId": "r"
    }
   },
   "outputs": [],
   "source": [
    "# Define priors for Models 2 and 3 (equal weights)\n",
    "prior_2 <- 0.5  # P(Model 2)\n",
    "prior_3 <- 0.5  # P(Model 3)\n",
    "\n",
    "# Calculate weighted likelihood for combined \"non-null\" hypothesis\n",
    "# P(Data | H_alt) = P(Data | Model 2) × P(Model 2) + P(Data | Model 3) × P(Model 3)\n",
    "likelihood_2 <- results$Likelihood[2]  # beta = 0.5\n",
    "likelihood_3 <- results$Likelihood[3]  # beta = 1.0\n",
    "likelihood_1 <- results$Likelihood[1]  # beta = 0\n",
    "\n",
    "# Marginal likelihood under Model 2 + Model 3 (weighted average)\n",
    "marginal_lik_23 <- likelihood_2 * prior_2 + likelihood_3 * prior_3\n"
   ]
  },
  {
   "cell_type": "markdown",
   "id": "ee4b1f14",
   "metadata": {},
   "source": [
    "Then the Bayes factor is:"
   ]
  },
  {
   "cell_type": "code",
   "execution_count": 88,
   "id": "bc30c6c3",
   "metadata": {
    "vscode": {
     "languageId": "r"
    }
   },
   "outputs": [
    {
     "data": {
      "text/html": [
       "0.66423013937647"
      ],
      "text/latex": [
       "0.66423013937647"
      ],
      "text/markdown": [
       "0.66423013937647"
      ],
      "text/plain": [
       "[1] 0.6642301"
      ]
     },
     "metadata": {},
     "output_type": "display_data"
    }
   ],
   "source": [
    "bf_23_vs_mle <- marginal_lik_23 / results$Likelihood[4]\n",
    "bf_23_vs_mle"
   ]
  },
  {
   "cell_type": "markdown",
   "id": "26d2e05d",
   "metadata": {},
   "source": [
    "The Bayes factor of 0.66 indicates that the MLE model has stronger evidence than the combined Models 2+3 hypothesis. In other words, the data supports the precise MLE estimate ($\\beta \\approx 0.4$) about 1.5 times more than the composite hypothesis that the effect is either moderate ($\\beta \\approx 0.5$) or strong ($\\beta \\approx 1.0$). This makes intuitive sense because the MLE estimate is closer to the true value ($\\beta = 0.4$) than either of the fixed alternatives, demonstrating how the flexibility of MLE can outperform pre-specified model choices when the true parameter falls between them."
   ]
  },
  {
   "cell_type": "markdown",
   "id": "3ef96a0d",
   "metadata": {},
   "source": []
  }
 ],
 "metadata": {
  "kernelspec": {
   "display_name": "R",
   "language": "R",
   "name": "ir"
  },
  "language_info": {
   "codemirror_mode": "r",
   "file_extension": ".r",
   "mimetype": "text/x-r-source",
   "name": "R",
   "pygments_lexer": "r",
   "version": "4.3.3"
  }
 },
 "nbformat": 4,
 "nbformat_minor": 5
}
