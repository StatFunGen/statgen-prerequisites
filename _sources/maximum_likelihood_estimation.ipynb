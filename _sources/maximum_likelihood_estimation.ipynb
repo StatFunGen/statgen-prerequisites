{
 "cells": [
  {
   "cell_type": "markdown",
   "id": "1f8e41cf",
   "metadata": {},
   "source": [
    "# Intuitional Description\n",
    "\n",
    "Maximum likelihood estimation identifies the parameter values that maximize the probability of observing your actual data, essentially asking \"which model settings would make what we actually saw most likely to occur?\""
   ]
  },
  {
   "cell_type": "markdown",
   "id": "a99dda04",
   "metadata": {},
   "source": [
    "# Graphical Summary"
   ]
  },
  {
   "cell_type": "markdown",
   "id": "3e69e867",
   "metadata": {},
   "source": [
    "![fig](./cartoons/maximum_likelihood_estimation.svg)"
   ]
  },
  {
   "cell_type": "markdown",
   "id": "0389d462",
   "metadata": {},
   "source": [
    "# Key Formula\n",
    "\n",
    "In statistics, maximum likelihood estimation (MLE) is a method of estimating the parameters of an assumed probability distribution, given some observed data. This is achieved by maximizing the likelihood function ($L(\\theta|\\text{D}) = P(\\theta|\\text{D})$) so that, under the assumed statistical model, the observed data is most probable. \n",
    "\n",
    "The goal of maximum likelihood estimation is to find the values of the model parameters (e.g., $\\theta$) that maximize the likelihood function over the parameter space (e.g., $\\Theta$), that is:\n",
    "$$\n",
    "\\hat{\\theta} = \\underset{\\theta \\in \\Theta}{\\operatorname{argmax}} L(\\theta|D) = \\underset{\\theta \\in \\Theta}{\\operatorname{argmax}} P(D|\\theta)\n",
    "$$"
   ]
  },
  {
   "cell_type": "markdown",
   "id": "12ec5448",
   "metadata": {},
   "source": [
    "# Technical Details\n",
    "\n",
    "## Work with Log-Likelihood\n",
    "\n",
    "In practice, it is often convenient to work with the natural logarithm of the likelihood function, called the log-likelihood:\n",
    "\n",
    "$$\\ell (\\theta \\,;\\mathbf{y})=\\ln {\\mathcal{L}}_{n}(\\theta \\,;\\mathbf{y})~.$$\n",
    "\n",
    "Since the logarithm is a monotonic function, the maximum of $\\ell (\\theta \\,;\\mathbf{y})$ occurs at the same value of $\\theta$ as does the maximum of ${\\mathcal{L}}_{n}~.$.\n",
    "\n",
    "## Likelihood equation\n",
    "If $\\ell (\\theta \\,;\\mathbf{y})$ is differentiable in $\\Theta$, sufficient conditions for the occurrence of a maximum (or a minimum) are\n",
    "\n",
    "$$\n",
    "\\frac{\\partial \\ell}{\\partial \\theta}=0\n",
    "$$\n",
    "\n",
    "known as the likelihood equations.\n",
    "\n",
    "## IID data\n",
    "\n",
    "If the data are independent and identically distributed, then we have\n",
    "\n",
    "$${\\widehat{\\ell\\,}}(\\theta \\,;D)=\\sum_{i=1}^{n}\\ln f(d_{i}\\mid \\theta),$$\n",
    "\n",
    "this being the sample analogue of the expected log-likelihood \n",
    "\n",
    "$$\\ell(\\theta)=\\operatorname{\\mathbb{E}}[\\,\\ln f(d_{i}\\mid \\theta)\\,],$$\n",
    "\n",
    "where this expectation is taken with respect to the true density."
   ]
  },
  {
   "cell_type": "markdown",
   "id": "0ed385ec",
   "metadata": {},
   "source": [
    "# Example"
   ]
  },
  {
   "cell_type": "markdown",
   "id": "f45bfd61",
   "metadata": {},
   "source": [
    "Here we use the first genetic variant to show how to calculate the maximum likelihood estimate of the frequency of a genetic variant, using the first genetic variant as an example."
   ]
  },
  {
   "cell_type": "markdown",
   "id": "aa0058d4",
   "metadata": {},
   "source": [
    "### Obtain the MLE for frequency from the figure"
   ]
  },
  {
   "cell_type": "code",
   "execution_count": null,
   "id": "2ede019c",
   "metadata": {
    "vscode": {
     "languageId": "r"
    }
   },
   "outputs": [
    {
     "data": {
      "text/html": [
       "<table class=\"dataframe\">\n",
       "<caption>A matrix: 5 × 3 of type chr</caption>\n",
       "<thead>\n",
       "\t<tr><th></th><th scope=col>Variant 1</th><th scope=col>Variant 2</th><th scope=col>Variant 3</th></tr>\n",
       "</thead>\n",
       "<tbody>\n",
       "\t<tr><th scope=row>Individual 1</th><td>CC</td><td>CT</td><td>AT</td></tr>\n",
       "\t<tr><th scope=row>Individual 2</th><td>TT</td><td>TT</td><td>AA</td></tr>\n",
       "\t<tr><th scope=row>Individual 3</th><td>CT</td><td>CT</td><td>AA</td></tr>\n",
       "\t<tr><th scope=row>Individual 4</th><td>CC</td><td>TT</td><td>AA</td></tr>\n",
       "\t<tr><th scope=row>Individual 5</th><td>CC</td><td>CC</td><td>TT</td></tr>\n",
       "</tbody>\n",
       "</table>\n"
      ],
      "text/latex": [
       "A matrix: 5 × 3 of type chr\n",
       "\\begin{tabular}{r|lll}\n",
       "  & Variant 1 & Variant 2 & Variant 3\\\\\n",
       "\\hline\n",
       "\tIndividual 1 & CC & CT & AT\\\\\n",
       "\tIndividual 2 & TT & TT & AA\\\\\n",
       "\tIndividual 3 & CT & CT & AA\\\\\n",
       "\tIndividual 4 & CC & TT & AA\\\\\n",
       "\tIndividual 5 & CC & CC & TT\\\\\n",
       "\\end{tabular}\n"
      ],
      "text/markdown": [
       "\n",
       "A matrix: 5 × 3 of type chr\n",
       "\n",
       "| <!--/--> | Variant 1 | Variant 2 | Variant 3 |\n",
       "|---|---|---|---|\n",
       "| Individual 1 | CC | CT | AT |\n",
       "| Individual 2 | TT | TT | AA |\n",
       "| Individual 3 | CT | CT | AA |\n",
       "| Individual 4 | CC | TT | AA |\n",
       "| Individual 5 | CC | CC | TT |\n",
       "\n"
      ],
      "text/plain": [
       "             Variant 1 Variant 2 Variant 3\n",
       "Individual 1 CC        CT        AT       \n",
       "Individual 2 TT        TT        AA       \n",
       "Individual 3 CT        CT        AA       \n",
       "Individual 4 CC        TT        AA       \n",
       "Individual 5 CC        CC        TT       "
      ]
     },
     "metadata": {},
     "output_type": "display_data"
    }
   ],
   "source": [
    "# Clear the environment\n",
    "rm(list = ls())\n",
    "\n",
    "# Define genotypes for 5 individuals at 3 variants\n",
    "# These represent actual alleles at each position\n",
    "# For example, Individual 1 has genotypes: CC, CT, AT\n",
    "genotypes <- c(\n",
    "    \"CC\", \"CT\", \"AT\", # Individual 1\n",
    "    \"TT\", \"TT\", \"AA\", # Individual 2\n",
    "    \"CT\", \"CT\", \"AA\", # Individual 3\n",
    "    \"CC\", \"TT\", \"AA\", # Individual 4\n",
    "    \"CC\", \"CC\", \"TT\" # Individual 5\n",
    ")\n",
    "# Reshape into a matrix\n",
    "N <- 5 # number of individuals\n",
    "M <- 3 # number of variants\n",
    "geno_matrix <- matrix(genotypes, nrow = N, ncol = M, byrow = TRUE)\n",
    "rownames(geno_matrix) <- paste(\"Individual\", 1:N)\n",
    "colnames(geno_matrix) <- paste(\"Variant\", 1:M)\n",
    "\n",
    "alt_alleles <- c(\"T\", \"C\", \"T\")\n",
    "ref_alleles <- c(\"C\", \"T\", \"A\")\n",
    "\n",
    "geno_matrix"
   ]
  },
  {
   "cell_type": "markdown",
   "id": "80bb3191",
   "metadata": {},
   "source": [
    "In the first variant we have observed the genotype data for five individuals, CC, TT, CT, CC and CC (which is our data $\\text{D}$). We want to estimate the frequency fo the alternative `T` for this variant. Specifically, for each $q\\in[0,1]$ let $M_q$ denote the model that the true frequency of the `T` allele is $q$. Then, given our observation that 3 of 10 alleles (2 alleles per individual because human is dipliod) carried allele `T` at marker 1, the likelihood for model $M_q$ is, by the previous definition,\n",
    "$$\n",
    "L(M_q)=\\Pr(\\text{D}|M_q)=(1-q)^2 * q^2 * 2q(1-q) * (1-q)^2 * (1-q)^2 = 2q^3(1−q)^7\n",
    "$$\n"
   ]
  },
  {
   "cell_type": "markdown",
   "id": "a2291317",
   "metadata": {},
   "source": [
    "When computing likelihoods for parametric models, we usually dispense with the model notation and simply use the parameter value to denote the model. So instead of referring to the likelihood for $M_q$  we just say the “likelihood for $q$”, and write $L(q)$. So the likelihood for $q$ is given by\n",
    "\n",
    "$$\n",
    "L(q)= 2q^3(1−q)^7\n",
    "$$"
   ]
  },
  {
   "cell_type": "markdown",
   "id": "d1e678ed",
   "metadata": {},
   "source": [
    "We could plot the likelihood function as follows:"
   ]
  },
  {
   "cell_type": "code",
   "execution_count": null,
   "id": "de15d2a0",
   "metadata": {
    "vscode": {
     "languageId": "r"
    }
   },
   "outputs": [
    {
     "data": {
      "image/png": "[encoded data removed]",
      "text/plain": [
       "plot without title"
      ]
     },
     "metadata": {},
     "output_type": "display_data"
    }
   ],
   "source": [
    "q <- seq(0, 1, length = 100)\n",
    "L <- function(q) {\n",
    "    q^3 * (1 - q)^7\n",
    "}\n",
    "plot(q, L(q), ylab = \"L(q)\", xlab = \"q\", type = \"l\")"
   ]
  },
  {
   "cell_type": "markdown",
   "id": "19837ea2",
   "metadata": {},
   "source": [
    "Since the value of $q$ that maximizes the likelihood function is referred to as the “maximum likelihood estimate”, and usually denoted $\\hat{q}$. That is\n",
    "$$\n",
    "\\hat{q} =\\underset{\\theta \\in \\Theta}{\\operatorname{argmax}} L(q)\n",
    "$$\n",
    "\n",
    "Provided the data are sufficiently informative, and the number of parameters is not too large, maximum likelihood estimates tend to be sensible. In this case we can see that the maximum likelihood estimate is $q=0.3$, which also corresponds to our intuition."
   ]
  },
  {
   "cell_type": "markdown",
   "id": "92168c58",
   "metadata": {},
   "source": [
    "### From likelihood function to log-likelihood function"
   ]
  },
  {
   "cell_type": "markdown",
   "id": "57a43424",
   "metadata": {},
   "source": [
    "Just as it can often be convenient to work with the log-likelihood ratio, it can be convenient to work with the log-likelihood function, usually denoted as $l(q)$.  Here is the log-likelihood function."
   ]
  },
  {
   "cell_type": "code",
   "execution_count": null,
   "id": "bb6f012b",
   "metadata": {
    "vscode": {
     "languageId": "r"
    }
   },
   "outputs": [
    {
     "data": {
      "image/png": "[encoded data removed]",
      "text/plain": [
       "plot without title"
      ]
     },
     "metadata": {},
     "output_type": "display_data"
    }
   ],
   "source": [
    "q <- seq(0, 1, length = 100)\n",
    "l <- function(q) {\n",
    "    3 * log(q) + 7 * log(1 - q)\n",
    "}\n",
    "plot(q, l(q) - l(0.3), ylab = \"l(q) - l(qhat)\", xlab = \"q\", type = \"l\", ylim = c(-10, 0))"
   ]
  },
  {
   "cell_type": "markdown",
   "id": "a452e9b7",
   "metadata": {},
   "source": [
    "Changes in the log-likelihood function are referred to as “log-likelihood units”. For example the difference in the support for `q=0.3` and `q=0.35` is `l(0.3)-l(0.35) = 0.5630377` log-likelihood units. Again, remember that it is differences in `l` that matter, not the actual values."
   ]
  },
  {
   "cell_type": "markdown",
   "id": "7a54aef2",
   "metadata": {},
   "source": [
    "### Obtain the MLE of frequency analytically"
   ]
  },
  {
   "cell_type": "markdown",
   "id": "b61ae754",
   "metadata": {},
   "source": [
    "In this simple case we can calculate $\\hat{q}$ analytically as well, but keep in mind that in most of the cases, it's impossible to get the explicit formula of $\\hat{\\theta}$ of a parameter $\\theta$ directly.\n",
    "\n",
    "1. Take the natural logarithm of the likelihood function (for computational convenience):\n",
    "   $$\\ln L(q) = \\ln(2) + 3\\ln(q) + 7\\ln(1-q)$$\n",
    "\n",
    "2. Find the critical point by taking the derivative and setting it to zero:\n",
    "   $$\\frac{d\\ln L(q)}{dq} = \\frac{3}{q} - \\frac{7}{1-q} = 0$$\n",
    "\n",
    "3. Solve for $q$:\n",
    "   $$\\frac{3}{q} = \\frac{7}{1-q}$$\n",
    "   $$3(1-q) = 7q$$\n",
    "   $$3 - 3q = 7q$$\n",
    "   $$3 = 10q$$\n",
    "   $$q = \\frac{3}{10} = 0.3$$\n",
    "\n",
    "4. Verify it's a maximum by checking that the second derivative is negative:\n",
    "   $$\\frac{d^2\\ln L(q)}{dq^2} = -\\frac{3}{q^2} - \\frac{7}{(1-q)^2} < 0$$\n",
    "   \n",
    "   This is always negative for $q \\in (0,1)$, confirming we have a maximum."
   ]
  },
  {
   "cell_type": "code",
   "execution_count": null,
   "id": "1c79ffec",
   "metadata": {
    "vscode": {
     "languageId": "r"
    }
   },
   "outputs": [],
   "source": []
  }
 ],
 "metadata": {
  "kernelspec": {
   "display_name": "R",
   "language": "R",
   "name": "ir"
  },
  "language_info": {
   "codemirror_mode": "r",
   "file_extension": ".r",
   "mimetype": "text/x-r-source",
   "name": "R",
   "pygments_lexer": "r",
   "version": "4.3.3"
  }
 },
 "nbformat": 4,
 "nbformat_minor": 5
}
