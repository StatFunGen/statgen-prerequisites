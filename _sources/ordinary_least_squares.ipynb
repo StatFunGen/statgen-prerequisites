{
 "cells": [
  {
   "cell_type": "markdown",
   "id": "5911ec54",
   "metadata": {},
   "source": [
    "# Ordinary Least Squares\n",
    "\n",
    "Single marker linear regression in statistical genetics explores how a specific genetic variant influences a trait by estimating a linear relationship between the variant's presence and the trait value."
   ]
  },
  {
   "cell_type": "markdown",
   "id": "2dee63ed",
   "metadata": {},
   "source": [
    "# Graphical Summary"
   ]
  },
  {
   "cell_type": "markdown",
   "id": "957c6e9a",
   "metadata": {},
   "source": [
    "![OLS](./graphical_summary/Slide7.png)"
   ]
  },
  {
   "cell_type": "markdown",
   "id": "7bff55ce",
   "metadata": {},
   "source": [
    "# Key Formula\n",
    "\n",
    "In the single marker linear regression, $\\mathbf{Y} = \\mathbf{X} \\beta  + \\boldsymbol{\\epsilon}$,\n",
    "- $\\mathbf{Y}$ is the $N \\times 1$ vector of trait values for $N$ individuals\n",
    "- $\\mathbf{X}$ is the $N \\times 1$ vector of the genotype vector for a single variant across $N$ individuals\n",
    "- $\\beta$ is the scalar representing the effect size for the single variant (to be estimated)\n",
    "- $\\epsilon$ is the $N \\times 1$ vector of error terms for $N$ individuals and $\\epsilon \\sim N(0, \\sigma^2)$\n",
    "\n",
    "Using **ordinary least squares (OLS)**, we can derive the estimators for $\\boldsymbol{\\beta}$ in matrix form:\n",
    "\n",
    "$$\n",
    "\\hat{\\beta}_{\\text{OLS}} = (\\mathbf{X}^T\\mathbf{X})^{-1}\\mathbf{X}^T\\mathbf{Y}\n",
    "$$\n"
   ]
  },
  {
   "cell_type": "markdown",
   "id": "75142eec",
   "metadata": {},
   "source": [
    "# Technical Details\n",
    "\n",
    "## Simplified Form for Single Marker\n",
    "For a single marker regression, the OLS estimator simplifies to:\n",
    "$$\n",
    "\\hat{\\beta}_{\\text{OLS}} = \\frac{\\sum_{i=1}^N x_i y_i}{\\sum_{i=1}^N x_i^2}\n",
    "$$\n",
    "\n",
    "If genotypes are centered (mean = 0), this becomes the sample covariance divided by sample variance:\n",
    "$$\n",
    "\\hat{\\beta}_{\\text{OLS}} = \\frac{\\text{Cov}(X, Y)}{\\text{Var}(X)}\n",
    "$$\n",
    "\n",
    "## Statistical Properties\n",
    "\n",
    "### Unbiasedness\n",
    "Under the assumption that $E[\\boldsymbol{\\epsilon}|\\mathbf{X}] = 0$:\n",
    "$$\n",
    "E[\\hat{\\beta}_{\\text{OLS}}] = \\beta\n",
    "$$\n",
    "\n",
    "### Variance of the Estimator\n",
    "$$\n",
    "\\text{Var}(\\hat{\\beta}_{\\text{OLS}}) = \\sigma^2 (\\mathbf{X}^T\\mathbf{X})^{-1} = \\frac{\\sigma^2}{\\sum_{i=1}^N x_i^2}\n",
    "$$\n",
    "\n",
    "### Standard Error\n",
    "$$\n",
    "\\text{SE}(\\hat{\\beta}_{\\text{OLS}}) = \\sqrt{\\frac{\\hat{\\sigma}^2}{\\sum_{i=1}^N x_i^2}}\n",
    "$$\n",
    "\n",
    "where $\\hat{\\sigma}^2 = \\frac{\\sum_{i=1}^N (y_i - \\hat{y}_i)^2}{N-1}$ is the residual variance estimator.\n",
    "\n",
    "## Sample Size Requirements\n",
    "\n",
    "### Mathematical Requirements\n",
    "- **Absolute minimum**: $N \\geq$ number of parameters to estimate\n",
    "- For single marker regression: $N \\geq 2$ (need at least 2 points to fit a line)\n",
    "- Matrix $\\mathbf{X}^T\\mathbf{X}$ must be invertible\n",
    "\n",
    "### Practical Guidelines\n",
    "- **Reliable estimates**: $N \\geq 30$ (general rule of thumb)\n",
    "- **Stable variance estimates**: $N \\geq 20-30$\n",
    "- Larger $N$ improves estimate quality and reduces uncertainty"
   ]
  },
  {
   "cell_type": "markdown",
   "id": "ee2213a3",
   "metadata": {},
   "source": [
    "# Example"
   ]
  },
  {
   "cell_type": "markdown",
   "id": "575c80b1",
   "metadata": {},
   "source": [
    "In this example we demonstrate a basic genetic association analysis for height across 5 individuals with 3 genetic variants. (**Note that in practice N<10 is too small for OLS estimates to give reliable results, here is just for illustration.**)\n",
    "\n",
    "Following the similar framework of simulating the genotype data and standardization, we further assign the phenotype (height) to each individual and standardize the trait value as well. Then we perform single-marker linear regression for each genetic variant using both the `lm` function and the explicit formula we obtained abouve to estimate the OLS effect size. "
   ]
  },
  {
   "cell_type": "code",
   "execution_count": 41,
   "id": "e5197ed2",
   "metadata": {
    "vscode": {
     "languageId": "r"
    }
   },
   "outputs": [],
   "source": [
    "# Clear the environment\n",
    "rm(list = ls())\n",
    "\n",
    "# Define genotypes for 5 individuals at 3 variants\n",
    "# These represent actual alleles at each position\n",
    "# For example, Individual 1 has genotypes: CC, CT, AT\n",
    "genotypes <- c(\n",
    " \"CC\", \"CT\", \"AT\",  # Individual 1\n",
    " \"TT\", \"TT\", \"AA\",  # Individual 2\n",
    " \"CT\", \"CT\", \"AA\",  # Individual 3\n",
    " \"CC\", \"TT\", \"AA\",  # Individual 4\n",
    " \"CC\", \"CC\", \"TT\"   # Individual 5\n",
    ")\n",
    "# Reshape into a matrix\n",
    "N = 5 # number of individuals\n",
    "M = 3 # number of variants\n",
    "geno_matrix <- matrix(genotypes, nrow=N, ncol=M, byrow=TRUE)\n",
    "rownames(geno_matrix) <- paste(\"Individual\", 1:N)\n",
    "colnames(geno_matrix) <- paste(\"Variant\", 1:M)\n",
    "\n",
    "alt_alleles <- c(\"T\", \"C\", \"T\")\n",
    "\n",
    "# Convert to raw genotype matrix using the additive / dominant / recessive model\n",
    "Xraw_additive <- matrix(0, nrow=N, ncol=M) # dount number of non-reference alleles\n",
    "\n",
    "rownames(Xraw_additive) <- rownames(geno_matrix)\n",
    "colnames(Xraw_additive) <- colnames(geno_matrix)\n",
    "\n",
    "for (i in 1:N) {\n",
    "  for (j in 1:M) {\n",
    "    alleles <- strsplit(geno_matrix[i,j], \"\")[[1]]\n",
    "    Xraw_additive[i,j] <- sum(alleles == alt_alleles[j])\n",
    "  }\n",
    "}\n",
    "X <- scale(Xraw_additive, center=TRUE, scale=TRUE)"
   ]
  },
  {
   "cell_type": "markdown",
   "id": "5b8a40f8",
   "metadata": {},
   "source": [
    "We observe the heights ($Y$) for the five individuals as follows, and scale $Y$:"
   ]
  },
  {
   "cell_type": "code",
   "execution_count": 42,
   "id": "9273d164",
   "metadata": {
    "vscode": {
     "languageId": "r"
    }
   },
   "outputs": [],
   "source": [
    "# assign observed height for the 5 individuals\n",
    "Y_raw <- c(180, 160, 158, 155, 193)\n",
    "Y <- scale(Y_raw)"
   ]
  },
  {
   "cell_type": "markdown",
   "id": "373ce2df",
   "metadata": {},
   "source": [
    "We perform GWAS analysis on each single SNP using OLS:"
   ]
  },
  {
   "cell_type": "code",
   "execution_count": 43,
   "id": "49ab4e70",
   "metadata": {
    "vscode": {
     "languageId": "r"
    }
   },
   "outputs": [],
   "source": [
    "p_values <- numeric(M)  # Store p-values\n",
    "betas <- numeric(M)     # Store estimated effect sizes\n",
    "\n",
    "for (j in 1:M) {\n",
    "  SNP <- X[, j]  # Extract genotype for SNP j\n",
    "  model <- lm(Y ~ SNP)  # OLS regression: Trait ~ SNP\n",
    "  summary_model <- summary(model)\n",
    "  \n",
    "  # Store p-value and effect size (coefficient)\n",
    "  p_values[j] <- summary_model$coefficients[2, 4]  # p-value for SNP effect\n",
    "  betas[j] <- summary_model$coefficients[2, 1]     # Estimated beta coefficient\n",
    "}\n",
    "# Create results table\n",
    "OLS_results <- data.frame(Variant = colnames(X), Beta = betas, P_Value = p_values)"
   ]
  },
  {
   "cell_type": "markdown",
   "id": "fb6e4592",
   "metadata": {},
   "source": [
    "The OLS results are:"
   ]
  },
  {
   "cell_type": "code",
   "execution_count": 44,
   "id": "038a49cb",
   "metadata": {
    "vscode": {
     "languageId": "r"
    }
   },
   "outputs": [
    {
     "data": {
      "text/html": [
       "<table class=\"dataframe\">\n",
       "<caption>A data.frame: 3 x 3</caption>\n",
       "<thead>\n",
       "\t<tr><th scope=col>Variant</th><th scope=col>Beta</th><th scope=col>P_Value</th></tr>\n",
       "\t<tr><th scope=col>&lt;chr&gt;</th><th scope=col>&lt;dbl&gt;</th><th scope=col>&lt;dbl&gt;</th></tr>\n",
       "</thead>\n",
       "<tbody>\n",
       "\t<tr><td>Variant 1</td><td>-0.5000913</td><td>0.390901513</td></tr>\n",
       "\t<tr><td>Variant 2</td><td> 0.8525024</td><td>0.066475513</td></tr>\n",
       "\t<tr><td>Variant 3</td><td> 0.9866667</td><td>0.001844466</td></tr>\n",
       "</tbody>\n",
       "</table>\n"
      ],
      "text/latex": [
       "A data.frame: 3 x 3\n",
       "\\begin{tabular}{lll}\n",
       " Variant & Beta & P\\_Value\\\\\n",
       " <chr> & <dbl> & <dbl>\\\\\n",
       "\\hline\n",
       "\t Variant 1 & -0.5000913 & 0.390901513\\\\\n",
       "\t Variant 2 &  0.8525024 & 0.066475513\\\\\n",
       "\t Variant 3 &  0.9866667 & 0.001844466\\\\\n",
       "\\end{tabular}\n"
      ],
      "text/markdown": [
       "\n",
       "A data.frame: 3 x 3\n",
       "\n",
       "| Variant &lt;chr&gt; | Beta &lt;dbl&gt; | P_Value &lt;dbl&gt; |\n",
       "|---|---|---|\n",
       "| Variant 1 | -0.5000913 | 0.390901513 |\n",
       "| Variant 2 |  0.8525024 | 0.066475513 |\n",
       "| Variant 3 |  0.9866667 | 0.001844466 |\n",
       "\n"
      ],
      "text/plain": [
       "  Variant   Beta       P_Value    \n",
       "1 Variant 1 -0.5000913 0.390901513\n",
       "2 Variant 2  0.8525024 0.066475513\n",
       "3 Variant 3  0.9866667 0.001844466"
      ]
     },
     "metadata": {},
     "output_type": "display_data"
    }
   ],
   "source": [
    "OLS_results"
   ]
  },
  {
   "cell_type": "markdown",
   "id": "70ebedee",
   "metadata": {},
   "source": [
    "Or we can use the formula to calculate $\\beta$ directly:"
   ]
  },
  {
   "cell_type": "code",
   "execution_count": 5,
   "id": "4bf10867",
   "metadata": {
    "vscode": {
     "languageId": "r"
    }
   },
   "outputs": [],
   "source": [
    "# Calculate β̂ for a single SNP explicitly\n",
    "calculate_beta_ols <- function(Y, X) {\n",
    "  # β̂ = (X^T X)^(-1) X^T Y\n",
    "  beta_hat <- solve(t(X) %*% X) %*% t(X) %*% Y\n",
    "  return(beta_hat)\n",
    "}\n",
    "\n",
    "# Perform GWAS-style analysis: Test each SNP independently using OLS\n",
    "betas_formula <- numeric(M)     # Store estimated effect sizes\n",
    "\n",
    "for (j in 1:M) {\n",
    "  betas_formula[j] <- calculate_beta_ols(Y, X[,j, drop=FALSE])\n",
    "}"
   ]
  },
  {
   "cell_type": "code",
   "execution_count": 10,
   "id": "f4dbcdc0",
   "metadata": {
    "vscode": {
     "languageId": "r"
    }
   },
   "outputs": [
    {
     "data": {
      "text/html": [
       "<table class=\"dataframe\">\n",
       "<caption>A data.frame: 3 x 4</caption>\n",
       "<thead>\n",
       "\t<tr><th scope=col>Variant</th><th scope=col>Beta</th><th scope=col>P_Value</th><th scope=col>beta_from_formula</th></tr>\n",
       "\t<tr><th scope=col>&lt;chr&gt;</th><th scope=col>&lt;dbl&gt;</th><th scope=col>&lt;dbl&gt;</th><th scope=col>&lt;dbl&gt;</th></tr>\n",
       "</thead>\n",
       "<tbody>\n",
       "\t<tr><td>Variant 1</td><td>-0.5000913</td><td>0.390901513</td><td>-0.5000913</td></tr>\n",
       "\t<tr><td>Variant 2</td><td> 0.8525024</td><td>0.066475513</td><td> 0.8525024</td></tr>\n",
       "\t<tr><td>Variant 3</td><td> 0.9866667</td><td>0.001844466</td><td> 0.9866667</td></tr>\n",
       "</tbody>\n",
       "</table>\n"
      ],
      "text/latex": [
       "A data.frame: 3 x 4\n",
       "\\begin{tabular}{llll}\n",
       " Variant & Beta & P\\_Value & beta\\_from\\_formula\\\\\n",
       " <chr> & <dbl> & <dbl> & <dbl>\\\\\n",
       "\\hline\n",
       "\t Variant 1 & -0.5000913 & 0.390901513 & -0.5000913\\\\\n",
       "\t Variant 2 &  0.8525024 & 0.066475513 &  0.8525024\\\\\n",
       "\t Variant 3 &  0.9866667 & 0.001844466 &  0.9866667\\\\\n",
       "\\end{tabular}\n"
      ],
      "text/markdown": [
       "\n",
       "A data.frame: 3 x 4\n",
       "\n",
       "| Variant &lt;chr&gt; | Beta &lt;dbl&gt; | P_Value &lt;dbl&gt; | beta_from_formula &lt;dbl&gt; |\n",
       "|---|---|---|---|\n",
       "| Variant 1 | -0.5000913 | 0.390901513 | -0.5000913 |\n",
       "| Variant 2 |  0.8525024 | 0.066475513 |  0.8525024 |\n",
       "| Variant 3 |  0.9866667 | 0.001844466 |  0.9866667 |\n",
       "\n"
      ],
      "text/plain": [
       "  Variant   Beta       P_Value     beta_from_formula\n",
       "1 Variant 1 -0.5000913 0.390901513 -0.5000913       \n",
       "2 Variant 2  0.8525024 0.066475513  0.8525024       \n",
       "3 Variant 3  0.9866667 0.001844466  0.9866667       "
      ]
     },
     "metadata": {},
     "output_type": "display_data"
    }
   ],
   "source": [
    "OLS_results$beta_from_formula = betas_formula\n",
    "OLS_results"
   ]
  },
  {
   "cell_type": "markdown",
   "id": "ee0ba855",
   "metadata": {},
   "source": [
    "# Supplementary\n",
    "\n",
    "Here we calculate the OLS estimate for joint effects (instead of marginal effects)"
   ]
  },
  {
   "cell_type": "markdown",
   "id": "b692ecd1",
   "metadata": {},
   "source": [
    "## Joint Effects"
   ]
  },
  {
   "cell_type": "code",
   "execution_count": 67,
   "id": "bd61b196-11df-4f92-adc4-375509bdb768",
   "metadata": {
    "vscode": {
     "languageId": "r"
    }
   },
   "outputs": [
    {
     "data": {
      "text/plain": [
       "\n",
       "Call:\n",
       "lm(formula = Y ~ X[, 1] + X[, 2] + X[, 3])\n",
       "\n",
       "Residuals:\n",
       "         1          2          3          4          5 \n",
       " 2.418e-01 -2.776e-17  4.163e-17 -1.209e-01 -1.209e-01 \n",
       "attr(,\"scaled:center\")\n",
       "[1] 169.2\n",
       "attr(,\"scaled:scale\")\n",
       "[1] 16.54\n",
       "\n",
       "Coefficients:\n",
       "              Estimate Std. Error t value Pr(>|t|)\n",
       "(Intercept)  6.886e-16  1.324e-01   0.000    1.000\n",
       "X[, 1]       8.110e-02  1.793e-01   0.452    0.730\n",
       "X[, 2]      -2.529e-02  2.992e-01  -0.085    0.946\n",
       "X[, 3]       1.054e+00  3.198e-01   3.296    0.188\n",
       "\n",
       "Residual standard error: 0.2961 on 1 degrees of freedom\n",
       "Multiple R-squared:  0.9781,\tAdjusted R-squared:  0.9123 \n",
       "F-statistic: 14.87 on 3 and 1 DF,  p-value: 0.1878\n"
      ]
     },
     "metadata": {},
     "output_type": "display_data"
    }
   ],
   "source": [
    "# Perform linear regression with all variants\n",
    "joint_model <- lm(Y ~ X[,1] + X[,2] + X[,3])\n",
    "# Summary of the regression\n",
    "summary(joint_model)"
   ]
  },
  {
   "cell_type": "code",
   "execution_count": 68,
   "id": "d75979ef",
   "metadata": {
    "vscode": {
     "languageId": "r"
    }
   },
   "outputs": [
    {
     "name": "stdout",
     "output_type": "stream",
     "text": [
      "[1] \"OLS Solution (for joint effects using formula):\"\n",
      "                 [,1]\n",
      "Variant 1  0.08109589\n",
      "Variant 2 -0.02528609\n",
      "Variant 3  1.05424659\n"
     ]
    }
   ],
   "source": [
    "# or we calculate from formula directly\n",
    "beta_hat_OLS <- solve(t(X) %*% X) %*% t(X) %*% Y  # OLS formula without intercept\n",
    "print(\"OLS Solution (for joint effects using formula):\")\n",
    "print(beta_hat_OLS)"
   ]
  },
  {
   "cell_type": "markdown",
   "id": "098c15d7",
   "metadata": {},
   "source": [
    "## Graphical Summary"
   ]
  },
  {
   "cell_type": "code",
   "execution_count": 64,
   "id": "757a4bf3",
   "metadata": {
    "vscode": {
     "languageId": "r"
    }
   },
   "outputs": [
    {
     "name": "stdout",
     "output_type": "stream",
     "text": [
      "Estimated slope (<U+03B2><U+2081>): 1.02 \n"
     ]
    },
    {
     "data": {
      "image/png": "[encoded data removed]",
      "text/plain": [
       "plot without title"
      ]
     },
     "metadata": {
      "image/png": {
       "height": 360,
       "width": 600
      }
     },
     "output_type": "display_data"
    }
   ],
   "source": [
    "# Load necessary library\n",
    "library(ggplot2)\n",
    "\n",
    "# Set plot size (for Jupyter or RMarkdown)\n",
    "options(repr.plot.width = 10, repr.plot.height = 6)\n",
    "\n",
    "# Generate positive example data\n",
    "set.seed(42)\n",
    "x <- runif(10, min = 0, max = 5)  # Positive x values\n",
    "y <- 0.5 * x + rnorm(10, mean = 0, sd = 1)\n",
    "y <- y - min(y) + 0.1  # Ensure y is positive\n",
    "data <- data.frame(x = x, y = y)\n",
    "\n",
    "# Fit linear model through the origin\n",
    "model <- lm(y ~ 0 + x, data = data)  # No intercept\n",
    "beta1 <- coef(model)[1]\n",
    "cat(\"Estimated slope (β₁):\", round(beta1, 2), \"\\n\")\n",
    "\n",
    "# Plot\n",
    "p <- ggplot(data, aes(x = x, y = y)) +\n",
    "  geom_hline(yintercept = 0, color = \"gray40\", linewidth = 1) +\n",
    "  geom_vline(xintercept = 0, color = \"gray40\", linewidth = 1) +\n",
    "  geom_point(color = \"lightyellow\", size = 6) +  # yellow points\n",
    "  geom_abline(intercept = 0, slope = beta1, color = \"salmon\", linetype = \"dashed\", linewidth = 2) +\n",
    "  labs(x = \"X\", y = \"Y\") +\n",
    "  theme_minimal(base_size = 18) +\n",
    "  theme(\n",
    "    plot.title = element_blank(),  # no title\n",
    "    axis.title = element_text(size = 20, face = \"bold\"),\n",
    "    axis.text = element_blank(),\n",
    "    axis.ticks = element_blank(),\n",
    "    axis.title.y = element_text(angle = 0, vjust = 0.5)  # horizontal Y label\n",
    "  )\n",
    "print(p)\n",
    "\n",
    "# Save with transparent background\n",
    "ggsave(\"cartoons/ordinary_least_squares.png\", plot = p, \n",
    "       width = 10, height = 6, \n",
    "       bg = \"transparent\", \n",
    "       dpi = 300)\n"
   ]
  },
  {
   "cell_type": "code",
   "execution_count": null,
   "id": "2ee7af17",
   "metadata": {
    "vscode": {
     "languageId": "r"
    }
   },
   "outputs": [],
   "source": []
  }
 ],
 "metadata": {
  "kernelspec": {
   "display_name": "R",
   "language": "R",
   "name": "ir"
  },
  "language_info": {
   "codemirror_mode": "r",
   "file_extension": ".r",
   "mimetype": "text/x-r-source",
   "name": "R",
   "pygments_lexer": "r",
   "version": "4.3.3"
  },
  "toc-autonumbering": true
 },
 "nbformat": 4,
 "nbformat_minor": 5
}
