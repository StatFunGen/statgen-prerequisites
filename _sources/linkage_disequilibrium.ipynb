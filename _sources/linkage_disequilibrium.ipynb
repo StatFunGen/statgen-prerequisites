{
 "cells": [
  {
   "cell_type": "markdown",
   "id": "d1019ad7",
   "metadata": {},
   "source": [
    "# Linkage Disequilibrium\n",
    "\n",
    "Linkage disequilibrium is the **non-random association** between alleles at different genetic loci, where certain combinations occur **more or less frequently** than would be expected by chance if the loci were segregating independently."
   ]
  },
  {
   "cell_type": "markdown",
   "id": "6c11d6ca",
   "metadata": {},
   "source": [
    "# Graphical Summary"
   ]
  },
  {
   "cell_type": "markdown",
   "id": "ce9e124b",
   "metadata": {},
   "source": [
    "![Fig](./graphical_summary/slides/Slide4.png)"
   ]
  },
  {
   "cell_type": "markdown",
   "id": "ff59951f",
   "metadata": {},
   "source": [
    "# Key Formula\n",
    "\n",
    "Given a standardized genotype matrix $\\mathbf{X}$ (each column has mean 0 and variance 1), the LD matrix can be computed as:\n",
    "\n",
    "$$\n",
    "\\mathbf{R} = \\frac{\\mathbf{X}^T \\mathbf{X}}{N}\n",
    "$$\n",
    "\n",
    "where:\n",
    "\n",
    "- $\\mathbf{X}$ is the centered genotype matrix.\n",
    "- $N$ is the number of individuals.\n",
    "\n",
    "When $\\mathbf{X}$ is scaled, the covariance matrix is the same as correlation matrix."
   ]
  },
  {
   "cell_type": "markdown",
   "id": "cfbced13",
   "metadata": {},
   "source": [
    "# Technical Details\n",
    "\n",
    "Each element in $\\mathbf{R}$ can be denoted as $r$ where $r$ is the correlation between two variants, ranging from -1 to 1. If it is 1 or -1, it means that the two variants are in **perfect LD** (markers are perfect proxies for each other). If $r^2=0$, it indicates that no association between markers.\n",
    "\n",
    "## Interpreting LD Values\n",
    "\n",
    "- **High LD ($r^2 > 0.8$)**:\n",
    "  - Alleles at different loci appear together **much more frequently** than expected\n",
    "  - Frequencies of alleles in high LD are similar to each other\n",
    "  - Markers can often serve as proxies for each other in genetic studies\n",
    "  - Likely physical proximity on chromosome or recent selection\n",
    "  - Less recombination between markers\n",
    "\n",
    "- **Moderate LD ($0.2 < r^2 < 0.8$)**:\n",
    "  - Some association between loci, but not strong enough for perfect tagging\n",
    "  - Partial information about one locus given the other\n",
    "\n",
    "- **Low LD ($r^2 < 0.2$)**:\n",
    "  - Loci segregate nearly independently\n",
    "  - May indicate distant physical location or sufficient time for recombination\n",
    "\n",
    "## LD Blocks\n",
    "\n",
    "LD blocks are the regions of the genome with consistently high LD among SNPs.\n",
    "\n",
    "- **Characteristics**:\n",
    "  - Typically separated by recombination hotspots\n",
    "  - SNPs within a block are highly correlated and tend to be inherited together.\n",
    "  - Block size typically ranges from a few kb to >100 kb.\n",
    "  - Can be visualized as triangular \"heat maps\" of pairwise LD values\n",
    "\n",
    "- **Significance**:\n",
    "  - Allow efficient tagging of untyped variants using representative SNPs\n",
    "  - Reduce genotyping costs by capturing maximum information with minimum markers\n",
    "  - Define natural units for haplotype analysis\n",
    "  - Inform optimal imputation strategies\n",
    "\n",
    "- **Different patterns across populations**:\n",
    "  - African populations:\n",
    "    - Shorter LD blocks (typically 5-15 kb)\n",
    "    - More haplotype diversity\n",
    "    - Due to older population age and larger ancestral effective population size\n",
    "\n",
    "  - European populations:\n",
    "    - Intermediate LD blocks (typically 15-50 kb)\n",
    "    - Reflects out-of-Africa bottleneck and subsequent population expansion\n",
    "\n",
    "  - East Asian populations:\n",
    "    - Often longer LD blocks (can exceed 50 kb)\n",
    "    - Due to more recent bottlenecks and founder effects\n",
    "\n",
    "  - **Isolated populations** (e.g., Finnish, Sardinian):\n",
    "    - Even more extensive LD\n",
    "    - Due to founder effects and genetic drift in small populations"
   ]
  },
  {
   "cell_type": "markdown",
   "id": "c639a9a7",
   "metadata": {},
   "source": [
    "# Related Topics\n",
    "\n",
    "- [genotype coding](https://gaow.github.io/statgen-prerequisites/genotype_coding.html)\n",
    "- [minor allele frequency](https://gaow.github.io/statgen-prerequisites/minor_allele_frequency.html)"
   ]
  },
  {
   "cell_type": "markdown",
   "id": "0f2c9d52",
   "metadata": {},
   "source": [
    "# Example"
   ]
  },
  {
   "cell_type": "markdown",
   "id": "243ec055",
   "metadata": {},
   "source": [
    "We've learned how to encode genotypes and standardize them, but what happens when we look at relationships between different variants? Are genetic variants independent of each other, or do they show patterns of correlation?\n",
    "\n",
    "Let's use our familiar dataset of 5 individuals at 3 variants to explore how genetic variants can be correlated with each other, and what this correlation matrix tells us about the genetic structure in our sample."
   ]
  },
  {
   "cell_type": "code",
   "execution_count": 6,
   "id": "99ff2570",
   "metadata": {
    "vscode": {
     "languageId": "r"
    }
   },
   "outputs": [],
   "source": [
    "# Clear the environment\n",
    "rm(list = ls())\n",
    "\n",
    "# Define genotypes for 5 individuals at 3 variants\n",
    "# These represent actual alleles at each position\n",
    "# For example, Individual 1 has genotypes: CC, CT, AT\n",
    "genotypes <- c(\n",
    " \"CC\", \"CT\", \"AT\",  # Individual 1\n",
    " \"TT\", \"TT\", \"AA\",  # Individual 2\n",
    " \"CT\", \"CT\", \"AA\",  # Individual 3\n",
    " \"CC\", \"TT\", \"AA\",  # Individual 4\n",
    " \"CC\", \"CC\", \"TT\"   # Individual 5\n",
    ")\n",
    "# Reshape into a matrix\n",
    "N = 5\n",
    "M = 3\n",
    "geno_matrix <- matrix(genotypes, nrow = N, ncol = M, byrow = TRUE)\n",
    "rownames(geno_matrix) <- paste(\"Individual\", 1:N)\n",
    "colnames(geno_matrix) <- paste(\"Variant\", 1:M)\n",
    "\n",
    "alt_alleles <- c(\"T\", \"C\", \"T\")\n",
    "\n",
    "# Convert to raw genotype matrix using the additive / dominant / recessive model\n",
    "Xraw_additive <- matrix(0, nrow = N, ncol = M) # dount number of non-reference alleles\n",
    "\n",
    "rownames(Xraw_additive) <- rownames(geno_matrix)\n",
    "colnames(Xraw_additive) <- colnames(geno_matrix)\n",
    "\n",
    "for (i in 1:N) {\n",
    "  for (j in 1:M) {\n",
    "    alleles <- strsplit(geno_matrix[i,j], \"\")[[1]]\n",
    "    Xraw_additive[i,j] <- sum(alleles == alt_alleles[j])\n",
    "  }\n",
    "}"
   ]
  },
  {
   "cell_type": "markdown",
   "id": "9de3b087",
   "metadata": {},
   "source": [
    "Then we scale the genotype matrix so that each **column (variant)** has mean 0 and variance 1."
   ]
  },
  {
   "cell_type": "code",
   "execution_count": 7,
   "id": "dbafa637",
   "metadata": {
    "vscode": {
     "languageId": "r"
    }
   },
   "outputs": [
    {
     "data": {
      "text/html": [
       "<table class=\"dataframe\">\n",
       "<caption>A matrix: 5 x 3 of type dbl</caption>\n",
       "<thead>\n",
       "\t<tr><th></th><th scope=col>Variant 1</th><th scope=col>Variant 2</th><th scope=col>Variant 3</th></tr>\n",
       "</thead>\n",
       "<tbody>\n",
       "\t<tr><th scope=row>Individual 1</th><td>-0.6708204</td><td> 0.2390457</td><td> 0.4472136</td></tr>\n",
       "\t<tr><th scope=row>Individual 2</th><td> 1.5652476</td><td>-0.9561829</td><td>-0.6708204</td></tr>\n",
       "\t<tr><th scope=row>Individual 3</th><td> 0.4472136</td><td> 0.2390457</td><td>-0.6708204</td></tr>\n",
       "\t<tr><th scope=row>Individual 4</th><td>-0.6708204</td><td>-0.9561829</td><td>-0.6708204</td></tr>\n",
       "\t<tr><th scope=row>Individual 5</th><td>-0.6708204</td><td> 1.4342743</td><td> 1.5652476</td></tr>\n",
       "</tbody>\n",
       "</table>\n"
      ],
      "text/latex": [
       "A matrix: 5 x 3 of type dbl\n",
       "\\begin{tabular}{r|lll}\n",
       "  & Variant 1 & Variant 2 & Variant 3\\\\\n",
       "\\hline\n",
       "\tIndividual 1 & -0.6708204 &  0.2390457 &  0.4472136\\\\\n",
       "\tIndividual 2 &  1.5652476 & -0.9561829 & -0.6708204\\\\\n",
       "\tIndividual 3 &  0.4472136 &  0.2390457 & -0.6708204\\\\\n",
       "\tIndividual 4 & -0.6708204 & -0.9561829 & -0.6708204\\\\\n",
       "\tIndividual 5 & -0.6708204 &  1.4342743 &  1.5652476\\\\\n",
       "\\end{tabular}\n"
      ],
      "text/markdown": [
       "\n",
       "A matrix: 5 x 3 of type dbl\n",
       "\n",
       "| <!--/--> | Variant 1 | Variant 2 | Variant 3 |\n",
       "|---|---|---|---|\n",
       "| Individual 1 | -0.6708204 |  0.2390457 |  0.4472136 |\n",
       "| Individual 2 |  1.5652476 | -0.9561829 | -0.6708204 |\n",
       "| Individual 3 |  0.4472136 |  0.2390457 | -0.6708204 |\n",
       "| Individual 4 | -0.6708204 | -0.9561829 | -0.6708204 |\n",
       "| Individual 5 | -0.6708204 |  1.4342743 |  1.5652476 |\n",
       "\n"
      ],
      "text/plain": [
       "             Variant 1  Variant 2  Variant 3 \n",
       "Individual 1 -0.6708204  0.2390457  0.4472136\n",
       "Individual 2  1.5652476 -0.9561829 -0.6708204\n",
       "Individual 3  0.4472136  0.2390457 -0.6708204\n",
       "Individual 4 -0.6708204 -0.9561829 -0.6708204\n",
       "Individual 5 -0.6708204  1.4342743  1.5652476"
      ]
     },
     "metadata": {},
     "output_type": "display_data"
    }
   ],
   "source": [
    "X <- scale(Xraw_additive, center = TRUE, scale = TRUE)\n",
    "X"
   ]
  },
  {
   "cell_type": "markdown",
   "id": "e50cd1bf",
   "metadata": {},
   "source": [
    "We use the `cor` function in R to calculate the correlation:"
   ]
  },
  {
   "cell_type": "code",
   "execution_count": 8,
   "id": "ee0763af",
   "metadata": {
    "vscode": {
     "languageId": "r"
    }
   },
   "outputs": [
    {
     "data": {
      "text/html": [
       "<table class=\"dataframe\">\n",
       "<caption>A matrix: 3 x 3 of type dbl</caption>\n",
       "<thead>\n",
       "\t<tr><th></th><th scope=col>Variant 1</th><th scope=col>Variant 2</th><th scope=col>Variant 3</th></tr>\n",
       "</thead>\n",
       "<tbody>\n",
       "\t<tr><th scope=row>Variant 1</th><td> 1.0000000</td><td>-0.4677072</td><td>-0.562500</td></tr>\n",
       "\t<tr><th scope=row>Variant 2</th><td>-0.4677072</td><td> 1.0000000</td><td> 0.868599</td></tr>\n",
       "\t<tr><th scope=row>Variant 3</th><td>-0.5625000</td><td> 0.8685990</td><td> 1.000000</td></tr>\n",
       "</tbody>\n",
       "</table>\n"
      ],
      "text/latex": [
       "A matrix: 3 x 3 of type dbl\n",
       "\\begin{tabular}{r|lll}\n",
       "  & Variant 1 & Variant 2 & Variant 3\\\\\n",
       "\\hline\n",
       "\tVariant 1 &  1.0000000 & -0.4677072 & -0.562500\\\\\n",
       "\tVariant 2 & -0.4677072 &  1.0000000 &  0.868599\\\\\n",
       "\tVariant 3 & -0.5625000 &  0.8685990 &  1.000000\\\\\n",
       "\\end{tabular}\n"
      ],
      "text/markdown": [
       "\n",
       "A matrix: 3 x 3 of type dbl\n",
       "\n",
       "| <!--/--> | Variant 1 | Variant 2 | Variant 3 |\n",
       "|---|---|---|---|\n",
       "| Variant 1 |  1.0000000 | -0.4677072 | -0.562500 |\n",
       "| Variant 2 | -0.4677072 |  1.0000000 |  0.868599 |\n",
       "| Variant 3 | -0.5625000 |  0.8685990 |  1.000000 |\n",
       "\n"
      ],
      "text/plain": [
       "          Variant 1  Variant 2  Variant 3\n",
       "Variant 1  1.0000000 -0.4677072 -0.562500\n",
       "Variant 2 -0.4677072  1.0000000  0.868599\n",
       "Variant 3 -0.5625000  0.8685990  1.000000"
      ]
     },
     "metadata": {},
     "output_type": "display_data"
    }
   ],
   "source": [
    "R = cor(X)\n",
    "R"
   ]
  },
  {
   "cell_type": "markdown",
   "id": "180ac3a9",
   "metadata": {},
   "source": [
    "We also verify that the correlation matrix is identical to the covariance matrix:"
   ]
  },
  {
   "cell_type": "code",
   "execution_count": 9,
   "id": "3bdab971",
   "metadata": {
    "vscode": {
     "languageId": "r"
    }
   },
   "outputs": [
    {
     "data": {
      "text/html": [
       "<table class=\"dataframe\">\n",
       "<caption>A matrix: 3 x 3 of type dbl</caption>\n",
       "<thead>\n",
       "\t<tr><th></th><th scope=col>Variant 1</th><th scope=col>Variant 2</th><th scope=col>Variant 3</th></tr>\n",
       "</thead>\n",
       "<tbody>\n",
       "\t<tr><th scope=row>Variant 1</th><td> 1.0000000</td><td>-0.4677072</td><td>-0.562500</td></tr>\n",
       "\t<tr><th scope=row>Variant 2</th><td>-0.4677072</td><td> 1.0000000</td><td> 0.868599</td></tr>\n",
       "\t<tr><th scope=row>Variant 3</th><td>-0.5625000</td><td> 0.8685990</td><td> 1.000000</td></tr>\n",
       "</tbody>\n",
       "</table>\n"
      ],
      "text/latex": [
       "A matrix: 3 x 3 of type dbl\n",
       "\\begin{tabular}{r|lll}\n",
       "  & Variant 1 & Variant 2 & Variant 3\\\\\n",
       "\\hline\n",
       "\tVariant 1 &  1.0000000 & -0.4677072 & -0.562500\\\\\n",
       "\tVariant 2 & -0.4677072 &  1.0000000 &  0.868599\\\\\n",
       "\tVariant 3 & -0.5625000 &  0.8685990 &  1.000000\\\\\n",
       "\\end{tabular}\n"
      ],
      "text/markdown": [
       "\n",
       "A matrix: 3 x 3 of type dbl\n",
       "\n",
       "| <!--/--> | Variant 1 | Variant 2 | Variant 3 |\n",
       "|---|---|---|---|\n",
       "| Variant 1 |  1.0000000 | -0.4677072 | -0.562500 |\n",
       "| Variant 2 | -0.4677072 |  1.0000000 |  0.868599 |\n",
       "| Variant 3 | -0.5625000 |  0.8685990 |  1.000000 |\n",
       "\n"
      ],
      "text/plain": [
       "          Variant 1  Variant 2  Variant 3\n",
       "Variant 1  1.0000000 -0.4677072 -0.562500\n",
       "Variant 2 -0.4677072  1.0000000  0.868599\n",
       "Variant 3 -0.5625000  0.8685990  1.000000"
      ]
     },
     "metadata": {},
     "output_type": "display_data"
    }
   ],
   "source": [
    "cov(X)"
   ]
  },
  {
   "cell_type": "markdown",
   "id": "25325f87",
   "metadata": {},
   "source": [
    "# Supplementary"
   ]
  },
  {
   "cell_type": "markdown",
   "id": "2cbc2165",
   "metadata": {},
   "source": [
    "## Graphical Summary"
   ]
  },
  {
   "cell_type": "code",
   "execution_count": 26,
   "id": "712ed398",
   "metadata": {
    "vscode": {
     "languageId": "r"
    }
   },
   "outputs": [
    {
     "data": {
      "image/png": "[encoded data removed]",
      "text/plain": [
       "Plot with title \"\""
      ]
     },
     "metadata": {
      "image/png": {
       "height": 420,
       "width": 420
      }
     },
     "output_type": "display_data"
    }
   ],
   "source": [
    "# Load required library\n",
    "library(corrplot)\n",
    "\n",
    "# Create correlation heatmap with reversed order\n",
    "corrplot(R, method = \"color\", \n",
    "         col = colorRampPalette(c(\"blue\", \"white\", \"red\"))(200),\n",
    "         addCoef.col = \"white\",  # Change coefficient color to white\n",
    "         number.cex = 1.5,       # Make font bigger (default is 1)\n",
    "         number.digits = 3,      # Keep 3 digits\n",
    "         tl.col = \"black\",       # Text label color\n",
    "         tl.srt = 0,             # No angle (horizontal text)\n",
    "         tl.cex = 1.5,           # Make variable labels larger\n",
    "         tl.offset = 0.8,        # Move top labels further up\n",
    "         is.corr = TRUE,         # Set to TRUE for correlation matrix\n",
    "         order = \"original\",     # Keep original order\n",
    "         cl.pos = \"r\",           # Position color legend on right\n",
    "         cl.ratio = 0.2,         # Make legend wider\n",
    "         cl.offset = 0.5,        # Move legend further from the plot\n",
    "         addgrid.col = \"white\")        # Set grid line width"
   ]
  },
  {
   "cell_type": "code",
   "execution_count": null,
   "id": "677d03ec",
   "metadata": {
    "vscode": {
     "languageId": "r"
    }
   },
   "outputs": [],
   "source": []
  }
 ],
 "metadata": {
  "kernelspec": {
   "display_name": "R",
   "language": "R",
   "name": "ir"
  },
  "language_info": {
   "codemirror_mode": "r",
   "file_extension": ".r",
   "mimetype": "text/x-r-source",
   "name": "R",
   "pygments_lexer": "r",
   "version": "4.3.3"
  },
  "toc-autonumbering": true
 },
 "nbformat": 4,
 "nbformat_minor": 5
}
