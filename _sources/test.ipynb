{
 "cells": [
  {
   "cell_type": "markdown",
   "id": "b9678254",
   "metadata": {},
   "source": [
    "# Notations\n",
    "\n",
    "Below is a table of notations that we use in this course.\n"
   ]
  },
  {
   "cell_type": "markdown",
   "id": "b20b87ae",
   "metadata": {},
   "source": [
    "# Graphical Summary"
   ]
  },
  {
   "cell_type": "markdown",
   "id": "cd437686",
   "metadata": {},
   "source": [
    "![Fig](./graphical_summary/slides/Slide1.png)"
   ]
  },
  {
   "cell_type": "markdown",
   "id": "f09345c8",
   "metadata": {},
   "source": [
    "# Key Formula\n",
    "\n",
    "We use $\\mathbf{X}_\\text{raw}$ to denote the **raw genotype matrix** (an $N \\times M$ matrix representing genotypes for $N$ individuals at $M$ variants). By default, we use the **additive coding model** which takes values from $\\{0, 1, 2\\}$ representing the count of alternative alleles.\n",
    "\n",
    "We use $\\mathbf{X}$ to denote the **standardized genotype matrix**, which is the normalized version of $\\mathbf{X}_\\text{raw}$. **Why standardization?** Different genetic variants have different allele frequencies, leading to different variances in their raw genotype values. Without standardization, effect sizes $\\beta$ are not comparable across variants - a $\\beta = 0.1$ effect on a rare variant affects the population differently than the same effect on a common variant.\n",
    "\n",
    "**Standardization puts all variants on the same scale**, making effect sizes directly comparable across variants. This is essential for analyses that combine information across multiple variants, as we will see in [Lecture: proportion of variance explained](https://gaow.github.io/statgen-prerequisites/proportion_of_variance_explained.html), [Lecture: random effect](https://gaow.github.io/statgen-prerequisites/random_effect.html), [Lecture: Bayesian normal mean model](https://gaow.github.io/statgen-prerequisites/Bayesian_normal_mean_model.html), etc.\n",
    "\n",
    "For each column $j$ (the $j$-th variant):\n",
    "\n",
    "$$\n",
    "X_{ij} = \\frac{X_{\\text{raw},ij} - \\mu_j}{\\sigma_j}\n",
    "$$\n",
    "\n",
    "Where:\n",
    "- $\\mu_j = \\frac{1}{N}\\sum_{i=1}^{N} X_{\\text{raw},ij}$ (mean of the $j$-th variant)\n",
    "- $\\sigma_j = \\sqrt{\\frac{1}{N-1}\\sum_{i=1}^{N} (X_{\\text{raw},ij} - \\mu_j)^2}$ (standard deviation of the $j$-th variant)"
   ]
  },
  {
   "cell_type": "markdown",
   "id": "18f5ee6c",
   "metadata": {},
   "source": [
    "\n",
    "# Technical Details\n",
    "\n",
    "## Coding Models\n",
    "\n",
    "For diploid organisms (with two copies of each chromosome, e.g., human), we can use different coding models:\n",
    "\n",
    "- **Additive model** (default): takes value from $\\{0, 1, 2\\}$\n",
    "  - 0: Homozygous for reference allele (AA)\n",
    "  - 1: Heterozygous (Aa)\n",
    "  - 2: Homozygous for alternative allele (aa)\n",
    "  - Represents the count of alternative alleles\n",
    "   \n",
    "- **Dominant model**: takes value from $\\{0, 1\\}$\n",
    "  - 0: Homozygous for reference allele (AA)\n",
    "  - 1: Either heterozygous or homozygous for alternative allele (Aa or aa)\n",
    "  - Represents the presence of at least one copy of the alternative allele\n",
    "   \n",
    "- **Recessive model**: takes value from $\\{0, 1\\}$\n",
    "  - 0: Either homozygous for reference allele or heterozygous (AA or Aa)\n",
    "  - 1: Homozygous for alternative allele (aa)\n",
    "  - Represents when both copies of the alternative allele are present\n",
    "\n",
    "## Standardized Genotype Matrix\n",
    "\n",
    "$\\mathbf{X}$ is a normalized version of $\\mathbf{X}_\\text{raw}$ where each variant is scaled to have mean 0 and variance 1.\n",
    "\n",
    "For each column $j$ (variant):\n",
    "- $\\mu_j = \\frac{1}{N}\\sum_{i=1}^{N} X_{\\text{raw},ij}$ (mean of the $j$-th variant)\n",
    "  - Represents the average number of alternative alleles at the $j$-th variant in the sample under the additive model\n",
    "\n",
    "- $\\sigma_j = \\sqrt{\\frac{1}{N-1}\\sum_{i=1}^{N} (X_{\\text{raw},ij} - \\mu_j)^2}$ (standard deviation of the $j$-th variant)\n",
    "  - Measures the variability in the number of alternative alleles at the $j$-th variant\n",
    "\n",
    "This standardization ensures that:\n",
    "- Each column of $\\mathbf{X}$ has mean 0 and variance 1\n",
    "- The standardized values reflect the deviation from the population mean in units of standard deviation\n",
    "- All variants contribute equally to downstream statistical analyses regardless of their allele frequencies"
   ]
  },
  {
   "cell_type": "markdown",
   "id": "57402916",
   "metadata": {},
   "source": [
    "# Related Topics\n",
    "\n",
    "- [minor allele frequency](https://gaow.github.io/statgen-prerequisites/minor_allele_frequency.html)\n",
    "- [proportion of variance explained](https://gaow.github.io/statgen-prerequisites/proportion_of_variance_explained.html)\n",
    "- [random effect](https://gaow.github.io/statgen-prerequisites/random_effect.html)\n",
    "- [Bayesian normal mean model](https://gaow.github.io/statgen-prerequisites/Bayesian_normal_mean_model.html) "
   ]
  },
  {
   "cell_type": "markdown",
   "id": "f9c943b0-2af5-4e77-bdb0-2d7c2d0a82b3",
   "metadata": {},
   "source": [
    "# Example"
   ]
  },
  {
   "cell_type": "markdown",
   "id": "b0616fd6-c6f5-4197-96af-0c22ad8e69ee",
   "metadata": {},
   "source": [
    "Let's say we have genetic data from 5 individuals tested at 3 different variants. How do we go from the actual genotype calls (like \"CC\" or \"CT\") to the numerical matrices used in statistical genetics? What happens when we apply different coding models to the same data? And how do we standardize these matrices in R?"
   ]
  },
  {
   "cell_type": "code",
   "execution_count": 1,
   "id": "844883c1-50d4-4b8a-807e-404299063852",
   "metadata": {
    "tags": [],
    "vscode": {
     "languageId": "r"
    }
   },
   "outputs": [],
   "source": [
    "# Clear the environment\n",
    "rm(list = ls())\n",
    "\n",
    "# Define genotypes for 5 individuals at 3 variants\n",
    "# These represent actual alleles at each position\n",
    "# For example, Individual 1 the following nucleotides on three variants: CC, CT, AT\n",
    "genotypes <- c(\n",
    " \"CC\", \"CT\", \"AT\",  # Individual 1\n",
    " \"TT\", \"TT\", \"AA\",  # Individual 2\n",
    " \"CT\", \"CT\", \"AA\",  # Individual 3\n",
    " \"CC\", \"TT\", \"AA\",  # Individual 4\n",
    " \"CC\", \"CC\", \"TT\"   # Individual 5\n",
    ")\n",
    "# Reshape into a matrix\n",
    "N = 5\n",
    "M = 3\n",
    "geno_matrix <- matrix(genotypes, nrow = N, ncol = M, byrow = TRUE)\n",
    "rownames(geno_matrix) <- paste(\"Individual\", 1:N)\n",
    "colnames(geno_matrix) <- paste(\"Variant\", 1:M)\n"
   ]
  },
  {
   "cell_type": "markdown",
   "id": "d416166d",
   "metadata": {},
   "source": [
    "The raw genotype matrix is:"
   ]
  },
  {
   "cell_type": "code",
   "execution_count": 2,
   "id": "dedfe156",
   "metadata": {
    "vscode": {
     "languageId": "r"
    }
   },
   "outputs": [
    {
     "data": {
      "text/html": [
       "<table class=\"dataframe\">\n",
       "<caption>A matrix: 5 x 3 of type chr</caption>\n",
       "<thead>\n",
       "\t<tr><th></th><th scope=col>Variant 1</th><th scope=col>Variant 2</th><th scope=col>Variant 3</th></tr>\n",
       "</thead>\n",
       "<tbody>\n",
       "\t<tr><th scope=row>Individual 1</th><td>CC</td><td>CT</td><td>AT</td></tr>\n",
       "\t<tr><th scope=row>Individual 2</th><td>TT</td><td>TT</td><td>AA</td></tr>\n",
       "\t<tr><th scope=row>Individual 3</th><td>CT</td><td>CT</td><td>AA</td></tr>\n",
       "\t<tr><th scope=row>Individual 4</th><td>CC</td><td>TT</td><td>AA</td></tr>\n",
       "\t<tr><th scope=row>Individual 5</th><td>CC</td><td>CC</td><td>TT</td></tr>\n",
       "</tbody>\n",
       "</table>\n"
      ],
      "text/latex": [
       "A matrix: 5 x 3 of type chr\n",
       "\\begin{tabular}{r|lll}\n",
       "  & Variant 1 & Variant 2 & Variant 3\\\\\n",
       "\\hline\n",
       "\tIndividual 1 & CC & CT & AT\\\\\n",
       "\tIndividual 2 & TT & TT & AA\\\\\n",
       "\tIndividual 3 & CT & CT & AA\\\\\n",
       "\tIndividual 4 & CC & TT & AA\\\\\n",
       "\tIndividual 5 & CC & CC & TT\\\\\n",
       "\\end{tabular}\n"
      ],
      "text/markdown": [
       "\n",
       "A matrix: 5 x 3 of type chr\n",
       "\n",
       "| <!--/--> | Variant 1 | Variant 2 | Variant 3 |\n",
       "|---|---|---|---|\n",
       "| Individual 1 | CC | CT | AT |\n",
       "| Individual 2 | TT | TT | AA |\n",
       "| Individual 3 | CT | CT | AA |\n",
       "| Individual 4 | CC | TT | AA |\n",
       "| Individual 5 | CC | CC | TT |\n",
       "\n"
      ],
      "text/plain": [
       "             Variant 1 Variant 2 Variant 3\n",
       "Individual 1 CC        CT        AT       \n",
       "Individual 2 TT        TT        AA       \n",
       "Individual 3 CT        CT        AA       \n",
       "Individual 4 CC        TT        AA       \n",
       "Individual 5 CC        CC        TT       "
      ]
     },
     "metadata": {},
     "output_type": "display_data"
    }
   ],
   "source": [
    "geno_matrix"
   ]
  },
  {
   "cell_type": "markdown",
   "id": "86f42c45",
   "metadata": {},
   "source": [
    "Then we assign the alternative allele for each variant:"
   ]
  },
  {
   "cell_type": "code",
   "execution_count": 3,
   "id": "31df03e7",
   "metadata": {
    "vscode": {
     "languageId": "r"
    }
   },
   "outputs": [],
   "source": [
    "# Define alternative alleles for each variant\n",
    "alt_alleles <- c(\"T\", \"C\", \"T\")\n",
    "names(alt_alleles) <- colnames(geno_matrix)"
   ]
  },
  {
   "cell_type": "markdown",
   "id": "e1ebb99d",
   "metadata": {},
   "source": [
    "Now let's convert the variants information for the individuals into a raw genotype matrix, under three different models:"
   ]
  },
  {
   "cell_type": "code",
   "execution_count": 4,
   "id": "12b65581",
   "metadata": {
    "vscode": {
     "languageId": "r"
    }
   },
   "outputs": [],
   "source": [
    "# Convert to raw genotype matrix using the additive / dominant / recessive model\n",
    "Xraw_additive <- matrix(0, nrow=nrow(geno_matrix), ncol=ncol(geno_matrix)) # count number of non-reference alleles\n",
    "Xraw_dominant <- matrix(0, nrow=nrow(geno_matrix), ncol=ncol(geno_matrix)) # presence of alternative allele\n",
    "Xraw_recessive <- matrix(0, nrow=nrow(geno_matrix), ncol=ncol(geno_matrix)) # two copies of alternative allele required\n",
    "\n",
    "rownames(Xraw_additive) <- rownames(Xraw_dominant) <- rownames(Xraw_recessive) <- rownames(geno_matrix)\n",
    "colnames(Xraw_additive) <- colnames(Xraw_dominant) <- colnames(Xraw_recessive) <- colnames(geno_matrix)\n",
    "\n",
    "for (i in 1:nrow(geno_matrix)) {\n",
    "  for (j in 1:ncol(geno_matrix)) {\n",
    "    alleles <- strsplit(geno_matrix[i,j], \"\")[[1]]\n",
    "    Xraw_additive[i,j] <- sum(alleles == alt_alleles[j])\n",
    "    Xraw_dominant[i,j] <- as.integer(any(alleles == alt_alleles[j]))\n",
    "    Xraw_recessive[i,j] <- as.integer(all(alleles == alt_alleles[j]))\n",
    "  }\n",
    "}\n"
   ]
  },
  {
   "cell_type": "markdown",
   "id": "508bdea2",
   "metadata": {},
   "source": [
    "Raw genotype matrix (Additive model: count of alternative alleles):"
   ]
  },
  {
   "cell_type": "code",
   "execution_count": 5,
   "id": "30f50b7f",
   "metadata": {
    "vscode": {
     "languageId": "r"
    }
   },
   "outputs": [
    {
     "name": "stdout",
     "output_type": "stream",
     "text": [
      "[1] \"Raw genotype matrix (additive model):\"\n"
     ]
    },
    {
     "data": {
      "text/html": [
       "<table class=\"dataframe\">\n",
       "<caption>A matrix: 5 x 3 of type dbl</caption>\n",
       "<thead>\n",
       "\t<tr><th></th><th scope=col>Variant 1</th><th scope=col>Variant 2</th><th scope=col>Variant 3</th></tr>\n",
       "</thead>\n",
       "<tbody>\n",
       "\t<tr><th scope=row>Individual 1</th><td>0</td><td>1</td><td>1</td></tr>\n",
       "\t<tr><th scope=row>Individual 2</th><td>2</td><td>0</td><td>0</td></tr>\n",
       "\t<tr><th scope=row>Individual 3</th><td>1</td><td>1</td><td>0</td></tr>\n",
       "\t<tr><th scope=row>Individual 4</th><td>0</td><td>0</td><td>0</td></tr>\n",
       "\t<tr><th scope=row>Individual 5</th><td>0</td><td>2</td><td>2</td></tr>\n",
       "</tbody>\n",
       "</table>\n"
      ],
      "text/latex": [
       "A matrix: 5 x 3 of type dbl\n",
       "\\begin{tabular}{r|lll}\n",
       "  & Variant 1 & Variant 2 & Variant 3\\\\\n",
       "\\hline\n",
       "\tIndividual 1 & 0 & 1 & 1\\\\\n",
       "\tIndividual 2 & 2 & 0 & 0\\\\\n",
       "\tIndividual 3 & 1 & 1 & 0\\\\\n",
       "\tIndividual 4 & 0 & 0 & 0\\\\\n",
       "\tIndividual 5 & 0 & 2 & 2\\\\\n",
       "\\end{tabular}\n"
      ],
      "text/markdown": [
       "\n",
       "A matrix: 5 x 3 of type dbl\n",
       "\n",
       "| <!--/--> | Variant 1 | Variant 2 | Variant 3 |\n",
       "|---|---|---|---|\n",
       "| Individual 1 | 0 | 1 | 1 |\n",
       "| Individual 2 | 2 | 0 | 0 |\n",
       "| Individual 3 | 1 | 1 | 0 |\n",
       "| Individual 4 | 0 | 0 | 0 |\n",
       "| Individual 5 | 0 | 2 | 2 |\n",
       "\n"
      ],
      "text/plain": [
       "             Variant 1 Variant 2 Variant 3\n",
       "Individual 1 0         1         1        \n",
       "Individual 2 2         0         0        \n",
       "Individual 3 1         1         0        \n",
       "Individual 4 0         0         0        \n",
       "Individual 5 0         2         2        "
      ]
     },
     "metadata": {},
     "output_type": "display_data"
    }
   ],
   "source": [
    "print(\"Raw genotype matrix (additive model):\")\n",
    "Xraw_additive"
   ]
  },
  {
   "cell_type": "code",
   "execution_count": 6,
   "id": "7e3a36d8",
   "metadata": {
    "vscode": {
     "languageId": "r"
    }
   },
   "outputs": [
    {
     "name": "stdout",
     "output_type": "stream",
     "text": [
      "[1] \"Raw genotype matrix (dominant model):\"\n"
     ]
    },
    {
     "data": {
      "text/html": [
       "<table class=\"dataframe\">\n",
       "<caption>A matrix: 5 x 3 of type dbl</caption>\n",
       "<thead>\n",
       "\t<tr><th></th><th scope=col>Variant 1</th><th scope=col>Variant 2</th><th scope=col>Variant 3</th></tr>\n",
       "</thead>\n",
       "<tbody>\n",
       "\t<tr><th scope=row>Individual 1</th><td>0</td><td>1</td><td>1</td></tr>\n",
       "\t<tr><th scope=row>Individual 2</th><td>1</td><td>0</td><td>0</td></tr>\n",
       "\t<tr><th scope=row>Individual 3</th><td>1</td><td>1</td><td>0</td></tr>\n",
       "\t<tr><th scope=row>Individual 4</th><td>0</td><td>0</td><td>0</td></tr>\n",
       "\t<tr><th scope=row>Individual 5</th><td>0</td><td>1</td><td>1</td></tr>\n",
       "</tbody>\n",
       "</table>\n"
      ],
      "text/latex": [
       "A matrix: 5 x 3 of type dbl\n",
       "\\begin{tabular}{r|lll}\n",
       "  & Variant 1 & Variant 2 & Variant 3\\\\\n",
       "\\hline\n",
       "\tIndividual 1 & 0 & 1 & 1\\\\\n",
       "\tIndividual 2 & 1 & 0 & 0\\\\\n",
       "\tIndividual 3 & 1 & 1 & 0\\\\\n",
       "\tIndividual 4 & 0 & 0 & 0\\\\\n",
       "\tIndividual 5 & 0 & 1 & 1\\\\\n",
       "\\end{tabular}\n"
      ],
      "text/markdown": [
       "\n",
       "A matrix: 5 x 3 of type dbl\n",
       "\n",
       "| <!--/--> | Variant 1 | Variant 2 | Variant 3 |\n",
       "|---|---|---|---|\n",
       "| Individual 1 | 0 | 1 | 1 |\n",
       "| Individual 2 | 1 | 0 | 0 |\n",
       "| Individual 3 | 1 | 1 | 0 |\n",
       "| Individual 4 | 0 | 0 | 0 |\n",
       "| Individual 5 | 0 | 1 | 1 |\n",
       "\n"
      ],
      "text/plain": [
       "             Variant 1 Variant 2 Variant 3\n",
       "Individual 1 0         1         1        \n",
       "Individual 2 1         0         0        \n",
       "Individual 3 1         1         0        \n",
       "Individual 4 0         0         0        \n",
       "Individual 5 0         1         1        "
      ]
     },
     "metadata": {},
     "output_type": "display_data"
    }
   ],
   "source": [
    "print(\"Raw genotype matrix (dominant model):\")\n",
    "Xraw_dominant"
   ]
  },
  {
   "cell_type": "code",
   "execution_count": 7,
   "id": "473efd43",
   "metadata": {
    "vscode": {
     "languageId": "r"
    }
   },
   "outputs": [
    {
     "name": "stdout",
     "output_type": "stream",
     "text": [
      "[1] \"Raw genotype matrix (recessive model):\"\n"
     ]
    },
    {
     "data": {
      "text/html": [
       "<table class=\"dataframe\">\n",
       "<caption>A matrix: 5 x 3 of type dbl</caption>\n",
       "<thead>\n",
       "\t<tr><th></th><th scope=col>Variant 1</th><th scope=col>Variant 2</th><th scope=col>Variant 3</th></tr>\n",
       "</thead>\n",
       "<tbody>\n",
       "\t<tr><th scope=row>Individual 1</th><td>0</td><td>0</td><td>0</td></tr>\n",
       "\t<tr><th scope=row>Individual 2</th><td>1</td><td>0</td><td>0</td></tr>\n",
       "\t<tr><th scope=row>Individual 3</th><td>0</td><td>0</td><td>0</td></tr>\n",
       "\t<tr><th scope=row>Individual 4</th><td>0</td><td>0</td><td>0</td></tr>\n",
       "\t<tr><th scope=row>Individual 5</th><td>0</td><td>1</td><td>1</td></tr>\n",
       "</tbody>\n",
       "</table>\n"
      ],
      "text/latex": [
       "A matrix: 5 x 3 of type dbl\n",
       "\\begin{tabular}{r|lll}\n",
       "  & Variant 1 & Variant 2 & Variant 3\\\\\n",
       "\\hline\n",
       "\tIndividual 1 & 0 & 0 & 0\\\\\n",
       "\tIndividual 2 & 1 & 0 & 0\\\\\n",
       "\tIndividual 3 & 0 & 0 & 0\\\\\n",
       "\tIndividual 4 & 0 & 0 & 0\\\\\n",
       "\tIndividual 5 & 0 & 1 & 1\\\\\n",
       "\\end{tabular}\n"
      ],
      "text/markdown": [
       "\n",
       "A matrix: 5 x 3 of type dbl\n",
       "\n",
       "| <!--/--> | Variant 1 | Variant 2 | Variant 3 |\n",
       "|---|---|---|---|\n",
       "| Individual 1 | 0 | 0 | 0 |\n",
       "| Individual 2 | 1 | 0 | 0 |\n",
       "| Individual 3 | 0 | 0 | 0 |\n",
       "| Individual 4 | 0 | 0 | 0 |\n",
       "| Individual 5 | 0 | 1 | 1 |\n",
       "\n"
      ],
      "text/plain": [
       "             Variant 1 Variant 2 Variant 3\n",
       "Individual 1 0         0         0        \n",
       "Individual 2 1         0         0        \n",
       "Individual 3 0         0         0        \n",
       "Individual 4 0         0         0        \n",
       "Individual 5 0         1         1        "
      ]
     },
     "metadata": {},
     "output_type": "display_data"
    }
   ],
   "source": [
    "print(\"Raw genotype matrix (recessive model):\")\n",
    "Xraw_recessive"
   ]
  },
  {
   "cell_type": "markdown",
   "id": "a751e811",
   "metadata": {},
   "source": [
    "Then we standardize the raw genotype matrix under each model:"
   ]
  },
  {
   "cell_type": "code",
   "execution_count": 8,
   "id": "bee1f0d0",
   "metadata": {
    "vscode": {
     "languageId": "r"
    }
   },
   "outputs": [],
   "source": [
    "# Standardize each raw genotype matrix\n",
    "X_additive <- scale(Xraw_additive, center=TRUE, scale=TRUE)\n",
    "X_dominant <- scale(Xraw_dominant, center=TRUE, scale=TRUE)\n",
    "X_recessive <- scale(Xraw_recessive, center=TRUE, scale=TRUE)"
   ]
  },
  {
   "cell_type": "markdown",
   "id": "a177859a",
   "metadata": {},
   "source": [
    "Here are the standardized matrix $\\mathbf{X}$:"
   ]
  },
  {
   "cell_type": "code",
   "execution_count": 9,
   "id": "4a3f26d0",
   "metadata": {
    "vscode": {
     "languageId": "r"
    }
   },
   "outputs": [
    {
     "name": "stdout",
     "output_type": "stream",
     "text": [
      "[1] \"Standardized genotype matrix (additive model):\"\n"
     ]
    },
    {
     "data": {
      "text/html": [
       "<table class=\"dataframe\">\n",
       "<caption>A matrix: 5 x 3 of type dbl</caption>\n",
       "<thead>\n",
       "\t<tr><th></th><th scope=col>Variant 1</th><th scope=col>Variant 2</th><th scope=col>Variant 3</th></tr>\n",
       "</thead>\n",
       "<tbody>\n",
       "\t<tr><th scope=row>Individual 1</th><td>-0.6708204</td><td> 0.2390457</td><td> 0.4472136</td></tr>\n",
       "\t<tr><th scope=row>Individual 2</th><td> 1.5652476</td><td>-0.9561829</td><td>-0.6708204</td></tr>\n",
       "\t<tr><th scope=row>Individual 3</th><td> 0.4472136</td><td> 0.2390457</td><td>-0.6708204</td></tr>\n",
       "\t<tr><th scope=row>Individual 4</th><td>-0.6708204</td><td>-0.9561829</td><td>-0.6708204</td></tr>\n",
       "\t<tr><th scope=row>Individual 5</th><td>-0.6708204</td><td> 1.4342743</td><td> 1.5652476</td></tr>\n",
       "</tbody>\n",
       "</table>\n"
      ],
      "text/latex": [
       "A matrix: 5 x 3 of type dbl\n",
       "\\begin{tabular}{r|lll}\n",
       "  & Variant 1 & Variant 2 & Variant 3\\\\\n",
       "\\hline\n",
       "\tIndividual 1 & -0.6708204 &  0.2390457 &  0.4472136\\\\\n",
       "\tIndividual 2 &  1.5652476 & -0.9561829 & -0.6708204\\\\\n",
       "\tIndividual 3 &  0.4472136 &  0.2390457 & -0.6708204\\\\\n",
       "\tIndividual 4 & -0.6708204 & -0.9561829 & -0.6708204\\\\\n",
       "\tIndividual 5 & -0.6708204 &  1.4342743 &  1.5652476\\\\\n",
       "\\end{tabular}\n"
      ],
      "text/markdown": [
       "\n",
       "A matrix: 5 x 3 of type dbl\n",
       "\n",
       "| <!--/--> | Variant 1 | Variant 2 | Variant 3 |\n",
       "|---|---|---|---|\n",
       "| Individual 1 | -0.6708204 |  0.2390457 |  0.4472136 |\n",
       "| Individual 2 |  1.5652476 | -0.9561829 | -0.6708204 |\n",
       "| Individual 3 |  0.4472136 |  0.2390457 | -0.6708204 |\n",
       "| Individual 4 | -0.6708204 | -0.9561829 | -0.6708204 |\n",
       "| Individual 5 | -0.6708204 |  1.4342743 |  1.5652476 |\n",
       "\n"
      ],
      "text/plain": [
       "             Variant 1  Variant 2  Variant 3 \n",
       "Individual 1 -0.6708204  0.2390457  0.4472136\n",
       "Individual 2  1.5652476 -0.9561829 -0.6708204\n",
       "Individual 3  0.4472136  0.2390457 -0.6708204\n",
       "Individual 4 -0.6708204 -0.9561829 -0.6708204\n",
       "Individual 5 -0.6708204  1.4342743  1.5652476"
      ]
     },
     "metadata": {},
     "output_type": "display_data"
    }
   ],
   "source": [
    "print(\"Standardized genotype matrix (additive model):\")\n",
    "X_additive"
   ]
  },
  {
   "cell_type": "code",
   "execution_count": 10,
   "id": "14300346",
   "metadata": {
    "vscode": {
     "languageId": "r"
    }
   },
   "outputs": [
    {
     "name": "stdout",
     "output_type": "stream",
     "text": [
      "[1] \"Standardized genotype matrix (dominant model):\"\n"
     ]
    },
    {
     "data": {
      "text/html": [
       "<table class=\"dataframe\">\n",
       "<caption>A matrix: 5 x 3 of type dbl</caption>\n",
       "<thead>\n",
       "\t<tr><th></th><th scope=col>Variant 1</th><th scope=col>Variant 2</th><th scope=col>Variant 3</th></tr>\n",
       "</thead>\n",
       "<tbody>\n",
       "\t<tr><th scope=row>Individual 1</th><td>-0.7302967</td><td> 0.7302967</td><td> 1.0954451</td></tr>\n",
       "\t<tr><th scope=row>Individual 2</th><td> 1.0954451</td><td>-1.0954451</td><td>-0.7302967</td></tr>\n",
       "\t<tr><th scope=row>Individual 3</th><td> 1.0954451</td><td> 0.7302967</td><td>-0.7302967</td></tr>\n",
       "\t<tr><th scope=row>Individual 4</th><td>-0.7302967</td><td>-1.0954451</td><td>-0.7302967</td></tr>\n",
       "\t<tr><th scope=row>Individual 5</th><td>-0.7302967</td><td> 0.7302967</td><td> 1.0954451</td></tr>\n",
       "</tbody>\n",
       "</table>\n"
      ],
      "text/latex": [
       "A matrix: 5 x 3 of type dbl\n",
       "\\begin{tabular}{r|lll}\n",
       "  & Variant 1 & Variant 2 & Variant 3\\\\\n",
       "\\hline\n",
       "\tIndividual 1 & -0.7302967 &  0.7302967 &  1.0954451\\\\\n",
       "\tIndividual 2 &  1.0954451 & -1.0954451 & -0.7302967\\\\\n",
       "\tIndividual 3 &  1.0954451 &  0.7302967 & -0.7302967\\\\\n",
       "\tIndividual 4 & -0.7302967 & -1.0954451 & -0.7302967\\\\\n",
       "\tIndividual 5 & -0.7302967 &  0.7302967 &  1.0954451\\\\\n",
       "\\end{tabular}\n"
      ],
      "text/markdown": [
       "\n",
       "A matrix: 5 x 3 of type dbl\n",
       "\n",
       "| <!--/--> | Variant 1 | Variant 2 | Variant 3 |\n",
       "|---|---|---|---|\n",
       "| Individual 1 | -0.7302967 |  0.7302967 |  1.0954451 |\n",
       "| Individual 2 |  1.0954451 | -1.0954451 | -0.7302967 |\n",
       "| Individual 3 |  1.0954451 |  0.7302967 | -0.7302967 |\n",
       "| Individual 4 | -0.7302967 | -1.0954451 | -0.7302967 |\n",
       "| Individual 5 | -0.7302967 |  0.7302967 |  1.0954451 |\n",
       "\n"
      ],
      "text/plain": [
       "             Variant 1  Variant 2  Variant 3 \n",
       "Individual 1 -0.7302967  0.7302967  1.0954451\n",
       "Individual 2  1.0954451 -1.0954451 -0.7302967\n",
       "Individual 3  1.0954451  0.7302967 -0.7302967\n",
       "Individual 4 -0.7302967 -1.0954451 -0.7302967\n",
       "Individual 5 -0.7302967  0.7302967  1.0954451"
      ]
     },
     "metadata": {},
     "output_type": "display_data"
    }
   ],
   "source": [
    "print(\"Standardized genotype matrix (dominant model):\")\n",
    "X_dominant"
   ]
  },
  {
   "cell_type": "code",
   "execution_count": 11,
   "id": "9b61f6b6",
   "metadata": {
    "vscode": {
     "languageId": "r"
    }
   },
   "outputs": [
    {
     "name": "stdout",
     "output_type": "stream",
     "text": [
      "[1] \"Standardized genotype matrix (recessive model):\"\n"
     ]
    },
    {
     "data": {
      "text/html": [
       "<table class=\"dataframe\">\n",
       "<caption>A matrix: 5 x 3 of type dbl</caption>\n",
       "<thead>\n",
       "\t<tr><th></th><th scope=col>Variant 1</th><th scope=col>Variant 2</th><th scope=col>Variant 3</th></tr>\n",
       "</thead>\n",
       "<tbody>\n",
       "\t<tr><th scope=row>Individual 1</th><td>-0.4472136</td><td>-0.4472136</td><td>-0.4472136</td></tr>\n",
       "\t<tr><th scope=row>Individual 2</th><td> 1.7888544</td><td>-0.4472136</td><td>-0.4472136</td></tr>\n",
       "\t<tr><th scope=row>Individual 3</th><td>-0.4472136</td><td>-0.4472136</td><td>-0.4472136</td></tr>\n",
       "\t<tr><th scope=row>Individual 4</th><td>-0.4472136</td><td>-0.4472136</td><td>-0.4472136</td></tr>\n",
       "\t<tr><th scope=row>Individual 5</th><td>-0.4472136</td><td> 1.7888544</td><td> 1.7888544</td></tr>\n",
       "</tbody>\n",
       "</table>\n"
      ],
      "text/latex": [
       "A matrix: 5 x 3 of type dbl\n",
       "\\begin{tabular}{r|lll}\n",
       "  & Variant 1 & Variant 2 & Variant 3\\\\\n",
       "\\hline\n",
       "\tIndividual 1 & -0.4472136 & -0.4472136 & -0.4472136\\\\\n",
       "\tIndividual 2 &  1.7888544 & -0.4472136 & -0.4472136\\\\\n",
       "\tIndividual 3 & -0.4472136 & -0.4472136 & -0.4472136\\\\\n",
       "\tIndividual 4 & -0.4472136 & -0.4472136 & -0.4472136\\\\\n",
       "\tIndividual 5 & -0.4472136 &  1.7888544 &  1.7888544\\\\\n",
       "\\end{tabular}\n"
      ],
      "text/markdown": [
       "\n",
       "A matrix: 5 x 3 of type dbl\n",
       "\n",
       "| <!--/--> | Variant 1 | Variant 2 | Variant 3 |\n",
       "|---|---|---|---|\n",
       "| Individual 1 | -0.4472136 | -0.4472136 | -0.4472136 |\n",
       "| Individual 2 |  1.7888544 | -0.4472136 | -0.4472136 |\n",
       "| Individual 3 | -0.4472136 | -0.4472136 | -0.4472136 |\n",
       "| Individual 4 | -0.4472136 | -0.4472136 | -0.4472136 |\n",
       "| Individual 5 | -0.4472136 |  1.7888544 |  1.7888544 |\n",
       "\n"
      ],
      "text/plain": [
       "             Variant 1  Variant 2  Variant 3 \n",
       "Individual 1 -0.4472136 -0.4472136 -0.4472136\n",
       "Individual 2  1.7888544 -0.4472136 -0.4472136\n",
       "Individual 3 -0.4472136 -0.4472136 -0.4472136\n",
       "Individual 4 -0.4472136 -0.4472136 -0.4472136\n",
       "Individual 5 -0.4472136  1.7888544  1.7888544"
      ]
     },
     "metadata": {},
     "output_type": "display_data"
    }
   ],
   "source": [
    "print(\"Standardized genotype matrix (recessive model):\")\n",
    "X_recessive"
   ]
  },
  {
   "cell_type": "markdown",
   "id": "e430d626",
   "metadata": {
    "vscode": {
     "languageId": "r"
    }
   },
   "source": [
    "# Supplementary\n",
    "\n",
    "## Beyond SNPs: Encoding Different Variant Types\n",
    "\n",
    "While we commonly encode SNPs, there are other types of genetic variations where the same principles also apply:\n",
    "\n",
    "1. **Insertions and Deletions (Indels)**\n",
    "  - Small insertions or deletions in DNA sequence\n",
    "  - Typically encoded using the same 0/1/2 scheme as SNPs\n",
    "\n",
    "2. **Copy Number Variations (CNVs)**\n",
    "  - Deletions or duplications of larger DNA segments\n",
    "  - Can be encoded as actual copy number (0, 1, 2, 3, etc.)\n",
    "\n",
    "3. **Structural Variants**\n",
    "  - Inversions, translocations, and complex rearrangements\n",
    "  - Often encoded as binary (presence/absence)\n",
    "\n",
    "The choice of encoding scheme should reflect the biological hypothesis about how the variant affects the phenotype. For more information, refer to [Figure 1](https://www.frontiersin.org/files/Articles/127738/fbioe-03-00013-HTML-r1/image_m/fbioe-03-00013-g001.jpg) in [Cardoso et al., 2015](https://www.frontiersin.org/journals/bioengineering-and-biotechnology/articles/10.3389/fbioe.2015.00013/full)."
   ]
  },
  {
   "cell_type": "code",
   "execution_count": null,
   "id": "8cfaab6d",
   "metadata": {
    "vscode": {
     "languageId": "r"
    }
   },
   "outputs": [],
   "source": []
  }
 ],
 "metadata": {
  "kernelspec": {
   "display_name": "R",
   "language": "R",
   "name": "ir"
  },
  "language_info": {
   "codemirror_mode": "r",
   "file_extension": ".r",
   "mimetype": "text/x-r-source",
   "name": "R",
   "pygments_lexer": "r",
   "version": "4.3.3"
  },
  "toc-autonumbering": true
 },
 "nbformat": 4,
 "nbformat_minor": 5
}
