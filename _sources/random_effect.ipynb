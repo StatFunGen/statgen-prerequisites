{
 "cells": [
  {
   "cell_type": "markdown",
   "id": "8cc5292f",
   "metadata": {},
   "source": [
    "# Random Effect [FIXME]\n",
    "\n",
    "Intuition"
   ]
  },
  {
   "cell_type": "markdown",
   "id": "351a1531",
   "metadata": {},
   "source": [
    "# TODO\n",
    "- graphical summary of random effect\n",
    "- key formula: $ y = X\\beta + \\epsilon$ where $\\beta \\sim N(0,\\sigma_0^2)$\n",
    "- techinical details: \n",
    "  - compared with fixed effect model, the true $\\beta$ actually is from a distribution instead of a fixed value\n",
    "- Example:\n",
    "  - For each individual, X is fixed (say just one variant). However the true $\\beta$ comes from a distribution $\\beta \\sim N(0,\\sigma_0^2)$\n",
    "  - For each individual, first draw a sample of $\\hat{\\beta}$ and then assign $y$ based on X and $\\hat{\\beta}$\n",
    "  - calculate sum.stats"
   ]
  },
  {
   "cell_type": "markdown",
   "id": "a99dda04",
   "metadata": {},
   "source": [
    "# Graphical Summary"
   ]
  },
  {
   "cell_type": "markdown",
   "id": "3e69e867",
   "metadata": {},
   "source": [
    "![fig](./cartoons/fig.svg)"
   ]
  },
  {
   "cell_type": "markdown",
   "id": "0389d462",
   "metadata": {},
   "source": [
    "# Key Formula\n",
    "\n",
    "key formula sentence"
   ]
  },
  {
   "cell_type": "markdown",
   "id": "12ec5448",
   "metadata": {},
   "source": [
    "# Technical Details\n",
    "\n",
    "techinical details here"
   ]
  },
  {
   "cell_type": "markdown",
   "id": "0ed385ec",
   "metadata": {},
   "source": [
    "# Example"
   ]
  },
  {
   "cell_type": "markdown",
   "id": "286d3d5d",
   "metadata": {},
   "source": [
    "Let's illustrate how we encode genotypes using different models and standardize them. We'll start with the raw allele counts and demonstrate the process step by step."
   ]
  },
  {
   "cell_type": "code",
   "execution_count": 1,
   "id": "65aaa5b7",
   "metadata": {
    "vscode": {
     "languageId": "r"
    }
   },
   "outputs": [],
   "source": [
    "# Clear the environment\n",
    "rm(list = ls())\n"
   ]
  },
  {
   "cell_type": "code",
   "execution_count": null,
   "id": "1c79ffec",
   "metadata": {
    "vscode": {
     "languageId": "r"
    }
   },
   "outputs": [],
   "source": []
  }
 ],
 "metadata": {
  "kernelspec": {
   "display_name": "R",
   "language": "R",
   "name": "ir"
  },
  "language_info": {
   "codemirror_mode": "r",
   "file_extension": ".r",
   "mimetype": "text/x-r-source",
   "name": "R",
   "pygments_lexer": "r",
   "version": "4.3.3"
  }
 },
 "nbformat": 4,
 "nbformat_minor": 5
}
