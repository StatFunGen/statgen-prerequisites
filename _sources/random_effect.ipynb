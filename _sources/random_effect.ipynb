{
 "cells": [
  {
   "cell_type": "markdown",
   "id": "8cc5292f",
   "metadata": {},
   "source": [
    "# Random Effect\n",
    "\n",
    "A random effect represents uncertainty about an effect by modeling it as a value drawn from a distribution, rather than treating it as a fixed, unknown constant."
   ]
  },
  {
   "cell_type": "markdown",
   "id": "a99dda04",
   "metadata": {},
   "source": [
    "# Graphical Summary"
   ]
  },
  {
   "cell_type": "markdown",
   "id": "3e69e867",
   "metadata": {},
   "source": [
    "![random effect](./graphical_summary/Slide14.png)"
   ]
  },
  {
   "cell_type": "markdown",
   "id": "0389d462",
   "metadata": {},
   "source": [
    "# Key Formula\n",
    "\n",
    "Under the single marker linear regression, instead of the fixed value of $\\beta$ as we discussed in [OLS](https://gaow.github.io/statgen-prerequisites/ordinary_least_squares.html), if we view $\\beta$ as a random effect,\n",
    "\n",
    "$$\n",
    "\\mathbf{Y}=\\mathbf{X}\\beta+\\boldsymbol{\\epsilon}, \\beta \\sim N(\\beta_0, \\sigma_0^2)\n",
    "$$\n",
    "\n",
    "- $\\mathbf{Y}$ is the $N \\times 1$ vector of trait values for $N$ individuals\n",
    "- $\\mathbf{X}$ is the $N \\times 1$ vector of the genotype vector for a single variant across $N$ individuals\n",
    "- $\\beta$ is the random effect that comes from the distribution $N(\\beta_0, \\sigma_0^2)$\n",
    "- $\\epsilon$ is the $N \\times 1$ vector of error terms for $N$ individuals and $\\epsilon \\sim N(0, \\sigma^2)$"
   ]
  },
  {
   "cell_type": "markdown",
   "id": "12ec5448",
   "metadata": {},
   "source": [
    "# Technical Details\n",
    "\n",
    "techinical details here"
   ]
  },
  {
   "cell_type": "markdown",
   "id": "0ed385ec",
   "metadata": {},
   "source": [
    "# Example"
   ]
  },
  {
   "cell_type": "markdown",
   "id": "286d3d5d",
   "metadata": {},
   "source": [
    "In this example we assume that the first genetic variant is the true causal variant and its true effect comes from the distribution $N(0,1)$, and then we simulate the trait value. Then we use OLS to fit the model and obtain the summary statistics.\n",
    "\n",
    "- Requirement: \n",
    "  - [OLS](https://gaow.github.io/statgen-prerequisites/ordinary_least_squares.html)\n",
    "  - [Summary Statistics](https://gaow.github.io/statgen-prerequisites/summary_statistics.html)"
   ]
  },
  {
   "cell_type": "code",
   "execution_count": 20,
   "id": "65aaa5b7",
   "metadata": {
    "vscode": {
     "languageId": "r"
    }
   },
   "outputs": [],
   "source": [
    "# Clear the environment\n",
    "rm(list = ls())\n",
    "set.seed(12)\n",
    "# Define genotypes for 5 individuals at 3 variants\n",
    "# These represent actual alleles at each position\n",
    "# For example, Individual 1 has genotypes: CC, CT, AT\n",
    "genotypes <- c(\n",
    " \"CC\", \"CT\", \"AT\",  # Individual 1\n",
    " \"TT\", \"TT\", \"AA\",  # Individual 2\n",
    " \"CT\", \"CT\", \"AA\",  # Individual 3\n",
    " \"CC\", \"TT\", \"AA\",  # Individual 4\n",
    " \"CC\", \"CC\", \"TT\"   # Individual 5\n",
    ")\n",
    "# Reshape into a matrix\n",
    "N = 5 # number of individuals\n",
    "M = 3 # number of variants\n",
    "geno_matrix <- matrix(genotypes, nrow=N, ncol=M, byrow=TRUE)\n",
    "rownames(geno_matrix) <- paste(\"Individual\", 1:N)\n",
    "colnames(geno_matrix) <- paste(\"Variant\", 1:M)\n",
    "\n",
    "alt_alleles <- c(\"T\", \"C\", \"T\")\n",
    "\n",
    "# Convert to raw genotype matrix using the additive / dominant / recessive model\n",
    "Xraw_additive <- matrix(0, nrow=N, ncol=M) # dount number of non-reference alleles\n",
    "\n",
    "rownames(Xraw_additive) <- rownames(geno_matrix)\n",
    "colnames(Xraw_additive) <- colnames(geno_matrix)\n",
    "\n",
    "for (i in 1:N) {\n",
    "  for (j in 1:M) {\n",
    "    alleles <- strsplit(geno_matrix[i,j], \"\")[[1]]\n",
    "    Xraw_additive[i,j] <- sum(alleles == alt_alleles[j])\n",
    "  }\n",
    "}\n",
    "X <- scale(Xraw_additive, center=TRUE, scale=TRUE)"
   ]
  },
  {
   "cell_type": "markdown",
   "id": "db207a01",
   "metadata": {},
   "source": [
    "Let's assume that the first variant is the true causal variant and its $\\beta$ comes from a normal distribution $N(0,1)$, while the error term comes from a distribution $N(0,0.3)$, then the observed trait value would be:"
   ]
  },
  {
   "cell_type": "code",
   "execution_count": 21,
   "id": "1c79ffec",
   "metadata": {
    "vscode": {
     "languageId": "r"
    }
   },
   "outputs": [],
   "source": [
    "beta_1 <- rnorm(1, mean = 0, sd = 1)\n",
    "epsilon <- rnorm(N, mean = 0, sd = 0.3)\n",
    "Y <- X[, 1] * beta_1 + epsilon\n"
   ]
  },
  {
   "cell_type": "markdown",
   "id": "c9caa87f",
   "metadata": {},
   "source": [
    "Then let's fit the OLS model:"
   ]
  },
  {
   "cell_type": "code",
   "execution_count": 22,
   "id": "570f42b3",
   "metadata": {
    "vscode": {
     "languageId": "r"
    }
   },
   "outputs": [
    {
     "data": {
      "text/html": [
       "<table class=\"dataframe\">\n",
       "<caption>A data.frame: 3 x 3</caption>\n",
       "<thead>\n",
       "\t<tr><th scope=col>Variant</th><th scope=col>Beta</th><th scope=col>P_Value</th></tr>\n",
       "\t<tr><th scope=col>&lt;chr&gt;</th><th scope=col>&lt;dbl&gt;</th><th scope=col>&lt;dbl&gt;</th></tr>\n",
       "</thead>\n",
       "<tbody>\n",
       "\t<tr><td>Variant 1</td><td>-1.588887</td><td>0.005496276</td></tr>\n",
       "\t<tr><td>Variant 2</td><td> 0.886833</td><td>0.344599346</td></tr>\n",
       "\t<tr><td>Variant 3</td><td> 1.048680</td><td>0.243084489</td></tr>\n",
       "</tbody>\n",
       "</table>\n"
      ],
      "text/latex": [
       "A data.frame: 3 x 3\n",
       "\\begin{tabular}{lll}\n",
       " Variant & Beta & P\\_Value\\\\\n",
       " <chr> & <dbl> & <dbl>\\\\\n",
       "\\hline\n",
       "\t Variant 1 & -1.588887 & 0.005496276\\\\\n",
       "\t Variant 2 &  0.886833 & 0.344599346\\\\\n",
       "\t Variant 3 &  1.048680 & 0.243084489\\\\\n",
       "\\end{tabular}\n"
      ],
      "text/markdown": [
       "\n",
       "A data.frame: 3 x 3\n",
       "\n",
       "| Variant &lt;chr&gt; | Beta &lt;dbl&gt; | P_Value &lt;dbl&gt; |\n",
       "|---|---|---|\n",
       "| Variant 1 | -1.588887 | 0.005496276 |\n",
       "| Variant 2 |  0.886833 | 0.344599346 |\n",
       "| Variant 3 |  1.048680 | 0.243084489 |\n",
       "\n"
      ],
      "text/plain": [
       "  Variant   Beta      P_Value    \n",
       "1 Variant 1 -1.588887 0.005496276\n",
       "2 Variant 2  0.886833 0.344599346\n",
       "3 Variant 3  1.048680 0.243084489"
      ]
     },
     "metadata": {},
     "output_type": "display_data"
    }
   ],
   "source": [
    "# OLS summary statistics for all variants\n",
    "p_values <- numeric(M)\n",
    "betas <- numeric(M)\n",
    "\n",
    "for (j in 1:M) {\n",
    "  SNP <- X[, j]\n",
    "  model <- lm(Y ~ SNP)\n",
    "  summary_model <- summary(model)\n",
    "  \n",
    "  betas[j] <- summary_model$coefficients[2, 1]\n",
    "  p_values[j] <- summary_model$coefficients[2, 4]\n",
    "}\n",
    "\n",
    "# Create summary table\n",
    "OLS_results <- data.frame(Variant = colnames(X), Beta = betas, P_Value = p_values)\n",
    "OLS_results"
   ]
  },
  {
   "cell_type": "code",
   "execution_count": null,
   "id": "0ba33206",
   "metadata": {
    "vscode": {
     "languageId": "r"
    }
   },
   "outputs": [],
   "source": []
  }
 ],
 "metadata": {
  "kernelspec": {
   "display_name": "R",
   "language": "R",
   "name": "ir"
  },
  "language_info": {
   "codemirror_mode": "r",
   "file_extension": ".r",
   "mimetype": "text/x-r-source",
   "name": "R",
   "pygments_lexer": "r",
   "version": "4.3.3"
  }
 },
 "nbformat": 4,
 "nbformat_minor": 5
}
