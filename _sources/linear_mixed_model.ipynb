{
 "cells": [
  {
   "cell_type": "markdown",
   "id": "ef8f4dd9",
   "metadata": {},
   "source": [
    "# Linear Mixed Model\n",
    "\n",
    "When we want to study a specific genetic variant as a **fixed effect** but know there are **countless unmeasured factors** affecting our trait, linear mixed models offer a practical solution: use a **random effect** based on genetic similarity to absorb all that unmeasured heterogeneity.\n"
   ]
  },
  {
   "cell_type": "markdown",
   "id": "f8e263b4",
   "metadata": {},
   "source": [
    "# Graphical Summary"
   ]
  },
  {
   "cell_type": "markdown",
   "id": "a8888754",
   "metadata": {},
   "source": [
    "![Fig](./graphical_summary/slides/Slide13.png)"
   ]
  },
  {
   "cell_type": "markdown",
   "id": "311dfed0",
   "metadata": {},
   "source": [
    "# Key Formula\n",
    "\n",
    "In the linear mixed model (**mixed** because it incorporate both the **fixed** and the **random** effects), which accurately represent non-independent data structures for a variant,\n",
    "\n",
    "$$\n",
    "\\mathbf{Y} = \\mathbf{X}\\beta + \\mathbf{g} + \\boldsymbol{\\epsilon}\n",
    "$$\n",
    "\n",
    "where:\n",
    "- $\\mathbf{Y}$ is the $N \\times 1$ vector of phenotypes\n",
    "- $\\mathbf{X}$ is the $N \\times 1$ design matrix for fixed effects (e.g., the specific genetic variant we're testing, plus measurable covariates like age and sex)\n",
    "- $\\beta$ is the scalar of fixed genetic effect coefficient (unknown, to be estimated)\n",
    "- $\\mathbf{g}$ is the $N \\times 1$ vector of random effects that captures **all the genetic factors we can't or don't want to model explicitly** - population structure, polygenic background, family relationships, and countless unknown genetic influences\n",
    "- $\\boldsymbol{\\epsilon}$ is the $N \\times 1$ vector of residual errors, where $\\boldsymbol{\\epsilon} \\sim N(0, \\sigma^2_e\\mathbf{I})$\n"
   ]
  },
  {
   "cell_type": "markdown",
   "id": "17380f67",
   "metadata": {},
   "source": [
    "# Technical Details\n",
    "\n",
    "## Random Effects Decomposition: $\\mathbf{g}$ and $\\mathbf{Zu}$\n",
    "\n",
    "The key insight is that for a genetic variant, there are countless things to account for: age, sex, ancestry, thousands of genes and unknown ones. We can never write the complete model:\n",
    "\n",
    "$$\n",
    "\\mathbf{Y} = \\text{genetic variant} + \\text{age} + \\text{sex} + \\text{ancestry} + \\text{gene}_1 + \\ldots + \\text{gene}_{20000} + \\text{unknown factors} + \\boldsymbol{\\epsilon}\n",
    "$$\n",
    "\n",
    "Instead, we approximate it as:\n",
    "\n",
    "$$\n",
    "\\mathbf{Y} = \\text{genetic variant} + \\text{age} + \\text{sex} + \\mathbf{g} + \\boldsymbol{\\epsilon}\n",
    "$$\n",
    "\n",
    "where $\\mathbf{g}$ soaks up the effects of ancestry, polygenic background, and all the other genetic factors we can't explicitly model. It's not as precise as conditioning on everything, but it's the best we can do when complete conditioning is impossible.\n",
    "\n",
    "**What information should $\\mathbf{g}$ capture?** Ideally, $\\mathbf{g}$ should include:\n",
    "- Population structure and ancestry differences\n",
    "- Polygenic effects from thousands of small-effect variants  \n",
    "- Family relationships and shared genetic background\n",
    "- Gene-gene interactions we haven't discovered\n",
    "- Any other source of genetic similarity between individuals\n",
    "\n",
    "The random effects term **g** can be decomposed as:\n",
    "\n",
    "$$\n",
    "\\mathbf{g} = \\mathbf{Z} \\mathbf{u}\n",
    "$$\n",
    "\n",
    "where:\n",
    "- $\\mathbf{g}$ is the $N \\times 1$ vector of random effects for $N$ individuals, where $\\mathbf{g} \\sim N(\\mathbf{0}, \\sigma^2_g\\mathbf{G})$\n",
    "- $\\mathbf{G}$ is the genetic relationship matrix (GRM) that measures genetic similarity between individuals, effectively capturing all the unmeasured genetic factors through genome-wide similarity patterns\n",
    "- $\\mathbf{Z}$ is the $N \\times M$ genotype matrix for $M$ genetic variants\n",
    "- $\\mathbf{u} \\sim N(0, \\sigma_u^2\\mathbf{I})$ is a $M \\times 1$ vector of random SNP effects\n",
    "- Formally known as the infinitesmal model\n",
    "\n",
    "\n",
    "## Popular LMM Methods in Statistical Genetics\n",
    "\n",
    "| Method | Purpose | Key Innovation | Scale/Application |\n",
    "|--------|---------|----------------|-------------------|\n",
    "| **GCTA** | Heritability estimation and association testing | Uses genome-wide SNPs to construct genetic relationship matrix (GRM) | $h^2 = \\frac{\\sigma^2_u}{\\sigma^2_u + \\sigma^2_e}$ estimation |\n",
    "| **GEMMA** | Fast genome-wide association studies with population structure control | Efficient algorithms for large-scale GWAS with kinship correction | Computationally efficient for large-scale data |\n",
    "| **BOLT-LMM** | Ultra-fast mixed model association testing | Bayesian sparse linear mixed model approach | Hundreds of thousands of individuals |\n",
    "| **SAIGE** | Association testing for binary and quantitative traits | Handles unbalanced case-control studies efficiently | Saddlepoint approximation for computational efficiency |\n",
    "| **REGENIE** | Whole genome regression with prediction | Two-step procedure combining whole-genome regression to solve mixed models | Use ridge regression instead of conventional LMM |"
   ]
  },
  {
   "cell_type": "markdown",
   "id": "da17a722",
   "metadata": {},
   "source": [
    "# Related Topics\n",
    "\n",
    "- [ordinary least squares](https://gaow.github.io/statgen-prerequisites/ordinary_least_squares.html)\n",
    "- [random effect](https://gaow.github.io/statgen-prerequisites/random_effect.html)\n",
    "- [genetic relationship matrix](https://gaow.github.io/statgen-prerequisites/genetic_relationship_matrix.html)\n",
    "- [confounder](https://gaow.github.io/statgen-prerequisites/confounder.html)\n",
    "- [proportion of variance explained](https://gaow.github.io/statgen-prerequisites/proportion_of_variance_explained.html)"
   ]
  },
  {
   "cell_type": "markdown",
   "id": "58d544ce-922b-4a03-b765-9a1972fd1859",
   "metadata": {},
   "source": [
    "# Example"
   ]
  },
  {
   "cell_type": "markdown",
   "id": "c892a753",
   "metadata": {},
   "source": [
    "What happens when we acknowledge that our trait is influenced not just by one specific variant, but also by a \"genetic background\" from all the other variants we're not explicitly testing? Let's see how linear mixed models capture this reality.\n",
    "\n",
    "We'll use the same 5 individuals, but now we'll model two sources of genetic influence: a fixed effect from one specific variant we're studying, plus a random polygenic effect that represents the combined influence of all variants acting as genetic background. How much does each component contribute to the total genetic influence on our trait?"
   ]
  },
  {
   "cell_type": "code",
   "execution_count": 13,
   "id": "77db5047-6e43-4b9c-8afc-30b087c66a62",
   "metadata": {
    "tags": [],
    "vscode": {
     "languageId": "r"
    }
   },
   "outputs": [],
   "source": [
    "# Clear the environment\n",
    "rm(list = ls())\n",
    "set.seed(13)\n",
    "library(MASS) # For mvrnorm function\n",
    "# Define genotypes for 5 individuals at 3 variants\n",
    "# These represent actual alleles at each position\n",
    "# For example, Individual 1 has genotypes: CC, CT, AT\n",
    "genotypes <- c(\n",
    " \"CC\", \"CT\", \"AT\",  # Individual 1\n",
    " \"TT\", \"TT\", \"AA\",  # Individual 2\n",
    " \"CT\", \"CT\", \"AA\",  # Individual 3\n",
    " \"CC\", \"TT\", \"AA\",  # Individual 4\n",
    " \"CC\", \"CC\", \"TT\"   # Individual 5\n",
    ")\n",
    "\n",
    "# Reshape into a matrix\n",
    "N = 5\n",
    "M = 3\n",
    "geno_matrix <- matrix(genotypes, nrow = N, ncol = M, byrow = TRUE)\n",
    "rownames(geno_matrix) <- paste(\"Individual\", 1:N)\n",
    "colnames(geno_matrix) <- paste(\"Variant\", 1:M)\n",
    "\n",
    "alt_alleles <- c(\"T\", \"C\", \"T\")\n",
    "\n",
    "# Convert to raw genotype matrix using the additive model\n",
    "Xraw_additive <- matrix(0, nrow = N, ncol = M) # count number of non-reference alleles\n",
    "\n",
    "rownames(Xraw_additive) <- rownames(geno_matrix)\n",
    "colnames(Xraw_additive) <- colnames(geno_matrix)\n",
    "\n",
    "for (i in 1:N) {\n",
    "  for (j in 1:M) {\n",
    "    alleles <- strsplit(geno_matrix[i,j], \"\")[[1]]\n",
    "    Xraw_additive[i,j] <- sum(alleles == alt_alleles[j])\n",
    "  }\n",
    "}\n",
    "\n",
    "X <- scale(Xraw_additive, center = TRUE, scale = TRUE)"
   ]
  },
  {
   "cell_type": "markdown",
   "id": "99df0c19",
   "metadata": {},
   "source": [
    "We generate the data according to a linear mixed model:"
   ]
  },
  {
   "cell_type": "code",
   "execution_count": 14,
   "id": "9c981de4",
   "metadata": {
    "vscode": {
     "languageId": "r"
    }
   },
   "outputs": [
    {
     "name": "stdout",
     "output_type": "stream",
     "text": [
      "Genetic Relationship Matrix (GRM):\n"
     ]
    },
    {
     "data": {
      "text/html": [
       "<table class=\"dataframe\">\n",
       "<caption>A matrix: 5 x 5 of type dbl</caption>\n",
       "<thead>\n",
       "\t<tr><th></th><th scope=col>Individual 1</th><th scope=col>Individual 2</th><th scope=col>Individual 3</th><th scope=col>Individual 4</th><th scope=col>Individual 5</th></tr>\n",
       "</thead>\n",
       "<tbody>\n",
       "\t<tr><th scope=row>Individual 1</th><td> 0.23571429</td><td>-0.5261905</td><td>-0.18095238</td><td>-0.02619048</td><td> 0.4976190</td></tr>\n",
       "\t<tr><th scope=row>Individual 2</th><td>-0.52619048</td><td> 1.2714286</td><td> 0.30714286</td><td> 0.10476190</td><td>-1.1571429</td></tr>\n",
       "\t<tr><th scope=row>Individual 3</th><td>-0.18095238</td><td> 0.3071429</td><td> 0.23571429</td><td>-0.02619048</td><td>-0.3357143</td></tr>\n",
       "\t<tr><th scope=row>Individual 4</th><td>-0.02619048</td><td> 0.1047619</td><td>-0.02619048</td><td> 0.60476190</td><td>-0.6571429</td></tr>\n",
       "\t<tr><th scope=row>Individual 5</th><td> 0.49761905</td><td>-1.1571429</td><td>-0.33571429</td><td>-0.65714286</td><td> 1.6523810</td></tr>\n",
       "</tbody>\n",
       "</table>\n"
      ],
      "text/latex": [
       "A matrix: 5 x 5 of type dbl\n",
       "\\begin{tabular}{r|lllll}\n",
       "  & Individual 1 & Individual 2 & Individual 3 & Individual 4 & Individual 5\\\\\n",
       "\\hline\n",
       "\tIndividual 1 &  0.23571429 & -0.5261905 & -0.18095238 & -0.02619048 &  0.4976190\\\\\n",
       "\tIndividual 2 & -0.52619048 &  1.2714286 &  0.30714286 &  0.10476190 & -1.1571429\\\\\n",
       "\tIndividual 3 & -0.18095238 &  0.3071429 &  0.23571429 & -0.02619048 & -0.3357143\\\\\n",
       "\tIndividual 4 & -0.02619048 &  0.1047619 & -0.02619048 &  0.60476190 & -0.6571429\\\\\n",
       "\tIndividual 5 &  0.49761905 & -1.1571429 & -0.33571429 & -0.65714286 &  1.6523810\\\\\n",
       "\\end{tabular}\n"
      ],
      "text/markdown": [
       "\n",
       "A matrix: 5 x 5 of type dbl\n",
       "\n",
       "| <!--/--> | Individual 1 | Individual 2 | Individual 3 | Individual 4 | Individual 5 |\n",
       "|---|---|---|---|---|---|\n",
       "| Individual 1 |  0.23571429 | -0.5261905 | -0.18095238 | -0.02619048 |  0.4976190 |\n",
       "| Individual 2 | -0.52619048 |  1.2714286 |  0.30714286 |  0.10476190 | -1.1571429 |\n",
       "| Individual 3 | -0.18095238 |  0.3071429 |  0.23571429 | -0.02619048 | -0.3357143 |\n",
       "| Individual 4 | -0.02619048 |  0.1047619 | -0.02619048 |  0.60476190 | -0.6571429 |\n",
       "| Individual 5 |  0.49761905 | -1.1571429 | -0.33571429 | -0.65714286 |  1.6523810 |\n",
       "\n"
      ],
      "text/plain": [
       "             Individual 1 Individual 2 Individual 3 Individual 4 Individual 5\n",
       "Individual 1  0.23571429  -0.5261905   -0.18095238  -0.02619048   0.4976190  \n",
       "Individual 2 -0.52619048   1.2714286    0.30714286   0.10476190  -1.1571429  \n",
       "Individual 3 -0.18095238   0.3071429    0.23571429  -0.02619048  -0.3357143  \n",
       "Individual 4 -0.02619048   0.1047619   -0.02619048   0.60476190  -0.6571429  \n",
       "Individual 5  0.49761905  -1.1571429   -0.33571429  -0.65714286   1.6523810  "
      ]
     },
     "metadata": {},
     "output_type": "display_data"
    }
   ],
   "source": [
    "# Linear Mixed Model: Y = X*beta + g + epsilon\n",
    "# where g = Z*u represents random polygenic effects\n",
    "\n",
    "# Fixed effect for variant 1\n",
    "beta <- 0.8  # Fixed effect size for variant 1\n",
    "\n",
    "# Create Genetic Relationship Matrix (GRM) using all variants\n",
    "# GRM = (1/M) * X_raw * X_raw^T, where X_raw is the standardized genotype matrix\n",
    "GRM <- (1/M) * X %*% t(X)\n",
    "cat(\"Genetic Relationship Matrix (GRM):\\n\")\n",
    "GRM\n",
    "\n",
    "# Generate random polygenic effects: g ~ N(0, sigma_u^2 * GRM)\n",
    "sigma_u <- 0.5  # Standard deviation of random effects\n",
    "g <- mvrnorm(n = 1, mu = rep(0, N), Sigma = sigma_u^2 * GRM)\n",
    "g <- as.vector(g)\n",
    "\n",
    "# Residual errors\n",
    "sigma_e <- 0.3  # Standard deviation of residual errors\n",
    "epsilon <- rnorm(N, mean = 0, sd = sigma_e)\n",
    "\n",
    "# Generate phenotype with both fixed and random effects\n",
    "Y <- X[, 1] * beta + g + epsilon\n"
   ]
  },
  {
   "cell_type": "markdown",
   "id": "69da423f",
   "metadata": {},
   "source": [
    "We can estimate the PVE again by each component:"
   ]
  },
  {
   "cell_type": "code",
   "execution_count": 15,
   "id": "9945f40b",
   "metadata": {
    "vscode": {
     "languageId": "r"
    }
   },
   "outputs": [
    {
     "name": "stdout",
     "output_type": "stream",
     "text": [
      "PVE Components:\n",
      "PVE_fixed (variant 1) = 0.8187 \n",
      "PVE_random (polygenic) = 0.1212 \n",
      "PVE_total = 0.67 \n",
      "\n"
     ]
    }
   ],
   "source": [
    "# In LMM, total genetic variance = fixed effects variance + random effects variance\n",
    "# Fixed genetic component from variant 1\n",
    "G_fixed <- X[, 1] * beta\n",
    "\n",
    "# Random genetic component (polygenic background)\n",
    "G_random <- g\n",
    "\n",
    "# Total genetic component\n",
    "G_total <- G_fixed + G_random\n",
    "\n",
    "# Calculate variance components\n",
    "var_G_fixed <- var(G_fixed)\n",
    "var_G_random <- var(G_random)\n",
    "var_G_total <- var(G_total)\n",
    "var_Y <- var(Y)\n",
    "\n",
    "# PVE calculations\n",
    "PVE_fixed <- var_G_fixed / var_Y           # PVE from fixed effects only\n",
    "PVE_random <- var_G_random / var_Y         # PVE from random effects only  \n",
    "PVE_total <- var_G_total / var_Y           # Total PVE\n",
    "\n",
    "cat(\"PVE Components:\\n\")\n",
    "cat(\"PVE_fixed (variant 1) =\", round(PVE_fixed, 4), \"\\n\")\n",
    "cat(\"PVE_random (polygenic) =\", round(PVE_random, 4), \"\\n\")\n",
    "cat(\"PVE_total =\", round(PVE_total, 4), \"\\n\\n\")"
   ]
  },
  {
   "cell_type": "markdown",
   "id": "2922a0f6",
   "metadata": {},
   "source": [
    "Note that the same framework applies when the genetic effect $\\beta$ is modeled as a random effect rather than fixed."
   ]
  },
  {
   "cell_type": "code",
   "execution_count": null,
   "metadata": {
    "vscode": {
     "languageId": "r"
    }
   },
   "outputs": [],
   "source": []
  }
 ],
 "metadata": {
  "kernelspec": {
   "display_name": "R",
   "language": "R",
   "name": "ir"
  },
  "language_info": {
   "codemirror_mode": "r",
   "file_extension": ".r",
   "mimetype": "text/x-r-source",
   "name": "R",
   "pygments_lexer": "r",
   "version": "4.3.3"
  },
  "toc-autonumbering": true
 },
 "nbformat": 4,
 "nbformat_minor": 5
}
