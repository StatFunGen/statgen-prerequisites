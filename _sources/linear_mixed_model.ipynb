{
 "cells": [
  {
   "cell_type": "markdown",
   "id": "ef8f4dd9",
   "metadata": {},
   "source": [
    "# Linear Mixed Model [FIXME]\n",
    "\n",
    "The random effect model in statistical genetics allows us to **account for correlation between individuals** due to shared genetic background (like family relationships) by partitioning variance into **fixed effects** (specific genetic variants we're testing) and **random effects** (overall genetic similarity within groups). "
   ]
  },
  {
   "cell_type": "markdown",
   "id": "1f3ce046",
   "metadata": {},
   "source": [
    "# TODO\n",
    "- Why is it called mixed: fixed effect ($\\beta$) + random effect $g$ (GRM)\n",
    "- so this is the common understanding of LMM"
   ]
  },
  {
   "cell_type": "markdown",
   "id": "f8e263b4",
   "metadata": {},
   "source": [
    "# Graphical Summary"
   ]
  },
  {
   "cell_type": "markdown",
   "id": "a8888754",
   "metadata": {},
   "source": [
    "![REM](./cartoons/linear_mixed_model.svg)"
   ]
  },
  {
   "cell_type": "markdown",
   "id": "8e3dc7f8",
   "metadata": {},
   "source": [
    "# Key Formula\n",
    "\n",
    "In the linear mixed model (**mixed** because it incorporate both the **fixed** and the **random** effects), which accurately represent non-independent data structures,\n",
    "\n",
    "$$\n",
    "\\mathbf{Y} = \\mathbf{X}\\boldsymbol{\\beta} + \\mathbf{Z}\\mathbf{u} + \\boldsymbol{\\epsilon}\n",
    "$$\n",
    "\n",
    "where:\n",
    "- $\\mathbf{Y}$ is the $N \\times 1$ vector of phenotypes\n",
    "- $\\mathbf{X}$ is the $N \\times M$ design matrix for fixed effects (e.g., genotypes, covariates)\n",
    "- $\\boldsymbol{\\beta}$ is the $M \\times 1$ vector of fixed effect coefficients (unknown, to be estimated)\n",
    "- $\\mathbf{Z}$ is the $N \\times M$ design matrix for random effects\n",
    "- $\\mathbf{u}$ is the $M \\times 1$ vector of random effects, where $\\mathbf{u} \\sim N(0, \\sigma^2_u\\mathbf{G})$ (unknown)\n",
    "- $\\mathbf{G}$ is the relationship matrix between the $N$ individuals\n",
    "- $\\boldsymbol{\\epsilon}$ is the $N \\times 1$ vector of residual errors, where $\\boldsymbol{\\epsilon} \\sim N(0, \\sigma^2_e\\mathbf{I})$"
   ]
  },
  {
   "cell_type": "markdown",
   "id": "17380f67",
   "metadata": {},
   "source": [
    "# Technical Details\n",
    "\n",
    "With the standard linear mixed model (LMM) defined as above, we can explicitly derive the following important results:\n",
    "\n",
    "1. Variance-Covariance Structure\n",
    "$$\\mathbf{V} = \\mathbf{Z}\\mathbf{G}\\mathbf{Z}' + \\mathbf{R}$$\n",
    "\n",
    "2. Best Linear Unbiased Estimator (BLUE) for Fixed Effects\n",
    "\n",
    "Given known variance components, the solution for fixed effects is:\n",
    "\n",
    "$$\\hat{\\boldsymbol{\\beta}} = (\\mathbf{X}'\\mathbf{V}^{-1}\\mathbf{X})^{-1}\\mathbf{X}'\\mathbf{V}^{-1}\\mathbf{Y}$$\n",
    "\n",
    "3. Best Linear Unbiased Predictor (BLUP) for Random Effects\n",
    "\n",
    "Given known variance components and estimated fixed effects, the solution for random effects is:\n",
    "\n",
    "$$\\hat{\\mathbf{u}} = \\mathbf{G}\\mathbf{Z}'\\mathbf{V}^{-1}(\\mathbf{Y} - \\mathbf{X}\\hat{\\boldsymbol{\\beta}})$$\n"
   ]
  },
  {
   "cell_type": "markdown",
   "id": "58d544ce-922b-4a03-b765-9a1972fd1859",
   "metadata": {},
   "source": [
    "# Example"
   ]
  },
  {
   "cell_type": "markdown",
   "id": "c892a753",
   "metadata": {},
   "source": [
    "In this genetic analysis example, we examine the relationship between genetic variants and height using **random effect models**. \n",
    "\n",
    "The key steps include: \n",
    "1. preparing genotype and phenotype data for 5 individuals with 3 genetic variants and height measurements, and standarize them\n",
    "2. organizing individuals into family groups (individuals 1-3 in family 1, individuals 4-5 in family 2)\n",
    "3. fitting random effect models for each variant using the `lmer` function, which allows us to separate variant-specific effects from family-related genetic background. \n",
    "\n",
    "\n",
    "The key information captured includes the effect size of each variant on height, the proportion of height variance explained by family relatedness versus the specific variant, and how accounting for family structure affects our understanding of genetic associations. Unlike fixed effect models that might attribute too much importance to specific variants, this approach helps control for the shared genetic background within families."
   ]
  },
  {
   "cell_type": "code",
   "execution_count": 13,
   "id": "77db5047-6e43-4b9c-8afc-30b087c66a62",
   "metadata": {
    "tags": [],
    "vscode": {
     "languageId": "r"
    }
   },
   "outputs": [],
   "source": [
    "# Clear the environment\n",
    "rm(list = ls())\n",
    "\n",
    "# Load required packages\n",
    "library(lme4)  # For mixed-effect models\n",
    "\n",
    "# Define genotypes for 5 individuals at 3 variants\n",
    "# These represent actual alleles at each position\n",
    "# For example, Individual 1 has genotypes: CC, CT, AT\n",
    "genotypes <- c(\n",
    " \"CC\", \"CT\", \"AT\",  # Individual 1\n",
    " \"TT\", \"TT\", \"AA\",  # Individual 2\n",
    " \"CT\", \"CT\", \"AA\",  # Individual 3\n",
    " \"CC\", \"TT\", \"AA\",  # Individual 4\n",
    " \"CC\", \"CC\", \"TT\"   # Individual 5\n",
    ")\n",
    "# Reshape into a matrix\n",
    "N = 5 # number of individuals\n",
    "M = 3 # number of variants\n",
    "geno_matrix <- matrix(genotypes, nrow=N, ncol=M, byrow=TRUE)\n",
    "rownames(geno_matrix) <- paste(\"Individual\", 1:N)\n",
    "colnames(geno_matrix) <- paste(\"Variant\", 1:M)\n",
    "\n",
    "alt_alleles <- c(\"T\", \"C\", \"T\")\n",
    "\n",
    "# Convert to raw genotype matrix using the additive / dominant / recessive model\n",
    "Xraw_additive <- matrix(0, nrow=N, ncol=M) # dount number of non-reference alleles\n",
    "\n",
    "rownames(Xraw_additive) <- rownames(geno_matrix)\n",
    "colnames(Xraw_additive) <- colnames(geno_matrix)\n",
    "\n",
    "for (i in 1:N) {\n",
    "  for (j in 1:M) {\n",
    "    alleles <- strsplit(geno_matrix[i,j], \"\")[[1]]\n",
    "    Xraw_additive[i,j] <- sum(alleles == alt_alleles[j])\n",
    "  }\n",
    "}\n",
    "X <- scale(Xraw_additive, center=TRUE, scale=TRUE)\n",
    "\n",
    "# assign observed height for the 5 individuals\n",
    "Y_raw <- c(180, 160, 158, 155, 193)\n",
    "Y <- scale(Y_raw)"
   ]
  },
  {
   "cell_type": "code",
   "execution_count": 14,
   "id": "9c981de4",
   "metadata": {
    "vscode": {
     "languageId": "r"
    }
   },
   "outputs": [
    {
     "data": {
      "text/html": [
       "<table class=\"dataframe\">\n",
       "<caption>A data.frame: 5 x 6</caption>\n",
       "<thead>\n",
       "\t<tr><th></th><th scope=col>height</th><th scope=col>family</th><th scope=col>individual</th><th scope=col>variant1</th><th scope=col>variant2</th><th scope=col>variant3</th></tr>\n",
       "\t<tr><th></th><th scope=col>&lt;dbl&gt;</th><th scope=col>&lt;dbl&gt;</th><th scope=col>&lt;int&gt;</th><th scope=col>&lt;dbl&gt;</th><th scope=col>&lt;dbl&gt;</th><th scope=col>&lt;dbl&gt;</th></tr>\n",
       "</thead>\n",
       "<tbody>\n",
       "\t<tr><th scope=row>Individual 1</th><td> 0.6528093</td><td>1</td><td>1</td><td>-0.6708204</td><td> 0.2390457</td><td> 0.4472136</td></tr>\n",
       "\t<tr><th scope=row>Individual 2</th><td>-0.5560968</td><td>1</td><td>2</td><td> 1.5652476</td><td>-0.9561829</td><td>-0.6708204</td></tr>\n",
       "\t<tr><th scope=row>Individual 3</th><td>-0.6769875</td><td>1</td><td>3</td><td> 0.4472136</td><td> 0.2390457</td><td>-0.6708204</td></tr>\n",
       "\t<tr><th scope=row>Individual 4</th><td>-0.8583234</td><td>2</td><td>4</td><td>-0.6708204</td><td>-0.9561829</td><td>-0.6708204</td></tr>\n",
       "\t<tr><th scope=row>Individual 5</th><td> 1.4385984</td><td>2</td><td>5</td><td>-0.6708204</td><td> 1.4342743</td><td> 1.5652476</td></tr>\n",
       "</tbody>\n",
       "</table>\n"
      ],
      "text/latex": [
       "A data.frame: 5 x 6\n",
       "\\begin{tabular}{r|llllll}\n",
       "  & height & family & individual & variant1 & variant2 & variant3\\\\\n",
       "  & <dbl> & <dbl> & <int> & <dbl> & <dbl> & <dbl>\\\\\n",
       "\\hline\n",
       "\tIndividual 1 &  0.6528093 & 1 & 1 & -0.6708204 &  0.2390457 &  0.4472136\\\\\n",
       "\tIndividual 2 & -0.5560968 & 1 & 2 &  1.5652476 & -0.9561829 & -0.6708204\\\\\n",
       "\tIndividual 3 & -0.6769875 & 1 & 3 &  0.4472136 &  0.2390457 & -0.6708204\\\\\n",
       "\tIndividual 4 & -0.8583234 & 2 & 4 & -0.6708204 & -0.9561829 & -0.6708204\\\\\n",
       "\tIndividual 5 &  1.4385984 & 2 & 5 & -0.6708204 &  1.4342743 &  1.5652476\\\\\n",
       "\\end{tabular}\n"
      ],
      "text/markdown": [
       "\n",
       "A data.frame: 5 x 6\n",
       "\n",
       "| <!--/--> | height &lt;dbl&gt; | family &lt;dbl&gt; | individual &lt;int&gt; | variant1 &lt;dbl&gt; | variant2 &lt;dbl&gt; | variant3 &lt;dbl&gt; |\n",
       "|---|---|---|---|---|---|---|\n",
       "| Individual 1 |  0.6528093 | 1 | 1 | -0.6708204 |  0.2390457 |  0.4472136 |\n",
       "| Individual 2 | -0.5560968 | 1 | 2 |  1.5652476 | -0.9561829 | -0.6708204 |\n",
       "| Individual 3 | -0.6769875 | 1 | 3 |  0.4472136 |  0.2390457 | -0.6708204 |\n",
       "| Individual 4 | -0.8583234 | 2 | 4 | -0.6708204 | -0.9561829 | -0.6708204 |\n",
       "| Individual 5 |  1.4385984 | 2 | 5 | -0.6708204 |  1.4342743 |  1.5652476 |\n",
       "\n"
      ],
      "text/plain": [
       "             height     family individual variant1   variant2   variant3  \n",
       "Individual 1  0.6528093 1      1          -0.6708204  0.2390457  0.4472136\n",
       "Individual 2 -0.5560968 1      2           1.5652476 -0.9561829 -0.6708204\n",
       "Individual 3 -0.6769875 1      3           0.4472136  0.2390457 -0.6708204\n",
       "Individual 4 -0.8583234 2      4          -0.6708204 -0.9561829 -0.6708204\n",
       "Individual 5  1.4385984 2      5          -0.6708204  1.4342743  1.5652476"
      ]
     },
     "metadata": {},
     "output_type": "display_data"
    }
   ],
   "source": [
    "# Add family information (individuals 1,2,3 are from family 1, and 4,5 from family 2)\n",
    "family_info <- c(1, 1, 1, 2, 2)\n",
    "\n",
    "# Create a data frame for analysis with scaled genotypes\n",
    "genetic_data <- data.frame(\n",
    "  height = Y,\n",
    "  family = family_info,\n",
    "  individual = 1:N,\n",
    "  X  # This directly adds all columns of X to the dataframe\n",
    ")\n",
    "\n",
    "# Rename the genotype columns for clarity\n",
    "colnames(genetic_data)[4:(3+M)] <- paste0(\"variant\", 1:M)\n",
    "\n",
    "genetic_data"
   ]
  },
  {
   "cell_type": "code",
   "execution_count": 15,
   "metadata": {
    "vscode": {
     "languageId": "r"
    }
   },
   "outputs": [
    {
     "name": "stderr",
     "output_type": "stream",
     "text": [
      "boundary (singular) fit: see help('isSingular')\n",
      "\n"
     ]
    },
    {
     "name": "stdout",
     "output_type": "stream",
     "text": [
      "\n",
      "Effect size (beta): -0.5000913 \n",
      "Family variance component: 0 \n",
      "Residual variance component: 0.9998782 \n",
      "Proportion of variance due to family: 0 \n"
     ]
    },
    {
     "name": "stderr",
     "output_type": "stream",
     "text": [
      "boundary (singular) fit: see help('isSingular')\n",
      "\n"
     ]
    },
    {
     "name": "stdout",
     "output_type": "stream",
     "text": [
      "\n",
      "Effect size (beta): 0.8525024 \n",
      "Family variance component: 0 \n",
      "Residual variance component: 0.3643196 \n",
      "Proportion of variance due to family: 0 \n",
      "\n",
      "Effect size (beta): 1.04884 \n",
      "Family variance component: 0.04201681 \n",
      "Residual variance component: 0.007307271 \n",
      "Proportion of variance due to family: 0.8518519 \n"
     ]
    }
   ],
   "source": [
    "# Perform random effect model analysis for each variant separately\n",
    "random_models <- list()\n",
    "random_model_summaries <- list()\n",
    "\n",
    "for (j in 1:M) {\n",
    "  variant_col <- paste0(\"variant\", j)\n",
    "  formula <- as.formula(paste(\"height ~\", variant_col, \"+ (1|family)\"))\n",
    "  \n",
    "  # Fit random effect model\n",
    "  random_models[[j]] <- lmer(formula, data = genetic_data)\n",
    "  random_model_summaries[[j]] <- summary(random_models[[j]])\n",
    "  \n",
    "  # Extract and print key information\n",
    "  fixed_effects <- fixef(random_models[[j]])\n",
    "  random_variance <- as.numeric(VarCorr(random_models[[j]])$family)\n",
    "  residual_variance <- attr(VarCorr(random_models[[j]]), \"sc\")^2\n",
    "  \n",
    "  cat(\"\\nEffect size (beta):\", fixed_effects[2], \"\\n\")\n",
    "  cat(\"Family variance component:\", random_variance, \"\\n\")\n",
    "  cat(\"Residual variance component:\", residual_variance, \"\\n\")\n",
    "  cat(\"Proportion of variance due to family:\", random_variance / (random_variance + residual_variance), \"\\n\")\n",
    "}"
   ]
  },
  {
   "cell_type": "code",
   "execution_count": 16,
   "metadata": {
    "vscode": {
     "languageId": "r"
    }
   },
   "outputs": [
    {
     "name": "stdout",
     "output_type": "stream",
     "text": [
      "\n",
      "---------- Effect Sizes Across Variants ----------\n",
      " Variant 1  Variant 2  Variant 3 \n",
      "-0.5000913  0.8525024  1.0488402 \n",
      "\n",
      "---------- Variance Components Across Variants ----------\n",
      "          family_var residual_var proportion_family\n",
      "Variant 1 0.00000000  0.999878212         0.0000000\n",
      "Variant 2 0.00000000  0.364319641         0.0000000\n",
      "Variant 3 0.04201681  0.007307271         0.8518519\n"
     ]
    }
   ],
   "source": [
    "# Compare effects across variants\n",
    "variant_effects <- sapply(random_models, function(model) fixef(model)[2])\n",
    "names(variant_effects) <- paste0(\"Variant \", 1:M)\n",
    "cat(\"\\n---------- Effect Sizes Across Variants ----------\\n\")\n",
    "print(variant_effects)\n",
    "\n",
    "# Compare variance components across variants\n",
    "variance_components <- lapply(random_models, function(model) {\n",
    "  vc <- VarCorr(model)\n",
    "  family_var <- as.numeric(vc$family)\n",
    "  residual_var <- attr(vc, \"sc\")^2\n",
    "  c(family_var = family_var, \n",
    "    residual_var = residual_var, \n",
    "    proportion_family = family_var / (family_var + residual_var))\n",
    "})\n",
    "variance_df <- do.call(rbind, variance_components)\n",
    "rownames(variance_df) <- paste0(\"Variant \", 1:M)\n",
    "cat(\"\\n---------- Variance Components Across Variants ----------\\n\")\n",
    "print(variance_df)"
   ]
  },
  {
   "cell_type": "code",
   "execution_count": null,
   "metadata": {
    "vscode": {
     "languageId": "r"
    }
   },
   "outputs": [],
   "source": []
  }
 ],
 "metadata": {
  "kernelspec": {
   "display_name": "R",
   "language": "R",
   "name": "ir"
  },
  "language_info": {
   "codemirror_mode": "r",
   "file_extension": ".r",
   "mimetype": "text/x-r-source",
   "name": "R",
   "pygments_lexer": "r",
   "version": "4.3.3"
  },
  "toc-autonumbering": true
 },
 "nbformat": 4,
 "nbformat_minor": 5
}
