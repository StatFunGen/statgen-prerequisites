{
 "cells": [
  {
   "cell_type": "markdown",
   "id": "bef5ee80",
   "metadata": {},
   "source": [
    "# Hardy-Weinberg Equilibrium\n",
    "\n",
    "The Hardy-Weinberg equilibrium (HWE) describes how allele and genotype frequencies remain constant across generations in a population where there is no interference from evolutionary forces."
   ]
  },
  {
   "cell_type": "markdown",
   "id": "348c6f7e",
   "metadata": {},
   "source": [
    "# Graphical Summary"
   ]
  },
  {
   "cell_type": "markdown",
   "id": "80e25a34",
   "metadata": {},
   "source": [
    "![HWE](./cartoons/Hardy_Weinberg_equilibrium.svg)"
   ]
  },
  {
   "cell_type": "markdown",
   "id": "a5885a2c",
   "metadata": {},
   "source": [
    "# Key Formula\n",
    "\n",
    "For a genetic variants with two alleles (`A` and `a`) with frequencies $p$ and $q$ respectively (where $p + q = 1$):\n",
    "\n",
    "$$p^2 + 2pq + q^2 = 1$$\n",
    "\n",
    "Where:\n",
    "- $p^2$ = frequency of genotype AA\n",
    "- $2pq$ = frequency of genotype Aa\n",
    "- $q^2$ = frequency of genotype aa"
   ]
  },
  {
   "cell_type": "markdown",
   "id": "7165b757",
   "metadata": {},
   "source": [
    "# Technical Details\n"
   ]
  },
  {
   "cell_type": "markdown",
   "id": "c813dd6e",
   "metadata": {},
   "source": [
    "## Expected Counts Under HWE\n",
    "The expected counts under HWE are:\n",
    "\n",
    "$$\n",
    "E_{AA} = f_A^2 \\cdot N\n",
    "$$\n",
    "\n",
    "$$\n",
    "E_{Aa} = 2f_A f_a \\cdot N\n",
    "$$\n",
    "\n",
    "$$\n",
    "E_{aa} = f_a^2 \\cdot N\n",
    "$$\n",
    "\n",
    "where:  \n",
    "- $f_A$: frequency of allele A\n",
    "- $f_a = 1 - f_A$: frequency of allele a\n",
    "- $N$ = Total number of individuals.\n",
    "\n",
    "## Test HWE Using Chi-squared Test\n",
    "\n",
    "Then one can use Pearson's chi-squared test to test if HWE holds:\n",
    "\n",
    "$$\n",
    "\\chi^2 = \\sum \\frac{(O_i - E_i)^2}{E_i}\n",
    "$$\n",
    "\n",
    "where:  \n",
    "- $O_i$ = Observed genotype count (AA, Aa, aa).  \n",
    "- $E_i$ = Expected genotype count under Hardy-Weinberg Equilibrium.  \n",
    "- The summation runs over all genotype categories.  \n",
    "\n",
    "To determine statistical significance, compare $\\chi^2$ with a **chi-square distribution** with **1 degree of freedom** (df = 1). The p-value is computed as:\n",
    "\n",
    "$$\n",
    "p = P(\\chi^2 > \\text{observed } \\chi^2)\n",
    "$$\n",
    "\n",
    "If $p < 0.05$, we reject the **Hardy-Weinberg Equilibrium** assumption."
   ]
  },
  {
   "cell_type": "markdown",
   "id": "7133750f",
   "metadata": {},
   "source": [
    "## When HWE Doesn't Hold\n",
    "- **Non-random mating**: When individuals choose mates based on genotype or phenotype, homozygosity increases beyond HWE expectations.\n",
    "- **Natural selection**: When certain genotypes have survival or reproductive advantages, their frequencies change between generations.\n",
    "- **Migration**: Gene flow introduces new alleles from other populations, altering local allele frequencies.\n",
    "- **Genetic drift**: Random sampling effects in small populations cause unpredictable changes in allele frequencies.\n",
    "- **Mutation**: New alleles emerge through mutation, changing the genetic composition of the population.\n",
    "\n",
    "## Common Misconceptions\n",
    "- While entire genomes aren't in HWE, individual loci often are, especially neutral markers.\n",
    "- HWE is surprisingly robust to minor violations of its assumptions.\n",
    "- Deviations from HWE often signal important biological phenomena rather than errors.\n",
    "- HWE describes the mathematical relationship between allele and genotype frequencies, not the absence of genetic variation.\n",
    "\n",
    "## Role of HWE in Statistical Genetics\n",
    "\n",
    "Hardy-Weinberg Equilibrium serves several critical functions in statistical genetics:\n",
    "\n",
    "- **Quality control baseline**: Significant deviations from HWE often signal genotyping errors or technical artifacts rather than biological phenomena, providing an efficient method to identify problematic markers.\n",
    "\n",
    "- **Null hypothesis framework**: HWE establishes the expected genotype distribution under neutral conditions, serving as the statistical null model against which evolutionary forces can be detected.\n",
    "\n",
    "- **Allele frequency estimation**: When only partial genotype data is available, HWE principles allow researchers to estimate complete population allele frequencies.\n",
    "\n",
    "- **Statistical power improvement**: Filtering out markers that violate HWE improves signal-to-noise ratio in association studies, increasing power to detect true genetic effects.\n",
    "\n",
    "- **Population structure inference**: Systematic HWE deviations across multiple loci can reveal cryptic population substructure that might confound genetic analyses."
   ]
  },
  {
   "cell_type": "markdown",
   "id": "d02e3c49",
   "metadata": {},
   "source": [
    "# Example"
   ]
  },
  {
   "cell_type": "markdown",
   "id": "fef35ee8",
   "metadata": {},
   "source": [
    "## Example 1 -- HWE holds"
   ]
  },
  {
   "cell_type": "markdown",
   "id": "5691d19a",
   "metadata": {},
   "source": [
    "Here we use the original data from [E.B. Ford (1971) on the scarlet tiger moth](https://en.wikipedia.org/wiki/Hardy–Weinberg_principle), for which the phenotypes of a sample of the population were recorded.\n",
    ">\n",
    "> **Table 1: Example Hardy–Weinberg Principle Calculation**\n",
    ">\n",
    "| Phenotype          | White-spotted (AA) | Intermediate (Aa) | Little spotting (aa) | Total |\n",
    "|--------------------|-------------------|-------------------|----------------------|-------|\n",
    "| Number        | 1469              | 138               | 5                    | 1612  |\n",
    "\n",
    "\n",
    "We first test the HWE on the original data above, and then manually make some data to show when the HWE doesn't hold."
   ]
  },
  {
   "cell_type": "code",
   "execution_count": 7,
   "id": "e84c6de0",
   "metadata": {
    "vscode": {
     "languageId": "r"
    }
   },
   "outputs": [],
   "source": [
    "# Clear the environment\n",
    "rm(list = ls())\n",
    "\n",
    "# Data from E. B. Ford (1971) on the scarlet tiger moth\n",
    "N_AA <- 1469  # White-spotted\n",
    "N_Aa <- 138   # Intermediate\n",
    "N_aa <- 5     # Little spotting\n",
    "N_total <- N_AA + N_Aa + N_aa\n"
   ]
  },
  {
   "cell_type": "code",
   "execution_count": null,
   "id": "1f25a602",
   "metadata": {
    "vscode": {
     "languageId": "r"
    }
   },
   "outputs": [],
   "source": [
    "# Calculate observed allele frequencies\n",
    "N_A <- (2*N_AA + N_Aa)\n",
    "N_a <- (2*N_aa + N_Aa)\n",
    "N_total <- 2*N_total\n",
    "\n",
    "p <- N_A/N_total  # Frequency of A allele\n",
    "q <- N_a/N_total  # Frequency of a allele\n"
   ]
  },
  {
   "cell_type": "markdown",
   "id": "c439dc7f",
   "metadata": {},
   "source": [
    "Allele frequencies for A and a are:"
   ]
  },
  {
   "cell_type": "code",
   "execution_count": 9,
   "id": "85407e12",
   "metadata": {
    "vscode": {
     "languageId": "r"
    }
   },
   "outputs": [
    {
     "name": "stdout",
     "output_type": "stream",
     "text": [
      "p (A) = 0.9541 \n",
      "q (a) = 0.0459 \n"
     ]
    }
   ],
   "source": [
    "cat(\"p (A) =\", round(p, 4), \"\\n\")\n",
    "cat(\"q (a) =\", round(q, 4), \"\\n\")"
   ]
  },
  {
   "cell_type": "code",
   "execution_count": null,
   "id": "70743858",
   "metadata": {
    "vscode": {
     "languageId": "r"
    }
   },
   "outputs": [],
   "source": [
    "# Calculate expected genotype counts under HWE\n",
    "N_exp_AA <- p^2 * N_total\n",
    "N_exp_Aa <- 2*p*q * N_total\n",
    "N_exp_aa <- q^2 * N_total\n",
    "\n",
    "# Create a table of observed vs expected\n",
    "genotypes <- c(\"AA\", \"Aa\", \"aa\")\n",
    "N_observed <- c(N_AA, N_Aa, N_aa)\n",
    "N_expected <- c(N_exp_AA, N_exp_Aa, N_exp_aa)\n",
    "results <- data.frame(Genotype = genotypes, Observed = N_observed, Expected = N_expected)\n",
    "results$Difference <- results$Observed - results$Expected\n"
   ]
  },
  {
   "cell_type": "markdown",
   "id": "8c4b2f3f",
   "metadata": {},
   "source": [
    "Here is a table for observed vs expected genotype counts:"
   ]
  },
  {
   "cell_type": "code",
   "execution_count": 11,
   "id": "7e759795",
   "metadata": {
    "vscode": {
     "languageId": "r"
    }
   },
   "outputs": [
    {
     "data": {
      "text/html": [
       "<table class=\"dataframe\">\n",
       "<caption>A data.frame: 3 x 4</caption>\n",
       "<thead>\n",
       "\t<tr><th scope=col>Genotype</th><th scope=col>Observed</th><th scope=col>Expected</th><th scope=col>Difference</th></tr>\n",
       "\t<tr><th scope=col>&lt;chr&gt;</th><th scope=col>&lt;dbl&gt;</th><th scope=col>&lt;dbl&gt;</th><th scope=col>&lt;dbl&gt;</th></tr>\n",
       "</thead>\n",
       "<tbody>\n",
       "\t<tr><td>AA</td><td>1469</td><td>2934.794045</td><td>-1465.794045</td></tr>\n",
       "\t<tr><td>Aa</td><td> 138</td><td> 282.411911</td><td> -144.411911</td></tr>\n",
       "\t<tr><td>aa</td><td>   5</td><td>   6.794045</td><td>   -1.794045</td></tr>\n",
       "</tbody>\n",
       "</table>\n"
      ],
      "text/latex": [
       "A data.frame: 3 x 4\n",
       "\\begin{tabular}{llll}\n",
       " Genotype & Observed & Expected & Difference\\\\\n",
       " <chr> & <dbl> & <dbl> & <dbl>\\\\\n",
       "\\hline\n",
       "\t AA & 1469 & 2934.794045 & -1465.794045\\\\\n",
       "\t Aa &  138 &  282.411911 &  -144.411911\\\\\n",
       "\t aa &    5 &    6.794045 &    -1.794045\\\\\n",
       "\\end{tabular}\n"
      ],
      "text/markdown": [
       "\n",
       "A data.frame: 3 x 4\n",
       "\n",
       "| Genotype &lt;chr&gt; | Observed &lt;dbl&gt; | Expected &lt;dbl&gt; | Difference &lt;dbl&gt; |\n",
       "|---|---|---|---|\n",
       "| AA | 1469 | 2934.794045 | -1465.794045 |\n",
       "| Aa |  138 |  282.411911 |  -144.411911 |\n",
       "| aa |    5 |    6.794045 |    -1.794045 |\n",
       "\n"
      ],
      "text/plain": [
       "  Genotype Observed Expected    Difference  \n",
       "1 AA       1469     2934.794045 -1465.794045\n",
       "2 Aa        138      282.411911  -144.411911\n",
       "3 aa          5        6.794045    -1.794045"
      ]
     },
     "metadata": {},
     "output_type": "display_data"
    }
   ],
   "source": [
    "results\n"
   ]
  },
  {
   "cell_type": "code",
   "execution_count": null,
   "id": "c8e2602d",
   "metadata": {
    "vscode": {
     "languageId": "r"
    }
   },
   "outputs": [],
   "source": [
    "# Perform chi-square test\n",
    "chi_sq <- sum((N_observed - N_expected)^2/N_expected)\n",
    "degrees_freedom <- 1  # number of genotypes - number of independent alleles = 3 - 2 = 1\n",
    "p_value <- 1 - pchisq(chi_sq, degrees_freedom)\n"
   ]
  },
  {
   "cell_type": "markdown",
   "id": "ae7cef42",
   "metadata": {},
   "source": [
    "Chi-square test result:"
   ]
  },
  {
   "cell_type": "code",
   "execution_count": 14,
   "id": "f1fc08bc",
   "metadata": {
    "vscode": {
     "languageId": "r"
    }
   },
   "outputs": [
    {
     "name": "stdout",
     "output_type": "stream",
     "text": [
      "Chi-square statistic = 806.4155 \n",
      "Degrees of freedom = 1 \n",
      "p-value = 0e+00 \n"
     ]
    }
   ],
   "source": [
    "cat(\"Chi-square statistic =\", round(chi_sq, 4), \"\\n\")\n",
    "cat(\"Degrees of freedom =\", degrees_freedom, \"\\n\")\n",
    "cat(\"p-value =\", format(p_value, scientific = TRUE), \"\\n\")"
   ]
  },
  {
   "cell_type": "markdown",
   "id": "61ab62eb",
   "metadata": {},
   "source": [
    "If we set $\\alpha=0.05$, then here is the conclusion:"
   ]
  },
  {
   "cell_type": "code",
   "execution_count": 15,
   "id": "63374de3",
   "metadata": {
    "vscode": {
     "languageId": "r"
    }
   },
   "outputs": [
    {
     "name": "stdout",
     "output_type": "stream",
     "text": [
      "The population deviates significantly from Hardy-Weinberg equilibrium (p < 0.05)"
     ]
    }
   ],
   "source": [
    "# Conclusion\n",
    "alpha <- 0.05\n",
    "if(p_value < alpha) {\n",
    "  cat(\"The population deviates significantly from Hardy-Weinberg equilibrium (p < 0.05)\")\n",
    "} else {\n",
    "  cat(\"The population is in Hardy-Weinberg equilibrium (p >= 0.05)\")\n",
    "}"
   ]
  },
  {
   "cell_type": "markdown",
   "id": "041aa66b",
   "metadata": {},
   "source": [
    "## Example 2 -- HWE doens't hold"
   ]
  },
  {
   "cell_type": "markdown",
   "id": "eb369334",
   "metadata": {},
   "source": [
    "Now that imagine that we observe twice the size of the Intermediate (Aa) and zero of the Little spotting (aa), and re-do the analysis:\n",
    ">\n",
    "> **Table 2: Example Hardy–Weinberg Principle Calculation (manually adjusted in this notebook)**\n",
    ">\n",
    "| Phenotype          | White-spotted (AA) | Intermediate (Aa) | Little spotting (aa) | Total |\n",
    "|--------------------|-------------------|-------------------|----------------------|-------|\n",
    "| Number        | 1469              | 276               | 0                    | 1745  |\n"
   ]
  },
  {
   "cell_type": "code",
   "execution_count": 16,
   "id": "51faafe2",
   "metadata": {
    "vscode": {
     "languageId": "r"
    }
   },
   "outputs": [],
   "source": [
    "rm(list=ls())\n",
    "# Modified scenario: No aa genotypes observed\n",
    "N_AA <- 1469  # White-spotted\n",
    "N_Aa <- 276   # Intermediate\n",
    "N_aa <- 0     # Little spotting (now zero)\n",
    "N_total <- N_AA + N_Aa + N_aa\n",
    "\n",
    "# Calculate observed allele frequencies\n",
    "N_A <- (2*N_AA + N_Aa)\n",
    "N_a <- (2*N_aa + N_Aa)\n",
    "N_total <- 2*N_total\n",
    "\n",
    "p <- N_A/N_total  # Frequency of A allele\n",
    "q <- N_a/N_total  # Frequency of a allele\n"
   ]
  },
  {
   "cell_type": "markdown",
   "id": "cab47464",
   "metadata": {},
   "source": [
    "Now the allele frequencies are:"
   ]
  },
  {
   "cell_type": "code",
   "execution_count": 17,
   "id": "98a5249b",
   "metadata": {
    "vscode": {
     "languageId": "r"
    }
   },
   "outputs": [
    {
     "name": "stdout",
     "output_type": "stream",
     "text": [
      "p (A) = 0.9209 \n",
      "q (a) = 0.0791 \n"
     ]
    }
   ],
   "source": [
    "cat(\"p (A) =\", round(p, 4), \"\\n\")\n",
    "cat(\"q (a) =\", round(q, 4), \"\\n\")"
   ]
  },
  {
   "cell_type": "code",
   "execution_count": 18,
   "id": "449fd8f5",
   "metadata": {
    "vscode": {
     "languageId": "r"
    }
   },
   "outputs": [],
   "source": [
    "# Calculate expected genotype counts under HWE\n",
    "N_exp_AA <- p^2 * N_total\n",
    "N_exp_Aa <- 2*p*q * N_total\n",
    "N_exp_aa <- q^2 * N_total\n",
    "\n",
    "# Create a table of observed vs expected\n",
    "genotypes <- c(\"AA\", \"Aa\", \"aa\")\n",
    "N_observed <- c(N_AA, N_Aa, N_aa)\n",
    "N_expected <- c(N_exp_AA, N_exp_Aa, N_exp_aa)\n",
    "results <- data.frame(Genotype = genotypes, Observed = N_observed, Expected = N_expected)\n",
    "results$Difference <- results$Observed - results$Expected\n"
   ]
  },
  {
   "cell_type": "markdown",
   "id": "a78e9fbd",
   "metadata": {},
   "source": [
    "Observed vs Expected Genotype Counts:"
   ]
  },
  {
   "cell_type": "code",
   "execution_count": 19,
   "id": "dbc0188e",
   "metadata": {
    "vscode": {
     "languageId": "r"
    }
   },
   "outputs": [
    {
     "data": {
      "text/html": [
       "<table class=\"dataframe\">\n",
       "<caption>A data.frame: 3 x 4</caption>\n",
       "<thead>\n",
       "\t<tr><th scope=col>Genotype</th><th scope=col>Observed</th><th scope=col>Expected</th><th scope=col>Difference</th></tr>\n",
       "\t<tr><th scope=col>&lt;chr&gt;</th><th scope=col>&lt;dbl&gt;</th><th scope=col>&lt;dbl&gt;</th><th scope=col>&lt;dbl&gt;</th></tr>\n",
       "</thead>\n",
       "<tbody>\n",
       "\t<tr><td>AA</td><td>1469</td><td>2959.82693</td><td>-1490.82693</td></tr>\n",
       "\t<tr><td>Aa</td><td> 276</td><td> 508.34613</td><td> -232.34613</td></tr>\n",
       "\t<tr><td>aa</td><td>   0</td><td>  21.82693</td><td>  -21.82693</td></tr>\n",
       "</tbody>\n",
       "</table>\n"
      ],
      "text/latex": [
       "A data.frame: 3 x 4\n",
       "\\begin{tabular}{llll}\n",
       " Genotype & Observed & Expected & Difference\\\\\n",
       " <chr> & <dbl> & <dbl> & <dbl>\\\\\n",
       "\\hline\n",
       "\t AA & 1469 & 2959.82693 & -1490.82693\\\\\n",
       "\t Aa &  276 &  508.34613 &  -232.34613\\\\\n",
       "\t aa &    0 &   21.82693 &   -21.82693\\\\\n",
       "\\end{tabular}\n"
      ],
      "text/markdown": [
       "\n",
       "A data.frame: 3 x 4\n",
       "\n",
       "| Genotype &lt;chr&gt; | Observed &lt;dbl&gt; | Expected &lt;dbl&gt; | Difference &lt;dbl&gt; |\n",
       "|---|---|---|---|\n",
       "| AA | 1469 | 2959.82693 | -1490.82693 |\n",
       "| Aa |  276 |  508.34613 |  -232.34613 |\n",
       "| aa |    0 |   21.82693 |   -21.82693 |\n",
       "\n"
      ],
      "text/plain": [
       "  Genotype Observed Expected   Difference \n",
       "1 AA       1469     2959.82693 -1490.82693\n",
       "2 Aa        276      508.34613  -232.34613\n",
       "3 aa          0       21.82693   -21.82693"
      ]
     },
     "metadata": {},
     "output_type": "display_data"
    }
   ],
   "source": [
    "results"
   ]
  },
  {
   "cell_type": "code",
   "execution_count": 20,
   "id": "7a3d849e",
   "metadata": {
    "vscode": {
     "languageId": "r"
    }
   },
   "outputs": [],
   "source": [
    "# Perform chi-square test\n",
    "chi_sq <- sum((N_observed - N_expected)^2/N_expected)\n",
    "degrees_freedom <- 1  # number of genotypes - number of independent alleles = 3 - 2 = 1\n",
    "p_value <- 1 - pchisq(chi_sq, degrees_freedom)\n"
   ]
  },
  {
   "cell_type": "markdown",
   "id": "05669b03",
   "metadata": {},
   "source": [
    "Chi-square test result:"
   ]
  },
  {
   "cell_type": "code",
   "execution_count": 21,
   "id": "19c21598",
   "metadata": {
    "vscode": {
     "languageId": "r"
    }
   },
   "outputs": [
    {
     "name": "stdout",
     "output_type": "stream",
     "text": [
      "Chi-square statistic = 878.9342 \n"
     ]
    },
    {
     "name": "stdout",
     "output_type": "stream",
     "text": [
      "Degrees of freedom = 1 \n",
      "p-value = 0e+00 \n"
     ]
    }
   ],
   "source": [
    "cat(\"Chi-square statistic =\", round(chi_sq, 4), \"\\n\")\n",
    "cat(\"Degrees of freedom =\", degrees_freedom, \"\\n\")\n",
    "cat(\"p-value =\", format(p_value, scientific = TRUE), \"\\n\")"
   ]
  },
  {
   "cell_type": "markdown",
   "id": "271cc56b",
   "metadata": {},
   "source": [
    "If we set $\\alpha=0.05$, then here is the conclusion:"
   ]
  },
  {
   "cell_type": "code",
   "execution_count": 22,
   "id": "4dee49a5",
   "metadata": {
    "vscode": {
     "languageId": "r"
    }
   },
   "outputs": [
    {
     "name": "stdout",
     "output_type": "stream",
     "text": [
      "The population deviates significantly from Hardy-Weinberg equilibrium (p < 0.05)"
     ]
    }
   ],
   "source": [
    "# Conclusion\n",
    "alpha <- 0.05\n",
    "if(p_value < alpha) {\n",
    "  cat(\"The population deviates significantly from Hardy-Weinberg equilibrium (p < 0.05)\")\n",
    "} else {\n",
    "  cat(\"The population is in Hardy-Weinberg equilibrium (p >= 0.05)\")\n",
    "}"
   ]
  }
 ],
 "metadata": {
  "kernelspec": {
   "display_name": "R",
   "language": "R",
   "name": "ir"
  },
  "language_info": {
   "codemirror_mode": "r",
   "file_extension": ".r",
   "mimetype": "text/x-r-source",
   "name": "R",
   "pygments_lexer": "r",
   "version": "4.3.3"
  },
  "toc-autonumbering": true
 },
 "nbformat": 4,
 "nbformat_minor": 5
}
