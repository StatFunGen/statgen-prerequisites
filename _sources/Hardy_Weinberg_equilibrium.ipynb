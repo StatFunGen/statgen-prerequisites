{
 "cells": [
  {
   "cell_type": "markdown",
   "id": "bef5ee80",
   "metadata": {},
   "source": [
    "# Hardy-Weinberg Equilibrium\n",
    "\n",
    "The Hardy-Weinberg equilibrium (HWE) describes how allele and genotype frequencies remain constant across generations in a population where there is no interference from evolutionary forces."
   ]
  },
  {
   "cell_type": "markdown",
   "id": "348c6f7e",
   "metadata": {},
   "source": [
    "# Graphical Summary"
   ]
  },
  {
   "cell_type": "markdown",
   "id": "80e25a34",
   "metadata": {},
   "source": [
    "![HWE](./cartoons/Hardy_Weinberg_equilibrium.svg)"
   ]
  },
  {
   "cell_type": "markdown",
   "id": "a5885a2c",
   "metadata": {},
   "source": [
    "# Key Formula\n",
    "\n",
    "For a genetic variants with two alleles (`A` and `a`) with frequencies $p$ and $q$ respectively (where $p + q = 1$):\n",
    "\n",
    "$$p^2 + 2pq + q^2 = 1$$\n",
    "\n",
    "Where:\n",
    "- $p^2$ = frequency of genotype AA\n",
    "- $2pq$ = frequency of genotype Aa\n",
    "- $q^2$ = frequency of genotype aa"
   ]
  },
  {
   "cell_type": "markdown",
   "id": "7165b757",
   "metadata": {},
   "source": [
    "# Technical Details\n"
   ]
  },
  {
   "cell_type": "markdown",
   "id": "c813dd6e",
   "metadata": {},
   "source": [
    "## Expected Counts Under HWE\n",
    "The expected counts under HWE are:\n",
    "\n",
    "$$\n",
    "E_{AA} = f_A^2 \\cdot N\n",
    "$$\n",
    "\n",
    "$$\n",
    "E_{Aa} = 2f_A f_a \\cdot N\n",
    "$$\n",
    "\n",
    "$$\n",
    "E_{aa} = f_a^2 \\cdot N\n",
    "$$\n",
    "\n",
    "where:  \n",
    "- $f_A$: frequency of allele A\n",
    "- $f_a = 1 - f_A$: frequency of allele a\n",
    "- $N$ = Total number of individuals.\n",
    "\n",
    "## Test HWE Using Chi-squared Test\n",
    "\n",
    "Then one can use Pearson's chi-squared test to test if HWE holds:\n",
    "\n",
    "$$\n",
    "\\chi^2 = \\sum \\frac{(O_i - E_i)^2}{E_i}\n",
    "$$\n",
    "\n",
    "where:  \n",
    "- $O_i$ = Observed genotype count (AA, Aa, aa).  \n",
    "- $E_i$ = Expected genotype count under Hardy-Weinberg Equilibrium.  \n",
    "- The summation runs over all genotype categories.  \n",
    "\n",
    "To determine statistical significance, compare $\\chi^2$ with a **chi-square distribution** with **1 degree of freedom** (df = 1). The p-value is computed as:\n",
    "\n",
    "$$\n",
    "p = P(\\chi^2 > \\text{observed } \\chi^2)\n",
    "$$\n",
    "\n",
    "If $p < 0.05$, we reject the **Hardy-Weinberg Equilibrium** assumption."
   ]
  },
  {
   "cell_type": "markdown",
   "id": "7133750f",
   "metadata": {},
   "source": [
    "## When HWE Doesn't Hold\n",
    "- **Non-random mating**: When individuals choose mates based on genotype or phenotype, homozygosity increases beyond HWE expectations.\n",
    "- **Natural selection**: When certain genotypes have survival or reproductive advantages, their frequencies change between generations.\n",
    "- **Migration**: Gene flow introduces new alleles from other populations, altering local allele frequencies.\n",
    "- **Genetic drift**: Random sampling effects in small populations cause unpredictable changes in allele frequencies.\n",
    "- **Mutation**: New alleles emerge through mutation, changing the genetic composition of the population.\n",
    "\n",
    "## Common Misconceptions\n",
    "- While entire genomes aren't in HWE, individual loci often are, especially neutral markers.\n",
    "- HWE is surprisingly robust to minor violations of its assumptions.\n",
    "- Deviations from HWE often signal important biological phenomena rather than errors.\n",
    "- HWE describes the mathematical relationship between allele and genotype frequencies, not the absence of genetic variation.\n",
    "\n",
    "## Role of HWE in Statistical Genetics\n",
    "\n",
    "Hardy-Weinberg Equilibrium serves several critical functions in statistical genetics:\n",
    "\n",
    "- **Quality control baseline**: Significant deviations from HWE often signal genotyping errors or technical artifacts rather than biological phenomena, providing an efficient method to identify problematic markers.\n",
    "\n",
    "- **Null hypothesis framework**: HWE establishes the expected genotype distribution under neutral conditions, serving as the statistical null model against which evolutionary forces can be detected.\n",
    "\n",
    "- **Allele frequency estimation**: When only partial genotype data is available, HWE principles allow researchers to estimate complete population allele frequencies.\n",
    "\n",
    "- **Statistical power improvement**: Filtering out markers that violate HWE improves signal-to-noise ratio in association studies, increasing power to detect true genetic effects.\n",
    "\n",
    "- **Population structure inference**: Systematic HWE deviations across multiple loci can reveal cryptic population substructure that might confound genetic analyses."
   ]
  },
  {
   "cell_type": "markdown",
   "id": "d02e3c49",
   "metadata": {},
   "source": [
    "# Example"
   ]
  },
  {
   "cell_type": "markdown",
   "id": "5691d19a",
   "metadata": {},
   "source": [
    "Here we use the original data from [E.B. Ford (1971) on the scarlet tiger moth](https://en.wikipedia.org/wiki/Hardy–Weinberg_principle), for which the phenotypes of a sample of the population were recorded.\n",
    ">\n",
    "> **Table 1: Example Hardy–Weinberg Principle Calculation**\n",
    ">\n",
    "| Phenotype          | White-spotted (AA) | Intermediate (Aa) | Little spotting (aa) | Total |\n",
    "|--------------------|-------------------|-------------------|----------------------|-------|\n",
    "| Number        | 1469              | 138               | 5                    | 1612  |\n",
    "\n",
    "\n",
    "We first test the HWE on the original data above, and then manually make some data to show when the HWE doesn't hold."
   ]
  },
  {
   "cell_type": "code",
   "execution_count": 23,
   "id": "e84c6de0",
   "metadata": {
    "vscode": {
     "languageId": "r"
    }
   },
   "outputs": [],
   "source": [
    "# Clear the environment\n",
    "rm(list = ls())\n",
    "\n",
    "# Data from E. B. Ford (1971) on the scarlet tiger moth\n",
    "AA <- 1469  # White-spotted\n",
    "Aa <- 138   # Intermediate\n",
    "aa <- 5     # Little spotting\n",
    "total <- AA + Aa + aa\n"
   ]
  },
  {
   "cell_type": "code",
   "execution_count": 24,
   "id": "1f25a602",
   "metadata": {
    "vscode": {
     "languageId": "r"
    }
   },
   "outputs": [
    {
     "name": "stdout",
     "output_type": "stream",
     "text": [
      "Allele frequencies:\n",
      "p (A) = 0.9541 \n",
      "q (a) = 0.0459 \n"
     ]
    }
   ],
   "source": [
    "# Calculate observed allele frequencies\n",
    "n_A <- (2*AA + Aa)\n",
    "n_a <- (2*aa + Aa)\n",
    "n_total <- 2*total\n",
    "\n",
    "p <- n_A/n_total  # Frequency of A allele\n",
    "q <- n_a/n_total  # Frequency of a allele\n",
    "\n",
    "# Print allele frequencies\n",
    "cat(\"Allele frequencies:\\n\")\n",
    "cat(\"p (A) =\", round(p, 4), \"\\n\")\n",
    "cat(\"q (a) =\", round(q, 4), \"\\n\")\n",
    "\n"
   ]
  },
  {
   "cell_type": "code",
   "execution_count": 25,
   "id": "70743858",
   "metadata": {
    "vscode": {
     "languageId": "r"
    }
   },
   "outputs": [
    {
     "name": "stdout",
     "output_type": "stream",
     "text": [
      "\n",
      "Observed vs Expected Genotype Counts:\n",
      "  Genotype Observed    Expected Difference\n",
      "1       AA     1469 1467.397022   1.602978\n",
      "2       Aa      138  141.205955  -3.205955\n",
      "3       aa        5    3.397022   1.602978\n"
     ]
    }
   ],
   "source": [
    "# Calculate expected genotype counts under HWE\n",
    "exp_AA <- p^2 * total\n",
    "exp_Aa <- 2*p*q * total\n",
    "exp_aa <- q^2 * total\n",
    "\n",
    "# Create a table of observed vs expected\n",
    "genotypes <- c(\"AA\", \"Aa\", \"aa\")\n",
    "observed <- c(AA, Aa, aa)\n",
    "expected <- c(exp_AA, exp_Aa, exp_aa)\n",
    "results <- data.frame(Genotype = genotypes, Observed = observed, Expected = expected)\n",
    "results$Difference <- results$Observed - results$Expected\n",
    "\n",
    "# Print the table\n",
    "cat(\"\\nObserved vs Expected Genotype Counts:\\n\")\n",
    "print(results)\n"
   ]
  },
  {
   "cell_type": "code",
   "execution_count": 26,
   "id": "c8e2602d",
   "metadata": {
    "vscode": {
     "languageId": "r"
    }
   },
   "outputs": [
    {
     "name": "stdout",
     "output_type": "stream",
     "text": [
      "\n",
      "Chi-square test result:\n",
      "Chi-square statistic = 0.8309 \n",
      "Degrees of freedom = 1 \n"
     ]
    },
    {
     "name": "stdout",
     "output_type": "stream",
     "text": [
      "p-value = 3.619985e-01 \n",
      "\n",
      "Conclusion:\n",
      "The population is in Hardy-Weinberg equilibrium (p >= 0.05)"
     ]
    }
   ],
   "source": [
    "# Perform chi-square test\n",
    "chi_sq <- sum((observed - expected)^2/expected)\n",
    "degrees_freedom <- 1  # number of genotypes - number of independent alleles = 3 - 2 = 1\n",
    "p_value <- 1 - pchisq(chi_sq, degrees_freedom)\n",
    "\n",
    "cat(\"\\nChi-square test result:\\n\")\n",
    "cat(\"Chi-square statistic =\", round(chi_sq, 4), \"\\n\")\n",
    "cat(\"Degrees of freedom =\", degrees_freedom, \"\\n\")\n",
    "cat(\"p-value =\", format(p_value, scientific = TRUE), \"\\n\")\n",
    "\n",
    "# Conclusion\n",
    "alpha <- 0.05\n",
    "cat(\"\\nConclusion:\\n\")\n",
    "if(p_value < alpha) {\n",
    "  cat(\"The population deviates significantly from Hardy-Weinberg equilibrium (p < 0.05)\")\n",
    "} else {\n",
    "  cat(\"The population is in Hardy-Weinberg equilibrium (p >= 0.05)\")\n",
    "}"
   ]
  },
  {
   "cell_type": "markdown",
   "id": "eb369334",
   "metadata": {},
   "source": [
    "Now that imagine that we observe twice the size of the Intermediate (Aa) and zero of the Little spotting (aa), and re-do the analysis:\n",
    ">\n",
    "> **Table 2: Example Hardy–Weinberg Principle Calculation (manually adjusted in this notebook)**\n",
    ">\n",
    "| Phenotype          | White-spotted (AA) | Intermediate (Aa) | Little spotting (aa) | Total |\n",
    "|--------------------|-------------------|-------------------|----------------------|-------|\n",
    "| Number        | 1469              | 276               | 0                    | 1745  |\n"
   ]
  },
  {
   "cell_type": "code",
   "execution_count": 27,
   "id": "51faafe2",
   "metadata": {
    "vscode": {
     "languageId": "r"
    }
   },
   "outputs": [
    {
     "name": "stdout",
     "output_type": "stream",
     "text": [
      "Allele frequencies:\n",
      "p (A) = 0.9209 \n",
      "q (a) = 0.0791 \n",
      "\n",
      "Observed vs Expected Genotype Counts:\n",
      "  Genotype Observed   Expected Difference\n",
      "1       AA     1469 1479.91347  -10.91347\n",
      "2       Aa      276  254.17307   21.82693\n",
      "3       aa        0   10.91347  -10.91347\n"
     ]
    }
   ],
   "source": [
    "# Modified scenario: No aa genotypes observed\n",
    "AA <- 1469  # White-spotted\n",
    "Aa <- 138*2   # Intermediate\n",
    "aa <- 0     # Little spotting (now zero)\n",
    "total <- AA + Aa + aa\n",
    "\n",
    "# Calculate observed allele frequencies\n",
    "n_A <- (2*AA + Aa)\n",
    "n_a <- (2*aa + Aa)\n",
    "n_total <- 2*total\n",
    "\n",
    "p <- n_A/n_total  # Frequency of A allele\n",
    "q <- n_a/n_total  # Frequency of a allele\n",
    "\n",
    "# Print allele frequencies\n",
    "cat(\"Allele frequencies:\\n\")\n",
    "cat(\"p (A) =\", round(p, 4), \"\\n\")\n",
    "cat(\"q (a) =\", round(q, 4), \"\\n\")\n",
    "\n",
    "# Calculate expected genotype counts under HWE\n",
    "exp_AA <- p^2 * total\n",
    "exp_Aa <- 2*p*q * total\n",
    "exp_aa <- q^2 * total\n",
    "\n",
    "# Create a table of observed vs expected\n",
    "genotypes <- c(\"AA\", \"Aa\", \"aa\")\n",
    "observed <- c(AA, Aa, aa)\n",
    "expected <- c(exp_AA, exp_Aa, exp_aa)\n",
    "results <- data.frame(Genotype = genotypes, Observed = observed, Expected = expected)\n",
    "results$Difference <- results$Observed - results$Expected\n",
    "\n",
    "# Print the table\n",
    "cat(\"\\nObserved vs Expected Genotype Counts:\\n\")\n",
    "print(results)\n"
   ]
  },
  {
   "cell_type": "code",
   "execution_count": 28,
   "id": "74a90ad0",
   "metadata": {
    "vscode": {
     "languageId": "r"
    }
   },
   "outputs": [
    {
     "name": "stdout",
     "output_type": "stream",
     "text": [
      "\n",
      "Chi-square test result:\n",
      "Chi-square statistic = 12.8683 \n",
      "Degrees of freedom = 1 \n",
      "p-value = 3.341915e-04 \n",
      "\n",
      "Conclusion:\n",
      "The population deviates significantly from Hardy-Weinberg equilibrium (p < 0.05)"
     ]
    }
   ],
   "source": [
    "# Perform chi-square test\n",
    "chi_sq <- sum((observed - expected)^2/expected)\n",
    "degrees_freedom <- 1  # number of genotypes - number of independent alleles = 3 - 2 = 1\n",
    "p_value <- 1 - pchisq(chi_sq, degrees_freedom)\n",
    "\n",
    "cat(\"\\nChi-square test result:\\n\")\n",
    "cat(\"Chi-square statistic =\", round(chi_sq, 4), \"\\n\")\n",
    "cat(\"Degrees of freedom =\", degrees_freedom, \"\\n\")\n",
    "cat(\"p-value =\", format(p_value, scientific = TRUE), \"\\n\")\n",
    "\n",
    "# Conclusion\n",
    "alpha <- 0.05\n",
    "cat(\"\\nConclusion:\\n\")\n",
    "if(p_value < alpha) {\n",
    "  cat(\"The population deviates significantly from Hardy-Weinberg equilibrium (p < 0.05)\")\n",
    "} else {\n",
    "  cat(\"The population is in Hardy-Weinberg equilibrium (p >= 0.05)\")\n",
    "}"
   ]
  }
 ],
 "metadata": {
  "kernelspec": {
   "display_name": "R",
   "language": "R",
   "name": "ir"
  },
  "language_info": {
   "codemirror_mode": "r",
   "file_extension": ".r",
   "mimetype": "text/x-r-source",
   "name": "R",
   "pygments_lexer": "r",
   "version": "4.4.3"
  },
  "toc-autonumbering": true
 },
 "nbformat": 4,
 "nbformat_minor": 5
}
