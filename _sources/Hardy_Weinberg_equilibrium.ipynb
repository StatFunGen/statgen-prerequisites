{
 "cells": [
  {
   "cell_type": "markdown",
   "id": "bef5ee80",
   "metadata": {},
   "source": [
    "# Hardy-Weinberg Equilibrium\n",
    "\n",
    "The Hardy-Weinberg equilibrium (HWE) describes how allele and genotype frequencies remain **constant** across generations in a population under simple Mendelian inheritance **without any interference**."
   ]
  },
  {
   "cell_type": "markdown",
   "id": "348c6f7e",
   "metadata": {},
   "source": [
    "# Graphical Summary"
   ]
  },
  {
   "cell_type": "markdown",
   "id": "80e25a34",
   "metadata": {},
   "source": [
    "![Fig](./graphical_summary/slides/Slide3.png)"
   ]
  },
  {
   "cell_type": "markdown",
   "id": "a5885a2c",
   "metadata": {},
   "source": [
    "# Key Formula\n",
    "\n",
    "For a genetic variant with two alleles (`A` and `a`) with frequencies $f_A$ and $f_a$ respectively (where $f_A + f_a = 1$):\n",
    "\n",
    "$$\n",
    "(f_A + f_a)^2 = f_A^2 + 2f_A f_a + f_a^2 = 1\n",
    "$$\n",
    "\n",
    "Where:\n",
    "- $f_A^2$ = frequency of genotype AA\n",
    "- $2f_A f_a$ = frequency of genotype Aa\n",
    "- $f_a^2$ = frequency of genotype aa\n",
    "\n",
    "**HWE is fundamentally a binomial expansion with power 2.** The general intuition of binomial expansion is: if you have two options and you make the choice $n$ times, what are the possible outcomes and how frequently is each one? \n",
    "\n",
    "In HWE, we have two alleles (A and a) and we're making the \"choice\" twice (once from each parent), so $n=2$. The binomial expansion $(f_A + f_a)^2$ directly gives us:\n",
    "- How many ways to get each genotype combination\n",
    "- The probability of each genotype under random mating\n",
    "\n",
    "This mathematical structure immediately tells us that HWE is about **random sampling of alleles twice** - exactly what happens when two parents contribute one allele each to their offspring under Mendelian inheritance."
   ]
  },
  {
   "cell_type": "markdown",
   "id": "7165b757",
   "metadata": {},
   "source": [
    "# Technical Details\n"
   ]
  },
  {
   "cell_type": "markdown",
   "id": "c813dd6e",
   "metadata": {},
   "source": [
    "## Setup a Contingency Table\n",
    "If HWE holds, it means maternal and paternal alleles are chosen independently (as in our binomial expansion). We can test this independence directly using a 2×2 contingency table.\n",
    "\n",
    "Set up the data as:\n",
    "\n",
    "|                | Paternal A | Paternal a |\n",
    "|----------------|------------|------------|\n",
    "| **Maternal A** | AA count   | Aa count   |\n",
    "| **Maternal a** | Aa count   | aa count   |\n",
    "\n",
    "Under HWE, the **odds ratio should approximately equal 1.0** (which we will discuss further in [Lecture: odds ratio](https://statfungen.github.io/statgen-prerequisites/odds_ratio.html)), meaning:\n",
    "- The odds of getting allele A vs. a from the father are the same regardless of which allele came from the mother\n",
    "- Maternal and paternal allele choices are independent (exactly what our binomial expansion assumes)\n",
    "\n",
    "## When HWE Doesn't Hold\n",
    "\n",
    "Common reasons why we might see deviations from HWE:\n",
    "\n",
    "- **Non-random mating**: People don't choose partners randomly - they might prefer similar traits, leading to more homozygotes than expected\n",
    "- **Population mixing**: When people from different populations have children together, it can create patterns that don't match HWE\n",
    "- **Technical issues**: Genotyping errors or poor DNA quality can make it look like HWE is violated\n",
    "\n",
    "## Why HWE Matters in Practice\n",
    "\n",
    "- **Quality control**: If many genetic variants violate HWE in your dataset, it often means there are technical problems with the genotyping\n",
    "- **Baseline expectation**: HWE tells us what \"normal\" looks like, so we can spot when something interesting (or problematic) is happening"
   ]
  },
  {
   "cell_type": "markdown",
   "id": "1fa50210",
   "metadata": {},
   "source": [
    "# Related Topics\n",
    "\n",
    "- [genotype coding](https://statfungen.github.io/statgen-prerequisites/genotype_coding.html)\n",
    "- [minor allele frequency](https://statfungen.github.io/statgen-prerequisites/minor_allele_frequency.html)\n",
    "- [odds ratio](https://statfungen.github.io/statgen-prerequisites/odds_ratio.html)"
   ]
  },
  {
   "cell_type": "markdown",
   "id": "d02e3c49",
   "metadata": {},
   "source": [
    "# Example"
   ]
  },
  {
   "cell_type": "markdown",
   "id": "debefc47",
   "metadata": {},
   "source": [
    "We demonstrate how to test for Hardy-Weinberg equilibrium using the classic scarlet tiger moth data in Example 1 in [Lecture: odds ratio](https://statfungen.github.io/statgen-prerequisites/odds_ratio.html). This example shows how to set up a 2×2 contingency table to test independence of maternal and paternal alleles, calculate odds ratios, and perform chi-square tests to determine if HWE holds in real data. Now you can skip this section."
   ]
  },
  {
   "cell_type": "markdown",
   "id": "f062310e",
   "metadata": {},
   "source": []
  }
 ],
 "metadata": {
  "kernelspec": {
   "display_name": "R",
   "language": "R",
   "name": "ir"
  },
  "language_info": {
   "codemirror_mode": "r",
   "file_extension": ".r",
   "mimetype": "text/x-r-source",
   "name": "R",
   "pygments_lexer": "r",
   "version": "4.3.3"
  },
  "toc-autonumbering": true
 },
 "nbformat": 4,
 "nbformat_minor": 5
}
