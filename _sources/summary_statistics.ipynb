{
 "cells": [
  {
   "cell_type": "markdown",
   "id": "c9efd16a",
   "metadata": {},
   "source": [
    "# Summary Statistics [FIXME]\n",
    "\n",
    "Summary statistics in genetics capture **the association between genetic variants and traits**, allowing researchers to share and analyze meaningful associations **without requiring access to the complete individual-level genotype and phenotype data**."
   ]
  },
  {
   "cell_type": "markdown",
   "id": "63213573",
   "metadata": {},
   "source": [
    "# TODO\n",
    "- recall the link between sum.stat and the beta in OLS\n",
    "- Examples: \n",
    "  - Example 1: show sum.stats for linear model (callback OLS) and logistic model (callback OR)\n",
    "  - Example 2: show sum.stats for considering covariates and not\n",
    "  - Example 3: show sum.stats for marginal effect and joint effect"
   ]
  },
  {
   "cell_type": "markdown",
   "id": "07917b8f",
   "metadata": {},
   "source": [
    "# Graphical Summary"
   ]
  },
  {
   "cell_type": "markdown",
   "id": "6d5a9a16",
   "metadata": {},
   "source": [
    "![fig](./cartoons/summary_statistics.svg)"
   ]
  },
  {
   "cell_type": "markdown",
   "id": "5bea6c99",
   "metadata": {},
   "source": [
    "# Key Formula\n",
    "\n",
    "$$\n",
    "Z = \\frac{\\beta}{\\text{SE}(\\beta)}\n",
    "$$\n",
    "\n",
    "This Z-score formula represents the most fundamental calculation in statistical genetics summary statistics. It standardizes the effect size ($\\beta$) of a genetic variant by its standard error ($\\text{SE}$), creating a normalized measure of association strength. The importance of this formula lies in its ability to quantify statistical significance while accounting for estimation precision. This single value determines p-values, enables cross-variant comparison, and forms the foundation for downstream analyses including meta-analysis, polygenic risk scoring, and genetic correlation estimation.\n"
   ]
  },
  {
   "cell_type": "markdown",
   "id": "7266c96d",
   "metadata": {},
   "source": [
    "# Technical Details\n",
    "\n",
    "## Single Marker Linear Regression Model\n",
    "Assuming that we use the single marker linear regression model (and everything is applicable to logistic regression or multiple markers models etc.), then for a trait vector $ \\mathbf{y} $ and a genetic variant $ \\mathbf{X}_j $ across $ N $ individuals:\n",
    "\n",
    "$$\n",
    "\\mathbf{Y} = \\mathbf{X}_j \\beta_j + \\boldsymbol{\\epsilon}, \\quad \\boldsymbol{\\epsilon} \\sim N(0, \\sigma^2)\n",
    "$$\n",
    "\n",
    "Where:\n",
    "- $ \\mathbf{Y} $ is the $ N \\times 1 $ vector of trait values for $ N $ individuals.\n",
    "- $ \\mathbf{X}_j $ is the $ N \\times 1 $ vector of genotypes for variant $ j $ across all individuals.\n",
    "- $ \\beta_j $ is the effect size of the genetic variant $ j $.\n",
    "- $ \\boldsymbol{\\epsilon} $ is the $ N \\times 1 $ vector of error terms (residuals), assumed to follow a normal distribution with mean 0 and variance $ \\sigma^2 $.\n",
    "\n",
    "## From OLS to Summary Staistics\n",
    "\n",
    "And using **Ordinary Least Squares (OLS)** method (mentioned in Section [FIXME -- refer to the section label]), which minimizes the residual sum of squares (RSS) between the observed and predicted trait values, and both $\\mathbf{x}$ and $\\mathbf{Y}$ are scaled to have mean 0 and variance 1, we get the following formula for the OLS estimator of $ \\beta_j$:\n",
    "\n",
    "$$\n",
    "\\hat{\\beta}_j = \\frac{\\mathbf{X}_j^T \\mathbf{Y}}{\\mathbf{X}_j^T \\mathbf{X}_j} = \\mathbf{X}_j^T \\mathbf{Y} = \\text{Cov}(\\mathbf{X}_j, \\mathbf{Y}) = r_{\\mathbf{X_j}, \\mathbf{Y}} \n",
    "$$\n",
    "\n",
    "And the variance of $ \\hat{\\beta}_j $ can be calculated as:\n",
    "\n",
    "$$\n",
    "\\text{Var}(\\hat{\\beta}_j) = \\frac{\\sigma^2}{\\mathbf{X}_j^T \\mathbf{X}_j} = \\sigma^2\n",
    "$$\n",
    "\n",
    "Where $ \\sigma^2 $ is the residual variance, which is typically estimated from the residuals of the model.\n",
    "\n",
    "## Z-score and P-value\n",
    "\n",
    "- Z-score \n",
    "  - Z-score is the standardized effect size\n",
    "\n",
    "    $$\n",
    "    Z_j = \\frac{\\hat{\\beta}_j}{SE(\\hat{\\beta}_j)} = \\frac{\\hat{\\beta}_j}{\\sqrt{\\text{Var}(\\hat{\\beta}_j)}} = \\frac{\\hat{\\beta}_j}{\\sigma}\n",
    "    $$\n",
    "\n",
    "    - Under the null hypothesis of no association ($\\beta_j = 0$), $Z_j$ follows a standard normal distribution, which forms the basis for statistical testing.\n",
    "\n",
    "- P-value\n",
    "  - Two-sided p-value: \n",
    "    $$\n",
    "    P = 2 \\times (1 - \\Phi(|Z|))\n",
    "    $$\n",
    "  - $\\Phi$ is the cumulative distribution function of the standard normal distribution\n",
    "  - Represents the probability of observing an effect as extreme as β by chance\n",
    "\n",
    "## Example GWAS Summary Statistics Table -- part A\n",
    "\n",
    "| SNP (rsID) | CHR | BP    | A1  | A2  | MAF  | BETA  | SE    | Z-score | P-value  | N     |\n",
    "|------------|-----|-------|-----|-----|------|-------|-------|---------|----------|-------|\n",
    "| rs12345    | 1   | 10583 | A   | G   | 0.12 | 0.045 | 0.010 | 4.50    | 1.2e-06  | 100000 |\n",
    "| rs67890    | 2   | 20345 | C   | T   | 0.35 | -0.030 | 0.008 | -3.75   | 5.4e-04  | 95000  |\n",
    "| rs54321    | 18   | 45678 | G   | A   | 0.22 | 0.060 | 0.012 | 5.00    | 2.1e-07  | 102000 |\n",
    "\n",
    "\n",
    "- **SNP (rsID)**: Identifier for the single nucleotide polymorphism, such as `rs12345` or `chr21:295472:G:A`.  \n",
    "- **CHR**: Chromosome number where the SNP is located. Other common names: `chrom`, `chromosome`  \n",
    "- **BP**: Genomic position of the SNP, specific to a reference genome assembly (e.g., GRCh37 or GRCh38). Other common names: `pos`, `position`  \n",
    "- **A1 and A2**: The two alleles at the variant site, with one designated as the effect allele. Other common names: `REF` and `ALT`, `Effect allele` and `Other allele`\n",
    "  - Note that one allele may be effect allele in one study but alternative allele in another.\n",
    "- **MAF**: The frequency of the less common allele for variant $j$ in the sample.\n",
    "- **EAF**: The frequency of the effect allele for variant $j$ in the sample (note that this doesn't have to be the minor allele) (sometimes called `RAF`: risk allele frequency)\n",
    "- **BETA**: Estimated effect size ($\\hat{\\beta}$), representing the association between the effect allele and the trait. Always check which allele it corresponds to.  \n",
    "- **SE**: Standard error of the effect size estimat, reflecting the uncertainty in the effect size estimate. It is computed as $SE_j = \\sqrt{\\frac{\\hat{\\sigma}^2}{\\mathbf{X}_j^T \\mathbf{X}_j}}$, where $ \\hat{\\sigma}^2 $ is the estimated residual variance from the model.\n",
    "- **Z**: Standardized test statistic, computed as $Z = \\frac{\\beta}{\\text{SE}}$.  \n",
    "- **P-value**: Significance of the association, testing whether the SNP has an effect on the trait, $p_j = 2 \\times (1 - \\Phi(|t_j|))$, where $ \\Phi $ is the cumulative distribution function (CDF) of the standard normal distribution. Sometimes `LOG10P` is reported which is the $-\\log_{10}P$.\n",
    "- **N**: Number of individuals included in the analysis.  \n",
    "- **N_cases**: Number of individuals with the trait (cases), relevant for case-control studies.  \n",
    "- **N_ctrls**: Number of individuals without the trait (controls), relevant for case-control studies.  \n"
   ]
  },
  {
   "cell_type": "markdown",
   "id": "58d544ce-922b-4a03-b765-9a1972fd1859",
   "metadata": {},
   "source": [
    "# Example"
   ]
  },
  {
   "cell_type": "markdown",
   "id": "7268739c",
   "metadata": {},
   "source": [
    "In this example, we simulate a simple genome-wide association study (GWAS) by testing the relationship between three genetic variants and height across five individuals. We convert genetic sequences into numerical representations, then calculate key summary statistics including effect sizes, standard errors, p-values, and allele frequencies. These summary statistics capture the essential information about genetic associations while providing a privacy-preserving and computationally efficient alternative to sharing the complete individual-level genetic and phenotypic data."
   ]
  },
  {
   "cell_type": "code",
   "execution_count": 9,
   "id": "77db5047-6e43-4b9c-8afc-30b087c66a62",
   "metadata": {
    "tags": [],
    "vscode": {
     "languageId": "r"
    }
   },
   "outputs": [],
   "source": [
    "# Clear the environment\n",
    "rm(list = ls())\n",
    "\n",
    "# Define genotypes for 5 individuals at 3 variants\n",
    "# These represent actual alleles at each position\n",
    "# For example, Individual 1 has genotypes: CC, CT, AT\n",
    "genotypes <- c(\n",
    " \"CC\", \"CT\", \"AT\",  # Individual 1\n",
    " \"TT\", \"TT\", \"AA\",  # Individual 2\n",
    " \"CT\", \"CT\", \"AA\",  # Individual 3\n",
    " \"CC\", \"TT\", \"AA\",  # Individual 4\n",
    " \"CC\", \"CC\", \"TT\"   # Individual 5\n",
    ")\n",
    "# Reshape into a matrix\n",
    "N = 5 # number of individuals\n",
    "M = 3 # number of variants\n",
    "geno_matrix <- matrix(genotypes, nrow=N, ncol=M, byrow=TRUE)\n",
    "rownames(geno_matrix) <- paste(\"Individual\", 1:N)\n",
    "colnames(geno_matrix) <- paste(\"Variant\", 1:M)\n",
    "\n",
    "alt_alleles <- c(\"T\", \"C\", \"T\")\n",
    "ref_alleles <- c(\"C\", \"T\", \"A\")\n",
    "\n",
    "# Convert to raw genotype matrix using the additive / dominant / recessive model\n",
    "Xraw_additive <- matrix(0, nrow=N, ncol=M) # dount number of non-reference alleles\n",
    "\n",
    "rownames(Xraw_additive) <- rownames(geno_matrix)\n",
    "colnames(Xraw_additive) <- colnames(geno_matrix)\n",
    "\n",
    "for (i in 1:N) {\n",
    "  for (j in 1:M) {\n",
    "    alleles <- strsplit(geno_matrix[i,j], \"\")[[1]]\n",
    "    Xraw_additive[i,j] <- sum(alleles == alt_alleles[j])\n",
    "  }\n",
    "}\n",
    "X <- scale(Xraw_additive, center=TRUE, scale=TRUE)"
   ]
  },
  {
   "cell_type": "code",
   "execution_count": 10,
   "id": "3f1e3175",
   "metadata": {
    "vscode": {
     "languageId": "r"
    }
   },
   "outputs": [],
   "source": [
    "# assign observed height for the 5 individuals\n",
    "Y_raw <- c(180, 160, 158, 155, 193)\n",
    "Y <- scale(Y_raw)"
   ]
  },
  {
   "cell_type": "code",
   "execution_count": 11,
   "id": "b8b65866",
   "metadata": {
    "vscode": {
     "languageId": "r"
    }
   },
   "outputs": [],
   "source": [
    "# Calculate minor allele frequencies\n",
    "MAF <- colMeans(Xraw_additive) / 2\n",
    "\n",
    "# Perform GWAS analysis: Test each SNP independently using OLS and include common columns\n",
    "sumstats <- data.frame(\n",
    "  SNP = paste0(\"rs\", 1:M),\n",
    "  CHR = c(1, 1, 2),  # Example chromosome assignments\n",
    "  BP = c(1315, 2620, 6290),  # Example base pair positions\n",
    "  ALT = alt_alleles,  # Effect allele\n",
    "  REF = ref_alleles,  # Reference allele\n",
    "  N = rep(N, M),  # Sample size\n",
    "  BETA = numeric(M),  # Effect size\n",
    "  SE = numeric(M),  # Standard error\n",
    "  Z = numeric(M),  # Z-score\n",
    "  P = numeric(M),  # P-value\n",
    "  EAF = MAF  # Effect allele frequency\n",
    ")\n",
    "\n",
    "for (j in 1:M) {\n",
    "  SNP <- X[, j]  # Extract genotype for SNP j\n",
    "  model <- lm(Y ~ SNP)  # OLS regression: Trait ~ SNP\n",
    "  summary_model <- summary(model)\n",
    "  # Store results in standard format\n",
    "  sumstats$BETA[j] <- summary_model$coefficients[2, 1]  # Effect size\n",
    "  sumstats$SE[j] <- summary_model$coefficients[2, 2]    # Standard error\n",
    "  sumstats$Z[j] <- summary_model$coefficients[2, 3]     # t-statistic (equivalent to Z-score)\n",
    "  sumstats$P[j] <- summary_model$coefficients[2, 4]     # P-value\n",
    "}"
   ]
  },
  {
   "cell_type": "markdown",
   "id": "18a2731a",
   "metadata": {},
   "source": [
    "GWAS Summary Statistics based on our toy data would be:"
   ]
  },
  {
   "cell_type": "code",
   "execution_count": 12,
   "id": "28bf7c80-5d7e-420d-ae97-05eaafd7fe58",
   "metadata": {
    "vscode": {
     "languageId": "r"
    }
   },
   "outputs": [
    {
     "data": {
      "text/html": [
       "<table class=\"dataframe\">\n",
       "<caption>A data.frame: 3 x 11</caption>\n",
       "<thead>\n",
       "\t<tr><th></th><th scope=col>SNP</th><th scope=col>CHR</th><th scope=col>BP</th><th scope=col>ALT</th><th scope=col>REF</th><th scope=col>N</th><th scope=col>BETA</th><th scope=col>SE</th><th scope=col>Z</th><th scope=col>P</th><th scope=col>EAF</th></tr>\n",
       "\t<tr><th></th><th scope=col>&lt;chr&gt;</th><th scope=col>&lt;dbl&gt;</th><th scope=col>&lt;dbl&gt;</th><th scope=col>&lt;chr&gt;</th><th scope=col>&lt;chr&gt;</th><th scope=col>&lt;dbl&gt;</th><th scope=col>&lt;dbl&gt;</th><th scope=col>&lt;dbl&gt;</th><th scope=col>&lt;dbl&gt;</th><th scope=col>&lt;dbl&gt;</th><th scope=col>&lt;dbl&gt;</th></tr>\n",
       "</thead>\n",
       "<tbody>\n",
       "\t<tr><th scope=row>Variant 1</th><td>rs1</td><td>1</td><td>1315</td><td>T</td><td>C</td><td>5</td><td>-0.5000913</td><td>0.49996955</td><td>-1.000244</td><td>0.390901513</td><td>0.3</td></tr>\n",
       "\t<tr><th scope=row>Variant 2</th><td>rs2</td><td>1</td><td>2620</td><td>C</td><td>T</td><td>5</td><td> 0.8525024</td><td>0.30179448</td><td> 2.824778</td><td>0.066475513</td><td>0.4</td></tr>\n",
       "\t<tr><th scope=row>Variant 3</th><td>rs3</td><td>2</td><td>6290</td><td>T</td><td>A</td><td>5</td><td> 0.9866667</td><td>0.09396605</td><td>10.500246</td><td>0.001844466</td><td>0.3</td></tr>\n",
       "</tbody>\n",
       "</table>\n"
      ],
      "text/latex": [
       "A data.frame: 3 x 11\n",
       "\\begin{tabular}{r|lllllllllll}\n",
       "  & SNP & CHR & BP & ALT & REF & N & BETA & SE & Z & P & EAF\\\\\n",
       "  & <chr> & <dbl> & <dbl> & <chr> & <chr> & <dbl> & <dbl> & <dbl> & <dbl> & <dbl> & <dbl>\\\\\n",
       "\\hline\n",
       "\tVariant 1 & rs1 & 1 & 1315 & T & C & 5 & -0.5000913 & 0.49996955 & -1.000244 & 0.390901513 & 0.3\\\\\n",
       "\tVariant 2 & rs2 & 1 & 2620 & C & T & 5 &  0.8525024 & 0.30179448 &  2.824778 & 0.066475513 & 0.4\\\\\n",
       "\tVariant 3 & rs3 & 2 & 6290 & T & A & 5 &  0.9866667 & 0.09396605 & 10.500246 & 0.001844466 & 0.3\\\\\n",
       "\\end{tabular}\n"
      ],
      "text/markdown": [
       "\n",
       "A data.frame: 3 x 11\n",
       "\n",
       "| <!--/--> | SNP &lt;chr&gt; | CHR &lt;dbl&gt; | BP &lt;dbl&gt; | ALT &lt;chr&gt; | REF &lt;chr&gt; | N &lt;dbl&gt; | BETA &lt;dbl&gt; | SE &lt;dbl&gt; | Z &lt;dbl&gt; | P &lt;dbl&gt; | EAF &lt;dbl&gt; |\n",
       "|---|---|---|---|---|---|---|---|---|---|---|---|\n",
       "| Variant 1 | rs1 | 1 | 1315 | T | C | 5 | -0.5000913 | 0.49996955 | -1.000244 | 0.390901513 | 0.3 |\n",
       "| Variant 2 | rs2 | 1 | 2620 | C | T | 5 |  0.8525024 | 0.30179448 |  2.824778 | 0.066475513 | 0.4 |\n",
       "| Variant 3 | rs3 | 2 | 6290 | T | A | 5 |  0.9866667 | 0.09396605 | 10.500246 | 0.001844466 | 0.3 |\n",
       "\n"
      ],
      "text/plain": [
       "          SNP CHR BP   ALT REF N BETA       SE         Z         P          \n",
       "Variant 1 rs1 1   1315 T   C   5 -0.5000913 0.49996955 -1.000244 0.390901513\n",
       "Variant 2 rs2 1   2620 C   T   5  0.8525024 0.30179448  2.824778 0.066475513\n",
       "Variant 3 rs3 2   6290 T   A   5  0.9866667 0.09396605 10.500246 0.001844466\n",
       "          EAF\n",
       "Variant 1 0.3\n",
       "Variant 2 0.4\n",
       "Variant 3 0.3"
      ]
     },
     "metadata": {},
     "output_type": "display_data"
    }
   ],
   "source": [
    "sumstats"
   ]
  },
  {
   "cell_type": "markdown",
   "id": "441678aa-90e7-414d-8bda-3dd2704ed7ef",
   "metadata": {},
   "source": [
    "# Supplementary\n",
    "\n",
    "## **Linear Mixed Models (LMM)**\n",
    "LMMs account for relatedness between individuals by modeling both fixed and random effects. These models control for population structure and relatedness, reducing bias in association studies. Many new GWAS softwares includes REGENIE, BOLT-LMM, fastGWA and SAIGE. **[FIXME add references here]**"
   ]
  },
  {
   "cell_type": "markdown",
   "id": "e5535d49-6fe9-4f73-af0c-31a25dba3ac9",
   "metadata": {},
   "source": [
    "# TODO \n",
    "\n",
    "- [ ] what about LD here? Do we want to include fine-mapping?\n",
    "> slide 206-207 from GW"
   ]
  },
  {
   "cell_type": "markdown",
   "id": "4d77505c",
   "metadata": {},
   "source": [
    "> slide 86-90 from GW\n",
    ">\n",
    "> slide 197-202 from GW\n"
   ]
  },
  {
   "cell_type": "code",
   "execution_count": null,
   "id": "9d4a43e4-413b-459c-9589-f1d2d16e25f4",
   "metadata": {
    "vscode": {
     "languageId": "r"
    }
   },
   "outputs": [],
   "source": []
  }
 ],
 "metadata": {
  "kernelspec": {
   "display_name": "R",
   "language": "R",
   "name": "ir"
  },
  "language_info": {
   "codemirror_mode": "r",
   "file_extension": ".r",
   "mimetype": "text/x-r-source",
   "name": "R",
   "pygments_lexer": "r",
   "version": "4.3.3"
  },
  "toc-autonumbering": true
 },
 "nbformat": 4,
 "nbformat_minor": 5
}
