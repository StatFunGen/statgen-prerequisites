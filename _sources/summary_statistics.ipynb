{
 "cells": [
  {
   "cell_type": "markdown",
   "id": "c9efd16a",
   "metadata": {},
   "source": [
    "# Summary Statistics\n",
    "\n",
    "Summary statistics in genetics capture how each genetic variant relates to a trait, where $\\hat{\\beta}$ for a SNP is a noisy measurement of the association between $X$ and $Y$, representing the primary data input for most post-GWAS analyses, allowing researchers to share these standardized $X$-$Y$ relationship measurements instead of raw genotype and phenotype data."
   ]
  },
  {
   "cell_type": "markdown",
   "id": "07917b8f",
   "metadata": {},
   "source": [
    "# Graphical Summary"
   ]
  },
  {
   "cell_type": "markdown",
   "id": "6d5a9a16",
   "metadata": {},
   "source": [
    "![Fig](./graphical_summary/slides/Slide10.png)"
   ]
  },
  {
   "cell_type": "markdown",
   "id": "5bea6c99",
   "metadata": {},
   "source": [
    "# Key Formula\n",
    "\n",
    "Summary statistics provide standardized measurements that can be shared and combined across studies. The Z-score transforms each variant's association measurement into a comparable format:\n",
    "\n",
    "$$\n",
    "Z = \\frac{\\hat{\\beta}}{\\text{SE}(\\hat{\\beta})}\n",
    "$$\n",
    "\n",
    "This standardization enables researchers to integrate data across different studies, populations, and analysis methods in downstream applications.\n"
   ]
  },
  {
   "cell_type": "markdown",
   "id": "96122415",
   "metadata": {},
   "source": [
    "# Technical Details\n",
    "\n",
    "## From OLS to Summary Statistics\n",
    "\n",
    "When we perform GWAS analysis using OLS regression on standardized data ($\\mathbf{X}$ and $\\mathbf{Y}$ scaled to mean 0 and variance 1), we obtain:\n",
    "\n",
    "$$\n",
    "\\hat{\\beta}_j = \\frac{\\mathbf{X}_j^T \\mathbf{Y}}{\\mathbf{X}_j^T \\mathbf{X}_j} = \\mathbf{X}_j^T \\mathbf{Y} = \\text{Cov}(\\mathbf{X}_j, \\mathbf{Y}) = r_{\\mathbf{X_j}, \\mathbf{Y}} \n",
    "$$\n",
    "\n",
    "$$\n",
    "\\text{Var}(\\hat{\\beta}_j) = \\frac{\\sigma^2}{\\mathbf{X}_j^T \\mathbf{X}_j} = \\sigma^2\n",
    "$$\n",
    "\n",
    "These become the building blocks for many subsequent analyses. The $\\hat{\\beta}$ values from marginal or joint analysis serve as input measurements for methods like fine-mapping, polygenic risk scores, and Mendelian randomization.\n",
    "\n",
    "## Standardized Measurements for Analysis\n",
    "\n",
    "**Z-score:** The standardized measurement that enables cross-study comparison:\n",
    "\n",
    "$$\n",
    "Z_j = \\frac{\\hat{\\beta}_j}{SE(\\hat{\\beta}_j)} = \\frac{\\hat{\\beta}_j}{\\sigma}\n",
    "$$\n",
    "\n",
    "**P-value:** Statistical significance of each measurement:\n",
    "\n",
    "$$\n",
    "P = 2 \\times (1 - \\Phi(|Z|))\n",
    "$$\n",
    "\n",
    "Where $\\Phi$ is the cumulative distribution function of the standard normal distribution.\n",
    "\n",
    "## Standard GWAS Data Format\n",
    "\n",
    "| SNP (rsID) | CHR | BP    | A1  | A2  | MAF  | BETA  | SE    | Z-score | P-value  | N     |\n",
    "|------------|-----|-------|-----|-----|------|-------|-------|---------|----------|-------|\n",
    "| rs12345    | 1   | 10583 | A   | G   | 0.12 | 0.045 | 0.010 | 4.50    | 1.2e-06  | 100000 |\n",
    "| rs67890    | 2   | 20345 | C   | T   | 0.35 | -0.030 | 0.008 | -3.75   | 5.4e-04  | 95000  |\n",
    "| rs54321    | 18   | 45678 | G   | A   | 0.22 | 0.060 | 0.012 | 5.00    | 2.1e-07  | 102000 |\n",
    "\n",
    "This tabular format provides the essential data inputs that downstream methods require:\n",
    "\n",
    "**Data Fields:**\n",
    "- **SNP (rsID)**: Variant identifier for matching across datasets\n",
    "- **CHR/BP**: Genomic coordinates for positional analysis  \n",
    "- **A1/A2**: Allele definitions for effect direction consistency\n",
    "- **MAF/EAF**: Allele frequencies for population matching and quality control\n",
    "- **BETA/SE**: The core association measurements with uncertainty quantification\n",
    "- **Z-score/P-value**: Standardized significance measures for prioritization\n",
    "- **N**: Sample size for meta-analysis weighting\n",
    "\n",
    "## Frequentist vs Bayesian Perspectives\n",
    "\n",
    "The formulation above represents the **frequentist view**, where $\\hat{\\beta}_j$ is a point estimate with associated uncertainty $\\text{SE}(\\hat{\\beta}_j)$.\n",
    "\n",
    "In the **Bayesian framework**, we start with the hierarchical model:\n",
    "\n",
    "$$\n",
    "\\mathbf{Y} = \\mathbf{X}\\beta + \\boldsymbol{\\epsilon}\n",
    "$$\n",
    "\n",
    "$$\n",
    "\\hat{\\beta}_j \\sim N(\\beta_j, \\sigma^2)\n",
    "$$\n",
    "\n",
    "Here, $\\hat{\\beta}_j$ is treated as a noisy observation of the true parameter $\\beta_j$ and the **noise** comes from the assumption that it comes from a distribution rather than a fixed value. This allows Bayesian methods to quantify the uncertainty and place informative priors on effect sizes.\n",
    "\n",
    "*Note: Don't worry if this Bayesian perspective seems abstract right now. We recommend revisiting this section after reading through the topics in the Related Topics section, which will provide concrete examples of how this framework is applied in practice.*"
   ]
  },
  {
   "cell_type": "markdown",
   "id": "94715fc6",
   "metadata": {},
   "source": [
    "# Related Topics\n",
    "\n",
    "- [OLS](https://gaow.github.io/statgen-prerequisites/ordinary_least_squares.html)\n",
    "- [Odds Ratio](https://gaow.github.io/statgen-prerequisites/odds_ratio.html)\n",
    "- [mediator](https://gaow.github.io/statgen-prerequisites/mediator.html)\n",
    "- [confounder](https://gaow.github.io/statgen-prerequisites/confounder.html)\n",
    "- [marginal/joint effects model](https://gaow.github.io/statgen-prerequisites/marginal_joint_effects.html)\n",
    "- [random effect](https://gaow.github.io/statgen-prerequisites/random_effect.html)\n",
    "- [Bayesian normal mean model](https://gaow.github.io/statgen-prerequisites/Bayesian_normal_mean_model.html)\n"
   ]
  },
  {
   "cell_type": "markdown",
   "id": "58d544ce-922b-4a03-b765-9a1972fd1859",
   "metadata": {},
   "source": [
    "# Example"
   ]
  },
  {
   "cell_type": "code",
   "execution_count": 36,
   "id": "77db5047-6e43-4b9c-8afc-30b087c66a62",
   "metadata": {
    "tags": [],
    "vscode": {
     "languageId": "r"
    }
   },
   "outputs": [],
   "source": [
    "# Clear the environment\n",
    "rm(list = ls())\n",
    "\n",
    "# Define genotypes for 5 individuals at 3 variants\n",
    "# These represent actual alleles at each position\n",
    "# For example, Individual 1 has genotypes: CC, CT, AT\n",
    "genotypes <- c(\n",
    " \"CC\", \"CT\", \"AT\",  # Individual 1\n",
    " \"TT\", \"TT\", \"AA\",  # Individual 2\n",
    " \"CT\", \"CT\", \"AA\",  # Individual 3\n",
    " \"CC\", \"TT\", \"AA\",  # Individual 4\n",
    " \"CC\", \"CC\", \"TT\"   # Individual 5\n",
    ")\n",
    "# Reshape into a matrix\n",
    "N = 5\n",
    "M = 3\n",
    "geno_matrix <- matrix(genotypes, nrow = N, ncol = M, byrow = TRUE)\n",
    "rownames(geno_matrix) <- paste(\"Individual\", 1:N)\n",
    "colnames(geno_matrix) <- paste(\"Variant\", 1:M)\n",
    "\n",
    "alt_alleles <- c(\"T\", \"C\", \"T\")\n",
    "\n",
    "# Convert to raw genotype matrix using the additive / dominant / recessive model\n",
    "Xraw_additive <- matrix(0, nrow = N, ncol = M) # dount number of non-reference alleles\n",
    "\n",
    "rownames(Xraw_additive) <- rownames(geno_matrix)\n",
    "colnames(Xraw_additive) <- colnames(geno_matrix)\n",
    "\n",
    "for (i in 1:N) {\n",
    "  for (j in 1:M) {\n",
    "    alleles <- strsplit(geno_matrix[i,j], \"\")[[1]]\n",
    "    Xraw_additive[i,j] <- sum(alleles == alt_alleles[j])\n",
    "  }\n",
    "}\n",
    "\n",
    "X <- scale(Xraw_additive, center = TRUE, scale = TRUE)"
   ]
  },
  {
   "cell_type": "markdown",
   "id": "b4561dad",
   "metadata": {},
   "source": [
    "Let's initialize the summary statistics."
   ]
  },
  {
   "cell_type": "code",
   "execution_count": 37,
   "id": "a82cd676",
   "metadata": {
    "vscode": {
     "languageId": "r"
    }
   },
   "outputs": [],
   "source": [
    "# Initialize summary statistics data frame\n",
    "# Calculate minor allele frequencies\n",
    "MAF <- colMeans(Xraw_additive) / 2\n",
    "ref_alleles <- c(\"C\", \"T\", \"A\")\n",
    "\n",
    "sumstats_0 <- data.frame(\n",
    "  SNP = paste0(\"rs\", 1:M),\n",
    "  CHR = c(1, 1, 2),  # Example chromosome assignments\n",
    "  BP = c(1315, 2620, 6290),  # Example base pair positions\n",
    "  ALT = alt_alleles,  # Effect allele\n",
    "  REF = ref_alleles,  # Reference allele\n",
    "  EAF = MAF,  # Effect allele frequency\n",
    "  N = rep(N, M),  # Sample size\n",
    "  BETA = numeric(M),  # Effect size\n",
    "  SE = numeric(M),  # Standard error\n",
    "  Z = numeric(M),  # Z-score\n",
    "  P = numeric(M)  # P-value\n",
    ")"
   ]
  },
  {
   "cell_type": "markdown",
   "id": "664c81ed",
   "metadata": {},
   "source": [
    "## Example 1: Summary Statistics using Linear and Logistic Models"
   ]
  },
  {
   "cell_type": "markdown",
   "id": "c3f8315d",
   "metadata": {},
   "source": [
    "In this example, we simulate a simple genome-wide association study (GWAS) by testing the relationship between three genetic variants and trait across five individuals."
   ]
  },
  {
   "cell_type": "markdown",
   "id": "2db8d94e",
   "metadata": {},
   "source": [
    "### Continuous Outcome -- Height"
   ]
  },
  {
   "cell_type": "markdown",
   "id": "93108c0a",
   "metadata": {},
   "source": [
    "Let's first use OLS to compute the summary statistics for a continuous variable --- height (we have done this in [OLS](https://gaow.github.io/statgen-prerequisites/ordinary_least_squares.html))."
   ]
  },
  {
   "cell_type": "code",
   "execution_count": 38,
   "id": "53d82eed",
   "metadata": {
    "vscode": {
     "languageId": "r"
    }
   },
   "outputs": [],
   "source": [
    "# assign observed height for the 5 individuals\n",
    "Y_raw <- c(180, 160, 158, 155, 193)\n",
    "Y <- scale(Y_raw)"
   ]
  },
  {
   "cell_type": "markdown",
   "id": "a1ed5d9f",
   "metadata": {},
   "source": [
    "We perform ordinary least square analysis on each single SNP using `lm` function in R:"
   ]
  },
  {
   "cell_type": "code",
   "execution_count": 39,
   "id": "d5896a00",
   "metadata": {
    "vscode": {
     "languageId": "r"
    }
   },
   "outputs": [],
   "source": [
    "p_values <- numeric(M)  # Store p-values\n",
    "betas <- numeric(M)     # Store estimated effect sizes\n",
    "sumstats_height <- sumstats_0  # Initialize summary statistics data frame for height\n",
    "for (j in 1:M) {\n",
    "  SNP <- X[, j]  # Extract genotype for SNP j\n",
    "  model <- lm(Y ~ SNP)  # OLS regression: Trait ~ SNP\n",
    "  summary_model <- summary(model)\n",
    "  # Store results in standard format\n",
    "  sumstats_height$BETA[j] <- summary_model$coefficients[2, 1]  # Effect size\n",
    "  sumstats_height$SE[j] <- summary_model$coefficients[2, 2]    # Standard error\n",
    "  sumstats_height$Z[j] <- summary_model$coefficients[2, 3]     # t-statistic (equivalent to Z-score)\n",
    "  sumstats_height$P[j] <- summary_model$coefficients[2, 4]     # P-value\n",
    "}\n"
   ]
  },
  {
   "cell_type": "markdown",
   "id": "ce64ff99",
   "metadata": {},
   "source": [
    "The summary statistics results are:"
   ]
  },
  {
   "cell_type": "code",
   "execution_count": 40,
   "id": "e6d087ee",
   "metadata": {
    "vscode": {
     "languageId": "r"
    }
   },
   "outputs": [
    {
     "data": {
      "text/html": [
       "<table class=\"dataframe\">\n",
       "<caption>A data.frame: 3 x 11</caption>\n",
       "<thead>\n",
       "\t<tr><th></th><th scope=col>SNP</th><th scope=col>CHR</th><th scope=col>BP</th><th scope=col>ALT</th><th scope=col>REF</th><th scope=col>EAF</th><th scope=col>N</th><th scope=col>BETA</th><th scope=col>SE</th><th scope=col>Z</th><th scope=col>P</th></tr>\n",
       "\t<tr><th></th><th scope=col>&lt;chr&gt;</th><th scope=col>&lt;dbl&gt;</th><th scope=col>&lt;dbl&gt;</th><th scope=col>&lt;chr&gt;</th><th scope=col>&lt;chr&gt;</th><th scope=col>&lt;dbl&gt;</th><th scope=col>&lt;dbl&gt;</th><th scope=col>&lt;dbl&gt;</th><th scope=col>&lt;dbl&gt;</th><th scope=col>&lt;dbl&gt;</th><th scope=col>&lt;dbl&gt;</th></tr>\n",
       "</thead>\n",
       "<tbody>\n",
       "\t<tr><th scope=row>Variant 1</th><td>rs1</td><td>1</td><td>1315</td><td>T</td><td>C</td><td>0.3</td><td>5</td><td>-0.5000913</td><td>0.49996955</td><td>-1.000244</td><td>0.390901513</td></tr>\n",
       "\t<tr><th scope=row>Variant 2</th><td>rs2</td><td>1</td><td>2620</td><td>C</td><td>T</td><td>0.4</td><td>5</td><td> 0.8525024</td><td>0.30179448</td><td> 2.824778</td><td>0.066475513</td></tr>\n",
       "\t<tr><th scope=row>Variant 3</th><td>rs3</td><td>2</td><td>6290</td><td>T</td><td>A</td><td>0.3</td><td>5</td><td> 0.9866667</td><td>0.09396605</td><td>10.500246</td><td>0.001844466</td></tr>\n",
       "</tbody>\n",
       "</table>\n"
      ],
      "text/latex": [
       "A data.frame: 3 x 11\n",
       "\\begin{tabular}{r|lllllllllll}\n",
       "  & SNP & CHR & BP & ALT & REF & EAF & N & BETA & SE & Z & P\\\\\n",
       "  & <chr> & <dbl> & <dbl> & <chr> & <chr> & <dbl> & <dbl> & <dbl> & <dbl> & <dbl> & <dbl>\\\\\n",
       "\\hline\n",
       "\tVariant 1 & rs1 & 1 & 1315 & T & C & 0.3 & 5 & -0.5000913 & 0.49996955 & -1.000244 & 0.390901513\\\\\n",
       "\tVariant 2 & rs2 & 1 & 2620 & C & T & 0.4 & 5 &  0.8525024 & 0.30179448 &  2.824778 & 0.066475513\\\\\n",
       "\tVariant 3 & rs3 & 2 & 6290 & T & A & 0.3 & 5 &  0.9866667 & 0.09396605 & 10.500246 & 0.001844466\\\\\n",
       "\\end{tabular}\n"
      ],
      "text/markdown": [
       "\n",
       "A data.frame: 3 x 11\n",
       "\n",
       "| <!--/--> | SNP &lt;chr&gt; | CHR &lt;dbl&gt; | BP &lt;dbl&gt; | ALT &lt;chr&gt; | REF &lt;chr&gt; | EAF &lt;dbl&gt; | N &lt;dbl&gt; | BETA &lt;dbl&gt; | SE &lt;dbl&gt; | Z &lt;dbl&gt; | P &lt;dbl&gt; |\n",
       "|---|---|---|---|---|---|---|---|---|---|---|---|\n",
       "| Variant 1 | rs1 | 1 | 1315 | T | C | 0.3 | 5 | -0.5000913 | 0.49996955 | -1.000244 | 0.390901513 |\n",
       "| Variant 2 | rs2 | 1 | 2620 | C | T | 0.4 | 5 |  0.8525024 | 0.30179448 |  2.824778 | 0.066475513 |\n",
       "| Variant 3 | rs3 | 2 | 6290 | T | A | 0.3 | 5 |  0.9866667 | 0.09396605 | 10.500246 | 0.001844466 |\n",
       "\n"
      ],
      "text/plain": [
       "          SNP CHR BP   ALT REF EAF N BETA       SE         Z        \n",
       "Variant 1 rs1 1   1315 T   C   0.3 5 -0.5000913 0.49996955 -1.000244\n",
       "Variant 2 rs2 1   2620 C   T   0.4 5  0.8525024 0.30179448  2.824778\n",
       "Variant 3 rs3 2   6290 T   A   0.3 5  0.9866667 0.09396605 10.500246\n",
       "          P          \n",
       "Variant 1 0.390901513\n",
       "Variant 2 0.066475513\n",
       "Variant 3 0.001844466"
      ]
     },
     "metadata": {},
     "output_type": "display_data"
    }
   ],
   "source": [
    "sumstats_height"
   ]
  },
  {
   "cell_type": "markdown",
   "id": "3572af4f",
   "metadata": {},
   "source": [
    "### Binary Outcome --- Disease Status"
   ]
  },
  {
   "cell_type": "markdown",
   "id": "30802fb6",
   "metadata": {},
   "source": [
    "Let's then use logistic regression to compute the summary statistics for a binary trait --- disease status (we have done this in [odds_ratio](https://gaow.github.io/statgen-prerequisites/odds_ratio.html))."
   ]
  },
  {
   "cell_type": "code",
   "execution_count": 29,
   "id": "7772e96e",
   "metadata": {
    "vscode": {
     "languageId": "r"
    }
   },
   "outputs": [],
   "source": [
    "# assign observed disease status for the 5 individuals\n",
    "Y_binary <- c(1, 0, 0, 0, 1)"
   ]
  },
  {
   "cell_type": "code",
   "execution_count": 30,
   "id": "ef491666",
   "metadata": {
    "vscode": {
     "languageId": "r"
    }
   },
   "outputs": [
    {
     "name": "stderr",
     "output_type": "stream",
     "text": [
      "Warning message:\n",
      "\"glm.fit: fitted probabilities numerically 0 or 1 occurred\"\n",
      "Warning message:\n",
      "\"glm.fit: fitted probabilities numerically 0 or 1 occurred\"\n"
     ]
    }
   ],
   "source": [
    "sumstats_binary <- sumstats_0\n",
    "# Perform GWAS analysis: Test each SNP independently using logistic regression\n",
    "for (j in 1:M) {\n",
    "  SNP <- X[, j]  # Extract genotype for SNP j\n",
    "  model <- glm(Y_binary ~ SNP, family = binomial(link = \"logit\"))  # Logistic regression: Binary trait ~ SNP\n",
    "  summary_model <- summary(model)\n",
    "  \n",
    "  # Store results in standard format\n",
    "  sumstats_binary$BETA[j] <- summary_model$coefficients[2, 1]  # Log odds ratio (effect size)\n",
    "  sumstats_binary$SE[j] <- summary_model$coefficients[2, 2]    # Standard error\n",
    "  sumstats_binary$Z[j] <- summary_model$coefficients[2, 3]     # z-statistic\n",
    "  sumstats_binary$P[j] <- summary_model$coefficients[2, 4]     # P-value\n",
    "}\n"
   ]
  },
  {
   "cell_type": "markdown",
   "id": "ee4decdd",
   "metadata": {},
   "source": [
    "GWAS Summary Statistics based on our toy data would be:"
   ]
  },
  {
   "cell_type": "code",
   "execution_count": 31,
   "id": "3deefb74",
   "metadata": {
    "vscode": {
     "languageId": "r"
    }
   },
   "outputs": [
    {
     "data": {
      "text/html": [
       "<table class=\"dataframe\">\n",
       "<caption>A data.frame: 3 x 11</caption>\n",
       "<thead>\n",
       "\t<tr><th></th><th scope=col>SNP</th><th scope=col>CHR</th><th scope=col>BP</th><th scope=col>ALT</th><th scope=col>REF</th><th scope=col>EAF</th><th scope=col>N</th><th scope=col>BETA</th><th scope=col>SE</th><th scope=col>Z</th><th scope=col>P</th></tr>\n",
       "\t<tr><th></th><th scope=col>&lt;chr&gt;</th><th scope=col>&lt;dbl&gt;</th><th scope=col>&lt;dbl&gt;</th><th scope=col>&lt;chr&gt;</th><th scope=col>&lt;chr&gt;</th><th scope=col>&lt;dbl&gt;</th><th scope=col>&lt;dbl&gt;</th><th scope=col>&lt;dbl&gt;</th><th scope=col>&lt;dbl&gt;</th><th scope=col>&lt;dbl&gt;</th><th scope=col>&lt;dbl&gt;</th></tr>\n",
       "</thead>\n",
       "<tbody>\n",
       "\t<tr><th scope=row>Variant 1</th><td>rs1</td><td>1</td><td>1315</td><td>T</td><td>C</td><td>0.3</td><td>5</td><td>-17.68860</td><td> 7555.904</td><td>-0.0023410307</td><td>0.9981321</td></tr>\n",
       "\t<tr><th scope=row>Variant 2</th><td>rs2</td><td>1</td><td>2620</td><td>C</td><td>T</td><td>0.4</td><td>5</td><td> 17.20681</td><td> 8564.582</td><td> 0.0020090656</td><td>0.9983970</td></tr>\n",
       "\t<tr><th scope=row>Variant 3</th><td>rs3</td><td>2</td><td>6290</td><td>T</td><td>A</td><td>0.3</td><td>5</td><td> 41.95806</td><td>72333.584</td><td> 0.0005800633</td><td>0.9995372</td></tr>\n",
       "</tbody>\n",
       "</table>\n"
      ],
      "text/latex": [
       "A data.frame: 3 x 11\n",
       "\\begin{tabular}{r|lllllllllll}\n",
       "  & SNP & CHR & BP & ALT & REF & EAF & N & BETA & SE & Z & P\\\\\n",
       "  & <chr> & <dbl> & <dbl> & <chr> & <chr> & <dbl> & <dbl> & <dbl> & <dbl> & <dbl> & <dbl>\\\\\n",
       "\\hline\n",
       "\tVariant 1 & rs1 & 1 & 1315 & T & C & 0.3 & 5 & -17.68860 &  7555.904 & -0.0023410307 & 0.9981321\\\\\n",
       "\tVariant 2 & rs2 & 1 & 2620 & C & T & 0.4 & 5 &  17.20681 &  8564.582 &  0.0020090656 & 0.9983970\\\\\n",
       "\tVariant 3 & rs3 & 2 & 6290 & T & A & 0.3 & 5 &  41.95806 & 72333.584 &  0.0005800633 & 0.9995372\\\\\n",
       "\\end{tabular}\n"
      ],
      "text/markdown": [
       "\n",
       "A data.frame: 3 x 11\n",
       "\n",
       "| <!--/--> | SNP &lt;chr&gt; | CHR &lt;dbl&gt; | BP &lt;dbl&gt; | ALT &lt;chr&gt; | REF &lt;chr&gt; | EAF &lt;dbl&gt; | N &lt;dbl&gt; | BETA &lt;dbl&gt; | SE &lt;dbl&gt; | Z &lt;dbl&gt; | P &lt;dbl&gt; |\n",
       "|---|---|---|---|---|---|---|---|---|---|---|---|\n",
       "| Variant 1 | rs1 | 1 | 1315 | T | C | 0.3 | 5 | -17.68860 |  7555.904 | -0.0023410307 | 0.9981321 |\n",
       "| Variant 2 | rs2 | 1 | 2620 | C | T | 0.4 | 5 |  17.20681 |  8564.582 |  0.0020090656 | 0.9983970 |\n",
       "| Variant 3 | rs3 | 2 | 6290 | T | A | 0.3 | 5 |  41.95806 | 72333.584 |  0.0005800633 | 0.9995372 |\n",
       "\n"
      ],
      "text/plain": [
       "          SNP CHR BP   ALT REF EAF N BETA      SE        Z            \n",
       "Variant 1 rs1 1   1315 T   C   0.3 5 -17.68860  7555.904 -0.0023410307\n",
       "Variant 2 rs2 1   2620 C   T   0.4 5  17.20681  8564.582  0.0020090656\n",
       "Variant 3 rs3 2   6290 T   A   0.3 5  41.95806 72333.584  0.0005800633\n",
       "          P        \n",
       "Variant 1 0.9981321\n",
       "Variant 2 0.9983970\n",
       "Variant 3 0.9995372"
      ]
     },
     "metadata": {},
     "output_type": "display_data"
    }
   ],
   "source": [
    "sumstats_binary"
   ]
  },
  {
   "cell_type": "markdown",
   "id": "e6090778",
   "metadata": {},
   "source": [
    "Note that the SE is extremely large because the sample size in our toy data is too small (5)."
   ]
  },
  {
   "cell_type": "markdown",
   "id": "b543c11e",
   "metadata": {},
   "source": [
    "## Example 2: Summary Statistics when considering covariates"
   ]
  },
  {
   "cell_type": "markdown",
   "id": "cd84974c",
   "metadata": {},
   "source": [
    "For this example we assume you already understand the basics of summary statistics and the concepts of covariates.\n",
    "\n",
    "We calculate the summary statistics using OLS and consider age as the covariate."
   ]
  },
  {
   "cell_type": "code",
   "execution_count": 41,
   "id": "ed42cfe7",
   "metadata": {
    "vscode": {
     "languageId": "r"
    }
   },
   "outputs": [],
   "source": [
    "sumstats_age <- sumstats_0\n",
    "\n",
    "# assign observed height for the 5 individuals\n",
    "Y_raw <- c(180, 160, 158, 155, 193)\n",
    "Y <- scale(Y_raw)\n",
    "\n",
    "# Add age as a covariate\n",
    "age <- c(65, 45, 38, 52, 71)  # Example ages for the 5 individuals\n",
    "\n",
    "# Standardize age for better numerical stability\n",
    "age_scaled <- scale(age, center=TRUE, scale=TRUE)[,1]\n",
    "\n",
    "# Perform GWAS analysis with age as covariate: Test each SNP independently using linear regression\n",
    "for (j in 1:M) {\n",
    "  SNP <- X[, j]  # Extract genotype for SNP j\n",
    "  model <- lm(Y ~ SNP + age_scaled) \n",
    "  summary_model <- summary(model)\n",
    "  \n",
    "  # Store results in standard format (coefficients for SNP, not age)\n",
    "  sumstats_age$BETA[j] <- summary_model$coefficients[2, 1]  # Log odds ratio for SNP (effect size)\n",
    "  sumstats_age$SE[j] <- summary_model$coefficients[2, 2]    # Standard error for SNP\n",
    "  sumstats_age$Z[j] <- summary_model$coefficients[2, 3]     # z-statistic for SNP\n",
    "  sumstats_age$P[j] <- summary_model$coefficients[2, 4]     # P-value for SNP\n",
    "}"
   ]
  },
  {
   "cell_type": "markdown",
   "id": "54683373",
   "metadata": {},
   "source": [
    "Recall that when we didn't consider age and the summary statistics is:"
   ]
  },
  {
   "cell_type": "code",
   "execution_count": 42,
   "id": "f6ff6ca7",
   "metadata": {
    "vscode": {
     "languageId": "r"
    }
   },
   "outputs": [
    {
     "data": {
      "text/html": [
       "<table class=\"dataframe\">\n",
       "<caption>A data.frame: 3 x 11</caption>\n",
       "<thead>\n",
       "\t<tr><th></th><th scope=col>SNP</th><th scope=col>CHR</th><th scope=col>BP</th><th scope=col>ALT</th><th scope=col>REF</th><th scope=col>EAF</th><th scope=col>N</th><th scope=col>BETA</th><th scope=col>SE</th><th scope=col>Z</th><th scope=col>P</th></tr>\n",
       "\t<tr><th></th><th scope=col>&lt;chr&gt;</th><th scope=col>&lt;dbl&gt;</th><th scope=col>&lt;dbl&gt;</th><th scope=col>&lt;chr&gt;</th><th scope=col>&lt;chr&gt;</th><th scope=col>&lt;dbl&gt;</th><th scope=col>&lt;dbl&gt;</th><th scope=col>&lt;dbl&gt;</th><th scope=col>&lt;dbl&gt;</th><th scope=col>&lt;dbl&gt;</th><th scope=col>&lt;dbl&gt;</th></tr>\n",
       "</thead>\n",
       "<tbody>\n",
       "\t<tr><th scope=row>Variant 1</th><td>rs1</td><td>1</td><td>1315</td><td>T</td><td>C</td><td>0.3</td><td>5</td><td>-0.5000913</td><td>0.49996955</td><td>-1.000244</td><td>0.390901513</td></tr>\n",
       "\t<tr><th scope=row>Variant 2</th><td>rs2</td><td>1</td><td>2620</td><td>C</td><td>T</td><td>0.4</td><td>5</td><td> 0.8525024</td><td>0.30179448</td><td> 2.824778</td><td>0.066475513</td></tr>\n",
       "\t<tr><th scope=row>Variant 3</th><td>rs3</td><td>2</td><td>6290</td><td>T</td><td>A</td><td>0.3</td><td>5</td><td> 0.9866667</td><td>0.09396605</td><td>10.500246</td><td>0.001844466</td></tr>\n",
       "</tbody>\n",
       "</table>\n"
      ],
      "text/latex": [
       "A data.frame: 3 x 11\n",
       "\\begin{tabular}{r|lllllllllll}\n",
       "  & SNP & CHR & BP & ALT & REF & EAF & N & BETA & SE & Z & P\\\\\n",
       "  & <chr> & <dbl> & <dbl> & <chr> & <chr> & <dbl> & <dbl> & <dbl> & <dbl> & <dbl> & <dbl>\\\\\n",
       "\\hline\n",
       "\tVariant 1 & rs1 & 1 & 1315 & T & C & 0.3 & 5 & -0.5000913 & 0.49996955 & -1.000244 & 0.390901513\\\\\n",
       "\tVariant 2 & rs2 & 1 & 2620 & C & T & 0.4 & 5 &  0.8525024 & 0.30179448 &  2.824778 & 0.066475513\\\\\n",
       "\tVariant 3 & rs3 & 2 & 6290 & T & A & 0.3 & 5 &  0.9866667 & 0.09396605 & 10.500246 & 0.001844466\\\\\n",
       "\\end{tabular}\n"
      ],
      "text/markdown": [
       "\n",
       "A data.frame: 3 x 11\n",
       "\n",
       "| <!--/--> | SNP &lt;chr&gt; | CHR &lt;dbl&gt; | BP &lt;dbl&gt; | ALT &lt;chr&gt; | REF &lt;chr&gt; | EAF &lt;dbl&gt; | N &lt;dbl&gt; | BETA &lt;dbl&gt; | SE &lt;dbl&gt; | Z &lt;dbl&gt; | P &lt;dbl&gt; |\n",
       "|---|---|---|---|---|---|---|---|---|---|---|---|\n",
       "| Variant 1 | rs1 | 1 | 1315 | T | C | 0.3 | 5 | -0.5000913 | 0.49996955 | -1.000244 | 0.390901513 |\n",
       "| Variant 2 | rs2 | 1 | 2620 | C | T | 0.4 | 5 |  0.8525024 | 0.30179448 |  2.824778 | 0.066475513 |\n",
       "| Variant 3 | rs3 | 2 | 6290 | T | A | 0.3 | 5 |  0.9866667 | 0.09396605 | 10.500246 | 0.001844466 |\n",
       "\n"
      ],
      "text/plain": [
       "          SNP CHR BP   ALT REF EAF N BETA       SE         Z        \n",
       "Variant 1 rs1 1   1315 T   C   0.3 5 -0.5000913 0.49996955 -1.000244\n",
       "Variant 2 rs2 1   2620 C   T   0.4 5  0.8525024 0.30179448  2.824778\n",
       "Variant 3 rs3 2   6290 T   A   0.3 5  0.9866667 0.09396605 10.500246\n",
       "          P          \n",
       "Variant 1 0.390901513\n",
       "Variant 2 0.066475513\n",
       "Variant 3 0.001844466"
      ]
     },
     "metadata": {},
     "output_type": "display_data"
    }
   ],
   "source": [
    "sumstats_height"
   ]
  },
  {
   "cell_type": "markdown",
   "id": "85182894",
   "metadata": {},
   "source": [
    "When we add age as the covariates, the results are different from above:"
   ]
  },
  {
   "cell_type": "code",
   "execution_count": 43,
   "id": "63e66372",
   "metadata": {
    "vscode": {
     "languageId": "r"
    }
   },
   "outputs": [
    {
     "data": {
      "text/html": [
       "<table class=\"dataframe\">\n",
       "<caption>A data.frame: 3 x 11</caption>\n",
       "<thead>\n",
       "\t<tr><th></th><th scope=col>SNP</th><th scope=col>CHR</th><th scope=col>BP</th><th scope=col>ALT</th><th scope=col>REF</th><th scope=col>EAF</th><th scope=col>N</th><th scope=col>BETA</th><th scope=col>SE</th><th scope=col>Z</th><th scope=col>P</th></tr>\n",
       "\t<tr><th></th><th scope=col>&lt;chr&gt;</th><th scope=col>&lt;dbl&gt;</th><th scope=col>&lt;dbl&gt;</th><th scope=col>&lt;chr&gt;</th><th scope=col>&lt;chr&gt;</th><th scope=col>&lt;dbl&gt;</th><th scope=col>&lt;dbl&gt;</th><th scope=col>&lt;dbl&gt;</th><th scope=col>&lt;dbl&gt;</th><th scope=col>&lt;dbl&gt;</th><th scope=col>&lt;dbl&gt;</th></tr>\n",
       "</thead>\n",
       "<tbody>\n",
       "\t<tr><th scope=row>Variant 1</th><td>rs1</td><td>1</td><td>1315</td><td>T</td><td>C</td><td>0.3</td><td>5</td><td>0.2661395</td><td>0.3977629</td><td>0.6690908</td><td>0.57233126</td></tr>\n",
       "\t<tr><th scope=row>Variant 2</th><td>rs2</td><td>1</td><td>2620</td><td>C</td><td>T</td><td>0.4</td><td>5</td><td>0.4832254</td><td>0.1987531</td><td>2.4312852</td><td>0.13559721</td></tr>\n",
       "\t<tr><th scope=row>Variant 3</th><td>rs3</td><td>2</td><td>6290</td><td>T</td><td>A</td><td>0.3</td><td>5</td><td>0.9671826</td><td>0.2712268</td><td>3.5659554</td><td>0.07043351</td></tr>\n",
       "</tbody>\n",
       "</table>\n"
      ],
      "text/latex": [
       "A data.frame: 3 x 11\n",
       "\\begin{tabular}{r|lllllllllll}\n",
       "  & SNP & CHR & BP & ALT & REF & EAF & N & BETA & SE & Z & P\\\\\n",
       "  & <chr> & <dbl> & <dbl> & <chr> & <chr> & <dbl> & <dbl> & <dbl> & <dbl> & <dbl> & <dbl>\\\\\n",
       "\\hline\n",
       "\tVariant 1 & rs1 & 1 & 1315 & T & C & 0.3 & 5 & 0.2661395 & 0.3977629 & 0.6690908 & 0.57233126\\\\\n",
       "\tVariant 2 & rs2 & 1 & 2620 & C & T & 0.4 & 5 & 0.4832254 & 0.1987531 & 2.4312852 & 0.13559721\\\\\n",
       "\tVariant 3 & rs3 & 2 & 6290 & T & A & 0.3 & 5 & 0.9671826 & 0.2712268 & 3.5659554 & 0.07043351\\\\\n",
       "\\end{tabular}\n"
      ],
      "text/markdown": [
       "\n",
       "A data.frame: 3 x 11\n",
       "\n",
       "| <!--/--> | SNP &lt;chr&gt; | CHR &lt;dbl&gt; | BP &lt;dbl&gt; | ALT &lt;chr&gt; | REF &lt;chr&gt; | EAF &lt;dbl&gt; | N &lt;dbl&gt; | BETA &lt;dbl&gt; | SE &lt;dbl&gt; | Z &lt;dbl&gt; | P &lt;dbl&gt; |\n",
       "|---|---|---|---|---|---|---|---|---|---|---|---|\n",
       "| Variant 1 | rs1 | 1 | 1315 | T | C | 0.3 | 5 | 0.2661395 | 0.3977629 | 0.6690908 | 0.57233126 |\n",
       "| Variant 2 | rs2 | 1 | 2620 | C | T | 0.4 | 5 | 0.4832254 | 0.1987531 | 2.4312852 | 0.13559721 |\n",
       "| Variant 3 | rs3 | 2 | 6290 | T | A | 0.3 | 5 | 0.9671826 | 0.2712268 | 3.5659554 | 0.07043351 |\n",
       "\n"
      ],
      "text/plain": [
       "          SNP CHR BP   ALT REF EAF N BETA      SE        Z         P         \n",
       "Variant 1 rs1 1   1315 T   C   0.3 5 0.2661395 0.3977629 0.6690908 0.57233126\n",
       "Variant 2 rs2 1   2620 C   T   0.4 5 0.4832254 0.1987531 2.4312852 0.13559721\n",
       "Variant 3 rs3 2   6290 T   A   0.3 5 0.9671826 0.2712268 3.5659554 0.07043351"
      ]
     },
     "metadata": {},
     "output_type": "display_data"
    }
   ],
   "source": [
    "sumstats_age"
   ]
  },
  {
   "cell_type": "markdown",
   "id": "a3db1443",
   "metadata": {},
   "source": [
    "## Example 3: Marginal and Joint Effects"
   ]
  },
  {
   "cell_type": "markdown",
   "id": "7c438c2d",
   "metadata": {},
   "source": [
    "In Example 1 and 2, we always consider each variant independently (using the `for` loop) and treat them one by one. The summary statistics, therefore, describes the marginal effect of each variant on the trait value.\n",
    "\n",
    "However, this ignores the LD between the variants. And when multiple variants are considered in a single model at the same time, we can obtain the joint effects.  "
   ]
  },
  {
   "cell_type": "code",
   "execution_count": 45,
   "id": "1c94d1a7",
   "metadata": {
    "vscode": {
     "languageId": "r"
    }
   },
   "outputs": [],
   "source": [
    "sumstats_joint <- sumstats_0\n",
    "\n",
    "# Assign observed height for the 5 individuals\n",
    "Y_raw <- c(180, 160, 158, 155, 193)\n",
    "Y <- scale(Y_raw)"
   ]
  },
  {
   "cell_type": "code",
   "execution_count": 46,
   "id": "4eb0e26d",
   "metadata": {
    "vscode": {
     "languageId": "r"
    }
   },
   "outputs": [],
   "source": [
    "# JOINT EFFECTS: Test all SNPs together in one model\n",
    "model_joint <- lm(Y ~ X[,1] + X[,2] + X[,3])  # All SNPs in one model\n",
    "summary_joint <- summary(model_joint)\n",
    "\n",
    "# Store joint results for each SNP\n",
    "for (j in 1:M) {\n",
    "  sumstats_joint$BETA[j] <- summary_joint$coefficients[j+1, 1]  # Effect size (j+1 because intercept is position 1)\n",
    "  sumstats_joint$SE[j] <- summary_joint$coefficients[j+1, 2]    # Standard error\n",
    "  sumstats_joint$Z[j] <- summary_joint$coefficients[j+1, 3]     # t-statistic\n",
    "  sumstats_joint$P[j] <- summary_joint$coefficients[j+1, 4]     # P-value\n",
    "}"
   ]
  },
  {
   "cell_type": "markdown",
   "id": "da730c53",
   "metadata": {},
   "source": [
    "Recall the marginal effects of the three variants:"
   ]
  },
  {
   "cell_type": "code",
   "execution_count": 47,
   "id": "df42025c",
   "metadata": {
    "vscode": {
     "languageId": "r"
    }
   },
   "outputs": [
    {
     "data": {
      "text/html": [
       "<table class=\"dataframe\">\n",
       "<caption>A data.frame: 3 x 11</caption>\n",
       "<thead>\n",
       "\t<tr><th></th><th scope=col>SNP</th><th scope=col>CHR</th><th scope=col>BP</th><th scope=col>ALT</th><th scope=col>REF</th><th scope=col>EAF</th><th scope=col>N</th><th scope=col>BETA</th><th scope=col>SE</th><th scope=col>Z</th><th scope=col>P</th></tr>\n",
       "\t<tr><th></th><th scope=col>&lt;chr&gt;</th><th scope=col>&lt;dbl&gt;</th><th scope=col>&lt;dbl&gt;</th><th scope=col>&lt;chr&gt;</th><th scope=col>&lt;chr&gt;</th><th scope=col>&lt;dbl&gt;</th><th scope=col>&lt;dbl&gt;</th><th scope=col>&lt;dbl&gt;</th><th scope=col>&lt;dbl&gt;</th><th scope=col>&lt;dbl&gt;</th><th scope=col>&lt;dbl&gt;</th></tr>\n",
       "</thead>\n",
       "<tbody>\n",
       "\t<tr><th scope=row>Variant 1</th><td>rs1</td><td>1</td><td>1315</td><td>T</td><td>C</td><td>0.3</td><td>5</td><td>-0.5000913</td><td>0.49996955</td><td>-1.000244</td><td>0.390901513</td></tr>\n",
       "\t<tr><th scope=row>Variant 2</th><td>rs2</td><td>1</td><td>2620</td><td>C</td><td>T</td><td>0.4</td><td>5</td><td> 0.8525024</td><td>0.30179448</td><td> 2.824778</td><td>0.066475513</td></tr>\n",
       "\t<tr><th scope=row>Variant 3</th><td>rs3</td><td>2</td><td>6290</td><td>T</td><td>A</td><td>0.3</td><td>5</td><td> 0.9866667</td><td>0.09396605</td><td>10.500246</td><td>0.001844466</td></tr>\n",
       "</tbody>\n",
       "</table>\n"
      ],
      "text/latex": [
       "A data.frame: 3 x 11\n",
       "\\begin{tabular}{r|lllllllllll}\n",
       "  & SNP & CHR & BP & ALT & REF & EAF & N & BETA & SE & Z & P\\\\\n",
       "  & <chr> & <dbl> & <dbl> & <chr> & <chr> & <dbl> & <dbl> & <dbl> & <dbl> & <dbl> & <dbl>\\\\\n",
       "\\hline\n",
       "\tVariant 1 & rs1 & 1 & 1315 & T & C & 0.3 & 5 & -0.5000913 & 0.49996955 & -1.000244 & 0.390901513\\\\\n",
       "\tVariant 2 & rs2 & 1 & 2620 & C & T & 0.4 & 5 &  0.8525024 & 0.30179448 &  2.824778 & 0.066475513\\\\\n",
       "\tVariant 3 & rs3 & 2 & 6290 & T & A & 0.3 & 5 &  0.9866667 & 0.09396605 & 10.500246 & 0.001844466\\\\\n",
       "\\end{tabular}\n"
      ],
      "text/markdown": [
       "\n",
       "A data.frame: 3 x 11\n",
       "\n",
       "| <!--/--> | SNP &lt;chr&gt; | CHR &lt;dbl&gt; | BP &lt;dbl&gt; | ALT &lt;chr&gt; | REF &lt;chr&gt; | EAF &lt;dbl&gt; | N &lt;dbl&gt; | BETA &lt;dbl&gt; | SE &lt;dbl&gt; | Z &lt;dbl&gt; | P &lt;dbl&gt; |\n",
       "|---|---|---|---|---|---|---|---|---|---|---|---|\n",
       "| Variant 1 | rs1 | 1 | 1315 | T | C | 0.3 | 5 | -0.5000913 | 0.49996955 | -1.000244 | 0.390901513 |\n",
       "| Variant 2 | rs2 | 1 | 2620 | C | T | 0.4 | 5 |  0.8525024 | 0.30179448 |  2.824778 | 0.066475513 |\n",
       "| Variant 3 | rs3 | 2 | 6290 | T | A | 0.3 | 5 |  0.9866667 | 0.09396605 | 10.500246 | 0.001844466 |\n",
       "\n"
      ],
      "text/plain": [
       "          SNP CHR BP   ALT REF EAF N BETA       SE         Z        \n",
       "Variant 1 rs1 1   1315 T   C   0.3 5 -0.5000913 0.49996955 -1.000244\n",
       "Variant 2 rs2 1   2620 C   T   0.4 5  0.8525024 0.30179448  2.824778\n",
       "Variant 3 rs3 2   6290 T   A   0.3 5  0.9866667 0.09396605 10.500246\n",
       "          P          \n",
       "Variant 1 0.390901513\n",
       "Variant 2 0.066475513\n",
       "Variant 3 0.001844466"
      ]
     },
     "metadata": {},
     "output_type": "display_data"
    }
   ],
   "source": [
    "sumstats_height"
   ]
  },
  {
   "cell_type": "markdown",
   "id": "26d877d6",
   "metadata": {},
   "source": [
    "The joint effect results are:"
   ]
  },
  {
   "cell_type": "code",
   "execution_count": 48,
   "id": "6840fa37",
   "metadata": {
    "vscode": {
     "languageId": "r"
    }
   },
   "outputs": [
    {
     "data": {
      "text/html": [
       "<table class=\"dataframe\">\n",
       "<caption>A data.frame: 3 x 11</caption>\n",
       "<thead>\n",
       "\t<tr><th></th><th scope=col>SNP</th><th scope=col>CHR</th><th scope=col>BP</th><th scope=col>ALT</th><th scope=col>REF</th><th scope=col>EAF</th><th scope=col>N</th><th scope=col>BETA</th><th scope=col>SE</th><th scope=col>Z</th><th scope=col>P</th></tr>\n",
       "\t<tr><th></th><th scope=col>&lt;chr&gt;</th><th scope=col>&lt;dbl&gt;</th><th scope=col>&lt;dbl&gt;</th><th scope=col>&lt;chr&gt;</th><th scope=col>&lt;chr&gt;</th><th scope=col>&lt;dbl&gt;</th><th scope=col>&lt;dbl&gt;</th><th scope=col>&lt;dbl&gt;</th><th scope=col>&lt;dbl&gt;</th><th scope=col>&lt;dbl&gt;</th><th scope=col>&lt;dbl&gt;</th></tr>\n",
       "</thead>\n",
       "<tbody>\n",
       "\t<tr><th scope=row>Variant 1</th><td>rs1</td><td>1</td><td>1315</td><td>T</td><td>C</td><td>0.3</td><td>5</td><td> 0.08109589</td><td>0.1793098</td><td> 0.45226702</td><td>0.7296037</td></tr>\n",
       "\t<tr><th scope=row>Variant 2</th><td>rs2</td><td>1</td><td>2620</td><td>C</td><td>T</td><td>0.4</td><td>5</td><td>-0.02528609</td><td>0.2991890</td><td>-0.08451543</td><td>0.9463234</td></tr>\n",
       "\t<tr><th scope=row>Variant 3</th><td>rs3</td><td>2</td><td>6290</td><td>T</td><td>A</td><td>0.3</td><td>5</td><td> 1.05424659</td><td>0.3198465</td><td> 3.29610159</td><td>0.1875245</td></tr>\n",
       "</tbody>\n",
       "</table>\n"
      ],
      "text/latex": [
       "A data.frame: 3 x 11\n",
       "\\begin{tabular}{r|lllllllllll}\n",
       "  & SNP & CHR & BP & ALT & REF & EAF & N & BETA & SE & Z & P\\\\\n",
       "  & <chr> & <dbl> & <dbl> & <chr> & <chr> & <dbl> & <dbl> & <dbl> & <dbl> & <dbl> & <dbl>\\\\\n",
       "\\hline\n",
       "\tVariant 1 & rs1 & 1 & 1315 & T & C & 0.3 & 5 &  0.08109589 & 0.1793098 &  0.45226702 & 0.7296037\\\\\n",
       "\tVariant 2 & rs2 & 1 & 2620 & C & T & 0.4 & 5 & -0.02528609 & 0.2991890 & -0.08451543 & 0.9463234\\\\\n",
       "\tVariant 3 & rs3 & 2 & 6290 & T & A & 0.3 & 5 &  1.05424659 & 0.3198465 &  3.29610159 & 0.1875245\\\\\n",
       "\\end{tabular}\n"
      ],
      "text/markdown": [
       "\n",
       "A data.frame: 3 x 11\n",
       "\n",
       "| <!--/--> | SNP &lt;chr&gt; | CHR &lt;dbl&gt; | BP &lt;dbl&gt; | ALT &lt;chr&gt; | REF &lt;chr&gt; | EAF &lt;dbl&gt; | N &lt;dbl&gt; | BETA &lt;dbl&gt; | SE &lt;dbl&gt; | Z &lt;dbl&gt; | P &lt;dbl&gt; |\n",
       "|---|---|---|---|---|---|---|---|---|---|---|---|\n",
       "| Variant 1 | rs1 | 1 | 1315 | T | C | 0.3 | 5 |  0.08109589 | 0.1793098 |  0.45226702 | 0.7296037 |\n",
       "| Variant 2 | rs2 | 1 | 2620 | C | T | 0.4 | 5 | -0.02528609 | 0.2991890 | -0.08451543 | 0.9463234 |\n",
       "| Variant 3 | rs3 | 2 | 6290 | T | A | 0.3 | 5 |  1.05424659 | 0.3198465 |  3.29610159 | 0.1875245 |\n",
       "\n"
      ],
      "text/plain": [
       "          SNP CHR BP   ALT REF EAF N BETA        SE        Z          \n",
       "Variant 1 rs1 1   1315 T   C   0.3 5  0.08109589 0.1793098  0.45226702\n",
       "Variant 2 rs2 1   2620 C   T   0.4 5 -0.02528609 0.2991890 -0.08451543\n",
       "Variant 3 rs3 2   6290 T   A   0.3 5  1.05424659 0.3198465  3.29610159\n",
       "          P        \n",
       "Variant 1 0.7296037\n",
       "Variant 2 0.9463234\n",
       "Variant 3 0.1875245"
      ]
     },
     "metadata": {},
     "output_type": "display_data"
    }
   ],
   "source": [
    "sumstats_joint"
   ]
  },
  {
   "cell_type": "markdown",
   "id": "441678aa-90e7-414d-8bda-3dd2704ed7ef",
   "metadata": {},
   "source": [
    "# Supplementary\n",
    "\n",
    "## Graphical Summary"
   ]
  },
  {
   "cell_type": "code",
   "execution_count": 49,
   "id": "adce81ab",
   "metadata": {
    "vscode": {
     "languageId": "r"
    }
   },
   "outputs": [
    {
     "data": {
      "image/png": "[encoded data removed]",
      "text/plain": [
       "plot without title"
      ]
     },
     "metadata": {
      "image/png": {
       "height": 360,
       "width": 600
      }
     },
     "output_type": "display_data"
    }
   ],
   "source": [
    "library(ggplot2)\n",
    "suppressPackageStartupMessages(library(dplyr))\n",
    "\n",
    "# Set plot dimensions\n",
    "options(repr.plot.width = 10, repr.plot.height = 6)\n",
    "\n",
    "# Set seed for reproducibility\n",
    "set.seed(123)\n",
    "\n",
    "# Generate simulated GWAS data for ~30 SNPs\n",
    "n_snps <- 30\n",
    "gwas_data <- data.frame(\n",
    "  SNP = paste0(\"rs\", sample(1000000:9999999, n_snps)),\n",
    "  CHR = sample(1:22, n_snps, replace = TRUE),\n",
    "  BP = sample(1000000:250000000, n_snps),\n",
    "  P = c(\n",
    "    # Add some significant hits\n",
    "    runif(5, 1e-8, 1e-6),\n",
    "    # Add some suggestive hits  \n",
    "    runif(8, 1e-6, 1e-4),\n",
    "    # Add the rest as non-significant\n",
    "    runif(17, 1e-4, 0.05)\n",
    "  )\n",
    ")\n",
    "\n",
    "# Calculate -log10(P) values\n",
    "gwas_data$logP <- -log10(gwas_data$P)\n",
    "\n",
    "# Sort by chromosome and position\n",
    "gwas_data <- gwas_data %>% \n",
    "  arrange(CHR, BP)\n",
    "\n",
    "# Create cumulative position for x-axis\n",
    "gwas_data <- gwas_data %>%\n",
    "  group_by(CHR) %>%\n",
    "  summarise(chr_len = max(BP)) %>%\n",
    "  mutate(tot = cumsum(as.numeric(chr_len)) - chr_len) %>%\n",
    "  select(-chr_len) %>%\n",
    "  left_join(gwas_data, ., by = c(\"CHR\" = \"CHR\")) %>%\n",
    "  arrange(CHR, BP) %>%\n",
    "  mutate(BPcum = BP + tot)\n",
    "\n",
    "# Prepare x-axis labels\n",
    "axisdf <- gwas_data %>% \n",
    "  group_by(CHR) %>% \n",
    "  summarize(center = (max(BPcum) + min(BPcum)) / 2)\n",
    "\n",
    "# Create the Manhattan plot\n",
    "manhattan_plot <- ggplot(gwas_data, aes(x = BPcum, y = logP)) +\n",
    "  # Add points - salmon for points above the red line, dark blue for others\n",
    "  geom_point(aes(color = ifelse(logP > -log10(1e-5), \"significant\", \"non_significant\")), \n",
    "             alpha = 0.8, size = 6) +\n",
    "  \n",
    "  # Customize colors\n",
    "  scale_color_manual(values = c(\"significant\" = \"salmon\", \"non_significant\" = \"#183059\")) +\n",
    "  \n",
    "  # Add significance line (blue line position but red color)\n",
    "  geom_hline(yintercept = -log10(1e-5), color = \"red\", linetype = \"dashed\", linewidth = 1.2) +\n",
    "  \n",
    "  # Customize x-axis (remove axis text)\n",
    "  scale_x_continuous(labels = NULL) +\n",
    "  \n",
    "  # Customize y-axis (remove axis text)\n",
    "  scale_y_continuous(expand = c(0, 0), limits = c(0, max(gwas_data$logP) * 1.1), labels = NULL) +\n",
    "  \n",
    "  # Labels and theme\n",
    "  labs(\n",
    "    title = \"Manhattan Plot\",\n",
    "    subtitle = \"Genome-wide Association Study Results\",\n",
    "    x = \"Chromosome\", \n",
    "    y = expression(-log[10](italic(p)))\n",
    "  ) +\n",
    "  \n",
    "  # Clean theme with larger, bold fonts, thicker axes, and transparent background\n",
    "  theme_classic() +\n",
    "  theme(\n",
    "    legend.position = \"none\",\n",
    "    panel.border = element_blank(),\n",
    "    panel.grid.major = element_blank(),\n",
    "    panel.grid.minor = element_blank(),\n",
    "    axis.line = element_line(colour = \"black\", linewidth = 1.2),\n",
    "    axis.ticks = element_line(linewidth = 1.2),\n",
    "    axis.ticks.x = element_blank(),\n",
    "    axis.ticks.y = element_blank(),\n",
    "    plot.title = element_text(size = 18, hjust = 0.5, face = \"bold\"),\n",
    "    plot.subtitle = element_text(size = 14, hjust = 0.5, face = \"bold\"),\n",
    "    axis.title = element_text(size = 18, face = \"bold\"),\n",
    "    axis.text = element_text(size = 18, face = \"bold\"),\n",
    "    plot.background = element_rect(fill = \"transparent\", color = NA),\n",
    "    panel.background = element_rect(fill = \"transparent\", color = NA)\n",
    "  )\n",
    "\n",
    "# Display the plot\n",
    "print(manhattan_plot)\n",
    "\n",
    "# Save the figure\n",
    "ggsave(\"./cartoons/summary_statistics.png\", plot = manhattan_plot, \n",
    "       width = 10, height = 6, dpi = 300, bg = \"transparent\")"
   ]
  },
  {
   "cell_type": "code",
   "execution_count": null,
   "id": "9d4a43e4-413b-459c-9589-f1d2d16e25f4",
   "metadata": {
    "vscode": {
     "languageId": "r"
    }
   },
   "outputs": [],
   "source": []
  }
 ],
 "metadata": {
  "kernelspec": {
   "display_name": "R",
   "language": "R",
   "name": "ir"
  },
  "language_info": {
   "codemirror_mode": "r",
   "file_extension": ".r",
   "mimetype": "text/x-r-source",
   "name": "R",
   "pygments_lexer": "r",
   "version": "4.3.3"
  },
  "toc-autonumbering": true
 },
 "nbformat": 4,
 "nbformat_minor": 5
}
