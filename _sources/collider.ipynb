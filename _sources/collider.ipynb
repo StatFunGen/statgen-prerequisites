{
 "cells": [
  {
   "cell_type": "markdown",
   "id": "24772f72",
   "metadata": {},
   "source": [
    "# Collider\n",
    "\n",
    "A collider is a variable that is **influenced by two other variables of interest**, creating a **spurious** association between them when we condition on (select or control for) the collider in our analysis."
   ]
  },
  {
   "cell_type": "markdown",
   "id": "e2d5663c",
   "metadata": {},
   "source": [
    "# Graphical Summary"
   ]
  },
  {
   "cell_type": "markdown",
   "id": "0b902f67",
   "metadata": {},
   "source": [
    "![collider](./graphical_summary/Slide11.png)"
   ]
  },
  {
   "cell_type": "markdown",
   "id": "60c9a152",
   "metadata": {},
   "source": [
    "# Key Formula\n",
    "\n",
    "The key formula for the concept of a collider is represented in a causal diagram as:\n",
    "\n",
    "$$\n",
    "X \\rightarrow C \\leftarrow Y\n",
    "$$\n",
    "\n",
    "Where:\n",
    "- $C$ is the collider variable\n",
    "- $X$ is one cause of the collider\n",
    "- $Y$ is another cause of the collider\n",
    "- The arrows (→) indicate the direction of causal influence\n",
    "\n",
    "This diagram illustrates that a collider ($C$) is a variable that is *caused by* both the exposure ($X$) and the outcome ($Y$), creating a situation where $X$ and $Y$ both flow into $C$.\n",
    "\n",
    "A **collider** is a variable that is influenced by two other variables in a causal pathway. When we condition on (adjust for, stratify by, or select based on) a collider, we can induce a spurious association between its causes, even if they were originally independent.\n"
   ]
  },
  {
   "cell_type": "markdown",
   "id": "b5b09909",
   "metadata": {},
   "source": [
    "# Technical Details\n",
    "\n",
    "Conditioning on a collider can introduce bias in the estimation of the relationship between its causes. This is often called **collider bias** or **selection bias**.\n",
    "\n",
    "In formal causal inference terminology, conditioning on a collider creates a situation where:\n",
    "\n",
    "$$\n",
    "P(Y|X) \\neq P(Y|X, C)\n",
    "$$\n",
    "\n",
    "Where conditioning on $C$ creates a non-causal association between $X$ and $Y$. This inequality shows that the association between $X$ and $Y$ differs when we condition on the collider.\n",
    "\n",
    "Key characteristics of collider bias:\n",
    "1. **Induced Association**: Conditioning on a collider can create an association between variables that are causally independent\n",
    "2. **Berkson's Paradox**: A classic example of collider bias in epidemiology\n",
    "3. **Selection Bias**: Often occurs when study participants are selected based on criteria affected by both exposure and outcome\n",
    "4. **M-Bias**: A specific pattern in DAGs where conditioning on a collider creates a biased path\n",
    "\n",
    "\n",
    "Unlike confounders which **should be controlled** for in analyses, colliders **should not be controlled** for when estimating the causal effect of interest."
   ]
  },
  {
   "cell_type": "markdown",
   "id": "58d544ce-922b-4a03-b765-9a1972fd1859",
   "metadata": {},
   "source": [
    "# Example"
   ]
  },
  {
   "cell_type": "markdown",
   "id": "7ba165b6",
   "metadata": {},
   "source": [
    "This example demonstrates the concept of a collider in causal inference using genotype data from five individuals across three genetic variants. \n",
    "\n",
    "In this setup, we analyze how the correlation between two genetic variants (Variant 1 and Variant 2) changes when we condition on a third variable—disease status (Y)—that is influenced by both variants. The disease acts as a collider because it is a common effect of these two variants. Under normal circumstances, if two variables are independent (or weakly correlated), conditioning on their common effect can induce a spurious association between them. This phenomenon is known as collider bias or selection bias, and it's a critical concept in causal modeling that can lead to misleading conclusions if not properly accounted for."
   ]
  },
  {
   "cell_type": "code",
   "execution_count": 14,
   "id": "db354758",
   "metadata": {
    "vscode": {
     "languageId": "r"
    }
   },
   "outputs": [],
   "source": [
    "# Clear the environment\n",
    "rm(list = ls())\n",
    "\n",
    "# Define genotypes for 5 individuals at 3 variants\n",
    "# These represent actual alleles at each position\n",
    "# For example, Individual 1 has genotypes: CC, CT, AT\n",
    "genotypes <- c(\n",
    "  \"CC\", \"CT\", \"AT\", # Individual 1\n",
    "  \"TT\", \"TT\", \"AA\", # Individual 2\n",
    "  \"CT\", \"CT\", \"AA\", # Individual 3\n",
    "  \"CC\", \"TT\", \"AA\", # Individual 4\n",
    "  \"CC\", \"CC\", \"TT\" # Individual 5\n",
    ")\n",
    "# Reshape into a matrix\n",
    "N <- 5 # number of individuals\n",
    "M <- 3 # number of variants\n",
    "geno_matrix <- matrix(genotypes, nrow = N, ncol = M, byrow = TRUE)\n",
    "rownames(geno_matrix) <- paste(\"Individual\", 1:N)\n",
    "colnames(geno_matrix) <- paste(\"Variant\", 1:M)\n",
    "\n",
    "alt_alleles <- c(\"T\", \"C\", \"T\")\n",
    "ref_alleles <- c(\"C\", \"T\", \"A\")\n",
    "\n",
    "# Convert to raw genotype matrix using the additive / dominant / recessive model\n",
    "Xraw_additive <- matrix(0, nrow = N, ncol = M) # dount number of non-reference alleles\n",
    "\n",
    "rownames(Xraw_additive) <- rownames(geno_matrix)\n",
    "colnames(Xraw_additive) <- colnames(geno_matrix)\n",
    "\n",
    "for (i in 1:N) {\n",
    "  for (j in 1:M) {\n",
    "    alleles <- strsplit(geno_matrix[i, j], \"\")[[1]]\n",
    "    Xraw_additive[i, j] <- sum(alleles == alt_alleles[j])\n",
    "  }\n",
    "}\n",
    "X <- scale(Xraw_additive, center = TRUE, scale = TRUE)"
   ]
  },
  {
   "cell_type": "code",
   "execution_count": 21,
   "id": "43f3b497",
   "metadata": {
    "vscode": {
     "languageId": "r"
    }
   },
   "outputs": [],
   "source": [
    "# assign observed disease status for the 5 individuals\n",
    "Y <- c(0, 1, 1, 0, 0)"
   ]
  },
  {
   "cell_type": "code",
   "execution_count": 25,
   "id": "d8c922a7",
   "metadata": {
    "vscode": {
     "languageId": "r"
    }
   },
   "outputs": [
    {
     "name": "stdout",
     "output_type": "stream",
     "text": [
      "[1] \"=== ANALYSIS 1: FULL POPULATION ===\"\n",
      "[1] \"Correlation between Variant 1 and Variant 2 in full population:\"\n",
      "[1] \"Correlation = -0.468\"\n"
     ]
    }
   ],
   "source": [
    "# Analysis 1: Correlation in the FULL population (all individuals)\n",
    "print(\"=== ANALYSIS 1: FULL POPULATION ===\")\n",
    "print(\"Correlation between Variant 1 and Variant 2 in full population:\")\n",
    "cor_full <- cor(X[, 1], X[, 2])\n",
    "print(paste(\"Correlation =\", round(cor_full, 3)))"
   ]
  },
  {
   "cell_type": "code",
   "execution_count": 26,
   "id": "0f2c5a68-f2bb-4e02-86b9-1b7dc1d534fe",
   "metadata": {
    "tags": [],
    "vscode": {
     "languageId": "r"
    }
   },
   "outputs": [
    {
     "name": "stdout",
     "output_type": "stream",
     "text": [
      "[1] \"=== ANALYSIS 2: DISEASED INDIVIDUALS ONLY ===\"\n",
      "[1] \"Conditioning on Disease = 1 (the collider)\"\n",
      "[1] \"Diseased individuals: 2, 3\"\n",
      "[1] \"Variant 1 values in diseased: 1.565, 0.447\"\n",
      "[1] \"Variant 2 values in diseased: -0.956, 0.239\"\n",
      "[1] \"Correlation in diseased = -1\"\n"
     ]
    }
   ],
   "source": [
    "# Analysis 2: Correlation in DISEASED individuals only (conditioning on collider)\n",
    "print(\"=== ANALYSIS 2: DISEASED INDIVIDUALS ONLY ===\")\n",
    "print(\"Conditioning on Disease = 1 (the collider)\")\n",
    "\n",
    "diseased_indices <- which(Y == 1)\n",
    "if(length(diseased_indices) > 1) {\n",
    "  Variant_1_diseased <- X[diseased_indices, 1]\n",
    "  Variant_2_diseased <- X[diseased_indices, 2]\n",
    "  \n",
    "  print(paste(\"Diseased individuals:\", paste(diseased_indices, collapse = \", \")))\n",
    "  print(paste(\"Variant 1 values in diseased:\", paste(round(Variant_1_diseased, 3), collapse = \", \")))\n",
    "  print(paste(\"Variant 2 values in diseased:\", paste(round(Variant_2_diseased, 3), collapse = \", \")))\n",
    "  \n",
    "  cor_diseased <- cor(Variant_1_diseased, Variant_2_diseased)\n",
    "  print(paste(\"Correlation in diseased =\", round(cor_diseased, 3)))\n",
    "} else {\n",
    "  print(\"Not enough diseased individuals to calculate correlation\")\n",
    "}\n"
   ]
  },
  {
   "cell_type": "markdown",
   "id": "5f143783",
   "metadata": {},
   "source": [
    "In the full population of five individuals, the correlation between Variant 1 and Variant 2 is modestly negative (correlation = -0.468), suggesting only a weak linear relationship. However, after conditioning on individuals with disease (i.e., analyzing only those with disease status = 1), the correlation becomes perfectly negative (correlation = -1). This dramatic shift illustrates the collider effect: even if two variables are weakly or not associated in the general population, conditioning on a common outcome they influence can artificially induce strong correlation. This example highlights the importance of understanding the structure of causal relationships and avoiding inappropriate conditioning on colliders during statistical analyses.\n"
   ]
  },
  {
   "cell_type": "code",
   "execution_count": null,
   "id": "f4a195ee-5fc4-4391-8b36-53252a9ee95e",
   "metadata": {
    "vscode": {
     "languageId": "r"
    }
   },
   "outputs": [],
   "source": []
  }
 ],
 "metadata": {
  "kernelspec": {
   "display_name": "R",
   "language": "R",
   "name": "ir"
  },
  "language_info": {
   "codemirror_mode": "r",
   "file_extension": ".r",
   "mimetype": "text/x-r-source",
   "name": "R",
   "pygments_lexer": "r",
   "version": "4.3.3"
  },
  "toc-autonumbering": true
 },
 "nbformat": 4,
 "nbformat_minor": 5
}
