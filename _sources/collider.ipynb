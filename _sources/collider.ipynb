{
 "cells": [
  {
   "cell_type": "markdown",
   "id": "24772f72",
   "metadata": {},
   "source": [
    "# Collider\n",
    "\n",
    "A collider is a variable that is **influenced by two other variables of interest**, creating a **spurious** association between them when we condition on (select or control for) the collider in our analysis."
   ]
  },
  {
   "cell_type": "markdown",
   "id": "e2d5663c",
   "metadata": {},
   "source": [
    "# Graphical Summary"
   ]
  },
  {
   "cell_type": "markdown",
   "id": "0b902f67",
   "metadata": {},
   "source": [
    "![Fig](./graphical_summary/slides/Slide15.png)"
   ]
  },
  {
   "cell_type": "markdown",
   "id": "60c9a152",
   "metadata": {},
   "source": [
    "# Key Formula\n",
    "\n",
    "The key formula for the concept of a collider is represented in a causal diagram as:\n",
    "\n",
    "$$\n",
    "X \\rightarrow C \\leftarrow Y\n",
    "$$\n",
    "\n",
    "Where:\n",
    "- $C$ is the collider variable\n",
    "- $X$ is one cause of the collider\n",
    "- $Y$ is another cause of the collider\n",
    "- The arrows (→) indicate the direction of causal influence\n",
    "\n",
    "This diagram illustrates that a collider ($C$) is a variable that is *caused by* both the exposure ($X$) and the outcome ($Y$), creating a situation where $X$ and $Y$ both flow into $C$.\n",
    "\n",
    "A **collider** is a variable that is influenced by two other variables in a causal pathway. When we condition on (adjust for, stratify by, or select based on) a collider, we can induce a spurious association between its causes, even if they were originally independent.\n"
   ]
  },
  {
   "cell_type": "markdown",
   "id": "b5b09909",
   "metadata": {},
   "source": [
    "# Technical Details\n",
    "\n",
    "## What Happens When We Control for Colliders\n",
    "\n",
    "When a collider is present and incorrectly controlled for:\n",
    "\n",
    "$$\n",
    "\\text{Observed Association} = \\text{True Effect} + \\text{Collider Bias}\n",
    "$$\n",
    "\n",
    "- **True Effect**: The real biological relationship (may be zero)\n",
    "- **Collider Bias**: The false association created by conditioning on the collider\n",
    "- **Observed Association**: What we measure after incorrectly adjusting (often misleading!)\n",
    "\n",
    "## The Problem: Conditioning on Colliders Creates Bias\n",
    "\n",
    "Unlike confounders, colliders should **NOT** be included in regression models. Including a collider as a covariate can create spurious associations:\n",
    "\n",
    "$$\n",
    "Y = \\beta_0 + \\beta_1 X + \\beta_2 \\text{Collider} + \\epsilon \\quad \\text{(WRONG!)}\n",
    "$$\n",
    "\n",
    "This regression will give a **biased estimate** of $\\beta_1$ even when the true effect is zero.\n",
    "\n",
    "## Why This Happens: Selection Bias\n",
    "\n",
    "Controlling for a collider creates **selection bias** by conditioning on a variable that depends on both exposure and outcome:\n",
    "\n",
    "1. **Collider structure**: $X \\rightarrow \\text{Collider} \\leftarrow Y$\n",
    "2. **Conditioning effect**: When you control for the collider, you're selecting specific combinations of X and Y\n",
    "3. **Induced association**: This selection creates an artificial association between X and Y\n",
    "\n",
    "## Common Colliders in Genetic Studies\n",
    "\n",
    "- Study Participation/Selection: Genetic Risk → Study Participation ← Disease Status\n",
    "- Hospital Admission: Genetic Variant → Hospital Admission ← Disease Severity  \n",
    "- Survival to Study Age: Protective Alleles → Survival ← Disease Resistance. Studying only elderly survivors can bias estimates of genetic effects on longevity.\n",
    "\n",
    "\n",
    "## The Key Principle\n",
    "\n",
    "- **Confounders**: Control to remove bias\n",
    "- **Colliders**: Don't control to avoid creating bias"
   ]
  },
  {
   "cell_type": "markdown",
   "id": "58d544ce-922b-4a03-b765-9a1972fd1859",
   "metadata": {},
   "source": [
    "# Example"
   ]
  },
  {
   "cell_type": "markdown",
   "id": "7ba165b6",
   "metadata": {},
   "source": [
    "This example demonstrates collider bias, a common source of spurious associations in genetic studies. In our scenario, genetic variants affect BMI, and waist circumference also affects BMI, but there is no direct causal relationship between the genetic variants and waist circumference. BMI acts as a \"collider\" because it is influenced by both the genetic variants and waist circumference. When we incorrectly adjust for BMI in our analysis, we create a spurious association between genetic variants and waist circumference, even though no true direct relationship exists. This illustrates why careful consideration of causal relationships is essential before including variables as covariates in statistical models.\n",
    "\n",
    "We perform two analyses:\n",
    "\n",
    "- A correct analysis testing associations between genetic variants and waist circumference\n",
    "- An incorrect analysis controlling for BMI (which creates bias)\n",
    "\n",
    "The example shows how BMI is caused by both genetic factors AND waist circumference, making it a collider. When we incorrectly control for BMI, we create an artificial association between SNPs and waist circumference where none should exist biologically.\n"
   ]
  },
  {
   "cell_type": "markdown",
   "id": "d7ed658a",
   "metadata": {},
   "source": [
    "Related topics:\n",
    "- [OLS](https://gaow.github.io/statgen-prerequisites/ordinary_least_squares.html)\n",
    "- [confounder](https://gaow.github.io/statgen-prerequisites/confounder.html)"
   ]
  },
  {
   "cell_type": "markdown",
   "id": "0873b02d",
   "metadata": {},
   "source": [
    "Let's first generate the data for genotype variants, BMI and the waist circumference (independent of genetics)."
   ]
  },
  {
   "cell_type": "code",
   "execution_count": 59,
   "id": "db354758",
   "metadata": {
    "vscode": {
     "languageId": "r"
    }
   },
   "outputs": [],
   "source": [
    "# Clear the environment\n",
    "rm(list = ls())\n",
    "set.seed(15)  # For reproducibility\n",
    "\n",
    "N = 30  # Sample size\n",
    "M = 3   # Number of variants\n",
    "\n",
    "# Generate genetic variants that affect BMI\n",
    "Xraw_additive <- matrix(sample(0:2, N*M, replace = TRUE, prob = c(0.3, 0.4, 0.3)), \n",
    "                        nrow = N, ncol = M)\n",
    "rownames(Xraw_additive) <- paste(\"Individual\", 1:N)\n",
    "colnames(Xraw_additive) <- paste(\"Variant\", 1:M)\n",
    "\n",
    "X <- scale(Xraw_additive, center = TRUE, scale = TRUE)\n",
    "\n",
    "# Generate waist circumference (independent of genetics)\n",
    "waist_circumference <- rnorm(N, mean = 85, sd = 10)\n",
    "waist_scaled <- scale(waist_circumference)\n",
    "\n",
    "# Generate BMI as COLLIDER: caused by BOTH genetics AND waist circumference\n",
    "genetic_effect_on_bmi <- 2 * Xraw_additive[, 3]        # Only Variant 3 affects BMI\n",
    "waist_effect_on_bmi <- 0.15 * waist_circumference      # Waist circumference affects BMI\n",
    "\n",
    "# BMI is the sum of genetic and waist effects plus noise\n",
    "bmi_raw <- 25 + genetic_effect_on_bmi + waist_effect_on_bmi + rnorm(N, 0, 1)\n",
    "bmi_scaled <- scale(bmi_raw)"
   ]
  },
  {
   "cell_type": "markdown",
   "id": "b3f5a1bd",
   "metadata": {},
   "source": [
    "Based on how the waist circumference is generated, it is independent from the genetic effect. Thus we should expect no signals when we test for the associations between waist circumference and SNPs. So we perform two analysis here:\n",
    "- ignore the collider (BMI), regress waist circumference on SNPs\n",
    "- consider the collider (BMI), regress waist circumference on SNPs and BMI"
   ]
  },
  {
   "cell_type": "code",
   "execution_count": 60,
   "id": "b79acfd6",
   "metadata": {
    "vscode": {
     "languageId": "r"
    }
   },
   "outputs": [],
   "source": [
    "p_values_correct <- numeric(M)  # Store p-values for correct analysis\n",
    "betas_correct <- numeric(M)     # Store estimated effect sizes for correct analysis\n",
    "p_values_biased <- numeric(M)   # Store p-values for biased analysis (controlling for collider)\n",
    "betas_biased <- numeric(M)      # Store estimated effect sizes for biased analysis\n",
    "\n",
    "# Perform OLS regression for each SNP\n",
    "for (j in 1:M) {\n",
    "  SNP <- X[, j]  # Extract genotype for SNP j\n",
    "  \n",
    "  # CORRECT analysis: SNP vs waist circumference (no BMI control)\n",
    "  correct_model <- lm(waist_scaled ~ SNP)  \n",
    "  \n",
    "  # INCORRECT analysis: Control for BMI (the collider)\n",
    "  biased_model <- lm(waist_scaled ~ SNP + bmi_scaled)  \n",
    "  \n",
    "  summary_correct <- summary(correct_model)\n",
    "  summary_biased <- summary(biased_model)\n",
    "  \n",
    "  # Store p-values and effect sizes\n",
    "  p_values_correct[j] <- summary_correct$coefficients[2, 4]  # p-value for SNP effect (correct)\n",
    "  betas_correct[j] <- summary_correct$coefficients[2, 1]     # Estimated beta coefficient (correct)\n",
    "  p_values_biased[j] <- summary_biased$coefficients[2, 4]    # p-value for SNP effect (biased)\n",
    "  betas_biased[j] <- summary_biased$coefficients[2, 1]       # Estimated beta coefficient (biased)\n",
    "}"
   ]
  },
  {
   "cell_type": "markdown",
   "id": "19ecc3ca",
   "metadata": {},
   "source": [
    "The results are:"
   ]
  },
  {
   "cell_type": "code",
   "execution_count": 61,
   "id": "382b8e04",
   "metadata": {
    "vscode": {
     "languageId": "r"
    }
   },
   "outputs": [
    {
     "data": {
      "text/html": [
       "<table class=\"dataframe\">\n",
       "<caption>A data.frame: 3 x 7</caption>\n",
       "<thead>\n",
       "\t<tr><th scope=col>Variant</th><th scope=col>Beta_Correct</th><th scope=col>P_Value_Correct</th><th scope=col>Significant_Correct</th><th scope=col>Beta_Biased</th><th scope=col>P_Value_Biased</th><th scope=col>Significant_Biased</th></tr>\n",
       "\t<tr><th scope=col>&lt;chr&gt;</th><th scope=col>&lt;dbl&gt;</th><th scope=col>&lt;dbl&gt;</th><th scope=col>&lt;chr&gt;</th><th scope=col>&lt;dbl&gt;</th><th scope=col>&lt;dbl&gt;</th><th scope=col>&lt;chr&gt;</th></tr>\n",
       "</thead>\n",
       "<tbody>\n",
       "\t<tr><td>Variant 1</td><td> 0.0645</td><td>0.7347</td><td>No</td><td> 0.1841</td><td>0.2437</td><td>No </td></tr>\n",
       "\t<tr><td>Variant 2</td><td> 0.2585</td><td>0.1677</td><td>No</td><td> 0.0667</td><td>0.6890</td><td>No </td></tr>\n",
       "\t<tr><td>Variant 3</td><td>-0.0203</td><td>0.9154</td><td>No</td><td>-0.7733</td><td>0.0000</td><td>Yes</td></tr>\n",
       "</tbody>\n",
       "</table>\n"
      ],
      "text/latex": [
       "A data.frame: 3 x 7\n",
       "\\begin{tabular}{lllllll}\n",
       " Variant & Beta\\_Correct & P\\_Value\\_Correct & Significant\\_Correct & Beta\\_Biased & P\\_Value\\_Biased & Significant\\_Biased\\\\\n",
       " <chr> & <dbl> & <dbl> & <chr> & <dbl> & <dbl> & <chr>\\\\\n",
       "\\hline\n",
       "\t Variant 1 &  0.0645 & 0.7347 & No &  0.1841 & 0.2437 & No \\\\\n",
       "\t Variant 2 &  0.2585 & 0.1677 & No &  0.0667 & 0.6890 & No \\\\\n",
       "\t Variant 3 & -0.0203 & 0.9154 & No & -0.7733 & 0.0000 & Yes\\\\\n",
       "\\end{tabular}\n"
      ],
      "text/markdown": [
       "\n",
       "A data.frame: 3 x 7\n",
       "\n",
       "| Variant &lt;chr&gt; | Beta_Correct &lt;dbl&gt; | P_Value_Correct &lt;dbl&gt; | Significant_Correct &lt;chr&gt; | Beta_Biased &lt;dbl&gt; | P_Value_Biased &lt;dbl&gt; | Significant_Biased &lt;chr&gt; |\n",
       "|---|---|---|---|---|---|---|\n",
       "| Variant 1 |  0.0645 | 0.7347 | No |  0.1841 | 0.2437 | No  |\n",
       "| Variant 2 |  0.2585 | 0.1677 | No |  0.0667 | 0.6890 | No  |\n",
       "| Variant 3 | -0.0203 | 0.9154 | No | -0.7733 | 0.0000 | Yes |\n",
       "\n"
      ],
      "text/plain": [
       "  Variant   Beta_Correct P_Value_Correct Significant_Correct Beta_Biased\n",
       "1 Variant 1  0.0645      0.7347          No                   0.1841    \n",
       "2 Variant 2  0.2585      0.1677          No                   0.0667    \n",
       "3 Variant 3 -0.0203      0.9154          No                  -0.7733    \n",
       "  P_Value_Biased Significant_Biased\n",
       "1 0.2437         No                \n",
       "2 0.6890         No                \n",
       "3 0.0000         Yes               "
      ]
     },
     "metadata": {},
     "output_type": "display_data"
    }
   ],
   "source": [
    "# Create results table\n",
    "results <- data.frame(\n",
    "  Variant = paste(\"Variant\", 1:M),\n",
    "  Beta_Correct = round(betas_correct, 4),\n",
    "  P_Value_Correct = round(p_values_correct, 4),\n",
    "  Significant_Correct = ifelse(p_values_correct < 0.05, \"Yes\", \"No\"),\n",
    "  Beta_Biased = round(betas_biased, 4),\n",
    "  P_Value_Biased = round(p_values_biased, 4),\n",
    "  Significant_Biased = ifelse(p_values_biased < 0.05, \"Yes\", \"No\")\n",
    ")\n",
    "results"
   ]
  },
  {
   "cell_type": "markdown",
   "id": "7d80a6a7",
   "metadata": {},
   "source": [
    "This example illustrates the dangers of collider bias in genetic association studies. The correct analysis shows no significant associations between genetic variants and waist circumference, which reflects the true underlying biology since we generated the data with no direct causal pathway between them. However, when we incorrectly adjust for BMI (the collider), we observe spurious significant associations. This occurs because BMI is causally influenced by both the genetic variants and waist circumference, so conditioning on BMI creates an artificial correlation between the variants and waist circumference. In real-world studies, researchers must carefully consider the causal structure of their variables to avoid such biased conclusions that could mislead scientific understanding and clinical decision-making."
   ]
  },
  {
   "cell_type": "code",
   "execution_count": null,
   "id": "f4a195ee-5fc4-4391-8b36-53252a9ee95e",
   "metadata": {
    "vscode": {
     "languageId": "r"
    }
   },
   "outputs": [],
   "source": []
  }
 ],
 "metadata": {
  "kernelspec": {
   "display_name": "R",
   "language": "R",
   "name": "ir"
  },
  "language_info": {
   "codemirror_mode": "r",
   "file_extension": ".r",
   "mimetype": "text/x-r-source",
   "name": "R",
   "pygments_lexer": "r",
   "version": "4.3.3"
  },
  "toc-autonumbering": true
 },
 "nbformat": 4,
 "nbformat_minor": 5
}
