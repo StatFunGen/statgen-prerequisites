{
 "cells": [
  {
   "cell_type": "markdown",
   "id": "24772f72",
   "metadata": {},
   "source": [
    "# Intuitional Description\n",
    "\n",
    "A collider is a variable that is **influenced by two other variables of interest**, creating a **spurious** association between them when we condition on (select or control for) the collider in our analysis."
   ]
  },
  {
   "cell_type": "markdown",
   "id": "e2d5663c",
   "metadata": {},
   "source": [
    "# Graphical Summary"
   ]
  },
  {
   "cell_type": "markdown",
   "id": "0b902f67",
   "metadata": {},
   "source": [
    "![collider](./cartoons/collider.svg)"
   ]
  },
  {
   "cell_type": "markdown",
   "id": "60c9a152",
   "metadata": {},
   "source": [
    "# Key Formula\n",
    "\n",
    "The key formula for the concept of a collider is represented in a causal diagram as:\n",
    "$$\n",
    "X \\rightarrow C \\leftarrow Y\n",
    "$$\n",
    "Where:\n",
    "- $C$ is the collider variable\n",
    "- $X$ is one cause of the collider\n",
    "- $Y$ is another cause of the collider\n",
    "- The arrows (→) indicate the direction of causal influence\n",
    "\n",
    "This diagram illustrates that a collider ($C$) is a variable that is *caused by* both the exposure ($X$) and the outcome ($Y$), creating a situation where $X$ and $Y$ both flow into $C$.\n",
    "\n",
    "A **collider** is a variable that is influenced by two other variables in a causal pathway. When we condition on (adjust for, stratify by, or select based on) a collider, we can induce a spurious association between its causes, even if they were originally independent.\n"
   ]
  },
  {
   "cell_type": "markdown",
   "id": "b5b09909",
   "metadata": {},
   "source": [
    "# Technical Details\n",
    "\n",
    "Conditioning on a collider can introduce bias in the estimation of the relationship between its causes. This is often called **collider bias** or **selection bias**.\n",
    "\n",
    "In formal causal inference terminology, conditioning on a collider creates a situation where:\n",
    "$$\n",
    "P(Y|X) \\neq P(Y|X, C)\n",
    "$$\n",
    "Where conditioning on $C$ creates a non-causal association between $X$ and $Y$. This inequality shows that the association between $X$ and $Y$ differs when we condition on the collider.\n",
    "\n",
    "Key characteristics of collider bias:\n",
    "1. **Induced Association**: Conditioning on a collider can create an association between variables that are causally independent\n",
    "2. **Berkson's Paradox**: A classic example of collider bias in epidemiology\n",
    "3. **Selection Bias**: Often occurs when study participants are selected based on criteria affected by both exposure and outcome\n",
    "4. **M-Bias**: A specific pattern in DAGs where conditioning on a collider creates a biased path\n",
    "\n",
    "\n",
    "Unlike confounders which **should be controlled** for in analyses, colliders **should not be controlled** for when estimating the causal effect of interest."
   ]
  },
  {
   "cell_type": "markdown",
   "id": "58d544ce-922b-4a03-b765-9a1972fd1859",
   "metadata": {},
   "source": [
    "# Example"
   ]
  },
  {
   "cell_type": "markdown",
   "id": "7ba165b6",
   "metadata": {},
   "source": [
    "This example demonstrates how conditioning on a collider can create spurious associations in genetic studies. We create a simple dataset with:\n",
    "\n",
    "- Genetic variants for 5 individuals\n",
    "- Height measurements\n",
    "- Basketball recruitment status (the collider)\n",
    "\n",
    "We perform two analyses:\n",
    "\n",
    "- A standard analysis examining associations between genetic variants and height in the full population\n",
    "- A biased analysis examining these same associations only among recruited basketball players\n",
    "\n",
    "The example shows how basketball recruitment, which is influenced by both genetic variants and height, can create misleading associations when we restrict our analysis to only recruited players. This illustrates why we should avoid conditioning on colliders when estimating causal effects in genetic studies."
   ]
  },
  {
   "cell_type": "code",
   "execution_count": 1,
   "id": "db354758",
   "metadata": {
    "vscode": {
     "languageId": "r"
    }
   },
   "outputs": [],
   "source": [
    "# Clear the environment\n",
    "rm(list = ls())\n",
    "\n",
    "# Define genotypes for 5 individuals at 3 variants\n",
    "# These represent actual alleles at each position\n",
    "# For example, Individual 1 has genotypes: CC, CT, AT\n",
    "genotypes <- c(\n",
    "  \"CC\", \"CT\", \"AT\", # Individual 1\n",
    "  \"TT\", \"TT\", \"AA\", # Individual 2\n",
    "  \"CT\", \"CT\", \"AA\", # Individual 3\n",
    "  \"CC\", \"TT\", \"AA\", # Individual 4\n",
    "  \"CC\", \"CC\", \"TT\" # Individual 5\n",
    ")\n",
    "# Reshape into a matrix\n",
    "N <- 5 # number of individuals\n",
    "M <- 3 # number of variants\n",
    "geno_matrix <- matrix(genotypes, nrow = N, ncol = M, byrow = TRUE)\n",
    "rownames(geno_matrix) <- paste(\"Individual\", 1:N)\n",
    "colnames(geno_matrix) <- paste(\"Variant\", 1:M)\n",
    "\n",
    "alt_alleles <- c(\"T\", \"C\", \"T\")\n",
    "ref_alleles <- c(\"C\", \"T\", \"A\")\n",
    "\n",
    "# Convert to raw genotype matrix using the additive / dominant / recessive model\n",
    "Xraw_additive <- matrix(0, nrow = N, ncol = M) # dount number of non-reference alleles\n",
    "\n",
    "rownames(Xraw_additive) <- rownames(geno_matrix)\n",
    "colnames(Xraw_additive) <- colnames(geno_matrix)\n",
    "\n",
    "for (i in 1:N) {\n",
    "  for (j in 1:M) {\n",
    "    alleles <- strsplit(geno_matrix[i, j], \"\")[[1]]\n",
    "    Xraw_additive[i, j] <- sum(alleles == alt_alleles[j])\n",
    "  }\n",
    "}\n",
    "X <- scale(Xraw_additive, center = TRUE, scale = TRUE)"
   ]
  },
  {
   "cell_type": "code",
   "execution_count": 2,
   "id": "43f3b497",
   "metadata": {
    "vscode": {
     "languageId": "r"
    }
   },
   "outputs": [],
   "source": [
    "# assign observed height for the 5 individuals\n",
    "Y_raw <- c(180, 160, 158, 155, 193)\n",
    "Y <- scale(Y_raw)"
   ]
  },
  {
   "cell_type": "code",
   "execution_count": 4,
   "id": "7faa98ef",
   "metadata": {
    "vscode": {
     "languageId": "r"
    }
   },
   "outputs": [],
   "source": [
    "# assign the recruitment status (to a basketball team) for the 5 individuals\n",
    "recruited <- c(1, 0, 0, 0, 1)"
   ]
  },
  {
   "cell_type": "code",
   "execution_count": 5,
   "id": "77db5047-6e43-4b9c-8afc-30b087c66a62",
   "metadata": {
    "tags": [],
    "vscode": {
     "languageId": "r"
    }
   },
   "outputs": [],
   "source": [
    "# first we conduct the OLS like we did in the previous section of summary statistics \n",
    "\n",
    "# Perform GWAS-style analysis: Test each SNP independently using OLS\n",
    "sumstats <- data.frame(\n",
    "    SNP = paste0(\"rs\", 1:M),\n",
    "    CHR = c(1, 1, 2), # Example chromosome assignments\n",
    "    BP = c(1000, 2000, 5000), # Example base pair positions\n",
    "    ALT = alt_alleles, # Effect allele\n",
    "    REF = ref_alleles, # Reference allele\n",
    "    N = rep(N, M), # Sample size\n",
    "    BETA = numeric(M), # Effect size\n",
    "    SE = numeric(M), # Standard error\n",
    "    Z = numeric(M), # Z-score\n",
    "    P = numeric(M) # P-value\n",
    ")\n",
    "\n",
    "for (j in 1:M) {\n",
    "    SNP <- X[, j] # Extract genotype for SNP j\n",
    "    model <- lm(Y ~ SNP) # OLS regression: Trait ~ SNP\n",
    "    summary_model <- summary(model)\n",
    "\n",
    "    # Store results in standard format\n",
    "    sumstats$BETA[j] <- summary_model$coefficients[2, 1] # Effect size\n",
    "    sumstats$SE[j] <- summary_model$coefficients[2, 2] # Standard error\n",
    "    sumstats$Z[j] <- summary_model$coefficients[2, 3] # t-statistic (equivalent to Z-score)\n",
    "    sumstats$P[j] <- summary_model$coefficients[2, 4] # P-value\n",
    "}\n"
   ]
  },
  {
   "cell_type": "code",
   "execution_count": null,
   "id": "0f2c5a68-f2bb-4e02-86b9-1b7dc1d534fe",
   "metadata": {
    "tags": [],
    "vscode": {
     "languageId": "r"
    }
   },
   "outputs": [],
   "source": [
    "# Now perform the analysis adjusting for the collider (team recuirtment status)\n",
    "\n",
    "# Perform GWAS-style analysis: Test each SNP independently using OLS\n",
    "sumstats_adjusted <- data.frame(\n",
    "  SNP = paste0(\"rs\", 1:M),\n",
    "  CHR = c(1, 1, 2),  # Example chromosome assignments\n",
    "  BP = c(1000, 2000, 5000),  # Example base pair positions\n",
    "  ALT = alt_alleles,  # Effect allele\n",
    "  REF = ref_alleles,  # Reference allele\n",
    "  N = rep(N, M),  # Sample size\n",
    "  BETA = numeric(M),  # Effect size\n",
    "  SE = numeric(M),  # Standard error\n",
    "  Z = numeric(M),  # Z-score\n",
    "  P = numeric(M)  # P-value\n",
    ")\n",
    "\n",
    "for (j in 1:M) {\n",
    "  SNP <- X[, j]  # Extract genotype for SNP j\n",
    "  model_adjusted <- lm(Y ~ SNP + recruited)  # OLS regression: Trait ~ SNP + collider\n",
    "  summary_model_adjusted <- summary(model_adjusted)\n",
    "  \n",
    "  # Store results in standard format\n",
    "  sumstats_adjusted$BETA[j] <- summary_model_adjusted$coefficients[2, 1] # Effect size\n",
    "  sumstats_adjusted$SE[j] <- summary_model_adjusted$coefficients[2, 2] # Standard error\n",
    "  sumstats_adjusted$Z[j] <- summary_model_adjusted$coefficients[2, 3] # t-statistic (equivalent to Z-score)\n",
    "  sumstats_adjusted$P[j] <- summary_model_adjusted$coefficients[2, 4] # P-value\n",
    "}\n"
   ]
  },
  {
   "cell_type": "code",
   "execution_count": 7,
   "id": "fdbbbdda-764a-4471-8502-5a4a663e3b4d",
   "metadata": {
    "tags": [],
    "vscode": {
     "languageId": "r"
    }
   },
   "outputs": [
    {
     "name": "stdout",
     "output_type": "stream",
     "text": [
      "[1] \"GWAS Summary Statistics:\"\n"
     ]
    },
    {
     "data": {
      "text/html": [
       "<table class=\"dataframe\">\n",
       "<caption>A data.frame: 3 x 10</caption>\n",
       "<thead>\n",
       "\t<tr><th scope=col>SNP</th><th scope=col>CHR</th><th scope=col>BP</th><th scope=col>ALT</th><th scope=col>REF</th><th scope=col>N</th><th scope=col>BETA</th><th scope=col>SE</th><th scope=col>Z</th><th scope=col>P</th></tr>\n",
       "\t<tr><th scope=col>&lt;chr&gt;</th><th scope=col>&lt;dbl&gt;</th><th scope=col>&lt;dbl&gt;</th><th scope=col>&lt;chr&gt;</th><th scope=col>&lt;chr&gt;</th><th scope=col>&lt;dbl&gt;</th><th scope=col>&lt;dbl&gt;</th><th scope=col>&lt;dbl&gt;</th><th scope=col>&lt;dbl&gt;</th><th scope=col>&lt;dbl&gt;</th></tr>\n",
       "</thead>\n",
       "<tbody>\n",
       "\t<tr><td>rs1</td><td>1</td><td>1000</td><td>T</td><td>C</td><td>5</td><td>-0.5000913</td><td>0.49996955</td><td>-1.000244</td><td>0.390901513</td></tr>\n",
       "\t<tr><td>rs2</td><td>1</td><td>2000</td><td>C</td><td>T</td><td>5</td><td> 0.8525024</td><td>0.30179448</td><td> 2.824778</td><td>0.066475513</td></tr>\n",
       "\t<tr><td>rs3</td><td>2</td><td>5000</td><td>T</td><td>A</td><td>5</td><td> 0.9866667</td><td>0.09396605</td><td>10.500246</td><td>0.001844466</td></tr>\n",
       "</tbody>\n",
       "</table>\n"
      ],
      "text/latex": [
       "A data.frame: 3 x 10\n",
       "\\begin{tabular}{llllllllll}\n",
       " SNP & CHR & BP & ALT & REF & N & BETA & SE & Z & P\\\\\n",
       " <chr> & <dbl> & <dbl> & <chr> & <chr> & <dbl> & <dbl> & <dbl> & <dbl> & <dbl>\\\\\n",
       "\\hline\n",
       "\t rs1 & 1 & 1000 & T & C & 5 & -0.5000913 & 0.49996955 & -1.000244 & 0.390901513\\\\\n",
       "\t rs2 & 1 & 2000 & C & T & 5 &  0.8525024 & 0.30179448 &  2.824778 & 0.066475513\\\\\n",
       "\t rs3 & 2 & 5000 & T & A & 5 &  0.9866667 & 0.09396605 & 10.500246 & 0.001844466\\\\\n",
       "\\end{tabular}\n"
      ],
      "text/markdown": [
       "\n",
       "A data.frame: 3 x 10\n",
       "\n",
       "| SNP &lt;chr&gt; | CHR &lt;dbl&gt; | BP &lt;dbl&gt; | ALT &lt;chr&gt; | REF &lt;chr&gt; | N &lt;dbl&gt; | BETA &lt;dbl&gt; | SE &lt;dbl&gt; | Z &lt;dbl&gt; | P &lt;dbl&gt; |\n",
       "|---|---|---|---|---|---|---|---|---|---|\n",
       "| rs1 | 1 | 1000 | T | C | 5 | -0.5000913 | 0.49996955 | -1.000244 | 0.390901513 |\n",
       "| rs2 | 1 | 2000 | C | T | 5 |  0.8525024 | 0.30179448 |  2.824778 | 0.066475513 |\n",
       "| rs3 | 2 | 5000 | T | A | 5 |  0.9866667 | 0.09396605 | 10.500246 | 0.001844466 |\n",
       "\n"
      ],
      "text/plain": [
       "  SNP CHR BP   ALT REF N BETA       SE         Z         P          \n",
       "1 rs1 1   1000 T   C   5 -0.5000913 0.49996955 -1.000244 0.390901513\n",
       "2 rs2 1   2000 C   T   5  0.8525024 0.30179448  2.824778 0.066475513\n",
       "3 rs3 2   5000 T   A   5  0.9866667 0.09396605 10.500246 0.001844466"
      ]
     },
     "metadata": {},
     "output_type": "display_data"
    },
    {
     "name": "stdout",
     "output_type": "stream",
     "text": [
      "[1] \"GWAS Summary Statistics after considering collider:\"\n"
     ]
    },
    {
     "data": {
      "text/html": [
       "<table class=\"dataframe\">\n",
       "<caption>A data.frame: 3 x 10</caption>\n",
       "<thead>\n",
       "\t<tr><th scope=col>SNP</th><th scope=col>CHR</th><th scope=col>BP</th><th scope=col>ALT</th><th scope=col>REF</th><th scope=col>N</th><th scope=col>BETA</th><th scope=col>SE</th><th scope=col>Z</th><th scope=col>P</th></tr>\n",
       "\t<tr><th scope=col>&lt;chr&gt;</th><th scope=col>&lt;dbl&gt;</th><th scope=col>&lt;dbl&gt;</th><th scope=col>&lt;chr&gt;</th><th scope=col>&lt;chr&gt;</th><th scope=col>&lt;dbl&gt;</th><th scope=col>&lt;dbl&gt;</th><th scope=col>&lt;dbl&gt;</th><th scope=col>&lt;dbl&gt;</th><th scope=col>&lt;dbl&gt;</th></tr>\n",
       "</thead>\n",
       "<tbody>\n",
       "\t<tr><td>rs1</td><td>1</td><td>1000</td><td>T</td><td>C</td><td>5</td><td>0.1351598</td><td>0.2487332</td><td>0.5433927</td><td>0.64132893</td></tr>\n",
       "\t<tr><td>rs2</td><td>1</td><td>2000</td><td>C</td><td>T</td><td>5</td><td>0.2962084</td><td>0.2502674</td><td>1.1835681</td><td>0.35819875</td></tr>\n",
       "\t<tr><td>rs3</td><td>2</td><td>5000</td><td>T</td><td>A</td><td>5</td><td>0.7028311</td><td>0.1924149</td><td>3.6526847</td><td>0.06745521</td></tr>\n",
       "</tbody>\n",
       "</table>\n"
      ],
      "text/latex": [
       "A data.frame: 3 x 10\n",
       "\\begin{tabular}{llllllllll}\n",
       " SNP & CHR & BP & ALT & REF & N & BETA & SE & Z & P\\\\\n",
       " <chr> & <dbl> & <dbl> & <chr> & <chr> & <dbl> & <dbl> & <dbl> & <dbl> & <dbl>\\\\\n",
       "\\hline\n",
       "\t rs1 & 1 & 1000 & T & C & 5 & 0.1351598 & 0.2487332 & 0.5433927 & 0.64132893\\\\\n",
       "\t rs2 & 1 & 2000 & C & T & 5 & 0.2962084 & 0.2502674 & 1.1835681 & 0.35819875\\\\\n",
       "\t rs3 & 2 & 5000 & T & A & 5 & 0.7028311 & 0.1924149 & 3.6526847 & 0.06745521\\\\\n",
       "\\end{tabular}\n"
      ],
      "text/markdown": [
       "\n",
       "A data.frame: 3 x 10\n",
       "\n",
       "| SNP &lt;chr&gt; | CHR &lt;dbl&gt; | BP &lt;dbl&gt; | ALT &lt;chr&gt; | REF &lt;chr&gt; | N &lt;dbl&gt; | BETA &lt;dbl&gt; | SE &lt;dbl&gt; | Z &lt;dbl&gt; | P &lt;dbl&gt; |\n",
       "|---|---|---|---|---|---|---|---|---|---|\n",
       "| rs1 | 1 | 1000 | T | C | 5 | 0.1351598 | 0.2487332 | 0.5433927 | 0.64132893 |\n",
       "| rs2 | 1 | 2000 | C | T | 5 | 0.2962084 | 0.2502674 | 1.1835681 | 0.35819875 |\n",
       "| rs3 | 2 | 5000 | T | A | 5 | 0.7028311 | 0.1924149 | 3.6526847 | 0.06745521 |\n",
       "\n"
      ],
      "text/plain": [
       "  SNP CHR BP   ALT REF N BETA      SE        Z         P         \n",
       "1 rs1 1   1000 T   C   5 0.1351598 0.2487332 0.5433927 0.64132893\n",
       "2 rs2 1   2000 C   T   5 0.2962084 0.2502674 1.1835681 0.35819875\n",
       "3 rs3 2   5000 T   A   5 0.7028311 0.1924149 3.6526847 0.06745521"
      ]
     },
     "metadata": {},
     "output_type": "display_data"
    }
   ],
   "source": [
    "# Print summary statistics in standard format (before adjusting for collider)\n",
    "print(\"GWAS Summary Statistics:\")\n",
    "sumstats\n",
    "# Print summary statistics in standard format (after adjusting for collider)\n",
    "print(\"GWAS Summary Statistics after considering collider:\")\n",
    "sumstats_adjusted"
   ]
  },
  {
   "cell_type": "code",
   "execution_count": null,
   "id": "f4a195ee-5fc4-4391-8b36-53252a9ee95e",
   "metadata": {
    "vscode": {
     "languageId": "r"
    }
   },
   "outputs": [],
   "source": []
  }
 ],
 "metadata": {
  "kernelspec": {
   "display_name": "R",
   "language": "R",
   "name": "ir"
  },
  "language_info": {
   "codemirror_mode": "r",
   "file_extension": ".r",
   "mimetype": "text/x-r-source",
   "name": "R",
   "pygments_lexer": "r",
   "version": "4.3.3"
  },
  "toc-autonumbering": true
 },
 "nbformat": 4,
 "nbformat_minor": 5
}
