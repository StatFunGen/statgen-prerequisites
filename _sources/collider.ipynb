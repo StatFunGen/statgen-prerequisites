{
 "cells": [
  {
   "cell_type": "markdown",
   "id": "24772f72",
   "metadata": {},
   "source": [
    "# Collider\n",
    "\n",
    "A collider is a variable that is **influenced by two other variables of interest**, creating a **spurious** association between them when we condition on (select or control for) the collider in our analysis."
   ]
  },
  {
   "cell_type": "markdown",
   "id": "e2d5663c",
   "metadata": {},
   "source": [
    "# Graphical Summary"
   ]
  },
  {
   "cell_type": "markdown",
   "id": "0b902f67",
   "metadata": {},
   "source": [
    "![Fig](./graphical_summary/slides/Slide15.png)"
   ]
  },
  {
   "cell_type": "markdown",
   "id": "60c9a152",
   "metadata": {},
   "source": [
    "# Key Formula\n",
    "\n",
    "The key formula for the concept of a collider is represented in a causal diagram as:\n",
    "\n",
    "$$\n",
    "X \\rightarrow W \\leftarrow Y\n",
    "$$\n",
    "\n",
    "Where:\n",
    "- $W$ is the collider variable\n",
    "- $X$ is one cause of the collider\n",
    "- $Y$ is another cause of the collider\n",
    "- The arrows ($\\rightarrow$) indicate the direction of causal influence\n",
    "\n",
    "This diagram illustrates that a collider ($W$) is a variable that is *caused by* both the exposure ($X$) and the outcome ($Y$), creating a situation where $X$ and $Y$ both flow into $W$.\n",
    "\n",
    "When we condition on (adjust for, stratify by, or select based on) a collider, we can induce a spurious association between its causes, even if they were originally independent."
   ]
  },
  {
   "cell_type": "markdown",
   "id": "b5b09909",
   "metadata": {},
   "source": [
    "# Technical Details\n",
    "\n",
    "## What Happens When We Control for Colliders\n",
    "\n",
    "When a collider is present and incorrectly controlled for:\n",
    "\n",
    "$$\n",
    "\\text{Observed Association} = \\text{True Effect} + \\text{Collider Bias}\n",
    "$$\n",
    "\n",
    "- **True Effect**: The real biological relationship (may be zero)\n",
    "- **Collider Bias**: The false association created by conditioning on the collider\n",
    "- **Observed Association**: What we measure after incorrectly adjusting (often misleading!)\n",
    "\n",
    "## The Problem: Conditioning on Colliders Creates Bias\n",
    "\n",
    "Unlike confounders, colliders should **NOT** be included in regression models. Including a collider as a covariate can create spurious associations:\n",
    "\n",
    "$$\n",
    "Y = \\beta_0 + \\beta_1 X + \\beta_2 \\text{Collider} + \\epsilon \\quad \\text{(WRONG!)}\n",
    "$$\n",
    "\n",
    "This regression will give a **biased estimate** of $\\beta_1$ even when the true effect is zero.\n",
    "\n",
    "## Why This Happens: Selection Bias\n",
    "\n",
    "Controlling for a collider creates **selection bias** by conditioning on a variable that depends on both exposure and outcome:\n",
    "\n",
    "1. **Collider structure**: $X \\rightarrow \\text{Collider} \\leftarrow Y$\n",
    "2. **Conditioning effect**: When you control for the collider, you're selecting specific combinations of X and Y\n",
    "3. **Induced association**: This selection creates an artificial association between X and Y\n",
    "\n",
    "## Common Colliders in Genetic Studies\n",
    "\n",
    "- Study Participation/Selection: Genetic Risk $\\leftarrow$ Study Participation $\\rightarrow$ Disease Status\n",
    "- Hospital Admission: Genetic Variant $\\leftarrow$ Hospital Admission $\\rightarrow$ Disease Severity  \n",
    "- Survival to Study Age: Protective Alleles $\\leftarrow$ Survival $\\rightarrow$ Disease Resistance. Studying only elderly survivors can bias estimates of genetic effects on longevity.\n",
    "\n",
    "\n",
    "## The Key Principle\n",
    "\n",
    "- **Confounders**: Control to remove bias\n",
    "- **Colliders**: Don't control to avoid creating bias"
   ]
  },
  {
   "cell_type": "markdown",
   "id": "602ef9dc",
   "metadata": {},
   "source": [
    "## Related Topics\n",
    "\n",
    "- [ordinary least squares](https://statfungen.github.io/statgen-prerequisites/ordinary_least_squares.html)\n",
    "- [confounder](https://statfungen.github.io/statgen-prerequisites/confounder.html)"
   ]
  },
  {
   "cell_type": "markdown",
   "id": "58d544ce-922b-4a03-b765-9a1972fd1859",
   "metadata": {},
   "source": [
    "# Example"
   ]
  },
  {
   "cell_type": "markdown",
   "id": "7ba165b6",
   "metadata": {},
   "source": [
    "Imagine you're studying the relationship between genetic variants and waist circumference. You might think: \"Since body mass index (BMI) is related to both genetics and body measurements, I should control for it to get a cleaner analysis, right?\" \n",
    "\n",
    "Wrong! This intuitive approach can actually create false associations where none exist.\n",
    "\n",
    "Here's the puzzle: What happens when we study the relationship between genetic variants and waist circumference, with and without \"controlling\" for BMI? You might expect that adding more variables to your model would make your analysis more accurate, but sometimes it can completely mislead you.\n",
    "\n",
    "We'll explore this using a simple simulation where we know the true relationships: imagine that a genetic variant affects height, therefore affecting BMI, but not affects waist circumference (WC) directly. However, BMI can also be affected by WC because of adiposity. So in this diagram BMI serves as the collider.\n",
    "\n",
    "We'll see how our results change when we **don't adjust for BMI** versus when we mistakenly **include it as a covariate**."
   ]
  },
  {
   "cell_type": "markdown",
   "id": "0873b02d",
   "metadata": {},
   "source": [
    "Let's create a scenario where we know the true relationships. We'll generate data for 500 people with a genetic variant that affects height (and therefore BMI), plus waist circumference that's completely independent of genetics.\n"
   ]
  },
  {
   "cell_type": "code",
   "execution_count": 1,
   "id": "d5dd86c8",
   "metadata": {
    "vscode": {
     "languageId": "r"
    }
   },
   "outputs": [],
   "source": [
    "rm(list=ls())\n",
    "set.seed(15)\n",
    "\n",
    "# Sample size\n",
    "N <- 500\n",
    "\n",
    "# Generate SNP (0, 1, 2 copies of height-increasing allele)\n",
    "snp <- sample(0:2, N, replace = TRUE, prob = c(0.25, 0.5, 0.25))\n",
    "\n",
    "# Generate waist circumference (completely independent of SNP)\n",
    "# This represents individual differences in adiposity\n",
    "waist_circumference <- rnorm(N, mean = 85, sd = 12)"
   ]
  },
  {
   "cell_type": "markdown",
   "id": "a429be15",
   "metadata": {},
   "source": [
    "Now we build the causal relationships that make BMI a collider:"
   ]
  },
  {
   "cell_type": "code",
   "execution_count": 2,
   "id": "a6da8701",
   "metadata": {
    "vscode": {
     "languageId": "r"
    }
   },
   "outputs": [],
   "source": [
    "# SNP affects height (each copy adds ~3cm)\n",
    "height_cm <- 165 + 3 * snp + rnorm(N, 0, 6)\n",
    "\n",
    "# Weight comes from two sources:\n",
    "# 1. Height contributes through lean body mass\n",
    "# 2. Waist circumference contributes through adiposity\n",
    "weight_from_height <- 1 * height_cm  # Lean mass component\n",
    "weight_from_adiposity <- 1.2 * waist_circumference  # Fat mass component\n",
    "weight_kg <- weight_from_height + weight_from_adiposity - 140 + rnorm(N, 0, 5)\n",
    "\n",
    "# Calculate BMI (the collider!)\n",
    "bmi <- weight_kg / (height_cm/100)^2\n"
   ]
  },
  {
   "cell_type": "markdown",
   "id": "6e582ca4",
   "metadata": {},
   "source": [
    "Based on how the waist circumference is generated, it is independent from the genetic effect. Thus we should expect no signals when we test for the associations between waist circumference and SNPs. So we perform two analysis here:\n",
    "- ignore the collider (BMI), regress waist circumference on SNPs\n",
    "- consider the collider (BMI), regress waist circumference on SNPs and BMI"
   ]
  },
  {
   "cell_type": "code",
   "execution_count": 3,
   "id": "9602491b",
   "metadata": {
    "vscode": {
     "languageId": "r"
    }
   },
   "outputs": [],
   "source": [
    "# Standardize variables for easier interpretation\n",
    "snp_scaled <- scale(snp)[,1]\n",
    "wc_scaled <- scale(waist_circumference)[,1]\n",
    "bmi_scaled <- scale(bmi)[,1]\n",
    "\n",
    "# Analysis 1: CORRECT - Don't adjust for BMI\n",
    "correct_model <- lm(wc_scaled ~ snp_scaled)\n",
    "correct_summary <- summary(correct_model)\n",
    "\n",
    "# Analysis 2: INCORRECT - Adjust for BMI (the collider)\n",
    "biased_model <- lm(wc_scaled ~ snp_scaled + bmi_scaled)\n",
    "biased_summary <- summary(biased_model)\n",
    "\n",
    "# Extract results\n",
    "results <- data.frame(\n",
    "  Analysis = c(\"Correct (no BMI)\", \"Incorrect (with BMI)\"),\n",
    "  Beta = c(\n",
    "    round(correct_summary$coefficients[2, 1], 4),\n",
    "    round(biased_summary$coefficients[2, 1], 4)\n",
    "  ),\n",
    "  SE = c(\n",
    "    round(correct_summary$coefficients[2, 2], 4),\n",
    "    round(biased_summary$coefficients[2, 2], 4)\n",
    "  ),\n",
    "  P_value = c(\n",
    "    round(correct_summary$coefficients[2, 4], 4),\n",
    "    round(biased_summary$coefficients[2, 4], 4)\n",
    "  ),\n",
    "  Significant = c(\n",
    "    ifelse(correct_summary$coefficients[2, 4] < 0.05, \"Yes\", \"No\"),\n",
    "    ifelse(biased_summary$coefficients[2, 4] < 0.05, \"Yes\", \"No\")\n",
    "  )\n",
    ")"
   ]
  },
  {
   "cell_type": "markdown",
   "id": "de20d851",
   "metadata": {},
   "source": [
    "Let's taka a look at the results:"
   ]
  },
  {
   "cell_type": "code",
   "execution_count": 4,
   "id": "3e62d736",
   "metadata": {
    "vscode": {
     "languageId": "r"
    }
   },
   "outputs": [
    {
     "data": {
      "text/html": [
       "<table class=\"dataframe\">\n",
       "<caption>A data.frame: 2 x 5</caption>\n",
       "<thead>\n",
       "\t<tr><th scope=col>Analysis</th><th scope=col>Beta</th><th scope=col>SE</th><th scope=col>P_value</th><th scope=col>Significant</th></tr>\n",
       "\t<tr><th scope=col>&lt;chr&gt;</th><th scope=col>&lt;dbl&gt;</th><th scope=col>&lt;dbl&gt;</th><th scope=col>&lt;dbl&gt;</th><th scope=col>&lt;chr&gt;</th></tr>\n",
       "</thead>\n",
       "<tbody>\n",
       "\t<tr><td>Correct (no BMI)    </td><td>-0.0044</td><td>0.0448</td><td>0.9218</td><td>No </td></tr>\n",
       "\t<tr><td>Incorrect (with BMI)</td><td> 0.0715</td><td>0.0183</td><td>0.0001</td><td>Yes</td></tr>\n",
       "</tbody>\n",
       "</table>\n"
      ],
      "text/latex": [
       "A data.frame: 2 x 5\n",
       "\\begin{tabular}{lllll}\n",
       " Analysis & Beta & SE & P\\_value & Significant\\\\\n",
       " <chr> & <dbl> & <dbl> & <dbl> & <chr>\\\\\n",
       "\\hline\n",
       "\t Correct (no BMI)     & -0.0044 & 0.0448 & 0.9218 & No \\\\\n",
       "\t Incorrect (with BMI) &  0.0715 & 0.0183 & 0.0001 & Yes\\\\\n",
       "\\end{tabular}\n"
      ],
      "text/markdown": [
       "\n",
       "A data.frame: 2 x 5\n",
       "\n",
       "| Analysis &lt;chr&gt; | Beta &lt;dbl&gt; | SE &lt;dbl&gt; | P_value &lt;dbl&gt; | Significant &lt;chr&gt; |\n",
       "|---|---|---|---|---|\n",
       "| Correct (no BMI)     | -0.0044 | 0.0448 | 0.9218 | No  |\n",
       "| Incorrect (with BMI) |  0.0715 | 0.0183 | 0.0001 | Yes |\n",
       "\n"
      ],
      "text/plain": [
       "  Analysis             Beta    SE     P_value Significant\n",
       "1 Correct (no BMI)     -0.0044 0.0448 0.9218  No         \n",
       "2 Incorrect (with BMI)  0.0715 0.0183 0.0001  Yes        "
      ]
     },
     "metadata": {},
     "output_type": "display_data"
    }
   ],
   "source": [
    "results"
   ]
  },
  {
   "cell_type": "markdown",
   "id": "c9dac9a6",
   "metadata": {},
   "source": [
    "This example shows how controlling for BMI creates a false association between a genetic variant and waist circumference, even though no true biological relationship exists. The \"controlling for everything\" approach that seems so intuitive actually generates bias.\n",
    "\n",
    "The key lesson: **Before adjusting for any variable, ask whether it could be caused by both your exposure and outcome.** If yes, conditioning on it may introduce collider bias rather than remove confounding.\n",
    "\n",
    "In real studies, this type of bias could lead to false discoveries, wasted resources chasing non-existent mechanisms, and potentially harmful clinical recommendations based on spurious associations."
   ]
  },
  {
   "cell_type": "code",
   "execution_count": null,
   "id": "b964359c",
   "metadata": {
    "vscode": {
     "languageId": "r"
    }
   },
   "outputs": [],
   "source": []
  },
  {
   "cell_type": "code",
   "execution_count": null,
   "id": "211c65e8",
   "metadata": {
    "vscode": {
     "languageId": "r"
    }
   },
   "outputs": [],
   "source": []
  },
  {
   "cell_type": "code",
   "execution_count": null,
   "id": "cdacfae6",
   "metadata": {
    "vscode": {
     "languageId": "r"
    }
   },
   "outputs": [],
   "source": []
  },
  {
   "cell_type": "code",
   "execution_count": null,
   "id": "cfd3e9f6",
   "metadata": {
    "vscode": {
     "languageId": "r"
    }
   },
   "outputs": [],
   "source": []
  },
  {
   "cell_type": "code",
   "execution_count": null,
   "id": "6ae5b416",
   "metadata": {
    "vscode": {
     "languageId": "r"
    }
   },
   "outputs": [],
   "source": []
  },
  {
   "cell_type": "code",
   "execution_count": null,
   "id": "1fa55518",
   "metadata": {
    "vscode": {
     "languageId": "r"
    }
   },
   "outputs": [],
   "source": []
  },
  {
   "cell_type": "code",
   "execution_count": null,
   "id": "1e77fb0f",
   "metadata": {
    "vscode": {
     "languageId": "r"
    }
   },
   "outputs": [],
   "source": []
  },
  {
   "cell_type": "code",
   "execution_count": null,
   "id": "273472d0",
   "metadata": {
    "vscode": {
     "languageId": "r"
    }
   },
   "outputs": [],
   "source": []
  },
  {
   "cell_type": "code",
   "execution_count": null,
   "id": "f2b4e0f4",
   "metadata": {
    "vscode": {
     "languageId": "r"
    }
   },
   "outputs": [],
   "source": []
  }
 ],
 "metadata": {
  "kernelspec": {
   "display_name": "R",
   "language": "R",
   "name": "ir"
  },
  "language_info": {
   "codemirror_mode": "r",
   "file_extension": ".r",
   "mimetype": "text/x-r-source",
   "name": "R",
   "pygments_lexer": "r",
   "version": "4.3.3"
  },
  "toc-autonumbering": true
 },
 "nbformat": 4,
 "nbformat_minor": 5
}
