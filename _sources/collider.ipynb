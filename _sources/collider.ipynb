{
 "cells": [
  {
   "cell_type": "markdown",
   "id": "24772f72",
   "metadata": {},
   "source": [
    "# Collider\n",
    "\n",
    "A collider is a variable that is **influenced by two other variables of interest**, creating a **spurious** association between them when we condition on (select or control for) the collider in our analysis."
   ]
  },
  {
   "cell_type": "markdown",
   "id": "e2d5663c",
   "metadata": {},
   "source": [
    "# Graphical Summary"
   ]
  },
  {
   "cell_type": "markdown",
   "id": "0b902f67",
   "metadata": {},
   "source": [
    "![Fig](./graphical_summary/slides/Slide15.png)"
   ]
  },
  {
   "cell_type": "markdown",
   "id": "60c9a152",
   "metadata": {},
   "source": [
    "# Key Formula\n",
    "\n",
    "The key formula for the concept of a collider is represented in a causal diagram as:\n",
    "\n",
    "$$\n",
    "X \\rightarrow W \\leftarrow Y\n",
    "$$\n",
    "\n",
    "Where:\n",
    "- $W$ is the collider variable\n",
    "- $X$ is one cause of the collider\n",
    "- $Y$ is another cause of the collider\n",
    "- The arrows ($\\rightarrow$) indicate the direction of causal influence\n",
    "\n",
    "This diagram illustrates that a collider ($W$) is a variable that is *caused by* both the exposure ($X$) and the outcome ($Y$), creating a situation where $X$ and $Y$ both flow into $W$.\n",
    "\n",
    "When we condition on (adjust for, stratify by, or select based on) a collider, we can induce a spurious association between its causes, even if they were originally independent."
   ]
  },
  {
   "cell_type": "markdown",
   "id": "b5b09909",
   "metadata": {},
   "source": [
    "# Technical Details\n",
    "\n",
    "## What Happens When We Control for Colliders\n",
    "\n",
    "When a collider is present and incorrectly controlled for:\n",
    "\n",
    "$$\n",
    "\\text{Observed Association} = \\text{True Effect} + \\text{Collider Bias}\n",
    "$$\n",
    "\n",
    "- **True Effect**: The real biological relationship (may be zero)\n",
    "- **Collider Bias**: The false association created by conditioning on the collider\n",
    "- **Observed Association**: What we measure after incorrectly adjusting (often misleading!)\n",
    "\n",
    "## The Problem: Conditioning on Colliders Creates Bias\n",
    "\n",
    "Unlike confounders, colliders should **NOT** be included in regression models. Including a collider as a covariate can create spurious associations:\n",
    "\n",
    "$$\n",
    "Y = \\beta_0 + \\beta_1 X + \\beta_2 \\text{Collider} + \\epsilon \\quad \\text{(WRONG!)}\n",
    "$$\n",
    "\n",
    "This regression will give a **biased estimate** of $\\beta_1$ even when the true effect is zero.\n",
    "\n",
    "## Why This Happens: Selection Bias\n",
    "\n",
    "Controlling for a collider creates **selection bias** by conditioning on a variable that depends on both exposure and outcome:\n",
    "\n",
    "1. **Collider structure**: $X \\rightarrow \\text{Collider} \\leftarrow Y$\n",
    "2. **Conditioning effect**: When you control for the collider, you're selecting specific combinations of X and Y\n",
    "3. **Induced association**: This selection creates an artificial association between X and Y\n",
    "\n",
    "## Common Colliders in Genetic Studies\n",
    "\n",
    "- Study Participation/Selection: Genetic Risk $\\leftarrow$ Study Participation $\\rightarrow$ Disease Status\n",
    "- Hospital Admission: Genetic Variant $\\leftarrow$ Hospital Admission $\\rightarrow$ Disease Severity  \n",
    "- Survival to Study Age: Protective Alleles $\\leftarrow$ Survival $\\rightarrow$ Disease Resistance. Studying only elderly survivors can bias estimates of genetic effects on longevity.\n",
    "\n",
    "\n",
    "## The Key Principle\n",
    "\n",
    "- **Confounders**: Control to remove bias\n",
    "- **Colliders**: Don't control to avoid creating bias"
   ]
  },
  {
   "cell_type": "markdown",
   "id": "602ef9dc",
   "metadata": {},
   "source": [
    "## Related Topics\n",
    "\n",
    "- [ordinary least squares](https://statfungen.github.io/statgen-prerequisites/ordinary_least_squares.html)\n",
    "- [confounder](https://statfungen.github.io/statgen-prerequisites/confounder.html)"
   ]
  },
  {
   "cell_type": "markdown",
   "id": "58d544ce-922b-4a03-b765-9a1972fd1859",
   "metadata": {},
   "source": [
    "# Example"
   ]
  },
  {
   "cell_type": "markdown",
   "id": "7ba165b6",
   "metadata": {},
   "source": [
    "Here's a biologically implausible scenario that perfectly demonstrates collider bias: What if we told you that certain genetic variants (autosomal SNPs) are associated with biological sex? That sounds absurd, right? Sex is determined by sex chromosomes (XX or XY), so autosomal SNPs (variants on non-sex chromosomes) should have **zero** association with whether someone is male or female.\n",
    "\n",
    "Yet, if we make one seemingly innocent analytical choice—adjusting for height in our model—we can create hundreds of \"genome-wide significant\" associations between autosomal SNPs and sex. These associations are completely spurious, arising purely from collider bias.\n",
    "\n",
    "This example is based on a landmark study published in the *American Journal of Human Genetics* that used UK Biobank data to definitively demonstrate collider bias. The researchers deliberately induced this bias to show how adjusting for heritable covariates can create biologically impossible associations.\n",
    "\n",
    "## The Setup: Height as a Collider\n",
    "\n",
    "The causal structure is:\n",
    "\n",
    "$$\n",
    "\\text{SNP} \\rightarrow \\text{Height} \\leftarrow \\text{Sex}\n",
    "$$\n",
    "\n",
    "- Genetic variants influence height (taller alleles exist)\n",
    "- Sex influences height (males are typically taller than females)\n",
    "- SNPs and sex are **causally independent** (autosomal variants don't cause sex)\n",
    "- Height is the **collider**—it's caused by both SNP and sex\n",
    "\n",
    "When we condition on height (e.g., by only studying tall people, or by including height as a covariate), we induce a spurious association between SNPs and sex, even though no biological relationship exists.\n",
    "\n",
    "## Why Does This Create Bias?\n",
    "\n",
    "Think about it this way: If you restrict your analysis to very tall people, you're selecting a group where:\n",
    "- Females with height-increasing alleles are more likely to be included\n",
    "- Males without height-increasing alleles are more likely to be included\n",
    "\n",
    "This creates an artificial negative correlation: within tall people, having height-increasing alleles makes you more likely to be female. But this correlation exists **only because we conditioned on height**, not because of any biological relationship between autosomal SNPs and sex.\n",
    "\n",
    "Let's demonstrate this with a simulation."
   ]
  },
  {
   "cell_type": "markdown",
   "id": "0873b02d",
   "metadata": {},
   "source": [
    "## Simulation Setup\n",
    "\n",
    "We'll create data for 10,000 individuals where we know the true relationships. We'll simulate:\n",
    "1. Sex (independent, ~50% male/female)\n",
    "2. A genetic variant (SNP) that affects height (independent of sex)\n",
    "3. Height, which is influenced by **both** sex and the SNP"
   ]
  },
  {
   "cell_type": "code",
   "execution_count": 5,
   "id": "d5dd86c8",
   "metadata": {
    "vscode": {
     "languageId": "r"
    }
   },
   "outputs": [],
   "source": [
    "rm(list=ls())\n",
    "set.seed(123)\n",
    "\n",
    "# Sample size\n",
    "N <- 10000\n",
    "\n",
    "# Generate sex (0 = Female, 1 = Male)\n",
    "# Sex is randomly assigned and independent of genetics\n",
    "sex <- rbinom(N, 1, 0.5)\n",
    "\n",
    "# Generate SNP (0, 1, 2 copies of a height-increasing allele)\n",
    "# This is a common autosomal variant, independent of sex\n",
    "snp <- sample(0:2, N, replace = TRUE, prob = c(0.25, 0.5, 0.25))"
   ]
  },
  {
   "cell_type": "markdown",
   "id": "a429be15",
   "metadata": {},
   "source": [
    "Now we build the causal relationships that make height a collider. Height is influenced by both sex and the genetic variant, but sex and the SNP are causally independent:"
   ]
  },
  {
   "cell_type": "code",
   "execution_count": 6,
   "id": "a6da8701",
   "metadata": {
    "vscode": {
     "languageId": "r"
    }
   },
   "outputs": [],
   "source": [
    "# Height is caused by BOTH sex and SNP\n",
    "# Males are on average 13 cm taller\n",
    "# Each copy of the height-increasing allele adds ~2 cm\n",
    "height_cm <- 160 +           # Baseline (female, 0 copies)\n",
    "             13 * sex +       # Sex effect (males taller)\n",
    "             2 * snp +        # SNP effect (each allele adds height)\n",
    "             rnorm(N, 0, 6)   # Individual variation"
   ]
  },
  {
   "cell_type": "markdown",
   "id": "6e582ca4",
   "metadata": {},
   "source": [
    "## Analysis 1: Correct Approach (No Adjustment for Height)\n",
    "\n",
    "First, let's test the association between SNP and sex **without** adjusting for height. Since autosomal SNPs don't cause sex, we should see no association:"
   ]
  },
  {
   "cell_type": "code",
   "execution_count": 8,
   "id": "9602491b",
   "metadata": {
    "vscode": {
     "languageId": "r"
    }
   },
   "outputs": [
    {
     "data": {
      "text/plain": [
       "\n",
       "Call:\n",
       "lm(formula = sex_scaled ~ snp_scaled)\n",
       "\n",
       "Residuals:\n",
       "    Min      1Q  Median      3Q     Max \n",
       "-1.0032 -0.9888 -0.9743  1.0113  1.0257 \n",
       "\n",
       "Coefficients:\n",
       "              Estimate Std. Error t value Pr(>|t|)\n",
       "(Intercept) -1.487e-16  1.000e-02   0.000    1.000\n",
       "snp_scaled   1.013e-02  1.000e-02   1.013    0.311\n",
       "\n",
       "Residual standard error: 1 on 9998 degrees of freedom\n",
       "Multiple R-squared:  0.0001027,\tAdjusted R-squared:  2.65e-06 \n",
       "F-statistic: 1.027 on 1 and 9998 DF,  p-value: 0.311\n"
      ]
     },
     "metadata": {},
     "output_type": "display_data"
    }
   ],
   "source": [
    "# Standardize variables for easier interpretation\n",
    "snp_scaled <- scale(snp)[,1]\n",
    "sex_scaled <- scale(sex)[,1]\n",
    "height_scaled <- scale(height_cm)[,1]\n",
    "\n",
    "# Analysis 1: CORRECT - Don't adjust for height\n",
    "# Model: sex ~ SNP\n",
    "correct_model <- lm(sex_scaled ~ snp_scaled)\n",
    "correct_summary <- summary(correct_model)\n",
    "correct_summary"
   ]
  },
  {
   "cell_type": "markdown",
   "id": "b1e73f56",
   "metadata": {},
   "source": [
    "## Analysis 2: Incorrect Approach (Adjusting for the Collider)\n",
    "\n",
    "Now let's repeat the analysis, but this time adjusting for height. This is where collider bias strikes:"
   ]
  },
  {
   "cell_type": "code",
   "execution_count": 9,
   "id": "a6da8702",
   "metadata": {
    "vscode": {
     "languageId": "r"
    }
   },
   "outputs": [
    {
     "data": {
      "text/plain": [
       "\n",
       "Call:\n",
       "lm(formula = sex_scaled ~ snp_scaled + height_scaled)\n",
       "\n",
       "Residuals:\n",
       "     Min       1Q   Median       3Q      Max \n",
       "-2.33341 -0.48342 -0.00341  0.48873  2.16265 \n",
       "\n",
       "Coefficients:\n",
       "                Estimate Std. Error t value Pr(>|t|)    \n",
       "(Intercept)   -2.340e-16  6.779e-03    0.00        1    \n",
       "snp_scaled    -1.178e-01  6.882e-03  -17.12   <2e-16 ***\n",
       "height_scaled  7.462e-01  6.882e-03  108.43   <2e-16 ***\n",
       "---\n",
       "Signif. codes:  0 ‘***’ 0.001 ‘**’ 0.01 ‘*’ 0.05 ‘.’ 0.1 ‘ ’ 1\n",
       "\n",
       "Residual standard error: 0.6779 on 9997 degrees of freedom\n",
       "Multiple R-squared:  0.5405,\tAdjusted R-squared:  0.5404 \n",
       "F-statistic:  5879 on 2 and 9997 DF,  p-value: < 2.2e-16\n"
      ]
     },
     "metadata": {},
     "output_type": "display_data"
    }
   ],
   "source": [
    "# Analysis 2: INCORRECT - Adjust for height (the collider)\n",
    "# Model: sex ~ SNP + height\n",
    "biased_model <- lm(sex_scaled ~ snp_scaled + height_scaled)\n",
    "biased_summary <- summary(biased_model)\n",
    "biased_summary"
   ]
  },
  {
   "cell_type": "markdown",
   "id": "c2e1e8f7",
   "metadata": {},
   "source": [
    "## Analysis 3: Stratification by Height (Another Way to Condition on the Collider)\n",
    "\n",
    "Conditioning on a collider doesn't just mean including it as a covariate—it also includes selecting or stratifying by that variable. Let's see what happens when we only analyze tall people or only short people:"
   ]
  },
  {
   "cell_type": "code",
   "execution_count": 12,
   "id": "a6da8703",
   "metadata": {
    "vscode": {
     "languageId": "r"
    }
   },
   "outputs": [
    {
     "name": "stdout",
     "output_type": "stream",
     "text": [
      "[1] \"============================ Tall group analysis ============================\"\n"
     ]
    },
    {
     "data": {
      "text/plain": [
       "\n",
       "Call:\n",
       "lm(formula = sex_scaled[tall_subset] ~ snp_scaled[tall_subset])\n",
       "\n",
       "Residuals:\n",
       "    Min      1Q  Median      3Q     Max \n",
       "-1.9563  0.0720  0.0720  0.1002  0.1002 \n",
       "\n",
       "Coefficients:\n",
       "                         Estimate Std. Error t value Pr(>|t|)    \n",
       "(Intercept)              0.939679   0.007825 120.089   <2e-16 ***\n",
       "snp_scaled[tall_subset] -0.019773   0.007814  -2.531   0.0115 *  \n",
       "---\n",
       "Signif. codes:  0 ‘***’ 0.001 ‘**’ 0.01 ‘*’ 0.05 ‘.’ 0.1 ‘ ’ 1\n",
       "\n",
       "Residual standard error: 0.3821 on 2498 degrees of freedom\n",
       "Multiple R-squared:  0.002557,\tAdjusted R-squared:  0.002158 \n",
       "F-statistic: 6.403 on 1 and 2498 DF,  p-value: 0.01145\n"
      ]
     },
     "metadata": {},
     "output_type": "display_data"
    },
    {
     "name": "stdout",
     "output_type": "stream",
     "text": [
      "[1] \"============================ Short group analysis ============================\"\n"
     ]
    },
    {
     "data": {
      "text/plain": [
       "\n",
       "Call:\n",
       "lm(formula = sex_scaled[short_subset] ~ snp_scaled[short_subset])\n",
       "\n",
       "Residuals:\n",
       "     Min       1Q   Median       3Q      Max \n",
       "-0.08144 -0.08144 -0.04754 -0.04754  1.98638 \n",
       "\n",
       "Coefficients:\n",
       "                          Estimate Std. Error  t value Pr(>|t|)    \n",
       "(Intercept)              -0.940756   0.006543 -143.780  < 2e-16 ***\n",
       "snp_scaled[short_subset] -0.023730   0.006560   -3.617 0.000304 ***\n",
       "---\n",
       "Signif. codes:  0 ‘***’ 0.001 ‘**’ 0.01 ‘*’ 0.05 ‘.’ 0.1 ‘ ’ 1\n",
       "\n",
       "Residual standard error: 0.3199 on 2498 degrees of freedom\n",
       "Multiple R-squared:  0.005211,\tAdjusted R-squared:  0.004812 \n",
       "F-statistic: 13.08 on 1 and 2498 DF,  p-value: 0.0003037\n"
      ]
     },
     "metadata": {},
     "output_type": "display_data"
    }
   ],
   "source": [
    "# Define tall and short groups based on height\n",
    "tall_threshold <- quantile(height_cm, 0.75)    # Top 25%\n",
    "short_threshold <- quantile(height_cm, 0.25)   # Bottom 25%\n",
    "\n",
    "# Analysis 3a: Only tall people\n",
    "print(\"============================ Tall group analysis ============================\")\n",
    "tall_subset <- height_cm >= tall_threshold\n",
    "tall_model <- lm(sex_scaled[tall_subset] ~ snp_scaled[tall_subset])\n",
    "tall_summary <- summary(tall_model)\n",
    "tall_summary\n",
    "\n",
    "# Analysis 3b: Only short people\n",
    "print(\"============================ Short group analysis ============================\")\n",
    "short_subset <- height_cm <= short_threshold\n",
    "short_model <- lm(sex_scaled[short_subset] ~ snp_scaled[short_subset])\n",
    "short_summary <- summary(short_model)\n",
    "short_summary"
   ]
  },
  {
   "cell_type": "markdown",
   "id": "b1e73f57",
   "metadata": {},
   "source": [
    "## Compile Results"
   ]
  },
  {
   "cell_type": "code",
   "execution_count": 13,
   "id": "a6da8704",
   "metadata": {
    "vscode": {
     "languageId": "r"
    }
   },
   "outputs": [],
   "source": [
    "# Extract results\n",
    "results <- data.frame(\n",
    "  Analysis = c(\n",
    "    \"Correct (no height adjustment)\",\n",
    "    \"BIASED (adjusted for height)\",\n",
    "    \"BIASED (only tall people)\",\n",
    "    \"BIASED (only short people)\"\n",
    "  ),\n",
    "  Beta = c(\n",
    "    round(correct_summary$coefficients[2, 1], 4),\n",
    "    round(biased_summary$coefficients[2, 1], 4),\n",
    "    round(tall_summary$coefficients[2, 1], 4),\n",
    "    round(short_summary$coefficients[2, 1], 4)\n",
    "  ),\n",
    "  SE = c(\n",
    "    round(correct_summary$coefficients[2, 2], 4),\n",
    "    round(biased_summary$coefficients[2, 2], 4),\n",
    "    round(tall_summary$coefficients[2, 2], 4),\n",
    "    round(short_summary$coefficients[2, 2], 4)\n",
    "  ),\n",
    "  P_value = c(\n",
    "    round(correct_summary$coefficients[2, 4], 4),\n",
    "    round(biased_summary$coefficients[2, 4], 4),\n",
    "    round(tall_summary$coefficients[2, 4], 4),\n",
    "    round(short_summary$coefficients[2, 4], 4)\n",
    "  ),\n",
    "  Interpretation = c(\n",
    "    \"No association (correct!)\",\n",
    "    \"Strong spurious association\",\n",
    "    \"Spurious association (tall subset)\",\n",
    "    \"Spurious association (short subset)\"\n",
    "  )\n",
    ")"
   ]
  },
  {
   "cell_type": "markdown",
   "id": "de20d851",
   "metadata": {},
   "source": [
    "Let's look at the results:"
   ]
  },
  {
   "cell_type": "code",
   "execution_count": 14,
   "id": "3e62d736",
   "metadata": {
    "vscode": {
     "languageId": "r"
    }
   },
   "outputs": [
    {
     "data": {
      "text/html": [
       "<table class=\"dataframe\">\n",
       "<caption>A data.frame: 4 × 5</caption>\n",
       "<thead>\n",
       "\t<tr><th scope=col>Analysis</th><th scope=col>Beta</th><th scope=col>SE</th><th scope=col>P_value</th><th scope=col>Interpretation</th></tr>\n",
       "\t<tr><th scope=col>&lt;chr&gt;</th><th scope=col>&lt;dbl&gt;</th><th scope=col>&lt;dbl&gt;</th><th scope=col>&lt;dbl&gt;</th><th scope=col>&lt;chr&gt;</th></tr>\n",
       "</thead>\n",
       "<tbody>\n",
       "\t<tr><td>Correct (no height adjustment)</td><td> 0.0101</td><td>0.0100</td><td>0.3110</td><td>No association (correct!)          </td></tr>\n",
       "\t<tr><td>BIASED (adjusted for height)  </td><td>-0.1178</td><td>0.0069</td><td>0.0000</td><td>Strong spurious association        </td></tr>\n",
       "\t<tr><td>BIASED (only tall people)     </td><td>-0.0198</td><td>0.0078</td><td>0.0115</td><td>Spurious association (tall subset) </td></tr>\n",
       "\t<tr><td>BIASED (only short people)    </td><td>-0.0237</td><td>0.0066</td><td>0.0003</td><td>Spurious association (short subset)</td></tr>\n",
       "</tbody>\n",
       "</table>\n"
      ],
      "text/latex": [
       "A data.frame: 4 × 5\n",
       "\\begin{tabular}{lllll}\n",
       " Analysis & Beta & SE & P\\_value & Interpretation\\\\\n",
       " <chr> & <dbl> & <dbl> & <dbl> & <chr>\\\\\n",
       "\\hline\n",
       "\t Correct (no height adjustment) &  0.0101 & 0.0100 & 0.3110 & No association (correct!)          \\\\\n",
       "\t BIASED (adjusted for height)   & -0.1178 & 0.0069 & 0.0000 & Strong spurious association        \\\\\n",
       "\t BIASED (only tall people)      & -0.0198 & 0.0078 & 0.0115 & Spurious association (tall subset) \\\\\n",
       "\t BIASED (only short people)     & -0.0237 & 0.0066 & 0.0003 & Spurious association (short subset)\\\\\n",
       "\\end{tabular}\n"
      ],
      "text/markdown": [
       "\n",
       "A data.frame: 4 × 5\n",
       "\n",
       "| Analysis &lt;chr&gt; | Beta &lt;dbl&gt; | SE &lt;dbl&gt; | P_value &lt;dbl&gt; | Interpretation &lt;chr&gt; |\n",
       "|---|---|---|---|---|\n",
       "| Correct (no height adjustment) |  0.0101 | 0.0100 | 0.3110 | No association (correct!)           |\n",
       "| BIASED (adjusted for height)   | -0.1178 | 0.0069 | 0.0000 | Strong spurious association         |\n",
       "| BIASED (only tall people)      | -0.0198 | 0.0078 | 0.0115 | Spurious association (tall subset)  |\n",
       "| BIASED (only short people)     | -0.0237 | 0.0066 | 0.0003 | Spurious association (short subset) |\n",
       "\n"
      ],
      "text/plain": [
       "  Analysis                       Beta    SE     P_value\n",
       "1 Correct (no height adjustment)  0.0101 0.0100 0.3110 \n",
       "2 BIASED (adjusted for height)   -0.1178 0.0069 0.0000 \n",
       "3 BIASED (only tall people)      -0.0198 0.0078 0.0115 \n",
       "4 BIASED (only short people)     -0.0237 0.0066 0.0003 \n",
       "  Interpretation                     \n",
       "1 No association (correct!)          \n",
       "2 Strong spurious association        \n",
       "3 Spurious association (tall subset) \n",
       "4 Spurious association (short subset)"
      ]
     },
     "metadata": {},
     "output_type": "display_data"
    }
   ],
   "source": [
    "results"
   ]
  },
  {
   "cell_type": "markdown",
   "id": "c9dac9a6",
   "metadata": {},
   "source": [
    "## Interpretation\n",
    "\n",
    "The results are striking:\n",
    "\n",
    "1. **Correct analysis (no height adjustment)**: β ≈ 0, p > 0.05 \n",
    "   - As expected! Autosomal SNPs don't cause sex, so there's no association.\n",
    "\n",
    "2. **Incorrect analysis (adjusted for height)**: β ≈ -0.08, p < 0.0001\n",
    "   - A highly \"significant\" association appears! But it's completely spurious.\n",
    "   - The negative beta means: height-increasing alleles are associated with being female (when controlling for height).\n",
    "   - This is biologically impossible—it's pure collider bias.\n",
    "\n",
    "3. **Stratified analyses (tall or short people only)**: Both show spurious associations\n",
    "   - Selecting only tall or short people also conditions on the collider.\n",
    "   - Even without explicitly including height as a covariate, we create bias through selection.\n",
    "\n",
    "## Why Does This Matter?\n",
    "\n",
    "This example demonstrates a critical principle: **conditioning on a collider creates spurious associations between its causes**, even when those causes are completely independent. In the real UK Biobank study, adjusting for height created over 200 genome-wide significant \"associations\" between autosomal SNPs and sex—all of them false.\n",
    "\n",
    "The implications are profound:\n",
    "- Adjusting for heritable traits can create false-positive findings\n",
    "- Selection bias (e.g., studying only hospitalized patients, survivors, or people who meet certain criteria) can induce collider bias\n",
    "- The mantra \"control for everything\" is dangerous—sometimes controlling creates bias rather than removes it\n",
    "\n",
    "## The Key Lesson\n",
    "\n",
    "Before including a variable in your model, ask: **Could this variable be caused by both my exposure and my outcome?** If yes, you're looking at a potential collider, and adjusting for it may create spurious associations rather than reveal true ones.\n",
    "\n",
    "In genetics and epidemiology, careful consideration of causal structure—often represented through directed acyclic graphs (DAGs)—is essential for avoiding collider bias and other forms of selection bias."
   ]
  },
  {
   "cell_type": "code",
   "execution_count": null,
   "id": "b964359c",
   "metadata": {
    "vscode": {
     "languageId": "r"
    }
   },
   "outputs": [],
   "source": []
  },
  {
   "cell_type": "code",
   "execution_count": null,
   "id": "211c65e8",
   "metadata": {
    "vscode": {
     "languageId": "r"
    }
   },
   "outputs": [],
   "source": []
  },
  {
   "cell_type": "code",
   "execution_count": null,
   "id": "cdacfae6",
   "metadata": {
    "vscode": {
     "languageId": "r"
    }
   },
   "outputs": [],
   "source": []
  },
  {
   "cell_type": "code",
   "execution_count": null,
   "id": "cfd3e9f6",
   "metadata": {
    "vscode": {
     "languageId": "r"
    }
   },
   "outputs": [],
   "source": []
  },
  {
   "cell_type": "code",
   "execution_count": null,
   "id": "6ae5b416",
   "metadata": {
    "vscode": {
     "languageId": "r"
    }
   },
   "outputs": [],
   "source": []
  },
  {
   "cell_type": "code",
   "execution_count": null,
   "id": "1fa55518",
   "metadata": {
    "vscode": {
     "languageId": "r"
    }
   },
   "outputs": [],
   "source": []
  },
  {
   "cell_type": "code",
   "execution_count": null,
   "id": "1e77fb0f",
   "metadata": {
    "vscode": {
     "languageId": "r"
    }
   },
   "outputs": [],
   "source": []
  },
  {
   "cell_type": "code",
   "execution_count": null,
   "id": "273472d0",
   "metadata": {
    "vscode": {
     "languageId": "r"
    }
   },
   "outputs": [],
   "source": []
  },
  {
   "cell_type": "code",
   "execution_count": null,
   "id": "f2b4e0f4",
   "metadata": {
    "vscode": {
     "languageId": "r"
    }
   },
   "outputs": [],
   "source": []
  }
 ],
 "metadata": {
  "kernelspec": {
   "display_name": "R",
   "language": "R",
   "name": "ir"
  },
  "language_info": {
   "codemirror_mode": "r",
   "file_extension": ".r",
   "mimetype": "text/x-r-source",
   "name": "R",
   "pygments_lexer": "r",
   "version": "4.4.3"
  },
  "toc-autonumbering": true
 },
 "nbformat": 4,
 "nbformat_minor": 5
}
