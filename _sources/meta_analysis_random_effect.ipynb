{
 "cells": [
  {
   "cell_type": "markdown",
   "id": "e2a38765",
   "metadata": {},
   "source": [
    "# Random Effects Meta-Analysis [FIXME]\n",
    "\n",
    "Meta-analysis provides a systematic approach to **combine results from multiple studies**, increasing statistical power and precision of effect estimates by leveraging the larger aggregate sample size."
   ]
  },
  {
   "cell_type": "markdown",
   "id": "9ffd0d95",
   "metadata": {},
   "source": [
    "# TODO\n",
    "- change intuition, graphical summary and technical details\n",
    "- Example:\n",
    "  - **QUESTION**: can we assume $\\beta_1$ and $\\beta_2$ are both from the same distribution? $N(\\beta, \\sigma_0^2)$ to simplify???\n",
    "  - assume that there are two populations, $\\beta_1 \\sim N(\\beta, \\sigma_1^2)$ and $\\beta_2 \\sim N(\\beta, \\sigma_2^2)$ where the true effect expectation is the same $\\beta$ but the variance is different for the two populations\n",
    "  - draw the true $\\beta_1$ and $\\beta_2$ and assign y based on X\n",
    "  - Key difference between random and fixed effects meta-analysis\n",
    "    -  Under fixed effect model $\\beta=1$, $Y=X\\beta+\\epsilon$, then if wildtype, $y \\sim N(0,\\sigma^2)$, if mutation, then $y \\sim N(1,\\sigma^2)$ -- so it is just shifting the normal distribution by 1 unit to the right\n",
    "    -  Under random effect model $\\beta \\sim N(0,1)$, $Y=X\\beta+\\epsilon$, then if wildtype, $y \\sim N(0, \\sigma^2)$, if mutation, then $y \\sim N(0,1+\\sigma^2)$ --- so the distribution becomes more flat but remains the same position\n",
    "    - the key difference here is that the weights of each population incorporate both within-study and between-study variance. \n",
    "    - versus the weights in the fixed effect meta-analysis, it is just the variance between individuals (there is no between-study variance because we assume individuals are homogenous), but the fixed effect brings the shift of the distribution."
   ]
  },
  {
   "cell_type": "markdown",
   "id": "ef4b1c8b",
   "metadata": {},
   "source": [
    "# Graphical Summary"
   ]
  },
  {
   "cell_type": "markdown",
   "id": "64810e5f",
   "metadata": {},
   "source": [
    "![fig](./cartoons/meta_analysis.svg)"
   ]
  },
  {
   "cell_type": "markdown",
   "id": "aee54301",
   "metadata": {},
   "source": [
    "# Key Formula\n",
    "\n",
    "In meta-analysis, the weighted mean effect size for a fixed-effects model is calculated as:\n",
    "\n",
    "$$\\hat{\\beta} = \\frac{\\sum_{i=1}^{k} w_i \\hat{\\beta}_i}{\\sum_{i=1}^{k} w_i}$$\n",
    "\n",
    "Where:\n",
    "- $\\hat{\\beta}$ is the combined effect estimate across all studies\n",
    "- $\\hat{\\beta}_i$ is the effect estimate from study $i$\n",
    "- $w_i$ is the weight assigned to study $i$\n",
    "- $k$ is the number of studies"
   ]
  },
  {
   "cell_type": "markdown",
   "id": "34f145db",
   "metadata": {},
   "source": [
    "# Technical Details\n",
    "\n",
    "## Multiple Fixed-Effects Models\n",
    "\n",
    "- Weights for Fixed-Effects\n",
    "    $$w_i = \\frac{1}{v_i}$$\n",
    "    Where $v_i$ is the within-study variance for study $i$\n",
    "\n",
    "- Variance of the Combined Estimate\n",
    "    $$Var(\\hat{\\beta}) = \\frac{1}{\\sum_{i=1}^{k} w_i}$$\n",
    "\n",
    "- Standard Error of the Combined Estimate\n",
    "    $$SE(\\hat{\\beta}) = \\sqrt{Var(\\hat{\\beta})} = \\sqrt{\\frac{1}{\\sum_{i=1}^{k} w_i}}$$\n",
    "\n",
    "## Multiple Random-Effects Models\n",
    "\n",
    "- Weighted Mean Effect Size\n",
    "$$\\hat{\\beta}^* = \\frac{\\sum_{i=1}^{k} w_i^* \\hat{\\beta}_i}{\\sum_{i=1}^{k} w_i^*}$$\n",
    "\n",
    "- Weights for Random-Effects\n",
    "    $$w_i^* = \\frac{1}{v_i + \\tau^2}$$\n",
    "\n",
    "    Where $\\tau^2$ is the between-study variance\n",
    "\n",
    "## Meta-Analysis in Genetic Studies\n",
    "\n",
    "In genetic studies, meta-analysis often combines results from genome-wide association studies (GWAS) across different cohorts with weights either from the sample size or the inverse variance:\n",
    "\n",
    "- Sample Size Weighting\n",
    "    $$w_i = \\sqrt{N_i}$$\n",
    "\n",
    "    Where $N_i$ is the sample size of study $i$\n",
    "\n",
    "- Inverse Variance Weighting\n",
    "    $$w_i = \\frac{1}{SE(\\hat{\\beta}_i)^2}$$\n",
    "\n",
    "    Where $SE(\\hat{\\beta}_i)$ is the standard error of the effect size estimate in study $i$"
   ]
  },
  {
   "cell_type": "markdown",
   "id": "58d544ce-922b-4a03-b765-9a1972fd1859",
   "metadata": {},
   "source": [
    "# Example"
   ]
  },
  {
   "cell_type": "markdown",
   "id": "2c408a76",
   "metadata": {},
   "source": [
    "This example demonstrates a meta-analysis of genetic variants across two European cohorts. We'll analyze 3 genetic variants (SNPs) that have been genotyped in both cohorts and combine their effects using fixed-effects meta-analysis.\n",
    "\n",
    "We first generate the summary statistics for 3 variants from two independent European cohorts with different sample sizes (N=8000 and N=5500), and assuming that they are from the same genetic ancestry so they can be meta-analyzed.\n",
    "\n",
    "Then we perform fixed-effects meta-analysis combining results using:\n",
    "- Sample size weighting (weight proportional to $\\frac{1}{\\sqrt{N}}$)\n",
    "- Inverse variance weighting (weight = $\\frac{1}{\\text{SE}^2}$)\n",
    "\n",
    "Lastly we plot the effect size and p-values for each variant and compare the results from separate cohorts and meta-analysis results. We also compare the variance based on the sample size and inverse variance."
   ]
  },
  {
   "cell_type": "code",
   "execution_count": 48,
   "id": "628fa60f",
   "metadata": {
    "vscode": {
     "languageId": "r"
    }
   },
   "outputs": [
    {
     "name": "stdout",
     "output_type": "stream",
     "text": [
      "[1] \"Cohort 1 (European, N=8000):\"\n",
      "  variant  beta    se p_value    n\n",
      "1     rs1  0.18 0.035 2.5e-07 8000\n",
      "2     rs2 -0.09 0.028 1.3e-03 8000\n",
      "3     rs3  0.25 0.055 5.4e-06 8000\n",
      "[1] \"Cohort 2 (European, N=5500):\"\n",
      "  variant  beta    se p_value    n\n",
      "1     rs1  0.15 0.042 3.6e-04 5500\n",
      "2     rs2 -0.03 0.033 4.4e-01 5500\n",
      "3     rs3  0.29 0.063 4.2e-06 5500\n"
     ]
    }
   ],
   "source": [
    "# Create summary statistics for two European cohorts\n",
    "# Cohort 1: European ancestry (N=8000)\n",
    "cohort1 <- data.frame(\n",
    "  variant = c(\"rs1\", \"rs2\", \"rs3\"),\n",
    "  beta = c(0.18, -0.09, 0.25),       # Effect sizes\n",
    "  se = c(0.035, 0.028, 0.055),       # Standard errors\n",
    "  p_value = c(2.5e-7, 1.3e-3, 5.4e-6), # P-values\n",
    "  n = c(8000, 8000, 8000)            # Sample size\n",
    ")\n",
    "\n",
    "# Cohort 2: European ancestry (N=5500)\n",
    "cohort2 <- data.frame(\n",
    "  variant = c(\"rs1\", \"rs2\", \"rs3\"),\n",
    "  beta = c(0.15, -0.03, 0.29),       # Effect sizes\n",
    "  se = c(0.042, 0.033, 0.063),       # Standard errors\n",
    "  p_value = c(3.6e-4, 4.4e-1, 4.2e-6), # P-values\n",
    "  n = c(5500, 5500, 5500)            # Sample size\n",
    ")\n",
    "\n",
    "# Display the summary statistics\n",
    "print(\"Cohort 1 (European, N=8000):\")\n",
    "print(cohort1)\n",
    "print(\"Cohort 2 (European, N=5500):\")\n",
    "print(cohort2)\n"
   ]
  },
  {
   "cell_type": "code",
   "execution_count": 49,
   "id": "88297dd0",
   "metadata": {
    "vscode": {
     "languageId": "r"
    }
   },
   "outputs": [],
   "source": [
    "# Define Function for sample size weighting\n",
    "sample_size_meta <- function(beta1, n1, beta2, n2) {\n",
    "  # Calculate weights proportional to sample size\n",
    "  w1 <- n1\n",
    "  w2 <- n2\n",
    "  \n",
    "  # Combined effect using sample size weights\n",
    "  beta_meta <- (w1 * beta1 + w2 * beta2) / (w1 + w2)\n",
    "  \n",
    "  # Calculate the weight ratio\n",
    "  weight_ratio <- w2/w1\n",
    "  \n",
    "  # Return results\n",
    "  return(list(\n",
    "    beta = beta_meta,\n",
    "    w1 = w1,\n",
    "    w2 = w2,\n",
    "    weight_ratio = weight_ratio\n",
    "  ))\n",
    "}\n",
    "\n",
    "# Define Function for inverse variance weighting\n",
    "inverse_variance_meta <- function(beta1, se1, beta2, se2) {\n",
    "  # Calculate weights as inverse of variance\n",
    "  w1 <- 1 / (se1^2)\n",
    "  w2 <- 1 / (se2^2)\n",
    "  \n",
    "  # Combined effect using inverse variance weights\n",
    "  beta_meta <- (w1 * beta1 + w2 * beta2) / (w1 + w2)\n",
    "  \n",
    "  # Standard error of combined estimate\n",
    "  se_meta <- sqrt(1 / (w1 + w2))\n",
    "  \n",
    "  # Z-score\n",
    "  z_meta <- beta_meta / se_meta\n",
    "  \n",
    "  # P-value\n",
    "  p_meta <- 2 * pnorm(-abs(z_meta))\n",
    "  \n",
    "  # Calculate the weight ratio\n",
    "  weight_ratio <- w2/w1\n",
    "  \n",
    "  # Return results\n",
    "  return(list(\n",
    "    beta = beta_meta,\n",
    "    se = se_meta,\n",
    "    z = z_meta,\n",
    "    p = p_meta,\n",
    "    w1 = w1,\n",
    "    w2 = w2,\n",
    "    weight_ratio = weight_ratio\n",
    "  ))\n",
    "}\n"
   ]
  },
  {
   "cell_type": "code",
   "execution_count": 50,
   "id": "3fae954f-10fb-445c-80ff-cc3ff30bb2c1",
   "metadata": {
    "tags": [],
    "vscode": {
     "languageId": "r"
    }
   },
   "outputs": [],
   "source": [
    "# Perform meta-analysis for each variant\n",
    "results <- data.frame(\n",
    "  variant = cohort1$variant,\n",
    "  beta1 = cohort1$beta,\n",
    "  se1 = cohort1$se,\n",
    "  p1 = cohort1$p_value,\n",
    "  n1 = cohort1$n,\n",
    "  beta2 = cohort2$beta,\n",
    "  se2 = cohort2$se,\n",
    "  p2 = cohort2$p_value,\n",
    "  n2 = cohort2$n,\n",
    "  beta_n = numeric(3),\n",
    "  w1_n = numeric(3),\n",
    "  w2_n = numeric(3),\n",
    "  weight_ratio_n = numeric(3),\n",
    "  beta_iv = numeric(3),\n",
    "  se_iv = numeric(3),\n",
    "  p_iv = numeric(3),\n",
    "  w1_iv = numeric(3),\n",
    "  w2_iv = numeric(3),\n",
    "  weight_ratio_iv = numeric(3)\n",
    ")\n",
    "\n",
    "for (i in 1:nrow(results)) {\n",
    "  # Sample size weighting\n",
    "  ss_result <- sample_size_meta(\n",
    "    results$beta1[i], results$n1[i],\n",
    "    results$beta2[i], results$n2[i]\n",
    "  )\n",
    "  \n",
    "  # Store sample size weighting results\n",
    "  results$beta_n[i] <- ss_result$beta\n",
    "  results$w1_n[i] <- ss_result$w1\n",
    "  results$w2_n[i] <- ss_result$w2\n",
    "  results$weight_ratio_n[i] <- ss_result$weight_ratio\n",
    "  \n",
    "  # Inverse variance weighting\n",
    "  iv_result <- inverse_variance_meta(\n",
    "    results$beta1[i], results$se1[i],\n",
    "    results$beta2[i], results$se2[i]\n",
    "  )\n",
    "  \n",
    "  # Store inverse variance weighting results\n",
    "  results$beta_iv[i] <- iv_result$beta\n",
    "  results$se_iv[i] <- iv_result$se\n",
    "  results$p_iv[i] <- iv_result$p\n",
    "  results$w1_iv[i] <- iv_result$w1\n",
    "  results$w2_iv[i] <- iv_result$w2\n",
    "  results$weight_ratio_iv[i] <- iv_result$weight_ratio\n",
    "}"
   ]
  },
  {
   "cell_type": "code",
   "execution_count": 51,
   "id": "84ecaaae",
   "metadata": {
    "vscode": {
     "languageId": "r"
    }
   },
   "outputs": [
    {
     "data": {
      "text/html": [
       "<table class=\"dataframe\">\n",
       "<caption>A data.frame: 3 x 19</caption>\n",
       "<thead>\n",
       "\t<tr><th scope=col>variant</th><th scope=col>beta1</th><th scope=col>se1</th><th scope=col>p1</th><th scope=col>n1</th><th scope=col>beta2</th><th scope=col>se2</th><th scope=col>p2</th><th scope=col>n2</th><th scope=col>beta_n</th><th scope=col>w1_n</th><th scope=col>w2_n</th><th scope=col>weight_ratio_n</th><th scope=col>beta_iv</th><th scope=col>se_iv</th><th scope=col>p_iv</th><th scope=col>w1_iv</th><th scope=col>w2_iv</th><th scope=col>weight_ratio_iv</th></tr>\n",
       "\t<tr><th scope=col>&lt;chr&gt;</th><th scope=col>&lt;dbl&gt;</th><th scope=col>&lt;dbl&gt;</th><th scope=col>&lt;dbl&gt;</th><th scope=col>&lt;dbl&gt;</th><th scope=col>&lt;dbl&gt;</th><th scope=col>&lt;dbl&gt;</th><th scope=col>&lt;dbl&gt;</th><th scope=col>&lt;dbl&gt;</th><th scope=col>&lt;dbl&gt;</th><th scope=col>&lt;dbl&gt;</th><th scope=col>&lt;dbl&gt;</th><th scope=col>&lt;dbl&gt;</th><th scope=col>&lt;dbl&gt;</th><th scope=col>&lt;dbl&gt;</th><th scope=col>&lt;dbl&gt;</th><th scope=col>&lt;dbl&gt;</th><th scope=col>&lt;dbl&gt;</th><th scope=col>&lt;dbl&gt;</th></tr>\n",
       "</thead>\n",
       "<tbody>\n",
       "\t<tr><td>rs1</td><td> 0.18</td><td>0.035</td><td>2.5e-07</td><td>8000</td><td> 0.15</td><td>0.042</td><td>3.6e-04</td><td>5500</td><td> 0.16777778</td><td>8000</td><td>5500</td><td>0.6875</td><td> 0.16770492</td><td>0.02688774</td><td>4.454007e-10</td><td> 816.3265</td><td>566.8934</td><td>0.6944444</td></tr>\n",
       "\t<tr><td>rs2</td><td>-0.09</td><td>0.028</td><td>1.3e-03</td><td>8000</td><td>-0.03</td><td>0.033</td><td>4.4e-01</td><td>5500</td><td>-0.06555556</td><td>8000</td><td>5500</td><td>0.6875</td><td>-0.06488521</td><td>0.02135026</td><td>2.372990e-03</td><td>1275.5102</td><td>918.2736</td><td>0.7199265</td></tr>\n",
       "\t<tr><td>rs3</td><td> 0.25</td><td>0.055</td><td>5.4e-06</td><td>8000</td><td> 0.29</td><td>0.063</td><td>4.2e-06</td><td>5500</td><td> 0.26629630</td><td>8000</td><td>5500</td><td>0.6875</td><td> 0.26730054</td><td>0.04143243</td><td>1.107624e-10</td><td> 330.5785</td><td>251.9526</td><td>0.7621567</td></tr>\n",
       "</tbody>\n",
       "</table>\n"
      ],
      "text/latex": [
       "A data.frame: 3 x 19\n",
       "\\begin{tabular}{lllllllllllllllllll}\n",
       " variant & beta1 & se1 & p1 & n1 & beta2 & se2 & p2 & n2 & beta\\_n & w1\\_n & w2\\_n & weight\\_ratio\\_n & beta\\_iv & se\\_iv & p\\_iv & w1\\_iv & w2\\_iv & weight\\_ratio\\_iv\\\\\n",
       " <chr> & <dbl> & <dbl> & <dbl> & <dbl> & <dbl> & <dbl> & <dbl> & <dbl> & <dbl> & <dbl> & <dbl> & <dbl> & <dbl> & <dbl> & <dbl> & <dbl> & <dbl> & <dbl>\\\\\n",
       "\\hline\n",
       "\t rs1 &  0.18 & 0.035 & 2.5e-07 & 8000 &  0.15 & 0.042 & 3.6e-04 & 5500 &  0.16777778 & 8000 & 5500 & 0.6875 &  0.16770492 & 0.02688774 & 4.454007e-10 &  816.3265 & 566.8934 & 0.6944444\\\\\n",
       "\t rs2 & -0.09 & 0.028 & 1.3e-03 & 8000 & -0.03 & 0.033 & 4.4e-01 & 5500 & -0.06555556 & 8000 & 5500 & 0.6875 & -0.06488521 & 0.02135026 & 2.372990e-03 & 1275.5102 & 918.2736 & 0.7199265\\\\\n",
       "\t rs3 &  0.25 & 0.055 & 5.4e-06 & 8000 &  0.29 & 0.063 & 4.2e-06 & 5500 &  0.26629630 & 8000 & 5500 & 0.6875 &  0.26730054 & 0.04143243 & 1.107624e-10 &  330.5785 & 251.9526 & 0.7621567\\\\\n",
       "\\end{tabular}\n"
      ],
      "text/markdown": [
       "\n",
       "A data.frame: 3 x 19\n",
       "\n",
       "| variant &lt;chr&gt; | beta1 &lt;dbl&gt; | se1 &lt;dbl&gt; | p1 &lt;dbl&gt; | n1 &lt;dbl&gt; | beta2 &lt;dbl&gt; | se2 &lt;dbl&gt; | p2 &lt;dbl&gt; | n2 &lt;dbl&gt; | beta_n &lt;dbl&gt; | w1_n &lt;dbl&gt; | w2_n &lt;dbl&gt; | weight_ratio_n &lt;dbl&gt; | beta_iv &lt;dbl&gt; | se_iv &lt;dbl&gt; | p_iv &lt;dbl&gt; | w1_iv &lt;dbl&gt; | w2_iv &lt;dbl&gt; | weight_ratio_iv &lt;dbl&gt; |\n",
       "|---|---|---|---|---|---|---|---|---|---|---|---|---|---|---|---|---|---|---|\n",
       "| rs1 |  0.18 | 0.035 | 2.5e-07 | 8000 |  0.15 | 0.042 | 3.6e-04 | 5500 |  0.16777778 | 8000 | 5500 | 0.6875 |  0.16770492 | 0.02688774 | 4.454007e-10 |  816.3265 | 566.8934 | 0.6944444 |\n",
       "| rs2 | -0.09 | 0.028 | 1.3e-03 | 8000 | -0.03 | 0.033 | 4.4e-01 | 5500 | -0.06555556 | 8000 | 5500 | 0.6875 | -0.06488521 | 0.02135026 | 2.372990e-03 | 1275.5102 | 918.2736 | 0.7199265 |\n",
       "| rs3 |  0.25 | 0.055 | 5.4e-06 | 8000 |  0.29 | 0.063 | 4.2e-06 | 5500 |  0.26629630 | 8000 | 5500 | 0.6875 |  0.26730054 | 0.04143243 | 1.107624e-10 |  330.5785 | 251.9526 | 0.7621567 |\n",
       "\n"
      ],
      "text/plain": [
       "  variant beta1 se1   p1      n1   beta2 se2   p2      n2   beta_n      w1_n\n",
       "1 rs1      0.18 0.035 2.5e-07 8000  0.15 0.042 3.6e-04 5500  0.16777778 8000\n",
       "2 rs2     -0.09 0.028 1.3e-03 8000 -0.03 0.033 4.4e-01 5500 -0.06555556 8000\n",
       "3 rs3      0.25 0.055 5.4e-06 8000  0.29 0.063 4.2e-06 5500  0.26629630 8000\n",
       "  w2_n weight_ratio_n beta_iv     se_iv      p_iv         w1_iv     w2_iv   \n",
       "1 5500 0.6875          0.16770492 0.02688774 4.454007e-10  816.3265 566.8934\n",
       "2 5500 0.6875         -0.06488521 0.02135026 2.372990e-03 1275.5102 918.2736\n",
       "3 5500 0.6875          0.26730054 0.04143243 1.107624e-10  330.5785 251.9526\n",
       "  weight_ratio_iv\n",
       "1 0.6944444      \n",
       "2 0.7199265      \n",
       "3 0.7621567      "
      ]
     },
     "metadata": {},
     "output_type": "display_data"
    }
   ],
   "source": [
    "results"
   ]
  },
  {
   "cell_type": "code",
   "execution_count": 52,
   "id": "62f9178d",
   "metadata": {
    "vscode": {
     "languageId": "r"
    }
   },
   "outputs": [
    {
     "data": {
      "image/png": "[encoded data removed]",
      "text/plain": [
       "Plot with title \"Variant: rs3\""
      ]
     },
     "metadata": {
      "image/png": {
       "height": 420,
       "width": 420
      }
     },
     "output_type": "display_data"
    }
   ],
   "source": [
    "# Add visualization to compare individual cohort results with meta-analysis results\n",
    "# Set up the plotting area with multiple panels\n",
    "par(mfrow = c(1, 3), mar = c(4, 4, 2, 1))\n",
    "\n",
    "# For each variant, create a forest plot\n",
    "for (i in 1:nrow(results)) {\n",
    "  variant_name <- results$variant[i]\n",
    "  \n",
    "  # Prepare data for plotting\n",
    "  y_positions <- c(3, 2, 1)  # Positions for Cohort 1, Cohort 2, Meta-analysis\n",
    "  effect_sizes <- c(results$beta1[i], results$beta2[i], results$beta_iv[i])\n",
    "  lower_ci <- c(\n",
    "    results$beta1[i] - 1.96 * results$se1[i],\n",
    "    results$beta2[i] - 1.96 * results$se2[i],\n",
    "    results$beta_iv[i] - 1.96 * results$se_iv[i]\n",
    "  )\n",
    "  upper_ci <- c(\n",
    "    results$beta1[i] + 1.96 * results$se1[i],\n",
    "    results$beta2[i] + 1.96 * results$se2[i],\n",
    "    results$beta_iv[i] + 1.96 * results$se_iv[i]\n",
    "  )\n",
    "  \n",
    "  # Set up empty plot with appropriate range\n",
    "  x_range <- range(c(lower_ci, upper_ci))\n",
    "  x_padding <- 0.1 * (x_range[2] - x_range[1])\n",
    "  x_range <- x_range + c(-x_padding, x_padding)\n",
    "  \n",
    "  plot(\n",
    "    NULL, \n",
    "    xlim = x_range, \n",
    "    ylim = c(0.5, 3.5), \n",
    "    yaxt = \"n\", \n",
    "    ylab = \"\", \n",
    "    xlab = \"Effect Size (Beta)\", \n",
    "    main = paste(\"Variant:\", variant_name)\n",
    "  )\n",
    "  \n",
    "  # Add horizontal reference line at x=0\n",
    "  abline(v = 0, lty = 2, col = \"gray\")\n",
    "  \n",
    "  # Add the effect sizes and confidence intervals\n",
    "  for (j in 1:3) {\n",
    "    # Point estimate\n",
    "    points(effect_sizes[j], y_positions[j], pch = 15, cex = 1.5, \n",
    "           col = ifelse(j == 3, \"red\", \"blue\"))\n",
    "    \n",
    "    # Confidence interval\n",
    "    lines(\n",
    "      c(lower_ci[j], upper_ci[j]), \n",
    "      c(y_positions[j], y_positions[j]), \n",
    "      lwd = 2, \n",
    "      col = ifelse(j == 3, \"red\", \"blue\")\n",
    "    )\n",
    "  }\n",
    "  \n",
    "  # Add y-axis labels\n",
    "  axis(\n",
    "    2, \n",
    "    at = y_positions, \n",
    "    labels = c(\"Cohort 1\", \"Cohort 2\", \"Meta-analysis\"), \n",
    "    las = 1\n",
    "  )\n",
    "  \n",
    "  # Add legend for p-values at the bottom\n",
    "  if (i == 1) {  # Only for the first plot\n",
    "    legend_text <- c(\n",
    "      paste(\"Cohort 1: p =\", format(results$p1[i], digits = 2)),\n",
    "      paste(\"Cohort 2: p =\", format(results$p2[i], digits = 2)),\n",
    "      paste(\"Meta: p =\", format(results$p_iv[i], digits = 2))\n",
    "    )\n",
    "  } else {\n",
    "    legend_text <- c(\n",
    "      paste(\"p =\", format(results$p1[i], digits = 2)),\n",
    "      paste(\"p =\", format(results$p2[i], digits = 2)),\n",
    "      paste(\"p =\", format(results$p_iv[i], digits = 2))\n",
    "    )\n",
    "  }\n",
    "  \n",
    "  legend(\n",
    "    \"bottomleft\", \n",
    "    legend = legend_text,\n",
    "    text.col = c(\"blue\", \"blue\", \"red\"),\n",
    "    bty = \"n\", \n",
    "    cex = 0.8\n",
    "  )\n",
    "}\n",
    "\n",
    "# Reset plotting parameters\n"
   ]
  },
  {
   "cell_type": "code",
   "execution_count": null,
   "id": "a42fcbc6",
   "metadata": {
    "vscode": {
     "languageId": "r"
    }
   },
   "outputs": [
    {
     "name": "stdout",
     "output_type": "stream",
     "text": [
      "\n",
      "Summary of Meta-Analysis Results:\n",
      "  variant      beta_n     beta_iv         p_iv\n",
      "1     rs1  0.16777778  0.16770492 4.454007e-10\n",
      "2     rs2 -0.06555556 -0.06488521 2.372990e-03\n",
      "3     rs3  0.26629630  0.26730054 1.107624e-10\n"
     ]
    },
    {
     "data": {
      "image/png": "[encoded data removed]",
      "text/plain": [
       "Plot with title \"Weight Ratio (Cohort2/Cohort1)\""
      ]
     },
     "metadata": {
      "image/png": {
       "height": 420,
       "width": 420
      }
     },
     "output_type": "display_data"
    }
   ],
   "source": [
    "# Create a summary table to visualize weight ratios\n",
    "barplot(\n",
    "  rbind(results$weight_ratio_n, results$weight_ratio_iv),\n",
    "  beside = TRUE,\n",
    "  names.arg = results$variant,\n",
    "  col = c(\"blue\", \"red\"),\n",
    "  main = \"Weight Ratio (Cohort2/Cohort1)\",\n",
    "  ylab = \"Weight Ratio\",\n",
    "  ylim = c(0, max(c(results$weight_ratio_n, results$weight_ratio_iv)) * 1.2)\n",
    ")\n",
    "\n",
    "# Add a reference line at ratio = 1 (equal weights)\n",
    "abline(h = 1, lty = 2)\n",
    "\n",
    "# Add legend\n",
    "legend(\n",
    "  \"topright\",\n",
    "  legend = c(\"Sample-size weighting\", \"Inverse-variance weighting\"),\n",
    "  fill = c(\"blue\", \"red\"),\n",
    "  bty = \"n\"\n",
    ")\n",
    "\n",
    "# Print a summary of the meta-analysis results\n",
    "cat(\"\\nSummary of Meta-Analysis Results:\\n\")\n",
    "print(results[, c(\"variant\", \"beta_n\", \"beta_iv\", \"p_iv\")])"
   ]
  },
  {
   "cell_type": "markdown",
   "id": "50e434c7",
   "metadata": {},
   "source": [
    "# Supplementary"
   ]
  },
  {
   "cell_type": "markdown",
   "id": "d678fa4e-fd44-47e4-a85a-e945eaa162d3",
   "metadata": {},
   "source": [
    "## Generate and Perform GWAS for Study 1\n",
    "\n",
    "In this section, we generate the genotype matrix for Study 1, which consists of **100 individuals and 3 variants (SNPs)**. Each individual's genotype is represented by values 0, 1, or 2. The matrix is then standardized, meaning each column (representing a variant) will have a mean of 0 and variance of 1. After that, we simulate the response variable and perform the GWAS analysis by **running OLS regression for each SNP individually**.\n",
    "\n",
    "Steps:\n",
    "- Create a random genotype matrix for 100 individuals and 3 variants.\n",
    "- Standardize the genotype matrix.\n",
    "- Generate the response variable for 100 individuals.\n",
    "- Perform OLS regression for each SNP to calculate the estimated effect sizes and standard errors."
   ]
  },
  {
   "cell_type": "code",
   "execution_count": null,
   "id": "bcfb9ff4-feb5-4153-a3a4-bd19f0d7d7c3",
   "metadata": {
    "tags": [],
    "vscode": {
     "languageId": "r"
    }
   },
   "outputs": [],
   "source": [
    "# ---- Study 1 (100 individuals) ----\n",
    "N1 <- 100  # Number of individuals in study 1\n",
    "M <- 3     # Number of SNPs (variants)\n",
    "\n",
    "# Create a random genotype matrix (0, 1, 2 values for each SNP)\n",
    "X_raw1 <- matrix(sample(0:2, N1 * M, replace = TRUE), nrow = N1, ncol = M)\n",
    "\n",
    "# Adding row and column names for Study 1\n",
    "rownames(X_raw1) <- paste(\"Individual\", 1:N1)\n",
    "colnames(X_raw1) <- paste(\"Variant\", 1:M)\n",
    "\n",
    "# Standardize genotype matrix for Study 1\n",
    "X1 = scale(X_raw1, scale=TRUE)\n",
    "\n",
    "# Simulate phenotype with the true effect size on the causal SNP (SNP 2)\n",
    "y1 <- true_effect_size * X1[, true_causal_variant] + rnorm(N1, mean = 0, sd = 1)\n",
    "\n",
    "# Perform GWAS-style analysis for Study 1: Test each SNP independently using OLS\n",
    "p_values1 <- numeric(M)  # Store p-values for Study 1\n",
    "betas1 <- numeric(M)     # Store estimated effect sizes for Study 1\n",
    "se1 <- numeric(M)        # Store standard errors for Study 1\n",
    "\n",
    "for (j in 1:M) {\n",
    "  SNP <- X1[, j]  # Extract genotype for SNP j\n",
    "  model <- lm(y1 ~ SNP)  # OLS regression: Trait ~ SNP\n",
    "  summary_model <- summary(model)\n",
    "  \n",
    "  # Store p-value, effect size (coefficient), and standard error\n",
    "  p_values1[j] <- summary_model$coefficients[2, 4]  # p-value for SNP effect\n",
    "  betas1[j] <- summary_model$coefficients[2, 1]     # Estimated beta coefficient\n",
    "  se1[j] <- summary_model$coefficients[2, 2]        # Standard error of beta\n",
    "}\n",
    "\n",
    "# Create results table for Study 1\n",
    "gwas_results1 <- data.frame(Variant = colnames(X1), Beta = betas1, SE = se1, P_Value = p_values1)\n",
    "gwas_results1"
   ]
  },
  {
   "cell_type": "markdown",
   "id": "53f22769-c343-44bd-81f9-b105128aaea1",
   "metadata": {},
   "source": [
    "## Generate and Perform GWAS for Study 2\n",
    "In this section, we generate the genotype matrix for Study 2, which consists of **500 individuals and 3 variants (SNPs)**. Similar to Study 1, the genotype matrix is standardized. The response variable is also simulated, and we perform the GWAS analysis by running OLS regression for each SNP independently to obtain the effect sizes and standard errors.\n",
    "\n",
    "The steps are the same as Study 1."
   ]
  },
  {
   "cell_type": "code",
   "execution_count": null,
   "id": "ed6cb766-d624-4396-9755-3330746270b1",
   "metadata": {
    "tags": [],
    "vscode": {
     "languageId": "r"
    }
   },
   "outputs": [],
   "source": [
    "# ---- Study 2 (500 individuals) ----\n",
    "N2 <- 500  # Number of individuals in study 2\n",
    "\n",
    "# Create a random genotype matrix (0, 1, 2 values for each SNP)\n",
    "X_raw2 <- matrix(sample(0:2, N2 * M, replace = TRUE), nrow = N2, ncol = M)\n",
    "\n",
    "# Adding row and column names for Study 2\n",
    "rownames(X_raw2) <- paste(\"Individual\", 1:N2)\n",
    "colnames(X_raw2) <- paste(\"Variant\", 1:M)\n",
    "\n",
    "# Standardize genotype matrix for Study 2\n",
    "X2 = scale(X_raw2, scale=TRUE)\n",
    "\n",
    "# Simulate phenotype with the true effect size on the causal SNP (SNP 2)\n",
    "y2 <- true_effect_size * X2[, true_causal_variant] + rnorm(N2, mean = 0, sd = 1)\n",
    "\n",
    "# Perform GWAS-style analysis for Study 2: Test each SNP independently using OLS\n",
    "p_values2 <- numeric(M)  # Store p-values for Study 2\n",
    "betas2 <- numeric(M)     # Store estimated effect sizes for Study 2\n",
    "se2 <- numeric(M)        # Store standard errors for Study 2\n",
    "\n",
    "for (j in 1:M) {\n",
    "  SNP <- X2[, j]  # Extract genotype for SNP j\n",
    "  model <- lm(y2 ~ SNP)  # OLS regression: Trait ~ SNP\n",
    "  summary_model <- summary(model)\n",
    "  \n",
    "  # Store p-value, effect size (coefficient), and standard error\n",
    "  p_values2[j] <- summary_model$coefficients[2, 4]  # p-value for SNP effect\n",
    "  betas2[j] <- summary_model$coefficients[2, 1]     # Estimated beta coefficient\n",
    "  se2[j] <- summary_model$coefficients[2, 2]        # Standard error of beta\n",
    "}\n",
    "\n",
    "# Create results table for Study 2\n",
    "gwas_results2 <- data.frame(Variant = colnames(X2), Beta = betas2, SE = se2, P_Value = p_values2)\n",
    "gwas_results2"
   ]
  },
  {
   "cell_type": "markdown",
   "id": "ea53a43a-1628-4b28-ae7f-82114f90220a",
   "metadata": {},
   "source": [
    "## Meta-Analysis\n",
    "\n",
    "After performing the GWAS in both Study 1 and Study 2, we conduct a **meta-analysis** to combine the results from both studies and obtain a more robust estimate of the true effect size. \n",
    "\n",
    "The meta-analysis is performed using **inverse variance weighting**, where the effect size estimates from each study are weighted by the inverse of their squared standard errors. This ensures that studies with more precise estimates (smaller standard errors) contribute more to the combined estimate. The weighted average of the effect sizes from both studies is calculated, providing a summary effect size that incorporates data from both studies. This meta-analysis helps to obtain a more accurate and consistent estimate of the effect of each SNP on the trait across different sample sizes."
   ]
  },
  {
   "cell_type": "code",
   "execution_count": null,
   "id": "1397f6cc-25a5-4ee3-94c3-33e2220f3da9",
   "metadata": {
    "tags": [],
    "vscode": {
     "languageId": "r"
    }
   },
   "outputs": [],
   "source": [
    "# ---- Meta-Analysis (Inverse Variance Weighting) ----\n",
    "\n",
    "# Calculate weights (inverse of variance)\n",
    "w1 <- 1 / (se1^2)  # Weights for Study 1\n",
    "w2 <- 1 / (se2^2)  # Weights for Study 2\n",
    "\n",
    "# Calculate combined effect size using inverse variance weighting\n",
    "combined_betas <- (w1 * betas1 + w2 * betas2) / (w1 + w2)\n",
    "\n",
    "# Calculate variance of the combined effect size\n",
    "combined_variance <- 1 / (w1 + w2)\n",
    "combined_se <- sqrt(combined_variance)\n",
    "\n",
    "# Calculate p-values for each study's effect size\n",
    "p_value_study1 <- 2 * (1 - pnorm(abs(betas1 / se1)))  # P-value for Study 1\n",
    "p_value_study2 <- 2 * (1 - pnorm(abs(betas2 / se2)))  # P-value for Study 2\n",
    "\n",
    "# Calculate p-value for the combined effect size\n",
    "p_value_combined <- 2 * (1 - pnorm(abs(combined_betas / combined_se)))\n",
    "\n",
    "# Combine the results\n",
    "meta_analysis_results <- data.frame(\n",
    "  Variant = colnames(X1),\n",
    "  Beta_Study1 = betas1, SE_Study1 = se1, P_Value_Study1 = p_value_study1,\n",
    "  Beta_Study2 = betas2, SE_Study2 = se2, P_Value_Study2 = p_value_study2,\n",
    "  Combined_Beta = combined_betas, Combined_SE = combined_se,\n",
    "  Combined_P_Value = p_value_combined\n",
    ")\n",
    "\n",
    "print(\"Meta-Analysis Results (Inverse Variance Weighting):\")\n",
    "meta_analysis_results\n"
   ]
  },
  {
   "cell_type": "markdown",
   "id": "96871c93-ff4d-4c2e-9939-32bd8c043f2c",
   "metadata": {
    "tags": []
   },
   "source": [
    "The fixed effect model assumes that the true effect size of each variant is the same across all studies. For example, in Variant 2, the estimated effect sizes from both studies (0.4060 from Study 1 and 0.4289 from Study 2) are very similar, suggesting that the true effect size may be constant across studies. By using a fixed effect model, we can combine these estimates into a single, more precise effect size (0.4256 for Variant 2), taking into account the study precisions through inverse variance weighting.\n",
    "\n",
    "Meta-analysis is essential here because it allows us to combine results from multiple studies, adjusting for differences in sample sizes and precision. Study 2 has more individuals and therefore a more precise estimate of the effect size, so it contributes more to the combined estimate. \n",
    "\n",
    "The meta-analysis ensures that the combined effect size is not only a weighted average of the studies' estimates but also accounts for the variability between studies, offering a more reliable and accurate estimate of the true effect size."
   ]
  },
  {
   "cell_type": "markdown",
   "id": "d365a858",
   "metadata": {},
   "source": [
    "> slide 146 in Hailiang Huang's slides\n",
    ">\n",
    "> slide 244-246 from GW"
   ]
  },
  {
   "cell_type": "markdown",
   "id": "8ccfb3a4",
   "metadata": {},
   "source": [
    "When we move from one study to multiple studies (e.g., in a meta-analysis), you may want to test whether a particular SNP has the same effect across studies. This is where the idea of sharing a common effect size becomes relevant.\n",
    "\n",
    "In a meta-analysis of multiple studies, we often assume that the true effect size for each SNP is **the same across all studies** (but possibly with different observed effect sizes due to different sample sizes, populations, etc.). The meta-analysis combines results from multiple studies, and the fixed effect model in this context would assume that the SNP's effect size is consistent across all the studies being analyzed.\n",
    "\n",
    "**[FIXME]** should we introduce the concept of meta-analysis first before discussing about FEM and REM?\n",
    "\n",
    "---\n",
    "\n",
    "\n",
    "\n",
    "In a fixed effect meta-analysis, we assume that the observed effect size $\\hat{\\beta}_k$ from study $k$ follows a normal distribution:\n",
    "\n",
    "$$\n",
    "\\hat{\\beta}_k \\sim N(\\beta_j, s_k^2)\n",
    "$$\n",
    "\n",
    "Where:\n",
    "- $\\beta_j$ is the **true effect size** for SNP $j$, assumed to be the same across all studies.\n",
    "- $s_k^2$ is the **variance** of the observed effect size $\\hat{\\beta}_k$ for study $k$, reflecting the precision of the estimate in study $k$.\n"
   ]
  },
  {
   "cell_type": "markdown",
   "id": "8ad42038",
   "metadata": {},
   "source": [
    "\n",
    "## Combined Estimate of Effect Size\n",
    "\n",
    "   The goal of the meta-analysis is to estimate the true effect size $\\beta_j$ from the observed effect sizes $\\hat{\\beta}_k$ across all studies. We do this by calculating a **weighted average** of the observed effect sizes, where the weights are proportional to the precision of each estimate (i.e., inversely proportional to the variance $s_k^2$):\n",
    "\n",
    "   $$\n",
    "   \\hat{\\beta}_j = \\frac{\\sum_{k=1}^{K} w_k \\hat{\\beta}_{k}}{\\sum_{k=1}^{K} w_k}\n",
    "   $$\n",
    "\n",
    "   Where:\n",
    "   - $w_k = \\frac{1}{s_k^2}$ is the weight for study $k$.\n",
    "\n",
    "\n"
   ]
  },
  {
   "cell_type": "markdown",
   "id": "8a432849",
   "metadata": {},
   "source": [
    "## Maximum Likelihood Estimation (MLE) of the Summary Effect\n",
    "\n",
    "   The MLE for the summary effect size $\\beta_j$ under the fixed effect model is equivalent to the **inverse variance weighting**. This is because we assume that the observed effect sizes $\\hat{\\beta}_k$ are normally distributed with mean $\\beta_j$ and variance $s_k^2$. The likelihood function for the fixed effect model is maximized by weighting the observed effect sizes by the inverse of their variances:\n",
    "\n",
    "   $$\n",
    "   \\hat{\\beta}_j = \\frac{\\sum_{k=1}^{K} \\frac{\\hat{\\beta}_k}{s_k^2}}{\\sum_{k=1}^{K} \\frac{1}{s_k^2}}\n",
    "   $$\n",
    "\n",
    "   This is the **inverse variance weighting** formula used to combine the effect sizes from different studies in a meta-analysis.\n"
   ]
  },
  {
   "cell_type": "markdown",
   "id": "38d1da02",
   "metadata": {},
   "source": [
    "\n",
    "## Heterogeneity Assessment\n",
    "\n",
    "Heterogeneity assessment is a crucial component of meta-analysis because it evaluates whether the observed effect sizes across different studies are more variable than would be expected by chance alone. This helps us understand if we're truly measuring the same effect across studies or if there are underlying differences. Below are several ways to measure it.\n",
    "\n",
    "### Cochran's Q Statistic:\n",
    "$$Q = \\sum_{i=1}^{k} w_i(\\hat{\\beta}_i - \\hat{\\beta})^2$$\n",
    "\n",
    "This statistic follows a $\\chi^2$ distribution with $k-1$ degrees of freedom under the null hypothesis of homogeneity.\n",
    "\n",
    "### $I^2$ Statistic (Percentage of Variation Due to Heterogeneity)\n",
    "$$I^2 = \\max\\left\\{0, \\frac{Q-(k-1)}{Q} \\times 100\\%\\right\\}$$\n",
    "\n",
    "- Interpretation:\n",
    "  - 0-25%: Might not be important\n",
    "  - 25-50%: Moderate heterogeneity\n",
    "  - 50-75%: Substantial heterogeneity\n",
    "  - 75-100%: Considerable heterogeneity\n"
   ]
  },
  {
   "cell_type": "code",
   "execution_count": null,
   "id": "1833fab7-86ed-461a-bdea-539237b58477",
   "metadata": {
    "vscode": {
     "languageId": "r"
    }
   },
   "outputs": [],
   "source": []
  }
 ],
 "metadata": {
  "kernelspec": {
   "display_name": "R",
   "language": "R",
   "name": "ir"
  },
  "language_info": {
   "codemirror_mode": "r",
   "file_extension": ".r",
   "mimetype": "text/x-r-source",
   "name": "R",
   "pygments_lexer": "r",
   "version": "4.3.3"
  }
 },
 "nbformat": 4,
 "nbformat_minor": 5
}
