{
 "cells": [
  {
   "cell_type": "markdown",
   "id": "e2a38765",
   "metadata": {},
   "source": [
    "# Random Effects Meta-Analysis\n",
    "\n",
    "Random-effects meta-analysis accounts for variability in effect sizes across studies by assuming each study estimates a different effect drawn from a shared distribution, thus modeling both within-study error and between-study heterogeneity."
   ]
  },
  {
   "cell_type": "markdown",
   "id": "ef4b1c8b",
   "metadata": {},
   "source": [
    "# Graphical Summary"
   ]
  },
  {
   "cell_type": "markdown",
   "id": "64810e5f",
   "metadata": {},
   "source": [
    "![Random Effect Meta-Analysis](./graphical_summary/Slide18.png)"
   ]
  },
  {
   "cell_type": "markdown",
   "id": "aee54301",
   "metadata": {},
   "source": [
    "# Key Formula\n",
    "\n",
    "In meta-analysis, the weighted mean effect size for a fixed-effects model is calculated as:\n",
    "\n",
    "$$\\hat{\\beta} = \\frac{\\sum_{i=1}^{k} w_i \\hat{\\beta}_i}{\\sum_{i=1}^{k} w_i}$$\n",
    "\n",
    "Where:\n",
    "- $\\hat{\\beta}$ is the combined effect estimate across all studies\n",
    "- $\\hat{\\beta}_i$ is the effect estimate from study $i$\n",
    "- $w_i$ is the weight assigned to study $i$\n",
    "- $k$ is the number of studies"
   ]
  },
  {
   "cell_type": "markdown",
   "id": "34f145db",
   "metadata": {},
   "source": [
    "# Technical Details\n",
    "\n",
    "## Multiple Fixed-Effects Models\n",
    "\n",
    "- Weights for Fixed-Effects\n",
    "    $$w_i = \\frac{1}{v_i}$$\n",
    "    Where $v_i$ is the within-study variance for study $i$\n",
    "\n",
    "- Variance of the Combined Estimate\n",
    "    $$Var(\\hat{\\beta}) = \\frac{1}{\\sum_{i=1}^{k} w_i}$$\n",
    "\n",
    "- Standard Error of the Combined Estimate\n",
    "    $$SE(\\hat{\\beta}) = \\sqrt{Var(\\hat{\\beta})} = \\sqrt{\\frac{1}{\\sum_{i=1}^{k} w_i}}$$\n",
    "\n",
    "## Multiple Random-Effects Models\n",
    "\n",
    "- Weighted Mean Effect Size\n",
    "$$\\hat{\\beta}^* = \\frac{\\sum_{i=1}^{k} w_i^* \\hat{\\beta}_i}{\\sum_{i=1}^{k} w_i^*}$$\n",
    "\n",
    "- Weights for Random-Effects\n",
    "    $$w_i^* = \\frac{1}{v_i + \\tau^2}$$\n",
    "\n",
    "    Where $\\tau^2$ is the between-study variance\n",
    "\n",
    "## Meta-Analysis in Genetic Studies\n",
    "\n",
    "In genetic studies, meta-analysis often combines results from genome-wide association studies (GWAS) across different cohorts with weights either from the sample size or the inverse variance:\n",
    "\n",
    "- Sample Size Weighting\n",
    "    $$w_i = \\sqrt{N_i}$$\n",
    "\n",
    "    Where $N_i$ is the sample size of study $i$\n",
    "\n",
    "- Inverse Variance Weighting\n",
    "    $$w_i = \\frac{1}{SE(\\hat{\\beta}_i)^2}$$\n",
    "\n",
    "    Where $SE(\\hat{\\beta}_i)$ is the standard error of the effect size estimate in study $i$"
   ]
  },
  {
   "cell_type": "markdown",
   "id": "58d544ce-922b-4a03-b765-9a1972fd1859",
   "metadata": {},
   "source": [
    "# Example"
   ]
  },
  {
   "cell_type": "markdown",
   "id": "2c408a76",
   "metadata": {},
   "source": [
    "This example demonstrates a meta-analysis of genetic variants across two European cohorts. We'll analyze 3 genetic variants (SNPs) that have been genotyped in both cohorts and combine their effects using fixed-effects meta-analysis.\n",
    "\n",
    "We first generate the summary statistics for 3 variants from two independent European cohorts with different sample sizes (N=8000 and N=5500), and assuming that they are from the same genetic ancestry so they can be meta-analyzed.\n",
    "\n",
    "Then we perform fixed-effects meta-analysis combining results using:\n",
    "- Sample size weighting (weight proportional to $\\frac{1}{\\sqrt{N}}$)\n",
    "- Inverse variance weighting (weight = $\\frac{1}{\\text{SE}^2}$)\n",
    "\n",
    "Lastly we plot the effect size and p-values for each variant and compare the results from separate cohorts and meta-analysis results. We also compare the variance based on the sample size and inverse variance."
   ]
  },
  {
   "cell_type": "code",
   "execution_count": 11,
   "id": "77c522f0",
   "metadata": {
    "vscode": {
     "languageId": "r"
    }
   },
   "outputs": [],
   "source": [
    "rm(list=ls())\n",
    "set.seed(123)\n",
    "\n",
    "library(ggplot2)\n",
    "library(gridExtra)\n",
    "\n",
    "# =============================================================================\n",
    "# SETUP: Generate genotype data\n",
    "# =============================================================================\n",
    "N1 <- 5000\n",
    "N2 <- 8000\n",
    "maf1 <- 0.3\n",
    "maf2 <- 0.35\n",
    "\n",
    "variant_pop1 <- rbinom(N1, 2, maf1)\n",
    "variant_pop2 <- rbinom(N2, 2, maf2)\n"
   ]
  },
  {
   "cell_type": "code",
   "execution_count": 12,
   "id": "5b4af473",
   "metadata": {
    "vscode": {
     "languageId": "r"
    }
   },
   "outputs": [
    {
     "name": "stdout",
     "output_type": "stream",
     "text": [
      "Population-specific true effects:\n",
      "beta1 = 1.261 \n",
      "beta2 = 0.912 \n",
      "Overall mu = 1 , tau^2 = 0.2 \n",
      "\n"
     ]
    }
   ],
   "source": [
    "# Meta-analysis parameters\n",
    "mu_beta <- 1.0      # Overall mean effect across populations\n",
    "tau_squared <- 0.2  # Between-study variance (heterogeneity)\n",
    "sigma <- 3          # Within-study error\n",
    "\n",
    "# Draw population-specific true effects from random distribution\n",
    "beta_pop1 <- rnorm(1, mean = mu_beta, sd = sqrt(tau_squared))\n",
    "beta_pop2 <- rnorm(1, mean = mu_beta, sd = sqrt(tau_squared))\n",
    "\n",
    "cat(\"Population-specific true effects:\\n\")\n",
    "cat(\"beta1 =\", round(beta_pop1, 3), \"\\n\")\n",
    "cat(\"beta2 =\", round(beta_pop2, 3), \"\\n\")\n",
    "cat(\"Overall mu =\", mu_beta, \", tau^2 =\", tau_squared, \"\\n\\n\")\n",
    "\n",
    "# Generate phenotypes using population-specific effects\n",
    "y_pop1 <- beta_pop1 * variant_pop1 + rnorm(N1, 0, sigma)\n",
    "y_pop2 <- beta_pop2 * variant_pop2 + rnorm(N2, 0, sigma)\n"
   ]
  },
  {
   "cell_type": "code",
   "execution_count": 13,
   "id": "df9e90eb",
   "metadata": {
    "vscode": {
     "languageId": "r"
    }
   },
   "outputs": [
    {
     "name": "stdout",
     "output_type": "stream",
     "text": [
      "=============================================================================\n",
      "SUMMARY STATISTICS FOR EACH POPULATION\n",
      "=============================================================================\n",
      "\n",
      "Population 1 (N = 5000 ):\n",
      "  Estimated effect (beta_hat1) = 1.2508 \n",
      "  Standard error (SE1)         = 0.0659 \n",
      "  Z-score                      = 18.992 \n",
      "  P-value                      = 1.99e-80 \n",
      "  True effect (beta1)          = 1.2614 \n",
      "\n",
      "Population 2 (N = 8000 ):\n",
      "  Estimated effect (beta_hat2) = 0.8503 \n",
      "  Standard error (SE2)         = 0.0503 \n",
      "  Z-score                      = 16.8898 \n",
      "  P-value                      = 5.35e-64 \n",
      "  True effect (beta2)          = 0.9117 \n",
      "\n",
      "Summary Table:\n"
     ]
    },
    {
     "data": {
      "text/html": [
       "<table class=\"dataframe\">\n",
       "<caption>A data.frame: 2 x 7</caption>\n",
       "<thead>\n",
       "\t<tr><th></th><th scope=col>Population</th><th scope=col>N</th><th scope=col>Beta_hat</th><th scope=col>SE</th><th scope=col>Z_score</th><th scope=col>P_value</th><th scope=col>True_beta</th></tr>\n",
       "\t<tr><th></th><th scope=col>&lt;chr&gt;</th><th scope=col>&lt;dbl&gt;</th><th scope=col>&lt;dbl&gt;</th><th scope=col>&lt;dbl&gt;</th><th scope=col>&lt;dbl&gt;</th><th scope=col>&lt;dbl&gt;</th><th scope=col>&lt;dbl&gt;</th></tr>\n",
       "</thead>\n",
       "<tbody>\n",
       "\t<tr><th scope=row>variant_pop1</th><td>Population 1</td><td>5000</td><td>1.2507704</td><td>0.06585777</td><td>18.99200</td><td>1.986322e-80</td><td>1.2613730</td></tr>\n",
       "\t<tr><th scope=row>variant_pop2</th><td>Population 2</td><td>8000</td><td>0.8503044</td><td>0.05034431</td><td>16.88978</td><td>5.349916e-64</td><td>0.9116629</td></tr>\n",
       "</tbody>\n",
       "</table>\n"
      ],
      "text/latex": [
       "A data.frame: 2 x 7\n",
       "\\begin{tabular}{r|lllllll}\n",
       "  & Population & N & Beta\\_hat & SE & Z\\_score & P\\_value & True\\_beta\\\\\n",
       "  & <chr> & <dbl> & <dbl> & <dbl> & <dbl> & <dbl> & <dbl>\\\\\n",
       "\\hline\n",
       "\tvariant\\_pop1 & Population 1 & 5000 & 1.2507704 & 0.06585777 & 18.99200 & 1.986322e-80 & 1.2613730\\\\\n",
       "\tvariant\\_pop2 & Population 2 & 8000 & 0.8503044 & 0.05034431 & 16.88978 & 5.349916e-64 & 0.9116629\\\\\n",
       "\\end{tabular}\n"
      ],
      "text/markdown": [
       "\n",
       "A data.frame: 2 x 7\n",
       "\n",
       "| <!--/--> | Population &lt;chr&gt; | N &lt;dbl&gt; | Beta_hat &lt;dbl&gt; | SE &lt;dbl&gt; | Z_score &lt;dbl&gt; | P_value &lt;dbl&gt; | True_beta &lt;dbl&gt; |\n",
       "|---|---|---|---|---|---|---|---|\n",
       "| variant_pop1 | Population 1 | 5000 | 1.2507704 | 0.06585777 | 18.99200 | 1.986322e-80 | 1.2613730 |\n",
       "| variant_pop2 | Population 2 | 8000 | 0.8503044 | 0.05034431 | 16.88978 | 5.349916e-64 | 0.9116629 |\n",
       "\n"
      ],
      "text/plain": [
       "             Population   N    Beta_hat  SE         Z_score  P_value     \n",
       "variant_pop1 Population 1 5000 1.2507704 0.06585777 18.99200 1.986322e-80\n",
       "variant_pop2 Population 2 8000 0.8503044 0.05034431 16.88978 5.349916e-64\n",
       "             True_beta\n",
       "variant_pop1 1.2613730\n",
       "variant_pop2 0.9116629"
      ]
     },
     "metadata": {},
     "output_type": "display_data"
    }
   ],
   "source": [
    "# =============================================================================\n",
    "# COMPUTE SUMMARY STATISTICS FOR EACH POPULATION\n",
    "# =============================================================================\n",
    "\n",
    "# Population 1 analysis\n",
    "lm_pop1 <- lm(y_pop1 ~ variant_pop1)\n",
    "beta_hat1 <- coef(lm_pop1)[\"variant_pop1\"]\n",
    "se1 <- summary(lm_pop1)$coefficients[\"variant_pop1\", \"Std. Error\"]\n",
    "z1 <- beta_hat1 / se1\n",
    "p1 <- 2 * pnorm(-abs(z1))\n",
    "\n",
    "# Population 2 analysis  \n",
    "lm_pop2 <- lm(y_pop2 ~ variant_pop2)\n",
    "beta_hat2 <- coef(lm_pop2)[\"variant_pop2\"]\n",
    "se2 <- summary(lm_pop2)$coefficients[\"variant_pop2\", \"Std. Error\"]\n",
    "z2 <- beta_hat2 / se2\n",
    "p2 <- 2 * pnorm(-abs(z2))\n",
    "\n",
    "# Display summary statistics\n",
    "cat(\"=============================================================================\\n\")\n",
    "cat(\"SUMMARY STATISTICS FOR EACH POPULATION\\n\")\n",
    "cat(\"=============================================================================\\n\\n\")\n",
    "\n",
    "cat(\"Population 1 (N =\", N1, \"):\\n\")\n",
    "cat(\"  Estimated effect (beta_hat1) =\", round(beta_hat1, 4), \"\\n\")\n",
    "cat(\"  Standard error (SE1)         =\", round(se1, 4), \"\\n\")\n",
    "cat(\"  Z-score                      =\", round(z1, 4), \"\\n\")\n",
    "cat(\"  P-value                      =\", format(p1, scientific = TRUE, digits = 3), \"\\n\")\n",
    "cat(\"  True effect (beta1)          =\", round(beta_pop1, 4), \"\\n\\n\")\n",
    "\n",
    "cat(\"Population 2 (N =\", N2, \"):\\n\")\n",
    "cat(\"  Estimated effect (beta_hat2) =\", round(beta_hat2, 4), \"\\n\")\n",
    "cat(\"  Standard error (SE2)         =\", round(se2, 4), \"\\n\")\n",
    "cat(\"  Z-score                      =\", round(z2, 4), \"\\n\")\n",
    "cat(\"  P-value                      =\", format(p2, scientific = TRUE, digits = 3), \"\\n\")\n",
    "cat(\"  True effect (beta2)          =\", round(beta_pop2, 4), \"\\n\\n\")\n",
    "\n",
    "# Create summary table\n",
    "summary_stats <- data.frame(\n",
    "  Population = c(\"Population 1\", \"Population 2\"),\n",
    "  N = c(N1, N2),\n",
    "  Beta_hat = c(beta_hat1, beta_hat2),\n",
    "  SE = c(se1, se2),\n",
    "  Z_score = c(z1, z2),\n",
    "  P_value = c(p1, p2),\n",
    "  True_beta = c(beta_pop1, beta_pop2)\n",
    ")\n",
    "\n",
    "cat(\"Summary Table:\\n\")\n",
    "summary_stats\n"
   ]
  },
  {
   "cell_type": "markdown",
   "id": "7d0c1fab",
   "metadata": {},
   "source": [
    "Then we estimate the genetic effect under the random effect model using `metagen()`, which performs the random effects meta-analysis using the DerSimonian-Laird method (`method.tau = \"DL\"`) to estimate the between-study variance $\\tau^2$. In the following example we manually compute the random effect result.\n"
   ]
  },
  {
   "cell_type": "code",
   "execution_count": 16,
   "id": "3114818d",
   "metadata": {
    "vscode": {
     "languageId": "r"
    }
   },
   "outputs": [
    {
     "name": "stdout",
     "output_type": "stream",
     "text": [
      "=============================================================================\n",
      "RANDOM EFFECTS META-ANALYSIS RESULTS\n",
      "=============================================================================\n",
      "\n",
      "Heterogeneity Assessment:\n",
      "  Q-statistic = 23.338 \n",
      "  Degrees of freedom = 1 \n",
      "  P-value for heterogeneity = 0 \n",
      "  I^2 = 95.7 % (variation due to heterogeneity)\n",
      "  tau^2 = 0.0768 (estimated between-study variance)\n",
      "\n",
      "Weight Comparison:\n",
      "  Fixed Effect Weights:  w_1 = 230.6 , w_2 = 394.5 \n",
      "  Random Effect Weights: w_1 = 12.3 , w_2 = 12.6 \n",
      "\n",
      "Meta-Analysis Results:\n",
      "  Fixed Effects:  beta = 0.998 , SE = 0.04 \n",
      "  Random Effects:  beta = 1.0483 , SE = 0.2002 \n",
      "  Z-score = 5.24 , P-value = 1.643922e-07 \n",
      "\n",
      "Comparison with True Values:\n",
      "  True overall mean (mu) = 1 \n",
      "  True between-study variance (tau^2) = 0.2 \n",
      "  Estimated tau^2 = 0.0768 \n"
     ]
    }
   ],
   "source": [
    "# =============================================================================\n",
    "# RANDOM EFFECTS META-ANALYSIS (Manual DerSimonian-Laird Method)\n",
    "# =============================================================================\n",
    "\n",
    "# Step 1: Calculate fixed effects estimate first (needed for Q statistic)\n",
    "w1_fixed <- 1 / se1^2\n",
    "w2_fixed <- 1 / se2^2\n",
    "beta_fixed <- (beta_hat1 * w1_fixed + beta_hat2 * w2_fixed) / (w1_fixed + w2_fixed)\n",
    "se_fixed <- sqrt(1 / (w1_fixed + w2_fixed))\n",
    "\n",
    "# Step 2: Calculate Q statistic for heterogeneity\n",
    "Q <- w1_fixed * (beta_hat1 - beta_fixed)^2 + w2_fixed * (beta_hat2 - beta_fixed)^2\n",
    "df <- 1  # k-1 studies (we have 2 studies)\n",
    "\n",
    "# Step 3: Estimate between-study variance τ² using DerSimonian-Laird\n",
    "C <- w1_fixed + w2_fixed - (w1_fixed^2 + w2_fixed^2)/(w1_fixed + w2_fixed)\n",
    "tau2_hat <- max(0, (Q - df) / C)\n",
    "\n",
    "# Step 4: Calculate random effects weights (incorporating τ²)\n",
    "w1_random <- 1 / (se1^2 + tau2_hat)\n",
    "w2_random <- 1 / (se2^2 + tau2_hat)\n",
    "\n",
    "# Step 5: Random effects pooled estimate\n",
    "beta_random <- (beta_hat1 * w1_random + beta_hat2 * w2_random) / (w1_random + w2_random)\n",
    "se_random <- sqrt(1 / (w1_random + w2_random))\n",
    "z_random <- beta_random / se_random\n",
    "p_random <- 2 * pnorm(-abs(z_random))\n",
    "\n",
    "# Calculate I² statistic (percentage of variation due to heterogeneity)\n",
    "I2 <- max(0, 100 * (Q - df) / Q)\n",
    "\n",
    "cat(\"=============================================================================\\n\")\n",
    "cat(\"RANDOM EFFECTS META-ANALYSIS RESULTS\\n\")\n",
    "cat(\"=============================================================================\\n\\n\")\n",
    "\n",
    "cat(\"Heterogeneity Assessment:\\n\")\n",
    "cat(\"  Q-statistic =\", round(Q, 3), \"\\n\")\n",
    "cat(\"  Degrees of freedom =\", df, \"\\n\")\n",
    "cat(\"  P-value for heterogeneity =\", round(1 - pchisq(Q, df), 4), \"\\n\")\n",
    "cat(\"  I^2 =\", round(I2, 1), \"% (variation due to heterogeneity)\\n\")\n",
    "cat(\"  tau^2 =\", round(tau2_hat, 4), \"(estimated between-study variance)\\n\\n\")\n",
    "\n",
    "cat(\"Weight Comparison:\\n\")\n",
    "cat(\"  Fixed Effect Weights:  w_1 =\", round(w1_fixed, 1), \", w_2 =\", round(w2_fixed, 1), \"\\n\")\n",
    "cat(\"  Random Effect Weights: w_1 =\", round(w1_random, 1), \", w_2 =\", round(w2_random, 1), \"\\n\\n\")\n",
    "\n",
    "cat(\"Meta-Analysis Results:\\n\")\n",
    "cat(\"  Fixed Effects:  beta =\", round(beta_fixed, 4), \", SE =\", round(se_fixed, 4), \"\\n\")\n",
    "cat(\"  Random Effects:  beta =\", round(beta_random, 4), \", SE =\", round(se_random, 4), \"\\n\")\n",
    "cat(\"  Z-score =\", round(z_random, 2), \", P-value =\", format(p_random, scientific = TRUE), \"\\n\\n\")\n",
    "\n",
    "cat(\"Comparison with True Values:\\n\")\n",
    "cat(\"  True overall mean (mu) =\", mu_beta, \"\\n\")\n",
    "cat(\"  True between-study variance (tau^2) =\", tau_squared, \"\\n\")\n",
    "cat(\"  Estimated tau^2 =\", round(tau2_hat, 4), \"\\n\")\n"
   ]
  },
  {
   "cell_type": "code",
   "execution_count": 24,
   "id": "f8771005",
   "metadata": {
    "vscode": {
     "languageId": "r"
    }
   },
   "outputs": [
    {
     "data": {
      "image/png": "[encoded data removed]",
      "text/plain": [
       "plot without title"
      ]
     },
     "metadata": {
      "image/png": {
       "height": 420,
       "width": 420
      }
     },
     "output_type": "display_data"
    }
   ],
   "source": [
    "# Load ggplot2\n",
    "library(ggplot2)\n",
    "\n",
    "# Create directory if it doesn't exist\n",
    "dir.create(\"./cartoons\", showWarnings = FALSE)\n",
    "\n",
    "# Data for plotting\n",
    "forest_data <- data.frame(\n",
    "  Study = factor(c(\"Population 1\", \"Population 2\", \"Fixed Effects\", \"Random Effects\"),\n",
    "                 levels = c(\"Random Effects\", \"Fixed Effects\", \"Population 2\", \"Population 1\")),\n",
    "  Estimate = c(beta_hat1, beta_hat2, beta_fixed, beta_random),\n",
    "  Lower = c(beta_hat1 - 1.96*se1, beta_hat2 - 1.96*se2, \n",
    "            beta_fixed - 1.96*se_fixed, beta_random - 1.96*se_random),\n",
    "  Upper = c(beta_hat1 + 1.96*se1, beta_hat2 + 1.96*se2, \n",
    "            beta_fixed + 1.96*se_fixed, beta_random + 1.96*se_random),\n",
    "  Type = factor(c(\"Individual\", \"Individual\", \"Meta-Analysis\", \"Meta-Analysis\"),\n",
    "                levels = c(\"Individual\", \"Meta-Analysis\")),\n",
    "  Method = c(\"\", \"\", \"Fixed\", \"Random\")\n",
    ")\n",
    "\n",
    "# Create enhanced forest plot\n",
    "p <- ggplot(forest_data, aes(x = Estimate, y = Study)) +\n",
    "  # Add confidence intervals with thick lines\n",
    "  geom_errorbarh(aes(xmin = Lower, xmax = Upper, color = Type), \n",
    "                 height = 0.3, size = 2, alpha = 0.8) +\n",
    "  # Add point estimates with larger points\n",
    "  geom_point(aes(color = Type), size = 5, alpha = 0.9) +\n",
    "  # Add reference line at true mean\n",
    "  geom_vline(xintercept = mu_beta, linetype = \"dashed\", color = \"red\", \n",
    "             size = 1.5, alpha = 0.8) +\n",
    "  # Customize colors\n",
    "  scale_color_manual(values = c(\"Individual\" = \"#3498db\", \"Meta-Analysis\" = \"#8e44ad\"),\n",
    "                     name = \"Study Type\") +\n",
    "  # Labels and title with larger, bold fonts\n",
    "  labs(title = \"Random Effects Meta-Analysis Results\",\n",
    "       subtitle = paste(\"True mu =\", mu_beta, \", tau^2 =\", round(tau_squared, 3)),\n",
    "       x = \"Effect Size (beta)\",\n",
    "       y = \"\") +\n",
    "  # Theme customization\n",
    "  theme_minimal(base_size = 16) +\n",
    "  theme(\n",
    "    plot.title = element_text(size = 20, face = \"bold\", hjust = 0.5),\n",
    "    plot.subtitle = element_text(size = 14, face = \"bold\", hjust = 0.5, color = \"red\"),\n",
    "    axis.title.x = element_text(size = 16, face = \"bold\"),\n",
    "    axis.text.y = element_text(size = 14, face = \"bold\"),\n",
    "    axis.text.x = element_text(size = 12, face = \"bold\"),\n",
    "    legend.title = element_blank(),\n",
    "    legend.text = element_blank(),\n",
    "    legend.position = \"none\",\n",
    "    panel.grid.major.y = element_blank(),\n",
    "    panel.grid.minor = element_blank(),\n",
    "    panel.border = element_blank(),\n",
    "    # Add transparent backgrounds\n",
    "    panel.background = element_rect(fill = \"transparent\", color = NA),\n",
    "    plot.background = element_rect(fill = \"transparent\", color = NA)\n",
    "  ) \n",
    "# Print the plot\n",
    "print(p)\n",
    "\n",
    "# Save the plot with specified dimensions\n",
    "ggsave(\"./cartoons/meta_analysis_random_effect.png\", \n",
    "       plot = p, \n",
    "       width = 10, \n",
    "       height = 6, \n",
    "       dpi = 300,\n",
    "       bg = \"transparent\")\n"
   ]
  },
  {
   "cell_type": "markdown",
   "id": "50e434c7",
   "metadata": {},
   "source": [
    "# Supplementary"
   ]
  },
  {
   "cell_type": "markdown",
   "id": "d678fa4e-fd44-47e4-a85a-e945eaa162d3",
   "metadata": {},
   "source": [
    "## Generate and Perform GWAS for Study 1\n",
    "\n",
    "In this section, we generate the genotype matrix for Study 1, which consists of **100 individuals and 3 variants (SNPs)**. Each individual's genotype is represented by values 0, 1, or 2. The matrix is then standardized, meaning each column (representing a variant) will have a mean of 0 and variance of 1. After that, we simulate the response variable and perform the GWAS analysis by **running OLS regression for each SNP individually**.\n",
    "\n",
    "Steps:\n",
    "- Create a random genotype matrix for 100 individuals and 3 variants.\n",
    "- Standardize the genotype matrix.\n",
    "- Generate the response variable for 100 individuals.\n",
    "- Perform OLS regression for each SNP to calculate the estimated effect sizes and standard errors."
   ]
  },
  {
   "cell_type": "code",
   "execution_count": null,
   "id": "bcfb9ff4-feb5-4153-a3a4-bd19f0d7d7c3",
   "metadata": {
    "tags": [],
    "vscode": {
     "languageId": "r"
    }
   },
   "outputs": [],
   "source": [
    "# ---- Study 1 (100 individuals) ----\n",
    "N1 <- 100  # Number of individuals in study 1\n",
    "M <- 3     # Number of SNPs (variants)\n",
    "\n",
    "# Create a random genotype matrix (0, 1, 2 values for each SNP)\n",
    "X_raw1 <- matrix(sample(0:2, N1 * M, replace = TRUE), nrow = N1, ncol = M)\n",
    "\n",
    "# Adding row and column names for Study 1\n",
    "rownames(X_raw1) <- paste(\"Individual\", 1:N1)\n",
    "colnames(X_raw1) <- paste(\"Variant\", 1:M)\n",
    "\n",
    "# Standardize genotype matrix for Study 1\n",
    "X1 = scale(X_raw1, scale=TRUE)\n",
    "\n",
    "# Simulate phenotype with the true effect size on the causal SNP (SNP 2)\n",
    "y1 <- true_effect_size * X1[, true_causal_variant] + rnorm(N1, mean = 0, sd = 1)\n",
    "\n",
    "# Perform GWAS-style analysis for Study 1: Test each SNP independently using OLS\n",
    "p_values1 <- numeric(M)  # Store p-values for Study 1\n",
    "betas1 <- numeric(M)     # Store estimated effect sizes for Study 1\n",
    "se1 <- numeric(M)        # Store standard errors for Study 1\n",
    "\n",
    "for (j in 1:M) {\n",
    "  SNP <- X1[, j]  # Extract genotype for SNP j\n",
    "  model <- lm(y1 ~ SNP)  # OLS regression: Trait ~ SNP\n",
    "  summary_model <- summary(model)\n",
    "  \n",
    "  # Store p-value, effect size (coefficient), and standard error\n",
    "  p_values1[j] <- summary_model$coefficients[2, 4]  # p-value for SNP effect\n",
    "  betas1[j] <- summary_model$coefficients[2, 1]     # Estimated beta coefficient\n",
    "  se1[j] <- summary_model$coefficients[2, 2]        # Standard error of beta\n",
    "}\n",
    "\n",
    "# Create results table for Study 1\n",
    "gwas_results1 <- data.frame(Variant = colnames(X1), Beta = betas1, SE = se1, P_Value = p_values1)\n",
    "gwas_results1"
   ]
  },
  {
   "cell_type": "markdown",
   "id": "53f22769-c343-44bd-81f9-b105128aaea1",
   "metadata": {},
   "source": [
    "## Generate and Perform GWAS for Study 2\n",
    "In this section, we generate the genotype matrix for Study 2, which consists of **500 individuals and 3 variants (SNPs)**. Similar to Study 1, the genotype matrix is standardized. The response variable is also simulated, and we perform the GWAS analysis by running OLS regression for each SNP independently to obtain the effect sizes and standard errors.\n",
    "\n",
    "The steps are the same as Study 1."
   ]
  },
  {
   "cell_type": "code",
   "execution_count": null,
   "id": "ed6cb766-d624-4396-9755-3330746270b1",
   "metadata": {
    "tags": [],
    "vscode": {
     "languageId": "r"
    }
   },
   "outputs": [],
   "source": [
    "# ---- Study 2 (500 individuals) ----\n",
    "N2 <- 500  # Number of individuals in study 2\n",
    "\n",
    "# Create a random genotype matrix (0, 1, 2 values for each SNP)\n",
    "X_raw2 <- matrix(sample(0:2, N2 * M, replace = TRUE), nrow = N2, ncol = M)\n",
    "\n",
    "# Adding row and column names for Study 2\n",
    "rownames(X_raw2) <- paste(\"Individual\", 1:N2)\n",
    "colnames(X_raw2) <- paste(\"Variant\", 1:M)\n",
    "\n",
    "# Standardize genotype matrix for Study 2\n",
    "X2 = scale(X_raw2, scale=TRUE)\n",
    "\n",
    "# Simulate phenotype with the true effect size on the causal SNP (SNP 2)\n",
    "y2 <- true_effect_size * X2[, true_causal_variant] + rnorm(N2, mean = 0, sd = 1)\n",
    "\n",
    "# Perform GWAS-style analysis for Study 2: Test each SNP independently using OLS\n",
    "p_values2 <- numeric(M)  # Store p-values for Study 2\n",
    "betas2 <- numeric(M)     # Store estimated effect sizes for Study 2\n",
    "se2 <- numeric(M)        # Store standard errors for Study 2\n",
    "\n",
    "for (j in 1:M) {\n",
    "  SNP <- X2[, j]  # Extract genotype for SNP j\n",
    "  model <- lm(y2 ~ SNP)  # OLS regression: Trait ~ SNP\n",
    "  summary_model <- summary(model)\n",
    "  \n",
    "  # Store p-value, effect size (coefficient), and standard error\n",
    "  p_values2[j] <- summary_model$coefficients[2, 4]  # p-value for SNP effect\n",
    "  betas2[j] <- summary_model$coefficients[2, 1]     # Estimated beta coefficient\n",
    "  se2[j] <- summary_model$coefficients[2, 2]        # Standard error of beta\n",
    "}\n",
    "\n",
    "# Create results table for Study 2\n",
    "gwas_results2 <- data.frame(Variant = colnames(X2), Beta = betas2, SE = se2, P_Value = p_values2)\n",
    "gwas_results2"
   ]
  },
  {
   "cell_type": "markdown",
   "id": "ea53a43a-1628-4b28-ae7f-82114f90220a",
   "metadata": {},
   "source": [
    "## Meta-Analysis\n",
    "\n",
    "After performing the GWAS in both Study 1 and Study 2, we conduct a **meta-analysis** to combine the results from both studies and obtain a more robust estimate of the true effect size. \n",
    "\n",
    "The meta-analysis is performed using **inverse variance weighting**, where the effect size estimates from each study are weighted by the inverse of their squared standard errors. This ensures that studies with more precise estimates (smaller standard errors) contribute more to the combined estimate. The weighted average of the effect sizes from both studies is calculated, providing a summary effect size that incorporates data from both studies. This meta-analysis helps to obtain a more accurate and consistent estimate of the effect of each SNP on the trait across different sample sizes."
   ]
  },
  {
   "cell_type": "code",
   "execution_count": null,
   "id": "1397f6cc-25a5-4ee3-94c3-33e2220f3da9",
   "metadata": {
    "tags": [],
    "vscode": {
     "languageId": "r"
    }
   },
   "outputs": [],
   "source": [
    "# ---- Meta-Analysis (Inverse Variance Weighting) ----\n",
    "\n",
    "# Calculate weights (inverse of variance)\n",
    "w1 <- 1 / (se1^2)  # Weights for Study 1\n",
    "w2 <- 1 / (se2^2)  # Weights for Study 2\n",
    "\n",
    "# Calculate combined effect size using inverse variance weighting\n",
    "combined_betas <- (w1 * betas1 + w2 * betas2) / (w1 + w2)\n",
    "\n",
    "# Calculate variance of the combined effect size\n",
    "combined_variance <- 1 / (w1 + w2)\n",
    "combined_se <- sqrt(combined_variance)\n",
    "\n",
    "# Calculate p-values for each study's effect size\n",
    "p_value_study1 <- 2 * (1 - pnorm(abs(betas1 / se1)))  # P-value for Study 1\n",
    "p_value_study2 <- 2 * (1 - pnorm(abs(betas2 / se2)))  # P-value for Study 2\n",
    "\n",
    "# Calculate p-value for the combined effect size\n",
    "p_value_combined <- 2 * (1 - pnorm(abs(combined_betas / combined_se)))\n",
    "\n",
    "# Combine the results\n",
    "meta_analysis_results <- data.frame(\n",
    "  Variant = colnames(X1),\n",
    "  Beta_Study1 = betas1, SE_Study1 = se1, P_Value_Study1 = p_value_study1,\n",
    "  Beta_Study2 = betas2, SE_Study2 = se2, P_Value_Study2 = p_value_study2,\n",
    "  Combined_Beta = combined_betas, Combined_SE = combined_se,\n",
    "  Combined_P_Value = p_value_combined\n",
    ")\n",
    "\n",
    "print(\"Meta-Analysis Results (Inverse Variance Weighting):\")\n",
    "meta_analysis_results\n"
   ]
  },
  {
   "cell_type": "markdown",
   "id": "96871c93-ff4d-4c2e-9939-32bd8c043f2c",
   "metadata": {
    "tags": []
   },
   "source": [
    "The fixed effect model assumes that the true effect size of each variant is the same across all studies. For example, in Variant 2, the estimated effect sizes from both studies (0.4060 from Study 1 and 0.4289 from Study 2) are very similar, suggesting that the true effect size may be constant across studies. By using a fixed effect model, we can combine these estimates into a single, more precise effect size (0.4256 for Variant 2), taking into account the study precisions through inverse variance weighting.\n",
    "\n",
    "Meta-analysis is essential here because it allows us to combine results from multiple studies, adjusting for differences in sample sizes and precision. Study 2 has more individuals and therefore a more precise estimate of the effect size, so it contributes more to the combined estimate. \n",
    "\n",
    "The meta-analysis ensures that the combined effect size is not only a weighted average of the studies' estimates but also accounts for the variability between studies, offering a more reliable and accurate estimate of the true effect size."
   ]
  },
  {
   "cell_type": "markdown",
   "id": "d365a858",
   "metadata": {},
   "source": [
    "> slide 146 in Hailiang Huang's slides\n",
    ">\n",
    "> slide 244-246 from GW"
   ]
  },
  {
   "cell_type": "markdown",
   "id": "8ccfb3a4",
   "metadata": {},
   "source": [
    "When we move from one study to multiple studies (e.g., in a meta-analysis), you may want to test whether a particular SNP has the same effect across studies. This is where the idea of sharing a common effect size becomes relevant.\n",
    "\n",
    "In a meta-analysis of multiple studies, we often assume that the true effect size for each SNP is **the same across all studies** (but possibly with different observed effect sizes due to different sample sizes, populations, etc.). The meta-analysis combines results from multiple studies, and the fixed effect model in this context would assume that the SNP's effect size is consistent across all the studies being analyzed.\n",
    "\n",
    "**[FIXME]** should we introduce the concept of meta-analysis first before discussing about FEM and REM?\n",
    "\n",
    "---\n",
    "\n",
    "\n",
    "\n",
    "In a fixed effect meta-analysis, we assume that the observed effect size $\\hat{\\beta}_k$ from study $k$ follows a normal distribution:\n",
    "\n",
    "$$\n",
    "\\hat{\\beta}_k \\sim N(\\beta_j, s_k^2)\n",
    "$$\n",
    "\n",
    "Where:\n",
    "- $\\beta_j$ is the **true effect size** for SNP $j$, assumed to be the same across all studies.\n",
    "- $s_k^2$ is the **variance** of the observed effect size $\\hat{\\beta}_k$ for study $k$, reflecting the precision of the estimate in study $k$.\n"
   ]
  },
  {
   "cell_type": "markdown",
   "id": "8ad42038",
   "metadata": {},
   "source": [
    "\n",
    "## Combined Estimate of Effect Size\n",
    "\n",
    "   The goal of the meta-analysis is to estimate the true effect size $\\beta_j$ from the observed effect sizes $\\hat{\\beta}_k$ across all studies. We do this by calculating a **weighted average** of the observed effect sizes, where the weights are proportional to the precision of each estimate (i.e., inversely proportional to the variance $s_k^2$):\n",
    "\n",
    "   $$\n",
    "   \\hat{\\beta}_j = \\frac{\\sum_{k=1}^{K} w_k \\hat{\\beta}_{k}}{\\sum_{k=1}^{K} w_k}\n",
    "   $$\n",
    "\n",
    "   Where:\n",
    "   - $w_k = \\frac{1}{s_k^2}$ is the weight for study $k$.\n",
    "\n",
    "\n"
   ]
  },
  {
   "cell_type": "markdown",
   "id": "8a432849",
   "metadata": {},
   "source": [
    "## Maximum Likelihood Estimation (MLE) of the Summary Effect\n",
    "\n",
    "   The MLE for the summary effect size $\\beta_j$ under the fixed effect model is equivalent to the **inverse variance weighting**. This is because we assume that the observed effect sizes $\\hat{\\beta}_k$ are normally distributed with mean $\\beta_j$ and variance $s_k^2$. The likelihood function for the fixed effect model is maximized by weighting the observed effect sizes by the inverse of their variances:\n",
    "\n",
    "   $$\n",
    "   \\hat{\\beta}_j = \\frac{\\sum_{k=1}^{K} \\frac{\\hat{\\beta}_k}{s_k^2}}{\\sum_{k=1}^{K} \\frac{1}{s_k^2}}\n",
    "   $$\n",
    "\n",
    "   This is the **inverse variance weighting** formula used to combine the effect sizes from different studies in a meta-analysis.\n"
   ]
  },
  {
   "cell_type": "markdown",
   "id": "38d1da02",
   "metadata": {},
   "source": [
    "\n",
    "## Heterogeneity Assessment\n",
    "\n",
    "Heterogeneity assessment is a crucial component of meta-analysis because it evaluates whether the observed effect sizes across different studies are more variable than would be expected by chance alone. This helps us understand if we're truly measuring the same effect across studies or if there are underlying differences. Below are several ways to measure it.\n",
    "\n",
    "### Cochran's Q Statistic:\n",
    "$$Q = \\sum_{i=1}^{k} w_i(\\hat{\\beta}_i - \\hat{\\beta})^2$$\n",
    "\n",
    "This statistic follows a $\\chi^2$ distribution with $k-1$ degrees of freedom under the null hypothesis of homogeneity.\n",
    "\n",
    "### $I^2$ Statistic (Percentage of Variation Due to Heterogeneity)\n",
    "$$I^2 = \\max\\left\\{0, \\frac{Q-(k-1)}{Q} \\times 100\\%\\right\\}$$\n",
    "\n",
    "- Interpretation:\n",
    "  - 0-25%: Might not be important\n",
    "  - 25-50%: Moderate heterogeneity\n",
    "  - 50-75%: Substantial heterogeneity\n",
    "  - 75-100%: Considerable heterogeneity\n"
   ]
  },
  {
   "cell_type": "code",
   "execution_count": null,
   "id": "1833fab7-86ed-461a-bdea-539237b58477",
   "metadata": {
    "vscode": {
     "languageId": "r"
    }
   },
   "outputs": [],
   "source": []
  }
 ],
 "metadata": {
  "kernelspec": {
   "display_name": "R",
   "language": "R",
   "name": "ir"
  },
  "language_info": {
   "codemirror_mode": "r",
   "file_extension": ".r",
   "mimetype": "text/x-r-source",
   "name": "R",
   "pygments_lexer": "r",
   "version": "4.3.3"
  }
 },
 "nbformat": 4,
 "nbformat_minor": 5
}
