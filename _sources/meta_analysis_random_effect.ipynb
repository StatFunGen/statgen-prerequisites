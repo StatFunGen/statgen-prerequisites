{
 "cells": [
  {
   "cell_type": "markdown",
   "id": "e2a38765",
   "metadata": {},
   "source": [
    "# Meta-Analysis Random Effect\n",
    "\n",
    "Random-effects meta-analysis **accounts for variability** in effect sizes across studies by assuming each study estimates a different effect **drawn from a shared distribution**, thus modeling both within-study error and between-study heterogeneity."
   ]
  },
  {
   "cell_type": "markdown",
   "id": "ef4b1c8b",
   "metadata": {},
   "source": [
    "# Graphical Summary"
   ]
  },
  {
   "cell_type": "markdown",
   "id": "64810e5f",
   "metadata": {},
   "source": [
    "![Fig](./graphical_summary/slides/Slide18.png)"
   ]
  },
  {
   "cell_type": "markdown",
   "id": "aee54301",
   "metadata": {},
   "source": [
    "# Key Formula\n",
    "\n",
    "In random-effects meta-analysis, we assume that the true effect sizes vary across studies. The weighted mean effect size is calculated as:\n",
    "\n",
    "$$\\hat{\\beta} = \\frac{\\sum_{k=1}^{K} w_k^* \\hat{\\beta}_k}{\\sum_{k=1}^{K} w_k^*}$$\n",
    "\n",
    "Where:\n",
    "- $\\hat{\\beta}$ is the combined effect estimate across all studies\n",
    "- $\\hat{\\beta}_k$ is the effect estimate from study $k$\n",
    "- $w_k^* = \\frac{1}{\\text{SE}_k^2 + \\tau^2}$ is the random-effects weight for study $k$\n",
    "- $\\tau^2$ is the between-study variance (heterogeneity)\n",
    "- $K$ is the number of studies\n",
    "\n",
    "The key difference from fixed-effects is that weights now include $\\tau^2$, which accounts for true heterogeneity between studies."
   ]
  },
  {
   "cell_type": "markdown",
   "id": "34f145db",
   "metadata": {},
   "source": [
    "# Technical Details\n",
    "\n",
    "## What is Heterogeneity?\n",
    "\n",
    "**Heterogeneity** refers to the variability in effect sizes across different studies beyond what we'd expect from random sampling error alone. In other words, are the studies telling us the same story, or are they finding genuinely different effects?\n",
    "\n",
    "**Why does heterogeneity matter?**\n",
    "- If studies are consistent (low heterogeneity), we can confidently combine them\n",
    "- If studies are inconsistent (high heterogeneity), we need to account for this variation in our analysis\n",
    "\n",
    "**Sources of heterogeneity:**\n",
    "- Different populations (age, ethnicity, health status)\n",
    "- Different study designs or measurement methods  \n",
    "- Different environmental contexts\n",
    "\n",
    "## Measuring Heterogeneity\n",
    "\n",
    "**$I^2$ statistic**: The most intuitive measure - tells us what percentage of the observed variation comes from real differences between studies rather than random chance.\n",
    "\n",
    "$$\n",
    "I^2 = \\max\\left(0, \\frac{Q - (K-1)}{Q} \\times 100\\%\\right)\n",
    "$$\n",
    "\n",
    "**Interpretation:**\n",
    "- $I^2 = 0\\%$: Studies are consistent - variation is just due to random sampling\n",
    "- $I^2 = 25\\%$: Low heterogeneity - studies are mostly similar\n",
    "- $I^2 = 50\\%$: Moderate heterogeneity - some real differences between studies\n",
    "- $I^2 = 75\\%$: High heterogeneity - studies are finding quite different effects\n",
    "\n",
    "**Example:** If $I^2 = 60\\%$, this means 60% of the variation we see across studies reflects real differences in effect sizes, while only 40% is due to random sampling error.\n",
    "\n",
    "## Random Effect Model\n",
    "\n",
    "**The Problem:** When studies show heterogeneity, we can't assume they're all estimating the same true effect.\n",
    "\n",
    "**The Solution:** Assume each study estimates its own true effect, but these true effects come from a common distribution.\n",
    "\n",
    "**Assumption**: True effects follow a distribution\n",
    "\n",
    "$$\n",
    "\\beta_k \\sim N(\\beta, \\tau^2)\n",
    "$$\n",
    "\n",
    "Where:\n",
    "- $\\beta$ = mean effect across all possible studies (what we want to estimate)\n",
    "- $\\tau^2$ = between-study variance (how much true effects vary across studies)\n",
    "- Each study $k$ has its own true effect $\\beta_k$\n",
    "\n",
    "| Aspect | Fixed Effect | Random Effect |\n",
    "|--------|---------------|----------------|\n",
    "| **Assumption** | All studies estimate the **same true effect** | Studies estimate **different true effects** from a distribution |\n",
    "| **Weight Formula** | $\\frac{1}{\\text{SE}_k^2}$ (only within-study variance) | $\\frac{1}{\\text{SE}_k^2 + \\tau^2}$ (within-study + between-study variance) |\n",
    "| **When to Use** | Studies are very similar in design and population| Significant heterogeneity between studies |\n",
    "| **Results**| Narrower confidence intervals, give the effect in the populations | Wider confidence intervals, give the average effect across broader populations|\n"
   ]
  },
  {
   "cell_type": "markdown",
   "id": "b8cdabd7",
   "metadata": {},
   "source": [
    "# Related Topics\n",
    "\n",
    "- [ordinary least squares](https://gaow.github.io/statgen-prerequisites/ordinary_least_squares.html)\n",
    "- [random effect](https://gaow.github.io/statgen-prerequisites/random_effect.html)\n",
    "- [summary statistics](https://gaow.github.io/statgen-prerequisites/summary_statistics.html)\n",
    "- [meta-analysis fixed effects](https://gaow.github.io/statgen-prerequisites/meta_analysis_fixed_effects.html)"
   ]
  },
  {
   "cell_type": "markdown",
   "id": "58d544ce-922b-4a03-b765-9a1972fd1859",
   "metadata": {},
   "source": [
    "# Example"
   ]
  },
  {
   "cell_type": "markdown",
   "id": "2c408a76",
   "metadata": {},
   "source": [
    "Imagine you're trying to understand the effect of a genetic variant across different populations. You have two studies: one from a European population and another from an African population. Both studies found significant associations, but the effect sizes look different. \n",
    "\n",
    "The question is: *Are these studies measuring the same biological effect, just with some random variation due to sampling? Or do these populations truly have different effect sizes for biological reasons?*\n",
    "\n",
    "This is where the choice between fixed-effects and random-effects meta-analysis becomes crucial. If the populations truly differ (maybe due to different genetic backgrounds or environmental factors), then we shouldn't assume they share the same effect size. Instead, we should model each study as having its own true effect, drawn from a distribution of possible effects.\n",
    "\n",
    "We'll simulate this scenario where two studies have genuinely different true effect sizes, then see how random-effects meta-analysis handles this heterogeneity compared to a naive approach that ignores it. The key insight is: *When studies are heterogeneous, how do we properly account for both within-study uncertainty AND between-study variation?*"
   ]
  },
  {
   "cell_type": "markdown",
   "id": "639d51b3",
   "metadata": {},
   "source": [
    "We first generate the effects for the two studies from a distribution (rather than assigning a fixed value), and assign the variance between two studies:"
   ]
  },
  {
   "cell_type": "code",
   "execution_count": 1,
   "id": "77c522f0",
   "metadata": {
    "vscode": {
     "languageId": "r"
    }
   },
   "outputs": [],
   "source": [
    "rm(list=ls())\n",
    "set.seed(18)\n",
    "\n",
    "# Simulate 2 diverse cohorts where TRUE EFFECT SIZES are drawn from a distribution\n",
    "K <- 2  # Number of studies\n",
    "N <- c(5000, 8000)  # Different sample sizes\n",
    "\n",
    "# Different MAFs reflecting population diversity\n",
    "mafs <- c(0.25, 0.40)\n",
    "\n",
    "# RANDOM EFFECTS MODEL: True effect sizes drawn from distribution\n",
    "# This is the key difference - betas are RANDOM, not fixed\n",
    "beta_mean <- 1.0      # Mean effect size across all possible studies\n",
    "tau_squared_true <- 0.3  # True between-study variance\n",
    "\n",
    "# Draw true effect sizes from distribution\n",
    "true_betas <- rnorm(K, mean = beta_mean, sd = sqrt(tau_squared_true))"
   ]
  },
  {
   "cell_type": "markdown",
   "id": "df8f9908",
   "metadata": {},
   "source": [
    "Then we generate the data for each study and create a summary table."
   ]
  },
  {
   "cell_type": "code",
   "execution_count": 2,
   "id": "9e2bda52",
   "metadata": {
    "vscode": {
     "languageId": "r"
    }
   },
   "outputs": [],
   "source": [
    "# Generate data for each study\n",
    "studies_data <- list()\n",
    "for(i in 1:K) {\n",
    "  # Generate genotypes\n",
    "  genotypes <- rbinom(N[i], 2, mafs[i])\n",
    "  \n",
    "  # Generate phenotypes using the RANDOM true effect\n",
    "  phenotypes <- true_betas[i] * genotypes + rnorm(N[i], 0, 3)\n",
    "  \n",
    "  # Run regression\n",
    "  lm_result <- lm(phenotypes ~ genotypes)\n",
    "  \n",
    "  # Store results\n",
    "  studies_data[[i]] <- list(\n",
    "    study_id = i,\n",
    "    n = N[i],\n",
    "    maf = mafs[i],\n",
    "    true_beta = true_betas[i],\n",
    "    observed_beta = coef(lm_result)[\"genotypes\"],\n",
    "    se = summary(lm_result)$coefficients[\"genotypes\", \"Std. Error\"]\n",
    "  )\n",
    "}"
   ]
  },
  {
   "cell_type": "code",
   "execution_count": 3,
   "id": "c5883c4e",
   "metadata": {
    "vscode": {
     "languageId": "r"
    }
   },
   "outputs": [],
   "source": [
    "# Create summary table\n",
    "studies <- data.frame(\n",
    "  Study = 1:K,\n",
    "  N = sapply(studies_data, function(x) x$n),\n",
    "  MAF = sapply(studies_data, function(x) x$maf),\n",
    "  True_Beta = sapply(studies_data, function(x) x$true_beta),\n",
    "  Observed_Beta = sapply(studies_data, function(x) x$observed_beta),\n",
    "  SE = sapply(studies_data, function(x) x$se)\n",
    ")\n",
    "studies$P_Value <- 2 * pnorm(-abs(studies$Observed_Beta / studies$SE))\n"
   ]
  },
  {
   "cell_type": "markdown",
   "id": "b5809b09",
   "metadata": {},
   "source": [
    "We first assess the heterogeneity for this meta-analysis:"
   ]
  },
  {
   "cell_type": "code",
   "execution_count": 4,
   "id": "c3682429",
   "metadata": {
    "vscode": {
     "languageId": "r"
    }
   },
   "outputs": [
    {
     "name": "stdout",
     "output_type": "stream",
     "text": [
      "Heterogeneity Statistics:\n",
      "Q statistic: 61.44 \n",
      "Degrees of freedom: 1 \n",
      "P-value for heterogeneity: 0 \n",
      "I^2 statistic: 98.4 %\n",
      "\n",
      "HETEROGENEITY DETECTED - Random-effects model is appropriate!\n"
     ]
    }
   ],
   "source": [
    "# Calculate inverse variance weights for heterogeneity testing\n",
    "w <- 1 / studies$SE^2\n",
    "studies$Weight <- w / sum(w)\n",
    "\n",
    "# Calculate naive weighted average (fixed-effects estimate)\n",
    "beta_naive <- sum(studies$Observed_Beta * w) / sum(w)\n",
    "\n",
    "# Calculate Q statistic (test for heterogeneity)\n",
    "Q <- sum(w * (studies$Observed_Beta - beta_naive)^2)\n",
    "df <- K - 1\n",
    "p_heterogeneity <- 1 - pchisq(Q, df)\n",
    "\n",
    "# I^2 statistic (percentage of variation due to heterogeneity)\n",
    "I_squared <- max(0, (Q - df) / Q) * 100\n",
    "\n",
    "cat(\"Heterogeneity Statistics:\\n\")\n",
    "cat(\"Q statistic:\", round(Q, 3), \"\\n\")\n",
    "cat(\"Degrees of freedom:\", df, \"\\n\")\n",
    "cat(\"P-value for heterogeneity:\", round(p_heterogeneity, 4), \"\\n\")\n",
    "cat(\"I^2 statistic:\", round(I_squared, 1), \"%\\n\\n\")\n",
    "\n",
    "if(I_squared > 25) {\n",
    "  cat(\"HETEROGENEITY DETECTED - Random-effects model is appropriate!\\n\")\n",
    "} else {\n",
    "  cat(\"Low heterogeneity detected\\n\")\n",
    "}"
   ]
  },
  {
   "cell_type": "markdown",
   "id": "85efea15",
   "metadata": {},
   "source": [
    "So now we conduct the meta-analysis for the two studies:"
   ]
  },
  {
   "cell_type": "code",
   "execution_count": 5,
   "id": "03188758",
   "metadata": {
    "vscode": {
     "languageId": "r"
    }
   },
   "outputs": [
    {
     "name": "stdout",
     "output_type": "stream",
     "text": [
      "Random-Effects Meta-Analysis Results:\n"
     ]
    },
    {
     "data": {
      "text/html": [
       "<table class=\"dataframe\">\n",
       "<caption>A data.frame: 1 x 4</caption>\n",
       "<thead>\n",
       "\t<tr><th scope=col>Estimate</th><th scope=col>SE</th><th scope=col>Z_score</th><th scope=col>P_value</th></tr>\n",
       "\t<tr><th scope=col>&lt;dbl&gt;</th><th scope=col>&lt;dbl&gt;</th><th scope=col>&lt;dbl&gt;</th><th scope=col>&lt;chr&gt;</th></tr>\n",
       "</thead>\n",
       "<tbody>\n",
       "\t<tr><td>1.7491</td><td>0.3322</td><td>5.2659</td><td>1.4e-07</td></tr>\n",
       "</tbody>\n",
       "</table>\n"
      ],
      "text/latex": [
       "A data.frame: 1 x 4\n",
       "\\begin{tabular}{llll}\n",
       " Estimate & SE & Z\\_score & P\\_value\\\\\n",
       " <dbl> & <dbl> & <dbl> & <chr>\\\\\n",
       "\\hline\n",
       "\t 1.7491 & 0.3322 & 5.2659 & 1.4e-07\\\\\n",
       "\\end{tabular}\n"
      ],
      "text/markdown": [
       "\n",
       "A data.frame: 1 x 4\n",
       "\n",
       "| Estimate &lt;dbl&gt; | SE &lt;dbl&gt; | Z_score &lt;dbl&gt; | P_value &lt;chr&gt; |\n",
       "|---|---|---|---|\n",
       "| 1.7491 | 0.3322 | 5.2659 | 1.4e-07 |\n",
       "\n"
      ],
      "text/plain": [
       "  Estimate SE     Z_score P_value\n",
       "1 1.7491   0.3322 5.2659  1.4e-07"
      ]
     },
     "metadata": {},
     "output_type": "display_data"
    }
   ],
   "source": [
    "# Estimate between-study variance (tau^2) using DerSimonian-Laird method\n",
    "sum_w <- sum(w)\n",
    "sum_w_squared <- sum(w^2)\n",
    "tau_squared_est <- max(0, (Q - df) / (sum_w - sum_w_squared/sum_w))\n",
    "\n",
    "# Calculate random-effects weights\n",
    "w_random <- 1 / (studies$SE^2 + tau_squared_est)\n",
    "studies$Weight_Random <- w_random / sum(w_random)\n",
    "\n",
    "# Random-effects estimate\n",
    "beta_random <- sum(studies$Observed_Beta * w_random) / sum(w_random)\n",
    "se_random <- sqrt(1 / sum(w_random))\n",
    "z_random <- beta_random / se_random\n",
    "p_random <- 2 * pnorm(-abs(z_random))\n",
    "\n",
    "cat(\"Random-Effects Meta-Analysis Results:\\n\")\n",
    "results <- data.frame(\n",
    "  Estimate = round(beta_random, 4),\n",
    "  SE = round(se_random, 4),\n",
    "  Z_score = round(z_random, 4),\n",
    "  P_value = format(p_random, scientific = TRUE, digits = 3)\n",
    ")\n",
    "\n",
    "results"
   ]
  },
  {
   "cell_type": "markdown",
   "id": "5cc18d95",
   "metadata": {},
   "source": [
    "Let's also look at the weights with and without considering heterogeneity:"
   ]
  },
  {
   "cell_type": "code",
   "execution_count": 6,
   "id": "de06c07e",
   "metadata": {
    "vscode": {
     "languageId": "r"
    }
   },
   "outputs": [
    {
     "data": {
      "text/html": [
       "<table class=\"dataframe\">\n",
       "<caption>A data.frame: 2 x 6</caption>\n",
       "<thead>\n",
       "\t<tr><th scope=col>Study</th><th scope=col>N</th><th scope=col>SE</th><th scope=col>Weight_Fixed</th><th scope=col>Weight_Random</th><th scope=col>Difference</th></tr>\n",
       "\t<tr><th scope=col>&lt;int&gt;</th><th scope=col>&lt;dbl&gt;</th><th scope=col>&lt;dbl&gt;</th><th scope=col>&lt;dbl&gt;</th><th scope=col>&lt;dbl&gt;</th><th scope=col>&lt;dbl&gt;</th></tr>\n",
       "</thead>\n",
       "<tbody>\n",
       "\t<tr><td>1</td><td>5000</td><td>0.0697</td><td>0.324</td><td>0.497</td><td> 0.173</td></tr>\n",
       "\t<tr><td>2</td><td>8000</td><td>0.0482</td><td>0.676</td><td>0.503</td><td>-0.173</td></tr>\n",
       "</tbody>\n",
       "</table>\n"
      ],
      "text/latex": [
       "A data.frame: 2 x 6\n",
       "\\begin{tabular}{llllll}\n",
       " Study & N & SE & Weight\\_Fixed & Weight\\_Random & Difference\\\\\n",
       " <int> & <dbl> & <dbl> & <dbl> & <dbl> & <dbl>\\\\\n",
       "\\hline\n",
       "\t 1 & 5000 & 0.0697 & 0.324 & 0.497 &  0.173\\\\\n",
       "\t 2 & 8000 & 0.0482 & 0.676 & 0.503 & -0.173\\\\\n",
       "\\end{tabular}\n"
      ],
      "text/markdown": [
       "\n",
       "A data.frame: 2 x 6\n",
       "\n",
       "| Study &lt;int&gt; | N &lt;dbl&gt; | SE &lt;dbl&gt; | Weight_Fixed &lt;dbl&gt; | Weight_Random &lt;dbl&gt; | Difference &lt;dbl&gt; |\n",
       "|---|---|---|---|---|---|\n",
       "| 1 | 5000 | 0.0697 | 0.324 | 0.497 |  0.173 |\n",
       "| 2 | 8000 | 0.0482 | 0.676 | 0.503 | -0.173 |\n",
       "\n"
      ],
      "text/plain": [
       "  Study N    SE     Weight_Fixed Weight_Random Difference\n",
       "1 1     5000 0.0697 0.324        0.497          0.173    \n",
       "2 2     8000 0.0482 0.676        0.503         -0.173    "
      ]
     },
     "metadata": {},
     "output_type": "display_data"
    }
   ],
   "source": [
    "# Compare weights with and without tau^2\n",
    "weight_comparison <- data.frame(\n",
    "  Study = 1:K,\n",
    "  N = studies$N,\n",
    "  SE = round(studies$SE, 4),\n",
    "  Weight_Fixed = round(studies$Weight, 3),\n",
    "  Weight_Random = round(studies$Weight_Random, 3),\n",
    "  Difference = round(studies$Weight_Random - studies$Weight, 3)\n",
    ")\n",
    "weight_comparison\n"
   ]
  },
  {
   "cell_type": "code",
   "execution_count": null,
   "id": "ec6a3a90",
   "metadata": {
    "vscode": {
     "languageId": "r"
    }
   },
   "outputs": [],
   "source": []
  }
 ],
 "metadata": {
  "kernelspec": {
   "display_name": "R",
   "language": "R",
   "name": "ir"
  },
  "language_info": {
   "codemirror_mode": "r",
   "file_extension": ".r",
   "mimetype": "text/x-r-source",
   "name": "R",
   "pygments_lexer": "r",
   "version": "4.3.3"
  }
 },
 "nbformat": 4,
 "nbformat_minor": 5
}
