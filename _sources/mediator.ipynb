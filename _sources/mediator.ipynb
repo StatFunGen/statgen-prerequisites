{
 "cells": [
  {
   "cell_type": "markdown",
   "id": "0c0b57e8",
   "metadata": {},
   "source": [
    "# Mediator\n",
    "\n",
    "A mediator is a variable that **sits in the causal pathway between an exposure and an outcome**, explaining the mechanism through which the exposure exerts its effect on the outcome."
   ]
  },
  {
   "cell_type": "markdown",
   "id": "17cc7d04",
   "metadata": {},
   "source": [
    "# Graphical Summary"
   ]
  },
  {
   "cell_type": "markdown",
   "id": "26cb368b",
   "metadata": {},
   "source": [
    "![Fig](./graphical_summary/slides/Slide16.png)"
   ]
  },
  {
   "cell_type": "markdown",
   "id": "db96dc6b",
   "metadata": {},
   "source": [
    "# Key Formula\n",
    "\n",
    "The key formula for the concept of a mediator is represented in a causal diagram as:\n",
    "\n",
    "$$\n",
    "X \\rightarrow C \\rightarrow Y\n",
    "$$\n",
    "\n",
    "Where:\n",
    "- $X$ is the independent variable (e.g., genetic variant)\n",
    "- $C$ is the mediator variable\n",
    "- $Y$ is the dependent variable (e.g., trait)\n",
    "- The arrows ($\\rightarrow$) indicate the direction of causal influence\n",
    "\n",
    "This diagram illustrates that a mediator ($C$) lies in the causal pathway between the independent variable ($X$) and the dependent variable ($Y$). The mediator transmits the effect of $X$ on $Y$, creating an indirect causal pathway through which $X$ affects $Y$."
   ]
  },
  {
   "cell_type": "markdown",
   "id": "1ed27bec",
   "metadata": {},
   "source": [
    "# Technical Details\n",
    "\n"
   ]
  },
  {
   "cell_type": "markdown",
   "id": "25d48711",
   "metadata": {},
   "source": [
    "## What is Mediation?\n",
    "\n",
    "A mediator is a variable that **explains the mechanism** by which a genetic variant affects an outcome. Unlike confounders (which create bias) or colliders (which induce bias when controlled), mediators represent the **actual biological pathway**.\n",
    "\n",
    "## Mediation vs Other Variable Types\n",
    "\n",
    "When deciding whether to control for a variable, ask:\n",
    "\n",
    "**Mediator**: \"Does this variable explain HOW the SNP affects the outcome?\"\n",
    "- **Action**: Can control to isolate direct effects, but often want to preserve the mediated pathway\n",
    "- **Structure**: SNP → Mediator → Outcome\n",
    "\n",
    "**Confounder**: \"Does this variable affect both SNP and outcome?\"  \n",
    "- **Action**: Must control to remove bias\n",
    "- **Structure**: SNP ← Confounder → Outcome\n",
    "\n",
    "**Collider**: \"Is this variable caused by both SNP and outcome?\"\n",
    "- **Action**: Never control - creates bias\n",
    "- **Structure**: SNP → Collider ← Outcome\n",
    "\n",
    "## The Mediation Equation\n",
    "\n",
    "$$\\text{Total Effect} = \\text{Direct Effect} + \\text{Indirect Effect}$$\n",
    "\n",
    "Where:\n",
    "- **Total Effect**: SNP → Outcome (β without mediator control)\n",
    "- **Direct Effect**: SNP → Outcome (β with mediator control)  \n",
    "- **Indirect Effect**: SNP → Mediator → Outcome (mediated pathway)\n",
    "\n",
    "## Evidence for Mediation\n",
    "\n",
    "**Strong evidence** when controlling for the mediator:\n",
    "1. **Reduces effect size**: Total effect > Direct effect\n",
    "2. **Eliminates significance**: p-value increases substantially\n",
    "3. **Biological plausibility**: Mediator is in known pathway\n",
    "\n",
    "## Analysis Steps\n",
    "\n",
    "1. Test total effect by `lm(Outcome ~ SNP)`  (Results should be significant).\n",
    "2. Test mediation by `lm(Outcome ~ SNP + Mediator)`  (SNP effect should reduce/disappear)\n",
    "\n",
    "**Interpretation**:\n",
    "- If SNP effect disappears → **Complete mediation**\n",
    "- If SNP effect reduces → **Partial mediation**  \n",
    "- If SNP effect unchanged → **No mediation**\n",
    "\n",
    "**Examples of Mediation**:\n",
    "- SNP → Gene Expression → Disease\n",
    "- SNP → Protein Levels → Metabolic Trait\n",
    "- SNP → Hormone Levels → Growth/Development\n",
    "- SNP → Enzyme Activity → Drug Response"
   ]
  },
  {
   "cell_type": "markdown",
   "id": "b7e8ea44",
   "metadata": {},
   "source": [
    "# Example"
   ]
  },
  {
   "cell_type": "markdown",
   "id": "25eee56a",
   "metadata": {},
   "source": [
    "This example demonstrates how to identify and analyze a mediator in genetic association studies. We create a simple dataset with:\n",
    "\n",
    "- Genetic variants\n",
    "- Height measurements\n",
    "- **Growth hormone levels (the mediator)**\n",
    "\n",
    "We perform two analyses:\n",
    "\n",
    "- Total Effect Analysis: The overall relationship between genetic variants and height without considering the mediator\n",
    "- Direct Effect Analysis: The relationship between variants and height while controlling for growth hormone\n",
    "\n",
    "The example shows how genetic variants can influence height both directly and indirectly through biological mechanisms (growth hormone levels). By analyzing these pathways separately, we can better understand the biological processes underlying genetic associations and quantify how much of a genetic effect is explained by specific biological mechanisms."
   ]
  },
  {
   "cell_type": "markdown",
   "id": "917e8874",
   "metadata": {},
   "source": [
    "Related topics:\n",
    "- [OLS](https://gaow.github.io/statgen-prerequisites/ordinary_least_squares.html)\n",
    "- [confounder](https://gaow.github.io/statgen-prerequisites/confounder.html)"
   ]
  },
  {
   "cell_type": "code",
   "execution_count": 26,
   "id": "77db5047-6e43-4b9c-8afc-30b087c66a62",
   "metadata": {
    "tags": [],
    "vscode": {
     "languageId": "r"
    }
   },
   "outputs": [],
   "source": [
    "# Clear the environment\n",
    "rm(list = ls())\n",
    "set.seed(16)\n",
    "# Define genotypes for 5 individuals at 3 variants\n",
    "# These represent actual alleles at each position\n",
    "# For example, Individual 1 has genotypes: CC, CT, AT\n",
    "genotypes <- c(\n",
    " \"CC\", \"CT\", \"AT\",  # Individual 1\n",
    " \"TT\", \"TT\", \"AA\",  # Individual 2\n",
    " \"CT\", \"CT\", \"AA\",  # Individual 3\n",
    " \"CC\", \"TT\", \"AA\",  # Individual 4\n",
    " \"CC\", \"CC\", \"TT\"   # Individual 5\n",
    ")\n",
    "# Reshape into a matrix\n",
    "N = 5\n",
    "M = 3\n",
    "geno_matrix <- matrix(genotypes, nrow = N, ncol = M, byrow = TRUE)\n",
    "rownames(geno_matrix) <- paste(\"Individual\", 1:N)\n",
    "colnames(geno_matrix) <- paste(\"Variant\", 1:M)\n",
    "\n",
    "alt_alleles <- c(\"T\", \"C\", \"T\")\n",
    "\n",
    "# Convert to raw genotype matrix using the additive / dominant / recessive model\n",
    "Xraw_additive <- matrix(0, nrow = N, ncol = M) # dount number of non-reference alleles\n",
    "\n",
    "rownames(Xraw_additive) <- rownames(geno_matrix)\n",
    "colnames(Xraw_additive) <- colnames(geno_matrix)\n",
    "\n",
    "for (i in 1:N) {\n",
    "  for (j in 1:M) {\n",
    "    alleles <- strsplit(geno_matrix[i,j], \"\")[[1]]\n",
    "    Xraw_additive[i,j] <- sum(alleles == alt_alleles[j])\n",
    "  }\n",
    "}\n",
    "\n",
    "X <- scale(Xraw_additive, center = TRUE, scale = TRUE)\n"
   ]
  },
  {
   "cell_type": "markdown",
   "id": "a6328911",
   "metadata": {},
   "source": [
    "We assign the growth hormones levels for each individual from variant 3:"
   ]
  },
  {
   "cell_type": "code",
   "execution_count": 27,
   "id": "914639a7",
   "metadata": {
    "vscode": {
     "languageId": "r"
    }
   },
   "outputs": [],
   "source": [
    "# Generate growth hormone levels FROM variant 3 (mediator pathway)\n",
    "GH_raw <- 6 + 2 * Xraw_additive[, 3] + rnorm(N, 0, 0.1)  # Variant 3 affects GH\n",
    "GH <- scale(GH_raw)"
   ]
  },
  {
   "cell_type": "markdown",
   "id": "39a7de2b",
   "metadata": {},
   "source": [
    "Then we assign the height for the individuals (mediated by hormones):"
   ]
  },
  {
   "cell_type": "code",
   "execution_count": 28,
   "id": "b14b06ba",
   "metadata": {
    "vscode": {
     "languageId": "r"
    }
   },
   "outputs": [],
   "source": [
    "# Create mediator structure: Variant 3 → Growth Hormone → Height\n",
    "# Height is caused by:\n",
    "# 1. Direct effect from growth hormone (the mediator)\n",
    "# 2. Small effects from variants 1 and 2 (not mediated)\n",
    "# 3. NO direct effect from variant 3 (fully mediated through GH)\n",
    "\n",
    "height_raw <- 160 +                      # Base height\n",
    "             3 * GH +                    # Growth hormone effect (mediator pathway)\n",
    "             1 * X[, 1] +               # Small direct effect from variant 1\n",
    "             0.5 * X[, 2] +             # Small direct effect from variant 2\n",
    "             0 * X[, 3] +               # NO direct effect from variant 3 (fully mediated)\n",
    "             rnorm(N, 0, 0.5)           # Small noise\n",
    "\n",
    "Y <- scale(height_raw)"
   ]
  },
  {
   "cell_type": "markdown",
   "id": "206718a4",
   "metadata": {},
   "source": [
    "Then we perform OLS regression for each SNP:"
   ]
  },
  {
   "cell_type": "code",
   "execution_count": 29,
   "id": "2cfc97f7-fca6-4436-a0fa-4124e4c6bb7f",
   "metadata": {
    "vscode": {
     "languageId": "r"
    }
   },
   "outputs": [],
   "source": [
    "p_values <- numeric(M)  # Store p-values\n",
    "betas <- numeric(M)     # Store estimated effect sizes\n",
    "p_values_adjusted <- numeric(M)  # Store p-values adjusted for GH\n",
    "betas_adjusted <- numeric(M)     # Store estimated effect sizes adjusted for GH\n",
    "# Perform OLS regression for each SNP\n",
    "for (j in 1:M) {\n",
    "  SNP <- X[, j]  # Extract genotype for SNP j\n",
    "  model <- lm(Y ~ SNP)  # OLS regression: Trait ~ SNP\n",
    "  adjusted_model <- lm(Y ~ SNP + GH)  # Adjust for GH\n",
    "  summary_model <- summary(model)\n",
    "  summary_adjusted_model <- summary(adjusted_model)\n",
    "  # Store p-value and effect size (coefficient)\n",
    "  p_values[j] <- summary_model$coefficients[2, 4]  # p-value for SNP effect\n",
    "  betas[j] <- summary_model$coefficients[2, 1]     # Estimated beta coefficient\n",
    "  p_values_adjusted[j] <- summary_adjusted_model$coefficients[2, 4]  # p-value for SNP effect adjusted for growth hormone\n",
    "  betas_adjusted[j] <- summary_adjusted_model$coefficients[2, 1]     # Estimated beta coefficient adjusted for growth hormone\n",
    "}\n"
   ]
  },
  {
   "cell_type": "code",
   "execution_count": 30,
   "id": "19479119",
   "metadata": {
    "vscode": {
     "languageId": "r"
    }
   },
   "outputs": [
    {
     "data": {
      "text/html": [
       "<table class=\"dataframe\">\n",
       "<caption>A data.frame: 3 x 5</caption>\n",
       "<thead>\n",
       "\t<tr><th scope=col>Variant</th><th scope=col>Beta</th><th scope=col>P_Value</th><th scope=col>Beta_Adjusted</th><th scope=col>P_Value_Adjusted</th></tr>\n",
       "\t<tr><th scope=col>&lt;chr&gt;</th><th scope=col>&lt;dbl&gt;</th><th scope=col>&lt;dbl&gt;</th><th scope=col>&lt;dbl&gt;</th><th scope=col>&lt;dbl&gt;</th></tr>\n",
       "</thead>\n",
       "<tbody>\n",
       "\t<tr><td>Variant 1</td><td>-0.3763359</td><td>0.532398192</td><td> 0.2151202</td><td>0.1845598</td></tr>\n",
       "\t<tr><td>Variant 2</td><td> 0.9133526</td><td>0.030216252</td><td> 0.2247750</td><td>0.5336030</td></tr>\n",
       "\t<tr><td>Variant 3</td><td> 0.9668181</td><td>0.007219589</td><td>-3.0237908</td><td>0.3374487</td></tr>\n",
       "</tbody>\n",
       "</table>\n"
      ],
      "text/latex": [
       "A data.frame: 3 x 5\n",
       "\\begin{tabular}{lllll}\n",
       " Variant & Beta & P\\_Value & Beta\\_Adjusted & P\\_Value\\_Adjusted\\\\\n",
       " <chr> & <dbl> & <dbl> & <dbl> & <dbl>\\\\\n",
       "\\hline\n",
       "\t Variant 1 & -0.3763359 & 0.532398192 &  0.2151202 & 0.1845598\\\\\n",
       "\t Variant 2 &  0.9133526 & 0.030216252 &  0.2247750 & 0.5336030\\\\\n",
       "\t Variant 3 &  0.9668181 & 0.007219589 & -3.0237908 & 0.3374487\\\\\n",
       "\\end{tabular}\n"
      ],
      "text/markdown": [
       "\n",
       "A data.frame: 3 x 5\n",
       "\n",
       "| Variant &lt;chr&gt; | Beta &lt;dbl&gt; | P_Value &lt;dbl&gt; | Beta_Adjusted &lt;dbl&gt; | P_Value_Adjusted &lt;dbl&gt; |\n",
       "|---|---|---|---|---|\n",
       "| Variant 1 | -0.3763359 | 0.532398192 |  0.2151202 | 0.1845598 |\n",
       "| Variant 2 |  0.9133526 | 0.030216252 |  0.2247750 | 0.5336030 |\n",
       "| Variant 3 |  0.9668181 | 0.007219589 | -3.0237908 | 0.3374487 |\n",
       "\n"
      ],
      "text/plain": [
       "  Variant   Beta       P_Value     Beta_Adjusted P_Value_Adjusted\n",
       "1 Variant 1 -0.3763359 0.532398192  0.2151202    0.1845598       \n",
       "2 Variant 2  0.9133526 0.030216252  0.2247750    0.5336030       \n",
       "3 Variant 3  0.9668181 0.007219589 -3.0237908    0.3374487       "
      ]
     },
     "metadata": {},
     "output_type": "display_data"
    }
   ],
   "source": [
    "# Create results table\n",
    "results <- data.frame(Variant = colnames(X), Beta = betas, P_Value = p_values, \n",
    "                      Beta_Adjusted = betas_adjusted, P_Value_Adjusted = p_values_adjusted)\n",
    "results"
   ]
  },
  {
   "cell_type": "markdown",
   "id": "e4bad184",
   "metadata": {},
   "source": [
    "The results perfectly demonstrate the concept of mediation in genetic association studies. In the total effect analysis (without controlling for growth hormone), Variant 3 shows significant associations with height (p = 0.007). However, when we control for growth hormone as a mediator, the pattern dramatically changes: Variant 3's association completely disappears (p-value increases from 0.007 to 0.337), indicating that its effect on height is entirely mediated through growth hormone. This illustrates the key principle that controlling for a mediator removes the indirect effect, revealing only the direct pathway. For Variant 3, the loss of significance after controlling for growth hormone confirms that this variant affects height specifically through its influence on growth hormone levels, representing a classic mediation pathway in genetic studies."
   ]
  },
  {
   "cell_type": "markdown",
   "id": "7d021cd6",
   "metadata": {},
   "source": []
  }
 ],
 "metadata": {
  "kernelspec": {
   "display_name": "R",
   "language": "R",
   "name": "ir"
  },
  "language_info": {
   "codemirror_mode": "r",
   "file_extension": ".r",
   "mimetype": "text/x-r-source",
   "name": "R",
   "pygments_lexer": "r",
   "version": "4.3.3"
  },
  "toc-autonumbering": true
 },
 "nbformat": 4,
 "nbformat_minor": 5
}
