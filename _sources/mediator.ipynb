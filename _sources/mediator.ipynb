{
 "cells": [
  {
   "cell_type": "markdown",
   "id": "0c0b57e8",
   "metadata": {},
   "source": [
    "# Intuitional Description\n",
    "\n",
    "A mediator is a variable that **sits in the causal pathway between an exposure and an outcome**, explaining the mechanism through which the exposure exerts its effect on the outcome."
   ]
  },
  {
   "cell_type": "markdown",
   "id": "17cc7d04",
   "metadata": {},
   "source": [
    "# Graphical Summary"
   ]
  },
  {
   "cell_type": "markdown",
   "id": "26cb368b",
   "metadata": {},
   "source": [
    "![mediator](./cartoons/mediator.svg)"
   ]
  },
  {
   "cell_type": "markdown",
   "id": "db96dc6b",
   "metadata": {},
   "source": [
    "# Key Formula\n",
    "\n",
    "The key formula for the concept of a mediator is represented in a causal diagram as:\n",
    "$$\n",
    "X → M → Y\n",
    "$$\n",
    "Where:\n",
    "- $X$ is the independent variable (e.g., genetic variant)\n",
    "- $M$ is the mediator variable\n",
    "- $Y$ is the dependent variable (e.g., trait)\n",
    "- The arrows (→) indicate the direction of causal influence\n",
    "\n",
    "This diagram illustrates that a mediator ($M$) lies in the causal pathway between the independent variable ($X$) and the dependent variable ($Y$). The mediator transmits the effect of $X$ on $Y$, creating an indirect causal pathway through which $X$ affects $Y$."
   ]
  },
  {
   "cell_type": "markdown",
   "id": "1ed27bec",
   "metadata": {},
   "source": [
    "# Technical Details\n",
    "\n"
   ]
  },
  {
   "cell_type": "markdown",
   "id": "25d48711",
   "metadata": {},
   "source": [
    "A **mediator** is a variable that explains the mechanism or process by which an independent variable (exposure) influences a dependent variable (outcome). Unlike confounders, mediators are part of the causal pathway and represent how or why an effect occurs.\n",
    "\n",
    "In formal causal inference terminology, mediation analysis separates the total effect of $X$ on $Y$ into:\n",
    "\n",
    "1. Direct Effect: The effect of $X$ on $Y$ that does not go through $M$\n",
    "2. Indirect Effect: The effect of $X$ on $Y$ that operates through $M$\n",
    "\n",
    "The total effect can be decomposed as:\n",
    "\n",
    "$$\\text{Total Effect} = \\text{Direct Effect} + \\text{Indirect Effect}$$\n",
    "\n",
    "Unlike confounders which should be controlled for, adjusting for mediators can block the pathway of interest and mask the total causal effect being studied."
   ]
  },
  {
   "cell_type": "markdown",
   "id": "b7e8ea44",
   "metadata": {},
   "source": [
    "# Example"
   ]
  },
  {
   "cell_type": "markdown",
   "id": "25eee56a",
   "metadata": {},
   "source": [
    "This example demonstrates how to identify and analyze a mediator in genetic association studies. We create a simple dataset with:\n",
    "\n",
    "- Genetic variants for 5 individuals\n",
    "- Height measurements\n",
    "- **Growth hormone levels (the mediator)**\n",
    "\n",
    "We perform two analyses:\n",
    "\n",
    "- Total Effect Analysis: The overall relationship between genetic variants and height without considering the mediator\n",
    "- Direct Effect Analysis: The relationship between variants and height while controlling for growth hormone\n",
    "\n",
    "The example shows how genetic variants can influence height both directly and indirectly through biological mechanisms (growth hormone levels). By analyzing these pathways separately, we can better understand the biological processes underlying genetic associations and quantify how much of a genetic effect is explained by specific biological mechanisms."
   ]
  },
  {
   "cell_type": "code",
   "execution_count": 22,
   "id": "77db5047-6e43-4b9c-8afc-30b087c66a62",
   "metadata": {
    "tags": [],
    "vscode": {
     "languageId": "r"
    }
   },
   "outputs": [],
   "source": [
    "# Clear the environment\n",
    "rm(list = ls())\n",
    "\n",
    "# Define genotypes for 5 individuals at 3 variants\n",
    "# These represent actual alleles at each position\n",
    "# For example, Individual 1 has genotypes: CC, CT, AT\n",
    "genotypes <- c(\n",
    "    \"CC\", \"CT\", \"AT\", # Individual 1\n",
    "    \"TT\", \"TT\", \"AA\", # Individual 2\n",
    "    \"CT\", \"CT\", \"AA\", # Individual 3\n",
    "    \"CC\", \"TT\", \"AA\", # Individual 4\n",
    "    \"CC\", \"CC\", \"TT\" # Individual 5\n",
    ")\n",
    "# Reshape into a matrix\n",
    "N <- 5 # number of individuals\n",
    "M <- 3 # number of variants\n",
    "geno_matrix <- matrix(genotypes, nrow = N, ncol = M, byrow = TRUE)\n",
    "rownames(geno_matrix) <- paste(\"Individual\", 1:N)\n",
    "colnames(geno_matrix) <- paste(\"Variant\", 1:M)\n",
    "\n",
    "alt_alleles <- c(\"T\", \"C\", \"T\")\n",
    "ref_alleles <- c(\"C\", \"T\", \"A\")\n",
    "\n",
    "# Convert to raw genotype matrix using the additive / dominant / recessive model\n",
    "Xraw_additive <- matrix(0, nrow = N, ncol = M) # dount number of non-reference alleles\n",
    "\n",
    "rownames(Xraw_additive) <- rownames(geno_matrix)\n",
    "colnames(Xraw_additive) <- colnames(geno_matrix)\n",
    "\n",
    "for (i in 1:N) {\n",
    "    for (j in 1:M) {\n",
    "        alleles <- strsplit(geno_matrix[i, j], \"\")[[1]]\n",
    "        Xraw_additive[i, j] <- sum(alleles == alt_alleles[j])\n",
    "    }\n",
    "}\n",
    "X <- scale(Xraw_additive, center = TRUE, scale = TRUE)"
   ]
  },
  {
   "cell_type": "code",
   "execution_count": 23,
   "id": "34cd189d-b3b1-4e6c-bfb6-068aedca8beb",
   "metadata": {
    "tags": [],
    "vscode": {
     "languageId": "r"
    }
   },
   "outputs": [],
   "source": [
    "# assign observed height for the 5 individuals\n",
    "Y_raw <- c(180, 160, 158, 155, 193)\n",
    "Y <- scale(Y_raw)"
   ]
  },
  {
   "cell_type": "code",
   "execution_count": 25,
   "id": "521a4e5c",
   "metadata": {
    "vscode": {
     "languageId": "r"
    }
   },
   "outputs": [],
   "source": [
    "# assign observed growth hormone levels for the 5 individuals\n",
    "GH_raw <- c(7.61, 5.18, 5.20, 5.06, 8.72)\n",
    "GH <- scale(GH_raw)"
   ]
  },
  {
   "cell_type": "code",
   "execution_count": 26,
   "id": "2cfc97f7-fca6-4436-a0fa-4124e4c6bb7f",
   "metadata": {
    "vscode": {
     "languageId": "r"
    }
   },
   "outputs": [],
   "source": [
    "# Analysis 1: Total effect - Direct regression without mediator\n",
    "# This shows the total effect of each variant on height\n",
    "# This is exactly what we did in the summary statistics section\n",
    "sumstats_total <- data.frame(\n",
    "    SNP = paste0(\"rs\", 1:M),\n",
    "    CHR = c(1, 1, 2),\n",
    "    BP = c(1000, 2000, 5000),\n",
    "    ALT = alt_alleles,\n",
    "    REF = ref_alleles,\n",
    "    N = rep(N, M),\n",
    "    BETA_Total = numeric(M),\n",
    "    SE_Total = numeric(M),\n",
    "    Z_Total = numeric(M),\n",
    "    P_Total = numeric(M)\n",
    ")\n",
    "\n",
    "for (j in 1:M) {\n",
    "    SNP <- X[, j]\n",
    "    model <- lm(Y ~ SNP)\n",
    "    summary_model <- summary(model)\n",
    "\n",
    "    # Store results\n",
    "    sumstats_total$BETA_Total[j] <- summary_model$coefficients[2, 1]\n",
    "    sumstats_total$SE_Total[j] <- summary_model$coefficients[2, 2]\n",
    "    sumstats_total$Z_Total[j] <- summary_model$coefficients[2, 3]\n",
    "    sumstats_total$P_Total[j] <- summary_model$coefficients[2, 4]\n",
    "}"
   ]
  },
  {
   "cell_type": "code",
   "execution_count": 27,
   "id": "483d3da0-5fd7-4d1e-8ca8-1483f682f6aa",
   "metadata": {
    "vscode": {
     "languageId": "r"
    }
   },
   "outputs": [],
   "source": [
    "# Analysis 2: Direct effect - Regression controlling for mediator\n",
    "# This shows the direct effect after accounting for the mediator pathway\n",
    "sumstats_direct <- data.frame(\n",
    "    SNP = paste0(\"rs\", 1:M),\n",
    "    CHR = c(1, 1, 2),\n",
    "    BP = c(1000, 2000, 5000),\n",
    "    ALT = alt_alleles,\n",
    "    REF = ref_alleles,\n",
    "    N = rep(N, M),\n",
    "    BETA_Direct = numeric(M),\n",
    "    SE_Direct = numeric(M),\n",
    "    Z_Direct = numeric(M),\n",
    "    P_Direct = numeric(M)\n",
    ")\n",
    "\n",
    "for (j in 1:M) {\n",
    "    SNP <- X[, j]\n",
    "    model <- lm(Y ~ SNP + GH) # Control for the mediator\n",
    "    summary_model <- summary(model)\n",
    "\n",
    "    # Store results\n",
    "    sumstats_direct$BETA_Direct[j] <- summary_model$coefficients[2, 1]\n",
    "    sumstats_direct$SE_Direct[j] <- summary_model$coefficients[2, 2]\n",
    "    sumstats_direct$Z_Direct[j] <- summary_model$coefficients[2, 3]\n",
    "    sumstats_direct$P_Direct[j] <- summary_model$coefficients[2, 4]\n",
    "}"
   ]
  },
  {
   "cell_type": "code",
   "execution_count": 28,
   "id": "c3d5979a-9017-4630-bcbf-9dc512a70c87",
   "metadata": {
    "vscode": {
     "languageId": "r"
    }
   },
   "outputs": [
    {
     "name": "stdout",
     "output_type": "stream",
     "text": [
      "[1] \"GWAS Summary Statistics before including growth hormone levels:\"\n"
     ]
    },
    {
     "data": {
      "text/html": [
       "<table class=\"dataframe\">\n",
       "<caption>A data.frame: 3 × 10</caption>\n",
       "<thead>\n",
       "\t<tr><th scope=col>SNP</th><th scope=col>CHR</th><th scope=col>BP</th><th scope=col>ALT</th><th scope=col>REF</th><th scope=col>N</th><th scope=col>BETA_Total</th><th scope=col>SE_Total</th><th scope=col>Z_Total</th><th scope=col>P_Total</th></tr>\n",
       "\t<tr><th scope=col>&lt;chr&gt;</th><th scope=col>&lt;dbl&gt;</th><th scope=col>&lt;dbl&gt;</th><th scope=col>&lt;chr&gt;</th><th scope=col>&lt;chr&gt;</th><th scope=col>&lt;dbl&gt;</th><th scope=col>&lt;dbl&gt;</th><th scope=col>&lt;dbl&gt;</th><th scope=col>&lt;dbl&gt;</th><th scope=col>&lt;dbl&gt;</th></tr>\n",
       "</thead>\n",
       "<tbody>\n",
       "\t<tr><td>rs1</td><td>1</td><td>1000</td><td>T</td><td>C</td><td>5</td><td>-0.5000913</td><td>0.49996955</td><td>-1.000244</td><td>0.390901513</td></tr>\n",
       "\t<tr><td>rs2</td><td>1</td><td>2000</td><td>C</td><td>T</td><td>5</td><td> 0.8525024</td><td>0.30179448</td><td> 2.824778</td><td>0.066475513</td></tr>\n",
       "\t<tr><td>rs3</td><td>2</td><td>5000</td><td>T</td><td>A</td><td>5</td><td> 0.9866667</td><td>0.09396605</td><td>10.500246</td><td>0.001844466</td></tr>\n",
       "</tbody>\n",
       "</table>\n"
      ],
      "text/latex": [
       "A data.frame: 3 × 10\n",
       "\\begin{tabular}{llllllllll}\n",
       " SNP & CHR & BP & ALT & REF & N & BETA\\_Total & SE\\_Total & Z\\_Total & P\\_Total\\\\\n",
       " <chr> & <dbl> & <dbl> & <chr> & <chr> & <dbl> & <dbl> & <dbl> & <dbl> & <dbl>\\\\\n",
       "\\hline\n",
       "\t rs1 & 1 & 1000 & T & C & 5 & -0.5000913 & 0.49996955 & -1.000244 & 0.390901513\\\\\n",
       "\t rs2 & 1 & 2000 & C & T & 5 &  0.8525024 & 0.30179448 &  2.824778 & 0.066475513\\\\\n",
       "\t rs3 & 2 & 5000 & T & A & 5 &  0.9866667 & 0.09396605 & 10.500246 & 0.001844466\\\\\n",
       "\\end{tabular}\n"
      ],
      "text/markdown": [
       "\n",
       "A data.frame: 3 × 10\n",
       "\n",
       "| SNP &lt;chr&gt; | CHR &lt;dbl&gt; | BP &lt;dbl&gt; | ALT &lt;chr&gt; | REF &lt;chr&gt; | N &lt;dbl&gt; | BETA_Total &lt;dbl&gt; | SE_Total &lt;dbl&gt; | Z_Total &lt;dbl&gt; | P_Total &lt;dbl&gt; |\n",
       "|---|---|---|---|---|---|---|---|---|---|\n",
       "| rs1 | 1 | 1000 | T | C | 5 | -0.5000913 | 0.49996955 | -1.000244 | 0.390901513 |\n",
       "| rs2 | 1 | 2000 | C | T | 5 |  0.8525024 | 0.30179448 |  2.824778 | 0.066475513 |\n",
       "| rs3 | 2 | 5000 | T | A | 5 |  0.9866667 | 0.09396605 | 10.500246 | 0.001844466 |\n",
       "\n"
      ],
      "text/plain": [
       "  SNP CHR BP   ALT REF N BETA_Total SE_Total   Z_Total   P_Total    \n",
       "1 rs1 1   1000 T   C   5 -0.5000913 0.49996955 -1.000244 0.390901513\n",
       "2 rs2 1   2000 C   T   5  0.8525024 0.30179448  2.824778 0.066475513\n",
       "3 rs3 2   5000 T   A   5  0.9866667 0.09396605 10.500246 0.001844466"
      ]
     },
     "metadata": {},
     "output_type": "display_data"
    },
    {
     "name": "stdout",
     "output_type": "stream",
     "text": [
      "[1] \"GWAS Summary Statistics after including growth hormone levels:\"\n"
     ]
    },
    {
     "data": {
      "text/html": [
       "<table class=\"dataframe\">\n",
       "<caption>A data.frame: 3 × 10</caption>\n",
       "<thead>\n",
       "\t<tr><th scope=col>SNP</th><th scope=col>CHR</th><th scope=col>BP</th><th scope=col>ALT</th><th scope=col>REF</th><th scope=col>N</th><th scope=col>BETA_Direct</th><th scope=col>SE_Direct</th><th scope=col>Z_Direct</th><th scope=col>P_Direct</th></tr>\n",
       "\t<tr><th scope=col>&lt;chr&gt;</th><th scope=col>&lt;dbl&gt;</th><th scope=col>&lt;dbl&gt;</th><th scope=col>&lt;chr&gt;</th><th scope=col>&lt;chr&gt;</th><th scope=col>&lt;dbl&gt;</th><th scope=col>&lt;dbl&gt;</th><th scope=col>&lt;dbl&gt;</th><th scope=col>&lt;dbl&gt;</th><th scope=col>&lt;dbl&gt;</th></tr>\n",
       "</thead>\n",
       "<tbody>\n",
       "\t<tr><td>rs1</td><td>1</td><td>1000</td><td>T</td><td>C</td><td>5</td><td>0.1092447</td><td>0.03095315</td><td>3.5293578</td><td>0.07174753</td></tr>\n",
       "\t<tr><td>rs2</td><td>1</td><td>2000</td><td>C</td><td>T</td><td>5</td><td>0.0243653</td><td>0.12787410</td><td>0.1905413</td><td>0.86647342</td></tr>\n",
       "\t<tr><td>rs3</td><td>2</td><td>5000</td><td>T</td><td>A</td><td>5</td><td>0.2183809</td><td>0.35630560</td><td>0.6129035</td><td>0.60235017</td></tr>\n",
       "</tbody>\n",
       "</table>\n"
      ],
      "text/latex": [
       "A data.frame: 3 × 10\n",
       "\\begin{tabular}{llllllllll}\n",
       " SNP & CHR & BP & ALT & REF & N & BETA\\_Direct & SE\\_Direct & Z\\_Direct & P\\_Direct\\\\\n",
       " <chr> & <dbl> & <dbl> & <chr> & <chr> & <dbl> & <dbl> & <dbl> & <dbl> & <dbl>\\\\\n",
       "\\hline\n",
       "\t rs1 & 1 & 1000 & T & C & 5 & 0.1092447 & 0.03095315 & 3.5293578 & 0.07174753\\\\\n",
       "\t rs2 & 1 & 2000 & C & T & 5 & 0.0243653 & 0.12787410 & 0.1905413 & 0.86647342\\\\\n",
       "\t rs3 & 2 & 5000 & T & A & 5 & 0.2183809 & 0.35630560 & 0.6129035 & 0.60235017\\\\\n",
       "\\end{tabular}\n"
      ],
      "text/markdown": [
       "\n",
       "A data.frame: 3 × 10\n",
       "\n",
       "| SNP &lt;chr&gt; | CHR &lt;dbl&gt; | BP &lt;dbl&gt; | ALT &lt;chr&gt; | REF &lt;chr&gt; | N &lt;dbl&gt; | BETA_Direct &lt;dbl&gt; | SE_Direct &lt;dbl&gt; | Z_Direct &lt;dbl&gt; | P_Direct &lt;dbl&gt; |\n",
       "|---|---|---|---|---|---|---|---|---|---|\n",
       "| rs1 | 1 | 1000 | T | C | 5 | 0.1092447 | 0.03095315 | 3.5293578 | 0.07174753 |\n",
       "| rs2 | 1 | 2000 | C | T | 5 | 0.0243653 | 0.12787410 | 0.1905413 | 0.86647342 |\n",
       "| rs3 | 2 | 5000 | T | A | 5 | 0.2183809 | 0.35630560 | 0.6129035 | 0.60235017 |\n",
       "\n"
      ],
      "text/plain": [
       "  SNP CHR BP   ALT REF N BETA_Direct SE_Direct  Z_Direct  P_Direct  \n",
       "1 rs1 1   1000 T   C   5 0.1092447   0.03095315 3.5293578 0.07174753\n",
       "2 rs2 1   2000 C   T   5 0.0243653   0.12787410 0.1905413 0.86647342\n",
       "3 rs3 2   5000 T   A   5 0.2183809   0.35630560 0.6129035 0.60235017"
      ]
     },
     "metadata": {},
     "output_type": "display_data"
    }
   ],
   "source": [
    "# Print summary statistics in standard format (before adjusting for ancestry)\n",
    "print(\"GWAS Summary Statistics before including growth hormone levels:\")\n",
    "sumstats_total\n",
    "# Print summary statistics in standard format (after adjusting for ancestry)\n",
    "print(\"GWAS Summary Statistics after including growth hormone levels:\")\n",
    "sumstats_direct\n"
   ]
  },
  {
   "cell_type": "markdown",
   "id": "36514c81",
   "metadata": {},
   "source": [
    "# Supplementary"
   ]
  },
  {
   "cell_type": "markdown",
   "id": "39b3ffa6-632d-483a-a8ff-11d0ed6607cc",
   "metadata": {},
   "source": [
    "> slide 62 from Xin He's slides\n",
    "\n",
    "\n",
    "> slide 65 from Xin He's slides\n",
    "\n",
    "\n",
    "> slide 30-34 from Gao Wang's slides\n",
    "\n",
    "> slide 348-350 from GW"
   ]
  },
  {
   "cell_type": "code",
   "execution_count": null,
   "id": "73497dba-d6f3-41ce-a925-f61d2dab134e",
   "metadata": {
    "vscode": {
     "languageId": "r"
    }
   },
   "outputs": [],
   "source": []
  }
 ],
 "metadata": {
  "kernelspec": {
   "display_name": "/mnt/vast/hpc/homes/rd2972/micromamba/envs/pisces-rabbit/bin/R",
   "language": "/mnt/vast/hpc/homes/rd2972/micromamba/envs/pisces-rabbit/bin/R",
   "name": "ir"
  },
  "language_info": {
   "codemirror_mode": "r",
   "file_extension": ".r",
   "mimetype": "text/x-r-source",
   "name": "R",
   "pygments_lexer": "r",
   "version": "4.4.2"
  },
  "toc-autonumbering": true
 },
 "nbformat": 4,
 "nbformat_minor": 5
}
