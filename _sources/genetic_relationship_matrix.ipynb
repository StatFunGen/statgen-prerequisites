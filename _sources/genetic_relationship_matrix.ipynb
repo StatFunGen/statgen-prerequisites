{
 "cells": [
  {
   "cell_type": "markdown",
   "id": "573cb73e",
   "metadata": {},
   "source": [
    "# Genetic Relationship Matrix\n",
    "\n",
    "Genetic relationship matrix (GRM) captures how related individuals are to each other at the genomic level by measuring the **proportion of shared genetic variants** across their genomes, and quantifies the **genetic similarity** between every pair of individuals in the population."
   ]
  },
  {
   "cell_type": "markdown",
   "id": "1f1f79d7",
   "metadata": {},
   "source": [
    "# Graphical Summary"
   ]
  },
  {
   "cell_type": "markdown",
   "id": "de8b88a7",
   "metadata": {},
   "source": [
    "![Fig](./graphical_summary/slides/Slide6.png)"
   ]
  },
  {
   "cell_type": "markdown",
   "id": "c6f8b58d",
   "metadata": {},
   "source": [
    "# Key Formula\n",
    "\n",
    "**Genomic Relationship Matrix (GRM)** is a standardized version of the kinship matrix that accounts for allele frequencies. One common formulation is:\n",
    "\n",
    "$$\n",
    "\\mathbf{G} = \\frac{ \\mathbf{X} \\mathbf{X}^T}{M}\n",
    "$$\n",
    "\n",
    "Where:\n",
    "- $\\mathbf{X}$ is the scaled genotype matrix of $N$ individuals and $M$ genetic variants.\n",
    "- $ \\mathbf{G} $ is an $ N \\times N $ matrix capturing the pairwise genetic relationships.\n"
   ]
  },
  {
   "cell_type": "markdown",
   "id": "907840eb",
   "metadata": {},
   "source": [
    "# Technical Details\n",
    "\n",
    "## Relationship to Kinship\n",
    "\n",
    "**What is kinship?** Kinship measures how much DNA two people share from common ancestors. You share about 50% of your DNA with each parent. If you and your cousin both have the same grandparents, you share about 12.5% of your DNA with him or her. Strangers typically share almost no DNA.\n",
    "\n",
    "**So what's different about the GRM?** Instead of relying on family trees, the GRM looks directly at thousands of genetic variants and asks: \"Based on what I can actually observe in the DNA, how similar are these two people?\"\n",
    "\n",
    "**Why is this better for statistical genetics?** Family trees can be wrong or incomplete. Maybe two \"unrelated\" people in your study are actually distant cousins, or maybe there's some population structure you didn't know about. The GRM catches these things because it's looking at the actual genetic data. However, kinship still has advantages - it's computationally simpler, doesn't require genotyping, and works well for breeding programs or family studies where pedigrees are accurate and complete.\n",
    "\n",
    "**What's this about allele frequencies?** Here's the key insight: if everyone in your population has allele A at some position, then you and I both having A tells us nothing special. But if only 2% of people have allele B, and we both have it, that's much more informative about our relatedness. The GRM weights rare shared alleles more heavily than common ones.\n",
    "\n",
    "## Scaling Properties\n",
    "\n",
    "Because $\\mathbf{X}$ is standardized across individuals (each variant has variance = 1), the diagonal elements of $\\mathbf{G}$ aren't necessarily 1. The diagonal tells you how \"typical\" each individual is compared to the population average."
   ]
  },
  {
   "cell_type": "markdown",
   "id": "ebbe5269",
   "metadata": {},
   "source": [
    "# Related Topics\n",
    "\n",
    "- [genotype coding](https://gaow.github.io/statgen-prerequisites/genotype_coding.html)\n",
    "- [minor allele frequency](https://gaow.github.io/statgen-prerequisites/minor_allele_frequency.html)"
   ]
  },
  {
   "cell_type": "markdown",
   "id": "a1c396fa",
   "metadata": {},
   "source": [
    "# Example"
   ]
  },
  {
   "cell_type": "markdown",
   "id": "a9a44dfd-ac1c-4160-b456-909fa77b13b6",
   "metadata": {},
   "source": [
    "We've been working with the same 5 individuals and 3 genetic variants throughout our examples so far. Now let's see what happens when we use this data to compute a GRM. Which individuals appear most genetically similar to each other? Do any of them look like they might be related? And what do the numbers in the GRM actually tell us about genetic relationships?\n",
    "\n",
    "Let's calculate the GRM step by step and interpret what each element means in terms of genetic similarity."
   ]
  },
  {
   "cell_type": "code",
   "execution_count": 1,
   "id": "984babaa-7d66-4ed3-bde4-3ed97c7f454d",
   "metadata": {
    "tags": [],
    "vscode": {
     "languageId": "r"
    }
   },
   "outputs": [],
   "source": [
    "# Clear the environment\n",
    "rm(list = ls())\n",
    "\n",
    "# Define genotypes for 5 individuals at 3 variants\n",
    "# These represent actual alleles at each position\n",
    "# For example, Individual 1 has genotypes: CC, CT, AT\n",
    "genotypes <- c(\n",
    " \"CC\", \"CT\", \"AT\",  # Individual 1\n",
    " \"TT\", \"TT\", \"AA\",  # Individual 2\n",
    " \"CT\", \"CT\", \"AA\",  # Individual 3\n",
    " \"CC\", \"TT\", \"AA\",  # Individual 4\n",
    " \"CC\", \"CC\", \"TT\"   # Individual 5\n",
    ")\n",
    "# Reshape into a matrix\n",
    "N = 5\n",
    "M = 3\n",
    "geno_matrix <- matrix(genotypes, nrow = N, ncol = M, byrow = TRUE)\n",
    "rownames(geno_matrix) <- paste(\"Individual\", 1:N)\n",
    "colnames(geno_matrix) <- paste(\"Variant\", 1:M)\n",
    "\n",
    "alt_alleles <- c(\"T\", \"C\", \"T\")\n",
    "\n",
    "# Convert to raw genotype matrix using the additive / dominant / recessive model\n",
    "Xraw_additive <- matrix(0, nrow = N, ncol = M) # dount number of non-reference alleles\n",
    "\n",
    "rownames(Xraw_additive) <- rownames(geno_matrix)\n",
    "colnames(Xraw_additive) <- colnames(geno_matrix)\n",
    "\n",
    "for (i in 1:N) {\n",
    "  for (j in 1:M) {\n",
    "    alleles <- strsplit(geno_matrix[i,j], \"\")[[1]]\n",
    "    Xraw_additive[i,j] <- sum(alleles == alt_alleles[j])\n",
    "  }\n",
    "}\n",
    "\n",
    "X <- scale(Xraw_additive, center = TRUE, scale = TRUE)\n"
   ]
  },
  {
   "cell_type": "markdown",
   "id": "a62e0cda",
   "metadata": {},
   "source": [
    "The scaled genotype matrix `X` (scaled with respective for column) is:"
   ]
  },
  {
   "cell_type": "code",
   "execution_count": 2,
   "id": "ff096c3e",
   "metadata": {
    "vscode": {
     "languageId": "r"
    }
   },
   "outputs": [
    {
     "data": {
      "text/html": [
       "<table class=\"dataframe\">\n",
       "<caption>A matrix: 5 x 3 of type dbl</caption>\n",
       "<thead>\n",
       "\t<tr><th></th><th scope=col>Variant 1</th><th scope=col>Variant 2</th><th scope=col>Variant 3</th></tr>\n",
       "</thead>\n",
       "<tbody>\n",
       "\t<tr><th scope=row>Individual 1</th><td>-0.6708204</td><td> 0.2390457</td><td> 0.4472136</td></tr>\n",
       "\t<tr><th scope=row>Individual 2</th><td> 1.5652476</td><td>-0.9561829</td><td>-0.6708204</td></tr>\n",
       "\t<tr><th scope=row>Individual 3</th><td> 0.4472136</td><td> 0.2390457</td><td>-0.6708204</td></tr>\n",
       "\t<tr><th scope=row>Individual 4</th><td>-0.6708204</td><td>-0.9561829</td><td>-0.6708204</td></tr>\n",
       "\t<tr><th scope=row>Individual 5</th><td>-0.6708204</td><td> 1.4342743</td><td> 1.5652476</td></tr>\n",
       "</tbody>\n",
       "</table>\n"
      ],
      "text/latex": [
       "A matrix: 5 x 3 of type dbl\n",
       "\\begin{tabular}{r|lll}\n",
       "  & Variant 1 & Variant 2 & Variant 3\\\\\n",
       "\\hline\n",
       "\tIndividual 1 & -0.6708204 &  0.2390457 &  0.4472136\\\\\n",
       "\tIndividual 2 &  1.5652476 & -0.9561829 & -0.6708204\\\\\n",
       "\tIndividual 3 &  0.4472136 &  0.2390457 & -0.6708204\\\\\n",
       "\tIndividual 4 & -0.6708204 & -0.9561829 & -0.6708204\\\\\n",
       "\tIndividual 5 & -0.6708204 &  1.4342743 &  1.5652476\\\\\n",
       "\\end{tabular}\n"
      ],
      "text/markdown": [
       "\n",
       "A matrix: 5 x 3 of type dbl\n",
       "\n",
       "| <!--/--> | Variant 1 | Variant 2 | Variant 3 |\n",
       "|---|---|---|---|\n",
       "| Individual 1 | -0.6708204 |  0.2390457 |  0.4472136 |\n",
       "| Individual 2 |  1.5652476 | -0.9561829 | -0.6708204 |\n",
       "| Individual 3 |  0.4472136 |  0.2390457 | -0.6708204 |\n",
       "| Individual 4 | -0.6708204 | -0.9561829 | -0.6708204 |\n",
       "| Individual 5 | -0.6708204 |  1.4342743 |  1.5652476 |\n",
       "\n"
      ],
      "text/plain": [
       "             Variant 1  Variant 2  Variant 3 \n",
       "Individual 1 -0.6708204  0.2390457  0.4472136\n",
       "Individual 2  1.5652476 -0.9561829 -0.6708204\n",
       "Individual 3  0.4472136  0.2390457 -0.6708204\n",
       "Individual 4 -0.6708204 -0.9561829 -0.6708204\n",
       "Individual 5 -0.6708204  1.4342743  1.5652476"
      ]
     },
     "metadata": {},
     "output_type": "display_data"
    }
   ],
   "source": [
    "X"
   ]
  },
  {
   "cell_type": "markdown",
   "id": "134d7f84",
   "metadata": {},
   "source": [
    "The GRM can be calculated as:"
   ]
  },
  {
   "cell_type": "code",
   "execution_count": 3,
   "id": "7777d90e",
   "metadata": {
    "vscode": {
     "languageId": "r"
    }
   },
   "outputs": [
    {
     "data": {
      "text/html": [
       "<table class=\"dataframe\">\n",
       "<caption>A matrix: 5 x 5 of type dbl</caption>\n",
       "<thead>\n",
       "\t<tr><th></th><th scope=col>Individual 1</th><th scope=col>Individual 2</th><th scope=col>Individual 3</th><th scope=col>Individual 4</th><th scope=col>Individual 5</th></tr>\n",
       "</thead>\n",
       "<tbody>\n",
       "\t<tr><th scope=row>Individual 1</th><td> 0.23571429</td><td>-0.5261905</td><td>-0.18095238</td><td>-0.02619048</td><td> 0.4976190</td></tr>\n",
       "\t<tr><th scope=row>Individual 2</th><td>-0.52619048</td><td> 1.2714286</td><td> 0.30714286</td><td> 0.10476190</td><td>-1.1571429</td></tr>\n",
       "\t<tr><th scope=row>Individual 3</th><td>-0.18095238</td><td> 0.3071429</td><td> 0.23571429</td><td>-0.02619048</td><td>-0.3357143</td></tr>\n",
       "\t<tr><th scope=row>Individual 4</th><td>-0.02619048</td><td> 0.1047619</td><td>-0.02619048</td><td> 0.60476190</td><td>-0.6571429</td></tr>\n",
       "\t<tr><th scope=row>Individual 5</th><td> 0.49761905</td><td>-1.1571429</td><td>-0.33571429</td><td>-0.65714286</td><td> 1.6523810</td></tr>\n",
       "</tbody>\n",
       "</table>\n"
      ],
      "text/latex": [
       "A matrix: 5 x 5 of type dbl\n",
       "\\begin{tabular}{r|lllll}\n",
       "  & Individual 1 & Individual 2 & Individual 3 & Individual 4 & Individual 5\\\\\n",
       "\\hline\n",
       "\tIndividual 1 &  0.23571429 & -0.5261905 & -0.18095238 & -0.02619048 &  0.4976190\\\\\n",
       "\tIndividual 2 & -0.52619048 &  1.2714286 &  0.30714286 &  0.10476190 & -1.1571429\\\\\n",
       "\tIndividual 3 & -0.18095238 &  0.3071429 &  0.23571429 & -0.02619048 & -0.3357143\\\\\n",
       "\tIndividual 4 & -0.02619048 &  0.1047619 & -0.02619048 &  0.60476190 & -0.6571429\\\\\n",
       "\tIndividual 5 &  0.49761905 & -1.1571429 & -0.33571429 & -0.65714286 &  1.6523810\\\\\n",
       "\\end{tabular}\n"
      ],
      "text/markdown": [
       "\n",
       "A matrix: 5 x 5 of type dbl\n",
       "\n",
       "| <!--/--> | Individual 1 | Individual 2 | Individual 3 | Individual 4 | Individual 5 |\n",
       "|---|---|---|---|---|---|\n",
       "| Individual 1 |  0.23571429 | -0.5261905 | -0.18095238 | -0.02619048 |  0.4976190 |\n",
       "| Individual 2 | -0.52619048 |  1.2714286 |  0.30714286 |  0.10476190 | -1.1571429 |\n",
       "| Individual 3 | -0.18095238 |  0.3071429 |  0.23571429 | -0.02619048 | -0.3357143 |\n",
       "| Individual 4 | -0.02619048 |  0.1047619 | -0.02619048 |  0.60476190 | -0.6571429 |\n",
       "| Individual 5 |  0.49761905 | -1.1571429 | -0.33571429 | -0.65714286 |  1.6523810 |\n",
       "\n"
      ],
      "text/plain": [
       "             Individual 1 Individual 2 Individual 3 Individual 4 Individual 5\n",
       "Individual 1  0.23571429  -0.5261905   -0.18095238  -0.02619048   0.4976190  \n",
       "Individual 2 -0.52619048   1.2714286    0.30714286   0.10476190  -1.1571429  \n",
       "Individual 3 -0.18095238   0.3071429    0.23571429  -0.02619048  -0.3357143  \n",
       "Individual 4 -0.02619048   0.1047619   -0.02619048   0.60476190  -0.6571429  \n",
       "Individual 5  0.49761905  -1.1571429   -0.33571429  -0.65714286   1.6523810  "
      ]
     },
     "metadata": {},
     "output_type": "display_data"
    }
   ],
   "source": [
    "# calculate the GRM\n",
    "GRM = (X %*% t(X)) / M\n",
    "GRM"
   ]
  }
 ],
 "metadata": {
  "kernelspec": {
   "display_name": "R",
   "language": "R",
   "name": "ir"
  },
  "language_info": {
   "codemirror_mode": "r",
   "file_extension": ".r",
   "mimetype": "text/x-r-source",
   "name": "R",
   "pygments_lexer": "r",
   "version": "4.3.3"
  },
  "toc-autonumbering": true
 },
 "nbformat": 4,
 "nbformat_minor": 5
}
