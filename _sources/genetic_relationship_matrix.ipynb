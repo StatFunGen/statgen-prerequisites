{
 "cells": [
  {
   "cell_type": "markdown",
   "id": "573cb73e",
   "metadata": {},
   "source": [
    "# Genetic Relationship Matrix\n",
    "\n",
    "**Genetic relationship matrix (GRM)** captures how related individuals are to each other at the genomic level by measuring the proportion of shared genetic variants across their genomes, and quantifies the genetic similarity between every pair of individuals in the population."
   ]
  },
  {
   "cell_type": "markdown",
   "id": "1f1f79d7",
   "metadata": {},
   "source": [
    "# Graphical Summary"
   ]
  },
  {
   "cell_type": "markdown",
   "id": "de8b88a7",
   "metadata": {},
   "source": [
    "![GRM](./cartoons/genetic_relationship_matrix.svg)"
   ]
  },
  {
   "cell_type": "markdown",
   "id": "c6f8b58d",
   "metadata": {},
   "source": [
    "# Key Formula\n",
    "\n",
    "The **Genomic Relationship Matrix (GRM)** is a standardized version of the kinship matrix that accounts for allele frequencies. One common formulation is:\n",
    "\n",
    "$$\n",
    "\\mathbf{G} = \\frac{ \\mathbf{X} \\mathbf{X}^T}{M}\n",
    "$$\n",
    "\n",
    "Where:\n",
    "- $\\mathbf{X}$ is the scaled genotype matrix of $N$ individuals and $M$ genetic variants.\n",
    "- $ \\mathbf{G} $ is an $ N \\times N $ matrix capturing the pairwise genetic relationships.\n"
   ]
  },
  {
   "cell_type": "markdown",
   "id": "907840eb",
   "metadata": {},
   "source": [
    "# Technical Details\n",
    "\n",
    "Note that because $\\mathbf{X}$ is scaled so that the variance of each SNP is 1, instead of across individuals, so the diagonal elements of $\\mathbf{G}$ is generally not 1."
   ]
  },
  {
   "cell_type": "markdown",
   "id": "a1c396fa",
   "metadata": {},
   "source": [
    "# Example"
   ]
  },
  {
   "cell_type": "markdown",
   "id": "a9a44dfd-ac1c-4160-b456-909fa77b13b6",
   "metadata": {},
   "source": [
    "In this example, we compute the GRM from genotype data by matrix multiplication and the  resulting matrix quantifies the genetic similarity between individuals in the sample."
   ]
  },
  {
   "cell_type": "code",
   "execution_count": 2,
   "id": "984babaa-7d66-4ed3-bde4-3ed97c7f454d",
   "metadata": {
    "tags": [],
    "vscode": {
     "languageId": "r"
    }
   },
   "outputs": [],
   "source": [
    "# Clear the environment\n",
    "rm(list = ls())\n",
    "\n",
    "# Define genotypes for 5 individuals at 3 variants\n",
    "# These represent actual alleles at each position\n",
    "# For example, Individual 1 has genotypes: CC, CT, AT\n",
    "genotypes <- c(\n",
    " \"CC\", \"CT\", \"AT\",  # Individual 1\n",
    " \"TT\", \"TT\", \"AA\",  # Individual 2\n",
    " \"CT\", \"CT\", \"AA\",  # Individual 3\n",
    " \"CC\", \"TT\", \"AA\",  # Individual 4\n",
    " \"CC\", \"CC\", \"TT\"   # Individual 5\n",
    ")\n",
    "# Reshape into a matrix\n",
    "geno_matrix <- matrix(genotypes, nrow=5, ncol=3, byrow=TRUE)\n",
    "rownames(geno_matrix) <- paste(\"Individual\", 1:5)\n",
    "colnames(geno_matrix) <- paste(\"Variant\", 1:3)\n",
    "\n",
    "alt_alleles <- c(\"T\", \"C\", \"T\")\n",
    "\n",
    "# Convert to raw genotype matrix using the additive / dominant / recessive model\n",
    "Xraw_additive <- matrix(0, nrow=nrow(geno_matrix), ncol=ncol(geno_matrix)) # dount number of non-reference alleles\n",
    "\n",
    "rownames(Xraw_additive) <- rownames(geno_matrix)\n",
    "colnames(Xraw_additive) <- colnames(geno_matrix)\n",
    "\n",
    "for (i in 1:nrow(geno_matrix)) {\n",
    "  for (j in 1:ncol(geno_matrix)) {\n",
    "    alleles <- strsplit(geno_matrix[i,j], \"\")[[1]]\n",
    "    Xraw_additive[i,j] <- sum(alleles == alt_alleles[j])\n",
    "  }\n",
    "}\n",
    "X <- scale(Xraw_additive, center=TRUE, scale=TRUE)\n"
   ]
  },
  {
   "cell_type": "markdown",
   "id": "a62e0cda",
   "metadata": {},
   "source": [
    "The scaled genotype matrix `X` (scaled with respective for column) is:"
   ]
  },
  {
   "cell_type": "code",
   "execution_count": 3,
   "id": "ff096c3e",
   "metadata": {
    "vscode": {
     "languageId": "r"
    }
   },
   "outputs": [
    {
     "data": {
      "text/html": [
       "<table class=\"dataframe\">\n",
       "<caption>A matrix: 5 x 3 of type dbl</caption>\n",
       "<thead>\n",
       "\t<tr><th></th><th scope=col>Variant 1</th><th scope=col>Variant 2</th><th scope=col>Variant 3</th></tr>\n",
       "</thead>\n",
       "<tbody>\n",
       "\t<tr><th scope=row>Individual 1</th><td>-0.6708204</td><td> 0.2390457</td><td> 0.4472136</td></tr>\n",
       "\t<tr><th scope=row>Individual 2</th><td> 1.5652476</td><td>-0.9561829</td><td>-0.6708204</td></tr>\n",
       "\t<tr><th scope=row>Individual 3</th><td> 0.4472136</td><td> 0.2390457</td><td>-0.6708204</td></tr>\n",
       "\t<tr><th scope=row>Individual 4</th><td>-0.6708204</td><td>-0.9561829</td><td>-0.6708204</td></tr>\n",
       "\t<tr><th scope=row>Individual 5</th><td>-0.6708204</td><td> 1.4342743</td><td> 1.5652476</td></tr>\n",
       "</tbody>\n",
       "</table>\n"
      ],
      "text/latex": [
       "A matrix: 5 x 3 of type dbl\n",
       "\\begin{tabular}{r|lll}\n",
       "  & Variant 1 & Variant 2 & Variant 3\\\\\n",
       "\\hline\n",
       "\tIndividual 1 & -0.6708204 &  0.2390457 &  0.4472136\\\\\n",
       "\tIndividual 2 &  1.5652476 & -0.9561829 & -0.6708204\\\\\n",
       "\tIndividual 3 &  0.4472136 &  0.2390457 & -0.6708204\\\\\n",
       "\tIndividual 4 & -0.6708204 & -0.9561829 & -0.6708204\\\\\n",
       "\tIndividual 5 & -0.6708204 &  1.4342743 &  1.5652476\\\\\n",
       "\\end{tabular}\n"
      ],
      "text/markdown": [
       "\n",
       "A matrix: 5 x 3 of type dbl\n",
       "\n",
       "| <!--/--> | Variant 1 | Variant 2 | Variant 3 |\n",
       "|---|---|---|---|\n",
       "| Individual 1 | -0.6708204 |  0.2390457 |  0.4472136 |\n",
       "| Individual 2 |  1.5652476 | -0.9561829 | -0.6708204 |\n",
       "| Individual 3 |  0.4472136 |  0.2390457 | -0.6708204 |\n",
       "| Individual 4 | -0.6708204 | -0.9561829 | -0.6708204 |\n",
       "| Individual 5 | -0.6708204 |  1.4342743 |  1.5652476 |\n",
       "\n"
      ],
      "text/plain": [
       "             Variant 1  Variant 2  Variant 3 \n",
       "Individual 1 -0.6708204  0.2390457  0.4472136\n",
       "Individual 2  1.5652476 -0.9561829 -0.6708204\n",
       "Individual 3  0.4472136  0.2390457 -0.6708204\n",
       "Individual 4 -0.6708204 -0.9561829 -0.6708204\n",
       "Individual 5 -0.6708204  1.4342743  1.5652476"
      ]
     },
     "metadata": {},
     "output_type": "display_data"
    }
   ],
   "source": [
    "X"
   ]
  },
  {
   "cell_type": "markdown",
   "id": "134d7f84",
   "metadata": {},
   "source": [
    "The GRM can be calculated as:"
   ]
  },
  {
   "cell_type": "code",
   "execution_count": 4,
   "id": "7777d90e",
   "metadata": {
    "vscode": {
     "languageId": "r"
    }
   },
   "outputs": [
    {
     "data": {
      "text/html": [
       "<table class=\"dataframe\">\n",
       "<caption>A matrix: 5 x 5 of type dbl</caption>\n",
       "<thead>\n",
       "\t<tr><th></th><th scope=col>Individual 1</th><th scope=col>Individual 2</th><th scope=col>Individual 3</th><th scope=col>Individual 4</th><th scope=col>Individual 5</th></tr>\n",
       "</thead>\n",
       "<tbody>\n",
       "\t<tr><th scope=row>Individual 1</th><td> 0.23571429</td><td>-0.5261905</td><td>-0.18095238</td><td>-0.02619048</td><td> 0.4976190</td></tr>\n",
       "\t<tr><th scope=row>Individual 2</th><td>-0.52619048</td><td> 1.2714286</td><td> 0.30714286</td><td> 0.10476190</td><td>-1.1571429</td></tr>\n",
       "\t<tr><th scope=row>Individual 3</th><td>-0.18095238</td><td> 0.3071429</td><td> 0.23571429</td><td>-0.02619048</td><td>-0.3357143</td></tr>\n",
       "\t<tr><th scope=row>Individual 4</th><td>-0.02619048</td><td> 0.1047619</td><td>-0.02619048</td><td> 0.60476190</td><td>-0.6571429</td></tr>\n",
       "\t<tr><th scope=row>Individual 5</th><td> 0.49761905</td><td>-1.1571429</td><td>-0.33571429</td><td>-0.65714286</td><td> 1.6523810</td></tr>\n",
       "</tbody>\n",
       "</table>\n"
      ],
      "text/latex": [
       "A matrix: 5 x 5 of type dbl\n",
       "\\begin{tabular}{r|lllll}\n",
       "  & Individual 1 & Individual 2 & Individual 3 & Individual 4 & Individual 5\\\\\n",
       "\\hline\n",
       "\tIndividual 1 &  0.23571429 & -0.5261905 & -0.18095238 & -0.02619048 &  0.4976190\\\\\n",
       "\tIndividual 2 & -0.52619048 &  1.2714286 &  0.30714286 &  0.10476190 & -1.1571429\\\\\n",
       "\tIndividual 3 & -0.18095238 &  0.3071429 &  0.23571429 & -0.02619048 & -0.3357143\\\\\n",
       "\tIndividual 4 & -0.02619048 &  0.1047619 & -0.02619048 &  0.60476190 & -0.6571429\\\\\n",
       "\tIndividual 5 &  0.49761905 & -1.1571429 & -0.33571429 & -0.65714286 &  1.6523810\\\\\n",
       "\\end{tabular}\n"
      ],
      "text/markdown": [
       "\n",
       "A matrix: 5 x 5 of type dbl\n",
       "\n",
       "| <!--/--> | Individual 1 | Individual 2 | Individual 3 | Individual 4 | Individual 5 |\n",
       "|---|---|---|---|---|---|\n",
       "| Individual 1 |  0.23571429 | -0.5261905 | -0.18095238 | -0.02619048 |  0.4976190 |\n",
       "| Individual 2 | -0.52619048 |  1.2714286 |  0.30714286 |  0.10476190 | -1.1571429 |\n",
       "| Individual 3 | -0.18095238 |  0.3071429 |  0.23571429 | -0.02619048 | -0.3357143 |\n",
       "| Individual 4 | -0.02619048 |  0.1047619 | -0.02619048 |  0.60476190 | -0.6571429 |\n",
       "| Individual 5 |  0.49761905 | -1.1571429 | -0.33571429 | -0.65714286 |  1.6523810 |\n",
       "\n"
      ],
      "text/plain": [
       "             Individual 1 Individual 2 Individual 3 Individual 4 Individual 5\n",
       "Individual 1  0.23571429  -0.5261905   -0.18095238  -0.02619048   0.4976190  \n",
       "Individual 2 -0.52619048   1.2714286    0.30714286   0.10476190  -1.1571429  \n",
       "Individual 3 -0.18095238   0.3071429    0.23571429  -0.02619048  -0.3357143  \n",
       "Individual 4 -0.02619048   0.1047619   -0.02619048   0.60476190  -0.6571429  \n",
       "Individual 5  0.49761905  -1.1571429   -0.33571429  -0.65714286   1.6523810  "
      ]
     },
     "metadata": {},
     "output_type": "display_data"
    }
   ],
   "source": [
    "M <- ncol(X)\n",
    "# calculate the GRM\n",
    "GRM = (X %*% t(X)) / M\n",
    "GRM"
   ]
  },
  {
   "cell_type": "markdown",
   "id": "76eac558",
   "metadata": {},
   "source": [
    "Off-diagonal elements represent the relatedness between two individuals (in histogram the large peak centered at 0). Diagonal elements represent the relatedness of an individual with itself, which is the average homozygosity or the level of inbreeding (in histogram the small peak centered at 1). \n",
    "\n",
    "- While the LD of a SNP with itself is 1 by definition, the genetic relatedness of an individual with itself can vary around one, because **the genotype scaling is performed per SNP**, not per individual.  "
   ]
  },
  {
   "cell_type": "markdown",
   "id": "3adb2f86",
   "metadata": {},
   "source": []
  }
 ],
 "metadata": {
  "kernelspec": {
   "display_name": "R",
   "language": "R",
   "name": "ir"
  },
  "language_info": {
   "codemirror_mode": "r",
   "file_extension": ".r",
   "mimetype": "text/x-r-source",
   "name": "R",
   "pygments_lexer": "r",
   "version": "4.3.3"
  },
  "toc-autonumbering": true
 },
 "nbformat": 4,
 "nbformat_minor": 5
}
