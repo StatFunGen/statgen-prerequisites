{
 "cells": [
  {
   "cell_type": "markdown",
   "id": "0c08796d",
   "metadata": {},
   "source": [
    "# Popular Topics in Statistical Genetics\n",
    "\n",
    "| Popular Topic | Available Resource |\n",
    "|---------------|-------------------|\n",
    "| **GWAS Quality Control** | [genotype coding](https://statfungen.github.io/statgen-prerequisites/genotype_coding.html) |\n",
    "| | [minor allele frequency](https://statfungen.github.io/statgen-prerequisites/minor_allele_frequency.html) |\n",
    "|  | [Hardy-Weinberg equilibrium](https://statfungen.github.io/statgen-prerequisites/Hardy_Weinberg_equilibrium.html) |\n",
    "| **GWAS Basics** | [ordinary least squares](https://statfungen.github.io/statgen-prerequisites/ordinary_least_squares.html) |\n",
    "| | [summary statistics](https://statfungen.github.io/statgen-prerequisites/summary_statistics.html) |\n",
    "| | [p value](https://statfungen.github.io/statgen-prerequisites/p_value.html) |\n",
    "| **Case-control GWAS** | [odds ratio](https://statfungen.github.io/statgen-prerequisites/odds_ratio.html) |\n",
    "| | [summary statistics](https://statfungen.github.io/statgen-prerequisites/summary_statistics.html) |\n",
    "| **Conditional or Joint Analysis** | [marginal joint effects](https://statfungen.github.io/statgen-prerequisites/marginal_joint_effects.html) |\n",
    "| **Fine Mapping** | [linkage disequilibrium](https://statfungen.github.io/statgen-prerequisites/linkage_disequilibrium.html) |\n",
    "| | [summary statistics](https://statfungen.github.io/statgen-prerequisites/summary_statistics.html) |\n",
    "| | [Bayes factor](https://statfungen.github.io/statgen-prerequisites/Bayes_factor.html) |\n",
    "| **Fine Mapping/Colocalization** | [Bayesian model comparison](https://statfungen.github.io/statgen-prerequisites/Bayesian_model_comparison.html) |\n",
    "| **Meta-Analysis** | [meta analysis fixed effect](https://statfungen.github.io/statgen-prerequisites/meta_analysis_fixed_effect.html) |\n",
    "| | [meta analysis random effect](https://statfungen.github.io/statgen-prerequisites/meta_analysis_random_effect.html) |\n",
    "| **Multi-trait Association** | [Bayesian multivariate normal mean model](https://statfungen.github.io/statgen-prerequisites/Bayesian_multivariate_normal_mean_model.html) |\n",
    "| **Cross-ancestry Association** | [Bayesian multivariate normal mean model](https://statfungen.github.io/statgen-prerequisites/Bayesian_multivariate_normal_mean_model.html) |\n",
    "| **Enrichment Analysis** | [odds ratio](https://statfungen.github.io/statgen-prerequisites/odds_ratio.html) |\n",
    "| **LD Score Regression** | [linkage disequilibrium](https://statfungen.github.io/statgen-prerequisites/linkage_disequilibrium.html) |\n",
    "| | [linkage disequilibrium score](https://statfungen.github.io/statgen-prerequisites/linkage_disequilibrium_score.html) |\n",
    "| **Heritability** | [proportion of variance explained](https://statfungen.github.io/statgen-prerequisites/proportion_of_variance_explained.html) |\n",
    "| | [linkage disequilibrium score](https://statfungen.github.io/statgen-prerequisites/linkage_disequilibrium_score.html) |\n",
    "| **Kinship/Relatedness** | [genetic relationship matrix](https://statfungen.github.io/statgen-prerequisites/genetic_relationship_matrix.html) |\n",
    "| **Mendelian Randomization** | [confounder](https://statfungen.github.io/statgen-prerequisites/confounder.html) |\n",
    "| | [collider](https://statfungen.github.io/statgen-prerequisites/collider.html) |\n",
    "| | [mediator](https://statfungen.github.io/statgen-prerequisites/mediator.html) |\n",
    "| **TWAS** | [mediator](https://statfungen.github.io/statgen-prerequisites/mediator.html) |\n",
    "| | [marginal joint effects](https://statfungen.github.io/statgen-prerequisites/marginal_joint_effects.html) |\n",
    "| **Mixed Effects Models** | [linear mixed model](https://statfungen.github.io/statgen-prerequisites/linear_mixed_model.html) |\n",
    "| **Genetic Correlation** | [Bayesian multivariate normal mean model](https://statfungen.github.io/statgen-prerequisites/Bayesian_multivariate_normal_mean_model.html) |\n",
    "| | [linkage disequilibrium score](https://statfungen.github.io/statgen-prerequisites/linkage_disequilibrium_score.html) |\n",
    "| **Population Stratification** | [random effect](https://statfungen.github.io/statgen-prerequisites/random_effect.html) |\n",
    "| | [linear mixed model](https://statfungen.github.io/statgen-prerequisites/linear_mixed_model.html) |\n",
    "| | [confounder](https://statfungen.github.io/statgen-prerequisites/confounder.html) |\n",
    "| **Pleiotropy/Colocalization** | [Bayesian multivariate normal mean model](https://statfungen.github.io/statgen-prerequisites/Bayesian_multivariate_normal_mean_model.html) |\n",
    "| | [Bayesian mixture model](https://statfungen.github.io/statgen-prerequisites/Bayesian_mixture_model.html) |\n",
    "| | [Bayesian model comparison](https://statfungen.github.io/statgen-prerequisites/Bayesian_model_comparison.html) |\n",
    "| **Interaction and Epistasis** | [proportion of variance explained](https://statfungen.github.io/statgen-prerequisites/proportion_of_variance_explained.html) |\n",
    "| | [ordinary least squares](https://statfungen.github.io/statgen-prerequisites/ordinary_least_squares.html) |\n",
    "| **Variance Components** | [proportion of variance explained](https://statfungen.github.io/statgen-prerequisites/proportion_of_variance_explained.html) |\n",
    "| **Bayesian GWAS** | [Bayesian frequentist](https://statfungen.github.io/statgen-prerequisites/Bayesian_frequentist.html) |\n",
    "| | [Bayes rule](https://statfungen.github.io/statgen-prerequisites/Bayes_rule.html) |\n",
    "| | [Bayesian normal mean model](https://statfungen.github.io/statgen-prerequisites/Bayesian_normal_mean_model.html) |\n",
    "| **Genetic Architecture** | [linkage disequilibrium](https://statfungen.github.io/statgen-prerequisites/linkage_disequilibrium.html) |\n",
    "| | [linkage disequilibrium score](https://statfungen.github.io/statgen-prerequisites/linkage_disequilibrium_score.html) |\n",
    "| | [proportion of variance explained](https://statfungen.github.io/statgen-prerequisites/proportion_of_variance_explained.html) |\n",
    "| | [Bayesian mixture model](https://statfungen.github.io/statgen-prerequisites/Bayesian_mixture_model.html) |\n",
    "| **Polygenic Risk Scores** | [proportion of variance explained](https://statfungen.github.io/statgen-prerequisites/proportion_of_variance_explained.html) |\n",
    "| | [ordinary least squares](https://statfungen.github.io/statgen-prerequisites/ordinary_least_squares.html) |\n"
   ]
  },
  {
   "cell_type": "markdown",
   "id": "4cc0bde9",
   "metadata": {},
   "source": []
  }
 ],
 "metadata": {
  "language_info": {
   "name": "python"
  }
 },
 "nbformat": 4,
 "nbformat_minor": 5
}
