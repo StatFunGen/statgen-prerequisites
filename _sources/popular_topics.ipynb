{
 "cells": [
  {
   "cell_type": "markdown",
   "id": "0c08796d",
   "metadata": {},
   "source": [
    "# Popular Topics in Statistical Genetics\n",
    "\n",
    "| Popular Topic | Available Resource |\n",
    "|---------------|-------------------|\n",
    "| **Quality Control** | [genotype coding](https://gaow.github.io/statgen-prerequisites/genotype_coding.html) |\n",
    "| **Quality Control** | [minor allele frequency](https://gaow.github.io/statgen-prerequisites/minor_allele_frequency.html) |\n",
    "| **Quality Control** | [Hardy-Weinberg equilibrium](https://gaow.github.io/statgen-prerequisites/Hardy_Weinberg_equilibrium.html) |\n",
    "| **Conventional GWAS** | [ordinary least squares](https://gaow.github.io/statgen-prerequisites/ordinary_least_squares.html) |\n",
    "| **Conventional GWAS** | [summary statistics](https://gaow.github.io/statgen-prerequisites/summary_statistics.html) |\n",
    "| **Conventional GWAS** | [p value](https://gaow.github.io/statgen-prerequisites/p_value.html) |\n",
    "| **Fine Mapping** | [linkage disequilibrium](https://gaow.github.io/statgen-prerequisites/linkage_disequilibrium.html) |\n",
    "| **Fine Mapping** | [summary statistics](https://gaow.github.io/statgen-prerequisites/summary_statistics.html) |\n",
    "| **Fine Mapping** | [Bayes factor](https://gaow.github.io/statgen-prerequisites/Bayes_factor.html) |\n",
    "| **Fine Mapping** | [Bayesian model comparison](https://gaow.github.io/statgen-prerequisites/Bayesian_model_comparison.html) |\n",
    "| **Case-Control Studies** | [odds ratio](https://gaow.github.io/statgen-prerequisites/odds_ratio.html) |\n",
    "| **Case-Control Studies** | [summary statistics](https://gaow.github.io/statgen-prerequisites/summary_statistics.html) |\n",
    "| **Cross-trait Analysis** | [Bayesian multivariate normal mean model](https://gaow.github.io/statgen-prerequisites/Bayesian_multivariate_normal_mean_model.html) |\n",
    "| **Genotype Coding** | [genotype coding](https://gaow.github.io/statgen-prerequisites/genotype_coding.html) |\n",
    "| **LD Score Regression** | [linkage disequilibrium score](https://gaow.github.io/statgen-prerequisites/linkage_disequilibrium.html) |\n",
    "| **LD Score Regression** | [linkage disequilibrium score](https://gaow.github.io/statgen-prerequisites/linkage_disequilibrium_score.html) |\n",
    "| **Heritability** | [proportion of variance explained](https://gaow.github.io/statgen-prerequisites/proportion_of_variance_explained.html) |\n",
    "| **Heritability** | [linkage disequilibrium score](https://gaow.github.io/statgen-prerequisites/linkage_disequilibrium_score.html) |\n",
    "| **Kinship/Relatedness** | [genetic relationship matrix](https://gaow.github.io/statgen-prerequisites/genetic_relationship_matrix.html) |\n",
    "| **Mendelian Randomization** | [confounder](https://gaow.github.io/statgen-prerequisites/confounder.html) |\n",
    "| **Mendelian Randomization** | [collider](https://gaow.github.io/statgen-prerequisites/collider.html) |\n",
    "| **Mendelian Randomization** | [mediator](https://gaow.github.io/statgen-prerequisites/mediator.html) |\n",
    "| **TWAS/PWAS** | [mediator](https://gaow.github.io/statgen-prerequisites/mediator.html) |\n",
    "| **Meta-Analysis** | [meta analysis fixed effect](https://gaow.github.io/statgen-prerequisites/meta_analysis_fixed_effect.html) |\n",
    "| **Meta-Analysis** | [meta analysis random effect](https://gaow.github.io/statgen-prerequisites/meta_analysis_random_effect.html) |\n",
    "| **Mixed Models** | [linear mixed model](https://gaow.github.io/statgen-prerequisites/linear_mixed_model.html) |\n",
    "| **Genetic Correlation** | [Bayesian multivariate normal mean model](https://gaow.github.io/statgen-prerequisites/Bayesian_multivariate_normal_mean_model.html) |\n",
    "| **Genetic Correlation** | [linkage disequilibrium score](https://gaow.github.io/statgen-prerequisites/linkage_disequilibrium_score.html) |\n",
    "| **Population Stratification** | [random effect](https://gaow.github.io/statgen-prerequisites/random_effect.html) |\n",
    "| **Population Stratification** | [linear mixed model](https://gaow.github.io/statgen-prerequisites/linear_mixed_model.html) |\n",
    "| **Population Stratification** | [confounder](https://gaow.github.io/statgen-prerequisites/confounder.html) |\n",
    "| **Pleiotropy** | [Bayesian multivariate normal mean model](https://gaow.github.io/statgen-prerequisites/Bayesian_multivariate_normal_mean_model.html) |\n",
    "| **Pleiotropy** | [Bayesian mixture model](https://gaow.github.io/statgen-prerequisites/Bayesian_mixture_model.html) |\n",
    "| **Gene-by-Environment Interaction** | [proportion of variance explained](https://gaow.github.io/statgen-prerequisites/proportion_of_variance_explained.html) |\n",
    "| **Gene-by-Environment Interaction** | [ordinary least squares](https://gaow.github.io/statgen-prerequisites/ordinary_least_squares.html) |\n",
    "| **Variance Components** | [proportion of variance explained](https://gaow.github.io/statgen-prerequisites/proportion_of_variance_explained.html) |\n",
    "| **Bayesian GWAS** | [Bayesian frequentist](https://gaow.github.io/statgen-prerequisites/Bayesian_frequentist.html) |\n",
    "| **Bayesian GWAS** | [Bayes rule](https://gaow.github.io/statgen-prerequisites/Bayes_rule.html) |\n",
    "| **Bayesian GWAS** | [Bayesian normal mean model](https://gaow.github.io/statgen-prerequisites/Bayesian_normal_mean_model.html) |\n",
    "| **Polygenic Architecture** | [Bayesian mixture model](https://gaow.github.io/statgen-prerequisites/Bayesian_mixture_model.html) |\n",
    "| **Polygenic Risk Scores** | [proportion of variance explained](https://gaow.github.io/statgen-prerequisites/proportion_of_variance_explained.html) |\n",
    "| **Polygenic Risk Scores** | [ordinary least squares](https://gaow.github.io/statgen-prerequisites/ordinary_least_squares.html) |\n",
    "| **Conditional or Joint Analysis** | [marginal joint effects](https://gaow.github.io/statgen-prerequisites/marginal_joint_effects.html) |"
   ]
  },
  {
   "cell_type": "markdown",
   "id": "4cc0bde9",
   "metadata": {},
   "source": []
  }
 ],
 "metadata": {
  "language_info": {
   "name": "python"
  }
 },
 "nbformat": 4,
 "nbformat_minor": 5
}
