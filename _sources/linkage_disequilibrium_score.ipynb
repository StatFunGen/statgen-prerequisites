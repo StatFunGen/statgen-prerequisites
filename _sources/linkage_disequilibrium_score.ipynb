{
 "cells": [
  {
   "cell_type": "markdown",
   "id": "d1b11515",
   "metadata": {},
   "source": [
    "# Linkage Disequilibrium Score\n",
    "\n",
    "The LD score of a variant is a measure to describe how connected or tagged this variant is with other variants by summing up the squared correlation (r²) with every other variant under consideration.\n"
   ]
  },
  {
   "cell_type": "markdown",
   "id": "8b27d589",
   "metadata": {},
   "source": [
    "# Graphical Summary"
   ]
  },
  {
   "cell_type": "markdown",
   "id": "5377492e",
   "metadata": {},
   "source": [
    "![fig](./cartoons/linkage_disequilibrium_score.svg)"
   ]
  },
  {
   "cell_type": "markdown",
   "id": "c941e4ac",
   "metadata": {},
   "source": [
    "# Key Formula\n",
    "\n",
    "The LD score for a SNP is the sum of LD $r^2$ measured with all other SNPs:\n",
    "\n",
    "$$\n",
    "l_j = \\sum_{k=1, k \\neq j}^M r^2(\\textbf{X}_j, \\textbf{X}_k)\n",
    "$$"
   ]
  },
  {
   "cell_type": "markdown",
   "id": "5ed88405",
   "metadata": {},
   "source": [
    "# Technical Details\n",
    "\n",
    "The **LD score** is a measure of the extent to which a given variant is in linkage disequilibrium (LD) with other variants across the genome. It is used to summarize the amount of genetic information (in terms of LD) that a variant shares with all other variants in a region of interest. The LD score for a variant $j$ is defined as the sum of the squared correlation coefficients $r^2$ between that variant and all other variants in the genome, typically within a specified genomic window or region. Mathematically, the LD score for variant $j$ is given by:\n",
    "\n",
    "$$\n",
    "l_j = \\sum_{k=1, k \\neq j}^M r^2_{i,k}\n",
    "$$\n",
    "\n",
    "<!-- Since $\\textbf{X}$ is standardized, we can just calculate the sum of the squared sample correlations like this:\n",
    "\n",
    "$$\\widetilde{l}_{j} = \\frac{1}{N^2}\\textbf{X}^\\top_j\\textbf{X}\\textbf{X}^\\top\\textbf{X}_j - 1$$ -->\n",
    "However, this is not an unbiased estimate. We can correct for the bias like this:\n",
    "\n",
    "$$\n",
    "r_\\text{adj}^2 =  \\hat{r}^2 - \\frac{1-\\hat{r}^2}{N-2}\n",
    "$$\n",
    "$$\n",
    "l_j = \\sum_{k=1, k \\neq j}^M  r_\\text{adj}^2 \n",
    "$$\n",
    "\n",
    "This score reflects how much a variant is correlated with other variants across the genome, providing insight into the local structure of LD around that variant.\n",
    "\n"
   ]
  },
  {
   "cell_type": "markdown",
   "id": "1374a428",
   "metadata": {},
   "source": [
    "# Example"
   ]
  },
  {
   "cell_type": "markdown",
   "id": "45a6f200",
   "metadata": {},
   "source": [
    "This example demonstrates the process of calculating Linkage Disequilibrium (LD) scores from a genotype matrix. It computes the correlation matrix based on the standardized genotype matrix, transforms it to squared correlations, and calculates raw LD scores. A bias correction is then applied to adjust for finite sample size effects, resulting in corrected LD scores that provide a measure of genetic variant connectivity."
   ]
  },
  {
   "cell_type": "code",
   "execution_count": 27,
   "id": "6946a943-0651-4af3-9e7c-33513411fd89",
   "metadata": {
    "tags": [],
    "vscode": {
     "languageId": "r"
    }
   },
   "outputs": [],
   "source": [
    "# Clear the environment\n",
    "rm(list = ls())\n",
    "\n",
    "# Define genotypes for 5 individuals at 3 variants\n",
    "# These represent actual alleles at each position\n",
    "# For example, Individual 1 has genotypes: CC, CT, AT\n",
    "genotypes <- c(\n",
    " \"CC\", \"CT\", \"AT\",  # Individual 1\n",
    " \"TT\", \"TT\", \"AA\",  # Individual 2\n",
    " \"CT\", \"CT\", \"AA\",  # Individual 3\n",
    " \"CC\", \"TT\", \"AA\",  # Individual 4\n",
    " \"CC\", \"CC\", \"TT\"   # Individual 5\n",
    ")\n",
    "# Reshape into a matrix\n",
    "geno_matrix <- matrix(genotypes, nrow=5, ncol=3, byrow=TRUE)\n",
    "rownames(geno_matrix) <- paste(\"Individual\", 1:5)\n",
    "colnames(geno_matrix) <- paste(\"Variant\", 1:3)\n",
    "\n",
    "alt_alleles <- c(\"T\", \"C\", \"T\")\n",
    "\n",
    "# Convert to raw genotype matrix using the additive / dominant / recessive model\n",
    "Xraw_additive <- matrix(0, nrow=nrow(geno_matrix), ncol=ncol(geno_matrix)) # dount number of non-reference alleles\n",
    "\n",
    "rownames(Xraw_additive) <- rownames(geno_matrix)\n",
    "colnames(Xraw_additive) <- colnames(geno_matrix)\n",
    "\n",
    "for (i in 1:nrow(geno_matrix)) {\n",
    "  for (j in 1:ncol(geno_matrix)) {\n",
    "    alleles <- strsplit(geno_matrix[i,j], \"\")[[1]]\n",
    "    Xraw_additive[i,j] <- sum(alleles == alt_alleles[j])\n",
    "  }\n",
    "}\n",
    "X <- scale(Xraw_additive, center=TRUE, scale=TRUE)\n",
    "\n",
    "# calculate the LD\n",
    "R = cor(X)"
   ]
  },
  {
   "cell_type": "markdown",
   "id": "af5eb9d7",
   "metadata": {},
   "source": [
    "The LD matrix is:"
   ]
  },
  {
   "cell_type": "code",
   "execution_count": 28,
   "id": "0c6cc35e-7c54-44d6-80e6-4f88b3950a5b",
   "metadata": {
    "tags": [],
    "vscode": {
     "languageId": "r"
    }
   },
   "outputs": [
    {
     "data": {
      "text/html": [
       "<table class=\"dataframe\">\n",
       "<caption>A matrix: 3 x 3 of type dbl</caption>\n",
       "<thead>\n",
       "\t<tr><th></th><th scope=col>Variant 1</th><th scope=col>Variant 2</th><th scope=col>Variant 3</th></tr>\n",
       "</thead>\n",
       "<tbody>\n",
       "\t<tr><th scope=row>Variant 1</th><td> 1.0000000</td><td>-0.4677072</td><td>-0.562500</td></tr>\n",
       "\t<tr><th scope=row>Variant 2</th><td>-0.4677072</td><td> 1.0000000</td><td> 0.868599</td></tr>\n",
       "\t<tr><th scope=row>Variant 3</th><td>-0.5625000</td><td> 0.8685990</td><td> 1.000000</td></tr>\n",
       "</tbody>\n",
       "</table>\n"
      ],
      "text/latex": [
       "A matrix: 3 x 3 of type dbl\n",
       "\\begin{tabular}{r|lll}\n",
       "  & Variant 1 & Variant 2 & Variant 3\\\\\n",
       "\\hline\n",
       "\tVariant 1 &  1.0000000 & -0.4677072 & -0.562500\\\\\n",
       "\tVariant 2 & -0.4677072 &  1.0000000 &  0.868599\\\\\n",
       "\tVariant 3 & -0.5625000 &  0.8685990 &  1.000000\\\\\n",
       "\\end{tabular}\n"
      ],
      "text/markdown": [
       "\n",
       "A matrix: 3 x 3 of type dbl\n",
       "\n",
       "| <!--/--> | Variant 1 | Variant 2 | Variant 3 |\n",
       "|---|---|---|---|\n",
       "| Variant 1 |  1.0000000 | -0.4677072 | -0.562500 |\n",
       "| Variant 2 | -0.4677072 |  1.0000000 |  0.868599 |\n",
       "| Variant 3 | -0.5625000 |  0.8685990 |  1.000000 |\n",
       "\n"
      ],
      "text/plain": [
       "          Variant 1  Variant 2  Variant 3\n",
       "Variant 1  1.0000000 -0.4677072 -0.562500\n",
       "Variant 2 -0.4677072  1.0000000  0.868599\n",
       "Variant 3 -0.5625000  0.8685990  1.000000"
      ]
     },
     "metadata": {},
     "output_type": "display_data"
    }
   ],
   "source": [
    "R"
   ]
  },
  {
   "cell_type": "code",
   "execution_count": 29,
   "id": "78687db5",
   "metadata": {
    "vscode": {
     "languageId": "r"
    }
   },
   "outputs": [],
   "source": [
    "# Get sample size and number of variants\n",
    "N <- nrow(X)  # Number of individuals/samples\n",
    "M <- ncol(X)  # Number of genetic variants"
   ]
  },
  {
   "cell_type": "markdown",
   "id": "1574a272",
   "metadata": {},
   "source": [
    "To calculate raw LD scores:\n",
    "1. Sum squared correlations across each column\n",
    "2. Subtract the diagonal (variant's correlation with itself)\n",
    "\n",
    "This gives the total genetic connectivity for each variant"
   ]
  },
  {
   "cell_type": "code",
   "execution_count": 30,
   "id": "3eaa6ea8",
   "metadata": {
    "vscode": {
     "languageId": "r"
    }
   },
   "outputs": [],
   "source": [
    "R_sq = R^2\n",
    "ld_scores_raw <- colSums(R_sq) - diag(R_sq)"
   ]
  },
  {
   "cell_type": "markdown",
   "id": "969483c4",
   "metadata": {},
   "source": [
    "The original LD scores are:"
   ]
  },
  {
   "cell_type": "code",
   "execution_count": 31,
   "id": "f969181f",
   "metadata": {
    "vscode": {
     "languageId": "r"
    }
   },
   "outputs": [
    {
     "data": {
      "text/html": [
       "<table class=\"dataframe\">\n",
       "<caption>A matrix: 1 x 3 of type dbl</caption>\n",
       "<thead>\n",
       "\t<tr><th scope=col>Variant 1</th><th scope=col>Variant 2</th><th scope=col>Variant 3</th></tr>\n",
       "</thead>\n",
       "<tbody>\n",
       "\t<tr><td>0.5351562</td><td>0.9732143</td><td>1.070871</td></tr>\n",
       "</tbody>\n",
       "</table>\n"
      ],
      "text/latex": [
       "A matrix: 1 x 3 of type dbl\n",
       "\\begin{tabular}{lll}\n",
       " Variant 1 & Variant 2 & Variant 3\\\\\n",
       "\\hline\n",
       "\t 0.5351562 & 0.9732143 & 1.070871\\\\\n",
       "\\end{tabular}\n"
      ],
      "text/markdown": [
       "\n",
       "A matrix: 1 x 3 of type dbl\n",
       "\n",
       "| Variant 1 | Variant 2 | Variant 3 |\n",
       "|---|---|---|\n",
       "| 0.5351562 | 0.9732143 | 1.070871 |\n",
       "\n"
      ],
      "text/plain": [
       "     Variant 1 Variant 2 Variant 3\n",
       "[1,] 0.5351562 0.9732143 1.070871 "
      ]
     },
     "metadata": {},
     "output_type": "display_data"
    }
   ],
   "source": [
    "t(ld_scores_raw)"
   ]
  },
  {
   "cell_type": "markdown",
   "id": "8e86b660",
   "metadata": {},
   "source": [
    "We then adjust the LD scores:"
   ]
  },
  {
   "cell_type": "code",
   "execution_count": 32,
   "id": "6e8ab6ee",
   "metadata": {
    "vscode": {
     "languageId": "r"
    }
   },
   "outputs": [],
   "source": [
    "R_squared_adj_mat = R_sq\n",
    "# Apply the adjustment formula to each non-diagonal element\n",
    "for (i in 1:M) {\n",
    "  for (j in 1:M) {\n",
    "#   Apply the adjustment formula: r²_adj = r² - (1-r²)/(N-2)\n",
    "    R_squared_adj_mat[i, j] <- R_sq[i, j] - (1 - R_sq[i, j]) / (N - 2)\n",
    "  }\n",
    "}\n",
    "ld_scores_adjusted <- colSums(R_squared_adj_mat) - diag(R_squared_adj_mat)"
   ]
  },
  {
   "cell_type": "markdown",
   "id": "f5a54ef7",
   "metadata": {},
   "source": [
    "The adjusted LD scores are:"
   ]
  },
  {
   "cell_type": "code",
   "execution_count": 33,
   "id": "07e39374",
   "metadata": {
    "vscode": {
     "languageId": "r"
    }
   },
   "outputs": [
    {
     "data": {
      "text/html": [
       "<table class=\"dataframe\">\n",
       "<caption>A matrix: 1 x 3 of type dbl</caption>\n",
       "<thead>\n",
       "\t<tr><th scope=col>Variant 1</th><th scope=col>Variant 2</th><th scope=col>Variant 3</th></tr>\n",
       "</thead>\n",
       "<tbody>\n",
       "\t<tr><td>0.046875</td><td>0.6309524</td><td>0.7611607</td></tr>\n",
       "</tbody>\n",
       "</table>\n"
      ],
      "text/latex": [
       "A matrix: 1 x 3 of type dbl\n",
       "\\begin{tabular}{lll}\n",
       " Variant 1 & Variant 2 & Variant 3\\\\\n",
       "\\hline\n",
       "\t 0.046875 & 0.6309524 & 0.7611607\\\\\n",
       "\\end{tabular}\n"
      ],
      "text/markdown": [
       "\n",
       "A matrix: 1 x 3 of type dbl\n",
       "\n",
       "| Variant 1 | Variant 2 | Variant 3 |\n",
       "|---|---|---|\n",
       "| 0.046875 | 0.6309524 | 0.7611607 |\n",
       "\n"
      ],
      "text/plain": [
       "     Variant 1 Variant 2 Variant 3\n",
       "[1,] 0.046875  0.6309524 0.7611607"
      ]
     },
     "metadata": {},
     "output_type": "display_data"
    }
   ],
   "source": [
    "t(ld_scores_adjusted)"
   ]
  },
  {
   "cell_type": "code",
   "execution_count": null,
   "id": "1465abd0",
   "metadata": {
    "vscode": {
     "languageId": "r"
    }
   },
   "outputs": [],
   "source": []
  }
 ],
 "metadata": {
  "kernelspec": {
   "display_name": "R",
   "language": "R",
   "name": "ir"
  },
  "language_info": {
   "codemirror_mode": "r",
   "file_extension": ".r",
   "mimetype": "text/x-r-source",
   "name": "R",
   "pygments_lexer": "r",
   "version": "4.3.3"
  },
  "toc-autonumbering": true
 },
 "nbformat": 4,
 "nbformat_minor": 5
}
