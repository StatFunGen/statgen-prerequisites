{
 "cells": [
  {
   "cell_type": "markdown",
   "id": "affdefff",
   "metadata": {},
   "source": [
    "# Intuitional Description\n",
    "\n",
    "The Bayesian normal mean model combines **our prior belief** about a normal distribution's mean with **observed data**, resulting in a posterior mean that's a precision-weighted average of the prior mean and sample mean."
   ]
  },
  {
   "cell_type": "markdown",
   "id": "f5bfe019",
   "metadata": {},
   "source": [
    "# Graphical Summary"
   ]
  },
  {
   "cell_type": "markdown",
   "id": "cea55dca",
   "metadata": {},
   "source": [
    "![fig](./cartoons/Bayesian_normal_mean_model.svg)"
   ]
  },
  {
   "cell_type": "markdown",
   "id": "47747b12",
   "metadata": {},
   "source": [
    "# Key Formula\n",
    "\n",
    "Given:\n",
    "- Data points $Y_1, Y_2, \\ldots, Y_n$ from $\\mathcal{N}(\\mu, \\sigma^2)$ with sample mean $\\bar{Y}$\n",
    "- Prior $\\mu \\sim \\mathcal{N}(\\mu_0, \\sigma_0^2)$\n",
    "\n",
    "The posterior distribution is:\n",
    "$$\\mu | Y \\sim \\mathcal{N}\\left(\\frac{\\sigma^2\\mu_0 + n\\sigma_0^2\\bar{Y}}{\\sigma^2 + n\\sigma_0^2}, \\frac{\\sigma^2\\sigma_0^2}{\\sigma^2 + n\\sigma_0^2}\\right)$$"
   ]
  },
  {
   "cell_type": "markdown",
   "id": "b126e826",
   "metadata": {},
   "source": [
    "# Technical Details\n",
    "\n",
    "## Model Assumptions\n",
    "\n",
    "In the Bayesian normal mean model, we assume the variable $Y$ follows uni-variate normal model $\\mathcal{N}(\\mu, \\sigma^2)$\n",
    "\n",
    "$$\n",
    "Y \\sim \\mathcal{N}(\\mu, \\sigma^2)\n",
    "$$\n",
    "\n",
    "where:\n",
    "- $ \\mu $ is the unknown mean parameter.\n",
    "- $ \\sigma^2 $ is the known variance.\n",
    "\n",
    "And the Bayesian Normal Mean Model is to see what we can learn about the unknown parameter $\\mu$.\n",
    "\n",
    "## Prior Distribution\n",
    "\n",
    "A common choice for the prior on $ \\mu $ is a normal distribution:\n",
    "\n",
    "$$\n",
    "\\mu \\sim \\mathcal{N}(\\mu_0, \\sigma_0^2)\n",
    "$$\n",
    "\n",
    "where $ \\mu_0 $ is the prior mean and $ \\sigma_0^2 $ is the prior variance. \n",
    "\n",
    "The precision is defined as $\\tau_0 = \\frac{1}{\\sigma_0^2}$. In other words, the prior of $\\mu$ can be rewritten as:\n",
    "\n",
    "$$\n",
    "\\mu \\sim \\mathcal{N}(\\mu_0, \\frac{1}{\\tau_0})\n",
    "$$\n",
    "\n",
    "Therefore, the probability density function (PDF) is \n",
    "\n",
    "$$\n",
    "\\begin{align}\n",
    "p(\\mu)&\\propto \\exp\\left(-\\frac{1}{2}\\tau_0\\mu^2 + \\tau_0\\mu_0 \\mu\\right) \\\\\n",
    "       &\\propto \\exp\\left(-\\frac{1}{2}\\tau_0 (\\mu - \\mu_0)^2\\right)\n",
    "\\end{align}\n",
    "$$\n",
    "\n",
    "\n",
    "(Here, the 0 subscript is used to indicate that $\\mu_0$ and $\\sigma_0$ are parameters in the prior.)\n",
    "\n",
    "## Likelihood\n",
    "\n",
    "The likelihood of the data given $\\mu$ and $\\sigma^2$ is:\n",
    "\n",
    "$$\n",
    "Y\\mid\\mu, \\sigma^2 \\sim \\mathcal{N}(\\mu, \\sigma^2)\n",
    "$$\n",
    "\n",
    "The probability density function (PDF) is:\n",
    "\n",
    "$$\n",
    "\\begin{align}\n",
    "p(Y\\mid\\mu) &\\propto \\exp\\left(-\\frac{1}{2} \\tau (Y^2 - 2\\mu Y)\\right)\\\\\n",
    "&\\propto \\exp\\left(-\\frac{1}{2} \\tau (Y - \\mu)^2\\right)\n",
    "\\end{align}\n",
    "$$\n",
    "\n",
    "where $\\tau = \\frac{1}{\\sigma^2}$ is the precision.\n",
    "\n",
    "\n",
    "## Posterior Distribution\n",
    "\n",
    "Using Bayes' theorem, the posterior distribution of $ \\mu $ is given by:\n",
    "\n",
    "$$\n",
    "p(\\mu|Y) \\propto p(Y|\\mu) p(\\mu)\n",
    "$$\n",
    "\n",
    "Expanding the probability density functions:\n",
    "\n",
    "$$\n",
    "\\begin{align}\n",
    "p(\\mu \\mid Y) &\\propto \\exp\\left(-\\frac{1}{2} \\tau (Y - \\mu)^2\\right) \\exp\\left(-\\frac{1}{2} \\tau_0 (\\mu - \\mu_0)^2\\right) \\\\\n",
    "&\\propto \\exp\\left(-\\frac{1}{2} \\tau (Y^2 - 2Y\\mu + \\mu^2) - \\frac{1}{2} \\tau_0 (\\mu^2 - 2\\mu \\mu_0 + \\mu_0^2)\\right) \\\\\n",
    "&\\propto \\exp\\left(-\\frac{1}{2} (\\tau + \\tau_0) \\mu^2 + (\\tau Y + \\tau_0 \\mu_0) \\mu \\right)\n",
    "\\end{align}\n",
    "$$\n",
    "\n",
    "Recognizing the quadratic form, the posterior distribution follows a normal distribution:\n",
    "\n",
    "$$\n",
    "\\mu \\mid Y \\sim \\mathcal{N}\\left( \\mu_1, \\sigma_1^2 \\right)\n",
    "$$\n",
    "\n",
    "where\n",
    "\n",
    "$$\n",
    "\\mu_1 = \\frac{\\tau Y + \\tau_0 \\mu_0}{\\tau + \\tau_0}, \\quad \\sigma_1^2 = \\frac{1}{\\tau + \\tau_0}\n",
    "$$\n",
    "\n",
    "## Characteristics\n",
    "\n",
    "- **Bayes' theorem** combines these components: $P(\\mu|D) \\propto P(D|\\mu) P(\\mu)$.\n",
    "- The **prior** represents our belief about the parameter before seeing any data.\n",
    "- The **likelihood** represents how likely we are to observe the data given the parameter.\n",
    "- The **posterior** is the updated belief about the parameter after seeing the data.\n",
    "    - the **Posterior precision** ($\\tau_1$) is the sum of the Data precision ($\\tau$) and the Prior precision ($\\tau_0$). This makes sense: the more precise your data, and the more precise your prior information, the more precise your posterior information. Also, this means that the data always improves your posterior precision compared with the prior: noisy data (small $\\tau$) improves it only a little, whereas precise data improves it a lot.\n",
    "    - If we rewrite the **posterior mean** as:\n",
    "    $$\n",
    "    \\mu_1=w\\sum_i^n x_i+(1−w)\\mu_0\n",
    "    $$\n",
    "    where $w=\\tau/(\\tau+\\tau_0)$. Thus $\\mu_1$ is a weighted average of the sum of the data $x_i$ and the prior mean $\\mu_0$. And the weights depend on the relative precision of the data and the prior. If the data are precise compared with the prior ($\\tau>>\\tau_0$) then the weight w will be close to 1 and the posterior mean will be close to the data.\n",
    "- Model comparison in Bayesian inference is performed using Bayes factors."
   ]
  },
  {
   "cell_type": "markdown",
   "id": "408a3f11",
   "metadata": {},
   "source": [
    "# Example"
   ]
  },
  {
   "cell_type": "markdown",
   "id": "779b5d7c-3463-4713-a8d3-bb8bf321d344",
   "metadata": {},
   "source": [
    "We consider a scenario where we study the height ($Y$) of a group of individuals. We assume that height follows a univariate normal distribution within this genotype class:\n",
    "$$\n",
    "Y | \\mu, \\sigma^2 \\sim \\mathcal{N}(\\mu, \\sigma^2)\n",
    "$$\n",
    "\n",
    "where $\\mu$ is the unknown mean height, and $\\sigma^2$ is the known variance within this genotype group. Our goal is to estimate $\\mu$ using Bayesian inference."
   ]
  },
  {
   "cell_type": "code",
   "execution_count": 3,
   "id": "3b3299e1-b5f7-4b9d-8012-0d8c08378d38",
   "metadata": {
    "tags": [],
    "vscode": {
     "languageId": "r"
    }
   },
   "outputs": [],
   "source": [
    "# Clear the environment\n",
    "rm(list = ls())\n"
   ]
  },
  {
   "cell_type": "markdown",
   "id": "4481b731-c76d-439b-b649-7a1583322613",
   "metadata": {},
   "source": [
    "## Prior Distribution\n",
    "\n",
    "We assume a normal prior for $\\mu$:\n",
    "\n",
    "$$\n",
    "\\mu \\sim \\mathcal{N}(\\mu_0, \\sigma_0^2)\n",
    "$$\n",
    "\n",
    "where:\n",
    "\n",
    "- $\\mu\\_0 = 160$ cm (prior mean height),\n",
    "- $\\sigma_0^2 = 1 \\text{cm}^2$ (prior variance), leading to a precision $\\tau_0 = 1/\\sigma_0^2$."
   ]
  },
  {
   "cell_type": "code",
   "execution_count": 4,
   "id": "558e691f-3d79-456f-92ae-8ba3a4dd9ec6",
   "metadata": {
    "tags": [],
    "vscode": {
     "languageId": "r"
    }
   },
   "outputs": [
    {
     "name": "stdout",
     "output_type": "stream",
     "text": [
      "[1] \"Prior mean (mu_0): 160\"\n",
      "[1] \"Prior standard deviation (sigma_0): 1\"\n",
      "[1] \"Prior precision (tau_0): 1\"\n"
     ]
    }
   ],
   "source": [
    "# Prior distribution of mu\n",
    "mu_0 <- 160  # Prior mean\n",
    "sigma_0 <- 1  # Prior standard deviation\n",
    "tau_0 <- 1 / sigma_0^2  # Prior precision\n",
    "print(paste(\"Prior mean (mu_0):\", mu_0))\n",
    "print(paste(\"Prior standard deviation (sigma_0):\", sigma_0))\n",
    "print(paste(\"Prior precision (tau_0):\", tau_0))"
   ]
  },
  {
   "cell_type": "markdown",
   "id": "6a5a7b89-3ed2-4b14-a229-c4977a9cced6",
   "metadata": {},
   "source": [
    "## Observed Data and the likelihood function\n",
    "\n",
    "We observe heights of five individuals in this group, and we assume the likelihood follows:\n",
    "\n",
    "$$\n",
    "Y | \\mu \\sim \\mathcal{N}(\\mu, \\sigma^2)\n",
    "$$"
   ]
  },
  {
   "cell_type": "code",
   "execution_count": 7,
   "id": "98c4257a",
   "metadata": {
    "vscode": {
     "languageId": "r"
    }
   },
   "outputs": [
    {
     "name": "stdout",
     "output_type": "stream",
     "text": [
      "[1] \"Observed heights (Y): 180, 160, 158, 155, 193\"\n",
      "[1] \"Number of observations (n): 5\"\n"
     ]
    }
   ],
   "source": [
    "# assign observed height for the 5 individuals\n",
    "Y_raw <- c(180, 160, 158, 155, 193)\n",
    "N <- length(Y_raw)\n",
    "print(paste(\"Observed heights (Y):\", paste(Y_raw, collapse = \", \")))\n",
    "print(paste(\"Number of observations (n):\", N))"
   ]
  },
  {
   "cell_type": "code",
   "execution_count": 8,
   "id": "aa393ec1-f6b5-469d-a455-5a3c2fe4df1d",
   "metadata": {
    "tags": [],
    "vscode": {
     "languageId": "r"
    }
   },
   "outputs": [
    {
     "name": "stdout",
     "output_type": "stream",
     "text": [
      "[1] \"Likelihood standard deviation (sigma): 1\"\n",
      "[1] \"Likelihood precision (tau): 1\"\n"
     ]
    }
   ],
   "source": [
    "# Likelihood: Assumption - Heights follow N(mu, sigma^2) with known variance\n",
    "sigma <- 1  # Known standard deviation for heights within genotype class \"00\"\n",
    "tau <- 1 / sigma^2  # Precision\n",
    "print(paste(\"Likelihood standard deviation (sigma):\", sigma))\n",
    "print(paste(\"Likelihood precision (tau):\", tau))"
   ]
  },
  {
   "cell_type": "markdown",
   "id": "b9716fda-c492-4962-b7ab-c099338f4f54",
   "metadata": {},
   "source": [
    "## Posterior Distribution Update\n",
    "\n",
    "Using Bayesian updating, the posterior distribution is given by:\n",
    "\n",
    "$$\n",
    "\\mu | Y \\sim \\mathcal{N}(\\mu_1, \\sigma_1^2)\n",
    "$$\n",
    "\n",
    "where:\n",
    "\n",
    "- **Posterior precision**:\n",
    "  $\\tau_1 = \\tau_0 + n \\tau$\n",
    "- **Posterior mean**:\n",
    "  $\\mu_1 = \\frac{\\tau_0 \\mu_0 + \\tau \\sum Y}{\\tau_1}$\n",
    "- **Posterior standard deviation**:\n",
    "  $\\sigma_1 = \\sqrt{\\frac{1}{\\tau_1}}$\n"
   ]
  },
  {
   "cell_type": "code",
   "execution_count": 11,
   "id": "c490ec19-016a-40ac-a8de-70abe8498767",
   "metadata": {
    "tags": [],
    "vscode": {
     "languageId": "r"
    }
   },
   "outputs": [
    {
     "name": "stdout",
     "output_type": "stream",
     "text": [
      "[1] \"Posterior mean (mu_1): 167.666666666667\"\n",
      "[1] \"Posterior standard deviation (sigma_1): 0.408248290463863\"\n",
      "[1] \"Posterior precision (tau_1): 6\"\n"
     ]
    }
   ],
   "source": [
    "# Posterior parameters update\n",
    "tau_1 <- tau_0 + N * tau  # Posterior precision\n",
    "sigma_1 <- sqrt(1 / tau_1)  # Posterior standard deviation\n",
    "mu_1 <- (tau_0 * mu_0 + tau * sum(Y_raw)) / tau_1  # Posterior mean\n",
    "print(paste(\"Posterior mean (mu_1):\", mu_1))\n",
    "print(paste(\"Posterior standard deviation (sigma_1):\", sigma_1))\n",
    "print(paste(\"Posterior precision (tau_1):\", tau_1))"
   ]
  },
  {
   "cell_type": "markdown",
   "id": "dda17db0-274f-4a42-90ab-349674cae18d",
   "metadata": {},
   "source": [
    "## Plot the prior and posterior distribution"
   ]
  },
  {
   "cell_type": "code",
   "execution_count": 15,
   "id": "ed9b20ab-1b93-4d1c-9576-ee270d348552",
   "metadata": {
    "tags": [],
    "vscode": {
     "languageId": "r"
    }
   },
   "outputs": [
    {
     "data": {
      "image/png": "[encoded data removed]",
      "text/plain": [
       "Plot with title \"bold(\"Prior vs Posterior Distribution of \" ~ mu)\""
      ]
     },
     "metadata": {
      "image/png": {
       "height": 420,
       "width": 420
      }
     },
     "output_type": "display_data"
    }
   ],
   "source": [
    "# Plot the prior distribution\n",
    "curve(dnorm(x, mu_0, sigma_0), from = 150, to = 200, col = \"blue\", lwd = 2, \n",
    "      xlab = expression(mu), ylab = \"Density\", main = expression(bold(\"Prior vs Posterior Distribution of \" ~ mu)),\n",
    "     ylim = c(0,1), n=500)\n",
    "\n",
    "# Add the posterior distribution\n",
    "curve(dnorm(x, mu_1, sigma_1), from = 150, to = 200, col = \"red\", lwd = 2, add = TRUE, n=500)\n",
    "\n",
    "# Add three observations (data points)\n",
    "points(Y_raw, rep(0, N), col = \"black\", pch = 16, cex = 1.5)\n",
    "\n",
    "# Add legend\n",
    "legend(\"topright\", legend = c(\"Prior\", \"Posterior\", \"Observed Data\"), col = c(\"blue\", \"red\", \"black\"), lwd = 2, pch = 16)"
   ]
  },
  {
   "cell_type": "markdown",
   "id": "8ace02c0",
   "metadata": {},
   "source": [
    "# Supplementary"
   ]
  },
  {
   "cell_type": "markdown",
   "id": "697dd694-8966-4042-8b59-1c36aab76aea",
   "metadata": {},
   "source": [
    "### Explanation of Results\n",
    "\n",
    "The posterior mean and variance have changed compared to the prior because the observed data are larger than the prior mean.\n",
    "\n",
    "- **Posterior Mean ($\\mu_1$):** The observed data (168, 173, and 171) are larger than the prior mean of 160, so the posterior mean shifts towards the observed data, now estimated around 168. This shift reflects the new evidence provided by the data.\n",
    "\n",
    "- **Posterior Variance ($\\sigma_1$):** The posterior variance is smaller than the prior variance because the observed data provides more information. With more data, we become more confident in our estimate, which narrows the distribution around the posterior mean.\n",
    "\n",
    "In summary, the posterior mean shifts towards the data, and the posterior variance decreases because we gain more evidence, increasing our certainty.\n"
   ]
  },
  {
   "cell_type": "code",
   "execution_count": null,
   "id": "63d82879-4333-4464-b637-193be354a8d6",
   "metadata": {
    "vscode": {
     "languageId": "r"
    }
   },
   "outputs": [],
   "source": []
  }
 ],
 "metadata": {
  "kernelspec": {
   "display_name": "R",
   "language": "R",
   "name": "ir"
  },
  "language_info": {
   "codemirror_mode": "r",
   "file_extension": ".r",
   "mimetype": "text/x-r-source",
   "name": "R",
   "pygments_lexer": "r",
   "version": "4.3.3"
  },
  "toc-autonumbering": true
 },
 "nbformat": 4,
 "nbformat_minor": 5
}
