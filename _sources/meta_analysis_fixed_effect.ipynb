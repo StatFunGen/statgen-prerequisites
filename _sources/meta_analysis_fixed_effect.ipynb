{
 "cells": [
  {
   "cell_type": "markdown",
   "id": "e2a38765",
   "metadata": {},
   "source": [
    "# Fixed Effects Meta-Analysis\n",
    "\n",
    "Fixed-effect meta-analysis combines study-specific estimates under the assumption of a common fixed true effect, making it mathematically equivalent to analyzing all individuals as if they came from a single pooled dataset."
   ]
  },
  {
   "cell_type": "markdown",
   "id": "ef4b1c8b",
   "metadata": {},
   "source": [
    "# Graphical Summary"
   ]
  },
  {
   "cell_type": "markdown",
   "id": "64810e5f",
   "metadata": {},
   "source": [
    "![Fixed Effect Meta-Analysis](./graphical_summary/Slide17.png)"
   ]
  },
  {
   "cell_type": "markdown",
   "id": "aee54301",
   "metadata": {},
   "source": [
    "# Key Formula\n",
    "\n",
    "In meta-analysis, the weighted mean effect size for a fixed-effects model is calculated as:\n",
    "\n",
    "$$\\hat{\\beta} = \\frac{\\sum_{i=1}^{k} w_i \\hat{\\beta}_i}{\\sum_{i=1}^{k} w_i}$$\n",
    "\n",
    "Where:\n",
    "- $\\hat{\\beta}$ is the combined effect estimate across all studies\n",
    "- $\\hat{\\beta}_i$ is the effect estimate from study $i$\n",
    "- $w_i$ is the weight assigned to study $i$\n",
    "- $k$ is the number of studies"
   ]
  },
  {
   "cell_type": "markdown",
   "id": "34f145db",
   "metadata": {},
   "source": [
    "# Technical Details\n",
    "\n",
    "## Multiple Fixed-Effects Models\n",
    "\n",
    "- Weights for Fixed-Effects\n",
    "    $$w_i = \\frac{1}{v_i}$$\n",
    "    Where $v_i$ is the within-study variance for study $i$\n",
    "\n",
    "- Variance of the Combined Estimate\n",
    "    $$Var(\\hat{\\beta}) = \\frac{1}{\\sum_{i=1}^{k} w_i}$$\n",
    "\n",
    "- Standard Error of the Combined Estimate\n",
    "    $$SE(\\hat{\\beta}) = \\sqrt{Var(\\hat{\\beta})} = \\sqrt{\\frac{1}{\\sum_{i=1}^{k} w_i}}$$\n",
    "\n",
    "## Multiple Random-Effects Models\n",
    "\n",
    "- Weighted Mean Effect Size\n",
    "$$\\hat{\\beta}^* = \\frac{\\sum_{i=1}^{k} w_i^* \\hat{\\beta}_i}{\\sum_{i=1}^{k} w_i^*}$$\n",
    "\n",
    "- Weights for Random-Effects\n",
    "    $$w_i^* = \\frac{1}{v_i + \\tau^2}$$\n",
    "\n",
    "    Where $\\tau^2$ is the between-study variance\n",
    "\n",
    "## Meta-Analysis in Genetic Studies\n",
    "\n",
    "In genetic studies, meta-analysis often combines results from genome-wide association studies (GWAS) across different cohorts with weights either from the sample size or the inverse variance:\n",
    "\n",
    "- Sample Size Weighting\n",
    "    $$w_i = \\sqrt{N_i}$$\n",
    "\n",
    "    Where $N_i$ is the sample size of study $i$\n",
    "\n",
    "- Inverse Variance Weighting\n",
    "    $$w_i = \\frac{1}{SE(\\hat{\\beta}_i)^2}$$\n",
    "\n",
    "    Where $SE(\\hat{\\beta}_i)$ is the standard error of the effect size estimate in study $i$"
   ]
  },
  {
   "cell_type": "markdown",
   "id": "58d544ce-922b-4a03-b765-9a1972fd1859",
   "metadata": {},
   "source": [
    "# Example"
   ]
  },
  {
   "cell_type": "markdown",
   "id": "2c408a76",
   "metadata": {},
   "source": [
    "This example demonstrates a meta-analysis of genetic variants across two European cohorts. We'll analyze 3 genetic variants (SNPs) that have been genotyped in both cohorts and combine their effects using fixed-effects meta-analysis.\n",
    "\n",
    "We first generate the summary statistics for 3 variants from two independent European cohorts with different sample sizes (N=8000 and N=5500), and assuming that they are from the same genetic ancestry so they can be meta-analyzed.\n",
    "\n",
    "Then we perform fixed-effects meta-analysis combining results using:\n",
    "- Sample size weighting (weight proportional to $\\frac{1}{\\sqrt{N}}$)\n",
    "- Inverse variance weighting (weight = $\\frac{1}{\\text{SE}^2}$)\n",
    "\n",
    "Lastly we plot the effect size and p-values for each variant and compare the results from separate cohorts and meta-analysis results. We also compare the variance based on the sample size and inverse variance."
   ]
  },
  {
   "cell_type": "code",
   "execution_count": 20,
   "id": "628fa60f",
   "metadata": {
    "vscode": {
     "languageId": "r"
    }
   },
   "outputs": [],
   "source": [
    "rm(list=ls())\n",
    "set.seed(123)\n",
    "\n",
    "# 1. Simulate genotype data (0/1/2) for a single SNP\n",
    "N1 <- 5000\n",
    "N2 <- 8000\n",
    "maf1 <- 0.3\n",
    "maf2 <- 0.35\n",
    "\n",
    "variant_pop1 <- rbinom(N1, 2, maf1)\n",
    "variant_pop2 <- rbinom(N2, 2, maf2)\n"
   ]
  },
  {
   "cell_type": "code",
   "execution_count": 21,
   "id": "88297dd0",
   "metadata": {
    "vscode": {
     "languageId": "r"
    }
   },
   "outputs": [],
   "source": [
    "# 2. Simulate phenotype with fixed effect beta=1 and noise\n",
    "beta <- 1\n",
    "y_pop1 <- beta * variant_pop1 + rnorm(N1, 0, 3)\n",
    "y_pop2 <- beta * variant_pop2 + rnorm(N2, 0, 3)"
   ]
  },
  {
   "cell_type": "code",
   "execution_count": 22,
   "id": "173770fc",
   "metadata": {
    "vscode": {
     "languageId": "r"
    }
   },
   "outputs": [],
   "source": [
    "# 3. Run regression in each population\n",
    "lm_pop1 <- lm(y_pop1 ~ variant_pop1)\n",
    "lm_pop2 <- lm(y_pop2 ~ variant_pop2)\n",
    "\n",
    "# Extract summary statistics\n",
    "beta_pop1 <- coef(lm_pop1)[\"variant_pop1\"]\n",
    "se_pop1 <- summary(lm_pop1)$coefficients[\"variant_pop1\", \"Std. Error\"]\n",
    "\n",
    "beta_pop2 <- coef(lm_pop2)[\"variant_pop2\"]\n",
    "se_pop2 <- summary(lm_pop2)$coefficients[\"variant_pop2\", \"Std. Error\"]\n"
   ]
  },
  {
   "cell_type": "code",
   "execution_count": 23,
   "id": "f2ba4a6f",
   "metadata": {
    "vscode": {
     "languageId": "r"
    }
   },
   "outputs": [],
   "source": [
    "# 4. Fixed-effect meta-analysis\n",
    "w1 <- 1 / se_pop1^2\n",
    "w2 <- 1 / se_pop2^2\n",
    "\n",
    "beta_meta <- (beta_pop1 * w1 + beta_pop2 * w2) / (w1 + w2)\n",
    "se_meta <- sqrt(1 / (w1 + w2))\n",
    "z_meta <- beta_meta / se_meta\n",
    "p_meta <- 2 * pnorm(-abs(z_meta))\n"
   ]
  },
  {
   "cell_type": "code",
   "execution_count": 24,
   "id": "c523d4fa",
   "metadata": {
    "vscode": {
     "languageId": "r"
    }
   },
   "outputs": [
    {
     "data": {
      "text/html": [
       "<table class=\"dataframe\">\n",
       "<caption>A data.frame: 1 x 4</caption>\n",
       "<thead>\n",
       "\t<tr><th scope=col>beta_meta</th><th scope=col>se_meta</th><th scope=col>z_meta</th><th scope=col>p_meta</th></tr>\n",
       "\t<tr><th scope=col>&lt;dbl&gt;</th><th scope=col>&lt;dbl&gt;</th><th scope=col>&lt;dbl&gt;</th><th scope=col>&lt;dbl&gt;</th></tr>\n",
       "</thead>\n",
       "<tbody>\n",
       "\t<tr><td>0.9872088</td><td>0.03999143</td><td>24.68551</td><td>1.530562e-134</td></tr>\n",
       "</tbody>\n",
       "</table>\n"
      ],
      "text/latex": [
       "A data.frame: 1 x 4\n",
       "\\begin{tabular}{llll}\n",
       " beta\\_meta & se\\_meta & z\\_meta & p\\_meta\\\\\n",
       " <dbl> & <dbl> & <dbl> & <dbl>\\\\\n",
       "\\hline\n",
       "\t 0.9872088 & 0.03999143 & 24.68551 & 1.530562e-134\\\\\n",
       "\\end{tabular}\n"
      ],
      "text/markdown": [
       "\n",
       "A data.frame: 1 x 4\n",
       "\n",
       "| beta_meta &lt;dbl&gt; | se_meta &lt;dbl&gt; | z_meta &lt;dbl&gt; | p_meta &lt;dbl&gt; |\n",
       "|---|---|---|---|\n",
       "| 0.9872088 | 0.03999143 | 24.68551 | 1.530562e-134 |\n",
       "\n"
      ],
      "text/plain": [
       "  beta_meta se_meta    z_meta   p_meta       \n",
       "1 0.9872088 0.03999143 24.68551 1.530562e-134"
      ]
     },
     "metadata": {},
     "output_type": "display_data"
    }
   ],
   "source": [
    "res_meta = data.frame(beta_meta, se_meta, z_meta, p_meta)\n",
    "rownames(res_meta) = NULL\n",
    "res_meta"
   ]
  },
  {
   "cell_type": "markdown",
   "id": "abd5d014",
   "metadata": {},
   "source": [
    "Alternatively we can simply combine all individuals into one and calculate the summary statistics for this variant."
   ]
  },
  {
   "cell_type": "code",
   "execution_count": 26,
   "id": "84740b14",
   "metadata": {
    "vscode": {
     "languageId": "r"
    }
   },
   "outputs": [],
   "source": [
    "# 5. Pooled analysis\n",
    "variant_all <- c(variant_pop1, variant_pop2)\n",
    "y_all <- c(y_pop1, y_pop2)\n",
    "\n",
    "lm_all <- lm(y_all ~ variant_all)\n",
    "beta_all <- coef(lm_all)[\"variant_all\"]\n",
    "se_all <- summary(lm_all)$coefficients[\"variant_all\", \"Std. Error\"]\n",
    "z_all <- beta_all / se_all\n",
    "p_all <- 2 * pnorm(-abs(z_all))\n"
   ]
  },
  {
   "cell_type": "code",
   "execution_count": 27,
   "id": "fd219e6c",
   "metadata": {
    "vscode": {
     "languageId": "r"
    }
   },
   "outputs": [
    {
     "data": {
      "text/html": [
       "<table class=\"dataframe\">\n",
       "<caption>A data.frame: 1 x 4</caption>\n",
       "<thead>\n",
       "\t<tr><th scope=col>beta_all</th><th scope=col>se_all</th><th scope=col>z_all</th><th scope=col>p_all</th></tr>\n",
       "\t<tr><th scope=col>&lt;dbl&gt;</th><th scope=col>&lt;dbl&gt;</th><th scope=col>&lt;dbl&gt;</th><th scope=col>&lt;dbl&gt;</th></tr>\n",
       "</thead>\n",
       "<tbody>\n",
       "\t<tr><td>0.9845484</td><td>0.03986773</td><td>24.69537</td><td>1.199156e-134</td></tr>\n",
       "</tbody>\n",
       "</table>\n"
      ],
      "text/latex": [
       "A data.frame: 1 x 4\n",
       "\\begin{tabular}{llll}\n",
       " beta\\_all & se\\_all & z\\_all & p\\_all\\\\\n",
       " <dbl> & <dbl> & <dbl> & <dbl>\\\\\n",
       "\\hline\n",
       "\t 0.9845484 & 0.03986773 & 24.69537 & 1.199156e-134\\\\\n",
       "\\end{tabular}\n"
      ],
      "text/markdown": [
       "\n",
       "A data.frame: 1 x 4\n",
       "\n",
       "| beta_all &lt;dbl&gt; | se_all &lt;dbl&gt; | z_all &lt;dbl&gt; | p_all &lt;dbl&gt; |\n",
       "|---|---|---|---|\n",
       "| 0.9845484 | 0.03986773 | 24.69537 | 1.199156e-134 |\n",
       "\n"
      ],
      "text/plain": [
       "  beta_all  se_all     z_all    p_all        \n",
       "1 0.9845484 0.03986773 24.69537 1.199156e-134"
      ]
     },
     "metadata": {},
     "output_type": "display_data"
    }
   ],
   "source": [
    "res_merged = data.frame(beta_all, se_all, z_all, p_all)\n",
    "rownames(res_merged) = NULL\n",
    "res_merged"
   ]
  },
  {
   "cell_type": "code",
   "execution_count": 30,
   "id": "7132dd3a",
   "metadata": {
    "vscode": {
     "languageId": "r"
    }
   },
   "outputs": [
    {
     "data": {
      "text/html": [
       "<table class=\"dataframe\">\n",
       "<caption>A data.frame: 1 x 4</caption>\n",
       "<thead>\n",
       "\t<tr><th scope=col>beta_meta</th><th scope=col>se_meta</th><th scope=col>z_meta</th><th scope=col>p_meta</th></tr>\n",
       "\t<tr><th scope=col>&lt;dbl&gt;</th><th scope=col>&lt;dbl&gt;</th><th scope=col>&lt;dbl&gt;</th><th scope=col>&lt;dbl&gt;</th></tr>\n",
       "</thead>\n",
       "<tbody>\n",
       "\t<tr><td>0.9872088</td><td>0.03999143</td><td>24.68551</td><td>1.530562e-134</td></tr>\n",
       "</tbody>\n",
       "</table>\n"
      ],
      "text/latex": [
       "A data.frame: 1 x 4\n",
       "\\begin{tabular}{llll}\n",
       " beta\\_meta & se\\_meta & z\\_meta & p\\_meta\\\\\n",
       " <dbl> & <dbl> & <dbl> & <dbl>\\\\\n",
       "\\hline\n",
       "\t 0.9872088 & 0.03999143 & 24.68551 & 1.530562e-134\\\\\n",
       "\\end{tabular}\n"
      ],
      "text/markdown": [
       "\n",
       "A data.frame: 1 x 4\n",
       "\n",
       "| beta_meta &lt;dbl&gt; | se_meta &lt;dbl&gt; | z_meta &lt;dbl&gt; | p_meta &lt;dbl&gt; |\n",
       "|---|---|---|---|\n",
       "| 0.9872088 | 0.03999143 | 24.68551 | 1.530562e-134 |\n",
       "\n"
      ],
      "text/plain": [
       "  beta_meta se_meta    z_meta   p_meta       \n",
       "1 0.9872088 0.03999143 24.68551 1.530562e-134"
      ]
     },
     "metadata": {},
     "output_type": "display_data"
    },
    {
     "data": {
      "text/html": [
       "<table class=\"dataframe\">\n",
       "<caption>A data.frame: 1 x 4</caption>\n",
       "<thead>\n",
       "\t<tr><th scope=col>beta_all</th><th scope=col>se_all</th><th scope=col>z_all</th><th scope=col>p_all</th></tr>\n",
       "\t<tr><th scope=col>&lt;dbl&gt;</th><th scope=col>&lt;dbl&gt;</th><th scope=col>&lt;dbl&gt;</th><th scope=col>&lt;dbl&gt;</th></tr>\n",
       "</thead>\n",
       "<tbody>\n",
       "\t<tr><td>0.9845484</td><td>0.03986773</td><td>24.69537</td><td>1.199156e-134</td></tr>\n",
       "</tbody>\n",
       "</table>\n"
      ],
      "text/latex": [
       "A data.frame: 1 x 4\n",
       "\\begin{tabular}{llll}\n",
       " beta\\_all & se\\_all & z\\_all & p\\_all\\\\\n",
       " <dbl> & <dbl> & <dbl> & <dbl>\\\\\n",
       "\\hline\n",
       "\t 0.9845484 & 0.03986773 & 24.69537 & 1.199156e-134\\\\\n",
       "\\end{tabular}\n"
      ],
      "text/markdown": [
       "\n",
       "A data.frame: 1 x 4\n",
       "\n",
       "| beta_all &lt;dbl&gt; | se_all &lt;dbl&gt; | z_all &lt;dbl&gt; | p_all &lt;dbl&gt; |\n",
       "|---|---|---|---|\n",
       "| 0.9845484 | 0.03986773 | 24.69537 | 1.199156e-134 |\n",
       "\n"
      ],
      "text/plain": [
       "  beta_all  se_all     z_all    p_all        \n",
       "1 0.9845484 0.03986773 24.69537 1.199156e-134"
      ]
     },
     "metadata": {},
     "output_type": "display_data"
    }
   ],
   "source": [
    "# 6. Compare results\n",
    "\n",
    "res_meta\n",
    "res_merged"
   ]
  },
  {
   "cell_type": "markdown",
   "id": "848ae4d7",
   "metadata": {},
   "source": [
    "The results are identical."
   ]
  },
  {
   "cell_type": "markdown",
   "id": "50e434c7",
   "metadata": {},
   "source": [
    "# Supplementary"
   ]
  },
  {
   "cell_type": "markdown",
   "id": "d365a858",
   "metadata": {},
   "source": [
    "> slide 146 in Hailiang Huang's slides\n",
    ">\n",
    "> slide 244-246 from GW"
   ]
  },
  {
   "cell_type": "markdown",
   "id": "38d1da02",
   "metadata": {},
   "source": [
    "\n",
    "## Heterogeneity Assessment\n",
    "\n",
    "Heterogeneity assessment is a crucial component of meta-analysis because it evaluates whether the observed effect sizes across different studies are more variable than would be expected by chance alone. This helps us understand if we're truly measuring the same effect across studies or if there are underlying differences. Below are several ways to measure it.\n",
    "\n",
    "### Cochran's Q Statistic:\n",
    "$$Q = \\sum_{i=1}^{k} w_i(\\hat{\\beta}_i - \\hat{\\beta})^2$$\n",
    "\n",
    "This statistic follows a $\\chi^2$ distribution with $k-1$ degrees of freedom under the null hypothesis of homogeneity.\n",
    "\n",
    "### $I^2$ Statistic (Percentage of Variation Due to Heterogeneity)\n",
    "$$I^2 = \\max\\left\\{0, \\frac{Q-(k-1)}{Q} \\times 100\\%\\right\\}$$\n",
    "\n",
    "- Interpretation:\n",
    "  - 0-25%: Might not be important\n",
    "  - 25-50%: Moderate heterogeneity\n",
    "  - 50-75%: Substantial heterogeneity\n",
    "  - 75-100%: Considerable heterogeneity\n"
   ]
  },
  {
   "cell_type": "code",
   "execution_count": null,
   "id": "1833fab7-86ed-461a-bdea-539237b58477",
   "metadata": {
    "vscode": {
     "languageId": "r"
    }
   },
   "outputs": [],
   "source": []
  }
 ],
 "metadata": {
  "kernelspec": {
   "display_name": "R",
   "language": "R",
   "name": "ir"
  },
  "language_info": {
   "codemirror_mode": "r",
   "file_extension": ".r",
   "mimetype": "text/x-r-source",
   "name": "R",
   "pygments_lexer": "r",
   "version": "4.3.3"
  }
 },
 "nbformat": 4,
 "nbformat_minor": 5
}
