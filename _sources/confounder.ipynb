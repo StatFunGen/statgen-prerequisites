{
 "cells": [
  {
   "cell_type": "markdown",
   "id": "aa6e4629",
   "metadata": {},
   "source": [
    "# Intuitional Description\n",
    "\n",
    "A confounder is a variable that **influences both the exposure and outcome independently**, creating a **misleading association** between them that doesn't represent a true causal relationship."
   ]
  },
  {
   "cell_type": "markdown",
   "id": "b1ee9ba0",
   "metadata": {},
   "source": [
    "# Graphical Summary"
   ]
  },
  {
   "cell_type": "markdown",
   "id": "b614ecf6",
   "metadata": {},
   "source": [
    "![confounder](./cartoons/confounder.svg)"
   ]
  },
  {
   "cell_type": "markdown",
   "id": "238e3aa0",
   "metadata": {},
   "source": [
    "# Key Formula\n",
    "\n",
    "The key formula for the concept of a confounder is represented in a causal diagram as:\n",
    "$$\n",
    "X ← C → Y\n",
    "$$\n",
    "Where:\n",
    "- $C$ is the confounder variable\n",
    "- $X$ is the exposure/treatment variable \n",
    "- $Y$ is the outcome variable\n",
    "- The arrows (←, →) indicate the direction of causal influence\n",
    "\n",
    "This diagram illustrates that a confounder ($C$) has a direct causal effect on both the exposure ($X$) and the outcome ($Y$), creating a \"backdoor path\" between $X$ and $Y$ that must be blocked to obtain an unbiased estimate of the causal effect.\n"
   ]
  },
  {
   "cell_type": "markdown",
   "id": "5de6a2ae",
   "metadata": {},
   "source": [
    "# Technical Details\n",
    "\n"
   ]
  },
  {
   "cell_type": "markdown",
   "id": "e82f611e",
   "metadata": {},
   "source": [
    "Confounding can cause bias in the estimation of the relationship between the genotype and the trait. To avoid this bias, confounders **must be controlled** in the analysis, typically by including them as covariates in regression models.\n",
    "\n",
    "\n",
    "In formal causal inference terminology, a confounder creates a situation where:\n",
    "$$\n",
    "P(Y|X) \\neq P(Y|\\text{do}(X))\n",
    "$$\n",
    "Where do(X) represents an intervention to set X to a specific value. This inequality shows that the observed association differs from the true causal effect due to the confounding variable.\n",
    "\n",
    "When adjusting for confounders in statistical models:\n",
    "1. Stratification: Analyzing the $X$-$Y$ relationship separately within strata of C\n",
    "2. Regression adjustment: $Y = \\beta_0 + \\beta_1 X + \\beta_2 C + \\epsilon$\n",
    "3. Propensity score methods: Creating balanced groups based on $P(X=1|C)$\n",
    "4. Instrumental variables: Using a variable $Z$ where $Z→X→Y$ and $Z \\perp \\!\\!\\! \\perp C$\n",
    "5. Directed Acyclic Graphs (DAGs): Identifying minimal sufficient adjustment sets\n",
    "\n",
    "The backdoor criterion in causal inference provides a graphical rule for identifying which variables need to be controlled to eliminate confounding bias when estimating causal effects."
   ]
  },
  {
   "cell_type": "markdown",
   "id": "58d544ce-922b-4a03-b765-9a1972fd1859",
   "metadata": {},
   "source": [
    "# Example"
   ]
  },
  {
   "cell_type": "markdown",
   "id": "e2916404",
   "metadata": {},
   "source": [
    "This example demonstrates how to identify and control for confounding in genetic association studies. We create a simple dataset with:\n",
    "\n",
    "- Genetic variants for 5 individuals\n",
    "- Height measurements\n",
    "- Ancestry information (the confounder)\n",
    "\n",
    "We perform two analyses:\n",
    "\n",
    "- A naive analysis testing associations between genetic variants and height\n",
    "- An adjusted analysis controlling for ancestry as a confounder\n",
    "\n",
    "The example shows how ancestry can create spurious associations between certain genetic variants and height, and how proper statistical adjustment helps reveal the true underlying relationships by blocking this \"backdoor path\" created by the confounder."
   ]
  },
  {
   "cell_type": "code",
   "execution_count": 35,
   "id": "7fbd0f42",
   "metadata": {
    "vscode": {
     "languageId": "r"
    }
   },
   "outputs": [],
   "source": [
    "# Clear the environment\n",
    "rm(list = ls())\n",
    "\n",
    "# Define genotypes for 5 individuals at 3 variants\n",
    "# These represent actual alleles at each position\n",
    "# For example, Individual 1 has genotypes: CC, CT, AT\n",
    "genotypes <- c(\n",
    "  \"CC\", \"CT\", \"AT\", # Individual 1\n",
    "  \"TT\", \"TT\", \"AA\", # Individual 2\n",
    "  \"CT\", \"CT\", \"AA\", # Individual 3\n",
    "  \"CC\", \"TT\", \"AA\", # Individual 4\n",
    "  \"CC\", \"CC\", \"TT\" # Individual 5\n",
    ")\n",
    "# Reshape into a matrix\n",
    "N <- 5 # number of individuals\n",
    "M <- 3 # number of variants\n",
    "geno_matrix <- matrix(genotypes, nrow = N, ncol = M, byrow = TRUE)\n",
    "rownames(geno_matrix) <- paste(\"Individual\", 1:N)\n",
    "colnames(geno_matrix) <- paste(\"Variant\", 1:M)\n",
    "\n",
    "alt_alleles <- c(\"T\", \"C\", \"T\")\n",
    "ref_alleles <- c(\"C\", \"T\", \"A\")\n",
    "\n",
    "# Convert to raw genotype matrix using the additive / dominant / recessive model\n",
    "Xraw_additive <- matrix(0, nrow = N, ncol = M) # dount number of non-reference alleles\n",
    "\n",
    "rownames(Xraw_additive) <- rownames(geno_matrix)\n",
    "colnames(Xraw_additive) <- colnames(geno_matrix)\n",
    "\n",
    "for (i in 1:N) {\n",
    "  for (j in 1:M) {\n",
    "    alleles <- strsplit(geno_matrix[i, j], \"\")[[1]]\n",
    "    Xraw_additive[i, j] <- sum(alleles == alt_alleles[j])\n",
    "  }\n",
    "}\n",
    "X <- scale(Xraw_additive, center = TRUE, scale = TRUE)"
   ]
  },
  {
   "cell_type": "code",
   "execution_count": 36,
   "id": "bab4e87b",
   "metadata": {
    "vscode": {
     "languageId": "r"
    }
   },
   "outputs": [],
   "source": [
    "# assign observed height for the 5 individuals\n",
    "Y_raw <- c(180, 160, 158, 155, 193)\n",
    "Y <- scale(Y_raw)"
   ]
  },
  {
   "cell_type": "code",
   "execution_count": 37,
   "id": "687bf71d",
   "metadata": {
    "vscode": {
     "languageId": "r"
    }
   },
   "outputs": [],
   "source": [
    "# Now let's introduce a confounder: Ancestry\n",
    "# We'll create two ancestry groups that correlate with both genotype and phenotype\n",
    "ancestry <- c(1, 2, 2, 1, 1) # 1=Population A, 2=Population B\n",
    "ancestry_factor <- as.factor(ancestry)\n",
    "\n",
    "# Simulate an outcome (height) that's affected by both genotype and ancestry\n",
    "Y_raw <- c(180, 160, 158, 155, 193)\n",
    "Y <- scale(Y_raw)"
   ]
  },
  {
   "cell_type": "code",
   "execution_count": 38,
   "id": "135a860b",
   "metadata": {
    "vscode": {
     "languageId": "r"
    }
   },
   "outputs": [],
   "source": [
    "# first we conduct the OLS like we did in the previous section of summary statistics \n",
    "# Calculate minor allele frequencies\n",
    "MAF <- colMeans(Xraw_additive) / 2\n",
    "\n",
    "# Perform GWAS-style analysis: Test each SNP independently using OLS\n",
    "sumstats <- data.frame(\n",
    "    SNP = paste0(\"rs\", 1:M),\n",
    "    CHR = c(1, 1, 2), # Example chromosome assignments\n",
    "    BP = c(1000, 2000, 5000), # Example base pair positions\n",
    "    ALT = alt_alleles, # Effect allele\n",
    "    REF = ref_alleles, # Reference allele\n",
    "    N = rep(N, M), # Sample size\n",
    "    BETA = numeric(M), # Effect size\n",
    "    SE = numeric(M), # Standard error\n",
    "    Z = numeric(M), # Z-score\n",
    "    P = numeric(M), # P-value\n",
    "    EAF = MAF # Effect allele frequency\n",
    ")\n",
    "\n",
    "for (j in 1:M) {\n",
    "    SNP <- X[, j] # Extract genotype for SNP j\n",
    "    model <- lm(Y ~ SNP) # OLS regression: Trait ~ SNP\n",
    "    summary_model <- summary(model)\n",
    "\n",
    "    # Store results in standard format\n",
    "    sumstats$BETA[j] <- summary_model$coefficients[2, 1] # Effect size\n",
    "    sumstats$SE[j] <- summary_model$coefficients[2, 2] # Standard error\n",
    "    sumstats$Z[j] <- summary_model$coefficients[2, 3] # t-statistic (equivalent to Z-score)\n",
    "    sumstats$P[j] <- summary_model$coefficients[2, 4] # P-value\n",
    "}\n"
   ]
  },
  {
   "cell_type": "code",
   "execution_count": 39,
   "id": "80e9fdfe",
   "metadata": {
    "vscode": {
     "languageId": "r"
    }
   },
   "outputs": [],
   "source": [
    "# Now perform the analysis adjusting for the confounder (ancestry)\n",
    "\n",
    "# Perform GWAS-style analysis: Test each SNP independently using OLS\n",
    "sumstats_adjusted <- data.frame(\n",
    "  SNP = paste0(\"rs\", 1:M),\n",
    "  CHR = c(1, 1, 2),  # Example chromosome assignments\n",
    "  BP = c(1000, 2000, 5000),  # Example base pair positions\n",
    "  ALT = alt_alleles,  # Effect allele\n",
    "  REF = ref_alleles,  # Reference allele\n",
    "  N = rep(N, M),  # Sample size\n",
    "  BETA = numeric(M),  # Effect size\n",
    "  SE = numeric(M),  # Standard error\n",
    "  Z = numeric(M),  # Z-score\n",
    "  P = numeric(M),  # P-value\n",
    "  EAF = MAF  # Effect allele frequency\n",
    ")\n",
    "\n",
    "for (j in 1:M) {\n",
    "  SNP <- X[, j]  # Extract genotype for SNP j\n",
    "  model_adjusted <- lm(Y ~ SNP + ancestry_factor)  # OLS regression: Trait ~ SNP + ancestry\n",
    "  summary_model_adjusted <- summary(model_adjusted)\n",
    "  \n",
    "  # Store results in standard format\n",
    "  sumstats_adjusted$BETA[j] <- summary_model_adjusted$coefficients[2, 1] # Effect size\n",
    "  sumstats_adjusted$SE[j] <- summary_model_adjusted$coefficients[2, 2] # Standard error\n",
    "  sumstats_adjusted$Z[j] <- summary_model_adjusted$coefficients[2, 3] # t-statistic (equivalent to Z-score)\n",
    "  sumstats_adjusted$P[j] <- summary_model_adjusted$coefficients[2, 4] # P-value\n",
    "}\n"
   ]
  },
  {
   "cell_type": "code",
   "execution_count": 40,
   "id": "a3967405",
   "metadata": {
    "vscode": {
     "languageId": "r"
    }
   },
   "outputs": [
    {
     "name": "stdout",
     "output_type": "stream",
     "text": [
      "[1] \"GWAS Summary Statistics:\"\n"
     ]
    },
    {
     "data": {
      "text/html": [
       "<table class=\"dataframe\">\n",
       "<caption>A data.frame: 3 × 11</caption>\n",
       "<thead>\n",
       "\t<tr><th></th><th scope=col>SNP</th><th scope=col>CHR</th><th scope=col>BP</th><th scope=col>ALT</th><th scope=col>REF</th><th scope=col>N</th><th scope=col>BETA</th><th scope=col>SE</th><th scope=col>Z</th><th scope=col>P</th><th scope=col>EAF</th></tr>\n",
       "\t<tr><th></th><th scope=col>&lt;chr&gt;</th><th scope=col>&lt;dbl&gt;</th><th scope=col>&lt;dbl&gt;</th><th scope=col>&lt;chr&gt;</th><th scope=col>&lt;chr&gt;</th><th scope=col>&lt;dbl&gt;</th><th scope=col>&lt;dbl&gt;</th><th scope=col>&lt;dbl&gt;</th><th scope=col>&lt;dbl&gt;</th><th scope=col>&lt;dbl&gt;</th><th scope=col>&lt;dbl&gt;</th></tr>\n",
       "</thead>\n",
       "<tbody>\n",
       "\t<tr><th scope=row>Variant 1</th><td>rs1</td><td>1</td><td>1000</td><td>T</td><td>C</td><td>5</td><td>-0.5000913</td><td>0.49996955</td><td>-1.000244</td><td>0.390901513</td><td>0.3</td></tr>\n",
       "\t<tr><th scope=row>Variant 2</th><td>rs2</td><td>1</td><td>2000</td><td>C</td><td>T</td><td>5</td><td> 0.8525024</td><td>0.30179448</td><td> 2.824778</td><td>0.066475513</td><td>0.4</td></tr>\n",
       "\t<tr><th scope=row>Variant 3</th><td>rs3</td><td>2</td><td>5000</td><td>T</td><td>A</td><td>5</td><td> 0.9866667</td><td>0.09396605</td><td>10.500246</td><td>0.001844466</td><td>0.3</td></tr>\n",
       "</tbody>\n",
       "</table>\n"
      ],
      "text/latex": [
       "A data.frame: 3 × 11\n",
       "\\begin{tabular}{r|lllllllllll}\n",
       "  & SNP & CHR & BP & ALT & REF & N & BETA & SE & Z & P & EAF\\\\\n",
       "  & <chr> & <dbl> & <dbl> & <chr> & <chr> & <dbl> & <dbl> & <dbl> & <dbl> & <dbl> & <dbl>\\\\\n",
       "\\hline\n",
       "\tVariant 1 & rs1 & 1 & 1000 & T & C & 5 & -0.5000913 & 0.49996955 & -1.000244 & 0.390901513 & 0.3\\\\\n",
       "\tVariant 2 & rs2 & 1 & 2000 & C & T & 5 &  0.8525024 & 0.30179448 &  2.824778 & 0.066475513 & 0.4\\\\\n",
       "\tVariant 3 & rs3 & 2 & 5000 & T & A & 5 &  0.9866667 & 0.09396605 & 10.500246 & 0.001844466 & 0.3\\\\\n",
       "\\end{tabular}\n"
      ],
      "text/markdown": [
       "\n",
       "A data.frame: 3 × 11\n",
       "\n",
       "| <!--/--> | SNP &lt;chr&gt; | CHR &lt;dbl&gt; | BP &lt;dbl&gt; | ALT &lt;chr&gt; | REF &lt;chr&gt; | N &lt;dbl&gt; | BETA &lt;dbl&gt; | SE &lt;dbl&gt; | Z &lt;dbl&gt; | P &lt;dbl&gt; | EAF &lt;dbl&gt; |\n",
       "|---|---|---|---|---|---|---|---|---|---|---|---|\n",
       "| Variant 1 | rs1 | 1 | 1000 | T | C | 5 | -0.5000913 | 0.49996955 | -1.000244 | 0.390901513 | 0.3 |\n",
       "| Variant 2 | rs2 | 1 | 2000 | C | T | 5 |  0.8525024 | 0.30179448 |  2.824778 | 0.066475513 | 0.4 |\n",
       "| Variant 3 | rs3 | 2 | 5000 | T | A | 5 |  0.9866667 | 0.09396605 | 10.500246 | 0.001844466 | 0.3 |\n",
       "\n"
      ],
      "text/plain": [
       "          SNP CHR BP   ALT REF N BETA       SE         Z         P          \n",
       "Variant 1 rs1 1   1000 T   C   5 -0.5000913 0.49996955 -1.000244 0.390901513\n",
       "Variant 2 rs2 1   2000 C   T   5  0.8525024 0.30179448  2.824778 0.066475513\n",
       "Variant 3 rs3 2   5000 T   A   5  0.9866667 0.09396605 10.500246 0.001844466\n",
       "          EAF\n",
       "Variant 1 0.3\n",
       "Variant 2 0.4\n",
       "Variant 3 0.3"
      ]
     },
     "metadata": {},
     "output_type": "display_data"
    },
    {
     "name": "stdout",
     "output_type": "stream",
     "text": [
      "[1] \"GWAS Summary Statistics after considering genetic ancestry:\"\n"
     ]
    },
    {
     "data": {
      "text/html": [
       "<table class=\"dataframe\">\n",
       "<caption>A data.frame: 3 × 11</caption>\n",
       "<thead>\n",
       "\t<tr><th></th><th scope=col>SNP</th><th scope=col>CHR</th><th scope=col>BP</th><th scope=col>ALT</th><th scope=col>REF</th><th scope=col>N</th><th scope=col>BETA</th><th scope=col>SE</th><th scope=col>Z</th><th scope=col>P</th><th scope=col>EAF</th></tr>\n",
       "\t<tr><th></th><th scope=col>&lt;chr&gt;</th><th scope=col>&lt;dbl&gt;</th><th scope=col>&lt;dbl&gt;</th><th scope=col>&lt;chr&gt;</th><th scope=col>&lt;chr&gt;</th><th scope=col>&lt;dbl&gt;</th><th scope=col>&lt;dbl&gt;</th><th scope=col>&lt;dbl&gt;</th><th scope=col>&lt;dbl&gt;</th><th scope=col>&lt;dbl&gt;</th><th scope=col>&lt;dbl&gt;</th></tr>\n",
       "</thead>\n",
       "<tbody>\n",
       "\t<tr><th scope=row>Variant 1</th><td>rs1</td><td>1</td><td>1000</td><td>T</td><td>C</td><td>5</td><td>0.1081279</td><td>1.4766481</td><td>0.0732252</td><td>0.94829123</td><td>0.3</td></tr>\n",
       "\t<tr><th scope=row>Variant 2</th><td>rs2</td><td>1</td><td>2000</td><td>C</td><td>T</td><td>5</td><td>0.7484682</td><td>0.3201662</td><td>2.3377489</td><td>0.14438001</td><td>0.4</td></tr>\n",
       "\t<tr><th scope=row>Variant 3</th><td>rs3</td><td>2</td><td>5000</td><td>T</td><td>A</td><td>5</td><td>1.0272146</td><td>0.1378365</td><td>7.4524131</td><td>0.01753339</td><td>0.3</td></tr>\n",
       "</tbody>\n",
       "</table>\n"
      ],
      "text/latex": [
       "A data.frame: 3 × 11\n",
       "\\begin{tabular}{r|lllllllllll}\n",
       "  & SNP & CHR & BP & ALT & REF & N & BETA & SE & Z & P & EAF\\\\\n",
       "  & <chr> & <dbl> & <dbl> & <chr> & <chr> & <dbl> & <dbl> & <dbl> & <dbl> & <dbl> & <dbl>\\\\\n",
       "\\hline\n",
       "\tVariant 1 & rs1 & 1 & 1000 & T & C & 5 & 0.1081279 & 1.4766481 & 0.0732252 & 0.94829123 & 0.3\\\\\n",
       "\tVariant 2 & rs2 & 1 & 2000 & C & T & 5 & 0.7484682 & 0.3201662 & 2.3377489 & 0.14438001 & 0.4\\\\\n",
       "\tVariant 3 & rs3 & 2 & 5000 & T & A & 5 & 1.0272146 & 0.1378365 & 7.4524131 & 0.01753339 & 0.3\\\\\n",
       "\\end{tabular}\n"
      ],
      "text/markdown": [
       "\n",
       "A data.frame: 3 × 11\n",
       "\n",
       "| <!--/--> | SNP &lt;chr&gt; | CHR &lt;dbl&gt; | BP &lt;dbl&gt; | ALT &lt;chr&gt; | REF &lt;chr&gt; | N &lt;dbl&gt; | BETA &lt;dbl&gt; | SE &lt;dbl&gt; | Z &lt;dbl&gt; | P &lt;dbl&gt; | EAF &lt;dbl&gt; |\n",
       "|---|---|---|---|---|---|---|---|---|---|---|---|\n",
       "| Variant 1 | rs1 | 1 | 1000 | T | C | 5 | 0.1081279 | 1.4766481 | 0.0732252 | 0.94829123 | 0.3 |\n",
       "| Variant 2 | rs2 | 1 | 2000 | C | T | 5 | 0.7484682 | 0.3201662 | 2.3377489 | 0.14438001 | 0.4 |\n",
       "| Variant 3 | rs3 | 2 | 5000 | T | A | 5 | 1.0272146 | 0.1378365 | 7.4524131 | 0.01753339 | 0.3 |\n",
       "\n"
      ],
      "text/plain": [
       "          SNP CHR BP   ALT REF N BETA      SE        Z         P          EAF\n",
       "Variant 1 rs1 1   1000 T   C   5 0.1081279 1.4766481 0.0732252 0.94829123 0.3\n",
       "Variant 2 rs2 1   2000 C   T   5 0.7484682 0.3201662 2.3377489 0.14438001 0.4\n",
       "Variant 3 rs3 2   5000 T   A   5 1.0272146 0.1378365 7.4524131 0.01753339 0.3"
      ]
     },
     "metadata": {},
     "output_type": "display_data"
    }
   ],
   "source": [
    "# Print summary statistics in standard format (before adjusting for ancestry)\n",
    "print(\"GWAS Summary Statistics:\")\n",
    "sumstats\n",
    "# Print summary statistics in standard format (after adjusting for ancestry)\n",
    "print(\"GWAS Summary Statistics after considering genetic ancestry:\")\n",
    "sumstats_adjusted"
   ]
  },
  {
   "cell_type": "code",
   "execution_count": null,
   "id": "256eb1d7-6e03-4c49-ab64-c5f06accfa94",
   "metadata": {
    "vscode": {
     "languageId": "r"
    }
   },
   "outputs": [],
   "source": []
  }
 ],
 "metadata": {
  "kernelspec": {
   "display_name": "/mnt/vast/hpc/homes/rd2972/micromamba/envs/pisces-rabbit/bin/R",
   "language": "/mnt/vast/hpc/homes/rd2972/micromamba/envs/pisces-rabbit/bin/R",
   "name": "ir"
  },
  "language_info": {
   "codemirror_mode": "r",
   "file_extension": ".r",
   "mimetype": "text/x-r-source",
   "name": "R",
   "pygments_lexer": "r",
   "version": "4.4.2"
  },
  "toc-autonumbering": true
 },
 "nbformat": 4,
 "nbformat_minor": 5
}
