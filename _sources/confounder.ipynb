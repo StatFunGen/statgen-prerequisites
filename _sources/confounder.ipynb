{
 "cells": [
  {
   "cell_type": "markdown",
   "id": "aa6e4629",
   "metadata": {},
   "source": [
    "# Confounder\n",
    "\n",
    "A confounder is a variable that **influences both the exposure and outcome independently**, creating a **misleading association** between them that doesn't represent a true causal relationship."
   ]
  },
  {
   "cell_type": "markdown",
   "id": "b1ee9ba0",
   "metadata": {},
   "source": [
    "# Graphical Summary"
   ]
  },
  {
   "cell_type": "markdown",
   "id": "b614ecf6",
   "metadata": {},
   "source": [
    "![Fig](./graphical_summary/slides/Slide14.png)"
   ]
  },
  {
   "cell_type": "markdown",
   "id": "238e3aa0",
   "metadata": {},
   "source": [
    "# Key Formula\n",
    "\n",
    "The key formula for the concept of a confounder is represented in a causal diagram as:\n",
    "\n",
    "$$\n",
    "X ← C → Y\n",
    "$$\n",
    "\n",
    "Where:\n",
    "- $C$ is the confounder variable\n",
    "- $X$ is the exposure/treatment variable \n",
    "- $Y$ is the outcome variable\n",
    "- The arrows (←, →) indicate the direction of causal influence\n",
    "\n",
    "This diagram illustrates that a confounder ($C$) has a direct causal effect on both the exposure ($X$) and the outcome ($Y$), creating a \"backdoor path\" between $X$ and $Y$ that must be blocked to obtain an unbiased estimate of the causal effect.\n"
   ]
  },
  {
   "cell_type": "markdown",
   "id": "5de6a2ae",
   "metadata": {},
   "source": [
    "# Technical Details\n",
    "\n"
   ]
  },
  {
   "cell_type": "markdown",
   "id": "507a2a14",
   "metadata": {},
   "source": [
    "## What Happens When We Ignore Confounders\n",
    "\n",
    "When a confounder is present but not controlled:\n",
    "\n",
    "$$\n",
    "\\text{Observed Association} = \\text{True Effect} + \\text{Confounding Bias}\n",
    "$$\n",
    "\n",
    "- **True Effect**: The real biological relationship we want to find\n",
    "- **Confounding Bias**: The false association created by the confounder\n",
    "- **Observed Association**: What we actually measure (often misleading!)\n"
   ]
  },
  {
   "cell_type": "markdown",
   "id": "5e140651",
   "metadata": {},
   "source": [
    "## The Solution: Control for Confounders\n",
    "\n",
    "The most common and practical solution is **regression adjustment** - simply include confounders as additional variables in your model:\n",
    "\n",
    "$$\n",
    "Y = \\beta_0 + \\beta_1 X + \\beta_2 C_1 + \\beta_3 C_2 + \\ldots + \\epsilon\n",
    "$$\n",
    "\n",
    "Where:\n",
    "- $Y$ = outcome (e.g., height, disease status)\n",
    "- $X$ = genetic variant of interest  \n",
    "- $C_1, C_2, \\ldots$ = confounders (e.g., age, ancestry, sex)\n",
    "- $\\beta_1$ = the **unbiased** effect of the genetic variant\n",
    "\n",
    "Here are the common approaches in genetic studies:\n",
    "- Principal Components (Most Common): Control for population structure by including top PCs:\n",
    "  $$\n",
    "  \\mathbf{Y} = \\mathbf{X}\\boldsymbol{\\beta} + PC1 + PC2 + PC3 + Age + Sex\n",
    "  $$\n",
    "- Linear Mixed Models: Use genetic relationship matrices for complex population structure:\n",
    "  $$\n",
    "  \\mathbf{Y} = \\mathbf{X}\\boldsymbol{\\beta} + \\mathbf{Zu} + \\boldsymbol{\\epsilon}\n",
    "  $$\n",
    "    where $\\mathbf{u} \\sim N(0, \\sigma^2 G)$, G is kinship matrix\n",
    "- Stratified Analysis: Analyze each ancestry group separately, then combine results:\n",
    "  1. Europeans: Trait ~ SNP + Age + Sex\n",
    "  2. Asians: Trait ~ SNP + Age + Sex  \n",
    "  3. Meta-analyze results\n",
    "\n",
    "The goal is to block **backdoor paths** while keeping the **direct causal path** open."
   ]
  },
  {
   "cell_type": "markdown",
   "id": "902b2afd",
   "metadata": {},
   "source": [
    "# Related Topics\n",
    "\n",
    "- [ordinary least squares](https://gaow.github.io/statgen-prerequisites/ordinary_least_squares.html)\n",
    "- [LD](https://gaow.github.io/statgen-prerequisites/linkage_disequilibrium.html)\n",
    "- [marginal and joint effects](https://gaow.github.io/statgen-prerequisites/marginal_joint_effects.html)"
   ]
  },
  {
   "cell_type": "markdown",
   "id": "58d544ce-922b-4a03-b765-9a1972fd1859",
   "metadata": {},
   "source": [
    "# Example"
   ]
  },
  {
   "cell_type": "markdown",
   "id": "e2916404",
   "metadata": {},
   "source": [
    "Recall from our earlier discussion of marginal vs joint effects how a genetic variant can appear protective when analyzed alone but harmful when controlling for other factors. This dramatic reversal illustrates **confounding** - where ancestry affects both variant frequency and disease risk, creating spurious associations.\n",
    "\n",
    "The key question: *How can ancestry confound genetic associations and lead us to completely misinterpret a variant's true effect?*"
   ]
  },
  {
   "cell_type": "code",
   "execution_count": 7,
   "id": "7fbd0f42",
   "metadata": {
    "vscode": {
     "languageId": "r"
    }
   },
   "outputs": [],
   "source": [
    "rm(list = ls())\n",
    "set.seed(9)  # For reproducibility\n",
    "\n",
    "N <- 100  # Sample size\n",
    "\n",
    "# Create a confounding variable (genetic ancestry)\n",
    "ancestry <- rbinom(N, 1, 0.5)  # 0 = Population A, 1 = Population B\n",
    "\n",
    "# Generate genotype that's correlated with ancestry\n",
    "# Population B has higher frequency of risk allele\n",
    "variant1 <- ifelse(ancestry == 0, \n",
    "                  rbinom(sum(ancestry == 0), 2, 0.2),  # Pop A: low risk allele frequency\n",
    "                  rbinom(sum(ancestry == 1), 2, 0.8))  # Pop B: high risk allele frequency\n",
    "\n",
    "# Population B has generally lower disease risk (better healthcare/environment)\n",
    "# But the variant increases risk within each population\n",
    "baseline_risk <- ifelse(ancestry == 0, 0.8, 0.1)  # Pop A much higher baseline risk\n",
    "genetic_effect <- 0.1 * variant1  # Variant increases risk in both populations\n",
    "\n",
    "disease_prob <- baseline_risk + genetic_effect\n",
    "disease <- rbinom(N, 1, pmin(disease_prob, 1))  # Ensure prob ≤ 1\n",
    "\n",
    "# Create data frame\n",
    "data <- data.frame(\n",
    "  disease = disease,\n",
    "  variant1 = variant1,\n",
    "  ancestry = ancestry\n",
    ")\n"
   ]
  },
  {
   "cell_type": "markdown",
   "id": "15d16d3f",
   "metadata": {},
   "source": [
    "As we did previously, ignoring the confounder (in this case, ancestry) will give us an incorrect result:"
   ]
  },
  {
   "cell_type": "code",
   "execution_count": 8,
   "id": "a0028738",
   "metadata": {
    "vscode": {
     "languageId": "r"
    }
   },
   "outputs": [
    {
     "name": "stdout",
     "output_type": "stream",
     "text": [
      "=== MARGINAL EFFECT (combining populations, ignoring ancestry) ===\n",
      "OR = 0.394 , p = 4e-04 \n",
      "Interpretation: Protective \n"
     ]
    }
   ],
   "source": [
    "# Marginal analysis (ignoring ancestry - combining both populations)\n",
    "marginal_model <- glm(disease ~ variant1, data = data, family = binomial)\n",
    "marginal_OR <- exp(coef(marginal_model)[2])\n",
    "marginal_p <- summary(marginal_model)$coefficients[2, 4]\n",
    "\n",
    "cat(\"=== MARGINAL EFFECT (combining populations, ignoring ancestry) ===\\n\")\n",
    "cat(\"OR =\", round(marginal_OR, 3), \", p =\", round(marginal_p, 4), \"\\n\")\n",
    "cat(\"Interpretation:\", ifelse(marginal_OR > 1, \"Harmful\", \"Protective\"), \"\\n\")"
   ]
  },
  {
   "cell_type": "markdown",
   "id": "81fe6ab2",
   "metadata": {},
   "source": [
    "But if we consider this in the joint model to control for it, we will get the correct answer:"
   ]
  },
  {
   "cell_type": "code",
   "execution_count": 9,
   "id": "0a935631",
   "metadata": {
    "vscode": {
     "languageId": "r"
    }
   },
   "outputs": [
    {
     "name": "stdout",
     "output_type": "stream",
     "text": [
      "=== JOINT EFFECT (controlling for ancestry) ===\n",
      "OR = 1.192 , p = 0.6768 \n",
      "Interpretation: Harmful \n"
     ]
    }
   ],
   "source": [
    "# Joint analysis (controlling for ancestry)\n",
    "joint_model <- glm(disease ~ variant1 + ancestry, data = data, family = binomial)\n",
    "joint_OR <- exp(coef(joint_model)[2])\n",
    "joint_p <- summary(joint_model)$coefficients[2, 4]\n",
    "\n",
    "cat(\"=== JOINT EFFECT (controlling for ancestry) ===\\n\")\n",
    "cat(\"OR =\", round(joint_OR, 3), \", p =\", round(joint_p, 4), \"\\n\")\n",
    "cat(\"Interpretation:\", ifelse(joint_OR > 1, \"Harmful\", \"Protective\"), \"\\n\")"
   ]
  }
 ],
 "metadata": {
  "kernelspec": {
   "display_name": "R",
   "language": "R",
   "name": "ir"
  },
  "language_info": {
   "codemirror_mode": "r",
   "file_extension": ".r",
   "mimetype": "text/x-r-source",
   "name": "R",
   "pygments_lexer": "r",
   "version": "4.3.3"
  },
  "toc-autonumbering": true
 },
 "nbformat": 4,
 "nbformat_minor": 5
}
