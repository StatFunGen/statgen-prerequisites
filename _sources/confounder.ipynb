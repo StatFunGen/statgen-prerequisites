{
 "cells": [
  {
   "cell_type": "markdown",
   "id": "aa6e4629",
   "metadata": {},
   "source": [
    "# Confounder\n",
    "\n",
    "A confounder is a variable that **influences both the exposure and outcome independently**, creating a **misleading association** between them that doesn't represent a true causal relationship."
   ]
  },
  {
   "cell_type": "markdown",
   "id": "b1ee9ba0",
   "metadata": {},
   "source": [
    "# Graphical Summary"
   ]
  },
  {
   "cell_type": "markdown",
   "id": "b614ecf6",
   "metadata": {},
   "source": [
    "![Fig](./graphical_summary/slides/Slide14.png)"
   ]
  },
  {
   "cell_type": "markdown",
   "id": "238e3aa0",
   "metadata": {},
   "source": [
    "# Key Formula\n",
    "\n",
    "The key formula for the concept of a confounder is represented in a causal diagram as:\n",
    "\n",
    "$$\n",
    "X ← C → Y\n",
    "$$\n",
    "\n",
    "Where:\n",
    "- $C$ is the confounder variable\n",
    "- $X$ is the exposure/treatment variable \n",
    "- $Y$ is the outcome variable\n",
    "- The arrows (←, →) indicate the direction of causal influence\n",
    "\n",
    "This diagram illustrates that a confounder ($C$) has a direct causal effect on both the exposure ($X$) and the outcome ($Y$), creating a \"backdoor path\" between $X$ and $Y$ that must be blocked to obtain an unbiased estimate of the causal effect.\n"
   ]
  },
  {
   "cell_type": "markdown",
   "id": "5de6a2ae",
   "metadata": {},
   "source": [
    "# Technical Details\n",
    "\n"
   ]
  },
  {
   "cell_type": "markdown",
   "id": "507a2a14",
   "metadata": {},
   "source": [
    "## What Happens When We Ignore Confounders\n",
    "\n",
    "When a confounder is present but not controlled:\n",
    "\n",
    "$$\n",
    "\\text{Observed Association} = \\text{True Effect} + \\text{Confounding Bias}\n",
    "$$\n",
    "\n",
    "- **True Effect**: The real biological relationship we want to find\n",
    "- **Confounding Bias**: The false association created by the confounder\n",
    "- **Observed Association**: What we actually measure (often misleading!)\n"
   ]
  },
  {
   "cell_type": "markdown",
   "id": "5e140651",
   "metadata": {},
   "source": [
    "## The Solution: Control for Confounders\n",
    "\n",
    "The most common and practical solution is **regression adjustment** - simply include confounders as additional variables in your model:\n",
    "\n",
    "$$\n",
    "Y = \\beta_0 + \\beta_1 X + \\beta_2 C_1 + \\beta_3 C_2 + \\ldots + \\epsilon\n",
    "$$\n",
    "\n",
    "Where:\n",
    "- $Y$ = outcome (e.g., height, disease status)\n",
    "- $X$ = genetic variant of interest  \n",
    "- $C_1, C_2, \\ldots$ = confounders (e.g., age, ancestry, sex)\n",
    "- $\\beta_1$ = the **unbiased** effect of the genetic variant\n",
    "\n",
    "Here are the common approaches in genetic studies:\n",
    "- Principal Components (Most Common): Control for population structure by including top PCs:\n",
    "  $$\n",
    "  \\mathbf{Y} = \\mathbf{X}\\boldsymbol{\\beta} + PC1 + PC2 + PC3 + Age + Sex\n",
    "  $$\n",
    "- Linear Mixed Models: Use genetic relationship matrices for complex population structure:\n",
    "  $$\n",
    "  \\mathbf{Y} = \\mathbf{X}\\boldsymbol{\\beta} + \\mathbf{Zu} + \\boldsymbol{\\epsilon}\n",
    "  $$\n",
    "    where $\\mathbf{u} \\sim N(0, \\sigma^2 G)$, G is kinship matrix\n",
    "- Stratified Analysis: Analyze each ancestry group separately, then combine results:\n",
    "  1. Europeans: Trait ~ SNP + Age + Sex\n",
    "  2. Asians: Trait ~ SNP + Age + Sex  \n",
    "  3. Meta-analyze results\n",
    "\n",
    "The goal is to block **backdoor paths** while keeping the **direct causal path** open."
   ]
  },
  {
   "cell_type": "markdown",
   "id": "58d544ce-922b-4a03-b765-9a1972fd1859",
   "metadata": {},
   "source": [
    "# Example"
   ]
  },
  {
   "cell_type": "markdown",
   "id": "e2916404",
   "metadata": {},
   "source": [
    "This example demonstrates how to identify and control for confounding in genetic association studies. We create a simple dataset with:\n",
    "\n",
    "- Genetic variants for 5 individuals\n",
    "- Height measurements\n",
    "- Ancestry information (the confounder)\n",
    "\n",
    "We perform two analyses:\n",
    "\n",
    "- A naive analysis testing associations between genetic variants and height\n",
    "- An adjusted analysis controlling for ancestry as a confounder\n",
    "\n",
    "The example shows how ancestry can create spurious associations between certain genetic variants and height, and how proper statistical adjustment helps reveal the true underlying relationships by blocking this \"backdoor path\" created by the confounder."
   ]
  },
  {
   "cell_type": "markdown",
   "id": "d843b641",
   "metadata": {},
   "source": [
    "Related topics:\n",
    "- [OLS](https://gaow.github.io/statgen-prerequisites/ordinary_least_squares.html)"
   ]
  },
  {
   "cell_type": "code",
   "execution_count": 25,
   "id": "7fbd0f42",
   "metadata": {
    "vscode": {
     "languageId": "r"
    }
   },
   "outputs": [],
   "source": [
    "# Clear the environment\n",
    "rm(list = ls())\n",
    "\n",
    "# Define genotypes for 5 individuals at 3 variants\n",
    "# These represent actual alleles at each position\n",
    "# For example, Individual 1 has genotypes: CC, CT, AT\n",
    "genotypes <- c(\n",
    " \"CC\", \"CT\", \"AT\",  # Individual 1\n",
    " \"TT\", \"TT\", \"AA\",  # Individual 2\n",
    " \"CT\", \"CT\", \"AA\",  # Individual 3\n",
    " \"CC\", \"TT\", \"AA\",  # Individual 4\n",
    " \"CC\", \"CC\", \"TT\"   # Individual 5\n",
    ")\n",
    "# Reshape into a matrix\n",
    "N = 5\n",
    "M = 3\n",
    "geno_matrix <- matrix(genotypes, nrow = N, ncol = M, byrow = TRUE)\n",
    "rownames(geno_matrix) <- paste(\"Individual\", 1:N)\n",
    "colnames(geno_matrix) <- paste(\"Variant\", 1:M)\n",
    "\n",
    "alt_alleles <- c(\"T\", \"C\", \"T\")\n",
    "\n",
    "# Convert to raw genotype matrix using the additive / dominant / recessive model\n",
    "Xraw_additive <- matrix(0, nrow = N, ncol = M) # dount number of non-reference alleles\n",
    "\n",
    "rownames(Xraw_additive) <- rownames(geno_matrix)\n",
    "colnames(Xraw_additive) <- colnames(geno_matrix)\n",
    "\n",
    "for (i in 1:N) {\n",
    "  for (j in 1:M) {\n",
    "    alleles <- strsplit(geno_matrix[i,j], \"\")[[1]]\n",
    "    Xraw_additive[i,j] <- sum(alleles == alt_alleles[j])\n",
    "  }\n",
    "}\n",
    "\n",
    "X <- scale(Xraw_additive, center = TRUE, scale = TRUE)"
   ]
  },
  {
   "cell_type": "markdown",
   "id": "6ae2e556",
   "metadata": {},
   "source": [
    "Now let's introduce a confounder: Ancestry. We'll create two ancestry groups that correlate with both genotype and phenotype."
   ]
  },
  {
   "cell_type": "code",
   "execution_count": 39,
   "id": "61ac567c",
   "metadata": {
    "vscode": {
     "languageId": "r"
    }
   },
   "outputs": [],
   "source": [
    "ancestry <- c(1, 2, 1, 2, 1) # 1=Population A, 2=Population B\n",
    "ancestry_factor <- as.factor(ancestry)"
   ]
  },
  {
   "cell_type": "markdown",
   "id": "9abf3025",
   "metadata": {},
   "source": [
    "We assign the trait information (height) same as in previous notebooks:"
   ]
  },
  {
   "cell_type": "code",
   "execution_count": 44,
   "id": "bab4e87b",
   "metadata": {
    "vscode": {
     "languageId": "r"
    }
   },
   "outputs": [],
   "source": [
    "# assign observed height for the 5 individuals\n",
    "Y_raw <- c(180, 160, 158, 155, 193)\n",
    "Y <- scale(Y_raw)"
   ]
  },
  {
   "cell_type": "markdown",
   "id": "ec282674",
   "metadata": {},
   "source": [
    "Then we run the OLS regression and see how the results different after adjusting for ancestry."
   ]
  },
  {
   "cell_type": "code",
   "execution_count": 42,
   "id": "347380b6",
   "metadata": {
    "vscode": {
     "languageId": "r"
    }
   },
   "outputs": [],
   "source": [
    "p_values <- numeric(M)  # Store p-values\n",
    "betas <- numeric(M)     # Store estimated effect sizes\n",
    "p_values_adjusted <- numeric(M)  # Store p-values adjusted for ancestry\n",
    "betas_adjusted <- numeric(M)     # Store estimated effect sizes adjusted for ancestry\n",
    "# Perform OLS regression for each SNP\n",
    "for (j in 1:M) {\n",
    "  SNP <- X[, j]  # Extract genotype for SNP j\n",
    "  model <- lm(Y ~ SNP)  # OLS regression: Trait ~ SNP\n",
    "  adjusted_model <- lm(Y ~ SNP + ancestry_factor)  # Adjust for ancestry\n",
    "  summary_model <- summary(model)\n",
    "  summary_adjusted_model <- summary(adjusted_model)\n",
    "  # Store p-value and effect size (coefficient)\n",
    "  p_values[j] <- summary_model$coefficients[2, 4]  # p-value for SNP effect\n",
    "  betas[j] <- summary_model$coefficients[2, 1]     # Estimated beta coefficient\n",
    "  p_values_adjusted[j] <- summary_adjusted_model$coefficients[2, 4]  # p-value for SNP effect adjusted for ancestry\n",
    "  betas_adjusted[j] <- summary_adjusted_model$coefficients[2, 1]     # Estimated beta coefficient adjusted for ancestry\n",
    "}\n"
   ]
  },
  {
   "cell_type": "code",
   "execution_count": 43,
   "id": "826117e8",
   "metadata": {
    "vscode": {
     "languageId": "r"
    }
   },
   "outputs": [
    {
     "data": {
      "text/html": [
       "<table class=\"dataframe\">\n",
       "<caption>A data.frame: 3 x 5</caption>\n",
       "<thead>\n",
       "\t<tr><th scope=col>Variant</th><th scope=col>Beta</th><th scope=col>P_Value</th><th scope=col>Beta_Adjusted</th><th scope=col>P_Value_Adjusted</th></tr>\n",
       "\t<tr><th scope=col>&lt;chr&gt;</th><th scope=col>&lt;dbl&gt;</th><th scope=col>&lt;dbl&gt;</th><th scope=col>&lt;dbl&gt;</th><th scope=col>&lt;dbl&gt;</th></tr>\n",
       "</thead>\n",
       "<tbody>\n",
       "\t<tr><td>Variant 1</td><td>-0.5000913</td><td>0.390901513</td><td>-0.2838356</td><td>0.66071613</td></tr>\n",
       "\t<tr><td>Variant 2</td><td> 0.8525024</td><td>0.066475513</td><td> 1.2137322</td><td>0.22449400</td></tr>\n",
       "\t<tr><td>Variant 3</td><td> 0.9866667</td><td>0.001844466</td><td> 0.9461187</td><td>0.02057182</td></tr>\n",
       "</tbody>\n",
       "</table>\n"
      ],
      "text/latex": [
       "A data.frame: 3 x 5\n",
       "\\begin{tabular}{lllll}\n",
       " Variant & Beta & P\\_Value & Beta\\_Adjusted & P\\_Value\\_Adjusted\\\\\n",
       " <chr> & <dbl> & <dbl> & <dbl> & <dbl>\\\\\n",
       "\\hline\n",
       "\t Variant 1 & -0.5000913 & 0.390901513 & -0.2838356 & 0.66071613\\\\\n",
       "\t Variant 2 &  0.8525024 & 0.066475513 &  1.2137322 & 0.22449400\\\\\n",
       "\t Variant 3 &  0.9866667 & 0.001844466 &  0.9461187 & 0.02057182\\\\\n",
       "\\end{tabular}\n"
      ],
      "text/markdown": [
       "\n",
       "A data.frame: 3 x 5\n",
       "\n",
       "| Variant &lt;chr&gt; | Beta &lt;dbl&gt; | P_Value &lt;dbl&gt; | Beta_Adjusted &lt;dbl&gt; | P_Value_Adjusted &lt;dbl&gt; |\n",
       "|---|---|---|---|---|\n",
       "| Variant 1 | -0.5000913 | 0.390901513 | -0.2838356 | 0.66071613 |\n",
       "| Variant 2 |  0.8525024 | 0.066475513 |  1.2137322 | 0.22449400 |\n",
       "| Variant 3 |  0.9866667 | 0.001844466 |  0.9461187 | 0.02057182 |\n",
       "\n"
      ],
      "text/plain": [
       "  Variant   Beta       P_Value     Beta_Adjusted P_Value_Adjusted\n",
       "1 Variant 1 -0.5000913 0.390901513 -0.2838356    0.66071613      \n",
       "2 Variant 2  0.8525024 0.066475513  1.2137322    0.22449400      \n",
       "3 Variant 3  0.9866667 0.001844466  0.9461187    0.02057182      "
      ]
     },
     "metadata": {},
     "output_type": "display_data"
    }
   ],
   "source": [
    "# Create results table\n",
    "results <- data.frame(Variant = colnames(X), Beta = betas, P_Value = p_values, \n",
    "                      Beta_Adjusted = betas_adjusted, P_Value_Adjusted = p_values_adjusted)\n",
    "results"
   ]
  },
  {
   "cell_type": "markdown",
   "id": "3dfee9eb",
   "metadata": {},
   "source": [
    "The results clearly demonstrate the impact of confounder control in genetic association studies. In the naive analysis without ancestry adjustment, Variant 3 appears highly significant ($p<0.01$), while Variants 1 and 2 show non-significant associations. However, after controlling for ancestry, all variants lose statistical significance - Variant 3's p-value increases dramatically from 0.0018 to 0.0206 (barely significant), while Variants 1 and 2 remain non-significant with even higher p-values. This illustrates how population structure can create spurious associations that disappear once proper confounder control is applied, highlighting the critical importance of ancestry adjustment in preventing false positive discoveries in genetic studies."
   ]
  },
  {
   "cell_type": "code",
   "execution_count": null,
   "id": "b974b8c6",
   "metadata": {
    "vscode": {
     "languageId": "r"
    }
   },
   "outputs": [],
   "source": []
  },
  {
   "cell_type": "code",
   "execution_count": null,
   "id": "a51f41a4",
   "metadata": {
    "vscode": {
     "languageId": "r"
    }
   },
   "outputs": [],
   "source": []
  }
 ],
 "metadata": {
  "kernelspec": {
   "display_name": "R",
   "language": "R",
   "name": "ir"
  },
  "language_info": {
   "codemirror_mode": "r",
   "file_extension": ".r",
   "mimetype": "text/x-r-source",
   "name": "R",
   "pygments_lexer": "r",
   "version": "4.3.3"
  },
  "toc-autonumbering": true
 },
 "nbformat": 4,
 "nbformat_minor": 5
}
