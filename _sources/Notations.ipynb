{
 "cells": [
  {
   "cell_type": "markdown",
   "id": "d7253109",
   "metadata": {},
   "source": [
    "# Notations\n",
    "\n",
    "Below is a table of notations that we use in this course."
   ]
  },
  {
   "cell_type": "markdown",
   "id": "af780c4f",
   "metadata": {},
   "source": []
  }
 ],
 "metadata": {
  "kernelspec": {
   "display_name": "R",
   "language": "R",
   "name": "ir"
  },
  "language_info": {
   "codemirror_mode": "r",
   "file_extension": ".r",
   "mimetype": "text/x-r-source",
   "name": "R",
   "pygments_lexer": "r",
   "version": "4.4.3"
  }
 },
 "nbformat": 4,
 "nbformat_minor": 5
}
