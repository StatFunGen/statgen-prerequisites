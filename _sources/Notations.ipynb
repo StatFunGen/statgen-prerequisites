{
 "cells": [
  {
   "cell_type": "markdown",
   "id": "0b40aca0",
   "metadata": {},
   "source": [
    "# Notation"
   ]
  },
  {
   "cell_type": "markdown",
   "id": "3a800792-3ca6-4d40-ac6d-ef8545c78a93",
   "metadata": {},
   "source": [
    "## **Notation Table**  \n",
    "\n",
    "| Symbol | Meaning | Example Meaning |\n",
    "|------------------|---------|----------------|\n",
    "| $\\mathbf{X}_{raw}$ | Raw genotype matrix (without centering or standardization) | |\n",
    "| $\\mathbf{X}$ | Genotype matrix after normalization | |\n",
    "| $\\mathbf{X}_{i,\\cdot}$ | Genotype for individual $i$ | Genotype (e.g., number of risk alleles) of individual $i$, when considering one variant |\n",
    "| $\\mathbf{X}_{i,j}$ | Genotype variant $j$ for individual $i$ | Genotype variant $j$ of individual $i$, when considering multiple variants |\n",
    "| $\\mathbf{X}_{j}$ or $\\mathbf{X}_{\\cdot,j}$ | Genotype variant $j$ for all individuals | Genotype variant $j$ for all individuals |\n",
    "| $i$ | Index for individual | $i=1,2,...,N$ |\n",
    "| $j$ | Index for genetic variant | $j=1,2,...,M$ |\n",
    "| $k$ | Index for study | $k=1,2,...,K$ |\n",
    "| $N$ | Number of samples | Number of individuals in the dataset |\n",
    "| $M$ | Number of variants | Number of variants in the genotype data |\n",
    "| $A$ | Major allele | Major allele |\n",
    "| $a$ | Minor allele | Minor allele |\n",
    "| $f_j$ | Frequency for genetic variant $j$ | 0.1 |\n",
    "| $l_j$ | LD score of genetic variant $j$ | $l_j$ |\n",
    "| $\\Phi_{ij}$ | The kinship coefficient between two individuals, $i$ and $j$ |  |\n",
    "| $\\mathbf{G}$ | Genetic relatedness matrix (GRM) | $N$ by $N$ matrix |\n",
    "| $\\mathbf{Y}$ | Random variable (trait) | Trait (e.g., height $Y_1$ and weight $Y_2$ when bi-variate) |\n",
    "| $y_i$ | Trait value for individual $i$ | Height of individual $i$ |\n",
    "| $\\beta_0$ | Baseline level in the regression model, intercept | 170cm for height |\n",
    "| $\\beta$ | Marginal effect size of a variant in GWAS study | |\n",
    "| $\\sigma^2$ | Variance of a random variable | |\n",
    "| $\\mathbf{Z}$ | Covariate matrix after normalization | |\n",
    "| $\\mathbf{u}$ | A vector of the **fixed** effects of covariates | |\n",
    "| $Q$ | The Cochran's Q statistic | |\n",
    "| $I^2$ | $I^2$ statistic | |\n",
    "| $\\text{M}$| Model | $ M_1 $ and $ M_2 $| |\n",
    "| $ M_1 $          | Model 1 (no genetic effect) | Model assuming no association between genotype and trait |\n",
    "| $ M_2 $          | Model 2 (genetic effect) | Model assuming an association between genotype and trait |\n",
    "| $ \\text{D} $     | Observed data $d_i$ (observation i)|$\\{(x_1,y_1), (x_2, y_2), \\dots, (x_n, y_n)\\}$, Collected genotype-trait pairs |\n",
    "| $ \\lambda $     | Likelihood ratio test||\n",
    "| $ \\mu $         | Mean of the normal distribution (unknown) | Mean of the normal distribution in the population  (e.g., $\\mu_1$ for height and $\\mu_2$ for weight when bi-variate)  |\n",
    "| $ \\theta $         | Mean of the normal distribution (unknown) | Causal effect of genetic variant on the trait|\n",
    "| $ \\theta_0 $     | Prior mean  | Prior mean of $\\theta$ before observing data $D$ |\n",
    "| $ \\theta_1 $     | Posterior mean  |  Posterior mean of $\\theta$ after observing data $D$ |\n",
    "| $ \\sigma_0^2 $   | Variance of the normal distribution (known) | Prior uncertainty in $\\mu$ |\n",
    "| $ \\sigma_1^2 $   | Posterior variance | Updated uncertainty in $\\mu$ after observing data |\n",
    "| $ \\tau_0 $       | Prior precision ($\\frac{1}{\\sigma_0^2}$)  | Inverse of prior variance |\n",
    "| $ \\tau_1 $       | Posterior precision ($\\frac{1}{\\sigma_1^2}$) | Inverse of posterior variance |\n",
    "| $ \\Sigma $ | Variance-covariance matrix|variance-covariance matrix for height $Y_1$and weight $Y_2$|\n",
    "| $ \\Omega $ | Precision matrix|Precision matrix for height $Y_1$and weight $Y_2$|\n",
    "| $ n $            | Number of samples | Number of individuals in the dataset |\n",
    "| $ L(M) $         | Likelihood for model $ M $ | Probability of observing the data under model $M$ |\n",
    "| $ l(M) $         | Log-likelihood for model $ M $ | Log-transformed likelihood for numerical stability |\n"
   ]
  },
  {
   "cell_type": "markdown",
   "id": "269b1c90",
   "metadata": {},
   "source": [
    "# Concepts in statistical genetics and related topics"
   ]
  },
  {
   "cell_type": "markdown",
   "id": "b01644e9-3501-4093-944c-aa09ff2f9602",
   "metadata": {
    "vscode": {
     "languageId": "r"
    }
   },
   "source": [
    "| Concept                        | Description                                                                                     | Importance                                                                                     | Rui's notes                                                |\n",
    "|-------------------------------|-------------------------------------------------------------------------------------------------|------------------------------------------------------------------------------------------------|------------------------------------------------------------|\n",
    "| Kinship                        | Statistical measure of relatedness between individuals based on shared genetic material         | Fundamental for understanding genetic relationships and forms the basis for many statistical methods in genetics |  It's essentially just random sampling in meiosis across many generations ---  X~Bernoulli(1/2) for single locus, Binomial(n,1/2) for multiple loci  per generation,   with power $n$ for $n$ generations . So the statistical background is random variable and binommial distribution with kinship and IBD being examples                  |\n",
    "| Identity by Descent (IBD)     | Probability that alleles in two individuals are identical because they were inherited from a common ancestor | Essential for relatedness inference and forms the basis for many genetic analyses               |       Follow from above, expected number of IBD loci can be computed from that Binomial distribution                                                     |\n",
    "| Haplotypes                     | Combination of alleles at different loci that are inherited together                            | Critical for understanding inheritance patterns and LD structure                               |  Nothing mathy here                                                        |\n",
    "| Effective Population Size (Ne)| The size of an idealized population that would experience the same amount of genetic drift as the observed population | Crucial for understanding how genetic variation changes over time in populations                |  popgen.  I think it is just a harmonic mean of population sizes over time? if you wantto talk about this in statistical setting I think the related concept is just harmonic mean and Ne is an example for that.                                                          |\n",
    "| Allele/Genotype Coding        | Numerical representation of genetic variants (additive, dominant, recessive models)             | Basic requirement for any genetic analysis involving regression models                         | Numerical modeling of genetic data                                 |\n",
    "| Assortative Mating            | Non-random mating based on phenotypic similarity                                                | Affects genetic structure and can bias heritability estimates                                  |  It's just conditional expectation --- the mates phenotype is dependent on each other: cute boys for cute girls where cuteness is phenotype                                               |\n",
    "| Ascertainment Bias            | Systematic error due to non-random sampling                                                     | Critical for understanding limitations in genetic studies                                      | It's more like study design or epidemology, not statitical modeling. As a statistical concept, alternatively you may want to discuss Winner's Curse ...                                                     |\n",
    "| Genetic Distance              | Measures of genetic dissimilarity between individuals or populations                            | Basic concept for population genetic analyses                                                  | covered in GRM                                             |\n",
    "| Threshold Models              | Statistical models linking continuous genetic liability to categorical phenotypes               | Essential for analyzing binary and categorical traits                                          | I think it should be in LM/GLM. All notebooks must be statistical concepts or models      |\n",
    "| Cross-Validation              | Method to assess how genetic models generalize to independent data                              | Fundamental for evaluating predictive models                                                   | too pure stat? Pure stat is not a problem. The problem is that it's not the fundamental. It is rather derivative and thus uninteresting.                                            |\n",
    "| Genomic Control / Inflation Factor | Measure of inflation or deflation in test statistics, often visualized with QQ plots, indicating population stratification or other confounding effects | Critical for detecting and correcting systematic biases in association studies, ensuring valid p-value interpretation | Intuition is really simple: p-values under the null are uniform                                          |\n",
    "| Genetic Heterogeneity         | Different genetic variants producing similar phenotypes                                         | Essential for understanding why multiple genes can cause similar diseases or traits            | This is biology, almost nothing statistical                                                      |\n",
    "| Genetic Load                  | Total quantity of deleterious genetic material in a population or individual                    | Fundamental for understanding the accumulation of harmful mutations                            | Biology or popgen, nothing statistical                                                          |\n",
    "| Genotype-Environment Correlation | Association between genotypes and the environments individuals experience                     | Critical for distinguishing genetic effects from environmental factors                         | No really a valid or popular problem --- GxE interaction maybe. But I don't feel this is mainstream statgen anyways.                                                          |\n",
    "| Genotype Imputation           | Statistical inference of unmeasured genotypes based on known haplotype patterns                 | Fundamental for increasing statistical power in genetic studies                                | Hidden Markov model                                                          |\n",
    "| Genetic Anticipation          | Phenomenon where genetic disorders manifest at earlier ages in successive generations           | Important concept for understanding intergenerational disease patterns                         | popgen?                                                    |\n",
    "| Genomic Inflation Factor      | Measure of systematic bias in test statistics from a genetic association study                  | Essential quality control metric in genetic association studies                                |                                                            |\n",
    "| Regression to the Mean        | The tendency for extreme phenotypic values to produce offspring with less extreme values        | Fundamental concept for prediction and breeding applications                                   | ?                  LM                                        |\n",
    "| Parentage Analysis            | Statistical methods to assign parents based on genetic data                                     | Fundamental for pedigree verification and relationship testing                                 |                      LRT with recombination coef being a parameter                                     |\n",
    "| Genetic Background Effects    | Influence of overall genetic makeup on the phenotypic expression of specific variants           | Important for understanding variant effect heterogeneity across populations                    | ?                       LM when p>n                                   |\n",
    "| Synthetic Association         | Phenomenon where common variants tag effects of multiple rare causal variants                   | Critical concept for interpreting GWAS findings                                                | ?                                                          |\n",
    "| Nested Association Mapping    | Design combining advantages of linkage analysis and association mapping                         | Powerful approach for dissecting complex trait genetics, especially in plants                  | ?   No longer that popular but essentially, just yet another LRT                                                          |\n"
   ]
  },
  {
   "cell_type": "markdown",
   "id": "b1a133df",
   "metadata": {},
   "source": []
  }
 ],
 "metadata": {
  "kernelspec": {
   "display_name": "R",
   "language": "R",
   "name": "ir"
  },
  "language_info": {
   "codemirror_mode": "r",
   "file_extension": ".r",
   "mimetype": "text/x-r-source",
   "name": "R",
   "pygments_lexer": "r",
   "version": "4.4.3"
  }
 },
 "nbformat": 4,
 "nbformat_minor": 5
}
