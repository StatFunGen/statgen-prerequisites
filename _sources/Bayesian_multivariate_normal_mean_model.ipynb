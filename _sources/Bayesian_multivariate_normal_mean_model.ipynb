{
 "cells": [
  {
   "cell_type": "markdown",
   "id": "fb31cb79",
   "metadata": {},
   "source": [
    "# Bayesian Multivariate Normal Mean Model\n",
    "\n",
    "The Bayesian multivariate normal mean model extends the univariate case by accounting for relationships between multiple parameters, allowing information from one variable to influence our beliefs about others through their correlation structure, which results in more precise posterior estimates than if we had treated each parameter independently."
   ]
  },
  {
   "cell_type": "markdown",
   "id": "9bad7470",
   "metadata": {},
   "source": [
    "# Graphical Summary\n",
    "\n",
    "![fig](./graphical_summary/Slide26.png)"
   ]
  },
  {
   "cell_type": "markdown",
   "id": "67e50e27",
   "metadata": {},
   "source": [
    "<!-- ![fig](./cartoons/Bayesian_multivariate_normal_mean_model.svg) -->"
   ]
  },
  {
   "cell_type": "markdown",
   "id": "00058a94",
   "metadata": {},
   "source": [
    "# Key Formula\n",
    "\n",
    "\n",
    "The posterior distribution of the bivariate normal model is still multivariate normal, where the posterior precision matrix is the sum of the prior precision and the likelihood precision, and the posterior mean is a precision-weighted average of the prior mean and the observed data.\n",
    "\n",
    "$$\n",
    "\\begin{pmatrix}\n",
    "\\beta_a \\\\\n",
    "\\beta_b\n",
    "\\end{pmatrix}\n",
    " \\sim \\mathcal{N}\n",
    "\\left( \n",
    "\\begin{pmatrix}\n",
    "\\beta_{a,0}  \\\\\n",
    "\\beta_{b,0}\n",
    "\\end{pmatrix},\n",
    "\\begin{pmatrix}\n",
    "\\sigma_{a}^2 & \\rho \\sigma_{a} \\sigma_{b} \\\\\n",
    "\\rho \\sigma_{a} \\sigma_{b} & \\sigma_{b}^2\n",
    "\\end{pmatrix}\n",
    "\\right)\n",
    "$$"
   ]
  },
  {
   "cell_type": "markdown",
   "id": "aea6b418",
   "metadata": {},
   "source": [
    "# Technical Details\n",
    "\n",
    "## Model Assumptions\n",
    "\n",
    "We assume the bivariate response vector follows a multivariate normal distribution:\n",
    "\n",
    "$$\n",
    "\\mathbf{Y}_i = \n",
    "\\begin{pmatrix}\n",
    "Y_{i,a} \\\\\n",
    "Y_{i,b}\n",
    "\\end{pmatrix}\n",
    "\\sim \\mathcal{N}\n",
    "\\left( \n",
    "\\begin{pmatrix}\n",
    "\\beta_a \\\\\n",
    "\\beta_b\n",
    "\\end{pmatrix},\n",
    "\\boldsymbol{\\Sigma}\n",
    "\\right)\n",
    "$$\n",
    "\n",
    "where:\n",
    "\n",
    "- $\\beta_a$ and $\\beta_b$ are the unknown mean parameters we want to estimate\n",
    "- $\\boldsymbol{\\Sigma}$ is the known covariance matrix:\n",
    "\n",
    "$$\n",
    "\\boldsymbol{\\Sigma} = \n",
    "\\begin{pmatrix}\n",
    "\\sigma_a^2 & \\rho \\sigma_a \\sigma_b \\\\\n",
    "\\rho \\sigma_a \\sigma_b & \\sigma_b^2\n",
    "\\end{pmatrix}\n",
    "$$\n",
    "\n",
    "where $\\sigma_a^2$ and $\\sigma_b^2$ are the known variances, and $\\rho$ is the known correlation between the two variables.\n",
    "\n",
    "The Bayesian Normal Mean Model aims to infer the unknown parameters $\\beta_a$ and $\\beta_b$.\n",
    "\n",
    "## Prior Distribution\n",
    "\n",
    "We place a bivariate normal prior on the parameter vector:\n",
    "\n",
    "$$\n",
    "\\boldsymbol{\\beta} =\n",
    "\\begin{pmatrix}\n",
    "\\beta_a \\\\\n",
    "\\beta_b\n",
    "\\end{pmatrix}\n",
    "\\sim \\mathcal{N}\n",
    "\\left( \n",
    "\\boldsymbol{\\beta}_0,\n",
    "\\boldsymbol{\\Sigma}_0\n",
    "\\right)\n",
    "$$\n",
    "\n",
    "where the prior mean is:\n",
    "$$\n",
    "\\boldsymbol{\\beta}_0 = \n",
    "\\begin{pmatrix}\n",
    "\\beta_{a,0} \\\\\n",
    "\\beta_{b,0}\n",
    "\\end{pmatrix}\n",
    "$$\n",
    "\n",
    "and the prior covariance matrix is:\n",
    "$$\n",
    "\\boldsymbol{\\Sigma}_0 = \n",
    "\\begin{pmatrix}\n",
    "\\sigma_{a,0}^2 & \\rho_0 \\sigma_{a,0} \\sigma_{b,0} \\\\\n",
    "\\rho_0 \\sigma_{a,0} \\sigma_{b,0} & \\sigma_{b,0}^2\n",
    "\\end{pmatrix}\n",
    "$$\n",
    "\n",
    "where $\\beta_{a,0}$ and $\\beta_{b,0}$ are the prior means, $\\sigma_{a,0}^2$ and $\\sigma_{b,0}^2$ are the prior variances, and $\\rho_0$ is the prior correlation.\n",
    "\n",
    "The **prior precision matrix** is:\n",
    "$$\n",
    "\\boldsymbol{\\Omega}_0 = \\boldsymbol{\\Sigma}_0^{-1}\n",
    "$$\n",
    "\n",
    "## Likelihood\n",
    "\n",
    "For $n$ independent observations $\\mathbf{Y}_1, \\ldots, \\mathbf{Y}_n$, the likelihood is:\n",
    "\n",
    "$$\n",
    "\\mathbf{Y}_i \\mid \\beta_a, \\beta_b \\sim \\mathcal{N}\n",
    "\\left( \n",
    "\\begin{pmatrix}\n",
    "\\beta_a \\\\\n",
    "\\beta_b\n",
    "\\end{pmatrix},\n",
    "\\boldsymbol{\\Sigma}\n",
    "\\right)\n",
    "$$\n",
    "\n",
    "The joint likelihood for all observations is:\n",
    "\n",
    "$$\n",
    "p(\\mathbf{Y}_1, \\ldots, \\mathbf{Y}_n \\mid \\beta_a, \\beta_b) = \\prod_{i=1}^n p(\\mathbf{Y}_i \\mid \\beta_a, \\beta_b)\n",
    "$$\n",
    "\n",
    "$$\n",
    "\\propto \\exp\\left( -\\frac{1}{2} \\sum_{i=1}^n (\\mathbf{Y}_i - \\boldsymbol{\\beta})^T \\boldsymbol{\\Sigma}^{-1} (\\mathbf{Y}_i - \\boldsymbol{\\beta}) \\right)\n",
    "$$\n",
    "\n",
    "This can be rewritten using the sample mean $\\overline{\\mathbf{Y}} = \\frac{1}{n}\\sum_{i=1}^n \\mathbf{Y}_i$:\n",
    "\n",
    "$$\n",
    "p(\\mathbf{Y}_1, \\ldots, \\mathbf{Y}_n \\mid \\beta_a, \\beta_b) \\propto \\exp\\left( -\\frac{n}{2} (\\overline{\\mathbf{Y}} - \\boldsymbol{\\beta})^T \\boldsymbol{\\Sigma}^{-1} (\\overline{\\mathbf{Y}} - \\boldsymbol{\\beta}) \\right)\n",
    "$$\n",
    "\n",
    "The **likelihood precision matrix** is:\n",
    "$$\n",
    "\\boldsymbol{\\Omega} = n \\boldsymbol{\\Sigma}^{-1}\n",
    "$$\n",
    "\n",
    "## Posterior Distribution\n",
    "\n",
    "Using Bayes' theorem and the conjugacy of the normal-normal model, the posterior distribution is:\n",
    "\n",
    "$$\n",
    "\\boldsymbol{\\beta} \\mid \\mathbf{Y}_1, \\ldots, \\mathbf{Y}_n \\sim \\mathcal{N}(\\boldsymbol{\\beta}_1, \\boldsymbol{\\Sigma}_1)\n",
    "$$\n",
    "\n",
    "where:\n",
    "\n",
    "**Posterior precision matrix:**\n",
    "$$\n",
    "\\boldsymbol{\\Omega}_1 = \\boldsymbol{\\Omega}_0 + n\\boldsymbol{\\Sigma}^{-1}\n",
    "$$\n",
    "\n",
    "**Posterior covariance matrix:**\n",
    "$$\n",
    "\\boldsymbol{\\Sigma}_1 = \\boldsymbol{\\Omega}_1^{-1}\n",
    "$$\n",
    "\n",
    "**Posterior mean:**\n",
    "$$\n",
    "\\boldsymbol{\\beta}_1 = \\boldsymbol{\\Sigma}_1 \\left( \\boldsymbol{\\Omega}_0 \\boldsymbol{\\beta}_0 + n\\boldsymbol{\\Sigma}^{-1} \\overline{\\mathbf{Y}} \\right)\n",
    "$$\n",
    "\n",
    "This can be written component-wise as:\n",
    "$$\n",
    "\\begin{pmatrix}\n",
    "\\beta_{a,1} \\\\\n",
    "\\beta_{b,1}\n",
    "\\end{pmatrix}\n",
    "= \\boldsymbol{\\Sigma}_1 \\left( \\boldsymbol{\\Omega}_0 \n",
    "\\begin{pmatrix}\n",
    "\\beta_{a,0} \\\\\n",
    "\\beta_{b,0}\n",
    "\\end{pmatrix}\n",
    "+ n\\boldsymbol{\\Sigma}^{-1} \n",
    "\\begin{pmatrix}\n",
    "\\overline{Y}_a \\\\\n",
    "\\overline{Y}_b\n",
    "\\end{pmatrix}\n",
    "\\right)\n",
    "$$\n",
    "\n",
    "## Key Properties\n",
    "\n",
    "1. **Conjugacy**: The posterior has the same functional form as the prior (both multivariate normal)\n",
    "\n",
    "2. **Precision weighting**: The posterior mean is a precision-weighted average of the prior mean and sample mean\n",
    "\n",
    "3. **Information accumulation**: The posterior precision is the sum of prior precision and likelihood precision\n",
    "\n",
    "4. **Correlation preservation**: The bivariate structure maintains correlations between parameters through the covariance matrices"
   ]
  },
  {
   "cell_type": "markdown",
   "id": "bf9a04d9-526f-44b2-9179-444898f951c0",
   "metadata": {},
   "source": [
    "# Example\n",
    "\n",
    "This document demonstrates the Bayesian bivariate normal mean model for genetic effects on correlated traits (height $Y_a$ and weight $Y_b$). Unlike the univariate case where we estimate a single mean parameter, here we simultaneously estimate the means of two related variables while accounting for their correlation structure.\n",
    "\n",
    "We model genetic effects as:\n",
    "- $\\beta_a$: genetic effect on height (cm per allele)  \n",
    "- $\\beta_b$: genetic effect on weight (kg per allele)\n",
    "- **Prior**: \n",
    "  $$\n",
    "  (\\beta_a, \\beta_b) \\sim \\mathcal{N}(\\boldsymbol{\\beta}_0, \\boldsymbol{\\Sigma}_0)\n",
    "  $$\n",
    "- **Likelihood**: \n",
    "  $$\n",
    "  \\mathbf{Y}_i | \\boldsymbol{\\beta} \\sim \\mathcal{N}(X_i \\boldsymbol{\\beta}, \\boldsymbol{\\Sigma})\n",
    "  $$\n",
    "- **Posterior**: \n",
    "  $$\n",
    "  (\\beta_a, \\beta_b) | \\text{data} \\sim \\mathcal{N}(\\boldsymbol{\\beta}_1, \\boldsymbol{\\Sigma}_1)\n",
    "  $$"
   ]
  },
  {
   "cell_type": "code",
   "execution_count": 22,
   "id": "b8ceb008",
   "metadata": {
    "vscode": {
     "languageId": "r"
    }
   },
   "outputs": [],
   "source": [
    "rm(list=ls())\n",
    "# Load required libraries\n",
    "library(MASS)  # for multivariate normal sampling\n",
    "library(ggplot2)\n",
    "library(dplyr)\n",
    "library(gridExtra)\n",
    "set.seed(82)"
   ]
  },
  {
   "cell_type": "markdown",
   "id": "db78e0b4",
   "metadata": {},
   "source": [
    "## Data Generation\n",
    "\n",
    "We first generate the data using simulations. \n",
    "\n",
    "Let's first define the true model parameters.\n"
   ]
  },
  {
   "cell_type": "code",
   "execution_count": 23,
   "id": "b9480013",
   "metadata": {
    "vscode": {
     "languageId": "r"
    }
   },
   "outputs": [],
   "source": [
    "# True parameters for genetic effects (beta_a, beta_b)\n",
    "sigma_a <- 5     # SD of genetic effect on height (cm per allele)\n",
    "sigma_b <- 3     # SD of genetic effect on weight (kg per allele)\n",
    "rho <- 0.7      # correlation between height and weight genetic effects\n",
    "\n",
    "# True prior mean (center at zero)\n",
    "beta_true_prior <- c(0, 0)\n",
    "\n",
    "# True covariance matrix for genetic effects\n",
    "Sigma_true <- matrix(c(\n",
    "  sigma_a^2, rho * sigma_a * sigma_b,\n",
    "  rho * sigma_a * sigma_b, sigma_b^2\n",
    "), nrow = 2, byrow = TRUE)\n",
    "\n",
    "n_individuals <- 5    # number of individuals\n",
    "n_variants <- 1          # number of genetic variants (SINGLE VARIANT EXAMPLE)\n",
    "\n",
    "# Baseline trait values (population means)\n",
    "height_baseline <- 170   # cm\n",
    "weight_baseline <- 70    # kg\n",
    "\n",
    "# Independent error terms (epsilon)\n",
    "height_epsilon_sd <- 8   # cm\n",
    "weight_epsilon_sd <- 10  # kg"
   ]
  },
  {
   "cell_type": "markdown",
   "id": "d6d7434d",
   "metadata": {},
   "source": [
    "Then we draw the **true genetic effects** ($\\beta_a, \\beta_b$) from the specified distribution.\n"
   ]
  },
  {
   "cell_type": "code",
   "execution_count": 24,
   "id": "3861888b",
   "metadata": {
    "vscode": {
     "languageId": "r"
    }
   },
   "outputs": [
    {
     "name": "stdout",
     "output_type": "stream",
     "text": [
      "[1] \"Genetic effects for the single variant:\"\n",
      "     beta_a_height beta_b_weight\n",
      "[1,]      6.268107      2.444654\n"
     ]
    }
   ],
   "source": [
    "genetic_effects <- mvrnorm(n = n_variants, \n",
    "                          mu = beta_true_prior, \n",
    "                          Sigma = Sigma_true)\n",
    "\n",
    "# Handle single variant case - ensure it's a matrix\n",
    "if (n_variants == 1) {\n",
    "  genetic_effects <- matrix(genetic_effects, nrow = 1)\n",
    "}\n",
    "colnames(genetic_effects) <- c(\"beta_a_height\", \"beta_b_weight\")\n",
    "\n",
    "print(\"Genetic effects for the single variant:\")\n",
    "print(genetic_effects)"
   ]
  },
  {
   "cell_type": "markdown",
   "id": "17f2c8f1",
   "metadata": {},
   "source": [
    "And we also create **genotype data** for each individual (0, 1, or 2 copies of effect allele).\n"
   ]
  },
  {
   "cell_type": "code",
   "execution_count": 25,
   "id": "9292e765",
   "metadata": {
    "vscode": {
     "languageId": "r"
    }
   },
   "outputs": [],
   "source": [
    "# Generate genotypes assuming MAF = 0.3 (Hardy-Weinberg equilibrium)\n",
    "maf <- 0.3\n",
    "p_genotypes <- c((1-maf)^2, 2*maf*(1-maf), maf^2)  # P(0), P(1), P(2)\n",
    "\n",
    "genotypes <- matrix(\n",
    "  sample(0:2, size = n_individuals * n_variants, \n",
    "         replace = TRUE, prob = p_genotypes),\n",
    "  nrow = n_individuals, ncol = n_variants\n",
    ")"
   ]
  },
  {
   "cell_type": "markdown",
   "id": "019a799c",
   "metadata": {},
   "source": [
    "We compute the genetic effect for each individual by multiplying the genetic effect and the genotype data for each individual."
   ]
  },
  {
   "cell_type": "code",
   "execution_count": 26,
   "id": "c545b0c3",
   "metadata": {
    "vscode": {
     "languageId": "r"
    }
   },
   "outputs": [
    {
     "name": "stdout",
     "output_type": "stream",
     "text": [
      "[1] \"Genetic contribution statistics:\"\n",
      "[1] \"Height genetic effects:\"\n"
     ]
    },
    {
     "name": "stdout",
     "output_type": "stream",
     "text": [
      "   Min. 1st Qu.  Median    Mean 3rd Qu.    Max. \n",
      "  0.000   0.000   0.000   2.507   6.268   6.268 \n",
      "[1] \"Weight genetic effects:\"\n",
      "   Min. 1st Qu.  Median    Mean 3rd Qu.    Max. \n",
      " 0.0000  0.0000  0.0000  0.9779  2.4447  2.4447 \n"
     ]
    }
   ],
   "source": [
    "# For single variant, this is just genotype * effect\n",
    "genetic_height <- genotypes[, 1] * genetic_effects[1, \"beta_a_height\"]\n",
    "genetic_weight <- genotypes[, 1] * genetic_effects[1, \"beta_b_weight\"]\n",
    "\n",
    "print(\"Genetic contribution statistics:\")\n",
    "print(\"Height genetic effects:\")\n",
    "print(summary(genetic_height))\n",
    "print(\"Weight genetic effects:\")\n",
    "print(summary(genetic_weight))\n"
   ]
  },
  {
   "cell_type": "markdown",
   "id": "5c2a9159",
   "metadata": {},
   "source": [
    "We then add the independent epsilon terms to each trait."
   ]
  },
  {
   "cell_type": "code",
   "execution_count": 27,
   "id": "e3a246da",
   "metadata": {
    "vscode": {
     "languageId": "r"
    }
   },
   "outputs": [
    {
     "name": "stdout",
     "output_type": "stream",
     "text": [
      "[1] \"Error term statistics:\"\n",
      "[1] \"Height epsilon SD: 7.78\"\n",
      "[1] \"Weight epsilon SD: 10.44\"\n",
      "[1] \"Epsilon correlation (should be ~0): 0.275\"\n"
     ]
    }
   ],
   "source": [
    "# Add independent environmental effects (epsilon terms)\n",
    "height_epsilon <- rnorm(n_individuals, mean = 0, sd = height_epsilon_sd)\n",
    "weight_epsilon <- rnorm(n_individuals, mean = 0, sd = weight_epsilon_sd)\n",
    "\n",
    "print(\"Error term statistics:\")\n",
    "print(paste(\"Height epsilon SD:\", round(sd(height_epsilon), 2)))\n",
    "print(paste(\"Weight epsilon SD:\", round(sd(weight_epsilon), 2)))\n",
    "epsilon_corr <- cor(height_epsilon, weight_epsilon)\n",
    "print(paste(\"Epsilon correlation (should be ~0):\", round(epsilon_corr, 3)))\n"
   ]
  },
  {
   "cell_type": "markdown",
   "id": "8ee2f84c",
   "metadata": {},
   "source": [
    "The final trait values are:"
   ]
  },
  {
   "cell_type": "code",
   "execution_count": 28,
   "id": "a3c473cb",
   "metadata": {
    "vscode": {
     "languageId": "r"
    }
   },
   "outputs": [],
   "source": [
    "# Calculate final trait values\n",
    "final_height <- height_baseline + genetic_height + height_epsilon\n",
    "final_weight <- weight_baseline + genetic_weight + weight_epsilon\n",
    "\n",
    "# Create comprehensive dataset\n",
    "individuals <- data.frame(\n",
    "  id = 1:n_individuals,\n",
    "  height = final_height,\n",
    "  weight = final_weight,\n",
    "  genetic_height = genetic_height,\n",
    "  genetic_weight = genetic_weight,\n",
    "  height_epsilon = height_epsilon,\n",
    "  weight_epsilon = weight_epsilon\n",
    ")"
   ]
  },
  {
   "cell_type": "markdown",
   "id": "090824f3",
   "metadata": {},
   "source": [
    "## (optional) Heritability"
   ]
  },
  {
   "cell_type": "code",
   "execution_count": 29,
   "id": "da18bae3",
   "metadata": {
    "vscode": {
     "languageId": "r"
    }
   },
   "outputs": [
    {
     "name": "stdout",
     "output_type": "stream",
     "text": [
      "\n",
      "Heritability estimates:\n",
      "Height heritability: 0.267 \n"
     ]
    },
    {
     "name": "stdout",
     "output_type": "stream",
     "text": [
      "Weight heritability: 0.014 \n"
     ]
    }
   ],
   "source": [
    "# Calculate heritabilities\n",
    "height_var_genetic <- var(individuals$genetic_height)\n",
    "height_var_total <- var(individuals$height)\n",
    "height_heritability <- height_var_genetic / height_var_total\n",
    "\n",
    "weight_var_genetic <- var(individuals$genetic_weight)\n",
    "weight_var_total <- var(individuals$weight)\n",
    "weight_heritability <- weight_var_genetic / weight_var_total\n",
    "\n",
    "cat(\"\\nHeritability estimates:\\n\")\n",
    "cat(\"Height heritability:\", round(height_heritability, 3), \"\\n\")\n",
    "cat(\"Weight heritability:\", round(weight_heritability, 3), \"\\n\")"
   ]
  },
  {
   "cell_type": "markdown",
   "id": "3b61c17f",
   "metadata": {},
   "source": [
    "\n",
    "## Bayesian Inference"
   ]
  },
  {
   "cell_type": "markdown",
   "id": "3d143d65",
   "metadata": {},
   "source": [
    "Now we perform Bayesian inference to recover the genetic effects from the generated data.\n"
   ]
  },
  {
   "cell_type": "code",
   "execution_count": 30,
   "id": "dc51f446",
   "metadata": {
    "vscode": {
     "languageId": "r"
    }
   },
   "outputs": [],
   "source": [
    "# Select variant for detailed Bayesian analysis\n",
    "variant_idx <- 1\n",
    "true_beta_a <- genetic_effects[variant_idx, \"beta_a_height\"]\n",
    "true_beta_b <- genetic_effects[variant_idx, \"beta_b_weight\"]\n",
    "\n",
    "# Extract data for this variant\n",
    "X <- genotypes[, variant_idx]  # genotype vector \n",
    "Y <- cbind(individuals$height, individuals$weight)  # observed traits\n"
   ]
  },
  {
   "cell_type": "markdown",
   "id": "fb2dce95",
   "metadata": {},
   "source": [
    "### Prior Specification\n",
    "\n",
    "Define the prior distribution for genetic effects."
   ]
  },
  {
   "cell_type": "code",
   "execution_count": 31,
   "id": "6a1e6c88",
   "metadata": {
    "vscode": {
     "languageId": "r"
    }
   },
   "outputs": [
    {
     "name": "stdout",
     "output_type": "stream",
     "text": [
      "=== PRIOR SPECIFICATION ===\n"
     ]
    },
    {
     "name": "stdout",
     "output_type": "stream",
     "text": [
      "Prior mean beta_0:\n",
      "[1] 0 0\n",
      "Prior covariance matrix Sigma_0:\n",
      "     [,1] [,2]\n",
      "[1,] 25.0 10.5\n",
      "[2,] 10.5  9.0\n",
      "Prior precision matrix Omega_0:\n",
      "        [,1]    [,2]\n",
      "[1,]  0.0784 -0.0915\n",
      "[2,] -0.0915  0.2179\n",
      "Prior correlation: 0.7 \n"
     ]
    }
   ],
   "source": [
    "cat(\"=== PRIOR SPECIFICATION ===\\n\")\n",
    "\n",
    "# Prior mean (no prior knowledge, center at zero)\n",
    "beta_0 <- c(0, 0)\n",
    "\n",
    "# Prior covariance matrix (using same parameters as data generation)\n",
    "Sigma_0 <- matrix(c(\n",
    "  sigma_a^2, rho * sigma_a * sigma_b,\n",
    "  rho * sigma_a * sigma_b, sigma_b^2\n",
    "), nrow = 2, byrow = TRUE)\n",
    "\n",
    "cat(\"Prior mean beta_0:\\n\")\n",
    "print(beta_0)\n",
    "cat(\"Prior covariance matrix Sigma_0:\\n\")\n",
    "print(Sigma_0)\n",
    "\n",
    "# Prior precision matrix\n",
    "Omega_0 <- solve(Sigma_0)\n",
    "cat(\"Prior precision matrix Omega_0:\\n\")\n",
    "print(round(Omega_0, 4))\n",
    "\n",
    "prior_corr <- Sigma_0[1,2] / sqrt(Sigma_0[1,1] * Sigma_0[2,2])\n",
    "cat(\"Prior correlation:\", round(prior_corr, 3), \"\\n\")\n"
   ]
  },
  {
   "cell_type": "markdown",
   "id": "b6e74574",
   "metadata": {},
   "source": [
    "### Likelihood Specification\n",
    "\n",
    "Define the likelihood model for observed data.\n"
   ]
  },
  {
   "cell_type": "code",
   "execution_count": 32,
   "id": "5575744c",
   "metadata": {
    "vscode": {
     "languageId": "r"
    }
   },
   "outputs": [
    {
     "name": "stdout",
     "output_type": "stream",
     "text": [
      "=== LIKELIHOOD SPECIFICATION ===\n"
     ]
    },
    {
     "name": "stdout",
     "output_type": "stream",
     "text": [
      "Residual covariance matrix Sigma:\n",
      "     [,1] [,2]\n",
      "[1,]   64    0\n",
      "[2,]    0  100\n",
      "Residual precision matrix Omega:\n",
      "         [,1] [,2]\n",
      "[1,] 0.015625 0.00\n",
      "[2,] 0.000000 0.01\n",
      "Model specification:\n",
      "- Each individual i has genotype X_i and traits Y_i = (height_i, weight_i)\n",
      "- Y_i | beta ~ MVN(X_i * beta, Sigma)\n",
      "- X_i affects both traits through beta = (beta_a, beta_b)\n"
     ]
    }
   ],
   "source": [
    "cat(\"=== LIKELIHOOD SPECIFICATION ===\\n\")\n",
    "\n",
    "# Likelihood: Y_i | beta ~ MVN(X_i * beta, Sigma)\n",
    "# Independent error covariance matrix\n",
    "Sigma <- diag(c(height_epsilon_sd^2, weight_epsilon_sd^2))\n",
    "\n",
    "cat(\"Residual covariance matrix Sigma:\\n\")\n",
    "print(Sigma)\n",
    "\n",
    "# Likelihood precision matrix\n",
    "Omega <- solve(Sigma)\n",
    "cat(\"Residual precision matrix Omega:\\n\")\n",
    "print(Omega)\n",
    "\n",
    "cat(\"Model specification:\\n\")\n",
    "cat(\"- Each individual i has genotype X_i and traits Y_i = (height_i, weight_i)\\n\")\n",
    "cat(\"- Y_i | beta ~ MVN(X_i * beta, Sigma)\\n\")\n",
    "cat(\"- X_i affects both traits through beta = (beta_a, beta_b)\\n\")\n"
   ]
  },
  {
   "cell_type": "markdown",
   "id": "077157f3",
   "metadata": {},
   "source": [
    "### Posterior Calculation\n",
    "\n",
    "Apply Bayesian updating using conjugate prior formulas."
   ]
  },
  {
   "cell_type": "code",
   "execution_count": 33,
   "id": "892235c5",
   "metadata": {
    "vscode": {
     "languageId": "r"
    }
   },
   "outputs": [
    {
     "name": "stdout",
     "output_type": "stream",
     "text": [
      "=== POSTERIOR CALCULATION ===\n",
      "Computing sufficient statistics...\n"
     ]
    },
    {
     "name": "stdout",
     "output_type": "stream",
     "text": [
      "Sufficient statistic X^T Omega X:\n",
      "     [,1] [,2]\n",
      "[1,] 0.03 0.00\n",
      "[2,] 0.00 0.02\n",
      "Sufficient statistic X^T Omega Y:\n",
      "     [,1]\n",
      "[1,] 5.17\n",
      "[2,] 1.38\n"
     ]
    }
   ],
   "source": [
    "cat(\"=== POSTERIOR CALCULATION ===\\n\")\n",
    "\n",
    "# For multivariate normal conjugate prior:\n",
    "# Posterior precision: Omega_1 = Omega_0 + sum(X_i^T Omega X_i)\n",
    "# Posterior mean: beta_1 = Sigma_1 * (Omega_0 * beta_0 + sum(X_i^T Omega Y_i))\n",
    "\n",
    "cat(\"Computing sufficient statistics...\\n\")\n",
    "\n",
    "# Initialize sufficient statistics\n",
    "XtOmegaX <- matrix(0, nrow = 2, ncol = 2)\n",
    "XtOmegaY <- c(0, 0)\n",
    "\n",
    "# Accumulate across all individuals\n",
    "for (i in 1:n_individuals) {\n",
    "  x_i <- X[i]  # genotype for individual i\n",
    "  y_i <- Y[i, ]  # traits for individual i\n",
    "  \n",
    "  # Design matrix: genotype affects both traits\n",
    "  X_i <- diag(c(x_i, x_i))  # 2x2 diagonal matrix with genotype\n",
    "  \n",
    "  XtOmegaX <- XtOmegaX + t(X_i) %*% Omega %*% X_i\n",
    "  XtOmegaY <- XtOmegaY + t(X_i) %*% Omega %*% y_i\n",
    "}\n",
    "\n",
    "cat(\"Sufficient statistic X^T Omega X:\\n\")\n",
    "print(round(XtOmegaX, 2))\n",
    "cat(\"Sufficient statistic X^T Omega Y:\\n\")\n",
    "print(round(XtOmegaY, 2))\n",
    "\n",
    "# Calculate posterior parameters\n",
    "Omega_1 <- Omega_0 + XtOmegaX\n",
    "Sigma_1 <- solve(Omega_1)\n",
    "beta_1 <- Sigma_1 %*% (Omega_0 %*% beta_0 + XtOmegaY)"
   ]
  },
  {
   "cell_type": "markdown",
   "id": "318eab44",
   "metadata": {},
   "source": [
    "Here are the posterior results:"
   ]
  },
  {
   "cell_type": "code",
   "execution_count": 34,
   "id": "1644133f",
   "metadata": {
    "vscode": {
     "languageId": "r"
    }
   },
   "outputs": [
    {
     "name": "stdout",
     "output_type": "stream",
     "text": [
      "=== POSTERIOR RESULTS ===\n",
      "Posterior mean beta_1:\n",
      "  beta_a (height): 76.4961 \n",
      "  beta_b (weight): 35.2305 \n",
      "Posterior covariance matrix Sigma_1:\n",
      "          [,1]     [,2]\n",
      "[1,] 13.426178 5.164861\n",
      "[2,]  5.164861 6.190915\n",
      "Posterior correlation: 0.5665 \n",
      "Posterior standard errors:\n",
      "  SE(beta_a): 3.6642 \n",
      "  SE(beta_b): 2.4882 \n",
      "\n",
      "Comparison with true values:\n",
      "True beta_a: 6.2681 \n",
      "True beta_b: 2.4447 \n"
     ]
    }
   ],
   "source": [
    "cat(\"=== POSTERIOR RESULTS ===\\n\")\n",
    "cat(\"Posterior mean beta_1:\\n\")\n",
    "cat(\"  beta_a (height):\", round(beta_1[1], 4), \"\\n\")\n",
    "cat(\"  beta_b (weight):\", round(beta_1[2], 4), \"\\n\")\n",
    "\n",
    "cat(\"Posterior covariance matrix Sigma_1:\\n\")\n",
    "print(round(Sigma_1, 6))\n",
    "\n",
    "posterior_corr <- Sigma_1[1,2] / sqrt(Sigma_1[1,1] * Sigma_1[2,2])\n",
    "cat(\"Posterior correlation:\", round(posterior_corr, 4), \"\\n\")\n",
    "\n",
    "# Posterior standard errors\n",
    "posterior_se <- sqrt(diag(Sigma_1))\n",
    "cat(\"Posterior standard errors:\\n\")\n",
    "cat(\"  SE(beta_a):\", round(posterior_se[1], 4), \"\\n\")\n",
    "cat(\"  SE(beta_b):\", round(posterior_se[2], 4), \"\\n\")\n",
    "\n",
    "cat(\"\\nComparison with true values:\\n\")\n",
    "cat(\"True beta_a:\", round(true_beta_a, 4), \"\\n\")\n",
    "cat(\"True beta_b:\", round(true_beta_b, 4), \"\\n\")"
   ]
  },
  {
   "cell_type": "markdown",
   "id": "1440274e",
   "metadata": {},
   "source": [
    "# Supplementary"
   ]
  },
  {
   "cell_type": "markdown",
   "id": "6892156f",
   "metadata": {},
   "source": [
    "## Graphical Summary"
   ]
  },
  {
   "cell_type": "code",
   "execution_count": 19,
   "id": "2fcaab6d",
   "metadata": {
    "vscode": {
     "languageId": "r"
    }
   },
   "outputs": [
    {
     "name": "stdout",
     "output_type": "stream",
     "text": [
      "Bayesian Bivariate Normal Mean Model Summary:\n",
      "============================================\n",
      "Prior mean: 2 2 \n",
      "Sample mean: 5.36 3.188 \n",
      "Posterior mean: 5.053 3.062 \n",
      "True mean: 4 3 \n",
      "Sample size: 5 \n"
     ]
    },
    {
     "data": {
      "image/png": "[encoded data removed]",
      "text/plain": [
       "plot without title"
      ]
     },
     "metadata": {
      "image/png": {
       "height": 420,
       "width": 420
      }
     },
     "output_type": "display_data"
    }
   ],
   "source": [
    "library(ggplot2)\n",
    "library(mvtnorm)\n",
    "library(gridExtra)\n",
    "library(dplyr)\n",
    "\n",
    "# Suppress warnings for cleaner output\n",
    "options(warn = -1)\n",
    "\n",
    "# Set random seed for reproducibility\n",
    "set.seed(42)\n",
    "\n",
    "# Function to create contour data for bivariate normal (improved)\n",
    "create_contour_data <- function(mu, sigma, xlim = c(-1, 7), ylim = c(-1, 7), n = 60) {\n",
    "  x <- seq(xlim[1], xlim[2], length.out = n)\n",
    "  y <- seq(ylim[1], ylim[2], length.out = n)\n",
    "  grid <- expand.grid(x = x, y = y)\n",
    "  \n",
    "  # Calculate density and handle potential numerical issues\n",
    "  density_vals <- tryCatch({\n",
    "    dmvnorm(as.matrix(grid), mean = mu, sigma = sigma)\n",
    "  }, error = function(e) {\n",
    "    rep(1e-10, nrow(grid))\n",
    "  })\n",
    "  \n",
    "  # Filter out very small densities and ensure positive values\n",
    "  grid$density <- pmax(density_vals, 1e-8)\n",
    "  \n",
    "  # Remove rows where density is essentially zero to avoid contour issues\n",
    "  grid <- grid[grid$density > 1e-6, ]\n",
    "  \n",
    "  return(grid)\n",
    "}\n",
    "\n",
    "# Parameters for the Bayesian model\n",
    "# Prior parameters (less informative to make posterior more visible)\n",
    "beta_0 <- c(2, 2)  # Prior mean\n",
    "sigma_0 <- matrix(c(3, 0.8, 0.8, 3), 2, 2)  # Prior covariance (larger)\n",
    "\n",
    "# True parameters (unknown in practice)\n",
    "beta_true <- c(4, 3)\n",
    "sigma_true <- matrix(c(1.5, 0.5, 0.5, 1.5), 2, 2)  # Larger covariance\n",
    "\n",
    "# Generate observed data\n",
    "n <- 5\n",
    "observed_data <- rmvnorm(n, mean = beta_true, sigma = sigma_true)\n",
    "sample_mean <- colMeans(observed_data)\n",
    "\n",
    "# Bayesian update (assuming known covariance for simplicity)\n",
    "# Posterior parameters\n",
    "sigma_0_inv <- solve(sigma_0)\n",
    "sigma_true_inv <- solve(sigma_true)\n",
    "sigma_post_inv <- sigma_0_inv + n * sigma_true_inv\n",
    "sigma_post <- solve(sigma_post_inv)\n",
    "beta_post <- sigma_post %*% (sigma_0_inv %*% beta_0 + n * sigma_true_inv %*% sample_mean)\n",
    "\n",
    "# Create contour data for all distributions\n",
    "prior_data <- create_contour_data(beta_0, sigma_0)\n",
    "likelihood_data <- create_contour_data(sample_mean, sigma_true/n)\n",
    "posterior_data <- create_contour_data(beta_post, sigma_post)\n",
    "\n",
    "# Create individual plots with consistent styling\n",
    "base_theme <- theme_minimal(base_size = 14) +\n",
    "  theme(\n",
    "    plot.title = element_text(hjust = 0.5, face = \"bold\", size = 16),\n",
    "    plot.subtitle = element_text(hjust = 0.5, size = 12),\n",
    "    axis.title.y = element_text(face = \"bold\", size = 16),\n",
    "    axis.title.x = element_text(face = \"bold\", size = 16),\n",
    "    axis.text.x = element_text(face = \"bold\", size = 16),\n",
    "    axis.text.y = element_text(face = \"bold\", size = 16)\n",
    "  )\n",
    "\n",
    "# Prior plot\n",
    "p1 <- ggplot(prior_data, aes(x = x, y = y, z = density)) +\n",
    "  geom_contour(color = \"tomato\", linewidth = 1.2, bins = 8, linetype = \"dashed\") +\n",
    "  geom_point(data = data.frame(x = beta_0[1], y = beta_0[2]), \n",
    "             aes(x = x, y = y), color = \"tomato\", size = 4, inherit.aes = FALSE) +\n",
    "  labs(title = \"Prior Distribution\", \n",
    "       subtitle = expression(paste(beta, \" ~ N(\", beta[0], \", \", Sigma[0], \")\")),\n",
    "       x = expression(beta[a]), y = expression(beta[b])) +\n",
    "  xlim(-1, 7) + ylim(-1, 7) +\n",
    "  base_theme\n",
    "\n",
    "# Likelihood plot  \n",
    "p2 <- ggplot(likelihood_data, aes(x = x, y = y, z = density)) +\n",
    "  geom_contour(color = \"skyblue\", linewidth = 1.2, bins = 8, linetype = \"dotted\") +\n",
    "  geom_point(data = data.frame(x = sample_mean[1], y = sample_mean[2]), \n",
    "             aes(x = x, y = y), color = \"#000080\", size = 4, shape = 17, inherit.aes = FALSE) +\n",
    "  labs(title = \"Likelihood (Data)\", \n",
    "       subtitle = paste(\"n =\", n, \"observations\"),\n",
    "       x = expression(beta[a]), y = expression(beta[b])) +\n",
    "  xlim(-1, 7) + ylim(-1, 7) +\n",
    "  base_theme\n",
    "\n",
    "# Posterior plot\n",
    "p3 <- ggplot(posterior_data, aes(x = x, y = y, z = density)) +\n",
    "  geom_contour(color = \"darkgreen\", linewidth = 1.2, bins = 10, linetype = \"solid\") +\n",
    "  geom_point(data = data.frame(x = beta_post[1], y = beta_post[2]), \n",
    "             aes(x = x, y = y), color = \"darkgreen\", size = 4, inherit.aes = FALSE) +\n",
    "  geom_point(data = data.frame(x = beta_true[1], y = beta_true[2]), \n",
    "             aes(x = x, y = y), color = \"black\", size = 4, shape = 4, stroke = 2, inherit.aes = FALSE) +\n",
    "  labs(title = \"Posterior\", \n",
    "       subtitle = expression(paste(beta, \"|data ~ N(\", beta[n], \", \", Sigma[n], \")\")),\n",
    "       x = expression(beta[a]), y = expression(beta[b])) +\n",
    "  xlim(-1, 7) + ylim(-1, 7) +\n",
    "  base_theme\n",
    "\n",
    "# Combined plot showing all three\n",
    "combined_data <- rbind(\n",
    "  cbind(prior_data, distribution = \"Prior\"),\n",
    "  cbind(likelihood_data, distribution = \"Likelihood\"), \n",
    "  cbind(posterior_data, distribution = \"Posterior\")\n",
    ")\n",
    "\n",
    "p4 <- ggplot(combined_data, aes(x = x, y = y, z = density, color = distribution, linetype = distribution)) +\n",
    "  geom_contour(linewidth = 1.2, bins = 6) +\n",
    "  scale_color_manual(values = c(\"Prior\" = \"tomato\", \n",
    "                               \"Likelihood\" = \"#000080\", \n",
    "                               \"Posterior\" = \"darkgreen\")) +\n",
    "  scale_linetype_manual(values = c(\"Prior\" = \"dashed\", \n",
    "                                  \"Likelihood\" = \"dotted\", \n",
    "                                  \"Posterior\" = \"solid\")) +\n",
    "  geom_point(data = data.frame(x = beta_0[1], y = beta_0[2]), \n",
    "             aes(x = x, y = y), color = \"tomato\", size = 4, inherit.aes = FALSE) +\n",
    "  geom_point(data = data.frame(x = sample_mean[1], y = sample_mean[2]), \n",
    "             aes(x = x, y = y), color = \"#000080\", size = 4, shape = 17, inherit.aes = FALSE) +\n",
    "  geom_point(data = data.frame(x = beta_post[1], y = beta_post[2]), \n",
    "             aes(x = x, y = y), color = \"darkgreen\", size = 4, inherit.aes = FALSE) +\n",
    "  geom_point(data = data.frame(x = beta_true[1], y = beta_true[2]), \n",
    "             aes(x = x, y = y), color = \"black\", size = 4, shape = 4, stroke = 2, inherit.aes = FALSE) +\n",
    "  labs(title = \"Prior * Likelihood = Posterior\",\n",
    "       subtitle = \"Bayesian Update Process\",\n",
    "       x = expression(beta[a]), y = expression(beta[b]),\n",
    "       color = \"Distribution\",\n",
    "       linetype = \"Distribution\") +\n",
    "  xlim(-1, 7) + ylim(-1, 7) +\n",
    "  theme_minimal(base_size = 14) +\n",
    "  theme(\n",
    "    plot.title = element_text(hjust = 0.5, face = \"bold\", size = 16),\n",
    "    plot.subtitle = element_text(hjust = 0.5, size = 12),\n",
    "    axis.title.y = element_text(face = \"bold\"),\n",
    "    axis.title.x = element_text(face = \"bold\"),\n",
    "    axis.text.x = element_text(face = \"bold\"),\n",
    "    axis.text.y = element_text(face = \"bold\"),\n",
    "    legend.title = element_blank(),\n",
    "    legend.text = element_blank(),\n",
    "    legend.position = \"none\"\n",
    "  ) +\n",
    "  guides(color = guide_legend(override.aes = list(linewidth = 1.5)),\n",
    "         linetype = guide_legend(override.aes = list(linewidth = 1.5)))\n",
    "\n",
    "# Arrange the plots in 2x2 grid\n",
    "final_plot <- grid.arrange(p1, p2, p3, p4, ncol = 2, nrow = 2)\n",
    "\n",
    "# Save the combined plot\n",
    "ggsave(\"./cartoons/Bayesian_multivariate_normal_mean_model.png\", plot = final_plot,\n",
    "       width = 12, height = 8, \n",
    "       bg = \"transparent\",\n",
    "       dpi = 300)\n",
    "\n",
    "# Reset warnings\n",
    "options(warn = 0)\n",
    "\n",
    "# Print summary statistics\n",
    "cat(\"Bayesian Bivariate Normal Mean Model Summary:\\n\")\n",
    "cat(\"============================================\\n\")\n",
    "cat(\"Prior mean:\", round(beta_0, 3), \"\\n\")\n",
    "cat(\"Sample mean:\", round(sample_mean, 3), \"\\n\") \n",
    "cat(\"Posterior mean:\", round(beta_post, 3), \"\\n\")\n",
    "cat(\"True mean:\", round(beta_true, 3), \"\\n\")\n",
    "cat(\"Sample size:\", n, \"\\n\")"
   ]
  },
  {
   "cell_type": "code",
   "execution_count": null,
   "id": "e907e48a",
   "metadata": {
    "vscode": {
     "languageId": "r"
    }
   },
   "outputs": [],
   "source": []
  }
 ],
 "metadata": {
  "kernelspec": {
   "display_name": "R",
   "language": "R",
   "name": "ir"
  },
  "language_info": {
   "codemirror_mode": "r",
   "file_extension": ".r",
   "mimetype": "text/x-r-source",
   "name": "R",
   "pygments_lexer": "r",
   "version": "4.3.3"
  },
  "toc-autonumbering": true
 },
 "nbformat": 4,
 "nbformat_minor": 5
}
