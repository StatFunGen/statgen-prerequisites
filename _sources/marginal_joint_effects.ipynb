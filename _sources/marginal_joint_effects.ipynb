{
 "cells": [
  {
   "cell_type": "markdown",
   "id": "5911ec54",
   "metadata": {},
   "source": [
    "# Marginal and Joint Effects\n",
    "\n",
    "Marginal effects measure a genetic variant's influence on a trait when considered **alone, ignoring other variants**, while joint effects measure each variant's independent contribution when all variants are **simultaneously included** in the model, revealing their true effects after **accounting for correlations (LD) between them**."
   ]
  },
  {
   "cell_type": "markdown",
   "id": "2dee63ed",
   "metadata": {},
   "source": [
    "# Graphical Summary"
   ]
  },
  {
   "cell_type": "markdown",
   "id": "83e5b824",
   "metadata": {},
   "source": [
    "![Fig](./graphical_summary/slides/Slide9.png)"
   ]
  },
  {
   "cell_type": "markdown",
   "id": "7bff55ce",
   "metadata": {},
   "source": [
    "# Key Formula\n",
    "\n",
    "In multiple markers linear regression, we extend the single marker model to incorporate multiple genetic variants:\n",
    "\n",
    "$$\n",
    "\\mathbf{Y} = \\mathbf{X} \\boldsymbol{\\beta} + \\boldsymbol{\\epsilon}\n",
    "$$\n",
    "\n",
    "Where:\n",
    "- $\\mathbf{Y}$ is the $N \\times 1$ vector of trait values for $N$ individuals\n",
    "- $\\mathbf{X}$ is the $N \\times M$ matrix of genotypes for $M$ variants across $N$ individuals\n",
    "- $\\boldsymbol{\\beta}$ is the $M \\times 1$ vector of effect sizes for each variant (to be estimated)\n",
    "- $\\boldsymbol{\\epsilon}$ is the $N \\times 1$ vector of error terms for $N$ individuals and $\\boldsymbol{\\epsilon} \\sim N(0, \\sigma^2\\mathbf{I})$\n",
    "\n",
    "We can still use **ordinary least squares (OLS)** to derive the estimators for $\\boldsymbol{\\beta}$ in matrix form:\n",
    "\n",
    "$$\n",
    "\\hat{\\boldsymbol{\\beta}}_{\\text{OLS}} = (\\mathbf{X}^T\\mathbf{X})^{-1}\\mathbf{X}^T\\mathbf{Y}\n",
    "$$\n"
   ]
  },
  {
   "cell_type": "markdown",
   "id": "75142eec",
   "metadata": {},
   "source": [
    "# Technical Details\n",
    "\n",
    "## Marginal Effect\n",
    "In [OLS](https://gaow.github.io/statgen-prerequisites/ordinary_least_squares.html), we discuss the single marker linear regression, which actually estimates the marginal effect of each genetic variant, considering each variant can be treated independently.\n",
    "\n",
    "The marginal effect of a genetic variant is its association with the trait when analyzed in isolation, without accounting for other variants:\n",
    "\n",
    "$$\n",
    "\\hat{\\beta}_{\\text{marginal},j} = (\\mathbf{X}_j^T\\mathbf{X}_j)^{-1}\\mathbf{X}_j^T\\mathbf{Y}\n",
    "$$\n",
    "\n",
    "Where $\\mathbf{X}_j$ is the column vector for the $j$-th variant.\n",
    "\n",
    "## Joint Effect\n",
    "The joint effect of a genetic variant is its association with the trait when **analyzed simultaneously with other variants**, i.e., in the multiple markers model:\n",
    "\n",
    "$$\n",
    "\\hat{\\boldsymbol{\\beta}}_{\\text{joint}} = (\\mathbf{X}^T\\mathbf{X})^{-1}\\mathbf{X}^T\\mathbf{Y}\n",
    "$$\n",
    "\n",
    "Where $\\hat{\\beta}_{\\text{joint},j}$ (the $j$-th element of $\\hat{\\boldsymbol{\\beta}}_{\\text{joint}}$) represents the effect of the $j$-th variant after accounting for all other variants in the model.\n",
    "\n",
    "## Key Differences Between Marginal and Joint Effects\n",
    "\n",
    "- **Correlation Structure**: \n",
    "   - Marginal effects ignore correlations (linkage disequilibrium) between variants\n",
    "   - Joint effects account for correlations between variants\n",
    "\n",
    "- **Interpretation**:\n",
    "   - Marginal effect: The expected change in the trait associated with a unit change in the variant, not accounting for other variants\n",
    "   - Joint effect: The expected change in the trait associated with a unit change in the variant, holding all other variants constant\n",
    "\n",
    "- **Consistency**:\n",
    "   - When variants are uncorrelated, marginal and joint effects are identical\n",
    "   - When variants are correlated, marginal and joint effects will differ\n",
    "   - Joint effects can be smaller or larger than marginal effects, or even have opposite signs"
   ]
  },
  {
   "cell_type": "markdown",
   "id": "6cd18e31",
   "metadata": {},
   "source": [
    "# Related Topics\n",
    "\n",
    "- [ordinary least squares](https://gaow.github.io/statgen-prerequisites/ordinary_least_squares.html)\n",
    "- [LD](https://gaow.github.io/statgen-prerequisites/linkage_disequilibrium.html)\n",
    "- [confounder](https://gaow.github.io/statgen-prerequisites/confounder.html)"
   ]
  },
  {
   "cell_type": "markdown",
   "id": "ee2213a3",
   "metadata": {},
   "source": [
    "# Example"
   ]
  },
  {
   "cell_type": "markdown",
   "id": "6c448346",
   "metadata": {},
   "source": [
    "## Example 1 -- Causal Variant Identification with LD"
   ]
  },
  {
   "cell_type": "markdown",
   "id": "a25e7146",
   "metadata": {},
   "source": [
    "When testing genetic variants individually, we might find that multiple variants appear to be associated with a trait. But what happens when we test them together? This example shows how linkage disequilibrium (correlation between nearby variants) can make non-causal variants appear significant in marginal analysis, while joint analysis reveals which variant is truly driving the association.\n",
    "\n",
    "The key question: Which genetic variants are truly causal versus just correlated with the causal variant?"
   ]
  },
  {
   "cell_type": "code",
   "execution_count": 35,
   "id": "e5197ed2",
   "metadata": {
    "vscode": {
     "languageId": "r"
    }
   },
   "outputs": [],
   "source": [
    "# Clear the environment\n",
    "rm(list = ls())\n",
    "set.seed(9)  # For reproducibility\n",
    "\n",
    "# Define genotypes for 10 individuals at 3 variants\n",
    "# Create correlated genotypes to simulate linkage disequilibrium\n",
    "N = 20\n",
    "M = 3\n",
    "\n",
    "# Generate correlated genotype data\n",
    "# Variant 1 is the true causal variant\n",
    "# Variants 2 and 3 are in LD with variant 1\n",
    "variant1 <- sample(0:2, N, replace = TRUE, prob = c(0.4, 0.4, 0.2))\n",
    "\n",
    "# Create LD: variants 2 and 3 are correlated with variant 1\n",
    "variant2 <- ifelse(runif(N) < 0.9, variant1, sample(0:2, N, replace = TRUE))\n",
    "variant3 <- ifelse(runif(N) < 0.8, variant1, sample(0:2, N, replace = TRUE))\n",
    "\n",
    "# Combine into matrix\n",
    "Xraw_additive <- cbind(variant1, variant2, variant3)\n",
    "rownames(Xraw_additive) <- paste(\"Individual\", 1:N)\n",
    "colnames(Xraw_additive) <- paste(\"Variant\", 1:M)\n",
    "\n",
    "# Standardize genotypes\n",
    "X <- scale(Xraw_additive, center = TRUE, scale = TRUE)\n",
    "\n",
    "# Generate phenotype where only Variant 1 has a true causal effect\n",
    "true_beta1 <- 1.5  # Strong effect for variant 1\n",
    "epsilon <- rnorm(N, mean = 0, sd = 0.5)\n",
    "Y_raw <- X[, 1] * true_beta1 + epsilon  # Only variant 1 affects the trait\n",
    "\n",
    "# Standardize phenotype\n",
    "Y <- scale(Y_raw)"
   ]
  },
  {
   "cell_type": "markdown",
   "id": "3bb59be5",
   "metadata": {},
   "source": [
    "We first recall how we calculate the marginal effect of each variant in [OLS](https://gaow.github.io/statgen-prerequisites/ordinary_least_squares.html):"
   ]
  },
  {
   "cell_type": "code",
   "execution_count": 36,
   "id": "49ab4e70",
   "metadata": {
    "vscode": {
     "languageId": "r"
    }
   },
   "outputs": [],
   "source": [
    "# Calculate marginal effects (one SNP at a time)\n",
    "p_values <- numeric(M)  # Store p-values\n",
    "betas <- numeric(M)     # Store estimated effect sizes\n",
    "\n",
    "for (j in 1:M) {\n",
    "  SNP <- X[, j]  # Extract genotype for SNP j\n",
    "  model <- lm(Y ~ SNP)  # OLS regression: Trait ~ SNP\n",
    "  summary_model <- summary(model)\n",
    "  \n",
    "  # Store p-value and effect size (coefficient)\n",
    "  p_values[j] <- summary_model$coefficients[2, 4]  # p-value for SNP effect\n",
    "  betas[j] <- summary_model$coefficients[2, 1]     # Estimated beta coefficient\n",
    "}\n",
    "\n",
    "marginal_OLS_results <- data.frame(\n",
    "  Variant = colnames(X), \n",
    "  Beta = round(betas, 4), \n",
    "  P_Value = round(p_values, 4),\n",
    "  Significant = p_values < 0.05\n",
    ")\n"
   ]
  },
  {
   "cell_type": "markdown",
   "id": "d411603b",
   "metadata": {},
   "source": [
    "Now let's calculate the joint effects by including all variants in one model:"
   ]
  },
  {
   "cell_type": "code",
   "execution_count": 38,
   "id": "4bf10867",
   "metadata": {
    "vscode": {
     "languageId": "r"
    }
   },
   "outputs": [],
   "source": [
    "# Multiple regression model including all variants simultaneously\n",
    "joint_model <- lm(Y ~ X)\n",
    "joint_summary <- summary(joint_model)\n",
    "\n",
    "# Extract the joint effect coefficients and p-values\n",
    "# Skip the intercept (first row)\n",
    "joint_betas <- joint_summary$coefficients[2:(M+1), 1]\n",
    "joint_p_values <- joint_summary$coefficients[2:(M+1), 4]\n",
    "\n",
    "# Create results table for joint effects\n",
    "joint_OLS_results <- data.frame(\n",
    "  Variant = colnames(X),\n",
    "  Beta = round(joint_betas, 4),\n",
    "  P_Value = round(joint_p_values, 4),\n",
    "  Significant = joint_p_values < 0.05\n",
    ")\n"
   ]
  },
  {
   "cell_type": "code",
   "execution_count": 39,
   "id": "68714bd3",
   "metadata": {
    "vscode": {
     "languageId": "r"
    }
   },
   "outputs": [
    {
     "name": "stdout",
     "output_type": "stream",
     "text": [
      "[1] \"Marginal Effect:\"\n"
     ]
    },
    {
     "data": {
      "text/html": [
       "<table class=\"dataframe\">\n",
       "<caption>A data.frame: 3 x 4</caption>\n",
       "<thead>\n",
       "\t<tr><th scope=col>Variant</th><th scope=col>Beta</th><th scope=col>P_Value</th><th scope=col>Significant</th></tr>\n",
       "\t<tr><th scope=col>&lt;chr&gt;</th><th scope=col>&lt;dbl&gt;</th><th scope=col>&lt;dbl&gt;</th><th scope=col>&lt;lgl&gt;</th></tr>\n",
       "</thead>\n",
       "<tbody>\n",
       "\t<tr><td>Variant 1</td><td>0.9416</td><td>0.0000</td><td>TRUE</td></tr>\n",
       "\t<tr><td>Variant 2</td><td>0.4997</td><td>0.0249</td><td>TRUE</td></tr>\n",
       "\t<tr><td>Variant 3</td><td>0.8226</td><td>0.0000</td><td>TRUE</td></tr>\n",
       "</tbody>\n",
       "</table>\n"
      ],
      "text/latex": [
       "A data.frame: 3 x 4\n",
       "\\begin{tabular}{llll}\n",
       " Variant & Beta & P\\_Value & Significant\\\\\n",
       " <chr> & <dbl> & <dbl> & <lgl>\\\\\n",
       "\\hline\n",
       "\t Variant 1 & 0.9416 & 0.0000 & TRUE\\\\\n",
       "\t Variant 2 & 0.4997 & 0.0249 & TRUE\\\\\n",
       "\t Variant 3 & 0.8226 & 0.0000 & TRUE\\\\\n",
       "\\end{tabular}\n"
      ],
      "text/markdown": [
       "\n",
       "A data.frame: 3 x 4\n",
       "\n",
       "| Variant &lt;chr&gt; | Beta &lt;dbl&gt; | P_Value &lt;dbl&gt; | Significant &lt;lgl&gt; |\n",
       "|---|---|---|---|\n",
       "| Variant 1 | 0.9416 | 0.0000 | TRUE |\n",
       "| Variant 2 | 0.4997 | 0.0249 | TRUE |\n",
       "| Variant 3 | 0.8226 | 0.0000 | TRUE |\n",
       "\n"
      ],
      "text/plain": [
       "  Variant   Beta   P_Value Significant\n",
       "1 Variant 1 0.9416 0.0000  TRUE       \n",
       "2 Variant 2 0.4997 0.0249  TRUE       \n",
       "3 Variant 3 0.8226 0.0000  TRUE       "
      ]
     },
     "metadata": {},
     "output_type": "display_data"
    },
    {
     "name": "stdout",
     "output_type": "stream",
     "text": [
      "[1] \"Joint Effect:\"\n"
     ]
    },
    {
     "data": {
      "text/html": [
       "<table class=\"dataframe\">\n",
       "<caption>A data.frame: 3 x 4</caption>\n",
       "<thead>\n",
       "\t<tr><th></th><th scope=col>Variant</th><th scope=col>Beta</th><th scope=col>P_Value</th><th scope=col>Significant</th></tr>\n",
       "\t<tr><th></th><th scope=col>&lt;chr&gt;</th><th scope=col>&lt;dbl&gt;</th><th scope=col>&lt;dbl&gt;</th><th scope=col>&lt;lgl&gt;</th></tr>\n",
       "</thead>\n",
       "<tbody>\n",
       "\t<tr><th scope=row>XVariant 1</th><td>Variant 1</td><td> 1.0253</td><td>0.0001</td><td> TRUE</td></tr>\n",
       "\t<tr><th scope=row>XVariant 2</th><td>Variant 2</td><td> 0.0757</td><td>0.4226</td><td>FALSE</td></tr>\n",
       "\t<tr><th scope=row>XVariant 3</th><td>Variant 3</td><td>-0.1323</td><td>0.4886</td><td>FALSE</td></tr>\n",
       "</tbody>\n",
       "</table>\n"
      ],
      "text/latex": [
       "A data.frame: 3 x 4\n",
       "\\begin{tabular}{r|llll}\n",
       "  & Variant & Beta & P\\_Value & Significant\\\\\n",
       "  & <chr> & <dbl> & <dbl> & <lgl>\\\\\n",
       "\\hline\n",
       "\tXVariant 1 & Variant 1 &  1.0253 & 0.0001 &  TRUE\\\\\n",
       "\tXVariant 2 & Variant 2 &  0.0757 & 0.4226 & FALSE\\\\\n",
       "\tXVariant 3 & Variant 3 & -0.1323 & 0.4886 & FALSE\\\\\n",
       "\\end{tabular}\n"
      ],
      "text/markdown": [
       "\n",
       "A data.frame: 3 x 4\n",
       "\n",
       "| <!--/--> | Variant &lt;chr&gt; | Beta &lt;dbl&gt; | P_Value &lt;dbl&gt; | Significant &lt;lgl&gt; |\n",
       "|---|---|---|---|---|\n",
       "| XVariant 1 | Variant 1 |  1.0253 | 0.0001 |  TRUE |\n",
       "| XVariant 2 | Variant 2 |  0.0757 | 0.4226 | FALSE |\n",
       "| XVariant 3 | Variant 3 | -0.1323 | 0.4886 | FALSE |\n",
       "\n"
      ],
      "text/plain": [
       "           Variant   Beta    P_Value Significant\n",
       "XVariant 1 Variant 1  1.0253 0.0001   TRUE      \n",
       "XVariant 2 Variant 2  0.0757 0.4226  FALSE      \n",
       "XVariant 3 Variant 3 -0.1323 0.4886  FALSE      "
      ]
     },
     "metadata": {},
     "output_type": "display_data"
    }
   ],
   "source": [
    "print(\"Marginal Effect:\")\n",
    "marginal_OLS_results\n",
    "print(\"Joint Effect:\")\n",
    "joint_OLS_results"
   ]
  },
  {
   "cell_type": "markdown",
   "id": "bdb0b511",
   "metadata": {},
   "source": [
    "## Example 2 -- Simpson's Paradox"
   ]
  },
  {
   "cell_type": "markdown",
   "id": "3e06162d",
   "metadata": {},
   "source": [
    "Sometimes a genetic variant can appear **protective** when analyzed alone, but turn out to be **harmful** when we account for other factors. This counterintuitive phenomenon is Simpson's paradox - where the direction of association completely reverses between marginal and joint analysis.\n",
    "\n",
    "The key question: *How can a genetic variant seem protective overall but actually increase risk when we control for confounding factors?*\n"
   ]
  },
  {
   "cell_type": "markdown",
   "id": "e407a26c",
   "metadata": {},
   "source": [
    "We'll simulate a scenario where genetic ancestry acts as a confounder:"
   ]
  },
  {
   "cell_type": "code",
   "execution_count": 12,
   "id": "757a4bf3",
   "metadata": {
    "vscode": {
     "languageId": "r"
    }
   },
   "outputs": [],
   "source": [
    "rm(list = ls())\n",
    "set.seed(9)  # For reproducibility\n",
    "\n",
    "N <- 100  # Sample size\n",
    "\n",
    "# Create a confounding variable (genetic ancestry)\n",
    "ancestry <- rbinom(N, 1, 0.5)  # 0 = Population A, 1 = Population B"
   ]
  },
  {
   "cell_type": "markdown",
   "id": "f07e25e3",
   "metadata": {},
   "source": [
    "Different populations have different allele frequencies and Population B has much higher frequency of the \"risk\" allele."
   ]
  },
  {
   "cell_type": "code",
   "execution_count": 17,
   "id": "fddba915",
   "metadata": {
    "vscode": {
     "languageId": "r"
    }
   },
   "outputs": [
    {
     "name": "stdout",
     "output_type": "stream",
     "text": [
      "Population A (ancestry=0) mean genotype: 0.33 \n",
      "Population B (ancestry=1) mean genotype: 1.57 \n"
     ]
    }
   ],
   "source": [
    "# Generate genotype that's correlated with ancestry\n",
    "# Population B has higher frequency of risk allele\n",
    "variant1 <- ifelse(ancestry == 0, \n",
    "                  rbinom(sum(ancestry == 0), 2, 0.2),  # Pop A: low risk allele frequency\n",
    "                  rbinom(sum(ancestry == 1), 2, 0.8))  # Pop B: high risk allele frequency\n",
    "\n",
    "# Check allele frequencies by population\n",
    "cat(\"Population A (ancestry=0) mean genotype:\", round(mean(variant1[ancestry == 0]), 2), \"\\n\")\n",
    "cat(\"Population B (ancestry=1) mean genotype:\", round(mean(variant1[ancestry == 1]), 2), \"\\n\")"
   ]
  },
  {
   "cell_type": "markdown",
   "id": "25fee162",
   "metadata": {},
   "source": [
    "Then we generate the disease status where despite having more risk alleles, Population B has much lower disease rates overall."
   ]
  },
  {
   "cell_type": "code",
   "execution_count": 18,
   "id": "01a93f86",
   "metadata": {
    "vscode": {
     "languageId": "r"
    }
   },
   "outputs": [
    {
     "name": "stdout",
     "output_type": "stream",
     "text": [
      "Population A disease rate: 0.8 \n",
      "Population B disease rate: 0.24 \n"
     ]
    }
   ],
   "source": [
    "# Population B has generally lower disease risk (better healthcare/environment)\n",
    "# But the variant increases risk within each population\n",
    "baseline_risk <- ifelse(ancestry == 0, 0.8, 0.1)  # Pop A much higher baseline risk\n",
    "genetic_effect <- 0.1 * variant1  # Variant increases risk in both populations\n",
    "\n",
    "disease_prob <- baseline_risk + genetic_effect\n",
    "disease <- rbinom(N, 1, pmin(disease_prob, 1))  # Ensure prob ≤ 1\n",
    "\n",
    "# Create data frame\n",
    "data <- data.frame(\n",
    "  disease = disease,\n",
    "  variant1 = variant1,\n",
    "  ancestry = ancestry\n",
    ")\n",
    "\n",
    "# Check disease rates by population\n",
    "cat(\"Population A disease rate:\", round(mean(data$disease[data$ancestry == 0]), 2), \"\\n\")\n",
    "cat(\"Population B disease rate:\", round(mean(data$disease[data$ancestry == 1]), 2), \"\\n\")"
   ]
  },
  {
   "cell_type": "markdown",
   "id": "f15603e4",
   "metadata": {},
   "source": [
    "First, let's see what happens when we analyze each population separately:"
   ]
  },
  {
   "cell_type": "code",
   "execution_count": 25,
   "id": "158b6635",
   "metadata": {
    "vscode": {
     "languageId": "r"
    }
   },
   "outputs": [
    {
     "name": "stdout",
     "output_type": "stream",
     "text": [
      "=== WITHIN-POPULATION EFFECTS ===\n",
      "Population A: OR = 1.365 \n",
      "Population B: OR = 2.271 \n"
     ]
    }
   ],
   "source": [
    "# Separate data by ancestry\n",
    "data_ancestry0 <- data[data$ancestry == 0, ]  # Population A\n",
    "data_ancestry1 <- data[data$ancestry == 1, ]  # Population B\n",
    "\n",
    "# Marginal analysis for Population A\n",
    "marginal_model_A <- glm(disease ~ variant1, data = data_ancestry0, family = binomial)\n",
    "marginal_OR_A <- exp(coef(marginal_model_A)[2])\n",
    "\n",
    "# Marginal analysis for Population B  \n",
    "marginal_model_B <- glm(disease ~ variant1, data = data_ancestry1, family = binomial)\n",
    "marginal_OR_B <- exp(coef(marginal_model_B)[2])\n",
    "\n",
    "cat(\"=== WITHIN-POPULATION EFFECTS ===\\n\")\n",
    "cat(\"Population A: OR =\", round(marginal_OR_A, 3), \"\\n\")\n",
    "cat(\"Population B: OR =\", round(marginal_OR_B, 3), \"\\n\")"
   ]
  },
  {
   "cell_type": "markdown",
   "id": "e85bc5e4",
   "metadata": {},
   "source": [
    "Then we analyze the data with two ancestries combined:"
   ]
  },
  {
   "cell_type": "code",
   "execution_count": 27,
   "id": "28e1b964",
   "metadata": {
    "vscode": {
     "languageId": "r"
    }
   },
   "outputs": [
    {
     "name": "stdout",
     "output_type": "stream",
     "text": [
      "=== MARGINAL EFFECT (combining populations, ignoring ancestry) ===\n",
      "OR = 0.379 , p = 5e-04 \n",
      "Interpretation: Protective \n"
     ]
    }
   ],
   "source": [
    "# Marginal analysis (ignoring ancestry - combining both populations)\n",
    "marginal_model <- glm(disease ~ variant1, data = data, family = binomial)\n",
    "marginal_OR <- exp(coef(marginal_model)[2])\n",
    "marginal_p <- summary(marginal_model)$coefficients[2, 4]\n",
    "\n",
    "cat(\"=== MARGINAL EFFECT (combining populations, ignoring ancestry) ===\\n\")\n",
    "cat(\"OR =\", round(marginal_OR, 3), \", p =\", round(marginal_p, 4), \"\\n\")\n",
    "cat(\"Interpretation:\", ifelse(marginal_OR > 1, \"Harmful\", \"Protective\"), \"\\n\")"
   ]
  },
  {
   "cell_type": "markdown",
   "id": "27edb38f",
   "metadata": {},
   "source": [
    " Even though the variant is harmful in both populations, it appears protective when we ignore ancestry!"
   ]
  },
  {
   "cell_type": "markdown",
   "id": "53589129",
   "metadata": {},
   "source": [
    "Why this happens?\n",
    "\n",
    "1. **Population B** has higher frequency of risk alleles BUT lower baseline disease risk\n",
    "2. **Population A** has lower frequency of risk alleles BUT higher baseline disease risk  \n",
    "3. **Marginally:** The variant appears protective because it's more common in the healthier population\n",
    "4. **Within each population:** The variant actually increases disease risk"
   ]
  },
  {
   "cell_type": "markdown",
   "id": "21f70ce0",
   "metadata": {},
   "source": [
    "# Supplementary"
   ]
  },
  {
   "cell_type": "markdown",
   "id": "d9533a41",
   "metadata": {},
   "source": [
    "## Graphical Summary"
   ]
  },
  {
   "cell_type": "code",
   "execution_count": 37,
   "id": "f1d09bde",
   "metadata": {
    "vscode": {
     "languageId": "r"
    }
   },
   "outputs": [
    {
     "name": "stderr",
     "output_type": "stream",
     "text": [
      "\u001b[1m\u001b[22m`geom_smooth()` using formula = 'y ~ x'\n"
     ]
    },
    {
     "name": "stderr",
     "output_type": "stream",
     "text": [
      "\u001b[1m\u001b[22m`geom_smooth()` using formula = 'y ~ x'\n"
     ]
    },
    {
     "data": {
      "image/png": "[encoded data removed]",
      "text/plain": [
       "plot without title"
      ]
     },
     "metadata": {
      "image/png": {
       "height": 420,
       "width": 420
      }
     },
     "output_type": "display_data"
    }
   ],
   "source": [
    "library(ggplot2)\n",
    "library(dplyr)\n",
    "\n",
    "# Use the same data from our example\n",
    "set.seed(42)\n",
    "N <- 100\n",
    "ancestry <- rbinom(N, 1, 0.5)\n",
    "variant1 <- ifelse(ancestry == 0, \n",
    "                  rbinom(sum(ancestry == 0), 2, 0.2),\n",
    "                  rbinom(sum(ancestry == 1), 2, 0.8))\n",
    "baseline_risk <- ifelse(ancestry == 0, 0.8, 0.1)\n",
    "genetic_effect <- 0.1 * variant1\n",
    "disease_prob <- baseline_risk + genetic_effect\n",
    "disease <- rbinom(N, 1, pmin(disease_prob, 1))\n",
    "\n",
    "# Create data frame with proper labels\n",
    "plot_data <- data.frame(\n",
    "  variant = variant1,\n",
    "  disease = disease,\n",
    "  ancestry = factor(ancestry, levels = c(0, 1), labels = c(\"Population A\", \"Population B\"))\n",
    ")\n",
    "\n",
    "# Calculate summary statistics for each group\n",
    "summary_stats <- plot_data %>%\n",
    "  group_by(ancestry, variant) %>%\n",
    "  summarise(\n",
    "    disease_rate = mean(disease),\n",
    "    n = n(),\n",
    "    .groups = 'drop'\n",
    "  )\n",
    "\n",
    "# Create the plot\n",
    "p <- ggplot(summary_stats, aes(x = variant, y = disease_rate)) +\n",
    "  # Points for each ancestry group\n",
    "  geom_point(aes(color = ancestry, size = n), alpha = 0.8) +\n",
    "  geom_line(aes(color = ancestry, group = ancestry), linewidth = 1.2) +\n",
    "  \n",
    "  # Overall trend line (ignoring ancestry)\n",
    "  geom_smooth(data = plot_data, aes(x = variant, y = disease), \n",
    "              method = \"glm\", method.args = list(family = \"binomial\"),\n",
    "              se = TRUE, color = \"black\", linetype = \"dashed\", linewidth = 1.5) +\n",
    "  \n",
    "  scale_color_manual(values = c(\"Population A\" = \"#E31A1C\", \"Population B\" = \"#1F78B4\")) +\n",
    "  scale_size_continuous(range = c(3, 8), guide = \"none\") +\n",
    "  \n",
    "  labs(\n",
    "    x = \"Genetic Variant (Number of Risk Alleles)\",\n",
    "    y = \"Disease Rate\",\n",
    "    color = \"Population\"\n",
    "      ) +\n",
    "  \n",
    "  theme_minimal() +\n",
    "  theme(\n",
    "    text = element_text(size = 14, face = \"bold\"),\n",
    "    plot.title = element_blank(),\n",
    "    axis.text = element_text(size = 14, face = \"bold\"),\n",
    "    axis.title = element_text(size = 16, face = \"bold\"),\n",
    "    legend.text = element_text(size = 14, face = \"bold\"),\n",
    "    legend.position = \"bottom\",  # Position legend at the bottom\n",
    "    panel.grid.major = element_line(color = \"gray\", linetype = \"dotted\"),\n",
    "    panel.grid.minor = element_blank(),\n",
    "    axis.line = element_line(linewidth = 1),\n",
    "    axis.ticks = element_line(size = 1),\n",
    "    # Add transparent backgrounds\n",
    "    panel.background = element_rect(fill = \"transparent\", color = NA),\n",
    "    plot.background = element_rect(fill = \"transparent\", color = NA)\n",
    "  ) \n",
    "# Display the plot\n",
    "print(p)\n",
    "\n",
    "# Save with transparent background\n",
    "ggsave(\"./cartoons/marginal_joint_effects.png\", plot = p, \n",
    "       width = 8, height = 8, \n",
    "       bg = \"transparent\", \n",
    "       dpi = 300)"
   ]
  },
  {
   "cell_type": "code",
   "execution_count": null,
   "id": "de68335b",
   "metadata": {
    "vscode": {
     "languageId": "r"
    }
   },
   "outputs": [],
   "source": []
  }
 ],
 "metadata": {
  "kernelspec": {
   "display_name": "R",
   "language": "R",
   "name": "ir"
  },
  "language_info": {
   "codemirror_mode": "r",
   "file_extension": ".r",
   "mimetype": "text/x-r-source",
   "name": "R",
   "pygments_lexer": "r",
   "version": "4.3.3"
  },
  "toc-autonumbering": true
 },
 "nbformat": 4,
 "nbformat_minor": 5
}
