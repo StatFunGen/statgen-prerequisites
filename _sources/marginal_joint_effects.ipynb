{
 "cells": [
  {
   "cell_type": "markdown",
   "id": "5911ec54",
   "metadata": {},
   "source": [
    "# Marginal and Joint Effects\n",
    "\n",
    "Marginal effects measure a genetic variant's influence on a trait when considered **alone, ignoring other variants**, while joint effects measure each variant's independent contribution when all variants are **simultaneously included** in the model, revealing their true effects after **accounting for correlations (LD) between them**."
   ]
  },
  {
   "cell_type": "markdown",
   "id": "2dee63ed",
   "metadata": {},
   "source": [
    "# Graphical Summary"
   ]
  },
  {
   "cell_type": "markdown",
   "id": "957c6e9a",
   "metadata": {},
   "source": [
    "![Fig](./graphical_summary/slides/Slide9.png)"
   ]
  },
  {
   "cell_type": "markdown",
   "id": "7bff55ce",
   "metadata": {},
   "source": [
    "# Key Formula\n",
    "\n",
    "In multiple markers linear regression, we extend the single marker model to incorporate multiple genetic variants:\n",
    "\n",
    "$$\n",
    "\\mathbf{Y} = \\mathbf{X} \\boldsymbol{\\beta} + \\boldsymbol{\\epsilon}\n",
    "$$\n",
    "\n",
    "Where:\n",
    "- $\\mathbf{Y}$ is the $N \\times 1$ vector of trait values for $N$ individuals\n",
    "- $\\mathbf{X}$ is the $N \\times M$ matrix of genotypes for $M$ variants across $N$ individuals\n",
    "- $\\boldsymbol{\\beta}$ is the $M \\times 1$ vector of effect sizes for each variant (to be estimated)\n",
    "- $\\boldsymbol{\\epsilon}$ is the $N \\times 1$ vector of error terms for $N$ individuals and $\\boldsymbol{\\epsilon} \\sim N(0, \\sigma^2\\mathbf{I})$\n",
    "\n",
    "We can still use **ordinary least squares (OLS)** to derive the estimators for $\\boldsymbol{\\beta}$ in matrix form:\n",
    "\n",
    "$$\n",
    "\\hat{\\boldsymbol{\\beta}}_{\\text{OLS}} = (\\mathbf{X}^T\\mathbf{X})^{-1}\\mathbf{X}^T\\mathbf{Y}\n",
    "$$\n"
   ]
  },
  {
   "cell_type": "markdown",
   "id": "75142eec",
   "metadata": {},
   "source": [
    "# Technical Details\n",
    "\n",
    "## Marginal Effect\n",
    "In [OLS](https://gaow.github.io/statgen-prerequisites/ordinary_least_squares.html), we discuss the single marker linear regression, which actually estimates the marginal effect of each genetic variant, considering each variant can be treated independently.\n",
    "\n",
    "The marginal effect of a genetic variant is its association with the trait when analyzed in isolation, without accounting for other variants:\n",
    "\n",
    "$$\n",
    "\\hat{\\beta}_{\\text{marginal},j} = (\\mathbf{X}_j^T\\mathbf{X}_j)^{-1}\\mathbf{X}_j^T\\mathbf{Y}\n",
    "$$\n",
    "\n",
    "Where $\\mathbf{X}_j$ is the column vector for the $j$-th variant.\n",
    "\n",
    "## Joint Effect\n",
    "The joint effect of a genetic variant is its association with the trait when **analyzed simultaneously with other variants**, i.e., in the multiple markers model:\n",
    "\n",
    "$$\n",
    "\\hat{\\boldsymbol{\\beta}}_{\\text{joint}} = (\\mathbf{X}^T\\mathbf{X})^{-1}\\mathbf{X}^T\\mathbf{Y}\n",
    "$$\n",
    "\n",
    "Where $\\hat{\\beta}_{\\text{joint},j}$ (the $j$-th element of $\\hat{\\boldsymbol{\\beta}}_{\\text{joint}}$) represents the effect of the $j$-th variant after accounting for all other variants in the model.\n",
    "\n",
    "## Key Differences Between Marginal and Joint Effects\n",
    "\n",
    "- **Correlation Structure**: \n",
    "   - Marginal effects ignore correlations (linkage disequilibrium) between variants\n",
    "   - Joint effects account for correlations between variants\n",
    "\n",
    "- **Interpretation**:\n",
    "   - Marginal effect: The expected change in the trait associated with a unit change in the variant, not accounting for other variants\n",
    "   - Joint effect: The expected change in the trait associated with a unit change in the variant, holding all other variants constant\n",
    "\n",
    "- **Consistency**:\n",
    "   - When variants are uncorrelated, marginal and joint effects are identical\n",
    "   - When variants are correlated, marginal and joint effects will differ\n",
    "   - Joint effects can be smaller or larger than marginal effects, or even have opposite signs"
   ]
  },
  {
   "cell_type": "markdown",
   "id": "ee2213a3",
   "metadata": {},
   "source": [
    "# Example"
   ]
  },
  {
   "cell_type": "markdown",
   "id": "a25e7146",
   "metadata": {},
   "source": [
    "This example demonstrates how marginal effects (conventional GWAS-style single-SNP analysis) can differ from joint effects (multiple regression with all SNPs). We'll create a scenario where all variants appear significant in marginal analysis due to linkage disequilibrium, but only the true causal variant remains significant in joint analysis.\n"
   ]
  },
  {
   "cell_type": "markdown",
   "id": "f766b7ef",
   "metadata": {},
   "source": [
    "Related topics:\n",
    "- [OLS](https://gaow.github.io/statgen-prerequisites/ordinary_least_squares.html)\n",
    "- [LD](https://gaow.github.io/statgen-prerequisites/linkage_disequilibrium.html)"
   ]
  },
  {
   "cell_type": "code",
   "execution_count": 35,
   "id": "e5197ed2",
   "metadata": {
    "vscode": {
     "languageId": "r"
    }
   },
   "outputs": [],
   "source": [
    "# Clear the environment\n",
    "rm(list = ls())\n",
    "set.seed(9)  # For reproducibility\n",
    "\n",
    "# Define genotypes for 10 individuals at 3 variants\n",
    "# Create correlated genotypes to simulate linkage disequilibrium\n",
    "N = 20\n",
    "M = 3\n",
    "\n",
    "# Generate correlated genotype data\n",
    "# Variant 1 is the true causal variant\n",
    "# Variants 2 and 3 are in LD with variant 1\n",
    "variant1 <- sample(0:2, N, replace = TRUE, prob = c(0.4, 0.4, 0.2))\n",
    "\n",
    "# Create LD: variants 2 and 3 are correlated with variant 1\n",
    "variant2 <- ifelse(runif(N) < 0.9, variant1, sample(0:2, N, replace = TRUE))\n",
    "variant3 <- ifelse(runif(N) < 0.8, variant1, sample(0:2, N, replace = TRUE))\n",
    "\n",
    "# Combine into matrix\n",
    "Xraw_additive <- cbind(variant1, variant2, variant3)\n",
    "rownames(Xraw_additive) <- paste(\"Individual\", 1:N)\n",
    "colnames(Xraw_additive) <- paste(\"Variant\", 1:M)\n",
    "\n",
    "# Standardize genotypes\n",
    "X <- scale(Xraw_additive, center = TRUE, scale = TRUE)\n",
    "\n",
    "# Generate phenotype where only Variant 1 has a true causal effect\n",
    "true_beta1 <- 1.5  # Strong effect for variant 1\n",
    "epsilon <- rnorm(N, mean = 0, sd = 0.5)\n",
    "Y_raw <- X[, 1] * true_beta1 + epsilon  # Only variant 1 affects the trait\n",
    "\n",
    "# Standardize phenotype\n",
    "Y <- scale(Y_raw)"
   ]
  },
  {
   "cell_type": "markdown",
   "id": "3bb59be5",
   "metadata": {},
   "source": [
    "We first recall how we calculate the marginal effect of each variant in [OLS](https://gaow.github.io/statgen-prerequisites/ordinary_least_squares.html):"
   ]
  },
  {
   "cell_type": "code",
   "execution_count": 36,
   "id": "49ab4e70",
   "metadata": {
    "vscode": {
     "languageId": "r"
    }
   },
   "outputs": [],
   "source": [
    "# Calculate marginal effects (one SNP at a time)\n",
    "p_values <- numeric(M)  # Store p-values\n",
    "betas <- numeric(M)     # Store estimated effect sizes\n",
    "\n",
    "for (j in 1:M) {\n",
    "  SNP <- X[, j]  # Extract genotype for SNP j\n",
    "  model <- lm(Y ~ SNP)  # OLS regression: Trait ~ SNP\n",
    "  summary_model <- summary(model)\n",
    "  \n",
    "  # Store p-value and effect size (coefficient)\n",
    "  p_values[j] <- summary_model$coefficients[2, 4]  # p-value for SNP effect\n",
    "  betas[j] <- summary_model$coefficients[2, 1]     # Estimated beta coefficient\n",
    "}\n",
    "\n",
    "marginal_OLS_results <- data.frame(\n",
    "  Variant = colnames(X), \n",
    "  Beta = round(betas, 4), \n",
    "  P_Value = round(p_values, 4),\n",
    "  Significant = p_values < 0.05\n",
    ")\n"
   ]
  },
  {
   "cell_type": "markdown",
   "id": "d411603b",
   "metadata": {},
   "source": [
    "Now let's calculate the joint effects by including all variants in one model:"
   ]
  },
  {
   "cell_type": "code",
   "execution_count": 38,
   "id": "4bf10867",
   "metadata": {
    "vscode": {
     "languageId": "r"
    }
   },
   "outputs": [],
   "source": [
    "# Multiple regression model including all variants simultaneously\n",
    "joint_model <- lm(Y ~ X)\n",
    "joint_summary <- summary(joint_model)\n",
    "\n",
    "# Extract the joint effect coefficients and p-values\n",
    "# Skip the intercept (first row)\n",
    "joint_betas <- joint_summary$coefficients[2:(M+1), 1]\n",
    "joint_p_values <- joint_summary$coefficients[2:(M+1), 4]\n",
    "\n",
    "# Create results table for joint effects\n",
    "joint_OLS_results <- data.frame(\n",
    "  Variant = colnames(X),\n",
    "  Beta = round(joint_betas, 4),\n",
    "  P_Value = round(joint_p_values, 4),\n",
    "  Significant = joint_p_values < 0.05\n",
    ")\n"
   ]
  },
  {
   "cell_type": "code",
   "execution_count": 39,
   "id": "68714bd3",
   "metadata": {
    "vscode": {
     "languageId": "r"
    }
   },
   "outputs": [
    {
     "name": "stdout",
     "output_type": "stream",
     "text": [
      "[1] \"Marginal Effect:\"\n"
     ]
    },
    {
     "data": {
      "text/html": [
       "<table class=\"dataframe\">\n",
       "<caption>A data.frame: 3 x 4</caption>\n",
       "<thead>\n",
       "\t<tr><th scope=col>Variant</th><th scope=col>Beta</th><th scope=col>P_Value</th><th scope=col>Significant</th></tr>\n",
       "\t<tr><th scope=col>&lt;chr&gt;</th><th scope=col>&lt;dbl&gt;</th><th scope=col>&lt;dbl&gt;</th><th scope=col>&lt;lgl&gt;</th></tr>\n",
       "</thead>\n",
       "<tbody>\n",
       "\t<tr><td>Variant 1</td><td>0.9416</td><td>0.0000</td><td>TRUE</td></tr>\n",
       "\t<tr><td>Variant 2</td><td>0.4997</td><td>0.0249</td><td>TRUE</td></tr>\n",
       "\t<tr><td>Variant 3</td><td>0.8226</td><td>0.0000</td><td>TRUE</td></tr>\n",
       "</tbody>\n",
       "</table>\n"
      ],
      "text/latex": [
       "A data.frame: 3 x 4\n",
       "\\begin{tabular}{llll}\n",
       " Variant & Beta & P\\_Value & Significant\\\\\n",
       " <chr> & <dbl> & <dbl> & <lgl>\\\\\n",
       "\\hline\n",
       "\t Variant 1 & 0.9416 & 0.0000 & TRUE\\\\\n",
       "\t Variant 2 & 0.4997 & 0.0249 & TRUE\\\\\n",
       "\t Variant 3 & 0.8226 & 0.0000 & TRUE\\\\\n",
       "\\end{tabular}\n"
      ],
      "text/markdown": [
       "\n",
       "A data.frame: 3 x 4\n",
       "\n",
       "| Variant &lt;chr&gt; | Beta &lt;dbl&gt; | P_Value &lt;dbl&gt; | Significant &lt;lgl&gt; |\n",
       "|---|---|---|---|\n",
       "| Variant 1 | 0.9416 | 0.0000 | TRUE |\n",
       "| Variant 2 | 0.4997 | 0.0249 | TRUE |\n",
       "| Variant 3 | 0.8226 | 0.0000 | TRUE |\n",
       "\n"
      ],
      "text/plain": [
       "  Variant   Beta   P_Value Significant\n",
       "1 Variant 1 0.9416 0.0000  TRUE       \n",
       "2 Variant 2 0.4997 0.0249  TRUE       \n",
       "3 Variant 3 0.8226 0.0000  TRUE       "
      ]
     },
     "metadata": {},
     "output_type": "display_data"
    },
    {
     "name": "stdout",
     "output_type": "stream",
     "text": [
      "[1] \"Joint Effect:\"\n"
     ]
    },
    {
     "data": {
      "text/html": [
       "<table class=\"dataframe\">\n",
       "<caption>A data.frame: 3 x 4</caption>\n",
       "<thead>\n",
       "\t<tr><th></th><th scope=col>Variant</th><th scope=col>Beta</th><th scope=col>P_Value</th><th scope=col>Significant</th></tr>\n",
       "\t<tr><th></th><th scope=col>&lt;chr&gt;</th><th scope=col>&lt;dbl&gt;</th><th scope=col>&lt;dbl&gt;</th><th scope=col>&lt;lgl&gt;</th></tr>\n",
       "</thead>\n",
       "<tbody>\n",
       "\t<tr><th scope=row>XVariant 1</th><td>Variant 1</td><td> 1.0253</td><td>0.0001</td><td> TRUE</td></tr>\n",
       "\t<tr><th scope=row>XVariant 2</th><td>Variant 2</td><td> 0.0757</td><td>0.4226</td><td>FALSE</td></tr>\n",
       "\t<tr><th scope=row>XVariant 3</th><td>Variant 3</td><td>-0.1323</td><td>0.4886</td><td>FALSE</td></tr>\n",
       "</tbody>\n",
       "</table>\n"
      ],
      "text/latex": [
       "A data.frame: 3 x 4\n",
       "\\begin{tabular}{r|llll}\n",
       "  & Variant & Beta & P\\_Value & Significant\\\\\n",
       "  & <chr> & <dbl> & <dbl> & <lgl>\\\\\n",
       "\\hline\n",
       "\tXVariant 1 & Variant 1 &  1.0253 & 0.0001 &  TRUE\\\\\n",
       "\tXVariant 2 & Variant 2 &  0.0757 & 0.4226 & FALSE\\\\\n",
       "\tXVariant 3 & Variant 3 & -0.1323 & 0.4886 & FALSE\\\\\n",
       "\\end{tabular}\n"
      ],
      "text/markdown": [
       "\n",
       "A data.frame: 3 x 4\n",
       "\n",
       "| <!--/--> | Variant &lt;chr&gt; | Beta &lt;dbl&gt; | P_Value &lt;dbl&gt; | Significant &lt;lgl&gt; |\n",
       "|---|---|---|---|---|\n",
       "| XVariant 1 | Variant 1 |  1.0253 | 0.0001 |  TRUE |\n",
       "| XVariant 2 | Variant 2 |  0.0757 | 0.4226 | FALSE |\n",
       "| XVariant 3 | Variant 3 | -0.1323 | 0.4886 | FALSE |\n",
       "\n"
      ],
      "text/plain": [
       "           Variant   Beta    P_Value Significant\n",
       "XVariant 1 Variant 1  1.0253 0.0001   TRUE      \n",
       "XVariant 2 Variant 2  0.0757 0.4226  FALSE      \n",
       "XVariant 3 Variant 3 -0.1323 0.4886  FALSE      "
      ]
     },
     "metadata": {},
     "output_type": "display_data"
    }
   ],
   "source": [
    "print(\"Marginal Effect:\")\n",
    "marginal_OLS_results\n",
    "print(\"Joint Effect:\")\n",
    "joint_OLS_results"
   ]
  },
  {
   "cell_type": "code",
   "execution_count": null,
   "id": "757a4bf3",
   "metadata": {
    "vscode": {
     "languageId": "r"
    }
   },
   "outputs": [],
   "source": []
  }
 ],
 "metadata": {
  "kernelspec": {
   "display_name": "R",
   "language": "R",
   "name": "ir"
  },
  "language_info": {
   "codemirror_mode": "r",
   "file_extension": ".r",
   "mimetype": "text/x-r-source",
   "name": "R",
   "pygments_lexer": "r",
   "version": "4.3.3"
  },
  "toc-autonumbering": true
 },
 "nbformat": 4,
 "nbformat_minor": 5
}
