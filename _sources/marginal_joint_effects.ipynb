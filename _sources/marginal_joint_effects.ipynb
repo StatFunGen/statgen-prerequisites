{
 "cells": [
  {
   "cell_type": "markdown",
   "id": "5911ec54",
   "metadata": {},
   "source": [
    "# Intuitional Description\n",
    "\n",
    "Marginal effects measure a genetic variant's influence on a trait when considered **alone, ignoring other variants**, while joint effects measure each variant's independent contribution when all variants are **simultaneously included** in the model, revealing their true effects after **accounting for correlations (LD) between them**."
   ]
  },
  {
   "cell_type": "markdown",
   "id": "2dee63ed",
   "metadata": {},
   "source": [
    "# Graphical Summary"
   ]
  },
  {
   "cell_type": "markdown",
   "id": "957c6e9a",
   "metadata": {},
   "source": [
    "![marginal_joint_effects](./cartoons/marginal_joint_effects.svg)"
   ]
  },
  {
   "cell_type": "markdown",
   "id": "7bff55ce",
   "metadata": {},
   "source": [
    "# Key Formula\n",
    "\n",
    "In multiple marker linear regression, we extend the single marker model to incorporate multiple genetic variants:\n",
    "\n",
    "$$\n",
    "\\mathbf{Y} = \\mathbf{X} \\boldsymbol{\\beta} + \\boldsymbol{\\epsilon}\n",
    "$$\n",
    "\n",
    "Where:\n",
    "- $\\mathbf{Y}$ is the $N \\times 1$ vector of trait values for $N$ individuals\n",
    "- $\\mathbf{X}$ is the $N \\times M$ matrix of genotypes for $M$ variants across $N$ individuals\n",
    "- $\\boldsymbol{\\beta}$ is the $M \\times 1$ vector of effect sizes for each variant (to be estimated)\n",
    "- $\\boldsymbol{\\epsilon}$ is the $N \\times 1$ vector of error terms for $N$ individuals and $\\boldsymbol{\\epsilon} \\sim N(0, \\sigma^2\\mathbf{I})$\n",
    "\n",
    "Using **ordinary least squares (OLS)**, we can derive the estimators for $\\boldsymbol{\\beta}$ in matrix form:\n",
    "\n",
    "$$\n",
    "\\hat{\\boldsymbol{\\beta}}_{\\text{OLS}} = (\\mathbf{X}^T\\mathbf{X})^{-1}\\mathbf{X}^T\\mathbf{Y}\n",
    "$$\n"
   ]
  },
  {
   "cell_type": "markdown",
   "id": "75142eec",
   "metadata": {},
   "source": [
    "# Technical Details\n",
    "\n",
    "## Marginal Effect\n",
    "In the section about OLS, we discuss the single marker linear regression, which estimates the marginal effect of each X.\n",
    "\n",
    "The marginal effect of a genetic variant is its association with the trait when analyzed in isolation, without accounting for other variants:\n",
    "\n",
    "$$\n",
    "\\hat{\\beta}_{\\text{marginal},j} = (\\mathbf{X}_j^T\\mathbf{X}_j)^{-1}\\mathbf{X}_j^T\\mathbf{Y}\n",
    "$$\n",
    "\n",
    "Where $\\mathbf{X}_j$ is the column vector for the $j$-th variant.\n",
    "\n",
    "## Joint Effect\n",
    "The joint effect of a genetic variant is its association with the trait when analyzed simultaneously with other variants, i.e., in the multiple marker model:\n",
    "\n",
    "$$\n",
    "\\hat{\\boldsymbol{\\beta}}_{\\text{joint}} = (\\mathbf{X}^T\\mathbf{X})^{-1}\\mathbf{X}^T\\mathbf{Y}\n",
    "$$\n",
    "\n",
    "Where $\\hat{\\beta}_{\\text{joint},j}$ (the $j$-th element of $\\hat{\\boldsymbol{\\beta}}_{\\text{joint}}$) represents the effect of the $j$-th variant after accounting for all other variants in the model.\n",
    "\n",
    "## Key Differences Between Marginal and Joint Effects\n",
    "\n",
    "1. **Correlation Structure**: \n",
    "   - Marginal effects ignore correlations (linkage disequilibrium) between variants\n",
    "   - Joint effects account for correlations between variants\n",
    "\n",
    "2. **Interpretation**:\n",
    "   - Marginal effect: The expected change in the trait associated with a unit change in the variant, not accounting for other variants\n",
    "   - Joint effect: The expected change in the trait associated with a unit change in the variant, holding all other variants constant\n",
    "\n",
    "3. **Consistency**:\n",
    "   - When variants are uncorrelated, marginal and joint effects are identical\n",
    "   - When variants are correlated, marginal and joint effects will differ\n",
    "   - Joint effects can be smaller or larger than marginal effects, or even have opposite signs"
   ]
  },
  {
   "cell_type": "markdown",
   "id": "ee2213a3",
   "metadata": {},
   "source": [
    "# Example"
   ]
  },
  {
   "cell_type": "markdown",
   "id": "575c80b1",
   "metadata": {},
   "source": [
    "In this example we demonstrate a basic genetic association analysis for height across 5 individuals with 3 genetic variants. \n",
    "\n",
    "Following the similar framework of simulating the genotype data and standardization, we further assign the phenotype (height) to each individual and standardize the trait value as well. Then we perform single-marker linear regression for each genetic variant using both the `lm` function and the explicit formula we obtained abouve to estimate the OLS effect size. "
   ]
  },
  {
   "cell_type": "code",
   "execution_count": 13,
   "id": "e5197ed2",
   "metadata": {
    "vscode": {
     "languageId": "r"
    }
   },
   "outputs": [],
   "source": [
    "# Clear the environment\n",
    "rm(list = ls())\n",
    "\n",
    "# Define genotypes for 5 individuals at 3 variants\n",
    "# These represent actual alleles at each position\n",
    "# For example, Individual 1 has genotypes: CC, CT, AT\n",
    "genotypes <- c(\n",
    " \"CC\", \"CT\", \"AT\",  # Individual 1\n",
    " \"TT\", \"TT\", \"AA\",  # Individual 2\n",
    " \"CT\", \"CT\", \"AA\",  # Individual 3\n",
    " \"CC\", \"TT\", \"AA\",  # Individual 4\n",
    " \"CC\", \"CC\", \"TT\"   # Individual 5\n",
    ")\n",
    "# Reshape into a matrix\n",
    "N = 5 # number of individuals\n",
    "M = 3 # number of variants\n",
    "geno_matrix <- matrix(genotypes, nrow=N, ncol=M, byrow=TRUE)\n",
    "rownames(geno_matrix) <- paste(\"Individual\", 1:N)\n",
    "colnames(geno_matrix) <- paste(\"Variant\", 1:M)\n",
    "\n",
    "alt_alleles <- c(\"T\", \"C\", \"T\")\n",
    "\n",
    "# Convert to raw genotype matrix using the additive / dominant / recessive model\n",
    "Xraw_additive <- matrix(0, nrow=N, ncol=M) # dount number of non-reference alleles\n",
    "\n",
    "rownames(Xraw_additive) <- rownames(geno_matrix)\n",
    "colnames(Xraw_additive) <- colnames(geno_matrix)\n",
    "\n",
    "for (i in 1:N) {\n",
    "  for (j in 1:M) {\n",
    "    alleles <- strsplit(geno_matrix[i,j], \"\")[[1]]\n",
    "    Xraw_additive[i,j] <- sum(alleles == alt_alleles[j])\n",
    "  }\n",
    "}\n",
    "X <- scale(Xraw_additive, center=TRUE, scale=TRUE)"
   ]
  },
  {
   "cell_type": "code",
   "execution_count": 14,
   "id": "9273d164",
   "metadata": {
    "vscode": {
     "languageId": "r"
    }
   },
   "outputs": [],
   "source": [
    "# assign observed height for the 5 individuals\n",
    "Y_raw <- c(180, 160, 158, 155, 193)\n",
    "Y <- scale(Y_raw)"
   ]
  },
  {
   "cell_type": "code",
   "execution_count": 15,
   "id": "49ab4e70",
   "metadata": {
    "vscode": {
     "languageId": "r"
    }
   },
   "outputs": [],
   "source": [
    "# Perform GWAS-style analysis: Test each SNP independently using OLS\n",
    "p_values <- numeric(M)  # Store p-values\n",
    "betas <- numeric(M)     # Store estimated effect sizes\n",
    "\n",
    "for (j in 1:M) {\n",
    "  SNP <- X[, j]  # Extract genotype for SNP j\n",
    "  model <- lm(Y ~ SNP)  # OLS regression: Trait ~ SNP\n",
    "  summary_model <- summary(model)\n",
    "  \n",
    "  # Store p-value and effect size (coefficient)\n",
    "  p_values[j] <- summary_model$coefficients[2, 4]  # p-value for SNP effect\n",
    "  betas[j] <- summary_model$coefficients[2, 1]     # Estimated beta coefficient\n",
    "}\n",
    "# Create results table\n",
    "marginal_OLS_results <- data.frame(\n",
    "  Variant = colnames(X), \n",
    "  Beta = betas, \n",
    "  P_Value = p_values)\n"
   ]
  },
  {
   "cell_type": "code",
   "execution_count": 19,
   "id": "4bf10867",
   "metadata": {
    "vscode": {
     "languageId": "r"
    }
   },
   "outputs": [],
   "source": [
    "# The previous code calculated marginal effects (GWAS-style, one SNP at a time)\n",
    "# Now let's calculate joint effects by including all variants in one model\n",
    "\n",
    "# Multiple regression model including all variants simultaneously\n",
    "joint_model <- lm(Y ~ X)\n",
    "joint_summary <- summary(joint_model)\n",
    "\n",
    "# Extract the joint effect coefficients and p-values\n",
    "# Skip the intercept (first row)\n",
    "joint_betas <- joint_summary$coefficients[2:(M+1), 1]\n",
    "joint_p_values <- joint_summary$coefficients[2:(M+1), 4]\n",
    "\n",
    "# Create results table for joint effects\n",
    "joint_OLS_results <- data.frame(\n",
    "  Variant = colnames(X),\n",
    "  Beta = joint_betas,\n",
    "  P_Value = joint_p_values\n",
    ")\n",
    "rownames(joint_OLS_results) <- NULL "
   ]
  },
  {
   "cell_type": "code",
   "execution_count": 20,
   "id": "68714bd3",
   "metadata": {
    "vscode": {
     "languageId": "r"
    }
   },
   "outputs": [
    {
     "name": "stdout",
     "output_type": "stream",
     "text": [
      "[1] \"Single marker OLS Results:\"\n"
     ]
    },
    {
     "data": {
      "text/html": [
       "<table class=\"dataframe\">\n",
       "<caption>A data.frame: 3 x 3</caption>\n",
       "<thead>\n",
       "\t<tr><th scope=col>Variant</th><th scope=col>Beta</th><th scope=col>P_Value</th></tr>\n",
       "\t<tr><th scope=col>&lt;chr&gt;</th><th scope=col>&lt;dbl&gt;</th><th scope=col>&lt;dbl&gt;</th></tr>\n",
       "</thead>\n",
       "<tbody>\n",
       "\t<tr><td>Variant 1</td><td>-0.5000913</td><td>0.390901513</td></tr>\n",
       "\t<tr><td>Variant 2</td><td> 0.8525024</td><td>0.066475513</td></tr>\n",
       "\t<tr><td>Variant 3</td><td> 0.9866667</td><td>0.001844466</td></tr>\n",
       "</tbody>\n",
       "</table>\n"
      ],
      "text/latex": [
       "A data.frame: 3 x 3\n",
       "\\begin{tabular}{lll}\n",
       " Variant & Beta & P\\_Value\\\\\n",
       " <chr> & <dbl> & <dbl>\\\\\n",
       "\\hline\n",
       "\t Variant 1 & -0.5000913 & 0.390901513\\\\\n",
       "\t Variant 2 &  0.8525024 & 0.066475513\\\\\n",
       "\t Variant 3 &  0.9866667 & 0.001844466\\\\\n",
       "\\end{tabular}\n"
      ],
      "text/markdown": [
       "\n",
       "A data.frame: 3 x 3\n",
       "\n",
       "| Variant &lt;chr&gt; | Beta &lt;dbl&gt; | P_Value &lt;dbl&gt; |\n",
       "|---|---|---|\n",
       "| Variant 1 | -0.5000913 | 0.390901513 |\n",
       "| Variant 2 |  0.8525024 | 0.066475513 |\n",
       "| Variant 3 |  0.9866667 | 0.001844466 |\n",
       "\n"
      ],
      "text/plain": [
       "  Variant   Beta       P_Value    \n",
       "1 Variant 1 -0.5000913 0.390901513\n",
       "2 Variant 2  0.8525024 0.066475513\n",
       "3 Variant 3  0.9866667 0.001844466"
      ]
     },
     "metadata": {},
     "output_type": "display_data"
    },
    {
     "name": "stdout",
     "output_type": "stream",
     "text": [
      "[1] \"Multiple marker OLS Results:\"\n"
     ]
    },
    {
     "data": {
      "text/html": [
       "<table class=\"dataframe\">\n",
       "<caption>A data.frame: 3 x 3</caption>\n",
       "<thead>\n",
       "\t<tr><th scope=col>Variant</th><th scope=col>Beta</th><th scope=col>P_Value</th></tr>\n",
       "\t<tr><th scope=col>&lt;chr&gt;</th><th scope=col>&lt;dbl&gt;</th><th scope=col>&lt;dbl&gt;</th></tr>\n",
       "</thead>\n",
       "<tbody>\n",
       "\t<tr><td>Variant 1</td><td> 0.08109589</td><td>0.7296037</td></tr>\n",
       "\t<tr><td>Variant 2</td><td>-0.02528609</td><td>0.9463234</td></tr>\n",
       "\t<tr><td>Variant 3</td><td> 1.05424659</td><td>0.1875245</td></tr>\n",
       "</tbody>\n",
       "</table>\n"
      ],
      "text/latex": [
       "A data.frame: 3 x 3\n",
       "\\begin{tabular}{lll}\n",
       " Variant & Beta & P\\_Value\\\\\n",
       " <chr> & <dbl> & <dbl>\\\\\n",
       "\\hline\n",
       "\t Variant 1 &  0.08109589 & 0.7296037\\\\\n",
       "\t Variant 2 & -0.02528609 & 0.9463234\\\\\n",
       "\t Variant 3 &  1.05424659 & 0.1875245\\\\\n",
       "\\end{tabular}\n"
      ],
      "text/markdown": [
       "\n",
       "A data.frame: 3 x 3\n",
       "\n",
       "| Variant &lt;chr&gt; | Beta &lt;dbl&gt; | P_Value &lt;dbl&gt; |\n",
       "|---|---|---|\n",
       "| Variant 1 |  0.08109589 | 0.7296037 |\n",
       "| Variant 2 | -0.02528609 | 0.9463234 |\n",
       "| Variant 3 |  1.05424659 | 0.1875245 |\n",
       "\n"
      ],
      "text/plain": [
       "  Variant   Beta        P_Value  \n",
       "1 Variant 1  0.08109589 0.7296037\n",
       "2 Variant 2 -0.02528609 0.9463234\n",
       "3 Variant 3  1.05424659 0.1875245"
      ]
     },
     "metadata": {},
     "output_type": "display_data"
    }
   ],
   "source": [
    "print(\"Single marker OLS Results:\")\n",
    "marginal_OLS_results\n",
    "print(\"Multiple marker OLS Results:\")\n",
    "joint_OLS_results"
   ]
  },
  {
   "cell_type": "code",
   "execution_count": null,
   "id": "757a4bf3",
   "metadata": {
    "vscode": {
     "languageId": "r"
    }
   },
   "outputs": [],
   "source": []
  }
 ],
 "metadata": {
  "kernelspec": {
   "display_name": "R",
   "language": "R",
   "name": "ir"
  },
  "language_info": {
   "codemirror_mode": "r",
   "file_extension": ".r",
   "mimetype": "text/x-r-source",
   "name": "R",
   "pygments_lexer": "r",
   "version": "4.3.3"
  },
  "toc-autonumbering": true
 },
 "nbformat": 4,
 "nbformat_minor": 5
}
