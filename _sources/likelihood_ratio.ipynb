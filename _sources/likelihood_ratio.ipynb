{
 "cells": [
  {
   "cell_type": "markdown",
   "id": "fded22e2",
   "metadata": {},
   "source": [
    "# Likelihood Ratio\n",
    "\n",
    "The likelihood ratio quantifies **how much more probable our observed data** is under one model compared to another, providing a natural way to choose between competing explanations of the data."
   ]
  },
  {
   "cell_type": "markdown",
   "id": "0cbce51f",
   "metadata": {},
   "source": [
    "# Graphical Summary"
   ]
  },
  {
   "cell_type": "markdown",
   "id": "d9bd2642",
   "metadata": {},
   "source": [
    "![Fig](./graphical_summary/slides/Slide21.png)"
   ]
  },
  {
   "cell_type": "markdown",
   "id": "c43a7ae6",
   "metadata": {},
   "source": [
    "# Key Formula\n",
    "\n",
    "The likelihood ratio between Model 1 and Model 2 is:\n",
    "\n",
    "$$\n",
    "\\text{LR} = \\frac{\\mathcal{L}(\\text{M}_1 \\mid \\text{D})}{\\mathcal{L}(\\text{M}_2 \\mid \\text{D})}\n",
    "$$\n",
    "\n",
    "Where:\n",
    "- $\\text{LR}$ is the likelihood ratio\n",
    "- $\\mathcal{L}(\\text{M}_1 \\mid \\text{D})$ is the likelihood function for Model 1 given data D\n",
    "- $\\mathcal{L}(\\text{M}_2 \\mid \\text{D})$ is the likelihood function for Model 2 given data D\n",
    "- $\\text{D}$ represents the observed data\n"
   ]
  },
  {
   "cell_type": "markdown",
   "id": "1a9f52d7",
   "metadata": {},
   "source": [
    "# Technical Details\n",
    "\n",
    "## Basic Interpretation\n",
    "For the likelihood ratio (LR):\n",
    "- $\\text{LR} > 1$: Model 1 better explains the data (higher likelihood)\n",
    "- $\\text{LR} < 1$: Model 2 better explains the data (higher likelihood)  \n",
    "- $\\text{LR} = 1$: Both models explain the data equally well\n",
    "\n",
    "The likelihood ratio quantifies the relative evidence for one model compared to another, providing a direct way to compare competing hypotheses based on the observed data.\n",
    "\n",
    "## Properties\n",
    "- The likelihood ratio is always non-negative: $\\text{LR} \\geq 0$\n",
    "- Can be used to compare any two models\n",
    "- Forms the basis for many statistical tests and model selection criteria\n",
    "- In genetics, commonly used for testing association between variants and traits"
   ]
  },
  {
   "cell_type": "markdown",
   "id": "4d2607d8",
   "metadata": {},
   "source": [
    "# Example"
   ]
  },
  {
   "cell_type": "markdown",
   "id": "8104f3e5-1ad7-439f-b085-12ef59a7fcec",
   "metadata": {},
   "source": [
    "This example demonstrates how to calculate likelihood ratios for genetic association analysis. We will use the same genotype and phenotype data from our likelihood example, then calculate likelihood ratios between different models to compare their relative support from the data.\n",
    "\n",
    "- Related topics:\n",
    "  - [OLS](https://gaow.github.io/statgen-prerequisites/ordinary_least_squares.html)\n",
    "  - [summary statistics](https://gaow.github.io/statgen-prerequisites/summary_statistics.html)\n",
    "  - [likelihood](https://gaow.github.io/statgen-prerequisites/likelihood.html)"
   ]
  },
  {
   "cell_type": "markdown",
   "id": "8ef677cf",
   "metadata": {},
   "source": [
    "Let's first generate the genotype data and trait values for 5 individuals.\n"
   ]
  },
  {
   "cell_type": "code",
   "execution_count": 17,
   "id": "959eaa84-0211-4758-9dc3-21a4c41d519c",
   "metadata": {
    "tags": [],
    "vscode": {
     "languageId": "r"
    }
   },
   "outputs": [],
   "source": [
    "# Clear the environment\n",
    "rm(list = ls())\n",
    "set.seed(19)  # For reproducibility\n",
    "\n",
    "# Generate genotype data for 5 individuals at 1 variant\n",
    "N <- 5\n",
    "genotypes <- c(\"CC\", \"CT\", \"TT\", \"CT\", \"CC\")  # Individual genotypes\n",
    "names(genotypes) <- paste(\"Individual\", 1:N)\n",
    "\n",
    "# Define alternative allele\n",
    "alt_allele <- \"T\"\n",
    "\n",
    "# Convert to additive genotype coding (count of alternative alleles)\n",
    "Xraw_additive <- numeric(N)\n",
    "for (i in 1:N) {\n",
    "  alleles <- strsplit(genotypes[i], \"\")[[1]]\n",
    "  Xraw_additive[i] <- sum(alleles == alt_allele)\n",
    "}\n",
    "names(Xraw_additive) <- names(genotypes)\n",
    "\n",
    "# Standardize genotypes\n",
    "X <- scale(Xraw_additive, center = TRUE, scale = TRUE)[,1]\n",
    "\n",
    "# Set true beta and generate phenotype data\n",
    "true_beta <- 0.4\n",
    "true_sd <- 1.0\n",
    "\n",
    "# Generate phenotype with true effect\n",
    "Y_true <- X * true_beta + rnorm(N, 0, true_sd)"
   ]
  },
  {
   "cell_type": "markdown",
   "id": "53ded9c0",
   "metadata": {},
   "source": [
    "Now, let's create two functions to compute the likelihood and log-likelihood under different models (in this case, different βs) for the effect of a genetic variant on the phenotype:\n"
   ]
  },
  {
   "cell_type": "code",
   "execution_count": 18,
   "id": "6790df65-7b16-41c6-958a-bf521f8d21d9",
   "metadata": {
    "tags": [],
    "vscode": {
     "languageId": "r"
    }
   },
   "outputs": [],
   "source": [
    "# Likelihood function for normal distribution\n",
    "likelihood <- function(beta, sd, X, Y) {\n",
    "  # Calculate expected values under the model\n",
    "  mu <- X * beta\n",
    "  \n",
    "  # Calculate likelihood (product of normal densities)\n",
    "  prod(dnorm(Y, mean = mu, sd = sd, log = FALSE))\n",
    "}\n",
    "\n",
    "# Log-likelihood function (more numerically stable)\n",
    "log_likelihood <- function(beta, sd, X, Y) {\n",
    "  # Calculate expected values under the model\n",
    "  mu <- X * beta\n",
    "  \n",
    "  # Calculate log-likelihood (sum of log normal densities)\n",
    "  sum(dnorm(Y, mean = mu, sd = sd, log = TRUE))\n",
    "}"
   ]
  },
  {
   "cell_type": "markdown",
   "id": "251c6d63",
   "metadata": {},
   "source": [
    "Now, let's apply this function to our three models:\n"
   ]
  },
  {
   "cell_type": "code",
   "execution_count": 19,
   "id": "29f21733",
   "metadata": {
    "vscode": {
     "languageId": "r"
    }
   },
   "outputs": [
    {
     "name": "stdout",
     "output_type": "stream",
     "text": [
      "[1] \"Likelihood and Log-Likelihood Results:\"\n"
     ]
    },
    {
     "data": {
      "text/html": [
       "<table class=\"dataframe\">\n",
       "<caption>A data.frame: 3 x 4</caption>\n",
       "<thead>\n",
       "\t<tr><th scope=col>Model</th><th scope=col>Beta</th><th scope=col>Likelihood</th><th scope=col>Log_Likelihood</th></tr>\n",
       "\t<tr><th scope=col>&lt;chr&gt;</th><th scope=col>&lt;dbl&gt;</th><th scope=col>&lt;dbl&gt;</th><th scope=col>&lt;dbl&gt;</th></tr>\n",
       "</thead>\n",
       "<tbody>\n",
       "\t<tr><td>Model 1 (beta = 0)  </td><td>0.0</td><td>0.0019210299</td><td>-6.254894</td></tr>\n",
       "\t<tr><td>Model 2 (beta = 0.5)</td><td>0.5</td><td>0.0021961524</td><td>-6.121048</td></tr>\n",
       "\t<tr><td>Model 3 (beta = 1)  </td><td>1.0</td><td>0.0009236263</td><td>-6.987203</td></tr>\n",
       "</tbody>\n",
       "</table>\n"
      ],
      "text/latex": [
       "A data.frame: 3 x 4\n",
       "\\begin{tabular}{llll}\n",
       " Model & Beta & Likelihood & Log\\_Likelihood\\\\\n",
       " <chr> & <dbl> & <dbl> & <dbl>\\\\\n",
       "\\hline\n",
       "\t Model 1 (beta = 0)   & 0.0 & 0.0019210299 & -6.254894\\\\\n",
       "\t Model 2 (beta = 0.5) & 0.5 & 0.0021961524 & -6.121048\\\\\n",
       "\t Model 3 (beta = 1)   & 1.0 & 0.0009236263 & -6.987203\\\\\n",
       "\\end{tabular}\n"
      ],
      "text/markdown": [
       "\n",
       "A data.frame: 3 x 4\n",
       "\n",
       "| Model &lt;chr&gt; | Beta &lt;dbl&gt; | Likelihood &lt;dbl&gt; | Log_Likelihood &lt;dbl&gt; |\n",
       "|---|---|---|---|\n",
       "| Model 1 (beta = 0)   | 0.0 | 0.0019210299 | -6.254894 |\n",
       "| Model 2 (beta = 0.5) | 0.5 | 0.0021961524 | -6.121048 |\n",
       "| Model 3 (beta = 1)   | 1.0 | 0.0009236263 | -6.987203 |\n",
       "\n"
      ],
      "text/plain": [
       "  Model                Beta Likelihood   Log_Likelihood\n",
       "1 Model 1 (beta = 0)   0.0  0.0019210299 -6.254894     \n",
       "2 Model 2 (beta = 0.5) 0.5  0.0021961524 -6.121048     \n",
       "3 Model 3 (beta = 1)   1.0  0.0009236263 -6.987203     "
      ]
     },
     "metadata": {},
     "output_type": "display_data"
    }
   ],
   "source": [
    "# Test three different models with different beta values\n",
    "beta_values <- c(0, 0.5, 1.0)  # Three different effect sizes to test\n",
    "model_names <- paste0(\"Model \", 1:3, \" (beta = \", beta_values, \")\")\n",
    "\n",
    "# Calculate likelihoods and log-likelihoods\n",
    "results <- data.frame(\n",
    "  Model = model_names,\n",
    "  Beta = beta_values,\n",
    "  Likelihood = numeric(3),\n",
    "  Log_Likelihood = numeric(3)\n",
    ")\n",
    "\n",
    "for (i in 1:3) {\n",
    "  results$Likelihood[i] <- likelihood(beta = beta_values[i], sd = true_sd, X = X, Y = Y_true)\n",
    "  results$Log_Likelihood[i] <- log_likelihood(beta = beta_values[i], sd = true_sd, X = X, Y = Y_true)\n",
    "}\n",
    "\n",
    "print(\"Likelihood and Log-Likelihood Results:\")\n",
    "results"
   ]
  },
  {
   "cell_type": "markdown",
   "id": "e66a4566-e311-4317-8aaa-9a092f348504",
   "metadata": {},
   "source": [
    "Now let's calculate the likelihood ratios between each pair of models:\n"
   ]
  },
  {
   "cell_type": "code",
   "execution_count": 20,
   "id": "08c102af-892a-4803-a26e-2c38f864874a",
   "metadata": {
    "tags": [],
    "vscode": {
     "languageId": "r"
    }
   },
   "outputs": [],
   "source": [
    "# Calculate all pairwise likelihood ratios\n",
    "model_pairs <- combn(1:3, 2)  # All combinations of 2 models from 3\n",
    "n_pairs <- ncol(model_pairs)\n",
    "\n",
    "lr_results <- data.frame(\n",
    "  Comparison = character(n_pairs),\n",
    "  Model_1 = character(n_pairs),\n",
    "  Model_2 = character(n_pairs),\n",
    "  LR = numeric(n_pairs),\n",
    "  Log_LR = numeric(n_pairs),\n",
    "  Interpretation = character(n_pairs),\n",
    "  stringsAsFactors = FALSE\n",
    ")\n",
    "\n",
    "for (i in 1:n_pairs) {\n",
    "  m1 <- model_pairs[1, i]  # First model index\n",
    "  m2 <- model_pairs[2, i]  # Second model index\n",
    "  \n",
    "  # Calculate likelihood ratio: L(M1|D) / L(M2|D)\n",
    "  lr_value <- results$Likelihood[m1] / results$Likelihood[m2]\n",
    "  log_lr_value <- results$Log_Likelihood[m1] - results$Log_Likelihood[m2]\n",
    "  \n",
    "  # Determine interpretation\n",
    "  if (lr_value > 1) {\n",
    "    interpretation <- paste(\"Model\", m1, \"better supported\")\n",
    "  } else if (lr_value < 1) {\n",
    "    interpretation <- paste(\"Model\", m2, \"better supported\")\n",
    "  } else {\n",
    "    interpretation <- \"Equal support\"\n",
    "  }\n",
    "  \n",
    "  # Store results\n",
    "  lr_results$Comparison[i] <- paste(\"Model\", m1, \"vs Model\", m2)\n",
    "  lr_results$Model_1[i] <- results$Model[m1]\n",
    "  lr_results$Model_2[i] <- results$Model[m2]\n",
    "  lr_results$LR[i] <- lr_value\n",
    "  lr_results$Log_LR[i] <- log_lr_value\n",
    "  lr_results$Interpretation[i] <- interpretation\n",
    "}"
   ]
  },
  {
   "cell_type": "markdown",
   "id": "e01f34bc",
   "metadata": {},
   "source": [
    "The results are:"
   ]
  },
  {
   "cell_type": "code",
   "execution_count": 21,
   "id": "4bfa8618",
   "metadata": {
    "vscode": {
     "languageId": "r"
    }
   },
   "outputs": [
    {
     "data": {
      "text/html": [
       "<table class=\"dataframe\">\n",
       "<caption>A data.frame: 3 x 6</caption>\n",
       "<thead>\n",
       "\t<tr><th scope=col>Comparison</th><th scope=col>Model_1</th><th scope=col>Model_2</th><th scope=col>LR</th><th scope=col>Log_LR</th><th scope=col>Interpretation</th></tr>\n",
       "\t<tr><th scope=col>&lt;chr&gt;</th><th scope=col>&lt;chr&gt;</th><th scope=col>&lt;chr&gt;</th><th scope=col>&lt;dbl&gt;</th><th scope=col>&lt;dbl&gt;</th><th scope=col>&lt;chr&gt;</th></tr>\n",
       "</thead>\n",
       "<tbody>\n",
       "\t<tr><td>Model 1 vs Model 2</td><td>Model 1 (beta = 0)  </td><td>Model 2 (beta = 0.5)</td><td>0.8747253</td><td>-0.1338454</td><td>Model 2 better supported</td></tr>\n",
       "\t<tr><td>Model 1 vs Model 3</td><td>Model 1 (beta = 0)  </td><td>Model 3 (beta = 1)  </td><td>2.0798778</td><td> 0.7323091</td><td>Model 1 better supported</td></tr>\n",
       "\t<tr><td>Model 2 vs Model 3</td><td>Model 2 (beta = 0.5)</td><td>Model 3 (beta = 1)  </td><td>2.3777498</td><td> 0.8661546</td><td>Model 2 better supported</td></tr>\n",
       "</tbody>\n",
       "</table>\n"
      ],
      "text/latex": [
       "A data.frame: 3 x 6\n",
       "\\begin{tabular}{llllll}\n",
       " Comparison & Model\\_1 & Model\\_2 & LR & Log\\_LR & Interpretation\\\\\n",
       " <chr> & <chr> & <chr> & <dbl> & <dbl> & <chr>\\\\\n",
       "\\hline\n",
       "\t Model 1 vs Model 2 & Model 1 (beta = 0)   & Model 2 (beta = 0.5) & 0.8747253 & -0.1338454 & Model 2 better supported\\\\\n",
       "\t Model 1 vs Model 3 & Model 1 (beta = 0)   & Model 3 (beta = 1)   & 2.0798778 &  0.7323091 & Model 1 better supported\\\\\n",
       "\t Model 2 vs Model 3 & Model 2 (beta = 0.5) & Model 3 (beta = 1)   & 2.3777498 &  0.8661546 & Model 2 better supported\\\\\n",
       "\\end{tabular}\n"
      ],
      "text/markdown": [
       "\n",
       "A data.frame: 3 x 6\n",
       "\n",
       "| Comparison &lt;chr&gt; | Model_1 &lt;chr&gt; | Model_2 &lt;chr&gt; | LR &lt;dbl&gt; | Log_LR &lt;dbl&gt; | Interpretation &lt;chr&gt; |\n",
       "|---|---|---|---|---|---|\n",
       "| Model 1 vs Model 2 | Model 1 (beta = 0)   | Model 2 (beta = 0.5) | 0.8747253 | -0.1338454 | Model 2 better supported |\n",
       "| Model 1 vs Model 3 | Model 1 (beta = 0)   | Model 3 (beta = 1)   | 2.0798778 |  0.7323091 | Model 1 better supported |\n",
       "| Model 2 vs Model 3 | Model 2 (beta = 0.5) | Model 3 (beta = 1)   | 2.3777498 |  0.8661546 | Model 2 better supported |\n",
       "\n"
      ],
      "text/plain": [
       "  Comparison         Model_1              Model_2              LR       \n",
       "1 Model 1 vs Model 2 Model 1 (beta = 0)   Model 2 (beta = 0.5) 0.8747253\n",
       "2 Model 1 vs Model 3 Model 1 (beta = 0)   Model 3 (beta = 1)   2.0798778\n",
       "3 Model 2 vs Model 3 Model 2 (beta = 0.5) Model 3 (beta = 1)   2.3777498\n",
       "  Log_LR     Interpretation          \n",
       "1 -0.1338454 Model 2 better supported\n",
       "2  0.7323091 Model 1 better supported\n",
       "3  0.8661546 Model 2 better supported"
      ]
     },
     "metadata": {},
     "output_type": "display_data"
    }
   ],
   "source": [
    "lr_results"
   ]
  },
  {
   "cell_type": "markdown",
   "id": "82382a8e",
   "metadata": {},
   "source": [
    "Based on these likelihood ratio results, we can see clear patterns in model support from our genetic data. Model 2 ($\\beta = 0.5$) $\\beta$ receives the strongest overall support, as evidenced by it being favored over both Model 1 (LR = 0.87, meaning Model 2 is 1/0.87 ≈ 1.14 times more likely) and Model 3 (LR = 2.38, meaning Model 2 is 2.38 times more likely than Model 3). \n",
    "\n",
    "Interestingly, Model 1 ($\\beta = 0$) is actually better supported than Model 3 ($\\beta = 1.0$) with a likelihood ratio of 2.08, suggesting that no genetic effect is more plausible than a large effect of $\\beta = 1.0$. \n",
    "\n",
    "This pattern makes biological sense given that our true effect size used to generate the data was $\\beta = 0.4$ - Model 2 ($\\beta = 0.5$) is closest to this true value, followed by Model 1 ($\\beta = 0$), while Model 3 ($\\beta = 1.0$) substantially overestimates the genetic effect. The likelihood ratios thus correctly identify the model parameters that best approximate the true underlying biological relationship between genotype and phenotype."
   ]
  },
  {
   "cell_type": "markdown",
   "id": "3fa0a9c4-d970-4f5a-942a-248541def638",
   "metadata": {},
   "source": [
    "# Supplementary\n"
   ]
  },
  {
   "cell_type": "markdown",
   "id": "e631161f",
   "metadata": {},
   "source": [
    "## Graphical Summary"
   ]
  },
  {
   "cell_type": "code",
   "execution_count": 26,
   "id": "a88d0a3d",
   "metadata": {
    "vscode": {
     "languageId": "r"
    }
   },
   "outputs": [
    {
     "data": {
      "image/png": "[encoded data removed]",
      "text/plain": [
       "plot without title"
      ]
     },
     "metadata": {
      "image/png": {
       "height": 420,
       "width": 420
      }
     },
     "output_type": "display_data"
    }
   ],
   "source": [
    "library(ggplot2)\n",
    "library(dplyr)\n",
    "\n",
    "# Prepare the data from our analysis\n",
    "df_scatter <- data.frame(\n",
    " Genotype = X,\n",
    " Phenotype = Y_true\n",
    ")\n",
    "\n",
    "# Create sequence for smooth lines\n",
    "x_vals <- seq(min(X) - 0.5, max(X) + 0.5, length.out = 100)\n",
    "\n",
    "# Create data frame for regression lines using only beta = 0 and beta = 0.5\n",
    "selected_betas <- c(0, 0.5)\n",
    "lines_df <- data.frame(\n",
    " Genotype = rep(x_vals, 2),\n",
    " Phenotype = c(\n",
    "   selected_betas[1] * x_vals,  # beta = 0\n",
    "   selected_betas[2] * x_vals   # beta = 0.5\n",
    " ),\n",
    " Model = factor(rep(paste(\"beta =\", selected_betas), each = length(x_vals)),\n",
    "                levels = paste(\"beta =\", selected_betas))\n",
    ")\n",
    "\n",
    "# Create plot\n",
    "p <- ggplot(df_scatter, aes(x = Genotype, y = Phenotype)) +\n",
    " geom_point(color = \"salmon\", size = 6) +\n",
    " labs(\n",
    "   x = \"Standardized Genotype\",\n",
    "   y = \"Standardized Phenotype\"\n",
    " ) +\n",
    " theme_minimal() +\n",
    " theme(\n",
    "   # Font styling\n",
    "   text = element_text(size = 18, face = \"bold\"),\n",
    "   axis.title = element_text(size = 20, face = \"bold\"),\n",
    "   \n",
    "   # Hide axis tick labels\n",
    "   axis.text.x = element_blank(),\n",
    "   axis.text.y = element_blank(),\n",
    "   \n",
    "   # Customize grid and axes\n",
    "   panel.grid.major = element_line(color = \"gray\", linetype = \"dotted\"),\n",
    "   panel.grid.minor = element_blank(),\n",
    "   axis.line = element_line(linewidth = 1),\n",
    "   axis.ticks = element_line(linewidth = 1),\n",
    "   \n",
    "   # Transparent background\n",
    "   panel.background = element_rect(fill = \"transparent\", color = NA),\n",
    "   plot.background = element_rect(fill = \"transparent\", color = NA)\n",
    " ) +\n",
    " geom_line(data = lines_df, aes(x = Genotype, y = Phenotype, color = Model, linetype = Model), linewidth = 1.5) +\n",
    " scale_color_manual(values = c(\"beta = 0\" = \"blue\", \"beta = 0.5\" = \"red\")) +\n",
    " scale_linetype_manual(values = c(\"beta = 0\" = \"dashed\", \"beta = 0.5\" = \"dashed\")) +\n",
    " theme(\n",
    "   legend.title = element_blank(),\n",
    "   legend.position = \"bottom\",\n",
    "   legend.text = element_text(size = 16, face = \"bold\")\n",
    " )\n",
    "\n",
    "# Show and save plot\n",
    "print(p)\n",
    "ggsave(\"./cartoons/likelihood_ratio.png\", plot = p,\n",
    "      width = 6, height = 6, dpi = 300, bg = \"transparent\")"
   ]
  },
  {
   "cell_type": "code",
   "execution_count": null,
   "id": "ae213d85",
   "metadata": {
    "vscode": {
     "languageId": "r"
    }
   },
   "outputs": [],
   "source": []
  }
 ],
 "metadata": {
  "kernelspec": {
   "display_name": "R",
   "language": "R",
   "name": "ir"
  },
  "language_info": {
   "codemirror_mode": "r",
   "file_extension": ".r",
   "mimetype": "text/x-r-source",
   "name": "R",
   "pygments_lexer": "r",
   "version": "4.3.3"
  }
 },
 "nbformat": 4,
 "nbformat_minor": 5
}
