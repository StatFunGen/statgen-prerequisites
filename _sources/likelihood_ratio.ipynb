{
 "cells": [
  {
   "cell_type": "markdown",
   "id": "fded22e2",
   "metadata": {},
   "source": [
    "# Likelihood Ratio\n",
    "\n",
    "The likelihood ratio quantifies **how much more probable our observed data** is under one model compared to another, providing a natural way to choose between competing explanations of the data."
   ]
  },
  {
   "cell_type": "markdown",
   "id": "0cbce51f",
   "metadata": {},
   "source": [
    "# Graphical Summary"
   ]
  },
  {
   "cell_type": "markdown",
   "id": "d9bd2642",
   "metadata": {},
   "source": [
    "![likelihood](./cartoons/likelihood_ratio.svg)"
   ]
  },
  {
   "cell_type": "markdown",
   "id": "c43a7ae6",
   "metadata": {},
   "source": [
    "# Key Formula\n",
    "\n",
    "The likelihood ratio between Model 1 and Model 2 is:\n",
    "\n",
    "$$\n",
    "\\text{LR} = \\frac{L(\\text{D}|\\text{M}_1)}{L(\\text{D}|\\text{M}_2)}\n",
    "$$\n",
    "\n",
    "Where:\n",
    "- $\\text{LR}$ is the likelihood ratio\n",
    "- $L(\\text{D}|\\text{M}_1)$ is the likelihood under Model 1\n",
    "- $L(\\text{D}|\\text{M}_2)$ is the likelihood under Model 2\n",
    "- $\\text{D}$ represents the observed data"
   ]
  },
  {
   "cell_type": "markdown",
   "id": "1a9f52d7",
   "metadata": {},
   "source": [
    "# Technical Details\n",
    "\n",
    "## Interpretation\n",
    "For the likelihood ratio (LR):\n",
    "- $\\text{LR} > 1$: Model 1 better explains the data (higher likelihood)\n",
    "- $\\text{LR} < 1$: Model 2 better explains the data (higher likelihood)\n",
    "- $\\text{LR} = 1$: Both models explain the data equally well\n",
    "\n",
    "## Parameter $\\theta$ in a model\n",
    "\n",
    "Suppose that, now instead of having two fully-specified models, we consider a model $M_1$ with a parameter space $\\Theta$. \n",
    "\n",
    "The corresponding hypothesis ($H_1$) is often stated by saying that the parameter $\\theta$ lies in a specified subset $\\Theta_1$ of $\\Theta$. And another hypothesis ($H_2$) which believes that $\\theta$ lies in the $\\Theta_2$. The likelihood ratio test statistic between those two hypothesis is given by:\n",
    "\n",
    "$$\n",
    "LR = \\frac {~\\sup_{\\theta \\in \\Theta_1}{\\mathcal{L}}(\\theta)~}{~\\sup_{\\theta \\in \\Theta_2}{\\mathcal{L}}(\\theta)~}\n",
    "$$\n",
    "\n",
    "Here, the $\\sup$ notation refers to the supremum. If $\\Theta_1$ is a subset of $\\Theta_2$, e.g., $\\Theta_2 = \\Theta$, as the constrained maximum cannot exceed the unconstrained maximum, the likelihood ratio is bounded between zero and one. \n",
    "\n",
    "## Properties\n",
    "- The likelihood ratio is always non-negative: $\\text{LR} \\geq 0$\n",
    "- Can be used to compare any two models/hypothesis\n",
    "- Forms the basis for many statistical tests and model selection criteria"
   ]
  },
  {
   "cell_type": "markdown",
   "id": "4d2607d8",
   "metadata": {},
   "source": [
    "# Example"
   ]
  },
  {
   "cell_type": "markdown",
   "id": "8104f3e5-1ad7-439f-b085-12ef59a7fcec",
   "metadata": {},
   "source": [
    "Here we continue the example used in the `likelihood` notebook.\n",
    "\n",
    "In this example, we use the likelihood ratio to determine which genetic variants are associated with height in a small genetic association study. Using the same data from 5 individuals at 3 genetic variants, we compare two competing models: Model 1 ($\\beta=0$) assuming no genetic effect, and Model 2 ($\\beta=0.5$) assuming a mediate genetic effect. \n",
    "\n",
    "After calculating the likelihood for each model across all variants, we compute the likelihood ratio (LR) to quantify the relative support for each model. This approach allows us to identify which genetic variants, if any, show evidence of association with the height phenotype, providing a statistical framework for genetic association testing."
   ]
  },
  {
   "cell_type": "code",
   "execution_count": 1,
   "id": "959eaa84-0211-4758-9dc3-21a4c41d519c",
   "metadata": {
    "tags": [],
    "vscode": {
     "languageId": "r"
    }
   },
   "outputs": [],
   "source": [
    "# Clear the environment\n",
    "rm(list = ls())\n",
    "\n",
    "# Define genotypes for 5 individuals at 3 variants\n",
    "# These represent actual alleles at each position\n",
    "# For example, Individual 1 has genotypes: CC, CT, AT\n",
    "genotypes <- c(\n",
    "    \"CC\", \"CT\", \"AT\", # Individual 1\n",
    "    \"TT\", \"TT\", \"AA\", # Individual 2\n",
    "    \"CT\", \"CT\", \"AA\", # Individual 3\n",
    "    \"CC\", \"TT\", \"AA\", # Individual 4\n",
    "    \"CC\", \"CC\", \"TT\" # Individual 5\n",
    ")\n",
    "# Reshape into a matrix\n",
    "N <- 5 # number of individuals\n",
    "M <- 3 # number of variants\n",
    "geno_matrix <- matrix(genotypes, nrow = N, ncol = M, byrow = TRUE)\n",
    "rownames(geno_matrix) <- paste(\"Individual\", 1:N)\n",
    "colnames(geno_matrix) <- paste(\"Variant\", 1:M)\n",
    "\n",
    "alt_alleles <- c(\"T\", \"C\", \"T\")\n",
    "ref_alleles <- c(\"C\", \"T\", \"A\")\n",
    "\n",
    "# Convert to raw genotype matrix using the additive / dominant / recessive model\n",
    "Xraw_additive <- matrix(0, nrow = N, ncol = M) # dount number of non-reference alleles\n",
    "\n",
    "rownames(Xraw_additive) <- rownames(geno_matrix)\n",
    "colnames(Xraw_additive) <- colnames(geno_matrix)\n",
    "\n",
    "for (i in 1:N) {\n",
    "    for (j in 1:M) {\n",
    "        alleles <- strsplit(geno_matrix[i, j], \"\")[[1]]\n",
    "        Xraw_additive[i, j] <- sum(alleles == alt_alleles[j])\n",
    "    }\n",
    "}\n",
    "X <- scale(Xraw_additive, center = TRUE, scale = TRUE)\n",
    "\n",
    "# assign observed height for the 5 individuals\n",
    "Y_raw <- c(180, 160, 158, 155, 193)\n",
    "Y <- scale(Y_raw)"
   ]
  },
  {
   "cell_type": "code",
   "execution_count": 2,
   "id": "6790df65-7b16-41c6-958a-bf521f8d21d9",
   "metadata": {
    "tags": [],
    "vscode": {
     "languageId": "r"
    }
   },
   "outputs": [],
   "source": [
    "# Likelihood function for normal distribution\n",
    "likelihood <- function(beta, sd, X, Y) {\n",
    "    # beta: effect size parameter\n",
    "    # sd: standard deviation of residuals\n",
    "    # X: genotype values\n",
    "    # Y: observed phenotype values\n",
    "\n",
    "    # Calculate expected values under the model\n",
    "    mu <- X * beta\n",
    "\n",
    "    # Calculate likelihood (product of normal densities)\n",
    "    prod(dnorm(Y, mean = mu, sd = sd, log = FALSE))\n",
    "}"
   ]
  },
  {
   "cell_type": "code",
   "execution_count": 3,
   "id": "29f21733",
   "metadata": {
    "vscode": {
     "languageId": "r"
    }
   },
   "outputs": [
    {
     "data": {
      "text/html": [
       "<table class=\"dataframe\">\n",
       "<caption>A data.frame: 3 × 7</caption>\n",
       "<thead>\n",
       "\t<tr><th scope=col>Variant</th><th scope=col>L_Model1</th><th scope=col>L_Model2</th><th scope=col>L_Model3</th><th scope=col>LogL_Model1</th><th scope=col>LogL_Model2</th><th scope=col>LogL_Model3</th></tr>\n",
       "\t<tr><th scope=col>&lt;chr&gt;</th><th scope=col>&lt;dbl&gt;</th><th scope=col>&lt;dbl&gt;</th><th scope=col>&lt;dbl&gt;</th><th scope=col>&lt;dbl&gt;</th><th scope=col>&lt;dbl&gt;</th><th scope=col>&lt;dbl&gt;</th></tr>\n",
       "</thead>\n",
       "<tbody>\n",
       "\t<tr><td>Variant 1</td><td>0.001367607</td><td>0.0003050987</td><td>2.503945e-05</td><td>-6.594693</td><td>-8.094875</td><td>-10.595058</td></tr>\n",
       "\t<tr><td>Variant 2</td><td>0.001367607</td><td>0.0045633971</td><td>5.601711e-03</td><td>-6.594693</td><td>-5.389688</td><td> -5.184683</td></tr>\n",
       "\t<tr><td>Variant 3</td><td>0.001367607</td><td>0.0059679052</td><td>9.580496e-03</td><td>-6.594693</td><td>-5.121359</td><td> -4.648026</td></tr>\n",
       "</tbody>\n",
       "</table>\n"
      ],
      "text/latex": [
       "A data.frame: 3 × 7\n",
       "\\begin{tabular}{lllllll}\n",
       " Variant & L\\_Model1 & L\\_Model2 & L\\_Model3 & LogL\\_Model1 & LogL\\_Model2 & LogL\\_Model3\\\\\n",
       " <chr> & <dbl> & <dbl> & <dbl> & <dbl> & <dbl> & <dbl>\\\\\n",
       "\\hline\n",
       "\t Variant 1 & 0.001367607 & 0.0003050987 & 2.503945e-05 & -6.594693 & -8.094875 & -10.595058\\\\\n",
       "\t Variant 2 & 0.001367607 & 0.0045633971 & 5.601711e-03 & -6.594693 & -5.389688 &  -5.184683\\\\\n",
       "\t Variant 3 & 0.001367607 & 0.0059679052 & 9.580496e-03 & -6.594693 & -5.121359 &  -4.648026\\\\\n",
       "\\end{tabular}\n"
      ],
      "text/markdown": [
       "\n",
       "A data.frame: 3 × 7\n",
       "\n",
       "| Variant &lt;chr&gt; | L_Model1 &lt;dbl&gt; | L_Model2 &lt;dbl&gt; | L_Model3 &lt;dbl&gt; | LogL_Model1 &lt;dbl&gt; | LogL_Model2 &lt;dbl&gt; | LogL_Model3 &lt;dbl&gt; |\n",
       "|---|---|---|---|---|---|---|\n",
       "| Variant 1 | 0.001367607 | 0.0003050987 | 2.503945e-05 | -6.594693 | -8.094875 | -10.595058 |\n",
       "| Variant 2 | 0.001367607 | 0.0045633971 | 5.601711e-03 | -6.594693 | -5.389688 |  -5.184683 |\n",
       "| Variant 3 | 0.001367607 | 0.0059679052 | 9.580496e-03 | -6.594693 | -5.121359 |  -4.648026 |\n",
       "\n"
      ],
      "text/plain": [
       "  Variant   L_Model1    L_Model2     L_Model3     LogL_Model1 LogL_Model2\n",
       "1 Variant 1 0.001367607 0.0003050987 2.503945e-05 -6.594693   -8.094875  \n",
       "2 Variant 2 0.001367607 0.0045633971 5.601711e-03 -6.594693   -5.389688  \n",
       "3 Variant 3 0.001367607 0.0059679052 9.580496e-03 -6.594693   -5.121359  \n",
       "  LogL_Model3\n",
       "1 -10.595058 \n",
       "2  -5.184683 \n",
       "3  -4.648026 "
      ]
     },
     "metadata": {},
     "output_type": "display_data"
    }
   ],
   "source": [
    "# Apply the likelihood function to three models for each variant\n",
    "sd_assumed <- 1 # Assume standard deviation of 1 for our standardized data\n",
    "\n",
    "# Initialize results table\n",
    "likelihood_table <- data.frame(\n",
    "    Variant = paste(\"Variant\", 1:ncol(X)),\n",
    "    L_Model1 = ncol(X),\n",
    "    L_Model2 = ncol(X),\n",
    "    L_Model3 = ncol(X),\n",
    "    LogL_Model1 = ncol(X),\n",
    "    LogL_Model2 = ncol(X),\n",
    "    LogL_Model3 = ncol(X)\n",
    ")\n",
    "\n",
    "# Test all 3 variants\n",
    "for (variant_idx in 1:ncol(X)) {\n",
    "    X_j <- X[, variant_idx] # Genotypes for variant j\n",
    "\n",
    "    # Calculate likelihoods\n",
    "    likelihood_table[variant_idx, \"L_Model1\"] <- likelihood(beta = 0, sd = sd_assumed, X = X_j, Y = Y)\n",
    "    likelihood_table[variant_idx, \"L_Model2\"] <- likelihood(beta = 0.5, sd = sd_assumed, X = X_j, Y = Y)\n",
    "    likelihood_table[variant_idx, \"L_Model3\"] <- likelihood(beta = 1.0, sd = sd_assumed, X = X_j, Y = Y)\n",
    "\n",
    "    # Calculate log-likelihoods\n",
    "    likelihood_table[variant_idx, \"LogL_Model1\"] <- sum(dnorm(Y, mean = X_j * 0, sd = sd_assumed, log = TRUE))\n",
    "    likelihood_table[variant_idx, \"LogL_Model2\"] <- sum(dnorm(Y, mean = X_j * 0.5, sd = sd_assumed, log = TRUE))\n",
    "    likelihood_table[variant_idx, \"LogL_Model3\"] <- sum(dnorm(Y, mean = X_j * 1.0, sd = sd_assumed, log = TRUE))\n",
    "}\n",
    "likelihood_table\n"
   ]
  },
  {
   "cell_type": "markdown",
   "id": "e66a4566-e311-4317-8aaa-9a092f348504",
   "metadata": {},
   "source": [
    "Now let's compute the **likelihood ratio** between $M_1$ and $M_3$ as an example (the same procedure also applies to any other pair of models)."
   ]
  },
  {
   "cell_type": "code",
   "execution_count": 4,
   "id": "08c102af-892a-4803-a26e-2c38f864874a",
   "metadata": {
    "tags": [],
    "vscode": {
     "languageId": "r"
    }
   },
   "outputs": [
    {
     "data": {
      "text/html": [
       "<table class=\"dataframe\">\n",
       "<caption>A data.frame: 3 × 8</caption>\n",
       "<thead>\n",
       "\t<tr><th scope=col>Variant</th><th scope=col>L_Model1</th><th scope=col>L_Model2</th><th scope=col>L_Model3</th><th scope=col>LogL_Model1</th><th scope=col>LogL_Model2</th><th scope=col>LogL_Model3</th><th scope=col>LR_Model1_vs_Model2</th></tr>\n",
       "\t<tr><th scope=col>&lt;chr&gt;</th><th scope=col>&lt;dbl&gt;</th><th scope=col>&lt;dbl&gt;</th><th scope=col>&lt;dbl&gt;</th><th scope=col>&lt;dbl&gt;</th><th scope=col>&lt;dbl&gt;</th><th scope=col>&lt;dbl&gt;</th><th scope=col>&lt;dbl&gt;</th></tr>\n",
       "</thead>\n",
       "<tbody>\n",
       "\t<tr><td>Variant 1</td><td>0.001367607</td><td>0.0003050987</td><td>2.503945e-05</td><td>-6.594693</td><td>-8.094875</td><td>-10.595058</td><td>4.4825078</td></tr>\n",
       "\t<tr><td>Variant 2</td><td>0.001367607</td><td>0.0045633971</td><td>5.601711e-03</td><td>-6.594693</td><td>-5.389688</td><td> -5.184683</td><td>0.2996906</td></tr>\n",
       "\t<tr><td>Variant 3</td><td>0.001367607</td><td>0.0059679052</td><td>9.580496e-03</td><td>-6.594693</td><td>-5.121359</td><td> -4.648026</td><td>0.2291603</td></tr>\n",
       "</tbody>\n",
       "</table>\n"
      ],
      "text/latex": [
       "A data.frame: 3 × 8\n",
       "\\begin{tabular}{llllllll}\n",
       " Variant & L\\_Model1 & L\\_Model2 & L\\_Model3 & LogL\\_Model1 & LogL\\_Model2 & LogL\\_Model3 & LR\\_Model1\\_vs\\_Model2\\\\\n",
       " <chr> & <dbl> & <dbl> & <dbl> & <dbl> & <dbl> & <dbl> & <dbl>\\\\\n",
       "\\hline\n",
       "\t Variant 1 & 0.001367607 & 0.0003050987 & 2.503945e-05 & -6.594693 & -8.094875 & -10.595058 & 4.4825078\\\\\n",
       "\t Variant 2 & 0.001367607 & 0.0045633971 & 5.601711e-03 & -6.594693 & -5.389688 &  -5.184683 & 0.2996906\\\\\n",
       "\t Variant 3 & 0.001367607 & 0.0059679052 & 9.580496e-03 & -6.594693 & -5.121359 &  -4.648026 & 0.2291603\\\\\n",
       "\\end{tabular}\n"
      ],
      "text/markdown": [
       "\n",
       "A data.frame: 3 × 8\n",
       "\n",
       "| Variant &lt;chr&gt; | L_Model1 &lt;dbl&gt; | L_Model2 &lt;dbl&gt; | L_Model3 &lt;dbl&gt; | LogL_Model1 &lt;dbl&gt; | LogL_Model2 &lt;dbl&gt; | LogL_Model3 &lt;dbl&gt; | LR_Model1_vs_Model2 &lt;dbl&gt; |\n",
       "|---|---|---|---|---|---|---|---|\n",
       "| Variant 1 | 0.001367607 | 0.0003050987 | 2.503945e-05 | -6.594693 | -8.094875 | -10.595058 | 4.4825078 |\n",
       "| Variant 2 | 0.001367607 | 0.0045633971 | 5.601711e-03 | -6.594693 | -5.389688 |  -5.184683 | 0.2996906 |\n",
       "| Variant 3 | 0.001367607 | 0.0059679052 | 9.580496e-03 | -6.594693 | -5.121359 |  -4.648026 | 0.2291603 |\n",
       "\n"
      ],
      "text/plain": [
       "  Variant   L_Model1    L_Model2     L_Model3     LogL_Model1 LogL_Model2\n",
       "1 Variant 1 0.001367607 0.0003050987 2.503945e-05 -6.594693   -8.094875  \n",
       "2 Variant 2 0.001367607 0.0045633971 5.601711e-03 -6.594693   -5.389688  \n",
       "3 Variant 3 0.001367607 0.0059679052 9.580496e-03 -6.594693   -5.121359  \n",
       "  LogL_Model3 LR_Model1_vs_Model2\n",
       "1 -10.595058  4.4825078          \n",
       "2  -5.184683  0.2996906          \n",
       "3  -4.648026  0.2291603          "
      ]
     },
     "metadata": {},
     "output_type": "display_data"
    }
   ],
   "source": [
    "# add new columns for LR between model 1 and model 2\n",
    "likelihood_table$LR_Model1_vs_Model2 = likelihood_table$L_Model1 / likelihood_table$L_Model2\n",
    "\n",
    "# Display results\n",
    "likelihood_table"
   ]
  },
  {
   "cell_type": "markdown",
   "id": "82382a8e",
   "metadata": {},
   "source": [
    "Based on the observed data from the five individuals, the likelihood ratio results indicate that Variant 1 favors Model 1 more than Model 2 (LR = 4.483), while Variants 2 and 3 show some level of evidence of association with height (LR < 1, favoring Model 2) compared to Model 1. Variant 2 demonstrates the strongest association (LR = 0.300), suggesting it has the most significant genetic effect on height among the three variants tested."
   ]
  },
  {
   "cell_type": "markdown",
   "id": "3fa0a9c4-d970-4f5a-942a-248541def638",
   "metadata": {},
   "source": [
    "# Supplementary\n",
    "- The **\"likelihood ratio\"** that compares two fully-specified (discrete) models is simply the ratio of the likelihood for the two models given data $D$: \n",
    "\n",
    "$$\n",
    "LR(M_2, M_1) := \\frac{L(M_2)}{L(M_1)} = \\frac{p(D|M_2)}{p(D|M_1)}\n",
    "$$\n",
    "\n",
    "where $L(M)$ denotes the likelihood for model $M$ under data $x$.\n",
    "\n",
    "- The **\"log-likelihood ratio\"** is defined as the logarithm of the likelihood ratio:\n",
    "\n",
    "$$\n",
    "LLR(M_2, M_1) := - 2 \\log \\left( \\frac{L(M_1)}{L(M_2)} \\right) = - 2 \\left[ \\log L(M_1) - \\log L(M_2) \\right] = - 2 \\left[ l(M_1) - l(M_2) \\right]\n",
    "$$\n",
    "\n",
    "where $l(M_i)$ denotes the log-likelihood for model $M_i$ under data $x$. The log-likelihood ratio measures the relative support for model $M_2$ over model $M_1$ on a **logarithmic scale**.\n",
    "\n",
    "- A natural question is,  **what value of the LR (or LLR) should we treat as \"convincing\" evidence for one model vs another**? The short answer here is that this is **context dependent**, which depends on the relative plausibility of the models we are comparing. For more discussions, refer to this [notes](https://stephens999.github.io/fiveMinuteStats/LR_and_BF.html) by Matthew Stephens."
   ]
  },
  {
   "cell_type": "markdown",
   "id": "51b7068e-d522-4b18-b510-c401926ceacc",
   "metadata": {},
   "source": [
    "# Supplementary Materials"
   ]
  },
  {
   "cell_type": "markdown",
   "id": "5724ac29-7eed-42fc-aa72-621231184695",
   "metadata": {},
   "source": [
    "## Example 1 -- allele frequency"
   ]
  },
  {
   "cell_type": "markdown",
   "id": "37438ae4-9f24-477b-9eb6-7f3cb6f8a400",
   "metadata": {},
   "source": [
    "Here we use the same example 1 in the `6_1_likelihood.ipynb` notebook, and we have calculated the likelihood for the two models $M_S$ and $M_F$."
   ]
  },
  {
   "cell_type": "markdown",
   "id": "3270e671-7fdb-4466-8285-8e89bff03c28",
   "metadata": {},
   "source": [
    "### Calculate LR"
   ]
  },
  {
   "cell_type": "code",
   "execution_count": 8,
   "id": "0115f781-c30b-4d0a-8b80-011ab5f81869",
   "metadata": {
    "tags": [],
    "vscode": {
     "languageId": "r"
    }
   },
   "outputs": [],
   "source": [
    "x = c(1,0,1,0,0,1)\n",
    "\n",
    "fS = c(0.40, 0.12,0.21,0.12,0.02,0.32)\n",
    "fF = c(0.8,0.2,0.11,0.17,0.23,0.25)\n",
    "\n",
    "L = function(f,x){ prod(f^x*(1-f)^(1-x)) }"
   ]
  },
  {
   "cell_type": "code",
   "execution_count": 9,
   "id": "b8946c01-9cb8-4abc-968e-9fdbaa17c051",
   "metadata": {
    "tags": [],
    "vscode": {
     "languageId": "r"
    }
   },
   "outputs": [
    {
     "data": {
      "text/html": [
       "0.02039955456"
      ],
      "text/latex": [
       "0.02039955456"
      ],
      "text/markdown": [
       "0.02039955456"
      ],
      "text/plain": [
       "[1] 0.02039955"
      ]
     },
     "metadata": {},
     "output_type": "display_data"
    },
    {
     "data": {
      "text/html": [
       "0.01124816"
      ],
      "text/latex": [
       "0.01124816"
      ],
      "text/markdown": [
       "0.01124816"
      ],
      "text/plain": [
       "[1] 0.01124816"
      ]
     },
     "metadata": {},
     "output_type": "display_data"
    }
   ],
   "source": [
    "L(fS,x)\n",
    "L(fF,x)"
   ]
  },
  {
   "cell_type": "markdown",
   "id": "070d50cc-120f-45aa-ba58-a234e259c298",
   "metadata": {},
   "source": [
    "The **likelihood ratio (LR)** is simply the ratio of those two values:"
   ]
  },
  {
   "cell_type": "code",
   "execution_count": 10,
   "id": "f8a75789-cd3a-4037-84a9-fea932f61c78",
   "metadata": {
    "tags": [],
    "vscode": {
     "languageId": "r"
    }
   },
   "outputs": [
    {
     "data": {
      "text/html": [
       "1.81359036144578"
      ],
      "text/latex": [
       "1.81359036144578"
      ],
      "text/markdown": [
       "1.81359036144578"
      ],
      "text/plain": [
       "[1] 1.81359"
      ]
     },
     "metadata": {},
     "output_type": "display_data"
    }
   ],
   "source": [
    "L(fS,x)/L(fF,x)"
   ]
  },
  {
   "cell_type": "markdown",
   "id": "faf3bb88-74c4-492e-a795-c35317ee69df",
   "metadata": {},
   "source": [
    "### How to interpret LR?"
   ]
  },
  {
   "cell_type": "markdown",
   "id": "0fd00148-8842-47dc-aee1-67b290ca2827",
   "metadata": {},
   "source": [
    "> So $LR(M_S,M_F;x)$ is 1.8135904. This means that the data favor the tusk coming from a savanna elephant by a factor of about 1.8. This is a fairly modest factor – not large enough to draw a convincing conclusion. We will have more to say about interpreting LRs, and what values might be considered “convincing” later.\n",
    ">\n",
    "> Note that we have deliberately focused on the likelihood ratio, and not the actual likelihood values themselves. This is because actual likelihood values are generally not useful - it is only the ratios that matter when comparing the models. One way of thinking about this is that the actual likelihood values are very context dependent, and so likelihoods from different data sets are not comparable with one another. However, the meaning of the likelihood ratio is in some sense consistent across contexts: LR =1.8 means that the data favour the first model by a factor of 1.8 whatever the context."
   ]
  },
  {
   "cell_type": "markdown",
   "id": "49118e2b-187c-472a-8509-67965c7bba63",
   "metadata": {},
   "source": [
    "## Example 2 -- concertration of protein in blood"
   ]
  },
  {
   "cell_type": "markdown",
   "id": "7afe6c91-7eeb-479e-a5dd-3c6f9a1afb7d",
   "metadata": {},
   "source": [
    "Here we use the same example 2 in the `6_1_likelihood.ipynb` notebook, and we have calculated the likelihood for the two models $M_0$ (normal individual group) and $M_1$ (diseased individual group)."
   ]
  },
  {
   "cell_type": "markdown",
   "id": "91e7c5fb-b352-436a-b21e-44fee56b4312",
   "metadata": {},
   "source": [
    "### Calculate LR"
   ]
  },
  {
   "cell_type": "code",
   "execution_count": 11,
   "id": "fe9c5a68-0f8b-4a66-abc2-ff58488c31b7",
   "metadata": {
    "tags": [],
    "vscode": {
     "languageId": "r"
    }
   },
   "outputs": [
    {
     "data": {
      "text/html": [
       "0.00518272791791383"
      ],
      "text/latex": [
       "0.00518272791791383"
      ],
      "text/markdown": [
       "0.00518272791791383"
      ],
      "text/plain": [
       "[1] 0.005182728"
      ]
     },
     "metadata": {},
     "output_type": "display_data"
    },
    {
     "data": {
      "text/html": [
       "0.0721709190568015"
      ],
      "text/latex": [
       "0.0721709190568015"
      ],
      "text/markdown": [
       "0.0721709190568015"
      ],
      "text/plain": [
       "[1] 0.07217092"
      ]
     },
     "metadata": {},
     "output_type": "display_data"
    }
   ],
   "source": [
    "X_val=4.02\n",
    "# dgamma(x, shape, rate = 1, scale = 1/rate, log = FALSE) returns the Density for the Gamma distribution with parameters shape and scale at x\n",
    "y0_val = dgamma(X_val,scale=0.5,shape=2)\n",
    "y1_val = dgamma(X_val,scale=1,shape=2)\n",
    "y0_val\n",
    "y1_val"
   ]
  },
  {
   "cell_type": "code",
   "execution_count": 12,
   "id": "96ffb4e1-f244-4036-a976-e42b4671f99a",
   "metadata": {
    "tags": [],
    "vscode": {
     "languageId": "r"
    }
   },
   "outputs": [
    {
     "data": {
      "text/html": [
       "13.9252764566989"
      ],
      "text/latex": [
       "13.9252764566989"
      ],
      "text/markdown": [
       "13.9252764566989"
      ],
      "text/plain": [
       "[1] 13.92528"
      ]
     },
     "metadata": {},
     "output_type": "display_data"
    }
   ],
   "source": [
    "y1_val/y0_val"
   ]
  },
  {
   "cell_type": "markdown",
   "id": "3ee93065-0e5c-46e3-8a2f-5bc44d73da7e",
   "metadata": {},
   "source": [
    "### Interpretation"
   ]
  },
  {
   "cell_type": "markdown",
   "id": "e5aa7e24-5034-4ae7-be24-ba38ea5fd7be",
   "metadata": {},
   "source": [
    "The $LR(M_1,M_0;x)$ is 13.9, i.e., the data favours the individual being diseased ($M_1$) over being normal ($M_0$) by a factor of approximately 14.\n",
    "\n"
   ]
  },
  {
   "cell_type": "markdown",
   "id": "0a75bff9-08c7-410e-b6dc-10907612819b",
   "metadata": {
    "tags": []
   },
   "source": [
    "# Recommended Reading\n",
    "\n",
    "- Section *Likelihood Ratio and Likehood* in [FiveMinuteStats](http://stephens999.github.io/fiveMinuteStats/index.html) by Matthew Stephens\n"
   ]
  },
  {
   "cell_type": "code",
   "execution_count": null,
   "id": "a8e07569-daa0-48e7-9568-26bf0c758598",
   "metadata": {
    "vscode": {
     "languageId": "r"
    }
   },
   "outputs": [],
   "source": []
  }
 ],
 "metadata": {
  "kernelspec": {
   "display_name": "/mnt/vast/hpc/homes/rd2972/micromamba/envs/pisces-rabbit/bin/R",
   "language": "/mnt/vast/hpc/homes/rd2972/micromamba/envs/pisces-rabbit/bin/R",
   "name": "ir"
  },
  "language_info": {
   "codemirror_mode": "r",
   "file_extension": ".r",
   "mimetype": "text/x-r-source",
   "name": "R",
   "pygments_lexer": "r",
   "version": "4.4.2"
  }
 },
 "nbformat": 4,
 "nbformat_minor": 5
}
