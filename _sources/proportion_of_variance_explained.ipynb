{
 "cells": [
  {
   "cell_type": "markdown",
   "id": "e28d9f8f",
   "metadata": {},
   "source": [
    "# Proportion of Variance Explained and Heritability\n",
    "\n",
    "Proportion of variance explained (PVE) measures how much of the total variation in a trait (like height or disease risk) can be **attributed** to specific variables in your statistical model (e.g., genetic variants). Heritability is a specific application of this concept that measures how much of the **variation** in a trait across a population **can be explained by genetic differences**."
   ]
  },
  {
   "cell_type": "markdown",
   "id": "9ceb12e4",
   "metadata": {},
   "source": [
    "# Graphical Summary"
   ]
  },
  {
   "cell_type": "markdown",
   "id": "63326357",
   "metadata": {},
   "source": [
    "![Fig](./graphical_summary/slides/Slide12.png)"
   ]
  },
  {
   "cell_type": "markdown",
   "id": "2480c34b",
   "metadata": {},
   "source": [
    "# Key Formula\n",
    "\n",
    "Any phenotype can be modeled as the sum of genetic and environmental effects, i.e., $\\text{Phenotype}~(Y) = \\text{Genotype}~(G) + \\text{Environment}~(E)$, and under the assumption that G and E are independent from each other, the **proportion of variance explained (PVE)** by genetic effect alone (also called  broad-sense heritability $H^2$) can be derived as \n",
    "\n",
    "$$\n",
    "\\text{PVE} = H^2 = \\frac{\\text{Var}_G}{\\text{Var}_Y}\n",
    "$$\n",
    "\n",
    "where:\n",
    "- $\\text{Var}_G$ is the genetic variance component\n",
    "- $\\text{Var}_E$ is the environmental variance component"
   ]
  },
  {
   "cell_type": "markdown",
   "id": "f89a19b9",
   "metadata": {},
   "source": [
    "# Technical Details\n",
    "\n",
    "## Components of Variance\n",
    "\n",
    "Any phenotype can be modeled as the sum of genetic and environmental effects:\n",
    "\n",
    "$$\n",
    "\\text{Phenotype} (P) = \\text{Genotype} (G) + \\text{Environment} (E)\n",
    "$$\n",
    "\n",
    "The phenotypic variance in the trait can then be partitioned as:\n",
    "\n",
    "$$\\text{Var}_P = \\text{Var}_G + \\text{Var}_E + 2\\text{Cov}(G,E)$$\n",
    "\n",
    "Where:\n",
    "- $\\text{Var}_G$ is the genetic variance component\n",
    "- $\\text{Var}_E$ is the environmental variance component\n",
    "- $\\text{Cov}(G,E)$ is the covariance between genetic and environmental effects\n",
    "\n",
    "## Broad-sense Heritability\n",
    "\n",
    "In controlled experimental settings, we can design studies where $\\text{Cov}(G,E)$ is minimized and effectively set to zero. In such cases, heritability is defined as the proportion of phenotypic variance attributable to all genetic effects:\n",
    "\n",
    "$$H^2 = \\frac{\\text{Var}_G}{\\text{Var}_P}$$\n",
    "\n",
    "This represents the proportion of phenotypic variance attributable to genetic variance.\n",
    "\n",
    "## Narrow-sense Heritability\n",
    "\n",
    "**Narrow-sense heritability** ($h^2$): The proportion attributable to only **additive** genetic effects:\n",
    "\n",
    "$$h^2 = \\frac{\\text{Var}_A}{\\text{Var}_P}$$\n",
    "\n",
    "Where $\\text{Var}_A$ is the additive genetic variance, a component of $\\text{Var}_G$. \n",
    "\n",
    "Other components of $\\text{Var}_G$ includes $\\text{Var}_D$ (dominance variance) and $\\text{Var}_I$ (epistatic variance, i.e., gene-gene interaction)"
   ]
  },
  {
   "cell_type": "markdown",
   "id": "8e3e9885",
   "metadata": {},
   "source": [
    "# Related Topics\n",
    "\n",
    "- [ordinary least square](https://statfungen.github.io/statgen-prerequisites/ordinary_least_squares.html)\n",
    "- [odds ratio](https://statfungen.github.io/statgen-prerequisites/odds_ratio.html)\n",
    "- [random effect](https://statfungen.github.io/statgen-prerequisites/random_effect.html)"
   ]
  },
  {
   "cell_type": "markdown",
   "id": "899fd4a3-27ab-4954-a81e-e7803602a8a0",
   "metadata": {},
   "source": [
    "# Example"
   ]
  },
  {
   "cell_type": "markdown",
   "id": "b096ca1f",
   "metadata": {},
   "source": [
    "When we say a trait has \"50% heritability,\" what does that actually mean? Let's explore this using a simple example with 5 individuals and see how much of their trait variation comes from genetics versus other factors.\n",
    "\n",
    "Imagine we're studying a trait in 5 people, and we know their genotypes at 3 genetic variants. Each person has different combinations of alleles - some have more \"risk\" alleles than others. The key question is: *How much of the differences we see in their trait values can be explained by their genetic differences?*\n",
    "\n",
    "We'll calculate this step by step, first using a scenario where each person has their own unique genetic effect, then comparing it to a simpler case where the genetic variant has the same effect size for everyone. This will help us understand what \"proportion of variance explained\" really means in practice."
   ]
  },
  {
   "cell_type": "code",
   "execution_count": 20,
   "id": "191ec6c0",
   "metadata": {
    "vscode": {
     "languageId": "r"
    }
   },
   "outputs": [],
   "source": [
    "# Clear the environment\n",
    "rm(list = ls())\n",
    "set.seed(11)\n",
    "# Define genotypes for 5 individuals at 3 variants\n",
    "# These represent actual alleles at each position\n",
    "# For example, Individual 1 has genotypes: CC, CT, AT\n",
    "genotypes <- c(\n",
    " \"CC\", \"CT\", \"AT\",  # Individual 1\n",
    " \"TT\", \"TT\", \"AA\",  # Individual 2\n",
    " \"CT\", \"CT\", \"AA\",  # Individual 3\n",
    " \"CC\", \"TT\", \"AA\",  # Individual 4\n",
    " \"CC\", \"CC\", \"TT\"   # Individual 5\n",
    ")\n",
    "# Reshape into a matrix\n",
    "N = 5\n",
    "M = 3\n",
    "geno_matrix <- matrix(genotypes, nrow = N, ncol = M, byrow = TRUE)\n",
    "rownames(geno_matrix) <- paste(\"Individual\", 1:N)\n",
    "colnames(geno_matrix) <- paste(\"Variant\", 1:M)\n",
    "\n",
    "alt_alleles <- c(\"T\", \"C\", \"T\")\n",
    "\n",
    "# Convert to raw genotype matrix using the additive / dominant / recessive model\n",
    "Xraw_additive <- matrix(0, nrow = N, ncol = M) # dount number of non-reference alleles\n",
    "\n",
    "rownames(Xraw_additive) <- rownames(geno_matrix)\n",
    "colnames(Xraw_additive) <- colnames(geno_matrix)\n",
    "\n",
    "for (i in 1:N) {\n",
    "  for (j in 1:M) {\n",
    "    alleles <- strsplit(geno_matrix[i,j], \"\")[[1]]\n",
    "    Xraw_additive[i,j] <- sum(alleles == alt_alleles[j])\n",
    "  }\n",
    "}\n",
    "\n",
    "X <- scale(Xraw_additive, center = TRUE, scale = TRUE)\n"
   ]
  },
  {
   "cell_type": "markdown",
   "id": "0cc514c1",
   "metadata": {},
   "source": [
    "## Random effect"
   ]
  },
  {
   "cell_type": "markdown",
   "id": "23a9bd7d-7272-478d-85bf-e44bfd7fa712",
   "metadata": {},
   "source": [
    "Following the example in [Lecture: random effect](https://statfungen.github.io/statgen-prerequisites/random_effect.html), we then calculate the PVE of the variants."
   ]
  },
  {
   "cell_type": "code",
   "execution_count": 21,
   "id": "810af2df",
   "metadata": {
    "vscode": {
     "languageId": "r"
    }
   },
   "outputs": [],
   "source": [
    "beta <- rnorm(N, mean = 0, sd = 1)\n",
    "epsilon <- rnorm(N, mean = 0, sd = 0.3)\n",
    "Y <- X[, 1] * beta + epsilon"
   ]
  },
  {
   "cell_type": "code",
   "execution_count": 22,
   "id": "514d7510",
   "metadata": {
    "vscode": {
     "languageId": "r"
    }
   },
   "outputs": [
    {
     "data": {
      "text/html": [
       "<style>\n",
       ".list-inline {list-style: none; margin:0; padding: 0}\n",
       ".list-inline>li {display: inline-block}\n",
       ".list-inline>li:not(:last-child)::after {content: \"\\00b7\"; padding: 0 .5ex}\n",
       "</style>\n",
       "<ol class=list-inline><li>-0.591031102584368</li><li>0.026594369016167</li><li>-1.51655309708187</li><li>-1.36265334929581</li><li>1.17848915603162</li></ol>\n"
      ],
      "text/latex": [
       "\\begin{enumerate*}\n",
       "\\item -0.591031102584368\n",
       "\\item 0.026594369016167\n",
       "\\item -1.51655309708187\n",
       "\\item -1.36265334929581\n",
       "\\item 1.17848915603162\n",
       "\\end{enumerate*}\n"
      ],
      "text/markdown": [
       "1. -0.591031102584368\n",
       "2. 0.026594369016167\n",
       "3. -1.51655309708187\n",
       "4. -1.36265334929581\n",
       "5. 1.17848915603162\n",
       "\n",
       "\n"
      ],
      "text/plain": [
       "[1] -0.59103110  0.02659437 -1.51655310 -1.36265335  1.17848916"
      ]
     },
     "metadata": {},
     "output_type": "display_data"
    }
   ],
   "source": [
    "beta"
   ]
  },
  {
   "cell_type": "markdown",
   "id": "31c8f478",
   "metadata": {},
   "source": [
    "Now let's calculate the PVE using the definition."
   ]
  },
  {
   "cell_type": "code",
   "execution_count": 23,
   "id": "264c093b",
   "metadata": {
    "vscode": {
     "languageId": "r"
    }
   },
   "outputs": [
    {
     "data": {
      "text/html": [
       "0.848945623925659"
      ],
      "text/latex": [
       "0.848945623925659"
      ],
      "text/markdown": [
       "0.848945623925659"
      ],
      "text/plain": [
       "[1] 0.8489456"
      ]
     },
     "metadata": {},
     "output_type": "display_data"
    }
   ],
   "source": [
    "# Calculate PVE using the definition: PVE = Var(G) / Var(Y)\n",
    "# where G = X * beta (genetic component)\n",
    "G <- X[, 1] * beta\n",
    "var_G <- var(G)\n",
    "var_Y <- var(Y)\n",
    "PVE <- var_G / var_Y\n",
    "PVE"
   ]
  },
  {
   "cell_type": "markdown",
   "id": "b2262522",
   "metadata": {},
   "source": [
    "## Fixed Effect"
   ]
  },
  {
   "cell_type": "markdown",
   "id": "cb92f9a2",
   "metadata": {},
   "source": [
    "As we discussed before, in the fixed effect model, the genetic effect $\\beta$ is a constant parameter that applies uniformly to all individuals. We then calculate the PVE of the variants."
   ]
  },
  {
   "cell_type": "code",
   "execution_count": 24,
   "id": "7100182f",
   "metadata": {
    "vscode": {
     "languageId": "r"
    }
   },
   "outputs": [
    {
     "data": {
      "text/html": [
       "0.8"
      ],
      "text/latex": [
       "0.8"
      ],
      "text/markdown": [
       "0.8"
      ],
      "text/plain": [
       "[1] 0.8"
      ]
     },
     "metadata": {},
     "output_type": "display_data"
    }
   ],
   "source": [
    "# Fixed effect: single beta value for all individuals\n",
    "beta <- 0.8  # Fixed effect size\n",
    "epsilon <- rnorm(N, mean = 0, sd = 0.3)\n",
    "Y <- X[, 1] * beta + epsilon\n",
    "beta\n"
   ]
  },
  {
   "cell_type": "markdown",
   "id": "a7f30e69",
   "metadata": {},
   "source": [
    "Now let's calculate the PVE using the definition as well:"
   ]
  },
  {
   "cell_type": "code",
   "execution_count": 25,
   "id": "b8304244",
   "metadata": {
    "vscode": {
     "languageId": "r"
    }
   },
   "outputs": [
    {
     "data": {
      "text/html": [
       "0.916805669252621"
      ],
      "text/latex": [
       "0.916805669252621"
      ],
      "text/markdown": [
       "0.916805669252621"
      ],
      "text/plain": [
       "[1] 0.9168057"
      ]
     },
     "metadata": {},
     "output_type": "display_data"
    }
   ],
   "source": [
    "# Calculate PVE using the definition: PVE = Var(G) / Var(Y)\n",
    "# where G = X * beta (genetic component)\n",
    "G <- X[, 1] * beta\n",
    "var_G <- var(G)\n",
    "var_Y <- var(Y)\n",
    "PVE <- var_G / var_Y\n",
    "PVE"
   ]
  },
  {
   "cell_type": "code",
   "execution_count": null,
   "id": "b23e4ea5",
   "metadata": {
    "vscode": {
     "languageId": "r"
    }
   },
   "outputs": [],
   "source": []
  }
 ],
 "metadata": {
  "kernelspec": {
   "display_name": "R",
   "language": "R",
   "name": "ir"
  },
  "language_info": {
   "codemirror_mode": "r",
   "file_extension": ".r",
   "mimetype": "text/x-r-source",
   "name": "R",
   "pygments_lexer": "r",
   "version": "4.3.3"
  },
  "toc-autonumbering": true
 },
 "nbformat": 4,
 "nbformat_minor": 5
}
