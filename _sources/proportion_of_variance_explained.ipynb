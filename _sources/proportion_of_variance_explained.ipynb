{
 "cells": [
  {
   "cell_type": "markdown",
   "id": "e28d9f8f",
   "metadata": {},
   "source": [
    "# Proportion of Variance Explained and Heritability\n",
    "\n",
    "Proportion of variance explained (PVE) measures how much of the total variation in a trait (like height or disease risk) can be attributed to specific variables in your statistical model (e.g., genetic variants). Heritability is a specific application of this concept that measures how much of the variation in a trait across a population can be explained by genetic differences."
   ]
  },
  {
   "cell_type": "markdown",
   "id": "9ceb12e4",
   "metadata": {},
   "source": [
    "# Graphical Summary"
   ]
  },
  {
   "cell_type": "markdown",
   "id": "957bb501",
   "metadata": {},
   "source": [
    "![PVE](./cartoons/proportion_of_variance_explained.svg)"
   ]
  },
  {
   "cell_type": "markdown",
   "id": "47e2e817",
   "metadata": {},
   "source": [
    "# Key Formula\n",
    "\n",
    "Any phenotype can be modeled as the sum of genetic and environmental effects, i.e., $\\text{Phenotype}~(Y) = \\text{Genotype}~(G) + \\text{Environment}~(E)$, and under the assumption that G and E are independent from each other, the **proportion of variance explained (PVE)** by genetic effect alone (also called  broad-sense heritability $H^2$) can be derived as \n",
    "\n",
    "$$\n",
    "\\text{PVE} = H^2 = \\frac{\\text{Var}(G)}{\\text{Var}(Y)}\n",
    "$$\n",
    "\n",
    "where:\n",
    "- $\\text{Var}(G)$ is the genetic variance component\n",
    "- $\\text{Var}(E)$ is the environmental variance component"
   ]
  },
  {
   "cell_type": "markdown",
   "id": "f89a19b9",
   "metadata": {},
   "source": [
    "# Technical Details\n",
    "\n",
    "## Components of Variance\n",
    "\n",
    "Any phenotype can be modeled as the sum of genetic and environmental effects:\n",
    "\n",
    "$$\\text{Phenotype}~(P) = \\text{Genotype}~(G) + \\text{Environment}~(E)$$\n",
    "\n",
    "The phenotypic variance in the trait can then be partitioned as:\n",
    "\n",
    "$$\\text{Var}(P) = \\text{Var}(G) + \\text{Var}(E) + 2\\text{Cov}(G,E)$$\n",
    "\n",
    "Where:\n",
    "- $\\text{Var}(G)$ is the genetic variance component\n",
    "- $\\text{Var}(E)$ is the environmental variance component\n",
    "- $\\text{Cov}(G,E)$ is the covariance between genetic and environmental effects\n",
    "\n",
    "## Broad-sense Heritability\n",
    "\n",
    "In controlled experimental settings, we can design studies where $\\text{Cov}(G,E)$ is minimized and effectively set to zero. In such cases, heritability is defined as the proportion of phenotypic variance attributable to all genetic effects:\n",
    "\n",
    "$$H^2 = \\frac{\\text{Var}(G)}{\\text{Var}(P)}$$\n",
    "\n",
    "This represents the proportion of phenotypic variance attributable to genetic variance.\n",
    "\n",
    "## Narrow-sense Heritability\n",
    "\n",
    "**Narrow-sense heritability** ($h^2$): The proportion attributable to only **additive** genetic effects:\n",
    "$$h^2 = \\frac{\\text{Var}(A)}{\\text{Var}(P)}$$\n",
    "\n",
    "Where $\\text{Var}(A)$ is the additive genetic variance, a component of $\\text{Var}(G)$. \n",
    "\n",
    "Other components of $\\text{Var}(G)$ includes $\\text{Var}(D)$ (dominance variance) and $\\text{Var}(I)$ (epistatic variance, i.e., gene-gene interaction)\n"
   ]
  },
  {
   "cell_type": "markdown",
   "id": "899fd4a3-27ab-4954-a81e-e7803602a8a0",
   "metadata": {},
   "source": [
    "# Example"
   ]
  },
  {
   "cell_type": "markdown",
   "id": "23a9bd7d-7272-478d-85bf-e44bfd7fa712",
   "metadata": {},
   "source": [
    "This example calculates the PVE for each genetic variant in a mixed-effects model framework. \n",
    "\n",
    "For each variant, it fits a linear mixed model with the variant as a fixed effect and family structure as a random effect, then partitions the total phenotypic variance into three components: \n",
    "- fixed effect variance (from the specific genetic variant)\n",
    "- family variance (from shared genetic background)\n",
    "- residual variance (unexplained variation)\n",
    "\n",
    "The code extracts variance components from the model, calculates the fixed effect variance by multiplying the variant data by its effect size, and then determines what percentage each component contributes to the total variance. \n",
    "\n",
    "We also compute the PVE of all variants in the joint model.\n"
   ]
  },
  {
   "cell_type": "code",
   "execution_count": 12,
   "id": "70ff392f-625a-4b39-807d-15c83298de7a",
   "metadata": {
    "tags": [],
    "vscode": {
     "languageId": "r"
    }
   },
   "outputs": [
    {
     "data": {
      "text/html": [
       "<table class=\"dataframe\">\n",
       "<caption>A data.frame: 5 x 6</caption>\n",
       "<thead>\n",
       "\t<tr><th></th><th scope=col>height</th><th scope=col>family</th><th scope=col>individual</th><th scope=col>variant1</th><th scope=col>variant2</th><th scope=col>variant3</th></tr>\n",
       "\t<tr><th></th><th scope=col>&lt;dbl&gt;</th><th scope=col>&lt;dbl&gt;</th><th scope=col>&lt;int&gt;</th><th scope=col>&lt;dbl&gt;</th><th scope=col>&lt;dbl&gt;</th><th scope=col>&lt;dbl&gt;</th></tr>\n",
       "</thead>\n",
       "<tbody>\n",
       "\t<tr><th scope=row>Individual 1</th><td> 0.6528093</td><td>1</td><td>1</td><td>-0.6708204</td><td> 0.2390457</td><td> 0.4472136</td></tr>\n",
       "\t<tr><th scope=row>Individual 2</th><td>-0.5560968</td><td>1</td><td>2</td><td> 1.5652476</td><td>-0.9561829</td><td>-0.6708204</td></tr>\n",
       "\t<tr><th scope=row>Individual 3</th><td>-0.6769875</td><td>1</td><td>3</td><td> 0.4472136</td><td> 0.2390457</td><td>-0.6708204</td></tr>\n",
       "\t<tr><th scope=row>Individual 4</th><td>-0.8583234</td><td>2</td><td>4</td><td>-0.6708204</td><td>-0.9561829</td><td>-0.6708204</td></tr>\n",
       "\t<tr><th scope=row>Individual 5</th><td> 1.4385984</td><td>2</td><td>5</td><td>-0.6708204</td><td> 1.4342743</td><td> 1.5652476</td></tr>\n",
       "</tbody>\n",
       "</table>\n"
      ],
      "text/latex": [
       "A data.frame: 5 x 6\n",
       "\\begin{tabular}{r|llllll}\n",
       "  & height & family & individual & variant1 & variant2 & variant3\\\\\n",
       "  & <dbl> & <dbl> & <int> & <dbl> & <dbl> & <dbl>\\\\\n",
       "\\hline\n",
       "\tIndividual 1 &  0.6528093 & 1 & 1 & -0.6708204 &  0.2390457 &  0.4472136\\\\\n",
       "\tIndividual 2 & -0.5560968 & 1 & 2 &  1.5652476 & -0.9561829 & -0.6708204\\\\\n",
       "\tIndividual 3 & -0.6769875 & 1 & 3 &  0.4472136 &  0.2390457 & -0.6708204\\\\\n",
       "\tIndividual 4 & -0.8583234 & 2 & 4 & -0.6708204 & -0.9561829 & -0.6708204\\\\\n",
       "\tIndividual 5 &  1.4385984 & 2 & 5 & -0.6708204 &  1.4342743 &  1.5652476\\\\\n",
       "\\end{tabular}\n"
      ],
      "text/markdown": [
       "\n",
       "A data.frame: 5 x 6\n",
       "\n",
       "| <!--/--> | height &lt;dbl&gt; | family &lt;dbl&gt; | individual &lt;int&gt; | variant1 &lt;dbl&gt; | variant2 &lt;dbl&gt; | variant3 &lt;dbl&gt; |\n",
       "|---|---|---|---|---|---|---|\n",
       "| Individual 1 |  0.6528093 | 1 | 1 | -0.6708204 |  0.2390457 |  0.4472136 |\n",
       "| Individual 2 | -0.5560968 | 1 | 2 |  1.5652476 | -0.9561829 | -0.6708204 |\n",
       "| Individual 3 | -0.6769875 | 1 | 3 |  0.4472136 |  0.2390457 | -0.6708204 |\n",
       "| Individual 4 | -0.8583234 | 2 | 4 | -0.6708204 | -0.9561829 | -0.6708204 |\n",
       "| Individual 5 |  1.4385984 | 2 | 5 | -0.6708204 |  1.4342743 |  1.5652476 |\n",
       "\n"
      ],
      "text/plain": [
       "             height     family individual variant1   variant2   variant3  \n",
       "Individual 1  0.6528093 1      1          -0.6708204  0.2390457  0.4472136\n",
       "Individual 2 -0.5560968 1      2           1.5652476 -0.9561829 -0.6708204\n",
       "Individual 3 -0.6769875 1      3           0.4472136  0.2390457 -0.6708204\n",
       "Individual 4 -0.8583234 2      4          -0.6708204 -0.9561829 -0.6708204\n",
       "Individual 5  1.4385984 2      5          -0.6708204  1.4342743  1.5652476"
      ]
     },
     "metadata": {},
     "output_type": "display_data"
    }
   ],
   "source": [
    "# Clear the environment\n",
    "rm(list = ls())\n",
    "\n",
    "# Load required packages\n",
    "library(lme4)  # For mixed-effect models\n",
    "\n",
    "# Define genotypes for 5 individuals at 3 variants\n",
    "# These represent actual alleles at each position\n",
    "# For example, Individual 1 has genotypes: CC, CT, AT\n",
    "genotypes <- c(\n",
    " \"CC\", \"CT\", \"AT\",  # Individual 1\n",
    " \"TT\", \"TT\", \"AA\",  # Individual 2\n",
    " \"CT\", \"CT\", \"AA\",  # Individual 3\n",
    " \"CC\", \"TT\", \"AA\",  # Individual 4\n",
    " \"CC\", \"CC\", \"TT\"   # Individual 5\n",
    ")\n",
    "# Reshape into a matrix\n",
    "N = 5 # number of individuals\n",
    "M = 3 # number of variants\n",
    "geno_matrix <- matrix(genotypes, nrow=N, ncol=M, byrow=TRUE)\n",
    "rownames(geno_matrix) <- paste(\"Individual\", 1:N)\n",
    "colnames(geno_matrix) <- paste(\"Variant\", 1:M)\n",
    "\n",
    "alt_alleles <- c(\"T\", \"C\", \"T\")\n",
    "\n",
    "# Convert to raw genotype matrix using the additive / dominant / recessive model\n",
    "Xraw_additive <- matrix(0, nrow=N, ncol=M) # dount number of non-reference alleles\n",
    "\n",
    "rownames(Xraw_additive) <- rownames(geno_matrix)\n",
    "colnames(Xraw_additive) <- colnames(geno_matrix)\n",
    "\n",
    "for (i in 1:N) {\n",
    "  for (j in 1:M) {\n",
    "    alleles <- strsplit(geno_matrix[i,j], \"\")[[1]]\n",
    "    Xraw_additive[i,j] <- sum(alleles == alt_alleles[j])\n",
    "  }\n",
    "}\n",
    "X <- scale(Xraw_additive, center=TRUE, scale=TRUE)\n",
    "\n",
    "# assign observed height for the 5 individuals\n",
    "Y_raw <- c(180, 160, 158, 155, 193)\n",
    "Y <- scale(Y_raw)\n",
    "\n",
    "# Add family information (individuals 1,2,3 are from family 1, and 4,5 from family 2)\n",
    "family_info <- c(1, 1, 1, 2, 2)\n",
    "\n",
    "# Create a data frame for analysis with scaled genotypes\n",
    "genetic_data <- data.frame(\n",
    "  height = Y,\n",
    "  family = family_info,\n",
    "  individual = 1:N,\n",
    "  X  # This directly adds all columns of X to the dataframe\n",
    ")\n",
    "\n",
    "# Rename the genotype columns for clarity\n",
    "colnames(genetic_data)[4:(3+M)] <- paste0(\"variant\", 1:M)\n",
    "\n",
    "genetic_data"
   ]
  },
  {
   "cell_type": "code",
   "execution_count": 13,
   "id": "18177276",
   "metadata": {
    "vscode": {
     "languageId": "r"
    }
   },
   "outputs": [
    {
     "name": "stderr",
     "output_type": "stream",
     "text": [
      "boundary (singular) fit: see help('isSingular')\n",
      "\n",
      "boundary (singular) fit: see help('isSingular')\n",
      "\n"
     ]
    },
    {
     "data": {
      "text/html": [
       "<table class=\"dataframe\">\n",
       "<caption>A data.frame: 3 x 8</caption>\n",
       "<thead>\n",
       "\t<tr><th scope=col>Variant</th><th scope=col>PVE_Fixed</th><th scope=col>PVE_Family</th><th scope=col>PVE_Residual</th><th scope=col>Fixed_Variance</th><th scope=col>Family_Variance</th><th scope=col>Residual_Variance</th><th scope=col>Total_Variance</th></tr>\n",
       "\t<tr><th scope=col>&lt;chr&gt;</th><th scope=col>&lt;dbl&gt;</th><th scope=col>&lt;dbl&gt;</th><th scope=col>&lt;dbl&gt;</th><th scope=col>&lt;dbl&gt;</th><th scope=col>&lt;dbl&gt;</th><th scope=col>&lt;dbl&gt;</th><th scope=col>&lt;dbl&gt;</th></tr>\n",
       "</thead>\n",
       "<tbody>\n",
       "\t<tr><td>variant1</td><td>20.00779</td><td>0.000000</td><td>79.9922054</td><td>0.2500913</td><td>0.00000000</td><td>0.999878212</td><td>1.24997</td></tr>\n",
       "\t<tr><td>variant2</td><td>66.60926</td><td>0.000000</td><td>33.3907386</td><td>0.7267603</td><td>0.00000000</td><td>0.364319641</td><td>1.09108</td></tr>\n",
       "\t<tr><td>variant3</td><td>95.70867</td><td>3.655575</td><td> 0.6357522</td><td>1.1000658</td><td>0.04201681</td><td>0.007307271</td><td>1.14939</td></tr>\n",
       "</tbody>\n",
       "</table>\n"
      ],
      "text/latex": [
       "A data.frame: 3 x 8\n",
       "\\begin{tabular}{llllllll}\n",
       " Variant & PVE\\_Fixed & PVE\\_Family & PVE\\_Residual & Fixed\\_Variance & Family\\_Variance & Residual\\_Variance & Total\\_Variance\\\\\n",
       " <chr> & <dbl> & <dbl> & <dbl> & <dbl> & <dbl> & <dbl> & <dbl>\\\\\n",
       "\\hline\n",
       "\t variant1 & 20.00779 & 0.000000 & 79.9922054 & 0.2500913 & 0.00000000 & 0.999878212 & 1.24997\\\\\n",
       "\t variant2 & 66.60926 & 0.000000 & 33.3907386 & 0.7267603 & 0.00000000 & 0.364319641 & 1.09108\\\\\n",
       "\t variant3 & 95.70867 & 3.655575 &  0.6357522 & 1.1000658 & 0.04201681 & 0.007307271 & 1.14939\\\\\n",
       "\\end{tabular}\n"
      ],
      "text/markdown": [
       "\n",
       "A data.frame: 3 x 8\n",
       "\n",
       "| Variant &lt;chr&gt; | PVE_Fixed &lt;dbl&gt; | PVE_Family &lt;dbl&gt; | PVE_Residual &lt;dbl&gt; | Fixed_Variance &lt;dbl&gt; | Family_Variance &lt;dbl&gt; | Residual_Variance &lt;dbl&gt; | Total_Variance &lt;dbl&gt; |\n",
       "|---|---|---|---|---|---|---|---|\n",
       "| variant1 | 20.00779 | 0.000000 | 79.9922054 | 0.2500913 | 0.00000000 | 0.999878212 | 1.24997 |\n",
       "| variant2 | 66.60926 | 0.000000 | 33.3907386 | 0.7267603 | 0.00000000 | 0.364319641 | 1.09108 |\n",
       "| variant3 | 95.70867 | 3.655575 |  0.6357522 | 1.1000658 | 0.04201681 | 0.007307271 | 1.14939 |\n",
       "\n"
      ],
      "text/plain": [
       "  Variant  PVE_Fixed PVE_Family PVE_Residual Fixed_Variance Family_Variance\n",
       "1 variant1 20.00779  0.000000   79.9922054   0.2500913      0.00000000     \n",
       "2 variant2 66.60926  0.000000   33.3907386   0.7267603      0.00000000     \n",
       "3 variant3 95.70867  3.655575    0.6357522   1.1000658      0.04201681     \n",
       "  Residual_Variance Total_Variance\n",
       "1 0.999878212       1.24997       \n",
       "2 0.364319641       1.09108       \n",
       "3 0.007307271       1.14939       "
      ]
     },
     "metadata": {},
     "output_type": "display_data"
    }
   ],
   "source": [
    "# Single variant analysis and PVE results\n",
    "pve_results_single_variants <- data.frame(\n",
    "  Variant = character(),\n",
    "  PVE_Fixed = numeric(),\n",
    "  PVE_Family = numeric(),\n",
    "  PVE_Residual = numeric(),\n",
    "  Fixed_Variance = numeric(),\n",
    "  Family_Variance = numeric(),\n",
    "  Residual_Variance = numeric(),\n",
    "  Total_Variance = numeric(),\n",
    "  stringsAsFactors = FALSE\n",
    ")\n",
    "\n",
    "# Calculate PVE for each variant individually\n",
    "for (j in 1:M) {\n",
    "  variant_col <- paste0(\"variant\", j)\n",
    "  formula <- as.formula(paste(\"height ~\", variant_col, \"+ (1|family)\"))\n",
    "  \n",
    "  # Fit random effect model\n",
    "  model <- lmer(formula, data = genetic_data)\n",
    "  \n",
    "  # Extract variance components\n",
    "  vc <- VarCorr(model)\n",
    "  family_variance <- as.numeric(vc$family)\n",
    "  residual_variance <- attr(vc, \"sc\")^2\n",
    "  \n",
    "  # Calculate fixed effect variance\n",
    "  beta <- fixef(model)[variant_col]\n",
    "  X_var <- matrix(genetic_data[[variant_col]])\n",
    "  fixed_variance <- var(as.vector(X_var * beta))\n",
    "  \n",
    "  # Calculate total variance\n",
    "  total_variance <- fixed_variance + family_variance + residual_variance\n",
    "  \n",
    "  # Calculate PVE for each component\n",
    "  pve_fixed <- fixed_variance / total_variance\n",
    "  pve_family <- family_variance / total_variance\n",
    "  pve_residual <- residual_variance / total_variance\n",
    "  \n",
    "  # Store results in the data frame\n",
    "  pve_results_single_variants <- rbind(pve_results_single_variants, data.frame(\n",
    "    Variant = variant_col,\n",
    "    PVE_Fixed = pve_fixed * 100,\n",
    "    PVE_Family = pve_family * 100,\n",
    "    PVE_Residual = pve_residual * 100,\n",
    "    Fixed_Variance = fixed_variance,\n",
    "    Family_Variance = family_variance,\n",
    "    Residual_Variance = residual_variance,\n",
    "    Total_Variance = total_variance,\n",
    "    stringsAsFactors = FALSE\n",
    "  ))\n",
    "}\n",
    "\n",
    "pve_results_single_variants"
   ]
  },
  {
   "cell_type": "code",
   "execution_count": 14,
   "id": "82917fcd",
   "metadata": {
    "vscode": {
     "languageId": "r"
    }
   },
   "outputs": [
    {
     "name": "stderr",
     "output_type": "stream",
     "text": [
      "Warning message in checkConv(attr(opt, \"derivs\"), opt$par, ctrl = control$checkConv, :\n",
      "\"unable to evaluate scaled gradient\"\n",
      "Warning message in checkConv(attr(opt, \"derivs\"), opt$par, ctrl = control$checkConv, :\n",
      "\" Hessian is numerically singular: parameters are not uniquely determined\"\n"
     ]
    },
    {
     "name": "stdout",
     "output_type": "stream",
     "text": [
      "\n",
      "---------- PVE Analysis for All Variants Together ----------\n",
      "Fixed effects (all variants) PVE: 92.48 %\n",
      "Random effect (family) PVE: 1.41 %\n",
      "Residual PVE: 6.11 %\n",
      "Total: 100 %\n",
      "\n",
      "Variance components:\n",
      "Fixed effects variance: 1.0142 \n",
      "Family variance: 0.0155 \n",
      "Residual variance: 0.067 \n",
      "Total variance: 1.0967 \n",
      "\n",
      "Heritability (proportion of variance due to family structure): 18.77 %\n"
     ]
    }
   ],
   "source": [
    "# Calculate PVE for all variants together\n",
    "# Fit the full model with all variants\n",
    "full_formula <- as.formula(\"height ~ variant1 + variant2 + variant3 + (1|family)\")\n",
    "full_model <- lmer(full_formula, data = genetic_data)\n",
    "\n",
    "# Extract variance components\n",
    "vc_full <- VarCorr(full_model)\n",
    "family_variance_full <- as.numeric(vc_full$family)\n",
    "residual_variance_full <- attr(vc_full, \"sc\")^2\n",
    "\n",
    "# Calculate fixed effect variance for the full model\n",
    "betas <- fixef(full_model)[2:(M+1)]  # Skip intercept\n",
    "X_design <- as.matrix(genetic_data[, 4:(3+M)])\n",
    "predicted_fixed <- X_design %*% betas\n",
    "fixed_variance_full <- var(as.vector(predicted_fixed))\n",
    "\n",
    "# Calculate total variance\n",
    "total_variance_full <- fixed_variance_full + family_variance_full + residual_variance_full\n",
    "\n",
    "# Calculate PVE for each component\n",
    "pve_fixed_full <- fixed_variance_full / total_variance_full\n",
    "pve_family_full <- family_variance_full / total_variance_full\n",
    "pve_residual_full <- residual_variance_full / total_variance_full\n",
    "\n",
    "# Print out the results for all variants together\n",
    "cat(\"\\n---------- PVE Analysis for All Variants Together ----------\\n\")\n",
    "cat(\"Fixed effects (all variants) PVE:\", round(pve_fixed_full * 100, 2), \"%\\n\")\n",
    "cat(\"Random effect (family) PVE:\", round(pve_family_full * 100, 2), \"%\\n\")\n",
    "cat(\"Residual PVE:\", round(pve_residual_full * 100, 2), \"%\\n\")\n",
    "cat(\"Total:\", round((pve_fixed_full + pve_family_full + pve_residual_full) * 100, 2), \"%\\n\\n\")\n",
    "\n",
    "cat(\"Variance components:\\n\")\n",
    "cat(\"Fixed effects variance:\", round(fixed_variance_full, 4), \"\\n\")\n",
    "cat(\"Family variance:\", round(family_variance_full, 4), \"\\n\")\n",
    "cat(\"Residual variance:\", round(residual_variance_full, 4), \"\\n\")\n",
    "cat(\"Total variance:\", round(total_variance_full, 4), \"\\n\")\n",
    "\n",
    "# Calculate heritability (proportion of variance due to family structure)\n",
    "heritability <- family_variance_full / (family_variance_full + residual_variance_full)\n",
    "cat(\"\\nHeritability (proportion of variance due to family structure):\", \n",
    "    round(heritability * 100, 2), \"%\\n\")"
   ]
  },
  {
   "cell_type": "markdown",
   "id": "4442020e-b2b3-4386-907b-79b351782a92",
   "metadata": {},
   "source": [
    "# Supplementary\n",
    "\n",
    "- Zhu H, Zhou X. Statistical methods for SNP heritability estimation and partition: A review. Comput Struct Biotechnol J. 2020 Jun 18;18:1557-1568. doi: 10.1016/j.csbj.2020.06.011. PMID: 32637052; PMCID: PMC7330487."
   ]
  },
  {
   "cell_type": "code",
   "execution_count": null,
   "id": "e19b7a19-eaa9-4822-9021-bf3b7b565c9c",
   "metadata": {
    "vscode": {
     "languageId": "r"
    }
   },
   "outputs": [],
   "source": []
  }
 ],
 "metadata": {
  "kernelspec": {
   "display_name": "R",
   "language": "R",
   "name": "ir"
  },
  "language_info": {
   "codemirror_mode": "r",
   "file_extension": ".r",
   "mimetype": "text/x-r-source",
   "name": "R",
   "pygments_lexer": "r",
   "version": "4.3.3"
  },
  "toc-autonumbering": true
 },
 "nbformat": 4,
 "nbformat_minor": 5
}
