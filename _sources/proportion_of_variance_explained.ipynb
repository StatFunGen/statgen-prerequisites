{
 "cells": [
  {
   "cell_type": "markdown",
   "id": "e28d9f8f",
   "metadata": {},
   "source": [
    "# Proportion of Variance Explained and Heritability\n",
    "\n",
    "Proportion of variance explained (PVE) measures how much of the total variation in a trait (like height or disease risk) can be attributed to specific variables in your statistical model (e.g., genetic variants). Heritability is a specific application of this concept that measures how much of the variation in a trait across a population can be explained by genetic differences."
   ]
  },
  {
   "cell_type": "markdown",
   "id": "9ceb12e4",
   "metadata": {},
   "source": [
    "# Graphical Summary"
   ]
  },
  {
   "cell_type": "markdown",
   "id": "957bb501",
   "metadata": {},
   "source": [
    "![PVE](./graphical_summary/Slide15.png)"
   ]
  },
  {
   "cell_type": "markdown",
   "id": "47e2e817",
   "metadata": {},
   "source": [
    "# Key Formula\n",
    "\n",
    "Any phenotype can be modeled as the sum of genetic and environmental effects, i.e., $\\text{Phenotype}~(Y) = \\text{Genotype}~(G) + \\text{Environment}~(E)$, and under the assumption that G and E are independent from each other, the **proportion of variance explained (PVE)** by genetic effect alone (also called  broad-sense heritability $H^2$) can be derived as \n",
    "\n",
    "$$\n",
    "\\text{PVE} = H^2 = \\frac{\\text{Var}(G)}{\\text{Var}(Y)}\n",
    "$$\n",
    "\n",
    "where:\n",
    "- $\\text{Var}(G)$ is the genetic variance component\n",
    "- $\\text{Var}(E)$ is the environmental variance component"
   ]
  },
  {
   "cell_type": "markdown",
   "id": "f89a19b9",
   "metadata": {},
   "source": [
    "# Technical Details\n",
    "\n",
    "## Components of Variance\n",
    "\n",
    "Any phenotype can be modeled as the sum of genetic and environmental effects:\n",
    "\n",
    "$$\\text{Phenotype}~(P) = \\text{Genotype}~(G) + \\text{Environment}~(E)$$\n",
    "\n",
    "The phenotypic variance in the trait can then be partitioned as:\n",
    "\n",
    "$$\\text{Var}(P) = \\text{Var}(G) + \\text{Var}(E) + 2\\text{Cov}(G,E)$$\n",
    "\n",
    "Where:\n",
    "- $\\text{Var}(G)$ is the genetic variance component\n",
    "- $\\text{Var}(E)$ is the environmental variance component\n",
    "- $\\text{Cov}(G,E)$ is the covariance between genetic and environmental effects\n",
    "\n",
    "## Broad-sense Heritability\n",
    "\n",
    "In controlled experimental settings, we can design studies where $\\text{Cov}(G,E)$ is minimized and effectively set to zero. In such cases, heritability is defined as the proportion of phenotypic variance attributable to all genetic effects:\n",
    "\n",
    "$$H^2 = \\frac{\\text{Var}(G)}{\\text{Var}(P)}$$\n",
    "\n",
    "This represents the proportion of phenotypic variance attributable to genetic variance.\n",
    "\n",
    "## Narrow-sense Heritability\n",
    "\n",
    "**Narrow-sense heritability** ($h^2$): The proportion attributable to only **additive** genetic effects:\n",
    "\n",
    "$$h^2 = \\frac{\\text{Var}(A)}{\\text{Var}(P)}$$\n",
    "\n",
    "Where $\\text{Var}(A)$ is the additive genetic variance, a component of $\\text{Var}(G)$. \n",
    "\n",
    "Other components of $\\text{Var}(G)$ includes $\\text{Var}(D)$ (dominance variance) and $\\text{Var}(I)$ (epistatic variance, i.e., gene-gene interaction)\n"
   ]
  },
  {
   "cell_type": "markdown",
   "id": "899fd4a3-27ab-4954-a81e-e7803602a8a0",
   "metadata": {},
   "source": [
    "# Example"
   ]
  },
  {
   "cell_type": "markdown",
   "id": "23a9bd7d-7272-478d-85bf-e44bfd7fa712",
   "metadata": {},
   "source": [
    "This example calculates the PVE for each genetic variant in a mixed-effects model framework. \n",
    "\n",
    "Following the example about random effect, the first genetic variant is the true causal variant and its true effect comes from the distribution $N(0,1)$. After simulating the data we fit a joint model and compute the proportion of variance explained by the genetic variants.\n",
    "\n",
    "- Requirement: \n",
    "  - [OLS](https://gaow.github.io/statgen-prerequisites/ordinary_least_squares.html)\n",
    "  - [Summary Statistics](https://gaow.github.io/statgen-prerequisites/summary_statistics.html)\n",
    "  - [Random Effect](https://gaow.github.io/statgen-prerequisites/random_effect.html)"
   ]
  },
  {
   "cell_type": "code",
   "execution_count": 15,
   "id": "191ec6c0",
   "metadata": {
    "vscode": {
     "languageId": "r"
    }
   },
   "outputs": [],
   "source": [
    "# Clear the environment\n",
    "rm(list = ls())\n",
    "set.seed(12)\n",
    "# Define genotypes for 5 individuals at 3 variants\n",
    "# These represent actual alleles at each position\n",
    "# For example, Individual 1 has genotypes: CC, CT, AT\n",
    "genotypes <- c(\n",
    " \"CC\", \"CT\", \"AT\",  # Individual 1\n",
    " \"TT\", \"TT\", \"AA\",  # Individual 2\n",
    " \"CT\", \"CT\", \"AA\",  # Individual 3\n",
    " \"CC\", \"TT\", \"AA\",  # Individual 4\n",
    " \"CC\", \"CC\", \"TT\"   # Individual 5\n",
    ")\n",
    "# Reshape into a matrix\n",
    "N = 5 # number of individuals\n",
    "M = 3 # number of variants\n",
    "geno_matrix <- matrix(genotypes, nrow=N, ncol=M, byrow=TRUE)\n",
    "rownames(geno_matrix) <- paste(\"Individual\", 1:N)\n",
    "colnames(geno_matrix) <- paste(\"Variant\", 1:M)\n",
    "\n",
    "alt_alleles <- c(\"T\", \"C\", \"T\")\n",
    "\n",
    "# Convert to raw genotype matrix using the additive / dominant / recessive model\n",
    "Xraw_additive <- matrix(0, nrow=N, ncol=M) # dount number of non-reference alleles\n",
    "\n",
    "rownames(Xraw_additive) <- rownames(geno_matrix)\n",
    "colnames(Xraw_additive) <- colnames(geno_matrix)\n",
    "\n",
    "for (i in 1:N) {\n",
    "  for (j in 1:M) {\n",
    "    alleles <- strsplit(geno_matrix[i,j], \"\")[[1]]\n",
    "    Xraw_additive[i,j] <- sum(alleles == alt_alleles[j])\n",
    "  }\n",
    "}\n",
    "X <- scale(Xraw_additive, center=TRUE, scale=TRUE)"
   ]
  },
  {
   "cell_type": "markdown",
   "id": "37dfed5e",
   "metadata": {},
   "source": [
    "Let's assume that the first variant is the true causal variant and its $\\beta$ comes from a normal distribution $N(0,1)$, while the error term comes from a distribution $N(0,0.3)$, then the observed trait value would be:"
   ]
  },
  {
   "cell_type": "code",
   "execution_count": 16,
   "id": "a24ee9c0",
   "metadata": {
    "vscode": {
     "languageId": "r"
    }
   },
   "outputs": [],
   "source": [
    "beta_1 <- rnorm(1, mean = 0, sd = 1)\n",
    "epsilon <- rnorm(N, mean = 0, sd = 0.3)\n",
    "Y <- X[, 1] * beta_1 + epsilon\n"
   ]
  },
  {
   "cell_type": "markdown",
   "id": "d4827b09",
   "metadata": {},
   "source": [
    "Then let's fit the OLS model:"
   ]
  },
  {
   "cell_type": "code",
   "execution_count": 17,
   "id": "805bd812",
   "metadata": {
    "vscode": {
     "languageId": "r"
    }
   },
   "outputs": [
    {
     "data": {
      "text/html": [
       "<table class=\"dataframe\">\n",
       "<caption>A data.frame: 3 x 4</caption>\n",
       "<thead>\n",
       "\t<tr><th scope=col>Variant</th><th scope=col>Beta</th><th scope=col>P_Value</th><th scope=col>PVE</th></tr>\n",
       "\t<tr><th scope=col>&lt;chr&gt;</th><th scope=col>&lt;dbl&gt;</th><th scope=col>&lt;dbl&gt;</th><th scope=col>&lt;dbl&gt;</th></tr>\n",
       "</thead>\n",
       "<tbody>\n",
       "\t<tr><td>Variant 1</td><td>-1.588887</td><td>0.005496276</td><td>0.9454644</td></tr>\n",
       "\t<tr><td>Variant 2</td><td> 0.886833</td><td>0.344599346</td><td>0.2945391</td></tr>\n",
       "\t<tr><td>Variant 3</td><td> 1.048680</td><td>0.243084489</td><td>0.4118557</td></tr>\n",
       "</tbody>\n",
       "</table>\n"
      ],
      "text/latex": [
       "A data.frame: 3 x 4\n",
       "\\begin{tabular}{llll}\n",
       " Variant & Beta & P\\_Value & PVE\\\\\n",
       " <chr> & <dbl> & <dbl> & <dbl>\\\\\n",
       "\\hline\n",
       "\t Variant 1 & -1.588887 & 0.005496276 & 0.9454644\\\\\n",
       "\t Variant 2 &  0.886833 & 0.344599346 & 0.2945391\\\\\n",
       "\t Variant 3 &  1.048680 & 0.243084489 & 0.4118557\\\\\n",
       "\\end{tabular}\n"
      ],
      "text/markdown": [
       "\n",
       "A data.frame: 3 x 4\n",
       "\n",
       "| Variant &lt;chr&gt; | Beta &lt;dbl&gt; | P_Value &lt;dbl&gt; | PVE &lt;dbl&gt; |\n",
       "|---|---|---|---|\n",
       "| Variant 1 | -1.588887 | 0.005496276 | 0.9454644 |\n",
       "| Variant 2 |  0.886833 | 0.344599346 | 0.2945391 |\n",
       "| Variant 3 |  1.048680 | 0.243084489 | 0.4118557 |\n",
       "\n"
      ],
      "text/plain": [
       "  Variant   Beta      P_Value     PVE      \n",
       "1 Variant 1 -1.588887 0.005496276 0.9454644\n",
       "2 Variant 2  0.886833 0.344599346 0.2945391\n",
       "3 Variant 3  1.048680 0.243084489 0.4118557"
      ]
     },
     "metadata": {},
     "output_type": "display_data"
    }
   ],
   "source": [
    "# OLS summary statistics for all variants\n",
    "p_values <- numeric(M)\n",
    "betas <- numeric(M)\n",
    "pve <- numeric(M)\n",
    "for (j in 1:M) {\n",
    "  SNP <- X[, j]\n",
    "  model <- lm(Y ~ SNP)\n",
    "  summary_model <- summary(model)\n",
    "  \n",
    "  betas[j] <- summary_model$coefficients[2, 1]\n",
    "  p_values[j] <- summary_model$coefficients[2, 4]\n",
    "  pve[j] <- summary_model$r.squared\n",
    "}\n",
    "\n",
    "# Create summary table\n",
    "OLS_results <- data.frame(Variant = colnames(X), Beta = betas, P_Value = p_values, PVE = pve)\n",
    "OLS_results"
   ]
  },
  {
   "cell_type": "markdown",
   "id": "c1080a56",
   "metadata": {},
   "source": [
    "Now we add the PVE column in the summary statistics (though normally you would not see this column). We know about the truth that the first variant is the true causal variant and explains most of the variance -- but why does the PVE sum over 1? and why is the second and third variants also explain some of the variance?"
   ]
  },
  {
   "cell_type": "markdown",
   "id": "7df63e0c",
   "metadata": {},
   "source": [
    "What if we fit a joint model?"
   ]
  },
  {
   "cell_type": "code",
   "execution_count": 18,
   "id": "f875c6ed",
   "metadata": {
    "vscode": {
     "languageId": "r"
    }
   },
   "outputs": [
    {
     "data": {
      "text/html": [
       "0.958678677724957"
      ],
      "text/latex": [
       "0.958678677724957"
      ],
      "text/markdown": [
       "0.958678677724957"
      ],
      "text/plain": [
       "[1] 0.9586787"
      ]
     },
     "metadata": {},
     "output_type": "display_data"
    }
   ],
   "source": [
    "# The previous code calculated marginal effects (GWAS-style, one SNP at a time)\n",
    "# Now let's calculate joint effects by including all variants in one model\n",
    "\n",
    "# Multiple regression model including all variants simultaneously\n",
    "joint_model <- lm(Y ~ X)\n",
    "joint_summary <- summary(joint_model)\n",
    "joint_summary$r.squared # Overall model R-squared"
   ]
  },
  {
   "cell_type": "markdown",
   "id": "843717fe",
   "metadata": {},
   "source": [
    "The joint model suggests that the three variants all together explain 95.87% of the total variance."
   ]
  },
  {
   "cell_type": "markdown",
   "id": "4442020e-b2b3-4386-907b-79b351782a92",
   "metadata": {},
   "source": [
    "# Supplementary\n",
    "\n",
    "- Zhu H, Zhou X. Statistical methods for SNP heritability estimation and partition: A review. Comput Struct Biotechnol J. 2020 Jun 18;18:1557-1568. doi: 10.1016/j.csbj.2020.06.011. PMID: 32637052; PMCID: PMC7330487."
   ]
  },
  {
   "cell_type": "code",
   "execution_count": null,
   "id": "e19b7a19-eaa9-4822-9021-bf3b7b565c9c",
   "metadata": {
    "vscode": {
     "languageId": "r"
    }
   },
   "outputs": [],
   "source": []
  }
 ],
 "metadata": {
  "kernelspec": {
   "display_name": "R",
   "language": "R",
   "name": "ir"
  },
  "language_info": {
   "codemirror_mode": "r",
   "file_extension": ".r",
   "mimetype": "text/x-r-source",
   "name": "R",
   "pygments_lexer": "r",
   "version": "4.3.3"
  },
  "toc-autonumbering": true
 },
 "nbformat": 4,
 "nbformat_minor": 5
}
