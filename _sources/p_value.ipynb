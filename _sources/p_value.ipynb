{
 "cells": [
  {
   "cell_type": "markdown",
   "id": "1f8e41cf",
   "metadata": {},
   "source": [
    "# p-value\n",
    "In null-hypothesis significance testing, the p-value is **the probability of obtaining test results at least as extreme as the result actually observed**, under the assumption that the **null hypothesis is correct**."
   ]
  },
  {
   "cell_type": "markdown",
   "id": "a99dda04",
   "metadata": {},
   "source": [
    "# Graphical Summary"
   ]
  },
  {
   "cell_type": "markdown",
   "id": "d470175e",
   "metadata": {},
   "source": [
    "![Fig](./graphical_summary/slides/Slide25.png)"
   ]
  },
  {
   "cell_type": "markdown",
   "id": "0389d462",
   "metadata": {},
   "source": [
    "# Key Formula\n",
    "\n",
    "The p-value represents the probability of observing a test statistic at least as extreme as what was actually observed, assuming the null hypothesis is true.\n",
    "\n",
    "$$\n",
    "p\\text{-value} = P(\\text{Test Statistic is as extreme or more extreme than observed} | H_0 \\text{ is true})\n",
    "$$"
   ]
  },
  {
   "cell_type": "markdown",
   "id": "12ec5448",
   "metadata": {},
   "source": [
    "# Technical Details\n",
    "\n",
    "## Mathematical Definition\n",
    "\n",
    "For a test statistic $T$ and observed value $t$:\n",
    "\n",
    "$$\n",
    "\\begin{align}\n",
    "p\\text{-value} &= P(T \\geq t | H_0) \\quad \\text{[right-tailed test]} \\\\\n",
    "p\\text{-value} &= P(T \\leq t | H_0) \\quad \\text{[left-tailed test]} \\\\\n",
    "p\\text{-value} &= 2 \\times P(T \\geq |t| | H_0) \\quad \\text{[two-tailed test]}\n",
    "\\end{align}\n",
    "$$\n",
    "\n",
    "### Key Properties\n",
    "1. **Monotonic Relationship**: Smaller p-values correspond to more extreme test statistics\n",
    "2. **Significance Level**: We reject $H_0$ if $p\\text{-value} \\leq \\alpha$ ($\\alpha$ is the significance level)\n",
    "\n",
    "### Critical Limitation: Asymmetric Logic\n",
    "**Important**: The null hypothesis $H_0$ can never be \"accepted\" or \"proven true\" - it can only be:\n",
    "- **Rejected** (when $p\\text{-value} \\leq \\alpha$): Strong evidence against $H_0$\n",
    "- **Not rejected** (when $p\\text{-value} > \\alpha$): Insufficient evidence to reject $H_0$\n",
    "\n",
    "\n",
    "## Contrast with Bayesian Inference when only considering $H_0$ and $H_a$\n",
    "\n",
    "- In frequentist: \n",
    "  - The action we do in frequentist is to \"**reject** the null\" versus \"**fail to reject** the null\" under the observed data\n",
    "  - \"Not rejected\" is not \"accepted\" or \"true\". Absence of evidence is not evidence of absence\n",
    "  - p-value is the type I error under the null hypothesis.\n",
    "- In Bayesian inference:\n",
    "  - One can directly calculate the probability of **accepting $H_0$** given the observed data $\\text{D}$:\n",
    "  \n",
    "    $$\n",
    "    P(H_0 | \\text{D}) = \\frac{P(\\text{D} | H_0) \\cdot P(H_0)}{P(\\text{D})}\n",
    "    $$\n",
    "  - and it can be either accepting $H_0$ or any other model or hypothesis"
   ]
  },
  {
   "cell_type": "markdown",
   "id": "9a990c33",
   "metadata": {},
   "source": [
    "# Related Topics\n",
    "\n",
    "- [ordinary least squares](https://gaow.github.io/statgen-prerequisites/ordinary_least_squares.html)\n",
    "- [summary statistics](https://gaow.github.io/statgen-prerequisites/summary_statistics.html)\n",
    "- [likelihood](https://gaow.github.io/statgen-prerequisites/likelihood.html)\n",
    "- [Bayes factor](https://gaow.github.io/statgen-prerequisites/Bayes_factor.html)"
   ]
  },
  {
   "cell_type": "markdown",
   "id": "6de151a0",
   "metadata": {},
   "source": [
    "# Example\n",
    "\n",
    "You find a coin on the street and wonder: \"Is this thing rigged?\" So you flip it 10 times and get only 3 heads and 7 tails. Your gut says something's off, but how do you know if you're just unlucky or if the coin is actually biased?\n",
    "\n",
    "This is exactly what p-values help us figure out. Instead of relying on gut feelings, we can ask: *If this coin were perfectly fair, how often would we see results this extreme (or more extreme) just by random chance?\"*"
   ]
  },
  {
   "cell_type": "markdown",
   "id": "cc1539f2",
   "metadata": {},
   "source": [
    "## Setting Up Our Investigation"
   ]
  },
  {
   "cell_type": "code",
   "execution_count": 1,
   "id": "71dd373e",
   "metadata": {
    "vscode": {
     "languageId": "r"
    }
   },
   "outputs": [
    {
     "name": "stdout",
     "output_type": "stream",
     "text": [
      "Observed:  3  heads out of  10  flips\n",
      "That's  30 % heads\n"
     ]
    }
   ],
   "source": [
    "rm(list=ls())\n",
    "# Our observed data\n",
    "heads_observed <- 3\n",
    "tails_observed <- 7\n",
    "total_flips <- 10\n",
    "\n",
    "# Our hypothesis\n",
    "fair_coin_prob <- 0.5\n",
    "\n",
    "cat(\"Observed: \", heads_observed, \" heads out of \", total_flips, \" flips\\n\")\n",
    "cat(\"That's \", heads_observed/total_flips*100, \"% heads\\n\")"
   ]
  },
  {
   "cell_type": "markdown",
   "id": "fa2e1a76",
   "metadata": {},
   "source": [
    "## What Would a Fair Coin Actually Do?\n",
    "\n",
    "Let's simulate what happens when we flip a fair coin 10 times, thousands of times over:"
   ]
  },
  {
   "cell_type": "code",
   "execution_count": 2,
   "id": "7e55a7a9",
   "metadata": {
    "vscode": {
     "languageId": "r"
    }
   },
   "outputs": [
    {
     "name": "stdout",
     "output_type": "stream",
     "text": [
      "In our first 20 simulations, we got this many heads..."
     ]
    },
    {
     "data": {
      "text/html": [
       "<style>\n",
       ".list-inline {list-style: none; margin:0; padding: 0}\n",
       ".list-inline>li {display: inline-block}\n",
       ".list-inline>li:not(:last-child)::after {content: \"\\00b7\"; padding: 0 .5ex}\n",
       "</style>\n",
       "<ol class=list-inline><li>5</li><li>6</li><li>3</li><li>7</li><li>3</li><li>8</li><li>6</li><li>4</li><li>3</li><li>4</li><li>4</li><li>4</li><li>8</li><li>5</li><li>6</li><li>3</li><li>5</li><li>6</li><li>5</li><li>6</li></ol>\n"
      ],
      "text/latex": [
       "\\begin{enumerate*}\n",
       "\\item 5\n",
       "\\item 6\n",
       "\\item 3\n",
       "\\item 7\n",
       "\\item 3\n",
       "\\item 8\n",
       "\\item 6\n",
       "\\item 4\n",
       "\\item 3\n",
       "\\item 4\n",
       "\\item 4\n",
       "\\item 4\n",
       "\\item 8\n",
       "\\item 5\n",
       "\\item 6\n",
       "\\item 3\n",
       "\\item 5\n",
       "\\item 6\n",
       "\\item 5\n",
       "\\item 6\n",
       "\\end{enumerate*}\n"
      ],
      "text/markdown": [
       "1. 5\n",
       "2. 6\n",
       "3. 3\n",
       "4. 7\n",
       "5. 3\n",
       "6. 8\n",
       "7. 6\n",
       "8. 4\n",
       "9. 3\n",
       "10. 4\n",
       "11. 4\n",
       "12. 4\n",
       "13. 8\n",
       "14. 5\n",
       "15. 6\n",
       "16. 3\n",
       "17. 5\n",
       "18. 6\n",
       "19. 5\n",
       "20. 6\n",
       "\n",
       "\n"
      ],
      "text/plain": [
       " [1] 5 6 3 7 3 8 6 4 3 4 4 4 8 5 6 3 5 6 5 6"
      ]
     },
     "metadata": {},
     "output_type": "display_data"
    }
   ],
   "source": [
    "set.seed(25)  # For reproducible results\n",
    "n_simulations <- 10000\n",
    "\n",
    "# Simulate 10,000 experiments of flipping a fair coin 10 times\n",
    "simulated_heads <- rbinom(n_simulations, size = total_flips, prob = fair_coin_prob)\n",
    "cat(\"In our first 20 simulations, we got this many heads...\")\n",
    "head(simulated_heads, 20)\n"
   ]
  },
  {
   "cell_type": "code",
   "execution_count": 3,
   "id": "3d480a07",
   "metadata": {
    "vscode": {
     "languageId": "r"
    }
   },
   "outputs": [
    {
     "data": {
      "image/png": "[encoded data removed]",
      "text/plain": [
       "Plot with title \"Distribution of Heads in 10 Fair Coin Flips\n",
       "(10,000 simulations)\""
      ]
     },
     "metadata": {
      "image/png": {
       "height": 420,
       "width": 420
      }
     },
     "output_type": "display_data"
    }
   ],
   "source": [
    "# Create a histogram to see the distribution\n",
    "hist(simulated_heads, \n",
    "     breaks = 0:10, \n",
    "     main = \"Distribution of Heads in 10 Fair Coin Flips\\n(10,000 simulations)\",\n",
    "     xlab = \"Number of Heads\",\n",
    "     ylab = \"Frequency\",\n",
    "     col = \"lightblue\",\n",
    "     border = \"white\")\n",
    "\n",
    "# Mark our observed result\n",
    "abline(v = heads_observed, col = \"red\", lwd = 3, lty = 2)\n",
    "text(heads_observed, max(table(simulated_heads)) * 0.8, \n",
    "     paste(\"Our result:\", heads_observed, \"heads\"), \n",
    "     col = \"red\", cex = 1.2)\n"
   ]
  },
  {
   "cell_type": "markdown",
   "id": "57513d52",
   "metadata": {},
   "source": [
    "## The Key Question: How Extreme Is Our Result?\n",
    "\n",
    "Now here's the crucial insight: we want to know how often a fair coin would give us results **as extreme or more extreme** than what we observed.\n",
    "\n",
    "Since we got 3 heads (which is below the expected 5), \"more extreme\" means getting 3 or fewer heads, OR getting 7 or more heads (the mirror image).\n"
   ]
  },
  {
   "cell_type": "code",
   "execution_count": 4,
   "id": "4e643da0",
   "metadata": {
    "vscode": {
     "languageId": "r"
    }
   },
   "outputs": [
    {
     "name": "stdout",
     "output_type": "stream",
     "text": [
      "Out of 10000 simulations:\n",
      "- Got 3 or fewer heads: 1675 times\n",
      "- Got 7 or more heads: 1748 times\n",
      "- Total extreme results: 3423 \n",
      "- P-value (simulated): 0.3423 \n"
     ]
    }
   ],
   "source": [
    "# Calculate p-value the simulation way\n",
    "extreme_low <- sum(simulated_heads <= heads_observed)\n",
    "extreme_high <- sum(simulated_heads >= (total_flips - heads_observed))\n",
    "total_extreme <- extreme_low + extreme_high\n",
    "\n",
    "p_value_simulated <- total_extreme / n_simulations\n",
    "\n",
    "cat(\"Out of\", n_simulations, \"simulations:\\n\")\n",
    "cat(\"- Got\", heads_observed, \"or fewer heads:\", extreme_low, \"times\\n\")\n",
    "cat(\"- Got\", total_flips - heads_observed, \"or more heads:\", extreme_high, \"times\\n\")\n",
    "cat(\"- Total extreme results:\", total_extreme, \"\\n\")\n",
    "cat(\"- P-value (simulated):\", round(p_value_simulated, 4), \"\\n\")"
   ]
  },
  {
   "cell_type": "markdown",
   "id": "7fec7cd8",
   "metadata": {},
   "source": [
    "## The \"Exact\" Mathematical Answer\n",
    "\n",
    "We can also calculate this precisely using the binomial distribution:\n"
   ]
  },
  {
   "cell_type": "code",
   "execution_count": 5,
   "id": "75a725d5",
   "metadata": {
    "vscode": {
     "languageId": "r"
    }
   },
   "outputs": [
    {
     "name": "stdout",
     "output_type": "stream",
     "text": [
      "Exact p-value: 0.3438 \n",
      "Simulated p-value: 0.3423 \n",
      "Difference: 0.00145 \n"
     ]
    }
   ],
   "source": [
    "# Calculate the exact p-value\n",
    "p_value_exact <- 2 * pbinom(heads_observed, size = total_flips, prob = fair_coin_prob)\n",
    "\n",
    "cat(\"Exact p-value:\", round(p_value_exact, 4), \"\\n\")\n",
    "cat(\"Simulated p-value:\", round(p_value_simulated, 4), \"\\n\")\n",
    "cat(\"Difference:\", abs(p_value_exact - p_value_simulated), \"\\n\")\n"
   ]
  },
  {
   "cell_type": "markdown",
   "id": "08983c90",
   "metadata": {},
   "source": [
    "## What Does This P-value Actually Mean?\n",
    "\n",
    "**Our p-value ≈ 0.34** means:\n",
    "\n",
    "> \"If the coin were truly fair, we'd see results this extreme (3 or fewer heads, or 7 or more heads) about 34% of the time just by random chance.\"\n",
    "\n",
    "In other words:\n",
    "- **NOT rare at all!** Getting 3 heads out of 10 flips happens pretty often with fair coins\n",
    "- **We can't conclude the coin is biased** - this result is totally consistent with a fair coin having a bad luck streak\n",
    "- **We fail to reject the null hypothesis** that the coin is fair\n"
   ]
  },
  {
   "cell_type": "markdown",
   "id": "53af72b9",
   "metadata": {},
   "source": [
    "# Supplementary"
   ]
  },
  {
   "cell_type": "markdown",
   "id": "25d893f9",
   "metadata": {},
   "source": [
    "- [Connection between Bayes factor and p-value](https://stephens999.github.io/fiveMinuteStats/BF_and_pvalue.html)\n",
    "- [Example of difficulty of calibrating p values](https://stephens999.github.io/fiveMinuteStats/pvalue_difficult_calibrate_example.html)"
   ]
  }
 ],
 "metadata": {
  "kernelspec": {
   "display_name": "R",
   "language": "R",
   "name": "ir"
  },
  "language_info": {
   "codemirror_mode": "r",
   "file_extension": ".r",
   "mimetype": "text/x-r-source",
   "name": "R",
   "pygments_lexer": "r",
   "version": "4.3.3"
  }
 },
 "nbformat": 4,
 "nbformat_minor": 5
}
