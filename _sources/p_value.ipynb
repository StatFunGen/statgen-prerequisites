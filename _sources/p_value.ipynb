{
 "cells": [
  {
   "cell_type": "markdown",
   "id": "1f8e41cf",
   "metadata": {},
   "source": [
    "# p-value\n",
    "In null-hypothesis significance testing, the p-value is the probability of obtaining test results at least as extreme as the result actually observed, under the assumption that the null hypothesis is correct."
   ]
  },
  {
   "cell_type": "markdown",
   "id": "a99dda04",
   "metadata": {},
   "source": [
    "# Graphical Summary"
   ]
  },
  {
   "cell_type": "markdown",
   "id": "d470175e",
   "metadata": {},
   "source": [
    "![Fig](./graphical_summary/slides/Slide29.png)"
   ]
  },
  {
   "cell_type": "markdown",
   "id": "0389d462",
   "metadata": {},
   "source": [
    "# Key Formula\n",
    "\n",
    "The p-value represents the probability of observing a test statistic at least as extreme as what was actually observed, assuming the null hypothesis is true.\n",
    "\n",
    "$$\n",
    "p\\text{-value} = P(\\text{Test Statistic is as extreme or more extreme than observed} | H_0 \\text{is true})\n",
    "$$"
   ]
  },
  {
   "cell_type": "markdown",
   "id": "12ec5448",
   "metadata": {},
   "source": [
    "# Technical Details\n",
    "\n",
    "## Mathematical Definition\n",
    "\n",
    "For a test statistic $T$ and observed value $t$:\n",
    "\n",
    "$$\n",
    "\\begin{align}\n",
    "p\\text{-value} &= P(T \\geq t | H_0) \\quad \\text{[right-tailed test]} \\\\\n",
    "p\\text{-value} &= P(T \\leq t | H_0) \\quad \\text{[left-tailed test]} \\\\\n",
    "p\\text{-value} &= 2 \\times P(T \\geq |t| | H_0) \\quad \\text{[two-tailed test]}\n",
    "\\end{align}\n",
    "$$\n",
    "\n",
    "### Key Properties\n",
    "1. **Monotonic Relationship**: Smaller p-values correspond to more extreme test statistics\n",
    "2. **Significance Level**: We reject $H_0$ if $p\\text{-value} \\leq \\alpha$\n",
    "\n",
    "### Critical Limitation: Asymmetric Logic\n",
    "**Important**: The null hypothesis $H_0$ can never be \"accepted\" or \"proven true\" - it can only be:\n",
    "- **Rejected** (when $p\\text{-value} \\leq \\alpha$): Strong evidence against $H_0$\n",
    "- **Not rejected** (when $p\\text{-value} > \\alpha$): Insufficient evidence to reject $H_0$\n",
    "\n",
    "\"Not rejected\" is not \"accepted\" or \"true\". Absence of evidence is not evidence of absence.\n",
    "\n",
    "## Connection to Bayesian Inference\n",
    "\n",
    "\n",
    "- **Important**: P-values are almost always reported in **summary statistics**, but it is not inference. They summarize how compatible the observed data is with $H_0$, but they don't directly provide probabilistic statements about hypotheses.\n",
    "- **What would we do in Bayesian hypothesis testing to answer the same question**:\n",
    "    - In Bayesian inference with posterior distribution $N(\\mu, \\sigma^2)$, we can check: Does the 95% High Probability Density (HPD) region cover zero?\n",
    "    - This directly gives the probability that $H_0$ is true:\n",
    "\n",
    "    $$\n",
    "    P(H_0 | \\text{D}) = \\frac{P(\\text{D} | H_0) \\cdot P(H_0)}{P(\\text{D})}\n",
    "    $$\n",
    "- **False Discovery Rate (FDR)**: In Bayesian mixture models, we can compute FDR based on data $P(H_0 | \\text{D})$. This provides direct probabilistic interpretations that p-values cannot."
   ]
  },
  {
   "cell_type": "markdown",
   "id": "9a990c33",
   "metadata": {},
   "source": [
    "# Related Topics\n",
    "\n",
    "- [OLS](https://gaow.github.io/statgen-prerequisites/ordinary_least_squares.html)\n",
    "- [summary statistics](https://gaow.github.io/statgen-prerequisites/summary_statistics.html)\n",
    "- [likelihood](https://gaow.github.io/statgen-prerequisites/likelihood.html)\n",
    "- [Bayes factor](https://gaow.github.io/statgen-prerequisites/Bayes_factor.html)"
   ]
  },
  {
   "cell_type": "markdown",
   "id": "53af72b9",
   "metadata": {},
   "source": [
    "# Supplementary"
   ]
  },
  {
   "cell_type": "markdown",
   "id": "25d893f9",
   "metadata": {},
   "source": [
    "- [Connection between Bayes factor and p-value](https://stephens999.github.io/fiveMinuteStats/BF_and_pvalue.html)\n",
    "- [Example of difficulty of calibrating p values](https://stephens999.github.io/fiveMinuteStats/pvalue_difficult_calibrate_example.html)"
   ]
  },
  {
   "cell_type": "markdown",
   "id": "2c07f69f",
   "metadata": {},
   "source": []
  }
 ],
 "metadata": {
  "kernelspec": {
   "display_name": "R",
   "language": "R",
   "name": "ir"
  },
  "language_info": {
   "codemirror_mode": "r",
   "file_extension": ".r",
   "mimetype": "text/x-r-source",
   "name": "R",
   "pygments_lexer": "r",
   "version": "4.3.3"
  }
 },
 "nbformat": 4,
 "nbformat_minor": 5
}
