{
 "cells": [
  {
   "cell_type": "markdown",
   "id": "24aeabf3",
   "metadata": {},
   "source": [
    "# Minor Allele Frequency\n",
    "\n",
    "The minor allele frequency (MAF) represents the proportion of the less common allele in a population, which equals half the **expected genotype value under additive model** in diploid organisms like humans since each individual carries two alleles per locus."
   ]
  },
  {
   "cell_type": "markdown",
   "id": "a57f18c6-62b2-4303-9dbb-5fca8a6e19fc",
   "metadata": {},
   "source": [
    "# Graphical Summary"
   ]
  },
  {
   "cell_type": "markdown",
   "id": "cd437686",
   "metadata": {},
   "source": [
    "![Fig](./graphical_summary/slides/Slide2.png)"
   ]
  },
  {
   "cell_type": "markdown",
   "id": "9b00f698-d22d-457a-9180-0582f474f284",
   "metadata": {
    "tags": []
   },
   "source": [
    "# Key Formula\n",
    "\n",
    "$$\n",
    "\\text{MAF}_j = \\frac{\\mathbb{E}[X_{\\text{additive},j}]}{2} = \\frac{1}{2N}\\sum_{i=1}^{N} X_{\\text{additive},ij}\n",
    "$$\n",
    "\n",
    "Where:\n",
    "- $X_{\\text{additive},ij}$ represents the count of alternative alleles (0,1,2) for individual $i$ at the $j$-th variant.\n",
    "- The division by 2 is necessary because in the additive model for diploid organisms, each individual contributes two alleles."
   ]
  },
  {
   "cell_type": "markdown",
   "id": "c368a384-d362-42cb-9223-fc13269d0e05",
   "metadata": {},
   "source": [
    "# Technical Details\n",
    "\n",
    "If there are only two alleles at the same locus, then the frequency of them can be denoted as $f_j$ and $1-f_j$. The $\\text{MAF}_j$ is always defined as:\n",
    "\n",
    "$$\n",
    "\\min(f_j, 1 - f_j)\n",
    "$$\n",
    "\n",
    "which ensures that it always represents the frequency of the **less** common allele in the population, i.e., **minor allele**. \n",
    "\n",
    "If there are more alleles, the **MAF** is specific for each minor allele."
   ]
  },
  {
   "cell_type": "markdown",
   "id": "dc3b3906",
   "metadata": {},
   "source": [
    "# Related Topics\n",
    "\n",
    "- [genotype coding](https://statfungen.github.io/statgen-prerequisites/genotype_coding.html)\n",
    "- [maximum likelihood estimation](https://statfungen.github.io/statgen-prerequisites/maximum_likelihood_estimation.html)"
   ]
  },
  {
   "cell_type": "markdown",
   "id": "f9c943b0-2af5-4e77-bdb0-2d7c2d0a82b3",
   "metadata": {},
   "source": [
    "# Example"
   ]
  },
  {
   "cell_type": "markdown",
   "id": "65b7cf81-00c8-4f3b-b07f-89e2eddbf6de",
   "metadata": {},
   "source": [
    "Using the same genetic data from 5 individuals at 3 variants as we did in [Lecture: genotype coding](https://statfungen.github.io/statgen-prerequisites/genotype_coding.html), how do we calculate the minor allele frequency (MAF) for each variant? What's the simplest way to estimate MAF from our sample data, and how do we implement this method of moments approach in R? \n",
    "\n",
    "(Note: while this gives us a quick estimate, we'll see later in the [Lecture: maximum likelihood estimation](https://statfungen.github.io/statgen-prerequisites/maximum_likelihood_estimation.html) how MAF is typically calculated in practice.)"
   ]
  },
  {
   "cell_type": "code",
   "execution_count": 1,
   "id": "772eddb5-e251-4418-abe4-4eeae95974ec",
   "metadata": {
    "jp-MarkdownHeadingCollapsed": true,
    "tags": [],
    "vscode": {
     "languageId": "r"
    }
   },
   "outputs": [],
   "source": [
    "# Clear the environment\n",
    "rm(list = ls())\n",
    "\n",
    "# Define genotypes for 5 individuals at 3 variants\n",
    "# These represent actual alleles at each position\n",
    "# For example, Individual 1 has genotypes: CC, CT, AT\n",
    "genotypes <- c(\n",
    " \"CC\", \"CT\", \"AT\",  # Individual 1\n",
    " \"TT\", \"TT\", \"AA\",  # Individual 2\n",
    " \"CT\", \"CT\", \"AA\",  # Individual 3\n",
    " \"CC\", \"TT\", \"AA\",  # Individual 4\n",
    " \"CC\", \"CC\", \"TT\"   # Individual 5\n",
    ")\n",
    "# Reshape into a matrix\n",
    "N = 5\n",
    "M = 3\n",
    "geno_matrix <- matrix(genotypes, nrow = N, ncol = M, byrow = TRUE)\n",
    "rownames(geno_matrix) <- paste(\"Individual\", 1:N)\n",
    "colnames(geno_matrix) <- paste(\"Variant\", 1:M)\n"
   ]
  },
  {
   "cell_type": "markdown",
   "id": "2d6ab1b5",
   "metadata": {},
   "source": [
    "The raw genotype matrix is:"
   ]
  },
  {
   "cell_type": "code",
   "execution_count": 2,
   "id": "51932ee4",
   "metadata": {
    "vscode": {
     "languageId": "r"
    }
   },
   "outputs": [
    {
     "data": {
      "text/html": [
       "<table class=\"dataframe\">\n",
       "<caption>A matrix: 5 x 3 of type chr</caption>\n",
       "<thead>\n",
       "\t<tr><th></th><th scope=col>Variant 1</th><th scope=col>Variant 2</th><th scope=col>Variant 3</th></tr>\n",
       "</thead>\n",
       "<tbody>\n",
       "\t<tr><th scope=row>Individual 1</th><td>CC</td><td>CT</td><td>AT</td></tr>\n",
       "\t<tr><th scope=row>Individual 2</th><td>TT</td><td>TT</td><td>AA</td></tr>\n",
       "\t<tr><th scope=row>Individual 3</th><td>CT</td><td>CT</td><td>AA</td></tr>\n",
       "\t<tr><th scope=row>Individual 4</th><td>CC</td><td>TT</td><td>AA</td></tr>\n",
       "\t<tr><th scope=row>Individual 5</th><td>CC</td><td>CC</td><td>TT</td></tr>\n",
       "</tbody>\n",
       "</table>\n"
      ],
      "text/latex": [
       "A matrix: 5 x 3 of type chr\n",
       "\\begin{tabular}{r|lll}\n",
       "  & Variant 1 & Variant 2 & Variant 3\\\\\n",
       "\\hline\n",
       "\tIndividual 1 & CC & CT & AT\\\\\n",
       "\tIndividual 2 & TT & TT & AA\\\\\n",
       "\tIndividual 3 & CT & CT & AA\\\\\n",
       "\tIndividual 4 & CC & TT & AA\\\\\n",
       "\tIndividual 5 & CC & CC & TT\\\\\n",
       "\\end{tabular}\n"
      ],
      "text/markdown": [
       "\n",
       "A matrix: 5 x 3 of type chr\n",
       "\n",
       "| <!--/--> | Variant 1 | Variant 2 | Variant 3 |\n",
       "|---|---|---|---|\n",
       "| Individual 1 | CC | CT | AT |\n",
       "| Individual 2 | TT | TT | AA |\n",
       "| Individual 3 | CT | CT | AA |\n",
       "| Individual 4 | CC | TT | AA |\n",
       "| Individual 5 | CC | CC | TT |\n",
       "\n"
      ],
      "text/plain": [
       "             Variant 1 Variant 2 Variant 3\n",
       "Individual 1 CC        CT        AT       \n",
       "Individual 2 TT        TT        AA       \n",
       "Individual 3 CT        CT        AA       \n",
       "Individual 4 CC        TT        AA       \n",
       "Individual 5 CC        CC        TT       "
      ]
     },
     "metadata": {},
     "output_type": "display_data"
    }
   ],
   "source": [
    "geno_matrix"
   ]
  },
  {
   "cell_type": "code",
   "execution_count": 3,
   "id": "6235998a",
   "metadata": {
    "vscode": {
     "languageId": "r"
    }
   },
   "outputs": [],
   "source": [
    "# Initialize the output data frame\n",
    "maf_results <- data.frame(\n",
    "  Variant = colnames(geno_matrix),\n",
    "  Major_Allele = character(M),\n",
    "  Minor_Allele = character(M),\n",
    "  MAF = numeric(M),\n",
    "  stringsAsFactors = FALSE\n",
    ")\n"
   ]
  },
  {
   "cell_type": "markdown",
   "id": "8da2726f",
   "metadata": {},
   "source": [
    "For each variant we first the extract the two alleles, then count the frequency of each allele to identify which one is major and which one is minor. At last we calculate the MAF of each variant."
   ]
  },
  {
   "cell_type": "code",
   "execution_count": 4,
   "id": "4b9b5955",
   "metadata": {
    "vscode": {
     "languageId": "r"
    }
   },
   "outputs": [],
   "source": [
    "# Process each variant separately\n",
    "for (j in 1:M) {\n",
    "  variant_name <- colnames(geno_matrix)[j]  \n",
    "  # Step 1: Extract all alleles from the genotype column\n",
    "  alleles <- c()\n",
    "  for (genotype in geno_matrix[, j]) {\n",
    "    # Extract first and second allele from each genotype\n",
    "    first_allele <- substr(genotype, 1, 1)\n",
    "    second_allele <- substr(genotype, 2, 2)\n",
    "    alleles <- c(alleles, first_allele, second_allele)\n",
    "  }\n",
    "  \n",
    "  # Count frequency of each allele\n",
    "  allele_table <- table(alleles)\n",
    "  total_alleles <- sum(allele_table)\n",
    "  allele_freq <- allele_table / total_alleles\n",
    "  \n",
    "  # Step 2: Identify major and minor alleles\n",
    "  ordered_freqs <- sort(allele_freq, decreasing = TRUE)\n",
    "  major_allele <- names(ordered_freqs)[1]\n",
    "  minor_allele <- names(ordered_freqs)[2]\n",
    "  \n",
    "  # Step 3: Calculate minor allele frequency (MAF)\n",
    "  minor_freq <- ordered_freqs[2]\n",
    "  maf_results$Major_Allele[j] <- major_allele\n",
    "  maf_results$Minor_Allele[j] <- minor_allele\n",
    "  maf_results$MAF[j] <- minor_freq\n",
    "}\n"
   ]
  },
  {
   "cell_type": "markdown",
   "id": "3e1ae674",
   "metadata": {},
   "source": [
    "The minor allele frequencies for the three variants are:"
   ]
  },
  {
   "cell_type": "code",
   "execution_count": 5,
   "metadata": {
    "vscode": {
     "languageId": "r"
    }
   },
   "outputs": [
    {
     "data": {
      "text/html": [
       "<table class=\"dataframe\">\n",
       "<caption>A data.frame: 3 x 4</caption>\n",
       "<thead>\n",
       "\t<tr><th scope=col>Variant</th><th scope=col>Major_Allele</th><th scope=col>Minor_Allele</th><th scope=col>MAF</th></tr>\n",
       "\t<tr><th scope=col>&lt;chr&gt;</th><th scope=col>&lt;chr&gt;</th><th scope=col>&lt;chr&gt;</th><th scope=col>&lt;dbl&gt;</th></tr>\n",
       "</thead>\n",
       "<tbody>\n",
       "\t<tr><td>Variant 1</td><td>C</td><td>T</td><td>0.3</td></tr>\n",
       "\t<tr><td>Variant 2</td><td>T</td><td>C</td><td>0.4</td></tr>\n",
       "\t<tr><td>Variant 3</td><td>A</td><td>T</td><td>0.3</td></tr>\n",
       "</tbody>\n",
       "</table>\n"
      ],
      "text/latex": [
       "A data.frame: 3 x 4\n",
       "\\begin{tabular}{llll}\n",
       " Variant & Major\\_Allele & Minor\\_Allele & MAF\\\\\n",
       " <chr> & <chr> & <chr> & <dbl>\\\\\n",
       "\\hline\n",
       "\t Variant 1 & C & T & 0.3\\\\\n",
       "\t Variant 2 & T & C & 0.4\\\\\n",
       "\t Variant 3 & A & T & 0.3\\\\\n",
       "\\end{tabular}\n"
      ],
      "text/markdown": [
       "\n",
       "A data.frame: 3 x 4\n",
       "\n",
       "| Variant &lt;chr&gt; | Major_Allele &lt;chr&gt; | Minor_Allele &lt;chr&gt; | MAF &lt;dbl&gt; |\n",
       "|---|---|---|---|\n",
       "| Variant 1 | C | T | 0.3 |\n",
       "| Variant 2 | T | C | 0.4 |\n",
       "| Variant 3 | A | T | 0.3 |\n",
       "\n"
      ],
      "text/plain": [
       "  Variant   Major_Allele Minor_Allele MAF\n",
       "1 Variant 1 C            T            0.3\n",
       "2 Variant 2 T            C            0.4\n",
       "3 Variant 3 A            T            0.3"
      ]
     },
     "metadata": {},
     "output_type": "display_data"
    }
   ],
   "source": [
    "maf_results"
   ]
  },
  {
   "cell_type": "markdown",
   "id": "f32273e8",
   "metadata": {},
   "source": []
  }
 ],
 "metadata": {
  "kernelspec": {
   "display_name": "R",
   "language": "R",
   "name": "ir"
  },
  "language_info": {
   "codemirror_mode": "r",
   "file_extension": ".r",
   "mimetype": "text/x-r-source",
   "name": "R",
   "pygments_lexer": "r",
   "version": "4.3.3"
  },
  "toc-autonumbering": true
 },
 "nbformat": 4,
 "nbformat_minor": 5
}
