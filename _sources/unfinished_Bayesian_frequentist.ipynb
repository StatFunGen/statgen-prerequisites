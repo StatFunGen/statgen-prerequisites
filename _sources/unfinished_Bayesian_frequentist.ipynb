{
 "cells": [
  {
   "cell_type": "markdown",
   "id": "e3c133fc-abe4-4358-bb2b-f1893958018f",
   "metadata": {
    "tags": []
   },
   "source": [
    "# Intuition\n",
    "Bayesian vs frequentist inference\n",
    "\n",
    "\n",
    "![figure](./cartoons/8.svg)"
   ]
  },
  {
   "cell_type": "markdown",
   "id": "8cb3907a-55df-42a9-ada0-d3e7f997168b",
   "metadata": {},
   "source": [
    "# Notations"
   ]
  },
  {
   "cell_type": "markdown",
   "id": "9f728795-659f-4156-af67-1b125ceb094c",
   "metadata": {},
   "source": [
    "\n",
    "## Bayes Factor (BF)\n",
    "The **Bayes Factor (BF)** (sometimes denoted as $K$) is defined as the ratio of the marginal likelihoods of two models, taking into account the prior distributions over the models' parameters. It is calculated as:\n",
    "\n",
    "$$\n",
    "BF(M_2, M_1) := \\frac{Pr(D|M_2)}{Pr(D|M_1)} = \\frac{\\int Pr(D|\\theta_2, M_2) Pr(\\theta_2|M_2) d\\theta_2}{\\int Pr(D|\\theta_1, M_1) Pr(\\theta_1|M_1) d\\theta_1} = \\frac{\\frac{Pr(M_2|D)Pr(D)}{Pr(M_2)} }{\\frac{Pr(M_1|D)Pr(D)}{Pr(M_1)}} = \\frac{Pr(M_2|D)}{Pr(M_1|D)} \\times \\frac{Pr(M_1)}{Pr(M_2)}\n",
    "$$\n",
    "\n",
    "The Bayes Factor compares the marginal likelihoods of the models after considering the uncertainty in the parameters, **weighted by the prior beliefs of the model**.\n",
    "\n",
    "**Comparison between LR and BF**\n",
    "\n",
    "When informative priors are **absent** or when **non-informative priors** (i.e., flat priors) are used, the prior distributions do not influence the marginal likelihoods. In such a case, the integration over the parameters becomes irrelevant, and the marginal likelihood simplifies to just the likelihood itself.\n",
    "\n",
    "Therefore, the formula for BF becomes identical to the formula for LR ($Pr(M_1) = Pr(M_2)$):\n",
    "\n",
    "$$\n",
    "BF(M_2, M_1) = \\frac{p(D|M_2)}{p(D|M_1)} = \\frac{Pr(M_2|D)}{Pr(M_1|D)} \\times \\frac{Pr(M_1)}{Pr(M_2)}= \\frac{L(M_2)}{L(M_1)} = LR(M_2, M_1)\n",
    "$$\n",
    "\n",
    "For fully specified models (In statistical modeling, a fully specified model refers to a model where all parameters and components are clearly defined), the **likelihood ratio** is equivalent to the **Bayes Factor**. When **non-informative priors** are used, LR and BF are numerically identical because the priors cancel out. However, when **informative priors** are included, BF will differ from LR because it incorporates prior beliefs about the parameters, whereas LR only considers the likelihood based on the data.\n",
    "\n",
    "\n",
    "- **Likelihood Ratio (LR)** compares two models using the **likelihood function** of the models, ignoring prior distributions. It is a **frequentist** concept.\n",
    "- **Bayes Factor (BF)**, on the other hand, compares two models by integrating over the parameters of the models, taking into account their **prior distributions**. It is a **Bayesian** concept.\n"
   ]
  },
  {
   "cell_type": "markdown",
   "id": "a2005cf7-e3ff-40ff-b021-5741cac0659b",
   "metadata": {},
   "source": [
    "## Advantages of Bayesian Analysis Over Frequentist Methods  \n",
    "\n",
    "-  **Incorporation of Prior Knowledge**\n",
    "    - **Frequentist Limitation:** Frequentist methods rely solely on observed data and do not incorporate prior information, making estimates unstable in small sample sizes.  \n",
    "    - **Bayesian Advantage:** Bayesian analysis integrates prior knowledge through a prior distribution, improving inference when data are limited or prior information is available.  \n",
    "- **Probabilistic Interpretation**\n",
    "    - **Frequentist Limitation:** Confidence intervals do not provide a direct probability interpretation; they describe long-run frequency properties rather than certainty about parameters. \n",
    "    - **Bayesian Advantage:** Bayesian credible intervals directly represent the probability that a parameter lies within a given range, making interpretation more intuitive.  \n",
    "- **Flexibility in Complex Models**\n",
    "    - **Frequentist Limitation:** Frequentist methods often require separate estimation steps or computational approximations for hierarchical models, missing data, and latent variables.  \n",
    "    - **Bayesian Advantage:** Bayesian methods seamlessly integrate over uncertainties, allowing for more flexible modeling of hierarchical structures and missing data.  \n",
    "- **Direct Model Comparison**\n",
    "    - **Frequentist Limitation:** Frequentist model comparison relies on likelihood ratio tests (LRT) or information criteria (AIC, BIC), which do not naturally integrate over parameter uncertainty.  \n",
    "    - **Bayesian Advantage:** Bayesian model comparison uses Bayes factors, which account for both model fit and complexity by integrating over parameter uncertainty, avoiding overfitting.  \n"
   ]
  },
  {
   "cell_type": "markdown",
   "id": "099adab5-5076-425d-a1e3-1dbf59b4153d",
   "metadata": {},
   "source": [
    "# Example"
   ]
  },
  {
   "cell_type": "markdown",
   "id": "1ce79d37-bd61-4e90-baf1-6f5b68374208",
   "metadata": {},
   "source": [
    "In example 6.1 and 6.2, we compare two model $M_1$ ($\\theta=0$) and $M_2$ ($\\theta=2$) and calculate the LRT. "
   ]
  },
  {
   "cell_type": "code",
   "execution_count": 1,
   "id": "a12a5efd-f746-4cb9-88c6-6030c2728794",
   "metadata": {
    "tags": [],
    "vscode": {
     "languageId": "r"
    }
   },
   "outputs": [
    {
     "data": {
      "text/html": [
       "<table class=\"dataframe\">\n",
       "<caption>A data.frame: 3 × 2</caption>\n",
       "<thead>\n",
       "\t<tr><th scope=col>genotype</th><th scope=col>height</th></tr>\n",
       "\t<tr><th scope=col>&lt;dbl&gt;</th><th scope=col>&lt;dbl&gt;</th></tr>\n",
       "</thead>\n",
       "<tbody>\n",
       "\t<tr><td>1</td><td>171.1031</td></tr>\n",
       "\t<tr><td>2</td><td>174.1848</td></tr>\n",
       "\t<tr><td>0</td><td>171.5878</td></tr>\n",
       "</tbody>\n",
       "</table>\n"
      ],
      "text/latex": [
       "A data.frame: 3 × 2\n",
       "\\begin{tabular}{ll}\n",
       " genotype & height\\\\\n",
       " <dbl> & <dbl>\\\\\n",
       "\\hline\n",
       "\t 1 & 171.1031\\\\\n",
       "\t 2 & 174.1848\\\\\n",
       "\t 0 & 171.5878\\\\\n",
       "\\end{tabular}\n"
      ],
      "text/markdown": [
       "\n",
       "A data.frame: 3 × 2\n",
       "\n",
       "| genotype &lt;dbl&gt; | height &lt;dbl&gt; |\n",
       "|---|---|\n",
       "| 1 | 171.1031 |\n",
       "| 2 | 174.1848 |\n",
       "| 0 | 171.5878 |\n",
       "\n"
      ],
      "text/plain": [
       "  genotype height  \n",
       "1 1        171.1031\n",
       "2 2        174.1848\n",
       "3 0        171.5878"
      ]
     },
     "metadata": {},
     "output_type": "display_data"
    }
   ],
   "source": [
    "rm(list=ls())\n",
    "set.seed(2)\n",
    "\n",
    "# Simulate true mean and effect size\n",
    "baseline <- 170  # Population mean of the trait (e.g., height in cm) when the genetic variant has no effect (Model 1)\n",
    "theta_true <- 2  # True effect size of the genetic variant. This represents the change in height (in cm) associated with each additional minor allele (Model 2)\n",
    "sd_y <- 1  # Standard deviation of the trait (e.g., variability in height measurement within the population)\n",
    "\n",
    "# Simulate genotypes for three individuals\n",
    "genotype <- c(1, 2, 0)\n",
    "\n",
    "# Simulate height values for three individuals based on genotypes\n",
    "n = length(genotype)\n",
    "height_values <- rnorm(n, mean = baseline + theta_true * genotype, sd = sd_y)\n",
    "\n",
    "# Display the simulated data\n",
    "data.frame(genotype = genotype, height = height_values)"
   ]
  },
  {
   "cell_type": "code",
   "execution_count": 2,
   "id": "0d368003-09a4-4447-ab1c-7db08b30af66",
   "metadata": {
    "tags": [],
    "vscode": {
     "languageId": "r"
    }
   },
   "outputs": [
    {
     "name": "stdout",
     "output_type": "stream",
     "text": [
      "Likelihood for Model 1: 1.542167e-06 \n",
      "Likelihood for Model 2: 0.01183428 \n",
      "Likelihood Ratio Test Statistic (LRT): 17.89114 \n"
     ]
    }
   ],
   "source": [
    "# Define the likelihood function for a normal distribution\n",
    "likelihood <- function(theta, sd, y) {\n",
    "  prod(dnorm(y, mean = theta, sd = sd))\n",
    "}\n",
    "\n",
    "# Likelihood for Model 1: No genetic effect\n",
    "likelihood_1_multi_samples <- likelihood(theta = baseline, sd = sd_y, height_values)\n",
    "\n",
    "# Likelihood for Model 2: Genetic effect\n",
    "likelihood_2_multi_samples <- likelihood(theta = baseline + theta_true * genotype, sd = sd_y, height_values)\n",
    "\n",
    "# Print the likelihoods for both models\n",
    "cat(\"Likelihood for Model 1:\", likelihood_1_multi_samples, \"\\n\")\n",
    "cat(\"Likelihood for Model 2:\", likelihood_2_multi_samples, \"\\n\")\n",
    "# Compute the Likelihood Ratio Test (LRT) statistic\n",
    "lrt_statistic <- -2 * (log(likelihood_1_multi_samples) - log(likelihood_2_multi_samples))\n",
    "\n",
    "# Print the LRT statistic\n",
    "cat(\"Likelihood Ratio Test Statistic (LRT):\", lrt_statistic, \"\\n\")"
   ]
  },
  {
   "cell_type": "markdown",
   "id": "2da2d55d-0b38-40da-b475-1c95adfd4bc4",
   "metadata": {},
   "source": [
    "## Frequentist"
   ]
  },
  {
   "cell_type": "markdown",
   "id": "f6e55746-76ae-4f5e-aff8-0e29c800f9d5",
   "metadata": {},
   "source": [
    "### From LRT to reject the hypothesis (*p-value*)"
   ]
  },
  {
   "cell_type": "markdown",
   "id": "f9e48c43-0b4d-4e1b-9ab7-c4659fefd6d1",
   "metadata": {},
   "source": [
    "Generally what a frequentist do next is to **perform the likelihood ratio statistics**. The likelihood ratio statistic can be compared to the **chi-square distribution with 1 degree of freedom**. If the test statistic is large enough (i.e., exceeds the critical value from the chi-square distribution at a chosen significance level, say 0.05), then we reject $H_1$ in favor of $H_2$, indicating that the genetic variant has a significant effect on height."
   ]
  },
  {
   "cell_type": "markdown",
   "id": "f594625e-16da-4c08-9969-b44c0d2acd03",
   "metadata": {},
   "source": [
    "> Then one would like to address the question: **what value of the LR should we treat as “convincing” evidence for one model vs another?** For example, in statistics there are many situations where we want to compare models that are not equally plausible. Suppose that model $M_2$ is much less plausible than $M_1$. Then we must surely demand stronger evidence from the data (larger LR) to be “convinced” that it arose from model $M_2$ rather than $M_1$, than in contexts where $M_2$ and $M_1$ are equally plausible.\n",
    ">\n",
    "> It is crucial to recognize that the answer to this question has to be context dependent. In particular, the extent to which we should be “convinced” by a particular LR value has to depend on the relative plausibility of the models we are comparing."
   ]
  },
  {
   "cell_type": "code",
   "execution_count": 3,
   "id": "85309452-33c1-4555-b232-f485d6c801d7",
   "metadata": {
    "tags": [],
    "vscode": {
     "languageId": "r"
    }
   },
   "outputs": [
    {
     "name": "stdout",
     "output_type": "stream",
     "text": [
      "LRT statistic: 17.89114 \n",
      "p-value: 2.339081e-05 \n",
      "Reject H0: The genetic variant has a significant effect on height.\n"
     ]
    }
   ],
   "source": [
    "# Compare with chi-square distribution with 1 degree of freedom\n",
    "p_value <- pchisq(lrt_statistic, df = 1, lower.tail = FALSE)\n",
    "\n",
    "# Print result\n",
    "cat(\"LRT statistic:\", lrt_statistic, \"\\n\")\n",
    "cat(\"p-value:\", p_value, \"\\n\")\n",
    "\n",
    "# Interpretation\n",
    "if (p_value < 0.05) {\n",
    "  cat(\"Reject H0: The genetic variant has a significant effect on height.\\n\")\n",
    "} else {\n",
    "  cat(\"Fail to reject H0: The genetic variant has no significant effect on height.\\n\")\n",
    "}"
   ]
  },
  {
   "cell_type": "markdown",
   "id": "efac154d-a271-4e25-986d-7afe8e779f6f",
   "metadata": {},
   "source": [
    "### MLE\n",
    "\n",
    "In statistics, maximum likelihood estimation (MLE) is a method of estimating the parameters of an assumed probability distribution, given some observed data. This is achieved by maximizing a likelihood function so that, under the assumed statistical model, the observed data is most probable. The point in the parameter space that maximizes the likelihood function is called the **maximum likelihood estimate**.\n",
    "\n",
    "Now let's assume that $\\theta$ actually follows some distribution and for each value of $\\theta$ we can calculate the corresponding likelihood $L(\\theta)$. Then what is the value when $L(\\theta)$ reaches the maximum? The value of $\\theta$ that maximizes the likelihood function is referred to as the **maximum likelihood estimate**, and usually denoted $\\hat{\\theta}$, i.e., \n",
    "\n",
    "$$\n",
    "\\hat{\\theta}:= \\text{argmax} L(\\theta)\n",
    "$$\n",
    "\n",
    "Since \n",
    "$$\n",
    "LRT(M_2, M_1) := - 2 \\log \\left( \\frac{L(M_1)}{L(M_2)} \\right) = - 2 \\left[ \\log L(M_1) - \\log L(M_2) \\right]\n",
    "$$\n",
    "\n",
    "it is equivalent to finding the minimum value of the LRT."
   ]
  },
  {
   "cell_type": "code",
   "execution_count": 4,
   "id": "c2d48a41-ba6f-440c-b619-3bb36d63b21d",
   "metadata": {
    "tags": [],
    "vscode": {
     "languageId": "r"
    }
   },
   "outputs": [
    {
     "name": "stdout",
     "output_type": "stream",
     "text": [
      "[1] \"The MLE of theta is 1.8945567645337\"\n"
     ]
    }
   ],
   "source": [
    "# Define the negative log-likelihood function for optimization\n",
    "neg_log_likelihood <- function(theta, genotype, height, baseline, sd) {\n",
    "      n <- length(genotype)\n",
    "      log_likelihood_val <- sum(dnorm(height, mean = baseline + theta * genotype, sd = sd, log = TRUE))\n",
    "  return(-2*log_likelihood_val)\n",
    "}\n",
    "\n",
    "# Estimate theta using MLE (optimizing the negative log-likelihood)\n",
    "mle_result <- optimize(neg_log_likelihood, interval = c(-5, 5), genotype = genotype, height = height_values, baseline = baseline, sd = sd_y)\n",
    "\n",
    "# Extract the estimated theta\n",
    "theta_mle <- mle_result$minimum\n",
    "\n",
    "print(paste0(\"The MLE of theta is \", theta_mle))"
   ]
  },
  {
   "cell_type": "code",
   "execution_count": 5,
   "id": "5bc10564-a661-4dcb-9912-5c90c9e46724",
   "metadata": {
    "tags": [],
    "vscode": {
     "languageId": "r"
    }
   },
   "outputs": [
    {
     "data": {
      "image/png": "[encoded data removed]",
      "text/plain": [
       "Plot with title “Log-Likelihood Function and MLE”"
      ]
     },
     "metadata": {
      "image/png": {
       "height": 420,
       "width": 420
      }
     },
     "output_type": "display_data"
    }
   ],
   "source": [
    "# Plot the log-likelihood function\n",
    "theta_vals <- seq(-5, 5, length.out = 100)\n",
    "log_likelihood_vals <- sapply(theta_vals, function(theta) neg_log_likelihood(theta, genotype, height_values, baseline, sd_y))\n",
    "\n",
    "# Plot the log-likelihood function\n",
    "plot(theta_vals, log_likelihood_vals, type = \"l\", col = \"blue\", lwd = 2, \n",
    "     xlab = \"Theta (Genetic Effect)\", ylab = \"Log-Likelihood\", \n",
    "     main = \"Log-Likelihood Function and MLE\", cex.lab = 1.5, cex.main = 1.5)\n",
    "\n",
    "# Add a vertical line at the MLE\n",
    "abline(v = theta_mle, col = \"red\", lty = 2, lwd = 2)\n",
    "\n",
    "# Add text to label the MLE\n",
    "text(theta_mle, max(log_likelihood_vals), labels = paste(\"MLE = \", round(theta_mle, 2)), pos = 4, col = \"red\", cex = 1.2)\n",
    "\n",
    "# Show the plot\n",
    "grid()"
   ]
  },
  {
   "cell_type": "markdown",
   "id": "3a315b88-8785-4638-941e-f1a105239d4c",
   "metadata": {},
   "source": [
    "## Bayesian"
   ]
  },
  {
   "cell_type": "markdown",
   "id": "e083003e-5d37-4570-af70-1b6f09eb6a23",
   "metadata": {},
   "source": [
    "Now let's see how a Bayesian statistician would handle this question."
   ]
  },
  {
   "cell_type": "code",
   "execution_count": 6,
   "id": "b81ee3f3-965b-472b-910f-284970d3ff62",
   "metadata": {
    "tags": [],
    "vscode": {
     "languageId": "r"
    }
   },
   "outputs": [
    {
     "name": "stdout",
     "output_type": "stream",
     "text": [
      "Likelihood for Model 1: 1.542167e-06 \n",
      "Likelihood for Model 2: 0.01183428 \n"
     ]
    }
   ],
   "source": [
    "cat(\"Likelihood for Model 1:\", likelihood_1_multi_samples, \"\\n\")\n",
    "cat(\"Likelihood for Model 2:\", likelihood_2_multi_samples, \"\\n\")"
   ]
  },
  {
   "cell_type": "markdown",
   "id": "c08216a6-3a83-4bd0-83b1-466cade7f4b6",
   "metadata": {},
   "source": [
    "### When we have the prior of the model and it is informative ..."
   ]
  },
  {
   "cell_type": "markdown",
   "id": "40d18ce1-74f4-46a8-874b-474ba9460628",
   "metadata": {},
   "source": [
    "If we don't know anything about the probability of $M_1$ and $M_2$, then it is generally assumed that they are equally possible:"
   ]
  },
  {
   "cell_type": "code",
   "execution_count": 7,
   "id": "cceeb4f6-4831-4618-a4d3-e3f8f99f1b8b",
   "metadata": {
    "tags": [],
    "vscode": {
     "languageId": "r"
    }
   },
   "outputs": [
    {
     "name": "stdout",
     "output_type": "stream",
     "text": [
      "Bayes Factor (without informative priors): 7673.803 \n"
     ]
    }
   ],
   "source": [
    "# Compute the Bayes Factor\n",
    "bayes_factor <- likelihood_2_multi_samples / likelihood_1_multi_samples\n",
    "\n",
    "# Print the Bayes Factor\n",
    "cat(\"Bayes Factor (without informative priors):\", bayes_factor, \"\\n\")\n"
   ]
  },
  {
   "cell_type": "markdown",
   "id": "0d820f2e-ab3f-4cec-803a-d04dcdc195b9",
   "metadata": {},
   "source": [
    "In this case the result is the same as the LRT that we calcualte above."
   ]
  },
  {
   "cell_type": "markdown",
   "id": "81c8ad76-4bf4-4a36-9d2f-9a7df2a97f32",
   "metadata": {},
   "source": [
    "However when we are aware of a fact that **this genetic variant actually comes from a gene that's been proved to be directly associated with height**, then we believe that the probability of $M_1$ is lower than the probability of $M_2$. Using Bayesian analysis allows us to incorporate this information into the inference:"
   ]
  },
  {
   "cell_type": "code",
   "execution_count": 8,
   "id": "2cc77094-1475-4278-972e-c2a042f8f416",
   "metadata": {
    "tags": [],
    "vscode": {
     "languageId": "r"
    }
   },
   "outputs": [
    {
     "name": "stdout",
     "output_type": "stream",
     "text": [
      "Bayes Factor (with priors): 17905.54 \n"
     ]
    }
   ],
   "source": [
    "# Define prior probabilities for Model 1 and Model 2\n",
    "prior_M1 <- 0.3  # Prior probability for Model 1\n",
    "prior_M2 <- 0.7  # Prior probability for Model 2\n",
    "\n",
    "# Compute the adjusted Bayes Factor\n",
    "bayes_factor <- (prior_M2 / prior_M1) * (likelihood_2_multi_samples / likelihood_1_multi_samples)\n",
    "\n",
    "# Print the adjusted Bayes Factor\n",
    "cat(\"Bayes Factor (with priors):\", bayes_factor, \"\\n\")"
   ]
  },
  {
   "cell_type": "markdown",
   "id": "e4bf1aab-da9b-4776-a1d2-69efbaf598fc",
   "metadata": {},
   "source": [
    "### When the model is not fully specific "
   ]
  },
  {
   "cell_type": "markdown",
   "id": "3ef903fe-92f7-406a-b7cc-3199b7725023",
   "metadata": {},
   "source": [
    "Unlike a likelihood-ratio test, this Bayesian model comparison does not depend on any single set of parameters, as it integrates over all parameters in each model (with respect to the respective priors). An advantage of the use of Bayes factors is that it automatically, and quite naturally, includes a penalty for including too much model structure"
   ]
  },
  {
   "cell_type": "markdown",
   "id": "328b1d99-95e5-4214-98b7-695086856edb",
   "metadata": {},
   "source": [
    "For example, if we want to compare $M_1$ and $M^{'}_2$,\n",
    "\n",
    "- **Model 1 ($M_1$)**: The genetic variant has **no effect** on height.   \n",
    "- **Model 2' ($M^{'}_2$)**: The genetic variant has a **significant effect** between 1 and 3 on height. "
   ]
  },
  {
   "cell_type": "markdown",
   "id": "b0b9e25c-3ff9-437d-afcc-87d7b7689913",
   "metadata": {},
   "source": [
    "In frequentist analysis, we typically perform a Likelihood Ratio Test (LRT) to compare nested models. However, for this comparison between $M_1$ and $M^{'}_2$, the models are not nested. Model 2' introduces a parameter space (effect size range of 1 to 3) that is not a simple extension of Model 1. Because of this, LRT is not appropriate for comparing these two models, as it requires nested models where one model is a special case of the other (i.e., $M_1$ must be a simpler version of $M^{'}_2$). Therefore, in this case, the LRT will not work.\n",
    "\n",
    "On the other hand, Bayesian analysis can still be applied because it doesn't require nested models. In Bayesian model comparison, we calculate the Bayes Factor (BF) to assess the relative support for the two models. Bayes factors naturally handle model comparison even for non-nested models by integrating over all parameters and incorporating the prior knowledge.\n"
   ]
  },
  {
   "cell_type": "code",
   "execution_count": 9,
   "id": "1a182246-b5a3-4d20-b32a-93d4f608b991",
   "metadata": {
    "tags": [],
    "vscode": {
     "languageId": "r"
    }
   },
   "outputs": [
    {
     "data": {
      "text/plain": [
       "0.01323835 with absolute error < 2.1e-12"
      ]
     },
     "metadata": {},
     "output_type": "display_data"
    },
    {
     "name": "stdout",
     "output_type": "stream",
     "text": [
      "[1] \"Integrated likelihood for Model 2': 0.0132383537758094\"\n"
     ]
    }
   ],
   "source": [
    "# Create a vectorized function for integration\n",
    "likelihood_function <- function(theta_value) {\n",
    "    # Calculate the expected value for each observation based on genotype\n",
    "    means <- baseline + theta_value * genotype\n",
    "    # Calculate likelihood for this theta\n",
    "    result <- likelihood(theta = means, sd = sd_y, y=height_values)\n",
    "  return(result)\n",
    "}\n",
    "integrated_likelihood_M2_prime <- integrate(Vectorize(likelihood_function), lower = 1, upper = 3)\n",
    "integrated_likelihood_M2_prime\n",
    "print(paste(\"Integrated likelihood for Model 2':\", integrated_likelihood_M2_prime$value))"
   ]
  },
  {
   "cell_type": "markdown",
   "id": "20750a30-7ddf-46ff-887a-e3e88384a1d9",
   "metadata": {},
   "source": [
    "Then the bayes factor between $M_1$ and $M^{'}_2$ is:"
   ]
  },
  {
   "cell_type": "code",
   "execution_count": 10,
   "id": "59a5fac6-64f3-4e1a-b981-e5e43b5506a6",
   "metadata": {
    "tags": [],
    "vscode": {
     "languageId": "r"
    }
   },
   "outputs": [
    {
     "name": "stdout",
     "output_type": "stream",
     "text": [
      "Bayes Factor (M1 versus M2'): 8584.255 \n"
     ]
    }
   ],
   "source": [
    "# Compute the adjusted Bayes Factor\n",
    "bayes_factor <- integrated_likelihood_M2_prime$value/likelihood_1_multi_samples\n",
    "\n",
    "# Print the adjusted Bayes Factor\n",
    "cat(\"Bayes Factor (M1 versus M2'):\", bayes_factor, \"\\n\")"
   ]
  },
  {
   "cell_type": "code",
   "execution_count": null,
   "id": "9c5edf43-b448-4fdb-b7be-c38c14197c1c",
   "metadata": {
    "vscode": {
     "languageId": "r"
    }
   },
   "outputs": [],
   "source": []
  }
 ],
 "metadata": {
  "kernelspec": {
   "display_name": "R",
   "language": "R",
   "name": "ir"
  },
  "language_info": {
   "codemirror_mode": "r",
   "file_extension": ".r",
   "mimetype": "text/x-r-source",
   "name": "R",
   "pygments_lexer": "r",
   "version": "4.4.2"
  }
 },
 "nbformat": 4,
 "nbformat_minor": 5
}
