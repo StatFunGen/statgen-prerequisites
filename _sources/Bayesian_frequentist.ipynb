{
 "cells": [
  {
   "cell_type": "markdown",
   "id": "1f8e41cf",
   "metadata": {},
   "source": [
    "# Bayesian and Frequentist\n",
    "\n",
    "> Being a Frequentist is all about evaluating what happens if I do this procedure in long-run practice across a population of situations, and choosing procedures that work well across this population; then, when faced with one real situation, assume that this one situation is randomly drawn from all possible situations; subtleties involve conditioning on observed aspects of the real situation to choose more apposite procedures. Bayesians attempt to condition on everything that is known, implying that everything that is unknown has a distribution.\n",
    "> \n",
    "> Quote from Donald Rubin, personal communication, March 21 2025"
   ]
  },
  {
   "cell_type": "markdown",
   "id": "bcefdeb9",
   "metadata": {},
   "source": []
  }
 ],
 "metadata": {
  "kernelspec": {
   "display_name": "R",
   "language": "R",
   "name": "ir"
  },
  "language_info": {
   "codemirror_mode": "r",
   "file_extension": ".r",
   "mimetype": "text/x-r-source",
   "name": "R",
   "pygments_lexer": "r",
   "version": "4.3.3"
  }
 },
 "nbformat": 4,
 "nbformat_minor": 5
}
