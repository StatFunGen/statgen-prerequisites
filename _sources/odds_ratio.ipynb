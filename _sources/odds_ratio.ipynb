{
 "cells": [
  {
   "cell_type": "markdown",
   "id": "4bd710e2",
   "metadata": {},
   "source": [
    "# Intuitional Description\n",
    "\n",
    "Odds ratio provides an intuitive measure of association strength between genetic variants and **binary outcomes** (like disease status) by comparing the odds of disease given a particular genotype to the odds without it, while logistic regression extends this concept to model the log-odds of disease as a linear function of genetic markers, allowing for multiple variants and covariates to be analyzed simultaneously."
   ]
  },
  {
   "cell_type": "markdown",
   "id": "97674c17",
   "metadata": {},
   "source": [
    "# Graphical Summary"
   ]
  },
  {
   "cell_type": "markdown",
   "id": "93de89e7",
   "metadata": {},
   "source": [
    "![OR](./cartoons/odds_ratio.svg)"
   ]
  },
  {
   "cell_type": "markdown",
   "id": "0bfaccd8",
   "metadata": {},
   "source": [
    "# Key Formula\n",
    "\n",
    "In logistic regression for genetic association studies, we model the probability of a binary outcome (e.g., disease status) as a function of genetic markers:\n",
    "\n",
    "$$\n",
    "\\text{logit}(p_i) = \\ln\\left(\\frac{p_i}{1-p_i}\\right) = \\beta_0 + \\beta_1 X_i\n",
    "$$\n",
    "\n",
    "Where:\n",
    "- $p_i$ is the probability of disease for individual $i$\n",
    "- $\\frac{p_i}{1-p_i}$ is the odds of disease for individual $i$\n",
    "- $X_i$ is the genotype for individual $i$ at a single marker (e.g., coded as 0, 1, 2 for the number of minor alleles)\n",
    "- $\\beta_0$ is the intercept\n",
    "- $\\beta_1$ is the log odds ratio per unit increase in $X$ (to be estimated)\n"
   ]
  },
  {
   "cell_type": "markdown",
   "id": "f6da92bb",
   "metadata": {},
   "source": [
    "# Technical Details\n",
    "\n",
    "\n",
    "## Definition of Odds\n",
    "\n",
    "The odds for an event with probability $p$ is defined as:\n",
    "\n",
    "$$\n",
    "\\text{Odds} = \\frac{p}{1-p}\n",
    "$$\n",
    "\n",
    "For example, if the probability of disease is 0.2 (20%), then the odds of disease are $\\frac{0.2}{0.8} = 0.25$, or 1:4.\n",
    "\n",
    "## Definition of Odds Ratio\n",
    "\n",
    "The odds ratio compares the odds of disease between two groups. For a genetic variant with genotypes AA, Aa, and aa (where a is the risk allele), the odds ratio for aa vs. AA would be:\n",
    "\n",
    "$$\n",
    "\\text{OR} = \\frac{\\text{Odds(Disease|aa)}}{\\text{Odds(Disease|AA)}}\n",
    "$$\n",
    "\n",
    "In the logistic regression in the Key Formula section, the odds ratio (OR) can be calculated as:\n",
    "\n",
    "$$\n",
    "\\text{OR} = e^{\\beta_1}\n",
    "$$\n",
    "\n",
    "\n",
    "## Interpretation in Genetics\n",
    "\n",
    "- $\\text{OR} = 1$: No association between genotype and disease\n",
    "- $\\text{OR} > 1$: The variant increases disease risk (e.g., OR = 2 means individuals with this genotype have twice the odds of disease)\n",
    "- $\\text{OR} < 1$: The variant decreases disease risk (protective effect)\n",
    "\n"
   ]
  },
  {
   "cell_type": "markdown",
   "id": "58d544ce-922b-4a03-b765-9a1972fd1859",
   "metadata": {},
   "source": [
    "# Example"
   ]
  },
  {
   "cell_type": "markdown",
   "id": "09bec0a0",
   "metadata": {},
   "source": [
    "This R code demonstrates a genetic association analysis workflow for studying potential relationships between genetic variants and disease status (binary). The key steps include:\n",
    "1. Create the genotype and phenotype data for 5 individuals across 3 genetic variants and scale the matrix\n",
    "2. Assign disease status to each individual (case/control)\n",
    "3. Perform univariate logistic regression for each variant\n",
    "4. Calculatie key statistical measures: beta coefficients, odds ratios, standard errors, z-scores, p-values\n"
   ]
  },
  {
   "cell_type": "code",
   "execution_count": 4,
   "id": "1754fdf6",
   "metadata": {
    "vscode": {
     "languageId": "r"
    }
   },
   "outputs": [],
   "source": [
    "# Clear the environment\n",
    "rm(list = ls())\n",
    "\n",
    "# Define genotypes for 5 individuals at 3 variants\n",
    "# These represent actual alleles at each position\n",
    "# For example, Individual 1 has genotypes: CC, CT, AT\n",
    "genotypes <- c(\n",
    " \"CC\", \"CT\", \"AT\",  # Individual 1\n",
    " \"TT\", \"TT\", \"AA\",  # Individual 2\n",
    " \"CT\", \"CT\", \"AA\",  # Individual 3\n",
    " \"CC\", \"TT\", \"AA\",  # Individual 4\n",
    " \"CC\", \"CC\", \"TT\"   # Individual 5\n",
    ")\n",
    "# Reshape into a matrix\n",
    "N = 5 # number of individuals\n",
    "M = 3 # number of variants\n",
    "geno_matrix <- matrix(genotypes, nrow=N, ncol=M, byrow=TRUE)\n",
    "rownames(geno_matrix) <- paste(\"Individual\", 1:N)\n",
    "colnames(geno_matrix) <- paste(\"Variant\", 1:M)\n",
    "\n",
    "alt_alleles <- c(\"T\", \"C\", \"T\")\n",
    "\n",
    "# Convert to raw genotype matrix using the additive / dominant / recessive model\n",
    "Xraw_additive <- matrix(0, nrow=N, ncol=M) # dount number of non-reference alleles\n",
    "\n",
    "rownames(Xraw_additive) <- rownames(geno_matrix)\n",
    "colnames(Xraw_additive) <- colnames(geno_matrix)\n",
    "\n",
    "for (i in 1:N) {\n",
    "  for (j in 1:M) {\n",
    "    alleles <- strsplit(geno_matrix[i,j], \"\")[[1]]\n",
    "    Xraw_additive[i,j] <- sum(alleles == alt_alleles[j])\n",
    "  }\n",
    "}\n",
    "X <- scale(Xraw_additive, center=TRUE, scale=TRUE)"
   ]
  },
  {
   "cell_type": "code",
   "execution_count": 13,
   "id": "0e4fea8e",
   "metadata": {
    "vscode": {
     "languageId": "r"
    }
   },
   "outputs": [],
   "source": [
    "# assign observed disease status for the 5 individuals (1: case, 0: control)\n",
    "Y <- c(0, 1, 0, 0, 0)"
   ]
  },
  {
   "cell_type": "code",
   "execution_count": 14,
   "id": "c26b2287",
   "metadata": {
    "vscode": {
     "languageId": "r"
    }
   },
   "outputs": [
    {
     "name": "stdout",
     "output_type": "stream",
     "text": [
      "[1] \"Genotype data and disease status:\"\n",
      "             disease   variant1   variant2   variant3\n",
      "Individual 1       0 -0.6708204  0.2390457  0.4472136\n",
      "Individual 2       1  1.5652476 -0.9561829 -0.6708204\n",
      "Individual 3       0  0.4472136  0.2390457 -0.6708204\n",
      "Individual 4       0 -0.6708204 -0.9561829 -0.6708204\n",
      "Individual 5       0 -0.6708204  1.4342743  1.5652476\n"
     ]
    }
   ],
   "source": [
    "# Create a data frame for analysis\n",
    "data <- data.frame(\n",
    "  disease = Y,\n",
    "  variant1 = X[,1],\n",
    "  variant2 = X[,2],\n",
    "  variant3 = X[,3]\n",
    ")\n",
    "\n",
    "# Display the data\n",
    "print(\"Genotype data and disease status:\")\n",
    "print(data)\n"
   ]
  },
  {
   "cell_type": "code",
   "execution_count": 16,
   "id": "57c4ac68",
   "metadata": {
    "vscode": {
     "languageId": "r"
    }
   },
   "outputs": [
    {
     "name": "stderr",
     "output_type": "stream",
     "text": [
      "Warning message:\n",
      "\"glm.fit: fitted probabilities numerically 0 or 1 occurred\"\n",
      "Warning message:\n",
      "\"glm.fit: fitted probabilities numerically 0 or 1 occurred\"\n",
      "Warning message:\n",
      "\"glm.fit: fitted probabilities numerically 0 or 1 occurred\"\n"
     ]
    },
    {
     "data": {
      "text/html": [
       "<table class=\"dataframe\">\n",
       "<caption>A data.frame: 3 x 6</caption>\n",
       "<thead>\n",
       "\t<tr><th scope=col>Variant</th><th scope=col>BETA</th><th scope=col>OR</th><th scope=col>SE</th><th scope=col>Z</th><th scope=col>P_Value</th></tr>\n",
       "\t<tr><th scope=col>&lt;chr&gt;</th><th scope=col>&lt;dbl&gt;</th><th scope=col>&lt;dbl&gt;</th><th scope=col>&lt;dbl&gt;</th><th scope=col>&lt;dbl&gt;</th><th scope=col>&lt;dbl&gt;</th></tr>\n",
       "</thead>\n",
       "<tbody>\n",
       "\t<tr><td>Variant 1</td><td> 41.80748</td><td>1.434685e+18</td><td>93363.456</td><td> 0.0004477927</td><td>0.9996</td></tr>\n",
       "\t<tr><td>Variant 2</td><td>-16.38677</td><td>7.643945e-08</td><td> 6425.664</td><td>-0.0025502059</td><td>0.9980</td></tr>\n",
       "\t<tr><td>Variant 3</td><td>-16.53777</td><td>6.572597e-08</td><td> 7941.816</td><td>-0.0020823666</td><td>0.9983</td></tr>\n",
       "</tbody>\n",
       "</table>\n"
      ],
      "text/latex": [
       "A data.frame: 3 x 6\n",
       "\\begin{tabular}{llllll}\n",
       " Variant & BETA & OR & SE & Z & P\\_Value\\\\\n",
       " <chr> & <dbl> & <dbl> & <dbl> & <dbl> & <dbl>\\\\\n",
       "\\hline\n",
       "\t Variant 1 &  41.80748 & 1.434685e+18 & 93363.456 &  0.0004477927 & 0.9996\\\\\n",
       "\t Variant 2 & -16.38677 & 7.643945e-08 &  6425.664 & -0.0025502059 & 0.9980\\\\\n",
       "\t Variant 3 & -16.53777 & 6.572597e-08 &  7941.816 & -0.0020823666 & 0.9983\\\\\n",
       "\\end{tabular}\n"
      ],
      "text/markdown": [
       "\n",
       "A data.frame: 3 x 6\n",
       "\n",
       "| Variant &lt;chr&gt; | BETA &lt;dbl&gt; | OR &lt;dbl&gt; | SE &lt;dbl&gt; | Z &lt;dbl&gt; | P_Value &lt;dbl&gt; |\n",
       "|---|---|---|---|---|---|\n",
       "| Variant 1 |  41.80748 | 1.434685e+18 | 93363.456 |  0.0004477927 | 0.9996 |\n",
       "| Variant 2 | -16.38677 | 7.643945e-08 |  6425.664 | -0.0025502059 | 0.9980 |\n",
       "| Variant 3 | -16.53777 | 6.572597e-08 |  7941.816 | -0.0020823666 | 0.9983 |\n",
       "\n"
      ],
      "text/plain": [
       "  Variant   BETA      OR           SE        Z             P_Value\n",
       "1 Variant 1  41.80748 1.434685e+18 93363.456  0.0004477927 0.9996 \n",
       "2 Variant 2 -16.38677 7.643945e-08  6425.664 -0.0025502059 0.9980 \n",
       "3 Variant 3 -16.53777 6.572597e-08  7941.816 -0.0020823666 0.9983 "
      ]
     },
     "metadata": {},
     "output_type": "display_data"
    }
   ],
   "source": [
    "# Fit logistic regression models for each variant\n",
    "# Univariate Logistic Regression Model\n",
    "beta <- numeric(M)\n",
    "odds_ratios <- numeric(M)\n",
    "se_beta <- numeric(M)\n",
    "z_score <- numeric(M)\n",
    "p_value <- numeric(M)\n",
    "\n",
    "for (j in 1:M) {\n",
    "  formula <- as.formula(paste(\"disease ~\", paste0(\"variant\", j)))\n",
    "  model <- glm(formula, data = data, family = binomial())\n",
    "  \n",
    "  # Extract coefficient and calculate odds ratio\n",
    "  coef_summary <- summary(model)$coefficients\n",
    "  beta[j] <- coef_summary[2, 1]  # Log odds ratio\n",
    "  odds_ratios[j] <- exp(beta[j]) # odds ratio is the exponent of the beta from the regression\n",
    "  se_beta[j] <- coef_summary[2, 2]  # Standard error  \n",
    "  z_score[j] <- beta[j] / se_beta[j]\n",
    "  p_value[j] <- round(coef_summary[2, 4], 4)  # Two-tailed p-value\n",
    "}\n",
    "# Create results table\n",
    "logistic_results <- data.frame(Variant = colnames(X), BETA = beta, OR = odds_ratios, SE = se_beta, Z = z_score, P_Value = p_value)\n",
    "logistic_results"
   ]
  },
  {
   "cell_type": "markdown",
   "id": "a38a3dc8",
   "metadata": {},
   "source": [
    "# Supplementary"
   ]
  },
  {
   "cell_type": "markdown",
   "id": "2aa841ca",
   "metadata": {},
   "source": [
    "## Contingency Table Calculation\n",
    "\n",
    "For a simple 2×2 contingency table:\n",
    "\n",
    "|            | Disease | No Disease | Total |\n",
    "|------------|---------|------------|-------|\n",
    "| Genotype + | a       | b          | a+b   |\n",
    "| Genotype - | c       | d          | c+d   |\n",
    "| Total      | a+c     | b+d        | n     |\n",
    "\n",
    "The odds ratio is calculated as:\n",
    "\n",
    "$$\n",
    "\\text{OR} = \\frac{a/c}{b/d} = \\frac{ad}{bc}\n",
    "$$\n",
    "\n",
    "\n",
    "\n",
    "## Multiple Marker Logistic Regression\n",
    "\n",
    "For multiple genetic markers, the model extends to:\n",
    "\n",
    "$$\n",
    "\\text{logit}(p_i) = \\beta_0 + \\beta_1 X_{i1} + \\beta_2 X_{i2} + ... + \\beta_M X_{iM}\n",
    "$$\n",
    "\n",
    "Where:\n",
    "- $X_{ij}$ is the genotype of individual $i$ at marker $j$\n",
    "- $\\beta_j$ is the log odds ratio for marker $j$ adjusted for all other markers in the model\n",
    "- The odds ratio for marker $j$ is $e^{\\beta_j}$\n",
    "\n",
    "## Relationship to Case-Control Studies\n",
    "\n",
    "In genetic case-control studies, the odds ratio approximates the relative risk when the disease is rare in the population (rare disease assumption). This makes odds ratios particularly useful in genetic epidemiology for rare diseases."
   ]
  },
  {
   "cell_type": "code",
   "execution_count": 17,
   "id": "0d481203",
   "metadata": {
    "vscode": {
     "languageId": "r"
    }
   },
   "outputs": [
    {
     "name": "stdout",
     "output_type": "stream",
     "text": [
      "\n",
      "\n",
      "--- Contingency Table Analysis for Variant 1 ---\n",
      "                    \n",
      "                     0 1\n",
      "  -0.670820393249937 3 0\n",
      "  0.447213595499958  1 0\n",
      "  1.56524758424985   0 1\n",
      "\n",
      "Manually calculated odds ratio: NaN \n"
     ]
    }
   ],
   "source": [
    "# Create a contingency table for Variant 1 to manually calculate odds ratio\n",
    "cat(\"\\n\\n--- Contingency Table Analysis for Variant 1 ---\\n\")\n",
    "table_v1 <- table(data$variant1, data$disease)\n",
    "print(table_v1)\n",
    "\n",
    "# Calculate odds ratio from contingency table\n",
    "# Note: This is simplified and works best with binary variants\n",
    "if (nrow(table_v1) >= 2 && ncol(table_v1) == 2) {\n",
    "  a <- table_v1[2, 2]  # Genotype present, disease present\n",
    "  b <- table_v1[2, 1]  # Genotype present, disease absent\n",
    "  c <- table_v1[1, 2]  # Genotype absent, disease present\n",
    "  d <- table_v1[1, 1]  # Genotype absent, disease absent\n",
    "  \n",
    "  or_manual <- (a * d) / (b * c)\n",
    "  cat(\"\\nManually calculated odds ratio:\", round(or_manual, 4), \"\\n\")\n",
    "} else {\n",
    "  cat(\"\\nCannot calculate manual odds ratio - need 2x2 contingency table\\n\")\n",
    "}\n"
   ]
  },
  {
   "cell_type": "code",
   "execution_count": 7,
   "id": "77db5047-6e43-4b9c-8afc-30b087c66a62",
   "metadata": {
    "tags": [],
    "vscode": {
     "languageId": "r"
    }
   },
   "outputs": [
    {
     "data": {
      "text/html": [
       "<table class=\"dataframe\">\n",
       "<caption>A data.frame: 5 × 2</caption>\n",
       "<thead>\n",
       "\t<tr><th scope=col>genotype</th><th scope=col>trait</th></tr>\n",
       "\t<tr><th scope=col>&lt;dbl&gt;</th><th scope=col>&lt;dbl&gt;</th></tr>\n",
       "</thead>\n",
       "<tbody>\n",
       "\t<tr><td>1</td><td>1</td></tr>\n",
       "\t<tr><td>2</td><td>1</td></tr>\n",
       "\t<tr><td>0</td><td>0</td></tr>\n",
       "\t<tr><td>1</td><td>1</td></tr>\n",
       "\t<tr><td>2</td><td>0</td></tr>\n",
       "</tbody>\n",
       "</table>\n"
      ],
      "text/latex": [
       "A data.frame: 5 × 2\n",
       "\\begin{tabular}{ll}\n",
       " genotype & trait\\\\\n",
       " <dbl> & <dbl>\\\\\n",
       "\\hline\n",
       "\t 1 & 1\\\\\n",
       "\t 2 & 1\\\\\n",
       "\t 0 & 0\\\\\n",
       "\t 1 & 1\\\\\n",
       "\t 2 & 0\\\\\n",
       "\\end{tabular}\n"
      ],
      "text/markdown": [
       "\n",
       "A data.frame: 5 × 2\n",
       "\n",
       "| genotype &lt;dbl&gt; | trait &lt;dbl&gt; |\n",
       "|---|---|\n",
       "| 1 | 1 |\n",
       "| 2 | 1 |\n",
       "| 0 | 0 |\n",
       "| 1 | 1 |\n",
       "| 2 | 0 |\n",
       "\n"
      ],
      "text/plain": [
       "  genotype trait\n",
       "1 1        1    \n",
       "2 2        1    \n",
       "3 0        0    \n",
       "4 1        1    \n",
       "5 2        0    "
      ]
     },
     "metadata": {},
     "output_type": "display_data"
    }
   ],
   "source": [
    "rm(list=ls())\n",
    "\n",
    "# Simulate genotype and height values\n",
    "genotype <- c(1, 2, 0,1,2)  # Genotypes: 1, 2, 0 represent the number of minor alleles (homozygous, heterozygous, and homozygous major)\n",
    "trait <- c(1, 1, 0,1,0)     # Trait values: 0 (disease absent) and 1 (disease present) for each individual\n",
    "\n",
    "# Simulate height values for three individuals based on genotypes\n",
    "n = length(genotype)\n",
    "data <- data.frame(genotype = genotype, trait = trait)\n",
    "data\n"
   ]
  },
  {
   "cell_type": "code",
   "execution_count": 8,
   "id": "34cd189d-b3b1-4e6c-bfb6-068aedca8beb",
   "metadata": {
    "tags": [],
    "vscode": {
     "languageId": "r"
    }
   },
   "outputs": [
    {
     "data": {
      "text/plain": [
       "\n",
       "Call:\n",
       "glm(formula = trait ~ genotype, family = \"binomial\", data = data)\n",
       "\n",
       "Coefficients:\n",
       "            Estimate Std. Error z value Pr(>|z|)\n",
       "(Intercept)  -0.3025     1.7188  -0.176    0.860\n",
       "genotype      0.6050     1.2597   0.480    0.631\n",
       "\n",
       "(Dispersion parameter for binomial family taken to be 1)\n",
       "\n",
       "    Null deviance: 6.7301  on 4  degrees of freedom\n",
       "Residual deviance: 6.4907  on 3  degrees of freedom\n",
       "AIC: 10.491\n",
       "\n",
       "Number of Fisher Scoring iterations: 4\n"
      ]
     },
     "metadata": {},
     "output_type": "display_data"
    },
    {
     "data": {
      "text/html": [
       "<strong>genotype:</strong> 1.83117720720709"
      ],
      "text/latex": [
       "\\textbf{genotype:} 1.83117720720709"
      ],
      "text/markdown": [
       "**genotype:** 1.83117720720709"
      ],
      "text/plain": [
       "genotype \n",
       "1.831177 "
      ]
     },
     "metadata": {},
     "output_type": "display_data"
    }
   ],
   "source": [
    "\n",
    "# Fit a logistic regression model\n",
    "logit_model <- glm(trait ~ genotype, data = data, family = \"binomial\")\n",
    "\n",
    "# Summarize the model\n",
    "summary(logit_model)\n",
    "\n",
    "# Calculate the odds ratio (exp(coef)) for the genotype variable\n",
    "odds_ratio <- exp(coef(logit_model)[2])\n",
    "odds_ratio\n"
   ]
  },
  {
   "cell_type": "code",
   "execution_count": null,
   "id": "989b444c-7192-4f74-bf37-c231c24adb6b",
   "metadata": {
    "vscode": {
     "languageId": "r"
    }
   },
   "outputs": [],
   "source": []
  }
 ],
 "metadata": {
  "kernelspec": {
   "display_name": "R",
   "language": "R",
   "name": "ir"
  },
  "language_info": {
   "codemirror_mode": "r",
   "file_extension": ".r",
   "mimetype": "text/x-r-source",
   "name": "R",
   "pygments_lexer": "r",
   "version": "4.3.3"
  },
  "toc-autonumbering": true
 },
 "nbformat": 4,
 "nbformat_minor": 5
}
