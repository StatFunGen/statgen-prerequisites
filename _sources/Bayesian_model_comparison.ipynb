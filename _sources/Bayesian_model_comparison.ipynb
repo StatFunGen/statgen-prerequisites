{
 "cells": [
  {
   "cell_type": "markdown",
   "id": "7da4982e",
   "metadata": {},
   "source": [
    "# Bayesian Model Comparison\n",
    "\n",
    "Bayesian model comparison evaluates competing models by measuring how well they predict observed data while accounting for model complexity, which is reflected in how broadly the prior distribution spreads probability across the parameter space."
   ]
  },
  {
   "cell_type": "markdown",
   "id": "8d4fcf63",
   "metadata": {},
   "source": [
    "# Graphical Summary"
   ]
  },
  {
   "cell_type": "markdown",
   "id": "6988ab81",
   "metadata": {},
   "source": [
    "![fig](./graphical_summary/Slide28.png)"
   ]
  },
  {
   "cell_type": "markdown",
   "id": "43fcd390",
   "metadata": {},
   "source": [
    "# Key Formula\n",
    "\n",
    "When comparing two models $M_1$ and $M_2$, we calculate the **posterior odds** for each model. The **posterior odds** represent the ratio of the posterior probabilities for the two models. This can be written as:\n",
    "\n",
    "$$\n",
    "\\frac{P(M_1|D)}{P(M_2|D)} = \\frac{P(D|M_1)P(M_1)}{P(D|M_2)P(M_2)}\n",
    "$$\n",
    "\n",
    "Where:\n",
    "- $P(M_1|D)$ is the **posterior** probability of model $M_1$ given the data $D$.\n",
    "- $P(M_2|D)$ is the **posterior** probability of model $M_2$ given the data $D$.\n",
    "- $\\frac{P(D|M_1)}{P(D|M_2)}$ is the **bayes factor** of $M_1$ and $M_2$\n",
    "- $P(M_1)$ and $P(M_2)$ are the **prior probabilities** of models $M_1$ and $M_2$, respectively.\n"
   ]
  },
  {
   "cell_type": "markdown",
   "id": "70a2d2b1",
   "metadata": {},
   "source": [
    "# Technical Details\n",
    "\n",
    "## Recall Bayes Factor\n",
    "Recall that the **Bayes Factor (BF)** is defined as:\n",
    "\n",
    "$$\n",
    "\\text{BF}_{1,2} = \\frac{L(\\text{D}|\\text{M}_1)}{L(\\text{D}|\\text{M}_2)} ={\\frac {\\int \\Pr(\\gamma _{1}|M_{1})\\Pr(D|\\gamma _{1},M_{1})\\,d\\gamma _{1}}{\\int \\Pr(\\gamma _{2}|M_{2})\\Pr(D|\\gamma _{2},M_{2})\\,d\\gamma _{2}}} \n",
    "$$\n",
    "\n",
    "$$\n",
    "= \\frac{\\frac{Pr(M_1|D)Pr(D)}{Pr(M_1)} }{\\frac{Pr(M_2|D)Pr(D)}{Pr(M_2)}} = \\frac{Pr(M_1|D)}{Pr(M_2|D)} \\times \\frac{Pr(M_2)}{Pr(M_1)}\n",
    "$$\n",
    "\n",
    "\n",
    "This ratio here, $\\frac{P(M_1|D)}{P(M_2|D)}$, simplifies to:\n",
    "\n",
    "$$\n",
    "\\text{Posterior Odds} = \\text{Prior Odds} \\times \\text{Bayes Factor (BF)}\n",
    "$$\n",
    "\n",
    "Where:\n",
    "- **Prior Odds** = $\\frac{P(M_1)}{P(M_2)}$ is the ratio of prior probabilities of the models.\n",
    "- **Bayes Factor (BF)** = $\\frac{P(D|M_1)}{P(D|M_2)}$ is the Bayes Factor of the two models given data $\\text{D}$.\n",
    "\n",
    "Thus, the **posterior odds** can be updated by multiplying the **prior odds** by the **Bayes Factor**.\n",
    "\n",
    "## Prior Model Probabilities\n",
    "\n",
    "**Equal priors**: If no preference between models, set $P(M_1) = P(M_2) = 0.5$\n",
    "$$\n",
    "\\frac{P(M_1|D)}{P(M_2|D)} = BF_{12}\n",
    "$$\n",
    "\n",
    "**Unequal priors**: When one model is a priori more plausible\n",
    "$$\n",
    "\\frac{P(M_1|D)}{P(M_2|D)} = BF_{12} \\times \\frac{P(M_1)}{P(M_2)}\n",
    "$$\n",
    "\n",
    "## Computing Marginal Likelihood\n",
    "\n",
    "### **For Conjugate Priors**\n",
    "When priors are conjugate to the likelihood, the marginal likelihood has a closed form:\n",
    "$$\n",
    "P(D|M) = \\frac{P(\\text{prior parameters})}{P(\\text{posterior parameters})} \\times \\text{normalizing constants}\n",
    "$$\n",
    "\n",
    "### **For Non-Conjugate Cases**\n",
    "- **Laplace approximation**: Approximate the integral using a normal distribution around the posterior mode\n",
    "- **Importance sampling**: Use Monte Carlo methods with importance weights\n",
    "- **Bridge sampling**: Estimate the ratio of normalizing constants\n",
    "- **Nested sampling**: Specialized algorithm for marginal likelihood estimation\n"
   ]
  },
  {
   "cell_type": "markdown",
   "id": "d316a18f",
   "metadata": {},
   "source": [
    "# Example"
   ]
  },
  {
   "cell_type": "markdown",
   "id": "7ef1eb22",
   "metadata": {},
   "source": [
    "## Example 1 -- fine mapping"
   ]
  },
  {
   "cell_type": "markdown",
   "id": "df521461",
   "metadata": {},
   "source": [
    "This example demonstrates Bayesian model comparison in a fine-mapping context. We have 3 variants in linkage disequilibrium (LD), and we want to identify which variant is truly causal by comparing different models.\n",
    "\n",
    "\n",
    "**Models to Compare:**\n",
    "- **M0**: Null model (no causal variant)\n",
    "- **M1**: SNP1 is causal\n",
    "- **M2**: SNP2 is causal  \n",
    "- **M3**: SNP3 is causal"
   ]
  },
  {
   "cell_type": "code",
   "execution_count": 60,
   "id": "af659091",
   "metadata": {
    "vscode": {
     "languageId": "r"
    }
   },
   "outputs": [],
   "source": [
    "rm(list=ls())\n",
    "library(MASS)\n",
    "library(ggplot2)\n",
    "library(dplyr)\n",
    "set.seed(123)"
   ]
  },
  {
   "cell_type": "markdown",
   "id": "3bd9f7f5",
   "metadata": {},
   "source": [
    "### Data Generation"
   ]
  },
  {
   "cell_type": "code",
   "execution_count": 68,
   "id": "8b5a74da",
   "metadata": {
    "vscode": {
     "languageId": "r"
    }
   },
   "outputs": [],
   "source": [
    "# Parameters\n",
    "n_individuals <- 100\n",
    "n_variants <- 3\n",
    "\n",
    "# True causal variant (SNP2 in this example)\n",
    "true_causal_snp <- 2\n",
    "beta_true <- 4.5      # cm per allele (true effect size)\n",
    "sigma_epsilon <- 8    # residual standard deviation (cm)\n",
    "height_baseline <- 170       # population mean height (cm)\n",
    "\n",
    "# Different MAFs for the three variants\n",
    "mafs <- c(0.3, 0.25, 0.35)  # Minor allele frequencies\n",
    "\n",
    "# Create LD structure between variants\n",
    "ld_matrix <- matrix(c(\n",
    "  1.0, 0.5, 0.4,\n",
    "  0.5, 1.0, 0.6,\n",
    "  0.4, 0.6, 1.0\n",
    "), 3, 3)"
   ]
  },
  {
   "cell_type": "code",
   "execution_count": 69,
   "id": "44e1b323",
   "metadata": {
    "vscode": {
     "languageId": "r"
    }
   },
   "outputs": [],
   "source": [
    "# Expected genotype values under HWE\n",
    "expected_geno <- 2 * mafs\n",
    "\n",
    "# Approximate covariance structure\n",
    "# Variance of genotype under HWE: 2*p*(1-p) where p is MAF\n",
    "geno_vars <- 2 * mafs * (1 - mafs)\n",
    "cov_matrix <- diag(sqrt(geno_vars)) %*% ld_matrix %*% diag(sqrt(geno_vars))\n",
    "\n",
    "# Generate continuous variables and discretize\n",
    "continuous_geno <- mvrnorm(n_individuals, mu = expected_geno, Sigma = cov_matrix)\n",
    "\n",
    "# Convert to discrete genotypes (0, 1, 2) using HWE-based thresholds\n",
    "genotypes <- matrix(0, n_individuals, n_variants)\n",
    "for (j in 1:n_variants) {\n",
    " p <- mafs[j]\n",
    " # HWE probabilities: P(0) = (1-p)^2, P(1) = 2p(1-p), P(2) = p^2\n",
    " thresholds <- c((1-p)^2, (1-p)^2 + 2*p*(1-p))\n",
    " \n",
    " # Standardize and convert to probabilities\n",
    " std_geno <- pnorm(continuous_geno[, j], mean = expected_geno[j], sd = sqrt(cov_matrix[j,j]))\n",
    " \n",
    " genotypes[, j] <- cut(std_geno, \n",
    "                      breaks = c(0, thresholds, 1), \n",
    "                      labels = FALSE, include.lowest = TRUE) - 1\n",
    "}\n",
    "\n",
    "colnames(genotypes) <- c(\"SNP1\", \"SNP2\", \"SNP3\")"
   ]
  },
  {
   "cell_type": "code",
   "execution_count": 70,
   "id": "bd988785",
   "metadata": {
    "vscode": {
     "languageId": "r"
    }
   },
   "outputs": [],
   "source": [
    "genetic_effects <- genotypes[, true_causal_snp] * beta_true\n",
    "\n",
    "# Generate environmental effects\n",
    "environmental_effects <- rnorm(n_individuals, mean = 0, sd = sigma_epsilon)\n",
    "\n",
    "# Calculate observed heights\n",
    "observed_heights <- height_baseline + genetic_effects + environmental_effects\n",
    "\n",
    "# Create dataset\n",
    "data <- data.frame(\n",
    "  individual = 1:n_individuals,\n",
    "  height = observed_heights,\n",
    "  genotypes,\n",
    "  genetic_effect = genetic_effects,\n",
    "  environmental_effect = environmental_effects\n",
    ")"
   ]
  },
  {
   "cell_type": "markdown",
   "id": "c1bf1e94",
   "metadata": {},
   "source": [
    "Then we define the models to compare:"
   ]
  },
  {
   "cell_type": "code",
   "execution_count": 71,
   "id": "73c0342a",
   "metadata": {
    "vscode": {
     "languageId": "r"
    }
   },
   "outputs": [],
   "source": [
    "# Define the four models to compare\n",
    "models <- list(\n",
    "  M0 = \"Null model (no causal variant)\",\n",
    "  M1 = \"SNP1 is causal\", \n",
    "  M2 = \"SNP2 is causal\",\n",
    "  M3 = \"SNP3 is causal\"\n",
    ")\n"
   ]
  },
  {
   "cell_type": "markdown",
   "id": "a44053e2",
   "metadata": {},
   "source": [
    "### Bayesian Inference"
   ]
  },
  {
   "cell_type": "code",
   "execution_count": 72,
   "id": "86fe606c",
   "metadata": {
    "vscode": {
     "languageId": "r"
    }
   },
   "outputs": [
    {
     "name": "stdout",
     "output_type": "stream",
     "text": [
      "\n",
      "Prior specifications:\n",
      "Effect size prior: beta ~ N( 0 , 25 )\n",
      "Residual variance: sigma_2 = 64 (assumed known)\n"
     ]
    }
   ],
   "source": [
    "# Prior specifications\n",
    "prior_beta_mean <- 0\n",
    "prior_beta_var <- 25  # Prior variance for effect size (SD = 5)\n",
    "prior_sigma2 <- sigma_epsilon^2  # Assume known residual variance\n",
    "\n",
    "cat(\"\\nPrior specifications:\\n\")\n",
    "cat(\"Effect size prior: beta ~ N(\", prior_beta_mean, \",\", prior_beta_var, \")\\n\")\n",
    "cat(\"Residual variance: sigma_2 =\", prior_sigma2, \"(assumed known)\\n\")\n",
    "\n",
    "# Prior model probabilities (equal)\n",
    "prior_model_probs <- rep(0.25, 4)\n",
    "names(prior_model_probs) <- c(\"M0\", \"M1\", \"M2\", \"M3\")\n"
   ]
  },
  {
   "cell_type": "code",
   "execution_count": 73,
   "id": "f6486225",
   "metadata": {
    "vscode": {
     "languageId": "r"
    }
   },
   "outputs": [
    {
     "name": "stdout",
     "output_type": "stream",
     "text": [
      "M0 (Null) : log marginal likelihood = -363.249 \n",
      "M1 (SNP1 causal) : log marginal likelihood = -364.539 \n",
      "  Estimated effect size: -0.605 cm per allele\n",
      "M2 (SNP2 causal) : log marginal likelihood = -360.762 \n",
      "  Estimated effect size: 3.615 cm per allele\n",
      "M3 (SNP3 causal) : log marginal likelihood = -364.202 \n",
      "  Estimated effect size: 1.17 cm per allele\n"
     ]
    }
   ],
   "source": [
    "# Function to compute log marginal likelihood for each model\n",
    "compute_log_marginal_likelihood <- function(model_idx, y, X, prior_beta_mean, prior_beta_var, sigma2) {\n",
    "  n <- length(y)\n",
    "  \n",
    "  if (model_idx == 0) {\n",
    "    # Null model: only intercept\n",
    "    X_design <- matrix(1, n, 1)\n",
    "    prior_precision <- matrix(1e-6, 1, 1)  # Only intercept prior\n",
    "    prior_mean <- height_baseline\n",
    "  } else {\n",
    "    # Causal model: intercept + specific SNP\n",
    "    X_design <- cbind(1, X[, model_idx])\n",
    "    prior_precision <- diag(c(1e-6, 1/prior_beta_var))  # Intercept + SNP priors\n",
    "    prior_mean <- c(height_baseline, prior_beta_mean)\n",
    "  }\n",
    "  \n",
    "  # Posterior precision matrix\n",
    "  Lambda_n <- prior_precision + t(X_design) %*% X_design / sigma2\n",
    "  \n",
    "  # Posterior mean\n",
    "  beta_n <- solve(Lambda_n) %*% (prior_precision %*% prior_mean + \n",
    "                                 t(X_design) %*% y / sigma2)\n",
    "  \n",
    "  # Log marginal likelihood (conjugate normal case)\n",
    "  log_ml <- -0.5 * n * log(2 * pi * sigma2) - \n",
    "            0.5 * log(det(Lambda_n)) + 0.5 * log(det(prior_precision)) +\n",
    "            0.5 * (t(beta_n) %*% Lambda_n %*% beta_n - \n",
    "                   t(prior_mean) %*% prior_precision %*% prior_mean -\n",
    "                   t(y) %*% y / sigma2)\n",
    "  \n",
    "  return(list(log_ml = as.numeric(log_ml), beta_n = beta_n))\n",
    "}\n",
    "\n",
    "# Compute marginal likelihood for each model\n",
    "log_marginal_likelihoods <- numeric(4)\n",
    "model_results <- list()\n",
    "\n",
    "for (i in 0:3) {\n",
    "  result <- compute_log_marginal_likelihood(i, observed_heights, genotypes, \n",
    "                                          prior_beta_mean, prior_beta_var, prior_sigma2)\n",
    "  log_marginal_likelihoods[i+1] <- result$log_ml\n",
    "  model_results[[i+1]] <- result\n",
    "  \n",
    "  model_name <- ifelse(i == 0, \"M0 (Null)\", paste0(\"M\", i, \" (SNP\", i, \" causal)\"))\n",
    "  cat(model_name, \": log marginal likelihood =\", round(result$log_ml, 3), \"\\n\")\n",
    "  \n",
    "  # Show estimated effect size for causal models\n",
    "  if (i > 0) {\n",
    "    estimated_beta <- result$beta_n[2]  # Second element is the SNP effect\n",
    "    cat(\"  Estimated effect size:\", round(estimated_beta, 3), \"cm per allele\\n\")\n",
    "  }\n",
    "}\n",
    "\n",
    "names(log_marginal_likelihoods) <- c(\"M0\", \"M1\", \"M2\", \"M3\")"
   ]
  },
  {
   "cell_type": "code",
   "execution_count": 74,
   "id": "32185b6a",
   "metadata": {
    "vscode": {
     "languageId": "r"
    }
   },
   "outputs": [
    {
     "name": "stdout",
     "output_type": "stream",
     "text": [
      "\n",
      "Model Comparison Results:\n",
      "========================\n",
      "   Model Log_Marginal_Likelihood Prior_Probability Posterior_Probability\n",
      "M0    M0                -363.249              0.25                0.0730\n",
      "M1    M1                -364.539              0.25                0.0201\n",
      "M2    M2                -360.762              0.25                0.8787\n",
      "M3    M3                -364.202              0.25                0.0282\n",
      "\n",
      "Best supported model: M2 \n",
      "True causal model: M 2 \n",
      "\n",
      "Bayes Factors (relative to null model M0):\n",
      "BF(M 1  vs M0) = 0.28 \n",
      "BF(M 2  vs M0) = 12.03 \n",
      "BF(M 3  vs M0) = 0.39 \n",
      "\n",
      "Pairwise Bayes Factors between causal models:\n",
      "BF(M 1  vs M 2 ) = 0.02 \n",
      "BF(M 1  vs M 3 ) = 0.71 \n",
      "BF(M 2  vs M 3 ) = 31.19 \n",
      "\n",
      "Evidence Interpretation:\n",
      "Strongest evidence against null: BF = 12.03 \n"
     ]
    },
    {
     "name": "stdout",
     "output_type": "stream",
     "text": [
      "-> Strong evidence for a causal effect\n"
     ]
    }
   ],
   "source": [
    "## Model Comparison\n",
    "\n",
    "# Compute posterior model probabilities\n",
    "log_ml_max <- max(log_marginal_likelihoods)\n",
    "marginal_likelihoods <- exp(log_marginal_likelihoods - log_ml_max)\n",
    "\n",
    "# Posterior model probabilities\n",
    "posterior_model_probs <- (marginal_likelihoods * prior_model_probs) / \n",
    "                       sum(marginal_likelihoods * prior_model_probs)\n",
    "\n",
    "cat(\"\\nModel Comparison Results:\\n\")\n",
    "cat(\"========================\\n\")\n",
    "\n",
    "comparison_df <- data.frame(\n",
    " Model = names(log_marginal_likelihoods),\n",
    " Log_Marginal_Likelihood = round(log_marginal_likelihoods, 3),\n",
    " Prior_Probability = prior_model_probs,\n",
    " Posterior_Probability = round(posterior_model_probs, 4)\n",
    ")\n",
    "\n",
    "print(comparison_df)\n",
    "\n",
    "# Best model\n",
    "best_model <- names(which.max(posterior_model_probs))\n",
    "cat(\"\\nBest supported model:\", best_model, \"\\n\")\n",
    "cat(\"True causal model: M\", true_causal_snp, \"\\n\")\n",
    "\n",
    "# Bayes factors relative to null model\n",
    "cat(\"\\nBayes Factors (relative to null model M0):\\n\")\n",
    "for (i in 2:4) {\n",
    " bf <- exp(log_marginal_likelihoods[i] - log_marginal_likelihoods[1])\n",
    " cat(\"BF(M\", i-1, \" vs M0) =\", round(bf, 2), \"\\n\")\n",
    "}\n",
    "\n",
    "# Pairwise Bayes factors between causal models\n",
    "cat(\"\\nPairwise Bayes Factors between causal models:\\n\")\n",
    "causal_models <- 2:4\n",
    "for (i in 1:(length(causal_models)-1)) {\n",
    " for (j in (i+1):length(causal_models)) {\n",
    "   idx1 <- causal_models[i]\n",
    "   idx2 <- causal_models[j]\n",
    "   bf <- exp(log_marginal_likelihoods[idx1] - log_marginal_likelihoods[idx2])\n",
    "   cat(\"BF(M\", idx1-1, \" vs M\", idx2-1, \") =\", round(bf, 2), \"\\n\")\n",
    " }\n",
    "}\n",
    "\n",
    "# Evidence strength interpretation\n",
    "best_bf_vs_null <- exp(log_marginal_likelihoods[which.max(posterior_model_probs)] - log_marginal_likelihoods[1])\n",
    "cat(\"\\nEvidence Interpretation:\\n\")\n",
    "cat(\"Strongest evidence against null: BF =\", round(best_bf_vs_null, 2), \"\\n\")\n",
    "\n",
    "if (best_bf_vs_null > 100) {\n",
    " cat(\"-> Decisive evidence for a causal effect\\n\")\n",
    "} else if (best_bf_vs_null > 10) {\n",
    " cat(\"-> Strong evidence for a causal effect\\n\")\n",
    "} else if (best_bf_vs_null > 3) {\n",
    " cat(\"-> Moderate evidence for a causal effect\\n\")\n",
    "} else {\n",
    " cat(\"-> Weak evidence for a causal effect\\n\")\n",
    "}"
   ]
  },
  {
   "cell_type": "markdown",
   "id": "ef7e64d7",
   "metadata": {},
   "source": [
    "## Example 2 -- Detecting pleiotropy"
   ]
  },
  {
   "cell_type": "markdown",
   "id": "75f3d431",
   "metadata": {},
   "source": [
    "Note that this is the **same example** that we have in the [Bayesian mixture model](https://gaow.github.io/statgen-prerequisites/Bayesian_mixture_model.html), with only one cell at the end about the model comparison between the two mixture models (pleiotropy versus non-pleiotropy).\n",
    "\n",
    "This example demonstrates how Bayesian mixture models can be used to detect pleiotropy by comparing different hypotheses about how a genetic variant affects multiple traits. The model automatically identifies whether the data is better explained by scenarios where the variant affects traits independently (no pleiotropy) or with correlated effects (pleiotropy)."
   ]
  },
  {
   "cell_type": "code",
   "execution_count": 101,
   "id": "00bc1053",
   "metadata": {
    "vscode": {
     "languageId": "r"
    }
   },
   "outputs": [],
   "source": [
    "rm(list=ls())\n",
    "library(MASS)\n",
    "library(ggplot2)\n",
    "library(dplyr)\n",
    "library(gridExtra)\n",
    "library(mvtnorm)\n",
    "set.seed(101)"
   ]
  },
  {
   "cell_type": "markdown",
   "id": "ca62ed48",
   "metadata": {},
   "source": [
    "### Model Setup\n",
    "\n",
    "We have:\n",
    "- $Y_{N \\times 2}$: phenotype matrix (height and weight for N individuals)  \n",
    "- $X_{N \\times 1}$: genotype vector (0, 1, 2 coding for one variant)\n",
    "- $\\beta_{1 \\times 2}$: effect vector for the variant on both traits\n",
    "\n",
    "The model is: $Y = X\\beta + \\varepsilon$\n",
    "\n",
    "\n",
    "We define 7 different component models representing different patterns of genetic effects:\n",
    "\n",
    "### Individual Models:\n",
    "- **M0 (Null)**: No effect on either trait\n",
    "- **M1**: Effect only on height  \n",
    "- **M2**: Effect only on weight\n",
    "- **M3**: Perfect correlation between height and weight effects\n",
    "- **M4**: Weak correlation (0.1)\n",
    "- **M5**: Medium correlation (0.5) \n",
    "- **M6**: Strong correlation (0.8)\n",
    "\n",
    "### Mixture Models:\n",
    "- **No Pleiotropy**: Mixture of M0, M1, M2 (equal weights)\n",
    "- **Pleiotropy**: Mixture of M3, M4, M5, M6 (equal weights)\n"
   ]
  },
  {
   "cell_type": "code",
   "execution_count": 102,
   "id": "7baa2bf4",
   "metadata": {
    "vscode": {
     "languageId": "r"
    }
   },
   "outputs": [],
   "source": [
    "models <- list(\n",
    "  M0 = matrix(c(0, 0, 0, 0), 2, 2),           # Null\n",
    "  M1 = matrix(c(1, 0, 0, 0), 2, 2),           # Height only\n",
    "  M2 = matrix(c(0, 0, 0, 1), 2, 2),           # Weight only  \n",
    "  M3 = matrix(c(1, 1, 1, 1), 2, 2),           # Perfect correlation\n",
    "  M4 = matrix(c(1, 0.8, 0.8, 1), 2, 2),       # Strong correlation\n",
    "  M5 = matrix(c(1, 0.5, 0.5, 1), 2, 2),       # Medium correlation\n",
    "  M6 = matrix(c(1, 0.1, 0.1, 1), 2, 2)        # Weak correlation\n",
    ")"
   ]
  },
  {
   "cell_type": "code",
   "execution_count": 103,
   "id": "047847a3",
   "metadata": {
    "vscode": {
     "languageId": "r"
    }
   },
   "outputs": [
    {
     "name": "stdout",
     "output_type": "stream",
     "text": [
      "No Pleiotropy Mixture:\n",
      "Components: M0 M1 M2 \n",
      "Weights: 0.5 0.25 0.25 \n",
      "\n",
      "Pleiotropy Mixture:\n",
      "Components: M3 M4 M5 M6 \n",
      "Weights: 0.25 0.25 0.25 0.25 \n"
     ]
    }
   ],
   "source": [
    "# Define mixture models\n",
    "no_pleiotropy_components <- c(\"M0\", \"M1\", \"M2\")\n",
    "pleiotropy_components <- c(\"M3\", \"M4\", \"M5\", \"M6\")\n",
    "\n",
    "# Mixture weights\n",
    "no_pleiotropy_weights <- c(0.5, 0.25, 0.25)  \n",
    "pleiotropy_weights <- rep(1/4, 4)\n",
    "\n",
    "cat(\"No Pleiotropy Mixture:\\n\")\n",
    "cat(\"Components:\", no_pleiotropy_components, \"\\n\")\n",
    "cat(\"Weights:\", no_pleiotropy_weights, \"\\n\\n\")\n",
    "\n",
    "cat(\"Pleiotropy Mixture:\\n\") \n",
    "cat(\"Components:\", pleiotropy_components, \"\\n\")\n",
    "cat(\"Weights:\", pleiotropy_weights, \"\\n\")"
   ]
  },
  {
   "cell_type": "markdown",
   "id": "b38be13a",
   "metadata": {},
   "source": [
    "### Data Generation"
   ]
  },
  {
   "cell_type": "code",
   "execution_count": 104,
   "id": "8649afe7",
   "metadata": {
    "vscode": {
     "languageId": "r"
    }
   },
   "outputs": [],
   "source": [
    "# Parameters\n",
    "n_individuals <- 20\n",
    "true_mixture <- \"pleiotropy\"  # Choose which mixture generates the data\n",
    "effect_scale <- 2  # Scale factor for effect sizes\n",
    "\n",
    "# Generate genotypes (0, 1, 2 with MAF = 0.3)\n",
    "maf <- 0.3\n",
    "p_genotypes <- c((1-maf)^2, 2*maf*(1-maf), maf^2)\n",
    "genotypes <- sample(0:2, n_individuals, replace = TRUE, prob = p_genotypes)\n",
    "\n",
    "# Function to sample from a mixture model\n",
    "sample_from_mixture <- function(components, weights, scale = 1) {\n",
    "  # Sample component\n",
    "  component_idx <- sample(1:length(components), 1, prob = weights)\n",
    "  chosen_component <- components[component_idx]\n",
    "  \n",
    "  # Sample beta from the chosen component\n",
    "  cov_matrix <- models[[chosen_component]] * scale^2\n",
    "  \n",
    "  # Handle the null case (M0)\n",
    "  if (all(cov_matrix == 0)) {\n",
    "    beta <- c(0, 0)\n",
    "  } else {\n",
    "    # Add small diagonal to ensure positive definite\n",
    "    cov_matrix <- cov_matrix + diag(0.01, 2)\n",
    "    beta <- mvrnorm(1, mu = c(0, 0), Sigma = cov_matrix)\n",
    "  }\n",
    "  \n",
    "  return(list(beta = beta, component = chosen_component))\n",
    "}\n",
    "\n",
    "# Generate true effect from the mixture\n",
    "if (true_mixture == \"no_pleiotropy\") {\n",
    "  result <- sample_from_mixture(no_pleiotropy_components, no_pleiotropy_weights, effect_scale)\n",
    "} else {\n",
    "  result <- sample_from_mixture(pleiotropy_components, pleiotropy_weights, effect_scale)\n",
    "}\n",
    "\n",
    "true_beta <- result$beta\n",
    "true_component <- result$component"
   ]
  },
  {
   "cell_type": "code",
   "execution_count": 105,
   "id": "52b12ef5",
   "metadata": {
    "vscode": {
     "languageId": "r"
    }
   },
   "outputs": [],
   "source": [
    "# Generate phenotypes\n",
    "baseline_height <- 170  # cm\n",
    "baseline_weight <- 70   # kg\n",
    "residual_sd <- c(8, 5)  # residual standard deviations\n",
    "\n",
    "# Genetic effects\n",
    "genetic_effects <- outer(genotypes, true_beta)\n",
    "\n",
    "# Environmental effects\n",
    "environmental_effects <- cbind(\n",
    "  rnorm(n_individuals, 0, residual_sd[1]),\n",
    "  rnorm(n_individuals, 0, residual_sd[2])\n",
    ")\n",
    "\n",
    "# Final phenotypes\n",
    "phenotypes <- matrix(c(baseline_height, baseline_weight), n_individuals, 2, byrow = TRUE) + \n",
    "              genetic_effects + environmental_effects\n",
    "\n",
    "colnames(phenotypes) <- c(\"height\", \"weight\")\n",
    "\n",
    "# Create dataset\n",
    "data <- data.frame(\n",
    "  id = 1:n_individuals,\n",
    "  genotype = genotypes,\n",
    "  height = phenotypes[, 1],\n",
    "  weight = phenotypes[, 2]\n",
    ")\n"
   ]
  },
  {
   "cell_type": "markdown",
   "id": "3016b664",
   "metadata": {},
   "source": [
    "### Bayesian Inference"
   ]
  },
  {
   "cell_type": "markdown",
   "id": "dddf0f12",
   "metadata": {},
   "source": [
    "The key idea of the Bayesian mixture model is that we don't know which component the genetic effect comes from. We treat the component assignment as a latent variable and compute posterior probabilities for each component."
   ]
  },
  {
   "cell_type": "code",
   "execution_count": 106,
   "id": "b166dac1",
   "metadata": {
    "vscode": {
     "languageId": "r"
    }
   },
   "outputs": [],
   "source": [
    "# Function to compute log-likelihood for given beta values\n",
    "log_likelihood <- function(beta, genotypes, phenotypes) {\n",
    "  n <- nrow(phenotypes)\n",
    "  ll <- 0\n",
    "  \n",
    "  for (i in 1:n) {\n",
    "    # Predicted phenotype for individual i\n",
    "    pred <- c(baseline_height, baseline_weight) + genotypes[i] * beta\n",
    "    \n",
    "    # Residual covariance matrix (assumed independent)\n",
    "    residual_cov <- diag(residual_sd^2)\n",
    "    \n",
    "    # Add to log-likelihood\n",
    "    diff <- phenotypes[i, ] - pred\n",
    "    ll <- ll - 0.5 * t(diff) %*% solve(residual_cov) %*% diff - \n",
    "          0.5 * log(det(2 * pi * residual_cov))\n",
    "  }\n",
    "  \n",
    "  return(as.numeric(ll))\n",
    "}\n",
    "\n",
    "# Function to compute log-prior for beta given component\n",
    "log_prior <- function(beta, component_name, scale = effect_scale) {\n",
    "  cov_matrix <- models[[component_name]] * scale^2\n",
    "  \n",
    "  # Handle null case\n",
    "  if (all(cov_matrix == 0)) {\n",
    "    return(ifelse(all(abs(beta) < 0.01), 0, -Inf))\n",
    "  }\n",
    "  \n",
    "  # Add small diagonal for numerical stability\n",
    "  cov_matrix <- cov_matrix + diag(0.01, 2)\n",
    "  \n",
    "  # Compute log density\n",
    "  lp <- -0.5 * t(beta) %*% solve(cov_matrix) %*% beta - \n",
    "        0.5 * log(det(2 * pi * cov_matrix))\n",
    "  \n",
    "  return(as.numeric(lp))\n",
    "}\n",
    "\n",
    "# Function to compute posterior probability for each component\n",
    "# This integrates over all possible beta values for each component\n",
    "compute_component_posterior <- function(component_name, genotypes, phenotypes) {\n",
    "  if (component_name == \"M0\") {\n",
    "    # Null model: beta = (0, 0)\n",
    "    beta <- c(0, 0)\n",
    "    ll <- log_likelihood(beta, genotypes, phenotypes)\n",
    "    lp <- log_prior(beta, component_name)\n",
    "    return(ll + lp)\n",
    "  }\n",
    "  \n",
    "  # For non-null components, we need to integrate over beta\n",
    "  # We'll use a grid approximation for illustration\n",
    "  beta_height_range <- seq(-3, 3, length.out = 50)\n",
    "  beta_weight_range <- seq(-3, 3, length.out = 50)\n",
    "  grid <- expand.grid(beta_height = beta_height_range, beta_weight = beta_weight_range)\n",
    "  \n",
    "  log_marginal <- -Inf\n",
    "  \n",
    "  for (i in 1:nrow(grid)) {\n",
    "    beta <- c(grid$beta_height[i], grid$beta_weight[i])\n",
    "    \n",
    "    ll <- log_likelihood(beta, genotypes, phenotypes)\n",
    "    lp <- log_prior(beta, component_name)\n",
    "    \n",
    "    if (is.finite(ll + lp)) {\n",
    "      log_marginal <- log(exp(log_marginal) + exp(ll + lp))\n",
    "    }\n",
    "  }\n",
    "  \n",
    "  # Normalize by grid size\n",
    "  log_marginal <- log_marginal - log(nrow(grid))\n",
    "  \n",
    "  return(log_marginal)\n",
    "}\n"
   ]
  },
  {
   "cell_type": "code",
   "execution_count": 107,
   "id": "a53e9697",
   "metadata": {
    "vscode": {
     "languageId": "r"
    }
   },
   "outputs": [
    {
     "name": "stdout",
     "output_type": "stream",
     "text": [
      "\n",
      "Computing component posterior probabilities...\n"
     ]
    },
    {
     "name": "stdout",
     "output_type": "stream",
     "text": [
      "Component M0 : log posterior = -145.02 \n",
      "Component M1 : log posterior = -148.77 \n",
      "Component M2 : log posterior = -144.32 \n",
      "Component M3 : log posterior = -143.95 \n",
      "Component M4 : log posterior = -144.18 \n",
      "Component M5 : log posterior = -144.3 \n",
      "Component M6 : log posterior = -144.45 \n",
      "\n",
      "Posterior probabilities for each component:\n",
      "M0 : 0.0826 \n",
      "M1 : 0.0019 \n",
      "M2 : 0.1664 \n",
      "M3 : 0.2416 \n",
      "M4 : 0.1916 \n",
      "M5 : 0.1701 \n",
      "M6 : 0.1458 \n"
     ]
    }
   ],
   "source": [
    "# Compute posterior probabilities for each component\n",
    "cat(\"\\nComputing component posterior probabilities...\\n\")\n",
    "component_names <- names(models)\n",
    "log_posteriors <- numeric(length(component_names))\n",
    "\n",
    "for (i in 1:length(component_names)) {\n",
    "  comp <- component_names[i]\n",
    "  log_posteriors[i] <- compute_component_posterior(comp, genotypes, phenotypes)\n",
    "  cat(\"Component\", comp, \": log posterior =\", round(log_posteriors[i], 2), \"\\n\")\n",
    "}\n",
    "\n",
    "# Normalize to get probabilities\n",
    "log_posterior_max <- max(log_posteriors)\n",
    "posterior_probs <- exp(log_posteriors - log_posterior_max)\n",
    "posterior_probs <- posterior_probs / sum(posterior_probs)\n",
    "\n",
    "names(posterior_probs) <- component_names\n",
    "\n",
    "cat(\"\\nPosterior probabilities for each component:\\n\")\n",
    "for (i in 1:length(component_names)) {\n",
    "  cat(component_names[i], \":\", round(posterior_probs[i], 4), \"\\n\")\n",
    "}"
   ]
  },
  {
   "cell_type": "markdown",
   "id": "dc163638",
   "metadata": {},
   "source": [
    "Then we compute posterior probabilities for mixture models"
   ]
  },
  {
   "cell_type": "code",
   "execution_count": 108,
   "id": "0477f31d",
   "metadata": {
    "vscode": {
     "languageId": "r"
    }
   },
   "outputs": [
    {
     "name": "stdout",
     "output_type": "stream",
     "text": [
      "\n",
      "Mixture Model Posterior Probabilities:\n",
      "P(No Pleiotropy | Data) = 0.251 \n",
      "P(Pleiotropy | Data) = 0.749 \n",
      "\n",
      "Pleiotropy is more likely. Within pleiotropy mixture:\n",
      "M3 : 0.3226 \n",
      "M4 : 0.2558 \n",
      "M5 : 0.227 \n",
      "M6 : 0.1946 \n",
      "\n",
      "Predictive Summary:\n",
      "True generating component: M6 \n",
      "Most probable component: M3 \n",
      "True mixture: pleiotropy \n",
      "Most probable mixture: pleiotropy \n"
     ]
    }
   ],
   "source": [
    "no_pleio_posterior <- sum(posterior_probs[no_pleiotropy_components])\n",
    "pleio_posterior <- sum(posterior_probs[pleiotropy_components])\n",
    "\n",
    "cat(\"\\nMixture Model Posterior Probabilities:\\n\")\n",
    "cat(\"P(No Pleiotropy | Data) =\", round(no_pleio_posterior, 4), \"\\n\")\n",
    "cat(\"P(Pleiotropy | Data) =\", round(pleio_posterior, 4), \"\\n\")\n",
    "\n",
    "# Within-mixture component probabilities\n",
    "if (pleio_posterior > no_pleio_posterior) {\n",
    "  cat(\"\\nPleiotropy is more likely. Within pleiotropy mixture:\\n\")\n",
    "  pleio_components_probs <- posterior_probs[pleiotropy_components]\n",
    "  pleio_components_probs <- pleio_components_probs / sum(pleio_components_probs)\n",
    "  \n",
    "  for (i in 1:length(pleiotropy_components)) {\n",
    "    cat(pleiotropy_components[i], \":\", round(pleio_components_probs[i], 4), \"\\n\")\n",
    "  }\n",
    "} else {\n",
    "  cat(\"\\nNo pleiotropy is more likely. Within no-pleiotropy mixture:\\n\")\n",
    "  no_pleio_components_probs <- posterior_probs[no_pleiotropy_components]\n",
    "  no_pleio_components_probs <- no_pleio_components_probs / sum(no_pleio_components_probs)\n",
    "  \n",
    "  for (i in 1:length(no_pleiotropy_components)) {\n",
    "    cat(no_pleiotropy_components[i], \":\", round(no_pleio_components_probs[i], 4), \"\\n\")\n",
    "  }\n",
    "}\n",
    "\n",
    "# Predictive inference: What effect sizes are most likely?\n",
    "cat(\"\\nPredictive Summary:\\n\")\n",
    "cat(\"True generating component:\", true_component, \"\\n\")\n",
    "cat(\"Most probable component:\", names(which.max(posterior_probs)), \"\\n\")\n",
    "cat(\"True mixture:\", true_mixture, \"\\n\")\n",
    "cat(\"Most probable mixture:\", ifelse(pleio_posterior > no_pleio_posterior, \"pleiotropy\", \"no_pleiotropy\"), \"\\n\")\n"
   ]
  },
  {
   "cell_type": "code",
   "execution_count": 109,
   "id": "6fe5fd43",
   "metadata": {
    "vscode": {
     "languageId": "r"
    }
   },
   "outputs": [
    {
     "name": "stdout",
     "output_type": "stream",
     "text": [
      "\n",
      "Model Comparison:\n",
      "================\n",
      "No Pleiotropy log marginal likelihood: -145.01 \n",
      "Pleiotropy log marginal likelihood: -144.2 \n",
      "Bayes Factor (Pleiotropy vs No Pleiotropy): 2.245 \n",
      "Evidence interpretation: Weak evidence for Pleiotropy \n",
      "\n",
      "Posterior Model Probabilities:\n",
      "P(Pleiotropy | Data) = 0.6919 \n",
      "P(No Pleiotropy | Data) = 0.3081 \n",
      "Conclusion: Evidence favors Pleiotropy\n",
      "\n",
      "Comparison with true generating model:\n",
      "True mixture: pleiotropy \n",
      "Winning model: pleiotropy \n"
     ]
    }
   ],
   "source": [
    "## Bayesian Model Comparison\n",
    "\n",
    "# The log_posteriors from above are actually log marginal likelihoods for each component\n",
    "# Rename for clarity\n",
    "log_marginal_likelihoods <- log_posteriors\n",
    "names(log_marginal_likelihoods) <- component_names\n",
    "\n",
    "cat(\"\\nModel Comparison:\\n\")\n",
    "cat(\"================\\n\")\n",
    "\n",
    "# Compute mixture model marginal likelihoods\n",
    "# P(Data | Mixture) = sum over components: weight_k * P(Data | Component_k)\n",
    "\n",
    "# No pleiotropy mixture marginal likelihood\n",
    "no_pleio_components_ml <- log_marginal_likelihoods[no_pleiotropy_components]\n",
    "max_no_pleio <- max(no_pleio_components_ml)\n",
    "log_ml_no_pleio <- max_no_pleio + log(sum(no_pleiotropy_weights * exp(no_pleio_components_ml - max_no_pleio)))\n",
    "\n",
    "# Pleiotropy mixture marginal likelihood\n",
    "pleio_components_ml <- log_marginal_likelihoods[pleiotropy_components]\n",
    "max_pleio <- max(pleio_components_ml)\n",
    "log_ml_pleio <- max_pleio + log(sum(pleiotropy_weights * exp(pleio_components_ml - max_pleio)))\n",
    "\n",
    "cat(\"No Pleiotropy log marginal likelihood:\", round(log_ml_no_pleio, 2), \"\\n\")\n",
    "cat(\"Pleiotropy log marginal likelihood:\", round(log_ml_pleio, 2), \"\\n\")\n",
    "\n",
    "# Bayes factor\n",
    "bayes_factor <- exp(log_ml_pleio - log_ml_no_pleio)\n",
    "cat(\"Bayes Factor (Pleiotropy vs No Pleiotropy):\", round(bayes_factor, 3), \"\\n\")\n",
    "\n",
    "# Evidence interpretation\n",
    "if (bayes_factor > 10) {\n",
    "  evidence_strength <- \"Strong evidence for Pleiotropy\"\n",
    "} else if (bayes_factor > 3) {\n",
    "  evidence_strength <- \"Moderate evidence for Pleiotropy\"\n",
    "} else if (bayes_factor > 1) {\n",
    "  evidence_strength <- \"Weak evidence for Pleiotropy\"\n",
    "} else if (bayes_factor < 0.1) {\n",
    "  evidence_strength <- \"Strong evidence for No Pleiotropy\"\n",
    "} else if (bayes_factor < 0.33) {\n",
    "  evidence_strength <- \"Moderate evidence for No Pleiotropy\"\n",
    "} else {\n",
    "  evidence_strength <- \"Weak evidence for No Pleiotropy\"\n",
    "}\n",
    "\n",
    "cat(\"Evidence interpretation:\", evidence_strength, \"\\n\")\n",
    "\n",
    "# Posterior model probabilities (assuming equal priors)\n",
    "prior_prob_equal <- 0.5\n",
    "max_log_ml <- max(log_ml_pleio, log_ml_no_pleio)\n",
    "\n",
    "# Compute unnormalized posterior probabilities\n",
    "unnorm_post_pleio <- exp(log_ml_pleio - max_log_ml) * prior_prob_equal\n",
    "unnorm_post_no_pleio <- exp(log_ml_no_pleio - max_log_ml) * prior_prob_equal\n",
    "\n",
    "# Normalize\n",
    "total_unnorm <- unnorm_post_pleio + unnorm_post_no_pleio\n",
    "posterior_prob_pleio <- unnorm_post_pleio / total_unnorm\n",
    "posterior_prob_no_pleio <- unnorm_post_no_pleio / total_unnorm\n",
    "\n",
    "cat(\"\\nPosterior Model Probabilities:\\n\")\n",
    "cat(\"P(Pleiotropy | Data) =\", round(posterior_prob_pleio, 4), \"\\n\")\n",
    "cat(\"P(No Pleiotropy | Data) =\", round(posterior_prob_no_pleio, 4), \"\\n\")\n",
    "\n",
    "if (bayes_factor > 1) {\n",
    "  cat(\"Conclusion: Evidence favors Pleiotropy\\n\")\n",
    "} else {\n",
    "  cat(\"Conclusion: Evidence favors No Pleiotropy\\n\")\n",
    "}\n",
    "\n",
    "cat(\"\\nComparison with true generating model:\\n\")\n",
    "cat(\"True mixture:\", true_mixture, \"\\n\")\n",
    "cat(\"Winning model:\", ifelse(posterior_prob_pleio > posterior_prob_no_pleio, \"pleiotropy\", \"no_pleiotropy\"), \"\\n\")"
   ]
  },
  {
   "cell_type": "markdown",
   "id": "8d9ee3d2",
   "metadata": {},
   "source": [
    "In this example, we are actually performing **Bayesian model averaging** within each mixture model, where we compute the marginal likelihood of a mixture by averaging over its component models weighted by their prior probabilities (the mixture weights). Specifically, for the pleiotropy mixture, we compute \n",
    "$$\n",
    "P(\\text{Data} | \\text{Pleiotropy}) = \\sum_{k} \\pi_k P(\\text{Data} | M_k)\n",
    "$$\n",
    "where the sum is over components $M_3$, $M_4$, $M_5$, $M_6$, and each component is weighted by $\\pi_k = 1/4$. This averaging naturally accounts for uncertainty about which specific correlation pattern (perfect, strong, medium, or weak) best describes the pleiotropic effects, rather than forcing us to select a single pattern. \n",
    "\n",
    "In frequentist hypothesis testing, this corresponds to testing **composite hypotheses**, where the pleiotropy hypothesis $H_1$ is composite because it encompasses multiple specific alternatives (different correlation structures) rather than a single point hypothesis. However, while frequentist composite hypothesis testing typically requires specifying a particular alternative or using methods like the likelihood ratio test with nuisance parameters, the Bayesian approach elegantly handles this complexity by explicitly modeling the uncertainty over all possible mechanisms within each hypothesis through the mixture framework, providing coherent probabilistic statements about which overall biological hypothesis (pleiotropy vs. no pleiotropy) is better supported by the data."
   ]
  },
  {
   "cell_type": "markdown",
   "id": "33c9873a",
   "metadata": {},
   "source": [
    "# Supplementary\n",
    "\n",
    "## Graphical Summary"
   ]
  },
  {
   "cell_type": "code",
   "execution_count": 7,
   "id": "61d1788b",
   "metadata": {
    "vscode": {
     "languageId": "r"
    }
   },
   "outputs": [
    {
     "data": {
      "image/png": "[encoded data removed]",
      "text/plain": [
       "plot without title"
      ]
     },
     "metadata": {
      "image/png": {
       "height": 420,
       "width": 420
      }
     },
     "output_type": "display_data"
    }
   ],
   "source": [
    "library(ggplot2)\n",
    "\n",
    "# Basic model comparison data with unequal priors\n",
    "model_data <- data.frame(\n",
    " Model = c(\"Model 1\", \"Model 2\"),\n",
    " Log_Marginal_Likelihood = c(-152.3, -148.7),\n",
    " Prior_Probability = c(0.7, 0.3)  # Higher prior for Model 1\n",
    ")\n",
    "\n",
    "# Compute Bayes factor and posterior probabilities\n",
    "bayes_factor <- exp(model_data$Log_Marginal_Likelihood[2] - model_data$Log_Marginal_Likelihood[1])\n",
    "unnormalized_posteriors <- exp(model_data$Log_Marginal_Likelihood) * model_data$Prior_Probability\n",
    "posterior_probs <- unnormalized_posteriors / sum(unnormalized_posteriors)\n",
    "\n",
    "# Create plotting data\n",
    "plot_data <- data.frame(\n",
    " Model = rep(c(\"Model 1\", \"Model 2\"), 2),\n",
    " Probability = c(model_data$Prior_Probability, posterior_probs),\n",
    " Type = rep(c(\"Prior\", \"Posterior\"), each = 2)\n",
    ")\n",
    "\n",
    "# Create barplot\n",
    "p <- ggplot(plot_data, aes(x = Model, y = Probability, fill = Type)) +\n",
    " geom_col(position = position_dodge(width = 0.8), width = 0.6, color = \"black\", linewidth = 1.2) +\n",
    " geom_text(aes(label = round(Probability, 3)), \n",
    "           position = position_dodge(width = 0.8), vjust = -0.5, size = 6, fontface = \"bold\") +\n",
    " scale_fill_manual(values = c(\"Prior\" = \"tomato\", \"Posterior\" = \"skyblue\")) +\n",
    " labs(\n",
    "   title = \"Bayesian Model Comparison\",\n",
    "   subtitle = paste(\"Bayes Factor (Model 2 vs Model 1) =\", round(bayes_factor, 2)),\n",
    "   y = \"Probability\",\n",
    "   x = \"Model\",\n",
    "   fill = \"Type\"\n",
    " ) +\n",
    " ylim(0, 1.05) +\n",
    " theme_minimal(base_size = 20) +\n",
    " theme(\n",
    "   plot.title = element_text(hjust = 0.5, face = \"bold\"),\n",
    "   plot.subtitle = element_text(hjust = 0.5, face = \"bold\"),\n",
    "   axis.title.y = element_text(face = \"bold\"),\n",
    "   axis.title.x = element_text(face = \"bold\"),\n",
    "   axis.text.x = element_text(face = \"bold\"),\n",
    "   axis.text.y = element_text(face = \"bold\"),\n",
    "   legend.title = element_text(face = \"bold\"),\n",
    "   legend.text = element_text(face = \"bold\"),\n",
    "   legend.position = \"bottom\"\n",
    " )\n",
    "\n",
    "print(p)\n",
    "\n",
    "# Save the plot\n",
    "ggsave(\"./cartoons/Bayesian_model_comparison.png\", plot = p,\n",
    "      width = 10, height = 6, \n",
    "      bg = \"transparent\",\n",
    "      dpi = 300)"
   ]
  },
  {
   "cell_type": "code",
   "execution_count": null,
   "id": "d84b5d9d",
   "metadata": {
    "vscode": {
     "languageId": "r"
    }
   },
   "outputs": [],
   "source": []
  }
 ],
 "metadata": {
  "kernelspec": {
   "display_name": "R",
   "language": "R",
   "name": "ir"
  },
  "language_info": {
   "codemirror_mode": "r",
   "file_extension": ".r",
   "mimetype": "text/x-r-source",
   "name": "R",
   "pygments_lexer": "r",
   "version": "4.3.3"
  }
 },
 "nbformat": 4,
 "nbformat_minor": 5
}
