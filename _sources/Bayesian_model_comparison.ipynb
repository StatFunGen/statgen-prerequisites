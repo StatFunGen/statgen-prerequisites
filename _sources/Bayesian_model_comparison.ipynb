{
 "cells": [
  {
   "cell_type": "markdown",
   "id": "7da4982e",
   "metadata": {},
   "source": [
    "# Intuitional Description\n",
    "\n",
    "Bayesian model comparison evaluates competing models by measuring how well they predict observed data while accounting for model complexity, which is reflected in how broadly the prior distribution spreads probability across the parameter space."
   ]
  },
  {
   "cell_type": "markdown",
   "id": "8d4fcf63",
   "metadata": {},
   "source": [
    "# Graphical Summary"
   ]
  },
  {
   "cell_type": "markdown",
   "id": "6988ab81",
   "metadata": {},
   "source": [
    "![fig](./cartoons/Bayesian_model_comparison.svg)"
   ]
  },
  {
   "cell_type": "markdown",
   "id": "43fcd390",
   "metadata": {},
   "source": [
    "# Key Formula\n",
    "\n",
    "When comparing two models $M_1$ and $M_2$, we calculate the **posterior odds** for each model. The **posterior odds** represent the ratio of the posterior probabilities for the two models. This can be written as:\n",
    "\n",
    "$$\n",
    "\\frac{P(M_1|D)}{P(M_2|D)} = \\frac{P(D|M_1)P(M_1)}{P(D|M_2)P(M_2)}\n",
    "$$\n",
    "\n",
    "Where:\n",
    "- $P(M_1|D)$ is the **posterior** probability of model $M_1$ given the data $D$.\n",
    "- $P(M_2|D)$ is the **posterior** probability of model $M_2$ given the data $D$.\n",
    "- $\\frac{P(D|M_1)}{P(D|M_2)}$ is the **bayes factor** of $M_1$ and $M_2$\n",
    "- $P(M_1)$ and $P(M_2)$ are the **prior probabilities** of models $M_1$ and $M_2$, respectively.\n"
   ]
  },
  {
   "cell_type": "markdown",
   "id": "70a2d2b1",
   "metadata": {},
   "source": [
    "# Technical Details\n",
    "\n",
    "\n",
    "Recall that the **Bayes Factor (BF)** is defined as:\n",
    "\n",
    "$$\n",
    "\\text{BF}_{1,2} = \\frac{L(\\text{D}|\\text{M}_1)}{L(\\text{D}|\\text{M}_2)} ={\\frac {\\int \\Pr(\\gamma _{1}|M_{1})\\Pr(D|\\gamma _{1},M_{1})\\,d\\gamma _{1}}{\\int \\Pr(\\gamma _{2}|M_{2})\\Pr(D|\\gamma _{2},M_{2})\\,d\\gamma _{2}}} = \\frac{\\frac{Pr(M_1|D)Pr(D)}{Pr(M_1)} }{\\frac{Pr(M_2|D)Pr(D)}{Pr(M_2)}} = \\frac{Pr(M_1|D)}{Pr(M_2|D)} \\times \\frac{Pr(M_2)}{Pr(M_1)}\n",
    "$$\n",
    "\n",
    "\n",
    "This ratio here, $\\frac{P(M_1|D)}{P(M_2|D)}$, simplifies to:\n",
    "\n",
    "$$\n",
    "\\text{Posterior Odds} = \\text{Prior Odds} \\times \\text{Bayes Factor (BF)}\n",
    "$$\n",
    "\n",
    "Where:\n",
    "- **Prior Odds** = $\\frac{P(M_1)}{P(M_2)}$ is the ratio of prior probabilities of the models.\n",
    "- **Bayes Factor (BF)** = $\\frac{P(D|M_1)}{P(D|M_2)}$ is the Bayes Factor of the two models given data $\\text{D}$.\n",
    "\n",
    "Thus, the **posterior odds** can be updated by multiplying the **prior odds** by the **Bayes Factor**."
   ]
  },
  {
   "cell_type": "markdown",
   "id": "d316a18f",
   "metadata": {},
   "source": [
    "# Example"
   ]
  },
  {
   "cell_type": "markdown",
   "id": "7ef1eb22",
   "metadata": {},
   "source": [
    "## Example 1 -- fine mapping"
   ]
  },
  {
   "cell_type": "markdown",
   "id": "bea0b61c",
   "metadata": {},
   "source": [
    "This example demonstrates Bayesian fine mapping in genetics, which is used to identify causal genetic variants associated with a trait or disease. The code simulates a scenario with three correlated SNPs (Single Nucleotide Polymorphisms) where at least one has a strong signal (Z-score of 5.1).\n",
    "\n",
    "The analysis:\n",
    "1. compares seven possible causal configurations (from zero to two causal SNPs) by calculating approximate Bayes factors for each model\n",
    "2. combines these with prior probabilities to compute posterior probabilities\n",
    "3. calculates the Posterior Inclusion Probability (PIP) for each SNP, which represents the probability that each SNP is causal, and visualizes these results."
   ]
  },
  {
   "cell_type": "markdown",
   "id": "63cfd8fd-fb24-4966-a03f-bfe610dea864",
   "metadata": {},
   "source": [
    "We'll first simulate a scenario with 3 SNPs that have Z-scores (association statistics) and are in linkage disequilibrium (LD):"
   ]
  },
  {
   "cell_type": "code",
   "execution_count": 5,
   "id": "dc325bd6",
   "metadata": {
    "vscode": {
     "languageId": "r"
    }
   },
   "outputs": [],
   "source": [
    "rm(list = ls()) # Clear the workspace\n",
    "# Load necessary libraries\n",
    "library(MASS)      # for multivariate normal\n",
    "library(ggplot2)   # for plots\n",
    "library(tibble)    # for tidy tables\n",
    "library(dplyr)     # for data manipulation"
   ]
  },
  {
   "cell_type": "code",
   "execution_count": 6,
   "id": "751ad660",
   "metadata": {
    "vscode": {
     "languageId": "r"
    }
   },
   "outputs": [
    {
     "data": {
      "text/html": [
       "<style>\n",
       ".dl-inline {width: auto; margin:0; padding: 0}\n",
       ".dl-inline>dt, .dl-inline>dd {float: none; width: auto; display: inline-block}\n",
       ".dl-inline>dt::after {content: \":\\0020\"; padding-right: .5ex}\n",
       ".dl-inline>dt:not(:first-of-type) {padding-left: .5ex}\n",
       "</style><dl class=dl-inline><dt>SNP_A</dt><dd>5.1</dd><dt>SNP_B</dt><dd>2</dd><dt>SNP_C</dt><dd>1.8</dd></dl>\n"
      ],
      "text/latex": [
       "\\begin{description*}\n",
       "\\item[SNP\\textbackslash{}\\_A] 5.1\n",
       "\\item[SNP\\textbackslash{}\\_B] 2\n",
       "\\item[SNP\\textbackslash{}\\_C] 1.8\n",
       "\\end{description*}\n"
      ],
      "text/markdown": [
       "SNP_A\n",
       ":   5.1SNP_B\n",
       ":   2SNP_C\n",
       ":   1.8\n",
       "\n"
      ],
      "text/plain": [
       "SNP_A SNP_B SNP_C \n",
       "  5.1   2.0   1.8 "
      ]
     },
     "metadata": {},
     "output_type": "display_data"
    },
    {
     "data": {
      "text/html": [
       "<table class=\"dataframe\">\n",
       "<caption>A matrix: 3 x 3 of type dbl</caption>\n",
       "<thead>\n",
       "\t<tr><th></th><th scope=col>SNP_A</th><th scope=col>SNP_B</th><th scope=col>SNP_C</th></tr>\n",
       "</thead>\n",
       "<tbody>\n",
       "\t<tr><th scope=row>SNP_A</th><td>1.0</td><td>0.8</td><td>0.6</td></tr>\n",
       "\t<tr><th scope=row>SNP_B</th><td>0.8</td><td>1.0</td><td>0.7</td></tr>\n",
       "\t<tr><th scope=row>SNP_C</th><td>0.6</td><td>0.7</td><td>1.0</td></tr>\n",
       "</tbody>\n",
       "</table>\n"
      ],
      "text/latex": [
       "A matrix: 3 x 3 of type dbl\n",
       "\\begin{tabular}{r|lll}\n",
       "  & SNP\\_A & SNP\\_B & SNP\\_C\\\\\n",
       "\\hline\n",
       "\tSNP\\_A & 1.0 & 0.8 & 0.6\\\\\n",
       "\tSNP\\_B & 0.8 & 1.0 & 0.7\\\\\n",
       "\tSNP\\_C & 0.6 & 0.7 & 1.0\\\\\n",
       "\\end{tabular}\n"
      ],
      "text/markdown": [
       "\n",
       "A matrix: 3 x 3 of type dbl\n",
       "\n",
       "| <!--/--> | SNP_A | SNP_B | SNP_C |\n",
       "|---|---|---|---|\n",
       "| SNP_A | 1.0 | 0.8 | 0.6 |\n",
       "| SNP_B | 0.8 | 1.0 | 0.7 |\n",
       "| SNP_C | 0.6 | 0.7 | 1.0 |\n",
       "\n"
      ],
      "text/plain": [
       "      SNP_A SNP_B SNP_C\n",
       "SNP_A 1.0   0.8   0.6  \n",
       "SNP_B 0.8   1.0   0.7  \n",
       "SNP_C 0.6   0.7   1.0  "
      ]
     },
     "metadata": {},
     "output_type": "display_data"
    }
   ],
   "source": [
    "# Simulate Z-scores for 3 SNPs\n",
    "Z <- c(5.1, 2.0, 1.8)\n",
    "names(Z) <- c(\"SNP_A\", \"SNP_B\", \"SNP_C\")\n",
    "\n",
    "# Simulate LD matrix\n",
    "R <- matrix(c(\n",
    "  1.0, 0.8, 0.6,\n",
    "  0.8, 1.0, 0.7,\n",
    "  0.6, 0.7, 1.0\n",
    "), nrow = 3, byrow = TRUE)\n",
    "colnames(R) <- rownames(R) <- names(Z)\n",
    "Z\n",
    "R"
   ]
  },
  {
   "cell_type": "markdown",
   "id": "3e0109b7-5aaf-4ccb-a565-d0927e4929bf",
   "metadata": {},
   "source": [
    "We're considering 7 possible models: \n",
    "- null model (no causal SNPs)\n",
    "- 3 single-SNP models\n",
    "- 3 two-SNP models\n",
    "This represents all possible combinations of up to 2 causal SNPs."
   ]
  },
  {
   "cell_type": "code",
   "execution_count": 7,
   "id": "4e7e5355-28dc-4bc3-8cff-56fd0480006e",
   "metadata": {
    "vscode": {
     "languageId": "r"
    }
   },
   "outputs": [],
   "source": [
    "# Possible causal configurations (max 2 causal SNPs)\n",
    "configs <- list(\n",
    "  c(),                 # M0: null\n",
    "  c(1), c(2), c(3),    # Single SNP\n",
    "  c(1, 2), c(1, 3), c(2, 3)  # Pairs\n",
    ")\n"
   ]
  },
  {
   "cell_type": "markdown",
   "id": "4ee0223b-6d46-473a-a4b8-77ddf0ac984d",
   "metadata": {},
   "source": [
    "Now we'll calculate the Approximate Bayes Factor (ABF) for each configuration:"
   ]
  },
  {
   "cell_type": "markdown",
   "id": "c2fc92dc",
   "metadata": {},
   "source": [
    "We assume:\n",
    "- Effect sizes $\\sim N(0, \\sigma^2)$\n",
    "- $Z \\sim N(R\\beta, R)$\n",
    "\n",
    "ABF Explanation:\n",
    "\n",
    "- The ABF measures how well each model explains the observed Z-scores\n",
    "- Higher ABF indicates stronger evidence for that model\n",
    "- The sigma2 parameter (0.05) represents our prior belief about effect sizes\n",
    "\n",
    "The ABF calculation accounts for:\n",
    "\n",
    "- The strength of association (Z-scores)\n",
    "- The correlation structure between SNPs (LD matrix)\n",
    "- The complexity of the model (number of causal SNPs)"
   ]
  },
  {
   "cell_type": "code",
   "execution_count": 8,
   "id": "71464a50",
   "metadata": {
    "vscode": {
     "languageId": "r"
    }
   },
   "outputs": [],
   "source": [
    "compute_abf <- function(causal_idx, Z, R, sigma2 = 0.05) {\n",
    "  if (length(causal_idx) == 0) {\n",
    "    return(1)  # model with no causal SNPs\n",
    "  }\n",
    "  # Subset R and Z\n",
    "  R_c <- R[causal_idx, causal_idx, drop = FALSE]\n",
    "  Z_c <- Z[causal_idx]\n",
    "  V <- R_c + sigma2 * diag(length(causal_idx))\n",
    "  exponent <- t(Z_c) %*% solve(V) %*% Z_c\n",
    "  abf <- sqrt(det(R_c) / det(V)) * exp(0.5 * exponent)\n",
    "  return(abf)\n",
    "}\n",
    "\n",
    "abfs <- sapply(configs, compute_abf, Z = Z, R = R)\n"
   ]
  },
  {
   "cell_type": "markdown",
   "id": "1f86190e-0bbe-4b0a-aa59-f52e45522f31",
   "metadata": {},
   "source": [
    "We combine the ABFs with prior probabilities to compute posterior probabilities:"
   ]
  },
  {
   "cell_type": "code",
   "execution_count": 9,
   "id": "deed6dba",
   "metadata": {
    "vscode": {
     "languageId": "r"
    }
   },
   "outputs": [],
   "source": [
    "# Set prior p(causal SNP) = 0.01\n",
    "p <- 0.01\n",
    "m <- length(Z)\n",
    "\n",
    "# Prior on each model\n",
    "model_priors <- sapply(configs, function(cfg) {\n",
    "  k <- length(cfg)\n",
    "  p^k * (1 - p)^(m - k)\n",
    "})"
   ]
  },
  {
   "cell_type": "code",
   "execution_count": 10,
   "id": "cc74e3d4",
   "metadata": {
    "vscode": {
     "languageId": "r"
    }
   },
   "outputs": [
    {
     "data": {
      "text/html": [
       "<style>\n",
       ".list-inline {list-style: none; margin:0; padding: 0}\n",
       ".list-inline>li {display: inline-block}\n",
       ".list-inline>li:not(:last-child)::after {content: \"\\00b7\"; padding: 0 .5ex}\n",
       "</style>\n",
       "<ol class=list-inline><li>0.000275087664736681</li><li>0.649065672735477</li><li>1.82166643771154e-05</li><li>1.2685150258698e-05</li><li>0.335622074243419</li><li>0.0150060561799783</li><li>2.07361753517139e-07</li></ol>\n"
      ],
      "text/latex": [
       "\\begin{enumerate*}\n",
       "\\item 0.000275087664736681\n",
       "\\item 0.649065672735477\n",
       "\\item 1.82166643771154e-05\n",
       "\\item 1.2685150258698e-05\n",
       "\\item 0.335622074243419\n",
       "\\item 0.0150060561799783\n",
       "\\item 2.07361753517139e-07\n",
       "\\end{enumerate*}\n"
      ],
      "text/markdown": [
       "1. 0.000275087664736681\n",
       "2. 0.649065672735477\n",
       "3. 1.82166643771154e-05\n",
       "4. 1.2685150258698e-05\n",
       "5. 0.335622074243419\n",
       "6. 0.0150060561799783\n",
       "7. 2.07361753517139e-07\n",
       "\n",
       "\n"
      ],
      "text/plain": [
       "[1] 2.750877e-04 6.490657e-01 1.821666e-05 1.268515e-05 3.356221e-01\n",
       "[6] 1.500606e-02 2.073618e-07"
      ]
     },
     "metadata": {},
     "output_type": "display_data"
    }
   ],
   "source": [
    "# Posterior probabilities\n",
    "unnorm_posteriors <- abfs * model_priors\n",
    "posteriors <- unnorm_posteriors / sum(unnorm_posteriors)\n",
    "posteriors"
   ]
  },
  {
   "cell_type": "markdown",
   "id": "25729e87",
   "metadata": {},
   "source": [
    "Finally, we calculate the Posterior Inclusion Probability (PIP) for each SNP:"
   ]
  },
  {
   "cell_type": "code",
   "execution_count": 11,
   "id": "28d7225b",
   "metadata": {
    "vscode": {
     "languageId": "r"
    }
   },
   "outputs": [],
   "source": [
    "# PIP for each SNP\n",
    "pip <- setNames(rep(0, m), names(Z))\n",
    "for (i in seq_along(configs)) {\n",
    "  cfg <- configs[[i]]\n",
    "  if (length(cfg) > 0) {\n",
    "    pip[cfg] <- pip[cfg] + posteriors[i]\n",
    "  }\n",
    "}\n"
   ]
  },
  {
   "cell_type": "code",
   "execution_count": 12,
   "id": "675eaf91",
   "metadata": {
    "vscode": {
     "languageId": "r"
    }
   },
   "outputs": [
    {
     "data": {
      "image/png": "[encoded data removed]",
      "text/plain": [
       "plot without title"
      ]
     },
     "metadata": {
      "image/png": {
       "height": 420,
       "width": 420
      }
     },
     "output_type": "display_data"
    }
   ],
   "source": [
    "pip_df <- tibble(\n",
    "  SNP = names(pip),\n",
    "  PIP = pip\n",
    ")\n",
    "\n",
    "ggplot(pip_df, aes(x = SNP, y = PIP, fill = SNP)) +\n",
    "  geom_bar(stat = \"identity\") +\n",
    "  ylim(0, 1) +\n",
    "  labs(title = \"Posterior Inclusion Probabilities (PIP)\",\n",
    "       y = \"PIP\", x = \"\") +\n",
    "  theme_minimal() +\n",
    "  scale_fill_brewer(palette = \"Set2\")\n"
   ]
  },
  {
   "cell_type": "markdown",
   "id": "927df1ca",
   "metadata": {},
   "source": [
    "## Example 2 -- multivariate regression"
   ]
  },
  {
   "cell_type": "markdown",
   "id": "086d5d66",
   "metadata": {},
   "source": [
    "This document demonstrates Bayesian model comparison for multivariate regression in the context of genetics. We'll analyze genetic variants (SNPs) that may affect multiple traits simultaneously, determining which model best explains the observed associations.\n",
    "\n",
    "The key aspects we'll explore:\n",
    "\n",
    "1. Modeling correlations between genetic variants (LD structure)\n",
    "2. Handling multiple traits simultaneously\n",
    "3. Evaluating different causal models using Bayes Factors\n",
    "4. Calculating posterior probabilities for model comparison"
   ]
  },
  {
   "cell_type": "markdown",
   "id": "156b7e7b",
   "metadata": {},
   "source": [
    "We start by defining the correlation structure between 3 SNPs:"
   ]
  },
  {
   "cell_type": "code",
   "execution_count": 13,
   "id": "5f10b2f7",
   "metadata": {
    "vscode": {
     "languageId": "r"
    }
   },
   "outputs": [],
   "source": [
    "rm(list = ls())  # Clear workspace\n",
    "library(MASS)     # For multivariate normal distribution\n",
    "library(tibble)   # For tidy data\n",
    "\n",
    "# --- 1. Define LD matrix for 3 SNPs ---\n",
    "R <- matrix(c(\n",
    "  1.0, 0.8, 0.2,\n",
    "  0.8, 1.0, 0.7,\n",
    "  0.2, 0.7, 1.0\n",
    "), nrow = 3, byrow = TRUE)\n",
    "colnames(R) <- rownames(R) <- c(\"SNP_A\", \"SNP_B\", \"SNP_C\")\n"
   ]
  },
  {
   "cell_type": "markdown",
   "id": "77a326fa",
   "metadata": {},
   "source": [
    "We'll simulate Z-scores for 2 traits across our 3 SNPs:"
   ]
  },
  {
   "cell_type": "code",
   "execution_count": 14,
   "id": "46370f14",
   "metadata": {
    "vscode": {
     "languageId": "r"
    }
   },
   "outputs": [
    {
     "name": "stdout",
     "output_type": "stream",
     "text": [
      "       SNP_A SNP_B SNP_C\n",
      "Trait1   5.0   2.5   1.5\n",
      "Trait2   0.5   0.2  -0.1\n"
     ]
    }
   ],
   "source": [
    "# --- 2. Simulate Z-scores for 2 traits ---\n",
    "Z_trait1 <- c(5.0, 2.5, 1.5)  # Signal in SNP_A, others due to LD\n",
    "Z_trait2 <- c(0.5, 0.2, -0.1) # No signal\n",
    "\n",
    "Z <- rbind(Z_trait1, Z_trait2)\n",
    "colnames(Z) <- c(\"SNP_A\", \"SNP_B\", \"SNP_C\")\n",
    "rownames(Z) <- c(\"Trait1\", \"Trait2\")\n",
    "print(Z)\n"
   ]
  },
  {
   "cell_type": "markdown",
   "id": "34f2cb77",
   "metadata": {},
   "source": [
    "We'll define 4 possible models for how SNP_A might affect the two traits:"
   ]
  },
  {
   "cell_type": "code",
   "execution_count": 15,
   "id": "9f80d296",
   "metadata": {
    "vscode": {
     "languageId": "r"
    }
   },
   "outputs": [],
   "source": [
    "# --- 3. Define models ---\n",
    "models <- list(\n",
    "  M0 = c(FALSE, FALSE),  # No effect\n",
    "  M1 = c(TRUE, FALSE),   # Effect on Trait1 only\n",
    "  M2 = c(FALSE, TRUE),   # Effect on Trait2 only\n",
    "  M3 = c(TRUE, TRUE)     # Effect on both traits\n",
    ")\n"
   ]
  },
  {
   "cell_type": "markdown",
   "id": "be2615fa",
   "metadata": {},
   "source": [
    "We need a function to calculate how well each model explains the observed Z-scores:"
   ]
  },
  {
   "cell_type": "markdown",
   "id": "13bed59a",
   "metadata": {},
   "source": [
    "Explanation:\n",
    "\n",
    "- The following function calculates the log-likelihood under a multivariate normal distribution:\n",
    "- `z_vec` contains the observed Z-scores for SNP_A across both traits\n",
    "- `mu_vec` contains the expected effect sizes under a given model\n",
    "- `Sigma` is the covariance matrix (here we use an identity matrix, assuming independence between traits)\n",
    "- Higher log-likelihood indicates better fit to the observed data"
   ]
  },
  {
   "cell_type": "code",
   "execution_count": 17,
   "id": "318736b9",
   "metadata": {
    "vscode": {
     "languageId": "r"
    }
   },
   "outputs": [],
   "source": [
    "# --- 4. Define log-likelihood function ---\n",
    "log_likelihood <- function(z_vec, mu_vec, Sigma) {\n",
    "  dist <- z_vec - mu_vec\n",
    "  ll <- -0.5 * t(dist) %*% solve(Sigma) %*% dist  # Multivariate normal log-likelihood\n",
    "  return(as.numeric(ll))\n",
    "}\n"
   ]
  },
  {
   "cell_type": "markdown",
   "id": "19e68ea1",
   "metadata": {},
   "source": [
    "We'll calculate the log marginal likelihood for each model:"
   ]
  },
  {
   "cell_type": "code",
   "execution_count": 18,
   "id": "64fdcf5f",
   "metadata": {
    "vscode": {
     "languageId": "r"
    }
   },
   "outputs": [],
   "source": [
    "# --- 5. Compute log-likelihoods for each model ---\n",
    "log_marg_liks <- sapply(models, function(effect_mask) {\n",
    "  mu <- rep(0, 2)  # Initial effect sizes (set to zero)\n",
    "  # Use a normal prior for the effect sizes, not hardcoded to 5\n",
    "  mu[effect_mask] <- rnorm(sum(effect_mask), mean = 0, sd = 1)  # Sampling effect size from normal prior\n",
    "  log_likelihood(Z[, \"SNP_A\"], mu, diag(2))  # Use diagonal covariance (independence across traits)\n",
    "})"
   ]
  },
  {
   "cell_type": "markdown",
   "id": "34751887",
   "metadata": {},
   "source": [
    "Explanation:\n",
    "\n",
    "- For each model, we calculate how well it explains the Z-scores for SNP_A across both traits\n",
    "- We use a normal prior with mean 0 and SD 1 for the effect sizes\n",
    "- We assume independence between traits (diagonal covariance matrix)\n",
    "- The log-likelihoods give us a measure of model fit, but we need to convert them to Bayes Factors for proper comparison"
   ]
  },
  {
   "cell_type": "markdown",
   "id": "35c91439",
   "metadata": {},
   "source": [
    "Now we'll calculate Bayes Factors and posterior probabilities:"
   ]
  },
  {
   "cell_type": "code",
   "execution_count": 19,
   "id": "86f1f6f1",
   "metadata": {
    "vscode": {
     "languageId": "r"
    }
   },
   "outputs": [],
   "source": [
    "# --- 6. Calculate Bayes Factors and Posterior ---\n",
    "log_BFs <- log_marg_liks - log_marg_liks[\"M0\"]  # Compare to null model\n",
    "BFs <- exp(log_BFs)\n",
    "posterior <- BFs / sum(BFs)  # Normalize to get posterior probabilities"
   ]
  },
  {
   "cell_type": "markdown",
   "id": "c5daa17a",
   "metadata": {},
   "source": [
    "Explanation:\n",
    "\n",
    "- Bayes Factors (BFs) quantify the evidence for each model compared to the null model (M0)\n",
    "- BF > 1 indicates evidence in favor of the model over the null\n",
    "- BF < 1 indicates evidence against the model compared to the null\n",
    "- Posterior probabilities give us the probability of each model being correct, given the data\n",
    "- The model with the highest posterior probability is our best model"
   ]
  },
  {
   "cell_type": "code",
   "execution_count": 20,
   "id": "f730bef1",
   "metadata": {
    "vscode": {
     "languageId": "r"
    }
   },
   "outputs": [
    {
     "name": "stdout",
     "output_type": "stream",
     "text": [
      "\u001b[90m# A tibble: 4 x 4\u001b[39m\n",
      "  Model logLik    BF PostProb\n",
      "  \u001b[3m\u001b[90m<chr>\u001b[39m\u001b[23m  \u001b[3m\u001b[90m<dbl>\u001b[39m\u001b[23m \u001b[3m\u001b[90m<dbl>\u001b[39m\u001b[23m    \u001b[3m\u001b[90m<dbl>\u001b[39m\u001b[23m\n",
      "\u001b[90m1\u001b[39m M0     -\u001b[31m12\u001b[39m\u001b[31m.\u001b[39m\u001b[31m6\u001b[39m  1       0.068\n",
      "\u001b[90m2\u001b[39m M1     -\u001b[31m10\u001b[39m\u001b[31m.\u001b[39m\u001b[31m1\u001b[39m 12.8     0.87 \n",
      "\u001b[90m3\u001b[39m M2     -\u001b[31m12\u001b[39m\u001b[31m.\u001b[39m\u001b[31m7\u001b[39m  0.91    0.062\n",
      "\u001b[90m4\u001b[39m M3     -\u001b[31m21\u001b[39m\u001b[31m.\u001b[39m\u001b[31m1\u001b[39m  0       0    \n"
     ]
    }
   ],
   "source": [
    "# --- 7. Output results ---\n",
    "results <- tibble(\n",
    "  Model = names(models),\n",
    "  logLik = round(log_marg_liks, 2),\n",
    "  BF = round(BFs, 2),\n",
    "  PostProb = round(posterior, 3)\n",
    ")\n",
    "\n",
    "print(results)\n"
   ]
  },
  {
   "cell_type": "code",
   "execution_count": 21,
   "id": "044fea0b",
   "metadata": {
    "vscode": {
     "languageId": "r"
    }
   },
   "outputs": [
    {
     "data": {
      "image/png": "[encoded data removed]",
      "text/plain": [
       "plot without title"
      ]
     },
     "metadata": {
      "image/png": {
       "height": 420,
       "width": 420
      }
     },
     "output_type": "display_data"
    }
   ],
   "source": [
    "# Visualize posterior probabilities\n",
    "ggplot(results, aes(x = reorder(Model, -PostProb), y = PostProb, fill = Model)) +\n",
    "  geom_bar(stat = \"identity\") +\n",
    "  labs(title = \"Posterior Probabilities for Each Model\",\n",
    "       x = \"Model\", y = \"Posterior Probability\") +\n",
    "  theme_minimal() +\n",
    "  ylim(0, 1)"
   ]
  },
  {
   "cell_type": "code",
   "execution_count": null,
   "id": "f7cf829d",
   "metadata": {
    "vscode": {
     "languageId": "r"
    }
   },
   "outputs": [],
   "source": []
  }
 ],
 "metadata": {
  "kernelspec": {
   "display_name": "R",
   "language": "R",
   "name": "ir"
  },
  "language_info": {
   "codemirror_mode": "r",
   "file_extension": ".r",
   "mimetype": "text/x-r-source",
   "name": "R",
   "pygments_lexer": "r",
   "version": "4.3.3"
  }
 },
 "nbformat": 4,
 "nbformat_minor": 5
}
