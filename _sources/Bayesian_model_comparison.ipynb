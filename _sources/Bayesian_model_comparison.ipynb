{
 "cells": [
  {
   "cell_type": "markdown",
   "id": "7da4982e",
   "metadata": {},
   "source": [
    "# Bayesian Model Comparison\n",
    "\n",
    "Bayesian model comparison arises when we cannot condition on which model generated our data, leaving this model choice uncertain, so we **quantify our uncertainty** about competing models by measuring how well they predict observed data while accounting for the uncertainty inherent in their parameter spaces reflected by how broadly their priors spread probability."
   ]
  },
  {
   "cell_type": "markdown",
   "id": "8d4fcf63",
   "metadata": {},
   "source": [
    "# Graphical Summary"
   ]
  },
  {
   "cell_type": "markdown",
   "id": "6988ab81",
   "metadata": {},
   "source": [
    "![Fig](./graphical_summary/slides/Slide28.png)"
   ]
  },
  {
   "cell_type": "markdown",
   "id": "355d9741",
   "metadata": {},
   "source": [
    "# Key Formula\n",
    "\n",
    "When we cannot condition on which model $M_1$ or $M_2$ generated our data, we quantify our uncertainty about model choice by calculating **posterior odds**. These represent our updated uncertainty about competing models after observing the data:\n",
    "\n",
    "$$ \\frac{P(M_1|D)}{P(M_2|D)} = \\frac{P(D|M_1)P(M_1)}{P(D|M_2)P(M_2)} $$\n",
    "\n",
    "This can be decomposed as:\n",
    "\n",
    "$$ \\text{Posterior Odds} = \\text{Bayes Factor} \\times \\text{Prior Odds} $$\n",
    "\n",
    "Where:\n",
    "- $P(M_1|D)$ and $P(M_2|D)$ are our **posterior uncertainties** about models $M_1$ and $M_2$ after conditioning on the observed data\n",
    "- $\\frac{P(D|M_1)}{P(D|M_2)}$ is the **Bayes factor**, which quantifies how the data updates our uncertainty about which model is more plausible\n",
    "- $P(M_1)$ and $P(M_2)$ are our **prior uncertainties** about each model before conditioning on any data, representing what we cannot know a priori about model choice"
   ]
  },
  {
   "cell_type": "markdown",
   "id": "70a2d2b1",
   "metadata": {},
   "source": [
    "# Technical Details\n",
    "\n",
    "## Recall Bayes Factor\n",
    "\n",
    "**Bayes factor** quantifies how the data updates our uncertainty about competing models when we cannot condition on which model generated the observations:\n",
    "\n",
    "$$\n",
    "\\text{BF}_{21} = \\frac{L(\\text{M}_2|\\text{D})}{L(\\text{M}_1|\\text{D})} ={\\frac {\\int \\Pr(\\theta_{2}|M_{2})\\Pr(D|\\theta_{2},M_{2})\\,d\\theta _{2}}{\\int \\Pr(\\theta_{1}|M_{1})\\Pr(D|\\theta_{1},M_{1})\\,d\\theta _{1}}}\n",
    "$$\n",
    "\n",
    "**Interpreting uncertainty updates**: \n",
    "- $\\text{BF}_{21} > 1$: Data reduces our uncertainty by favoring model $M_2$ over $M_1$\n",
    "- $\\text{BF}_{21} < 1$: Data reduces our uncertainty by favoring model $M_1$ over $M_2$\n",
    "- $\\text{BF}_{21} = 1$: Data provides no information to reduce our uncertainty between models\n",
    "\n",
    "## From Uncertainty Quantification to Model Selection\n",
    "\n",
    "Since we cannot condition on the true model a priori, the Bayes factor updates our prior uncertainty through:\n",
    "\n",
    "$$\n",
    "\\frac{P(M_2|D)}{P(M_1|D)} = \\text{BF}_{21} \\times \\frac{P(M_2)}{P(M_1)}\n",
    "$$\n",
    "\n",
    "This shows how conditioning on data transforms our uncertainty:\n",
    "\n",
    "$$\n",
    "\\text{Posterior Uncertainty} = \\text{Evidence Update} \\times \\text{Prior Uncertainty}\n",
    "$$\n",
    "\n",
    "## Quantifying Prior Model Uncertainty\n",
    "\n",
    "**Equal uncertainty** (no initial preference): Set $P(M_1) = P(M_2) = 0.5$\n",
    "\n",
    "$$\n",
    "\\frac{P(M_2|D)}{P(M_1|D)} = \\text{BF}_{21}\n",
    "$$\n",
    "*Our posterior uncertainty is determined entirely by the data.*\n",
    "\n",
    "**Unequal uncertainty** (one model initially preferred):\n",
    "\n",
    "$$\n",
    "\\frac{P(M_2|D)}{P(M_1|D)} = \\text{BF}_{21} \\times \\frac{P(M_2)}{P(M_1)}\n",
    "$$\n",
    "*The data updates our initial uncertainty about model choice.*\n",
    "\n",
    "## Computing the Marginal Likelihood\n",
    "\n",
    "The integral $\\int \\Pr(\\theta|M)\\Pr(D|\\theta,M)\\,d\\theta$ represents the **marginal likelihood** - the probability of observing the data under a model when we cannot condition on specific parameter values and must average over all possibilities.\n",
    "\n",
    "### Simple Case: When We Can Condition Analytically\n",
    "When the prior and likelihood are conjugate (like the normal distributions in our Bayesian normal mean and multivariate normal mean models), we can analytically integrate out the parameter uncertainty, yielding closed-form marginal likelihoods.\n",
    "\n",
    "### Complex Case: When Parameter Uncertainty Cannot Be Resolved Analytically\n",
    "\n",
    "When priors and likelihoods are not conjugate, we may not be able to analytically resolve the parameter uncertainty in $\\int \\Pr(\\theta|M)\\Pr(D|\\theta,M)\\,d\\theta$. This reflects the fundamental challenge: when we cannot condition on parameters, we must numerically integrate over all possible values, which becomes computationally prohibitive for high-dimensional parameter spaces in real GWAS datasets.\n",
    "\n",
    "Several approximation methods have been developed to handle this uncertainty:\n",
    "- **Laplace approximation** (assumes uncertainty is concentrated around the posterior mode)\n",
    "- **MCMC-based methods** (e.g., Chib's method or thermodynamic integration, which samples from the uncertainty distribution)\n",
    "- **Nested Sampling** (systematically explores the uncertainty landscape)\n",
    "\n",
    "The choice reflects a trade-off between computational feasibility and how thoroughly we can characterize the parameter uncertainty in our model comparison."
   ]
  },
  {
   "cell_type": "markdown",
   "id": "f11bea67",
   "metadata": {},
   "source": [
    "# Related Topics\n",
    "\n",
    "- [ordinary least squares](https://statfungen.github.io/statgen-prerequisites/ordinary_least_squares.html)\n",
    "- [odds ratio](https://statfungen.github.io/statgen-prerequisites/odds_ratio.html)\n",
    "- [summary statistics](https://statfungen.github.io/statgen-prerequisites/summary_statistics.html)\n",
    "- [linkage disequilibrium](https://statfungen.github.io/statgen-prerequisites/linkage_disequilibrium.html)\n",
    "- [marginal and joint effects](https://statfungen.github.io/statgen-prerequisites/marginal_joint_effects.html)\n",
    "- [Bayes factor](https://statfungen.github.io/statgen-prerequisites/Bayes_factor.html)\n",
    "- [Bayes rule](https://statfungen.github.io/statgen-prerequisites/Bayes_rule.html)\n",
    "- [Bayesian normal mean model](https://statfungen.github.io/statgen-prerequisites/Bayesian_normal_mean_model.html)\n",
    "- [Bayesian multivariate normal mean model](https://statfungen.github.io/statgen-prerequisites/Bayesian_multivariate_normal_mean_model.html)\n",
    "- [Bayesian mixture model](https://statfungen.github.io/statgen-prerequisites/Bayesian_mixture_model.html)"
   ]
  },
  {
   "cell_type": "markdown",
   "id": "d316a18f",
   "metadata": {},
   "source": [
    "# Example"
   ]
  },
  {
   "cell_type": "markdown",
   "id": "7ef1eb22",
   "metadata": {},
   "source": [
    "## Example 1 -- Fine Mapping"
   ]
  },
  {
   "cell_type": "markdown",
   "id": "df521461",
   "metadata": {},
   "source": [
    "Remember when we discussed marginal versus joint effects? We saw how correlated predictors create misleading associations, and our solution was simple: fit a joint model with all predictors. This approach treated effects as fixed parameters, assuming we could condition on everything simultaneously.\n",
    "\n",
    "But this assumption is not realistic - we cannot condition on everything. In genomics, when you have hundreds of correlated variants in linkage disequilibrium (LD), we cannot condition on all joint effects because the models become unstable due to overfitting, forcing us to acknowledge our conditioning limitations.\n",
    "\n",
    "This creates the classic **fine-mapping** problem - because we cannot condition on everything, we face fundamental uncertainty about which variant is truly causal. Variants in LD \"travel together\" through generations, leaving us uncertain about causality even though all variants show association.\n",
    "\n",
    "Since we cannot condition on everything, we must treat causal variant identity as uncertain. Bayesian model comparison provides a principled framework for quantifying our uncertainty about different causal hypotheses, systematically evaluating which single variant is most likely causal while properly accounting for this inherent uncertainty arising from our conditioning limitations."
   ]
  },
  {
   "cell_type": "markdown",
   "id": "de2e7877",
   "metadata": {},
   "source": [
    "Let's define our competing models:\n",
    "\n",
    "- **M0**: Null model - none of the variants are causal\n",
    "- **M1**: Variant 1 is the causal variant  \n",
    "- **M2**: Variant 2 is the causal variant\n",
    "- **M3**: Variant 3 is the causal variant"
   ]
  },
  {
   "cell_type": "markdown",
   "id": "a3640f2d",
   "metadata": {},
   "source": [
    "### Generation of Simulated Data"
   ]
  },
  {
   "cell_type": "code",
   "execution_count": 1,
   "id": "af659091",
   "metadata": {
    "vscode": {
     "languageId": "r"
    }
   },
   "outputs": [],
   "source": [
    "# Clear the environment and set seed for reproducibility\n",
    "rm(list = ls())\n",
    "set.seed(9) \n",
    "\n",
    "# Parameters for our simulation\n",
    "N <- 20  # Number of individuals\n",
    "M <- 3   # Number of variants\n",
    "\n",
    "# Generate correlated genotype data to simulate linkage disequilibrium\n",
    "# We'll make Variant 1 the true causal variant\n",
    "\n",
    "# Start with variant 1 (our true causal variant)\n",
    "variant1 <- sample(0:2, N, replace = TRUE, prob = c(0.4, 0.4, 0.2))\n",
    "\n",
    "# Create variants 2 and 3 in LD with variant 1\n",
    "# Higher correlation = stronger LD\n",
    "variant2 <- ifelse(runif(N) < 0.9, variant1, sample(0:2, N, replace = TRUE))\n",
    "variant3 <- ifelse(runif(N) < 0.8, variant1, sample(0:2, N, replace = TRUE))\n",
    "\n",
    "# Combine into genotype matrix\n",
    "Xraw_additive <- cbind(variant1, variant2, variant3)\n",
    "rownames(Xraw_additive) <- paste(\"Individual\", 1:N)\n",
    "colnames(Xraw_additive) <- paste(\"Variant\", 1:M)\n",
    "\n",
    "# Standardize genotypes (mean 0, variance 1)\n",
    "X <- scale(Xraw_additive, center = TRUE, scale = TRUE)\n",
    "\n",
    "# Generate phenotype where ONLY Variant 1 has a true causal effect\n",
    "true_beta1 <- 1.5  # Strong effect size for variant 1\n",
    "epsilon <- rnorm(N, mean = 0, sd = 0.5)  # Random noise\n",
    "Y_raw <- X[, 1] * true_beta1 + epsilon   # Only variant 1 affects the trait\n",
    "\n",
    "# Standardize phenotype\n",
    "Y <- scale(Y_raw)\n"
   ]
  },
  {
   "cell_type": "markdown",
   "id": "a6c4cade",
   "metadata": {},
   "source": [
    "Notice how we've created linkage disequilibrium - variants 2 and 3 are correlated with variant 1, but only variant 1 actually causes the phenotype."
   ]
  },
  {
   "cell_type": "markdown",
   "id": "a4858ee6",
   "metadata": {},
   "source": [
    "### Setting Up Our Bayesian Framework\n",
    "\n",
    "Now we need to define our statistical models. For each model, we'll assume:\n",
    "\n",
    "- **Likelihood**: Normal distribution for the phenotype\n",
    "- **Prior for effect size**: Normal distribution centered at 0\n",
    "- **Prior for error variance**: Inverse-gamma distribution"
   ]
  },
  {
   "cell_type": "code",
   "execution_count": 2,
   "id": "d42e3119",
   "metadata": {
    "vscode": {
     "languageId": "r"
    }
   },
   "outputs": [],
   "source": [
    "# Bayesian model setup\n",
    "# We'll use conjugate priors for computational convenience\n",
    "\n",
    "# Prior parameters for effect sizes (beta)\n",
    "beta_prior_mean <- 0\n",
    "beta_prior_var <- 1\n",
    "\n",
    "# Prior parameters for error variance (sigma^2)\n",
    "# Using inverse-gamma: IG(alpha, beta)\n",
    "sigma2_prior_alpha <- 2\n",
    "sigma2_prior_beta <- 1\n"
   ]
  },
  {
   "cell_type": "markdown",
   "id": "352546ec",
   "metadata": {},
   "source": [
    "### Computing Marginal Likelihoods and Bayes Factors\n",
    "\n",
    "The key to Bayesian model comparison is computing the marginal likelihood for each model. This tells us how well each model explains the data, accounting for uncertainty in the parameters."
   ]
  },
  {
   "cell_type": "code",
   "execution_count": 3,
   "id": "28afc0fe",
   "metadata": {
    "vscode": {
     "languageId": "r"
    }
   },
   "outputs": [],
   "source": [
    "# Function to compute marginal likelihood for each single-variant model\n",
    "compute_marginal_likelihood <- function(X_variant, Y) {\n",
    "  n <- length(Y)\n",
    "  \n",
    "  # Posterior parameters (using conjugate normal-inverse-gamma)\n",
    "  V_n <- 1 / (1/beta_prior_var + sum(X_variant^2))\n",
    "  mu_n <- V_n * (beta_prior_mean/beta_prior_var + sum(X_variant * Y))\n",
    "  \n",
    "  alpha_n <- sigma2_prior_alpha + n/2\n",
    "  beta_n <- sigma2_prior_beta + 0.5 * (sum(Y^2) + \n",
    "                                       beta_prior_mean^2/beta_prior_var - \n",
    "                                       mu_n^2/V_n)\n",
    "  \n",
    "  # Marginal likelihood calculation\n",
    "  log_ml <- -n/2 * log(2*pi) + \n",
    "            0.5 * log(V_n/beta_prior_var) +\n",
    "            sigma2_prior_alpha * log(sigma2_prior_beta) - \n",
    "            alpha_n * log(beta_n) +\n",
    "            lgamma(alpha_n) - lgamma(sigma2_prior_alpha)\n",
    "  \n",
    "  return(log_ml)\n",
    "}\n",
    "\n",
    "# Compute marginal likelihoods for each model\n",
    "log_ml_M0 <- compute_marginal_likelihood(rep(0, N), Y)  # Null model\n",
    "log_ml_M1 <- compute_marginal_likelihood(X[,1], Y)     # Variant 1 causal\n",
    "log_ml_M2 <- compute_marginal_likelihood(X[,2], Y)     # Variant 2 causal  \n",
    "log_ml_M3 <- compute_marginal_likelihood(X[,3], Y)     # Variant 3 causal\n",
    "\n",
    "log_marginal_likelihoods <- c(log_ml_M0, log_ml_M1, log_ml_M2, log_ml_M3)\n",
    "names(log_marginal_likelihoods) <- c(\"M0 (Null)\", \"M1 (Var1)\", \"M2 (Var2)\", \"M3 (Var3)\")"
   ]
  },
  {
   "cell_type": "markdown",
   "id": "fdfd1fc1",
   "metadata": {},
   "source": [
    "Now we can compute Bayes factors to compare models. Remember: BF > 1 means the numerator model is preferred."
   ]
  },
  {
   "cell_type": "code",
   "execution_count": 4,
   "id": "b777aa33",
   "metadata": {
    "vscode": {
     "languageId": "r"
    }
   },
   "outputs": [
    {
     "name": "stdout",
     "output_type": "stream",
     "text": [
      "[1] \"Bayes Factors (evidence in favor of first model):\"\n",
      "[1] \"M1 vs M0 (Null): 6783402.04\"\n",
      "[1] \"M2 vs M0 (Null): 4.06\"\n",
      "[1] \"M3 vs M0 (Null): 7763.49\"\n",
      "[1] \"\"\n",
      "[1] \"Comparing variant models:\"\n",
      "[1] \"M1 vs M2: 1671050.19\"\n",
      "[1] \"M1 vs M3: 873.76\"\n",
      "[1] \"M2 vs M3: 0\"\n"
     ]
    }
   ],
   "source": [
    "# Compute Bayes factors relative to the null model\n",
    "BF_M1_vs_M0 <- exp(log_ml_M1 - log_ml_M0)\n",
    "BF_M2_vs_M0 <- exp(log_ml_M2 - log_ml_M0)\n",
    "BF_M3_vs_M0 <- exp(log_ml_M3 - log_ml_M0)\n",
    "\n",
    "# Compute Bayes factors between variant models\n",
    "BF_M1_vs_M2 <- exp(log_ml_M1 - log_ml_M2)\n",
    "BF_M1_vs_M3 <- exp(log_ml_M1 - log_ml_M3)\n",
    "BF_M2_vs_M3 <- exp(log_ml_M2 - log_ml_M3)\n",
    "\n",
    "print(\"Bayes Factors (evidence in favor of first model):\")\n",
    "print(paste(\"M1 vs M0 (Null):\", round(BF_M1_vs_M0, 2)))\n",
    "print(paste(\"M2 vs M0 (Null):\", round(BF_M2_vs_M0, 2)))\n",
    "print(paste(\"M3 vs M0 (Null):\", round(BF_M3_vs_M0, 2)))\n",
    "print(\"\")\n",
    "print(\"Comparing variant models:\")\n",
    "print(paste(\"M1 vs M2:\", round(BF_M1_vs_M2, 2)))\n",
    "print(paste(\"M1 vs M3:\", round(BF_M1_vs_M3, 2)))\n",
    "print(paste(\"M2 vs M3:\", round(BF_M2_vs_M3, 2)))"
   ]
  },
  {
   "cell_type": "markdown",
   "id": "0fb42cba",
   "metadata": {},
   "source": [
    "### Computing Posterior Model Probabilities\n",
    "\n",
    "Finally, let's compute the posterior probability for each model. This tells us how confident we should be in each explanation.\n"
   ]
  },
  {
   "cell_type": "code",
   "execution_count": 5,
   "id": "8171d2e2",
   "metadata": {
    "vscode": {
     "languageId": "r"
    }
   },
   "outputs": [
    {
     "name": "stdout",
     "output_type": "stream",
     "text": [
      "[1] \"Posterior Model Probabilities:\"\n",
      "[1] \"M0 (Null) : 0\"\n",
      "[1] \"M1 (Var1) : 0.9989\"\n",
      "[1] \"M2 (Var2) : 0\"\n",
      "[1] \"M3 (Var3) : 0.0011\"\n",
      "[1] \"Most probable model: M1 (Var1)\"\n",
      "[1] \"Posterior probability: 0.9989\"\n"
     ]
    }
   ],
   "source": [
    "# Assume equal prior probabilities for all models\n",
    "prior_probs <- rep(0.25, 4)  # Equal priors for M0, M1, M2, M3\n",
    "\n",
    "# Compute posterior probabilities\n",
    "# First, convert log marginal likelihoods to regular scale (avoiding overflow)\n",
    "max_log_ml <- max(log_marginal_likelihoods)\n",
    "scaled_ml <- exp(log_marginal_likelihoods - max_log_ml)\n",
    "\n",
    "# Compute posterior probabilities\n",
    "unnormalized_posterior <- prior_probs * scaled_ml\n",
    "posterior_probs <- unnormalized_posterior / sum(unnormalized_posterior)\n",
    "\n",
    "names(posterior_probs) <- c(\"M0 (Null)\", \"M1 (Var1)\", \"M2 (Var2)\", \"M3 (Var3)\")\n",
    "\n",
    "print(\"Posterior Model Probabilities:\")\n",
    "for(i in 1:4) {\n",
    "  print(paste(names(posterior_probs)[i], \":\", round(posterior_probs[i], 4)))\n",
    "}\n",
    "\n",
    "# Find the most probable model\n",
    "best_model <- names(posterior_probs)[which.max(posterior_probs)]\n",
    "print(paste(\"Most probable model:\", best_model))\n",
    "print(paste(\"Posterior probability:\", round(max(posterior_probs), 4)))"
   ]
  },
  {
   "cell_type": "markdown",
   "id": "959e0117",
   "metadata": {},
   "source": [
    "In this example, we demonstrated how Bayesian model comparison can solve the fine-mapping problem. Even when variants are in linkage disequilibrium and all show association with the phenotype, our method was able to identify the true causal variant by:\n",
    "\n",
    "1. **Comparing multiple models** rather than just testing individual associations\n",
    "2. **Accounting for uncertainty** in our parameter estimates\n",
    "3. **Using proper statistical principles** to weigh evidence for different explanations\n",
    "\n",
    "The key insight is that the Bayes factor naturally accounts for model complexity - a model needs to provide substantially better fit to the data to overcome the \"penalty\" for additional parameters. This helps us distinguish between true causation and mere correlation due to LD.\n",
    "\n",
    "This approach forms the foundation for more sophisticated fine-mapping methods used in modern genomics research."
   ]
  },
  {
   "cell_type": "markdown",
   "id": "ef7e64d7",
   "metadata": {},
   "source": [
    "## Example 2 -- Detecting pleiotropy"
   ]
  },
  {
   "cell_type": "markdown",
   "id": "75f3d431",
   "metadata": {},
   "source": [
    "\n",
    "Recall our [Lecture: Bayesian multivariate normal mean model](https://statfungen.github.io/statgen-prerequisites/Bayesian_multivariate_normal_mean_model.html) example where we studied the scenario that one genetic variant could affect two traits (height and weight). \n",
    "\n",
    "In practice, there could be multiple options for the behavior of this variant on the two traits:\n",
    "\n",
    "- **M0 (Null)**: \"This variant does nothing\" - $\\boldsymbol{\\beta}$ = (0, 0)\n",
    "- **M1 (Height Only)**: \"This variant only affects height\" - $\\boldsymbol{\\beta}$ = ($\\beta_1$, 0)  \n",
    "- **M2 (Weight Only)**: \"This variant only affects weight\" - $\\boldsymbol{\\beta}$ = (0, $\\beta_2$)\n",
    "- **M3 (Perfect Correlation)**: \"Effects are perfectly correlated\" - $\\beta_2$ = $\\beta_1$\n",
    "- **M4 (Weak Correlation)**: \"Effects are weakly related\" - correlation = 0.1\n",
    "- **M5 (Medium Correlation)**: \"Effects are moderately related\" - correlation = 0.5\n",
    "- **M6 (Strong Correlation)**: \"Effects are strongly related\" - correlation = 0.8\n",
    "\n",
    "The true effect may come from one of the models above (or maybe some other models), but let's use the Bayesian model comparison to detect which one is the most likely, conditioning on the data that we observe. \n",
    "\n",
    "This is where Bayesian model comparison becomes powerful - it allows us to quantify our uncertainty when we cannot condition on the true biological model.\n",
    "\n",
    "**Our Approach**: We'll use Bayesian model comparison to quantify our uncertainty about these competing biological explanations, computing marginal likelihoods $P(\\text{D}|\\text{M})$ for each mixture model by integrating over all possible parameter values when we cannot condition on their true values."
   ]
  },
  {
   "cell_type": "markdown",
   "id": "3a2e0e31",
   "metadata": {},
   "source": [
    "### Generate Data from a True Model\n",
    "\n",
    "Let's simulate data where we know the truth - the variant has a medium correlation effect (M5)."
   ]
  },
  {
   "cell_type": "code",
   "execution_count": 6,
   "id": "49848a5f",
   "metadata": {
    "vscode": {
     "languageId": "r"
    }
   },
   "outputs": [],
   "source": [
    "rm(list=ls())\n",
    "library(MASS)  # for mvrnorm\n",
    "library(mvtnorm)\n",
    "set.seed(28)"
   ]
  },
  {
   "cell_type": "code",
   "execution_count": 7,
   "id": "9aabf8c7",
   "metadata": {
    "vscode": {
     "languageId": "r"
    }
   },
   "outputs": [
    {
     "name": "stdout",
     "output_type": "stream",
     "text": [
      "Generated effect sizes:\n",
      "Effect on height (beta1): 1.192 \n",
      "Effect on weight (beta2): 2.16 \n"
     ]
    }
   ],
   "source": [
    "# Data Generation for Bayesian Model Comparison\n",
    "# One variant affecting two traits (height and weight) with correlated effects\n",
    "\n",
    "# Parameters\n",
    "N <- 100  # sample size\n",
    "true_correlation <- 0.5  # correlation between effects on height and weight\n",
    "effect_variance <- 0.25  # variance for each effect\n",
    "\n",
    "# Step 1: Generate effect sizes from multivariate normal distribution\n",
    "# Covariance matrix for effects with correlation = 0.5\n",
    "Sigma_effects <- matrix(c(effect_variance, true_correlation * effect_variance,\n",
    "                         true_correlation * effect_variance, effect_variance), 2, 2)\n",
    "\n",
    "# Draw the true effects from multivariate normal\n",
    "beta_true <- mvrnorm(1, mu = c(2, 3), Sigma = Sigma_effects)\n",
    "true_beta_height <- beta_true[1]  # effect on height\n",
    "true_beta_weight <- beta_true[2]  # effect on weight\n",
    "\n",
    "cat(\"Generated effect sizes:\\n\")\n",
    "cat(\"Effect on height (beta1):\", round(true_beta_height, 3), \"\\n\")\n",
    "cat(\"Effect on weight (beta2):\", round(true_beta_weight, 3), \"\\n\")\n",
    "\n",
    "# Step 2: Generate genotype data\n",
    "# Genotype coding: 0, 1, 2 copies of effect allele\n",
    "minor_allele_freq <- 0.3\n",
    "genotypes <- rbinom(N, 2, minor_allele_freq)\n",
    "\n",
    "# Step 3: Generate phenotype data\n",
    "# Residual variance-covariance matrix (environmental effects)\n",
    "Sigma_residual <- matrix(c(1.0, 0.2,   # height variance = 1.0, covariance = 0.2\n",
    "                          0.2, 0.8), 2, 2)  # weight variance = 0.8\n",
    "\n",
    "# Generate residual errors\n",
    "residual_errors <- mvrnorm(N, mu = c(0, 0), Sigma = Sigma_residual)\n",
    "\n",
    "# Generate phenotypes: Y = genetic effect + residual error\n",
    "# Height and weight with baseline means\n",
    "baseline_height <- 170  # cm\n",
    "baseline_weight <- 70   # kg\n",
    "\n",
    "height <- baseline_height + genotypes * true_beta_height + residual_errors[, 1]\n",
    "weight <- baseline_weight + genotypes * true_beta_weight + residual_errors[, 2]\n",
    "\n",
    "# Combine phenotypes\n",
    "phenotypes <- cbind(height, weight)\n",
    "phenotypes_scaled <- scale(phenotypes, scale = FALSE)\n",
    "colnames(phenotypes_scaled) <- colnames(phenotypes) <- c(\"Height\", \"Weight\")"
   ]
  },
  {
   "cell_type": "markdown",
   "id": "baf2d50a",
   "metadata": {},
   "source": [
    "### Bayesian Model Comparison Setup\n",
    "\n",
    "We'll define all possible models as prior covariance matrices for the effect sizes."
   ]
  },
  {
   "cell_type": "code",
   "execution_count": 8,
   "id": "fce20ddd",
   "metadata": {
    "vscode": {
     "languageId": "r"
    }
   },
   "outputs": [
    {
     "name": "stdout",
     "output_type": "stream",
     "text": [
      "\n",
      "Prior weights (equal for all models): 0.143 0.143 0.143 0.143 0.143 0.143 0.143 \n"
     ]
    }
   ],
   "source": [
    "# Define covariance matrices for each model\n",
    "models <- list(\n",
    "  M0 = matrix(c(0, 0, 0, 0), 2, 2),                    # Null: beta = (0, 0)\n",
    "  M1 = matrix(c(effect_variance, 0, 0, 0), 2, 2),      # Height only\n",
    "  M2 = matrix(c(0, 0, 0, effect_variance), 2, 2),      # Weight only\n",
    "  M3 = matrix(c(effect_variance, effect_variance,       # Perfect correlation\n",
    "               effect_variance, effect_variance), 2, 2),\n",
    "  M4 = matrix(c(effect_variance, 0.1 * effect_variance, # Weak correlation (0.1)\n",
    "               0.1 * effect_variance, effect_variance), 2, 2),\n",
    "  M5 = matrix(c(effect_variance, 0.5 * effect_variance, # Medium correlation (0.5)\n",
    "               0.5 * effect_variance, effect_variance), 2, 2),\n",
    "  M6 = matrix(c(effect_variance, 0.8 * effect_variance, # Strong correlation (0.8)\n",
    "               0.8 * effect_variance, effect_variance), 2, 2)\n",
    ")\n",
    "\n",
    "# Equal prior probabilities for all models\n",
    "prior_weights <- rep(1/7, 7)\n",
    "names(prior_weights) <- names(models)\n",
    "\n",
    "cat(\"\\nPrior weights (equal for all models):\", round(prior_weights, 3), \"\\n\")"
   ]
  },
  {
   "cell_type": "markdown",
   "id": "6dda2393",
   "metadata": {},
   "source": [
    "### Marginal Likelihood Calculation\n",
    "\n",
    "When we cannot condition on the true parameter values, we must integrate over all possibilities to compute marginal likelihoods. This integration captures our uncertainty about parameters within each model.\n"
   ]
  },
  {
   "cell_type": "code",
   "execution_count": 9,
   "id": "5d0d6b2a",
   "metadata": {
    "vscode": {
     "languageId": "r"
    }
   },
   "outputs": [],
   "source": [
    "# Function to compute log-likelihood when we condition on specific beta values\n",
    "log_likelihood_variant <- function(beta, genotypes_variant, phenotypes, residual_cov) {\n",
    "  N <- nrow(phenotypes)\n",
    "  ll <- 0\n",
    "  baseline <- c(0, 0)  # Centered phenotypes (subtract population means)\n",
    "  \n",
    "  for (i in 1:N) {\n",
    "    pred <- baseline + genotypes_variant[i] * beta\n",
    "    diff <- phenotypes[i, ] - pred\n",
    "    ll <- ll - 0.5 * t(diff) %*% solve(residual_cov) %*% diff - \n",
    "          0.5 * log(det(2 * pi * residual_cov))\n",
    "  }\n",
    "  return(as.numeric(ll))\n",
    "}\n",
    "\n",
    "# Function to compute prior probability when we condition on specific beta values\n",
    "log_prior <- function(beta, component_cov_matrix) {\n",
    "  if (all(component_cov_matrix == 0)) {\n",
    "    # For null model: prior probability is 1 if beta = (0,0), 0 otherwise\n",
    "    return(ifelse(all(abs(beta) < 0.01), 0, -Inf))\n",
    "  }\n",
    "  \n",
    "  # Add small regularization for numerical stability\n",
    "  cov_matrix <- component_cov_matrix + diag(1e-6, 2)\n",
    "  lp <- -0.5 * t(beta) %*% solve(cov_matrix) %*% beta - \n",
    "        0.5 * log(det(2 * pi * cov_matrix))\n",
    "  return(as.numeric(lp))\n",
    "}\n",
    "\n",
    "# Function to compute marginal likelihood for each model\n",
    "compute_marginal_likelihood <- function(model_name, genotypes_variant, phenotypes_variant, residual_cov) {\n",
    "  component_cov <- models[[model_name]]\n",
    "  \n",
    "  if (model_name == \"M0\") {\n",
    "    # Null model: we can condition on beta = (0, 0)\n",
    "    beta <- c(0, 0)\n",
    "    ll <- log_likelihood_variant(beta, genotypes_variant, phenotypes_variant, residual_cov)\n",
    "    lp <- log_prior(beta, component_cov)\n",
    "    return(ll + lp)\n",
    "  }\n",
    "  \n",
    "  # For non-null models: cannot condition on beta, so we integrate\n",
    "  # This integration reflects our uncertainty about parameter values\n",
    "  beta_range <- seq(-1.5, 1.5, length.out = 50)  # Integration grid\n",
    "  grid <- expand.grid(beta_height = beta_range, beta_weight = beta_range)\n",
    "  \n",
    "  log_integrand_values <- numeric(nrow(grid))\n",
    "  \n",
    "  for (i in 1:nrow(grid)) {\n",
    "    beta <- c(grid$beta_height[i], grid$beta_weight[i])\n",
    "    ll <- log_likelihood_variant(beta, genotypes_variant, phenotypes_variant, residual_cov)\n",
    "    lp <- log_prior(beta, component_cov)\n",
    "    log_integrand_values[i] <- ll + lp\n",
    "  }\n",
    "  \n",
    "  # Numerical integration using log-sum-exp for stability\n",
    "  max_log <- max(log_integrand_values[is.finite(log_integrand_values)])\n",
    "  if (!is.finite(max_log)) return(-Inf)\n",
    "  \n",
    "  log_marginal <- max_log + log(sum(exp(log_integrand_values - max_log), na.rm = TRUE))\n",
    "  grid_spacing <- (beta_range[2] - beta_range[1])^2\n",
    "  return(log_marginal + log(grid_spacing))\n",
    "}"
   ]
  },
  {
   "cell_type": "markdown",
   "id": "4d437a3a",
   "metadata": {},
   "source": [
    "### Bayesian Model Comparison\n"
   ]
  },
  {
   "cell_type": "code",
   "execution_count": 10,
   "id": "66e9a48c",
   "metadata": {
    "vscode": {
     "languageId": "r"
    }
   },
   "outputs": [],
   "source": [
    "# Calculate marginal likelihood for each model\n",
    "log_marginal_likelihoods <- numeric(7)\n",
    "names(log_marginal_likelihoods) <- names(models)\n",
    "\n",
    "for (i in 1:7) {\n",
    "  model_name <- names(models)[i]\n",
    "  log_marginal_likelihoods[i] <- compute_marginal_likelihood(\n",
    "    model_name, genotypes, phenotypes_scaled, Sigma_residual\n",
    "  )\n",
    "}\n"
   ]
  },
  {
   "cell_type": "markdown",
   "id": "c792f715",
   "metadata": {},
   "source": [
    "### Posterior Probabilities and Results\n"
   ]
  },
  {
   "cell_type": "code",
   "execution_count": 11,
   "id": "ec85422a",
   "metadata": {
    "vscode": {
     "languageId": "r"
    }
   },
   "outputs": [],
   "source": [
    "# Calculate posterior probabilities using Bayes' theorem\n",
    "# Posterior is in proportion to Likelihood * Prior\n",
    "log_posterior_unnorm <- log_marginal_likelihoods + log(prior_weights)\n",
    "\n",
    "# Normalize to get proper probabilities (using log-sum-exp for numerical stability)\n",
    "max_log_post <- max(log_posterior_unnorm)\n",
    "posterior_probs <- exp(log_posterior_unnorm - max_log_post)\n",
    "posterior_probs <- posterior_probs / sum(posterior_probs)\n",
    "\n",
    "# Calculate Bayes factors (relative to M0)\n",
    "log_bayes_factors <- log_marginal_likelihoods - log_marginal_likelihoods[\"M0\"]\n",
    "bayes_factors <- exp(log_bayes_factors)\n",
    "\n",
    "# Create results summary\n",
    "results_df <- data.frame(\n",
    "  Model = names(models),\n",
    "  Log_Marginal_Likelihood = round(log_marginal_likelihoods, 3),\n",
    "  Prior_Probability = round(prior_weights, 4),\n",
    "  Posterior_Probability = round(posterior_probs, 4),\n",
    "  Bayes_Factor_vs_M0 = round(bayes_factors, 2),\n",
    "  stringsAsFactors = FALSE\n",
    ")"
   ]
  },
  {
   "cell_type": "markdown",
   "id": "5a5c6f5e",
   "metadata": {},
   "source": [
    "The Bayesian results for M0 to M6 are:"
   ]
  },
  {
   "cell_type": "code",
   "execution_count": 12,
   "id": "02d097b8",
   "metadata": {
    "vscode": {
     "languageId": "r"
    }
   },
   "outputs": [
    {
     "data": {
      "text/html": [
       "<table class=\"dataframe\">\n",
       "<caption>A data.frame: 7 x 5</caption>\n",
       "<thead>\n",
       "\t<tr><th></th><th scope=col>Model</th><th scope=col>Log_Marginal_Likelihood</th><th scope=col>Prior_Probability</th><th scope=col>Posterior_Probability</th><th scope=col>Bayes_Factor_vs_M0</th></tr>\n",
       "\t<tr><th></th><th scope=col>&lt;chr&gt;</th><th scope=col>&lt;dbl&gt;</th><th scope=col>&lt;dbl&gt;</th><th scope=col>&lt;dbl&gt;</th><th scope=col>&lt;dbl&gt;</th></tr>\n",
       "</thead>\n",
       "<tbody>\n",
       "\t<tr><th scope=row>M0</th><td>M0</td><td>-416.572</td><td>0.1429</td><td>0.0000</td><td>1.000000e+00</td></tr>\n",
       "\t<tr><th scope=row>M1</th><td>M1</td><td>-874.699</td><td>0.1429</td><td>0.0000</td><td>0.000000e+00</td></tr>\n",
       "\t<tr><th scope=row>M2</th><td>M2</td><td>-819.736</td><td>0.1429</td><td>0.0000</td><td>0.000000e+00</td></tr>\n",
       "\t<tr><th scope=row>M3</th><td>M3</td><td>-344.314</td><td>0.1429</td><td>0.0059</td><td>2.405518e+31</td></tr>\n",
       "\t<tr><th scope=row>M4</th><td>M4</td><td>-340.764</td><td>0.1429</td><td>0.2043</td><td>8.369311e+32</td></tr>\n",
       "\t<tr><th scope=row>M5</th><td>M5</td><td>-340.047</td><td>0.1429</td><td>0.4187</td><td>1.715549e+33</td></tr>\n",
       "\t<tr><th scope=row>M6</th><td>M6</td><td>-340.167</td><td>0.1429</td><td>0.3711</td><td>1.520367e+33</td></tr>\n",
       "</tbody>\n",
       "</table>\n"
      ],
      "text/latex": [
       "A data.frame: 7 x 5\n",
       "\\begin{tabular}{r|lllll}\n",
       "  & Model & Log\\_Marginal\\_Likelihood & Prior\\_Probability & Posterior\\_Probability & Bayes\\_Factor\\_vs\\_M0\\\\\n",
       "  & <chr> & <dbl> & <dbl> & <dbl> & <dbl>\\\\\n",
       "\\hline\n",
       "\tM0 & M0 & -416.572 & 0.1429 & 0.0000 & 1.000000e+00\\\\\n",
       "\tM1 & M1 & -874.699 & 0.1429 & 0.0000 & 0.000000e+00\\\\\n",
       "\tM2 & M2 & -819.736 & 0.1429 & 0.0000 & 0.000000e+00\\\\\n",
       "\tM3 & M3 & -344.314 & 0.1429 & 0.0059 & 2.405518e+31\\\\\n",
       "\tM4 & M4 & -340.764 & 0.1429 & 0.2043 & 8.369311e+32\\\\\n",
       "\tM5 & M5 & -340.047 & 0.1429 & 0.4187 & 1.715549e+33\\\\\n",
       "\tM6 & M6 & -340.167 & 0.1429 & 0.3711 & 1.520367e+33\\\\\n",
       "\\end{tabular}\n"
      ],
      "text/markdown": [
       "\n",
       "A data.frame: 7 x 5\n",
       "\n",
       "| <!--/--> | Model &lt;chr&gt; | Log_Marginal_Likelihood &lt;dbl&gt; | Prior_Probability &lt;dbl&gt; | Posterior_Probability &lt;dbl&gt; | Bayes_Factor_vs_M0 &lt;dbl&gt; |\n",
       "|---|---|---|---|---|---|\n",
       "| M0 | M0 | -416.572 | 0.1429 | 0.0000 | 1.000000e+00 |\n",
       "| M1 | M1 | -874.699 | 0.1429 | 0.0000 | 0.000000e+00 |\n",
       "| M2 | M2 | -819.736 | 0.1429 | 0.0000 | 0.000000e+00 |\n",
       "| M3 | M3 | -344.314 | 0.1429 | 0.0059 | 2.405518e+31 |\n",
       "| M4 | M4 | -340.764 | 0.1429 | 0.2043 | 8.369311e+32 |\n",
       "| M5 | M5 | -340.047 | 0.1429 | 0.4187 | 1.715549e+33 |\n",
       "| M6 | M6 | -340.167 | 0.1429 | 0.3711 | 1.520367e+33 |\n",
       "\n"
      ],
      "text/plain": [
       "   Model Log_Marginal_Likelihood Prior_Probability Posterior_Probability\n",
       "M0 M0    -416.572                0.1429            0.0000               \n",
       "M1 M1    -874.699                0.1429            0.0000               \n",
       "M2 M2    -819.736                0.1429            0.0000               \n",
       "M3 M3    -344.314                0.1429            0.0059               \n",
       "M4 M4    -340.764                0.1429            0.2043               \n",
       "M5 M5    -340.047                0.1429            0.4187               \n",
       "M6 M6    -340.167                0.1429            0.3711               \n",
       "   Bayes_Factor_vs_M0\n",
       "M0 1.000000e+00      \n",
       "M1 0.000000e+00      \n",
       "M2 0.000000e+00      \n",
       "M3 2.405518e+31      \n",
       "M4 8.369311e+32      \n",
       "M5 1.715549e+33      \n",
       "M6 1.520367e+33      "
      ]
     },
     "metadata": {},
     "output_type": "display_data"
    }
   ],
   "source": [
    "results_df"
   ]
  },
  {
   "cell_type": "code",
   "execution_count": 13,
   "id": "14d54a85",
   "metadata": {
    "vscode": {
     "languageId": "r"
    }
   },
   "outputs": [
    {
     "name": "stdout",
     "output_type": "stream",
     "text": [
      "\n",
      "Most supported model: M5 \n",
      "Posterior probability: 0.4187 \n",
      "Bayes factor vs M0: 1.715549e+33 \n",
      "\n"
     ]
    }
   ],
   "source": [
    "# Find the winning model\n",
    "winner_idx <- which.max(posterior_probs)\n",
    "winner_name <- names(models)[winner_idx]\n",
    "winner_prob <- posterior_probs[winner_idx]\n",
    "\n",
    "cat(\"\\nMost supported model:\", winner_name, \"\\n\")\n",
    "cat(\"Posterior probability:\", round(winner_prob, 4), \"\\n\")\n",
    "cat(\"Bayes factor vs M0:\", round(bayes_factors[winner_idx], 2), \"\\n\\n\")"
   ]
  },
  {
   "cell_type": "code",
   "execution_count": 14,
   "id": "39552e9c",
   "metadata": {
    "vscode": {
     "languageId": "r"
    }
   },
   "outputs": [
    {
     "data": {
      "image/png": "[encoded data removed]",
      "text/plain": [
       "Plot with title \"Posterior Model Probabilities\""
      ]
     },
     "metadata": {
      "image/png": {
       "height": 420,
       "width": 420
      }
     },
     "output_type": "display_data"
    }
   ],
   "source": [
    "# Plot: Posterior probabilities\n",
    "barplot(posterior_probs, names.arg = names(models), \n",
    "        main = \"Posterior Model Probabilities\",\n",
    "        ylab = \"Probability\", xlab = \"Model\",\n",
    "        col = ifelse(names(models) == winner_name, \"red\", \"lightblue\"),\n",
    "        las = 2, cex.names = 0.8)\n"
   ]
  },
  {
   "cell_type": "markdown",
   "id": "33c9873a",
   "metadata": {},
   "source": [
    "# Supplementary\n",
    "\n",
    "## Graphical Summary"
   ]
  },
  {
   "cell_type": "code",
   "execution_count": 68,
   "id": "61d1788b",
   "metadata": {
    "vscode": {
     "languageId": "r"
    }
   },
   "outputs": [
    {
     "data": {
      "image/png": "[encoded data removed]",
      "text/plain": [
       "plot without title"
      ]
     },
     "metadata": {
      "image/png": {
       "height": 420,
       "width": 420
      }
     },
     "output_type": "display_data"
    }
   ],
   "source": [
    "library(ggplot2)\n",
    "\n",
    "# Basic model comparison data with unequal priors\n",
    "model_data <- data.frame(\n",
    " Model = c(\"Model 1\", \"Model 2\"),\n",
    " Log_Marginal_Likelihood = c(-152.3, -148.7),\n",
    " Prior_Probability = c(0.7, 0.3)  # Higher prior for Model 1\n",
    ")\n",
    "\n",
    "# Compute Bayes factor and posterior probabilities\n",
    "bayes_factor <- exp(model_data$Log_Marginal_Likelihood[2] - model_data$Log_Marginal_Likelihood[1])\n",
    "unnormalized_posteriors <- exp(model_data$Log_Marginal_Likelihood) * model_data$Prior_Probability\n",
    "posterior_probs <- unnormalized_posteriors / sum(unnormalized_posteriors)\n",
    "\n",
    "# Create plotting data\n",
    "plot_data <- data.frame(\n",
    " Model = rep(c(\"Model 1\", \"Model 2\"), 2),\n",
    " Probability = c(model_data$Prior_Probability, posterior_probs),\n",
    " Type = rep(c(\"Prior\", \"Posterior\"), each = 2)\n",
    ")\n",
    "\n",
    "# Create barplot\n",
    "p <- ggplot(plot_data, aes(x = Model, y = Probability, fill = Type)) +\n",
    " geom_col(position = position_dodge(width = 0.8), width = 0.6, color = \"black\", linewidth = 1.2) +\n",
    " geom_text(aes(label = round(Probability, 3)), \n",
    "           position = position_dodge(width = 0.8), vjust = -0.5, size = 6, fontface = \"bold\") +\n",
    " scale_fill_manual(values = c(\"Prior\" = \"tomato\", \"Posterior\" = \"skyblue\")) +\n",
    " labs(\n",
    "   title = \"Bayesian Model Comparison\",\n",
    "   subtitle = paste(\"Bayes Factor (Model 2 vs Model 1) =\", round(bayes_factor, 2)),\n",
    "   y = \"Probability\",\n",
    "   x = \"Model\",\n",
    "   fill = \"Type\"\n",
    " ) +\n",
    " ylim(0, 1.05) +\n",
    " theme_minimal(base_size = 20) +\n",
    " theme(\n",
    "   plot.title = element_text(hjust = 0.5, face = \"bold\"),\n",
    "   plot.subtitle = element_text(hjust = 0.5, face = \"bold\"),\n",
    "   axis.title.y = element_text(face = \"bold\"),\n",
    "   axis.title.x = element_text(face = \"bold\"),\n",
    "   axis.text.x = element_text(face = \"bold\"),\n",
    "   axis.text.y = element_text(face = \"bold\"),\n",
    "   legend.title = element_text(face = \"bold\"),\n",
    "   legend.text = element_text(face = \"bold\"),\n",
    "   legend.position = \"bottom\"\n",
    " )\n",
    "\n",
    "print(p)\n",
    "\n",
    "# Save the plot\n",
    "ggsave(\"./cartoons/Bayesian_model_comparison.png\", plot = p,\n",
    "      width = 10, height = 6, \n",
    "      bg = \"transparent\",\n",
    "      dpi = 300)"
   ]
  },
  {
   "cell_type": "code",
   "execution_count": null,
   "id": "d84b5d9d",
   "metadata": {
    "vscode": {
     "languageId": "r"
    }
   },
   "outputs": [],
   "source": []
  }
 ],
 "metadata": {
  "kernelspec": {
   "display_name": "R",
   "language": "R",
   "name": "ir"
  },
  "language_info": {
   "codemirror_mode": "r",
   "file_extension": ".r",
   "mimetype": "text/x-r-source",
   "name": "R",
   "pygments_lexer": "r",
   "version": "4.3.3"
  }
 },
 "nbformat": 4,
 "nbformat_minor": 5
}
