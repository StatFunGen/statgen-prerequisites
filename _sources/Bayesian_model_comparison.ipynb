{
 "cells": [
  {
   "cell_type": "markdown",
   "id": "7da4982e",
   "metadata": {},
   "source": [
    "# Bayesian Model Comparison\n",
    "\n",
    "Bayesian model comparison arises when we cannot condition on which model generated our data, leaving this model choice uncertain, so we quantify our uncertainty about competing models by measuring how well they predict observed data while accounting for the uncertainty inherent in their parameter spaces reflected by how broadly their priors spread probability."
   ]
  },
  {
   "cell_type": "markdown",
   "id": "8d4fcf63",
   "metadata": {},
   "source": [
    "# Graphical Summary"
   ]
  },
  {
   "cell_type": "markdown",
   "id": "6988ab81",
   "metadata": {},
   "source": [
    "![Fig](./graphical_summary/slides/Slide28.png)"
   ]
  },
  {
   "cell_type": "markdown",
   "id": "355d9741",
   "metadata": {},
   "source": [
    "# Key Formula\n",
    "\n",
    "When we cannot condition on which model $M_1$ or $M_2$ generated our data, we quantify our uncertainty about model choice by calculating **posterior odds**. These represent our updated uncertainty about competing models after observing the data:\n",
    "\n",
    "$$ \\frac{P(M_1|D)}{P(M_2|D)} = \\frac{P(D|M_1)P(M_1)}{P(D|M_2)P(M_2)} $$\n",
    "\n",
    "This can be decomposed as:\n",
    "\n",
    "$$ \\text{Posterior Odds} = \\text{Bayes Factor} \\times \\text{Prior Odds} $$\n",
    "\n",
    "Where:\n",
    "- $P(M_1|D)$ and $P(M_2|D)$ are our **posterior uncertainties** about models $M_1$ and $M_2$ after conditioning on the observed data\n",
    "- $\\frac{P(D|M_1)}{P(D|M_2)}$ is the **Bayes factor**, which quantifies how the data updates our uncertainty about which model is more plausible\n",
    "- $P(M_1)$ and $P(M_2)$ are our **prior uncertainties** about each model before conditioning on any data, representing what we cannot know a priori about model choice"
   ]
  },
  {
   "cell_type": "markdown",
   "id": "70a2d2b1",
   "metadata": {},
   "source": [
    "# Technical Details\n",
    "\n",
    "## Understanding the Bayes Factor\n",
    "\n",
    "The **Bayes Factor** quantifies how the data updates our uncertainty about competing models when we cannot condition on which model generated the observations:\n",
    "\n",
    "$$\n",
    "\\text{BF}_{21} = \\frac{L(\\text{M}_2|\\text{D})}{L(\\text{M}_1|\\text{D})} ={\\frac {\\int \\Pr(\\theta_{2}|M_{2})\\Pr(D|\\theta_{2},M_{2})\\,d\\theta _{2}}{\\int \\Pr(\\theta_{1}|M_{1})\\Pr(D|\\theta_{1},M_{1})\\,d\\theta _{1}}}\n",
    "$$\n",
    "\n",
    "**Interpreting uncertainty updates**: \n",
    "- $\\text{BF}_{21} > 1$: Data reduces our uncertainty by favoring model $M_2$ over $M_1$\n",
    "- $\\text{BF}_{21} < 1$: Data reduces our uncertainty by favoring model $M_1$ over $M_2$\n",
    "- $\\text{BF}_{21} = 1$: Data provides no information to reduce our uncertainty between models\n",
    "\n",
    "## From Uncertainty Quantification to Model Selection\n",
    "\n",
    "Since we cannot condition on the true model a priori, the Bayes factor updates our prior uncertainty through:\n",
    "\n",
    "$$\n",
    "\\frac{P(M_2|D)}{P(M_1|D)} = \\text{BF}_{21} \\times \\frac{P(M_2)}{P(M_1)}\n",
    "$$\n",
    "\n",
    "This shows how conditioning on data transforms our uncertainty:\n",
    "$$\n",
    "\\text{Posterior Uncertainty} = \\text{Evidence Update} \\times \\text{Prior Uncertainty}\n",
    "$$\n",
    "\n",
    "## Quantifying Prior Model Uncertainty\n",
    "\n",
    "**Equal uncertainty** (no initial preference): Set $P(M_1) = P(M_2) = 0.5$\n",
    "$$\n",
    "\\frac{P(M_2|D)}{P(M_1|D)} = \\text{BF}_{21}\n",
    "$$\n",
    "*Our posterior uncertainty is determined entirely by the data.*\n",
    "\n",
    "**Unequal uncertainty** (one model initially preferred):\n",
    "$$\n",
    "\\frac{P(M_2|D)}{P(M_1|D)} = \\text{BF}_{21} \\times \\frac{P(M_2)}{P(M_1)}\n",
    "$$\n",
    "*The data updates our initial uncertainty about model choice.*\n",
    "\n",
    "## Computing the Marginal Likelihood\n",
    "\n",
    "The integral $\\int \\Pr(\\theta|M)\\Pr(D|\\theta,M)\\,d\\theta$ represents the **marginal likelihood** - the probability of observing the data under a model when we cannot condition on specific parameter values and must average over all possibilities.\n",
    "\n",
    "### Simple Case: When We Can Condition Analytically\n",
    "When the prior and likelihood are conjugate (like the normal distributions in our Bayesian normal mean and multivariate normal mean models), we can analytically integrate out the parameter uncertainty, yielding closed-form marginal likelihoods.\n",
    "\n",
    "### Complex Case: When Parameter Uncertainty Cannot Be Resolved Analytically\n",
    "\n",
    "When priors and likelihoods are not conjugate (as in our pleiotropy example), we cannot analytically resolve the parameter uncertainty in $\\int \\Pr(\\theta|M)\\Pr(D|\\theta,M)\\,d\\theta$. This reflects the fundamental challenge: when we cannot condition on parameters, we must numerically integrate over all possible values, which becomes computationally prohibitive for high-dimensional parameter spaces in real GWAS datasets.\n",
    "\n",
    "Several approximation methods have been developed to handle this uncertainty:\n",
    "- **Laplace approximation** (assumes uncertainty is concentrated around the posterior mode)\n",
    "- **MCMC-based methods** like Chib's method or thermodynamic integration (sample from the uncertainty distribution)\n",
    "- **Nested Sampling** (systematically explores the uncertainty landscape)\n",
    "\n",
    "The choice reflects a trade-off between computational feasibility and how thoroughly we can characterize the parameter uncertainty in our model comparison."
   ]
  },
  {
   "cell_type": "markdown",
   "id": "f11bea67",
   "metadata": {},
   "source": [
    "# Related Topics\n",
    "\n",
    "- [OLS](https://gaow.github.io/statgen-prerequisites/ordinary_least_squares.html)\n",
    "- [summary statistics](https://gaow.github.io/statgen-prerequisites/summary_statistics.html)\n",
    "- [linkage disequilibrium](https://gaow.github.io/statgen-prerequisites/linkage_disequilibrium.html)\n",
    "- [marginal and joint effects](https://gaow.github.io/statgen-prerequisites/marginal_joint_effects.html)\n",
    "- [Bayes factor](https://gaow.github.io/statgen-prerequisites/Bayes_factor.html)\n",
    "- [Bayes rule](https://gaow.github.io/statgen-prerequisites/Bayes_rule.html)\n",
    "- [Bayesian normal mean model](https://gaow.github.io/statgen-prerequisites/Bayesian_normal_mean_model.html)\n",
    "- [Bayesian multivariate normal mean model](https://gaow.github.io/statgen-prerequisites/Bayesian_multivariate_normal_mean_model.html)\n",
    "- [Bayesian mixture model](https://gaow.github.io/statgen-prerequisites/Bayesian_mixture_model.html)"
   ]
  },
  {
   "cell_type": "markdown",
   "id": "d316a18f",
   "metadata": {},
   "source": [
    "# Example"
   ]
  },
  {
   "cell_type": "markdown",
   "id": "7ef1eb22",
   "metadata": {},
   "source": [
    "## Example 1 -- Fine Mapping"
   ]
  },
  {
   "cell_type": "markdown",
   "id": "df521461",
   "metadata": {},
   "source": [
    "Remember when we discussed marginal versus joint effects? We saw how correlated predictors create misleading associations, and our solution was simple: fit a joint model with all predictors. This approach treated effects as fixed parameters, assuming we could condition on everything simultaneously.\n",
    "\n",
    "But this assumption is not realistic - we cannot condition on everything. In genomics, when you have hundreds of correlated variants in linkage disequilibrium (LD), we cannot condition on all joint effects because the models become unstable due to overfitting, forcing us to acknowledge our conditioning limitations.\n",
    "\n",
    "This creates the classic **fine-mapping** problem - because we cannot condition on everything, we face fundamental uncertainty about which variant is truly causal. Variants in LD \"travel together\" through generations, leaving us uncertain about causality even though all variants show association.\n",
    "\n",
    "Since we cannot condition on everything, we must treat causal variant identity as uncertain. Bayesian model comparison provides a principled framework for quantifying our uncertainty about different causal hypotheses, systematically evaluating which single variant is most likely causal while properly accounting for this inherent uncertainty arising from our conditioning limitations."
   ]
  },
  {
   "cell_type": "markdown",
   "id": "de2e7877",
   "metadata": {},
   "source": [
    "Let's define our competing models:\n",
    "\n",
    "- **M0**: Null model - none of the variants are causal\n",
    "- **M1**: Variant 1 is the causal variant  \n",
    "- **M2**: Variant 2 is the causal variant\n",
    "- **M3**: Variant 3 is the causal variant"
   ]
  },
  {
   "cell_type": "markdown",
   "id": "a3640f2d",
   "metadata": {},
   "source": [
    "### Generation of Simulated Data"
   ]
  },
  {
   "cell_type": "code",
   "execution_count": 1,
   "id": "af659091",
   "metadata": {
    "vscode": {
     "languageId": "r"
    }
   },
   "outputs": [],
   "source": [
    "# Clear the environment and set seed for reproducibility\n",
    "rm(list = ls())\n",
    "set.seed(9) \n",
    "\n",
    "# Parameters for our simulation\n",
    "N <- 20  # Number of individuals\n",
    "M <- 3   # Number of variants\n",
    "\n",
    "# Generate correlated genotype data to simulate linkage disequilibrium\n",
    "# We'll make Variant 1 the true causal variant\n",
    "\n",
    "# Start with variant 1 (our true causal variant)\n",
    "variant1 <- sample(0:2, N, replace = TRUE, prob = c(0.4, 0.4, 0.2))\n",
    "\n",
    "# Create variants 2 and 3 in LD with variant 1\n",
    "# Higher correlation = stronger LD\n",
    "variant2 <- ifelse(runif(N) < 0.9, variant1, sample(0:2, N, replace = TRUE))\n",
    "variant3 <- ifelse(runif(N) < 0.8, variant1, sample(0:2, N, replace = TRUE))\n",
    "\n",
    "# Combine into genotype matrix\n",
    "Xraw_additive <- cbind(variant1, variant2, variant3)\n",
    "rownames(Xraw_additive) <- paste(\"Individual\", 1:N)\n",
    "colnames(Xraw_additive) <- paste(\"Variant\", 1:M)\n",
    "\n",
    "# Standardize genotypes (mean 0, variance 1)\n",
    "X <- scale(Xraw_additive, center = TRUE, scale = TRUE)\n",
    "\n",
    "# Generate phenotype where ONLY Variant 1 has a true causal effect\n",
    "true_beta1 <- 1.5  # Strong effect size for variant 1\n",
    "epsilon <- rnorm(N, mean = 0, sd = 0.5)  # Random noise\n",
    "Y_raw <- X[, 1] * true_beta1 + epsilon   # Only variant 1 affects the trait\n",
    "\n",
    "# Standardize phenotype\n",
    "Y <- scale(Y_raw)\n"
   ]
  },
  {
   "cell_type": "markdown",
   "id": "a6c4cade",
   "metadata": {},
   "source": [
    "Notice how we've created linkage disequilibrium - variants 2 and 3 are correlated with variant 1, but only variant 1 actually causes the phenotype."
   ]
  },
  {
   "cell_type": "markdown",
   "id": "a4858ee6",
   "metadata": {},
   "source": [
    "### Setting Up Our Bayesian Framework\n",
    "\n",
    "Now we need to define our statistical models. For each model, we'll assume:\n",
    "\n",
    "- **Likelihood**: Normal distribution for the phenotype\n",
    "- **Prior for effect size**: Normal distribution centered at 0\n",
    "- **Prior for error variance**: Inverse-gamma distribution"
   ]
  },
  {
   "cell_type": "code",
   "execution_count": 2,
   "id": "d42e3119",
   "metadata": {
    "vscode": {
     "languageId": "r"
    }
   },
   "outputs": [],
   "source": [
    "# Bayesian model setup\n",
    "# We'll use conjugate priors for computational convenience\n",
    "\n",
    "# Prior parameters for effect sizes (beta)\n",
    "beta_prior_mean <- 0\n",
    "beta_prior_var <- 1\n",
    "\n",
    "# Prior parameters for error variance (sigma^2)\n",
    "# Using inverse-gamma: IG(alpha, beta)\n",
    "sigma2_prior_alpha <- 2\n",
    "sigma2_prior_beta <- 1\n"
   ]
  },
  {
   "cell_type": "markdown",
   "id": "352546ec",
   "metadata": {},
   "source": [
    "### Computing Marginal Likelihoods and Bayes Factors\n",
    "\n",
    "The key to Bayesian model comparison is computing the marginal likelihood for each model. This tells us how well each model explains the data, accounting for uncertainty in the parameters."
   ]
  },
  {
   "cell_type": "code",
   "execution_count": 3,
   "id": "28afc0fe",
   "metadata": {
    "vscode": {
     "languageId": "r"
    }
   },
   "outputs": [],
   "source": [
    "# Function to compute marginal likelihood for each single-variant model\n",
    "compute_marginal_likelihood <- function(X_variant, Y) {\n",
    "  n <- length(Y)\n",
    "  \n",
    "  # Posterior parameters (using conjugate normal-inverse-gamma)\n",
    "  V_n <- 1 / (1/beta_prior_var + sum(X_variant^2))\n",
    "  mu_n <- V_n * (beta_prior_mean/beta_prior_var + sum(X_variant * Y))\n",
    "  \n",
    "  alpha_n <- sigma2_prior_alpha + n/2\n",
    "  beta_n <- sigma2_prior_beta + 0.5 * (sum(Y^2) + \n",
    "                                       beta_prior_mean^2/beta_prior_var - \n",
    "                                       mu_n^2/V_n)\n",
    "  \n",
    "  # Marginal likelihood calculation\n",
    "  log_ml <- -n/2 * log(2*pi) + \n",
    "            0.5 * log(V_n/beta_prior_var) +\n",
    "            sigma2_prior_alpha * log(sigma2_prior_beta) - \n",
    "            alpha_n * log(beta_n) +\n",
    "            lgamma(alpha_n) - lgamma(sigma2_prior_alpha)\n",
    "  \n",
    "  return(log_ml)\n",
    "}\n",
    "\n",
    "# Compute marginal likelihoods for each model\n",
    "log_ml_M0 <- compute_marginal_likelihood(rep(0, N), Y)  # Null model\n",
    "log_ml_M1 <- compute_marginal_likelihood(X[,1], Y)     # Variant 1 causal\n",
    "log_ml_M2 <- compute_marginal_likelihood(X[,2], Y)     # Variant 2 causal  \n",
    "log_ml_M3 <- compute_marginal_likelihood(X[,3], Y)     # Variant 3 causal\n",
    "\n",
    "log_marginal_likelihoods <- c(log_ml_M0, log_ml_M1, log_ml_M2, log_ml_M3)\n",
    "names(log_marginal_likelihoods) <- c(\"M0 (Null)\", \"M1 (Var1)\", \"M2 (Var2)\", \"M3 (Var3)\")"
   ]
  },
  {
   "cell_type": "markdown",
   "id": "fdfd1fc1",
   "metadata": {},
   "source": [
    "Now we can compute Bayes factors to compare models. Remember: BF > 1 means the numerator model is preferred."
   ]
  },
  {
   "cell_type": "code",
   "execution_count": 4,
   "id": "b777aa33",
   "metadata": {
    "vscode": {
     "languageId": "r"
    }
   },
   "outputs": [
    {
     "name": "stdout",
     "output_type": "stream",
     "text": [
      "[1] \"Bayes Factors (evidence in favor of first model):\"\n",
      "[1] \"M1 vs M0 (Null): 6783402.04\"\n",
      "[1] \"M2 vs M0 (Null): 4.06\"\n",
      "[1] \"M3 vs M0 (Null): 7763.49\"\n",
      "[1] \"\"\n",
      "[1] \"Comparing variant models:\"\n",
      "[1] \"M1 vs M2: 1671050.19\"\n",
      "[1] \"M1 vs M3: 873.76\"\n",
      "[1] \"M2 vs M3: 0\"\n"
     ]
    }
   ],
   "source": [
    "# Compute Bayes factors relative to the null model\n",
    "BF_M1_vs_M0 <- exp(log_ml_M1 - log_ml_M0)\n",
    "BF_M2_vs_M0 <- exp(log_ml_M2 - log_ml_M0)\n",
    "BF_M3_vs_M0 <- exp(log_ml_M3 - log_ml_M0)\n",
    "\n",
    "# Compute Bayes factors between variant models\n",
    "BF_M1_vs_M2 <- exp(log_ml_M1 - log_ml_M2)\n",
    "BF_M1_vs_M3 <- exp(log_ml_M1 - log_ml_M3)\n",
    "BF_M2_vs_M3 <- exp(log_ml_M2 - log_ml_M3)\n",
    "\n",
    "print(\"Bayes Factors (evidence in favor of first model):\")\n",
    "print(paste(\"M1 vs M0 (Null):\", round(BF_M1_vs_M0, 2)))\n",
    "print(paste(\"M2 vs M0 (Null):\", round(BF_M2_vs_M0, 2)))\n",
    "print(paste(\"M3 vs M0 (Null):\", round(BF_M3_vs_M0, 2)))\n",
    "print(\"\")\n",
    "print(\"Comparing variant models:\")\n",
    "print(paste(\"M1 vs M2:\", round(BF_M1_vs_M2, 2)))\n",
    "print(paste(\"M1 vs M3:\", round(BF_M1_vs_M3, 2)))\n",
    "print(paste(\"M2 vs M3:\", round(BF_M2_vs_M3, 2)))"
   ]
  },
  {
   "cell_type": "markdown",
   "id": "0fb42cba",
   "metadata": {},
   "source": [
    "### Computing Posterior Model Probabilities\n",
    "\n",
    "Finally, let's compute the posterior probability for each model. This tells us how confident we should be in each explanation.\n"
   ]
  },
  {
   "cell_type": "code",
   "execution_count": 5,
   "id": "8171d2e2",
   "metadata": {
    "vscode": {
     "languageId": "r"
    }
   },
   "outputs": [
    {
     "name": "stdout",
     "output_type": "stream",
     "text": [
      "[1] \"Posterior Model Probabilities:\"\n",
      "[1] \"M0 (Null) : 0\"\n",
      "[1] \"M1 (Var1) : 0.9989\"\n",
      "[1] \"M2 (Var2) : 0\"\n",
      "[1] \"M3 (Var3) : 0.0011\"\n",
      "[1] \"Most probable model: M1 (Var1)\"\n",
      "[1] \"Posterior probability: 0.9989\"\n"
     ]
    }
   ],
   "source": [
    "# Assume equal prior probabilities for all models\n",
    "prior_probs <- rep(0.25, 4)  # Equal priors for M0, M1, M2, M3\n",
    "\n",
    "# Compute posterior probabilities\n",
    "# First, convert log marginal likelihoods to regular scale (avoiding overflow)\n",
    "max_log_ml <- max(log_marginal_likelihoods)\n",
    "scaled_ml <- exp(log_marginal_likelihoods - max_log_ml)\n",
    "\n",
    "# Compute posterior probabilities\n",
    "unnormalized_posterior <- prior_probs * scaled_ml\n",
    "posterior_probs <- unnormalized_posterior / sum(unnormalized_posterior)\n",
    "\n",
    "names(posterior_probs) <- c(\"M0 (Null)\", \"M1 (Var1)\", \"M2 (Var2)\", \"M3 (Var3)\")\n",
    "\n",
    "print(\"Posterior Model Probabilities:\")\n",
    "for(i in 1:4) {\n",
    "  print(paste(names(posterior_probs)[i], \":\", round(posterior_probs[i], 4)))\n",
    "}\n",
    "\n",
    "# Find the most probable model\n",
    "best_model <- names(posterior_probs)[which.max(posterior_probs)]\n",
    "print(paste(\"Most probable model:\", best_model))\n",
    "print(paste(\"Posterior probability:\", round(max(posterior_probs), 4)))"
   ]
  },
  {
   "cell_type": "markdown",
   "id": "959e0117",
   "metadata": {},
   "source": [
    "In this example, we demonstrated how Bayesian model comparison can solve the fine-mapping problem. Even when variants are in linkage disequilibrium and all show association with the phenotype, our method was able to identify the true causal variant by:\n",
    "\n",
    "1. **Comparing multiple models** rather than just testing individual associations\n",
    "2. **Accounting for uncertainty** in our parameter estimates\n",
    "3. **Using proper statistical principles** to weigh evidence for different explanations\n",
    "\n",
    "The key insight is that the Bayes factor naturally accounts for model complexity - a model needs to provide substantially better fit to the data to overcome the \"penalty\" for additional parameters. This helps us distinguish between true causation and mere correlation due to LD.\n",
    "\n",
    "This approach forms the foundation for more sophisticated fine-mapping methods used in modern genomics research."
   ]
  },
  {
   "cell_type": "markdown",
   "id": "ef7e64d7",
   "metadata": {},
   "source": [
    "## Example 2 -- Detecting pleiotropy"
   ]
  },
  {
   "cell_type": "markdown",
   "id": "75f3d431",
   "metadata": {},
   "source": [
    "Remember our [Lecture: Bayesian mixture model](https://gaow.github.io/statgen-prerequisites/Bayesian_mixture_model.html) example where we studied hundreds of genetic variants affecting height and weight? We discovered that real populations are mixtures - most variants do nothing, some affect single traits, and a few show **pleiotropy** (affecting multiple traits simultaneously).\n",
    "\n",
    "But here's a more fundamental question: **Since we cannot condition on the true biological mechanisms, how do we quantify our uncertainty about whether pleiotropy actually exists in our data?**\n",
    "\n",
    "When you look at a scatter plot of genetic effects, you might see some correlation between height and weight effects. But since we cannot condition on the true causal pathways, we face uncertainty: is this evidence of true biological pleiotropy, or could it just be statistical noise? Maybe all variants really only affect single traits, and we're seeing spurious correlations due to measurement error or population structure.\n",
    "\n",
    "This is where Bayesian model comparison becomes powerful - it allows us to quantify our uncertainty when we cannot condition on the true biological model.\n",
    "\n",
    "Recall the different models:\n",
    "\n",
    "- **M0 (Null)**: \"This variant does nothing\" - $\\boldsymbol{\\beta}$ = (0, 0)\n",
    "- **M1 (Height Only)**: \"This variant only affects height\" - $\\boldsymbol{\\beta}$ = ($\\beta_1$, 0)  \n",
    "- **M2 (Weight Only)**: \"This variant only affects weight\" - $\\boldsymbol{\\beta}$ = (0, $\\beta_2$)\n",
    "- **M3 (Perfect Correlation)**: \"Effects are perfectly correlated\" - $\\beta_2$ = $\\beta_1$\n",
    "- **M4 (Weak Correlation)**: \"Effects are weakly related\" - correlation = 0.1\n",
    "- **M5 (Medium Correlation)**: \"Effects are moderately related\" - correlation = 0.5\n",
    "- **M6 (Strong Correlation)**: \"Effects are strongly related\" - correlation = 0.8\n",
    "\n",
    "Since we cannot condition on which biological model is correct, we treat model choice as uncertain and compare two competing explanations:\n",
    "\n",
    "- **Non-pleiotropy model**: A mixture of variants that do nothing (M0), affect only height (M1), or affect only weight (M2)\n",
    "- **Pleiotropy model**: A mixture that includes variants affecting both traits with various correlations (M3-M6)\n",
    "\n",
    "**Our Question**: Since we cannot condition on the true biological mechanisms, which explanation should we believe more strongly given the observed phenotypes and genotypes - a world without pleiotropy, or one where some variants truly affect multiple traits?\n",
    "\n",
    "**Our Approach**: We'll use Bayesian model comparison to quantify our uncertainty about these competing biological explanations, computing marginal likelihoods $P(\\text{D}|\\text{M})$ for each mixture model by integrating over all possible parameter values when we cannot condition on their true values."
   ]
  },
  {
   "cell_type": "markdown",
   "id": "32d6ef0c",
   "metadata": {},
   "source": [
    "Note that here for **computational efficiency** we decrease the number of individuals and number of variants, and increase the weights for non-null models."
   ]
  },
  {
   "cell_type": "markdown",
   "id": "3a2e0e31",
   "metadata": {},
   "source": [
    "### Generation of Simulated Data\n",
    "\n",
    "We'll recreate the same mixture model simulation to generate realistic genetic data."
   ]
  },
  {
   "cell_type": "code",
   "execution_count": 63,
   "id": "49848a5f",
   "metadata": {
    "vscode": {
     "languageId": "r"
    }
   },
   "outputs": [],
   "source": [
    "rm(list=ls())\n",
    "library(MASS)  # for mvrnorm\n",
    "set.seed(28)\n",
    "\n",
    "N <- 20          # Number of individuals\n",
    "M <- 5           # Number of genetic variants\n",
    "ES_sd <- 0.5          # Standard deviation of effect sizes"
   ]
  },
  {
   "cell_type": "code",
   "execution_count": 64,
   "id": "7f4fe275",
   "metadata": {
    "vscode": {
     "languageId": "r"
    }
   },
   "outputs": [],
   "source": [
    "# Define mixture weights - this is the biological reality!\n",
    "# Most variants are null, few show pleiotropy\n",
    "weights <- c(0.42, 0.20, 0.20, 0.13, 0.01, 0.01, 0.03)  # proportion of M0 to M6\n",
    "names(weights) <- c(\"M0\", \"M1\", \"M2\", \"M3\", \"M4\", \"M5\", \"M6\")\n",
    "\n",
    "component_assignments <- sample(names(weights), size = M, replace = TRUE, prob = weights)\n",
    "\n",
    "# Count how many variants in each component\n",
    "component_counts <- table(component_assignments)\n",
    "\n",
    "# Now generate effect sizes for each variant based on its assigned component\n",
    "height_effects <- rep(0, M)\n",
    "weight_effects <- rep(0, M)\n",
    "\n",
    "for(i in 1:M) {\n",
    "  comp <- component_assignments[i]\n",
    "  \n",
    "  if(comp == \"M0\") {\n",
    "    height_effects[i] <- 0\n",
    "    weight_effects[i] <- 0\n",
    "    \n",
    "  } else if(comp == \"M1\") {\n",
    "    height_effects[i] <- rnorm(1, mean = 0, sd = ES_sd)\n",
    "    weight_effects[i] <- 0\n",
    "    \n",
    "  } else if(comp == \"M2\") {\n",
    "    height_effects[i] <- 0\n",
    "    weight_effects[i] <- rnorm(1, mean = 0, sd = ES_sd)\n",
    "    \n",
    "  } else if(comp == \"M3\") {\n",
    "    h_effect <- rnorm(1, mean = 0, sd = ES_sd)\n",
    "    height_effects[i] <- h_effect\n",
    "    weight_effects[i] <- h_effect  # Perfect correlation\n",
    "    \n",
    "  } else if(comp == \"M4\") {\n",
    "    h_effect <- rnorm(1, mean = 0, sd = ES_sd)\n",
    "    height_effects[i] <- h_effect\n",
    "    weight_effects[i] <- 0.1 * h_effect + sqrt(1 - 0.1^2) * rnorm(1, mean = 0, sd = ES_sd)\n",
    "    \n",
    "  } else if(comp == \"M5\") {\n",
    "    h_effect <- rnorm(1, mean = 0, sd = ES_sd)\n",
    "    height_effects[i] <- h_effect\n",
    "    weight_effects[i] <- 0.5 * h_effect + sqrt(1 - 0.5^2) * rnorm(1, mean = 0, sd = ES_sd)\n",
    "    \n",
    "  } else if(comp == \"M6\") {\n",
    "    h_effect <- rnorm(1, mean = 0, sd = ES_sd)\n",
    "    height_effects[i] <- h_effect\n",
    "    weight_effects[i] <- 0.8 * h_effect + sqrt(1 - 0.8^2) * rnorm(1, mean = 0, sd = ES_sd)\n",
    "  }\n",
    "}\n",
    "\n",
    "# Calculate summary statistics\n",
    "pleiotropy_variants <- sum(component_assignments %in% c(\"M3\", \"M4\", \"M5\", \"M6\"))\n",
    "null_variants <- sum(component_assignments == \"M0\") \n",
    "observed_correlation <- cor(height_effects, weight_effects)"
   ]
  },
  {
   "cell_type": "code",
   "execution_count": 65,
   "id": "b729235a",
   "metadata": {
    "vscode": {
     "languageId": "r"
    }
   },
   "outputs": [],
   "source": [
    "# Now let's simulate the complete genetic data\n",
    "# Y = X * beta + error\n",
    "\n",
    "# Generate genotype matrix X\n",
    "# Each entry is 0, 1, or 2 (number of effect alleles)\n",
    "# Assume minor allele frequency (MAF) = 0.3 for all variants\n",
    "maf <- 0.3\n",
    "X <- matrix(rbinom(N * M, size = 2, prob = maf), nrow = N, ncol = M)\n",
    "\n",
    "# Our effect sizes from the mixture model\n",
    "beta_height <- height_effects\n",
    "beta_weight <- weight_effects\n",
    "\n",
    "# Calculate genetic values: X %*% beta\n",
    "genetic_height <- X %*% beta_height\n",
    "genetic_weight <- X %*% beta_weight\n",
    "\n",
    "\n",
    "h2 <- 0.9  # 90% heritability\n",
    "genetic_var_height <- var(genetic_height)\n",
    "genetic_var_weight <- var(genetic_weight)\n",
    "\n",
    "error_var_height <- genetic_var_height * (1 - h2) / h2\n",
    "error_height <- rnorm(N, mean = 0, sd = sqrt(error_var_height))\n",
    "\n",
    "error_var_height <- genetic_var_height * (1 - h2) / h2\n",
    "error_var_weight <- genetic_var_weight * (1 - h2) / h2\n",
    "\n",
    "# Generate environmental errors\n",
    "error_height <- rnorm(N, mean = 0, sd = sqrt(error_var_height))\n",
    "error_weight <- rnorm(N, mean = 0, sd = sqrt(error_var_weight))\n",
    "\n",
    "# Final phenotypes: Y = X*beta + epsilon\n",
    "phenotype_height <- genetic_height + error_height\n",
    "phenotype_weight <- genetic_weight + error_weight"
   ]
  },
  {
   "cell_type": "code",
   "execution_count": 66,
   "id": "d23ef99a",
   "metadata": {
    "vscode": {
     "languageId": "r"
    }
   },
   "outputs": [],
   "source": [
    "# Combine phenotypes into matrix Y for model comparison\n",
    "Y <- cbind(phenotype_height, phenotype_weight)"
   ]
  },
  {
   "cell_type": "markdown",
   "id": "d0dbbcd5",
   "metadata": {},
   "source": [
    "### Model Definition and Likelihood Functions\n",
    "\n",
    "Since we cannot condition on the true biological model that generated our data, should must treat model choice as uncertain. We define two competing hypotheses about the mixture structure underlying our genetic data:"
   ]
  },
  {
   "cell_type": "code",
   "execution_count": 67,
   "id": "685cb1ad",
   "metadata": {
    "vscode": {
     "languageId": "r"
    }
   },
   "outputs": [],
   "source": [
    "# Define component covariance matrices (scaled by effect_scale^2)\n",
    "models <- list(\n",
    "  M0 = matrix(c(0, 0, 0, 0), 2, 2),           # Null\n",
    "  M1 = matrix(c(1, 0, 0, 0), 2, 2),           # Height only\n",
    "  M2 = matrix(c(0, 0, 0, 1), 2, 2),           # Weight only  \n",
    "  M3 = matrix(c(1, 1, 1, 1), 2, 2),           # Perfect correlation\n",
    "  M4 = matrix(c(1, 0.1, 0.1, 1), 2, 2),       # Weak correlation\n",
    "  M5 = matrix(c(1, 0.5, 0.5, 1), 2, 2),       # Medium correlation\n",
    "  M6 = matrix(c(1, 0.8, 0.8, 1), 2, 2)        # Strong correlation\n",
    ")\n",
    "\n",
    "# Since we cannot condition on which components exist in nature, \n",
    "# we compare two competing mixture hypotheses:\n",
    "no_pleiotropy_components <- c(\"M0\", \"M1\", \"M2\")  # Single-trait effects only\n",
    "pleiotropy_components <- c(\"M3\", \"M4\", \"M5\", \"M6\")  # Multi-trait effects\n",
    "\n",
    "# These weights represent our prior uncertainty about component frequencies\n",
    "no_pleiotropy_weights <- c(0.2, 0.5, 0.3)  \n",
    "pleiotropy_weights <- c(0.25, 0.25, 0.25, 0.25)\n",
    "\n",
    "effect_scale <- ES_sd  # Use same scale as data generation"
   ]
  },
  {
   "cell_type": "markdown",
   "id": "0f763fc4",
   "metadata": {},
   "source": [
    "**Key insight**: Since we cannot condition on which biological mechanisms actually exist, we must quantify our uncertainty by comparing models that make different assumptions about the presence of pleiotropic effects.\n"
   ]
  },
  {
   "cell_type": "markdown",
   "id": "49c942e5",
   "metadata": {},
   "source": [
    "### Computing Marginal Likelihoods\n",
    "\n",
    "When we cannot condition on the true parameter values, we must integrate over all possibilities to compute marginal likelihoods. This integration captures our uncertainty about parameters within each model:"
   ]
  },
  {
   "cell_type": "code",
   "execution_count": 68,
   "id": "ea21fb9f",
   "metadata": {
    "vscode": {
     "languageId": "r"
    }
   },
   "outputs": [],
   "source": [
    "# Function to compute log-likelihood when we condition on specific beta values\n",
    "log_likelihood_variant <- function(beta, genotypes_variant, phenotypes, residual_cov) {\n",
    "  n <- nrow(phenotypes)\n",
    "  ll <- 0\n",
    "  baseline <- c(0, 0)\n",
    "  \n",
    "  for (i in 1:n) {\n",
    "    pred <- baseline + genotypes_variant[i] * beta\n",
    "    diff <- phenotypes[i, ] - pred\n",
    "    ll <- ll - 0.5 * t(diff) %*% solve(residual_cov) %*% diff - \n",
    "          0.5 * log(det(2 * pi * residual_cov))\n",
    "  }\n",
    "  return(as.numeric(ll))\n",
    "}\n",
    "\n",
    "# Function to compute prior probability when we condition on specific beta values\n",
    "log_prior <- function(beta, component_name, scale = effect_scale) {\n",
    "  cov_matrix <- models[[component_name]] * scale^2\n",
    "  \n",
    "  if (all(cov_matrix == 0)) {\n",
    "    return(ifelse(all(abs(beta) < 0.01), 0, -Inf))\n",
    "  }\n",
    "  \n",
    "  cov_matrix <- cov_matrix + diag(0.01, 2)  # Numerical stability\n",
    "  lp <- -0.5 * t(beta) %*% solve(cov_matrix) %*% beta - \n",
    "        0.5 * log(det(2 * pi * cov_matrix))\n",
    "  return(as.numeric(lp))\n",
    "}\n",
    "\n",
    "# The key challenge: since we cannot condition on beta, we must integrate\n",
    "compute_component_marginal_likelihood <- function(component_name, genotypes_variant, phenotypes_variant, residual_cov) {\n",
    "  if (component_name == \"M0\") {\n",
    "    # Null model: we can condition on beta = (0, 0)\n",
    "    beta <- c(0, 0)\n",
    "    ll <- log_likelihood_variant(beta, genotypes_variant, phenotypes_variant, residual_cov)\n",
    "    lp <- log_prior(beta, component_name)\n",
    "    return(ll + lp)\n",
    "  }\n",
    "  \n",
    "  # For non-null components: cannot condition on beta, so we integrate\n",
    "  # This integration reflects our uncertainty about parameter values\n",
    "  beta_range <- seq(-2, 2, length.out = 30)\n",
    "  grid <- expand.grid(beta_height = beta_range, beta_weight = beta_range)\n",
    "  \n",
    "  log_integrand_values <- numeric(nrow(grid))\n",
    "  \n",
    "  for (i in 1:nrow(grid)) {\n",
    "    beta <- c(grid$beta_height[i], grid$beta_weight[i])\n",
    "    ll <- log_likelihood_variant(beta, genotypes_variant, phenotypes_variant, residual_cov)\n",
    "    lp <- log_prior(beta, component_name)\n",
    "    log_integrand_values[i] <- ll + lp\n",
    "  }\n",
    "  \n",
    "  # Numerical integration using log-sum-exp for stability\n",
    "  max_log <- max(log_integrand_values[is.finite(log_integrand_values)])\n",
    "  if (!is.finite(max_log)) return(-Inf)\n",
    "  \n",
    "  log_marginal <- max_log + log(sum(exp(log_integrand_values - max_log), na.rm = TRUE))\n",
    "  grid_spacing <- (beta_range[2] - beta_range[1])^2\n",
    "  return(log_marginal + log(grid_spacing))\n",
    "}"
   ]
  },
  {
   "cell_type": "markdown",
   "id": "5c544dfc",
   "metadata": {},
   "source": [
    "The marginal likelihood computation requires integrating over all possible parameter values because we cannot condition on their true values. This integration naturally penalizes complex models that spread probability too widely."
   ]
  },
  {
   "cell_type": "markdown",
   "id": "b8f2063a",
   "metadata": {},
   "source": [
    "### Analyzing Each Variant\n",
    "\n",
    "Since we cannot condition on which component generated each variant, we compute the evidence for each component for every variant:"
   ]
  },
  {
   "cell_type": "code",
   "execution_count": 69,
   "id": "3b0a733c",
   "metadata": {
    "vscode": {
     "languageId": "r"
    }
   },
   "outputs": [],
   "source": [
    "# Estimate residual covariance (assuming we cannot condition on exact values)\n",
    "residual_var_height <- var(Y[,1]) * (1 - h2)\n",
    "residual_var_weight <- var(Y[,2]) * (1 - h2)\n",
    "residual_cov <- diag(c(residual_var_height, residual_var_weight))\n",
    "\n",
    "# Store marginal likelihoods for uncertainty quantification\n",
    "all_log_marginals <- matrix(NA, M, length(models))\n",
    "colnames(all_log_marginals) <- names(models)\n",
    "\n",
    "# Since we cannot condition on component membership, analyze each variant\n",
    "for(m in 1:M) {\n",
    "  genotypes_m <- X[, m]\n",
    "  phenotypes_m <- Y\n",
    "  \n",
    "  # Compute evidence for each possible component\n",
    "  for(comp in names(models)) {\n",
    "    all_log_marginals[m, comp] <- compute_component_marginal_likelihood(\n",
    "      comp, genotypes_m, phenotypes_m, residual_cov\n",
    "    )\n",
    "  }\n",
    "}\n"
   ]
  },
  {
   "cell_type": "markdown",
   "id": "ed6b6d96",
   "metadata": {},
   "source": [
    "### Quantifying Uncertainty About Component Membership\n",
    "\n",
    "Since we cannot condition on which component each variant belongs to, we compute posterior probabilities that reflect our uncertainty:"
   ]
  },
  {
   "cell_type": "code",
   "execution_count": 70,
   "id": "8e0e8b8e",
   "metadata": {
    "vscode": {
     "languageId": "r"
    }
   },
   "outputs": [],
   "source": [
    "# Convert marginal likelihoods to posterior probabilities\n",
    "variant_posteriors <- matrix(NA, M, length(models))\n",
    "colnames(variant_posteriors) <- names(models)\n",
    "\n",
    "for(m in 1:M) {\n",
    "  log_marg_m <- all_log_marginals[m, ]\n",
    "  \n",
    "  # Normalize to get posterior probabilities over components\n",
    "  max_log <- max(log_marg_m[is.finite(log_marg_m)])\n",
    "  if(is.finite(max_log)) {\n",
    "    probs <- exp(log_marg_m - max_log)\n",
    "    probs[!is.finite(log_marg_m)] <- 0\n",
    "    variant_posteriors[m, ] <- probs / sum(probs)\n",
    "  }\n",
    "}\n",
    "\n",
    "# Aggregate uncertainty about mixture-level hypotheses\n",
    "no_pleio_posteriors <- rowSums(variant_posteriors[, no_pleiotropy_components], na.rm = TRUE)\n",
    "pleio_posteriors <- rowSums(variant_posteriors[, pleiotropy_components], na.rm = TRUE)\n"
   ]
  },
  {
   "cell_type": "markdown",
   "id": "d2cd9e72",
   "metadata": {},
   "source": [
    "### Model-Level Comparison\n",
    "\n",
    "Since we cannot condition on which mixture model is correct, we compare the overall evidence for each hypothesis:"
   ]
  },
  {
   "cell_type": "code",
   "execution_count": 71,
   "id": "240ddc03",
   "metadata": {
    "vscode": {
     "languageId": "r"
    }
   },
   "outputs": [],
   "source": [
    "# Compute total evidence for each mixture model\n",
    "log_ml_no_pleio_total <- 0\n",
    "log_ml_pleio_total <- 0\n",
    "\n",
    "for(m in 1:M) {\n",
    "  # No pleiotropy mixture evidence\n",
    "  no_pleio_components_ml <- all_log_marginals[m, no_pleiotropy_components]\n",
    "  if(any(is.finite(no_pleio_components_ml))) {\n",
    "    max_no_pleio <- max(no_pleio_components_ml[is.finite(no_pleio_components_ml)])\n",
    "    log_ml_no_pleio_m <- max_no_pleio + log(sum(no_pleiotropy_weights * exp(no_pleio_components_ml - max_no_pleio), na.rm = TRUE))\n",
    "    log_ml_no_pleio_total <- log_ml_no_pleio_total + log_ml_no_pleio_m\n",
    "  }\n",
    "  \n",
    "  # Pleiotropy mixture evidence\n",
    "  pleio_components_ml <- all_log_marginals[m, pleiotropy_components]\n",
    "  if(any(is.finite(pleio_components_ml))) {\n",
    "    max_pleio <- max(pleio_components_ml[is.finite(pleio_components_ml)])\n",
    "    log_ml_pleio_m <- max_pleio + log(sum(pleiotropy_weights * exp(pleio_components_ml - max_pleio), na.rm = TRUE))\n",
    "    log_ml_pleio_total <- log_ml_pleio_total + log_ml_pleio_m\n",
    "  }\n",
    "}\n",
    "\n",
    "# Bayes factor quantifies how data updates our uncertainty about models\n",
    "bayes_factor <- exp(log_ml_pleio_total - log_ml_no_pleio_total)\n"
   ]
  },
  {
   "cell_type": "code",
   "execution_count": 72,
   "id": "3c6eefd0",
   "metadata": {
    "vscode": {
     "languageId": "r"
    }
   },
   "outputs": [
    {
     "data": {
      "text/html": [
       "176652722808.239"
      ],
      "text/latex": [
       "176652722808.239"
      ],
      "text/markdown": [
       "176652722808.239"
      ],
      "text/plain": [
       "[1] 176652722808"
      ]
     },
     "metadata": {},
     "output_type": "display_data"
    }
   ],
   "source": [
    "bayes_factor"
   ]
  },
  {
   "cell_type": "markdown",
   "id": "868e4a3f",
   "metadata": {},
   "source": [
    "This suggests strong evidence for pleiotropy."
   ]
  },
  {
   "cell_type": "code",
   "execution_count": 73,
   "id": "de6492be",
   "metadata": {
    "vscode": {
     "languageId": "r"
    }
   },
   "outputs": [
    {
     "name": "stdout",
     "output_type": "stream",
     "text": [
      "\n",
      "Final Uncertainty About Models:\n",
      "P(Pleiotropy | Data) = 1 \n",
      "P(No Pleiotropy | Data) = 0 \n"
     ]
    }
   ],
   "source": [
    "# Final posterior uncertainty about which model is correct\n",
    "prior_prob_equal <- 0.5  # Equal prior uncertainty about models\n",
    "max_log_ml <- max(log_ml_pleio_total, log_ml_no_pleio_total)\n",
    "\n",
    "unnorm_post_pleio <- exp(log_ml_pleio_total - max_log_ml) * prior_prob_equal\n",
    "unnorm_post_no_pleio <- exp(log_ml_no_pleio_total - max_log_ml) * prior_prob_equal\n",
    "\n",
    "total_unnorm <- unnorm_post_pleio + unnorm_post_no_pleio\n",
    "posterior_prob_pleio <- unnorm_post_pleio / total_unnorm\n",
    "posterior_prob_no_pleio <- unnorm_post_no_pleio / total_unnorm\n",
    "\n",
    "cat(\"\\nFinal Uncertainty About Models:\\n\")\n",
    "cat(\"P(Pleiotropy | Data) =\", round(posterior_prob_pleio, 4), \"\\n\")\n",
    "cat(\"P(No Pleiotropy | Data) =\", round(posterior_prob_no_pleio, 4), \"\\n\")"
   ]
  },
  {
   "cell_type": "markdown",
   "id": "33c9873a",
   "metadata": {},
   "source": [
    "# Supplementary\n",
    "\n",
    "## Graphical Summary"
   ]
  },
  {
   "cell_type": "code",
   "execution_count": null,
   "id": "61d1788b",
   "metadata": {
    "vscode": {
     "languageId": "r"
    }
   },
   "outputs": [
    {
     "data": {
      "image/png": "[encoded data removed]",
      "text/plain": [
       "plot without title"
      ]
     },
     "metadata": {
      "image/png": {
       "height": 420,
       "width": 420
      }
     },
     "output_type": "display_data"
    }
   ],
   "source": [
    "library(ggplot2)\n",
    "\n",
    "# Basic model comparison data with unequal priors\n",
    "model_data <- data.frame(\n",
    " Model = c(\"Model 1\", \"Model 2\"),\n",
    " Log_Marginal_Likelihood = c(-152.3, -148.7),\n",
    " Prior_Probability = c(0.7, 0.3)  # Higher prior for Model 1\n",
    ")\n",
    "\n",
    "# Compute Bayes factor and posterior probabilities\n",
    "bayes_factor <- exp(model_data$Log_Marginal_Likelihood[2] - model_data$Log_Marginal_Likelihood[1])\n",
    "unnormalized_posteriors <- exp(model_data$Log_Marginal_Likelihood) * model_data$Prior_Probability\n",
    "posterior_probs <- unnormalized_posteriors / sum(unnormalized_posteriors)\n",
    "\n",
    "# Create plotting data\n",
    "plot_data <- data.frame(\n",
    " Model = rep(c(\"Model 1\", \"Model 2\"), 2),\n",
    " Probability = c(model_data$Prior_Probability, posterior_probs),\n",
    " Type = rep(c(\"Prior\", \"Posterior\"), each = 2)\n",
    ")\n",
    "\n",
    "# Create barplot\n",
    "p <- ggplot(plot_data, aes(x = Model, y = Probability, fill = Type)) +\n",
    " geom_col(position = position_dodge(width = 0.8), width = 0.6, color = \"black\", linewidth = 1.2) +\n",
    " geom_text(aes(label = round(Probability, 3)), \n",
    "           position = position_dodge(width = 0.8), vjust = -0.5, size = 6, fontface = \"bold\") +\n",
    " scale_fill_manual(values = c(\"Prior\" = \"tomato\", \"Posterior\" = \"skyblue\")) +\n",
    " labs(\n",
    "   title = \"Bayesian Model Comparison\",\n",
    "   subtitle = paste(\"Bayes Factor (Model 2 vs Model 1) =\", round(bayes_factor, 2)),\n",
    "   y = \"Probability\",\n",
    "   x = \"Model\",\n",
    "   fill = \"Type\"\n",
    " ) +\n",
    " ylim(0, 1.05) +\n",
    " theme_minimal(base_size = 20) +\n",
    " theme(\n",
    "   plot.title = element_text(hjust = 0.5, face = \"bold\"),\n",
    "   plot.subtitle = element_text(hjust = 0.5, face = \"bold\"),\n",
    "   axis.title.y = element_text(face = \"bold\"),\n",
    "   axis.title.x = element_text(face = \"bold\"),\n",
    "   axis.text.x = element_text(face = \"bold\"),\n",
    "   axis.text.y = element_text(face = \"bold\"),\n",
    "   legend.title = element_text(face = \"bold\"),\n",
    "   legend.text = element_text(face = \"bold\"),\n",
    "   legend.position = \"bottom\"\n",
    " )\n",
    "\n",
    "print(p)\n",
    "\n",
    "# Save the plot\n",
    "ggsave(\"./cartoons/Bayesian_model_comparison.png\", plot = p,\n",
    "      width = 10, height = 6, \n",
    "      bg = \"transparent\",\n",
    "      dpi = 300)"
   ]
  },
  {
   "cell_type": "code",
   "execution_count": null,
   "id": "d84b5d9d",
   "metadata": {
    "vscode": {
     "languageId": "r"
    }
   },
   "outputs": [],
   "source": []
  }
 ],
 "metadata": {
  "kernelspec": {
   "display_name": "R",
   "language": "R",
   "name": "ir"
  },
  "language_info": {
   "codemirror_mode": "r",
   "file_extension": ".r",
   "mimetype": "text/x-r-source",
   "name": "R",
   "pygments_lexer": "r",
   "version": "4.3.3"
  }
 },
 "nbformat": 4,
 "nbformat_minor": 5
}
